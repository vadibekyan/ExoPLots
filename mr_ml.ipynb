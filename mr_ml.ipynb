{
 "cells": [
  {
   "attachments": {},
   "cell_type": "markdown",
   "metadata": {},
   "source": [
    "# Importing the libraries and seting the paths"
   ]
  },
  {
   "cell_type": "code",
   "execution_count": 77,
   "metadata": {},
   "outputs": [],
   "source": [
    "from utils import open_nea_table, download_nea_table\n",
    "from mass_year import mass_vs_year_plot, planet_discovery_stat\n",
    "import pandas as pd\n",
    "import numpy as np\n",
    "import os\n",
    "import sys\n",
    "from datetime import date\n",
    "import math\n",
    "\n",
    "from mr_ml_utils import a_from_P, Teq_from_teff_v_plx_a, Teq_from_teff_v_plx_P, teq_hellper_function, a_from_P"
   ]
  },
  {
   "attachments": {},
   "cell_type": "markdown",
   "metadata": {},
   "source": [
    "If needed to update the NEA table then first run  \"download_nea_table\""
   ]
  },
  {
   "cell_type": "code",
   "execution_count": 78,
   "metadata": {},
   "outputs": [
    {
     "name": "stderr",
     "output_type": "stream",
     "text": [
      "/home/vadibekyan/my_github/ExoPLots/utils.py:52: DtypeWarning:\n",
      "\n",
      "Columns (65,187) have mixed types. Specify dtype option on import or set low_memory=False.\n",
      "\n"
     ]
    },
    {
     "data": {
      "text/html": [
       "<div>\n",
       "<style scoped>\n",
       "    .dataframe tbody tr th:only-of-type {\n",
       "        vertical-align: middle;\n",
       "    }\n",
       "\n",
       "    .dataframe tbody tr th {\n",
       "        vertical-align: top;\n",
       "    }\n",
       "\n",
       "    .dataframe thead th {\n",
       "        text-align: right;\n",
       "    }\n",
       "</style>\n",
       "<table border=\"1\" class=\"dataframe\">\n",
       "  <thead>\n",
       "    <tr style=\"text-align: right;\">\n",
       "      <th></th>\n",
       "      <th>pl_name</th>\n",
       "      <th>pl_letter</th>\n",
       "      <th>hostname</th>\n",
       "      <th>hd_name</th>\n",
       "      <th>hip_name</th>\n",
       "      <th>tic_id</th>\n",
       "      <th>gaia_id</th>\n",
       "      <th>default_flag</th>\n",
       "      <th>pl_refname</th>\n",
       "      <th>sy_refname</th>\n",
       "      <th>...</th>\n",
       "      <th>sy_jmagerr1</th>\n",
       "      <th>sy_jmagerr2</th>\n",
       "      <th>sy_jmagstr</th>\n",
       "      <th>sy_hmag</th>\n",
       "      <th>sy_hmagerr1</th>\n",
       "      <th>sy_hmagerr2</th>\n",
       "      <th>sy_hmagstr</th>\n",
       "      <th>sy_kmag</th>\n",
       "      <th>sy_kmagerr1</th>\n",
       "      <th>sy_kmagerr2</th>\n",
       "    </tr>\n",
       "  </thead>\n",
       "  <tbody>\n",
       "    <tr>\n",
       "      <th>0</th>\n",
       "      <td>OGLE-TR-10 b</td>\n",
       "      <td>b</td>\n",
       "      <td>OGLE-TR-10</td>\n",
       "      <td>NaN</td>\n",
       "      <td>NaN</td>\n",
       "      <td>TIC 130150682</td>\n",
       "      <td>Gaia DR2 4056443366649948160</td>\n",
       "      <td>1</td>\n",
       "      <td>&lt;a refstr=TORRES_ET_AL__2008 href=https://ui.a...</td>\n",
       "      <td>&lt;a refstr=STASSUN_ET_AL__2019 href=https://ui....</td>\n",
       "      <td>...</td>\n",
       "      <td>NaN</td>\n",
       "      <td>NaN</td>\n",
       "      <td>13.692</td>\n",
       "      <td>13.314</td>\n",
       "      <td>0.121</td>\n",
       "      <td>-0.121</td>\n",
       "      <td>13.314&amp;plusmn;0.121</td>\n",
       "      <td>12.856</td>\n",
       "      <td>NaN</td>\n",
       "      <td>NaN</td>\n",
       "    </tr>\n",
       "    <tr>\n",
       "      <th>1</th>\n",
       "      <td>BD-08 2823 c</td>\n",
       "      <td>c</td>\n",
       "      <td>BD-08 2823</td>\n",
       "      <td>NaN</td>\n",
       "      <td>HIP 49067</td>\n",
       "      <td>TIC 33355302</td>\n",
       "      <td>Gaia DR2 3770419611540574080</td>\n",
       "      <td>1</td>\n",
       "      <td>&lt;a refstr=HEBRARD_ET_AL__2010 href=https://ui....</td>\n",
       "      <td>&lt;a refstr=STASSUN_ET_AL__2019 href=https://ui....</td>\n",
       "      <td>...</td>\n",
       "      <td>0.020</td>\n",
       "      <td>-0.020</td>\n",
       "      <td>7.96&amp;plusmn;0.02</td>\n",
       "      <td>7.498</td>\n",
       "      <td>0.047</td>\n",
       "      <td>-0.047</td>\n",
       "      <td>7.498&amp;plusmn;0.047</td>\n",
       "      <td>7.323</td>\n",
       "      <td>0.021</td>\n",
       "      <td>-0.021</td>\n",
       "    </tr>\n",
       "    <tr>\n",
       "      <th>2</th>\n",
       "      <td>HR 8799 c</td>\n",
       "      <td>c</td>\n",
       "      <td>HR 8799</td>\n",
       "      <td>HD 218396</td>\n",
       "      <td>HIP 114189</td>\n",
       "      <td>TIC 245368902</td>\n",
       "      <td>Gaia DR2 2832463659640297472</td>\n",
       "      <td>1</td>\n",
       "      <td>&lt;a refstr=MAROIS_ET_AL__2008 href=https://ui.a...</td>\n",
       "      <td>&lt;a refstr=STASSUN_ET_AL__2019 href=https://ui....</td>\n",
       "      <td>...</td>\n",
       "      <td>0.027</td>\n",
       "      <td>-0.027</td>\n",
       "      <td>5.383&amp;plusmn;0.027</td>\n",
       "      <td>5.280</td>\n",
       "      <td>0.018</td>\n",
       "      <td>-0.018</td>\n",
       "      <td>5.280&amp;plusmn;0.018</td>\n",
       "      <td>5.240</td>\n",
       "      <td>0.018</td>\n",
       "      <td>-0.018</td>\n",
       "    </tr>\n",
       "  </tbody>\n",
       "</table>\n",
       "<p>3 rows × 353 columns</p>\n",
       "</div>"
      ],
      "text/plain": [
       "        pl_name pl_letter    hostname    hd_name    hip_name         tic_id  \\\n",
       "0  OGLE-TR-10 b         b  OGLE-TR-10        NaN         NaN  TIC 130150682   \n",
       "1  BD-08 2823 c         c  BD-08 2823        NaN   HIP 49067   TIC 33355302   \n",
       "2     HR 8799 c         c     HR 8799  HD 218396  HIP 114189  TIC 245368902   \n",
       "\n",
       "                        gaia_id  default_flag  \\\n",
       "0  Gaia DR2 4056443366649948160             1   \n",
       "1  Gaia DR2 3770419611540574080             1   \n",
       "2  Gaia DR2 2832463659640297472             1   \n",
       "\n",
       "                                          pl_refname  \\\n",
       "0  <a refstr=TORRES_ET_AL__2008 href=https://ui.a...   \n",
       "1  <a refstr=HEBRARD_ET_AL__2010 href=https://ui....   \n",
       "2  <a refstr=MAROIS_ET_AL__2008 href=https://ui.a...   \n",
       "\n",
       "                                          sy_refname  ... sy_jmagerr1  \\\n",
       "0  <a refstr=STASSUN_ET_AL__2019 href=https://ui....  ...         NaN   \n",
       "1  <a refstr=STASSUN_ET_AL__2019 href=https://ui....  ...       0.020   \n",
       "2  <a refstr=STASSUN_ET_AL__2019 href=https://ui....  ...       0.027   \n",
       "\n",
       "   sy_jmagerr2          sy_jmagstr sy_hmag sy_hmagerr1 sy_hmagerr2  \\\n",
       "0          NaN              13.692  13.314       0.121      -0.121   \n",
       "1       -0.020    7.96&plusmn;0.02   7.498       0.047      -0.047   \n",
       "2       -0.027  5.383&plusmn;0.027   5.280       0.018      -0.018   \n",
       "\n",
       "            sy_hmagstr sy_kmag  sy_kmagerr1 sy_kmagerr2  \n",
       "0  13.314&plusmn;0.121  12.856          NaN         NaN  \n",
       "1   7.498&plusmn;0.047   7.323        0.021      -0.021  \n",
       "2   5.280&plusmn;0.018   5.240        0.018      -0.018  \n",
       "\n",
       "[3 rows x 353 columns]"
      ]
     },
     "execution_count": 78,
     "metadata": {},
     "output_type": "execute_result"
    }
   ],
   "source": [
    "nea_full_table = open_nea_table()\n",
    "nea_full_table.head(3)"
   ]
  },
  {
   "cell_type": "code",
   "execution_count": 79,
   "metadata": {},
   "outputs": [
    {
     "data": {
      "text/plain": [
       "array(['pl_name', 'pl_letter', 'hostname', 'hd_name', 'hip_name',\n",
       "       'tic_id', 'gaia_id', 'default_flag', 'pl_refname', 'sy_refname',\n",
       "       'disc_pubdate', 'disc_year', 'discoverymethod', 'disc_locale',\n",
       "       'disc_facility', 'disc_instrument', 'disc_telescope',\n",
       "       'disc_refname', 'ra', 'rastr', 'dec', 'decstr', 'glon', 'glat',\n",
       "       'elon', 'elat', 'pl_orbper', 'pl_orbpererr1', 'pl_orbpererr2',\n",
       "       'pl_orbperlim', 'pl_orbperstr', 'pl_orblpererr1', 'pl_orblper',\n",
       "       'pl_orblpererr2', 'pl_orblperlim', 'pl_orblperstr', 'pl_orbsmax',\n",
       "       'pl_orbsmaxerr1', 'pl_orbsmaxerr2', 'pl_orbsmaxlim',\n",
       "       'pl_orbsmaxstr', 'pl_orbincl', 'pl_orbinclerr1', 'pl_orbinclerr2',\n",
       "       'pl_orbincllim', 'pl_orbinclstr', 'pl_orbtper', 'pl_orbtpererr1',\n",
       "       'pl_orbtpererr2', 'pl_orbtperlim', 'pl_orbtperstr', 'pl_orbeccen',\n",
       "       'pl_orbeccenerr1', 'pl_orbeccenerr2', 'pl_orbeccenlim',\n",
       "       'pl_orbeccenstr', 'pl_eqt', 'pl_eqterr1', 'pl_eqterr2',\n",
       "       'pl_eqtlim', 'pl_eqtstr', 'pl_occdep', 'pl_occdeperr1',\n",
       "       'pl_occdeperr2', 'pl_occdeplim', 'pl_occdepstr', 'pl_insol',\n",
       "       'pl_insolerr1', 'pl_insolerr2', 'pl_insollim', 'pl_insolstr',\n",
       "       'pl_dens', 'pl_denserr1', 'pl_denserr2', 'pl_denslim',\n",
       "       'pl_densstr', 'pl_trandep', 'pl_trandeperr1', 'pl_trandeperr2',\n",
       "       'pl_trandeplim', 'pl_trandepstr', 'pl_tranmid', 'pl_tranmiderr1',\n",
       "       'pl_tranmiderr2', 'pl_tranmidlim', 'pl_tranmidstr', 'pl_trandur',\n",
       "       'pl_trandurerr1', 'pl_trandurerr2', 'pl_trandurlim',\n",
       "       'pl_trandurstr', 'sy_kmagstr', 'sy_umag', 'sy_umagerr1',\n",
       "       'sy_umagerr2', 'sy_umagstr', 'sy_rmag', 'sy_rmagerr1',\n",
       "       'sy_rmagerr2', 'sy_rmagstr', 'sy_imag', 'sy_imagerr1',\n",
       "       'sy_imagerr2', 'sy_imagstr', 'sy_zmag', 'sy_zmagerr1',\n",
       "       'sy_zmagerr2', 'sy_zmagstr', 'sy_w1mag', 'sy_w1magerr1',\n",
       "       'sy_w1magerr2', 'sy_w1magstr', 'sy_w2mag', 'sy_w2magerr1',\n",
       "       'sy_w2magerr2', 'sy_w2magstr', 'sy_w3mag', 'sy_w3magerr1',\n",
       "       'sy_w3magerr2', 'sy_w3magstr', 'sy_w4mag', 'sy_w4magerr1',\n",
       "       'sy_w4magerr2', 'sy_w4magstr', 'sy_gmag', 'sy_gmagerr1',\n",
       "       'sy_gmagerr2', 'sy_gmagstr', 'sy_gaiamag', 'sy_gaiamagerr1',\n",
       "       'sy_gaiamagerr2', 'sy_gaiamagstr', 'sy_tmag', 'sy_tmagerr1',\n",
       "       'sy_tmagerr2', 'sy_tmagstr', 'pl_controv_flag', 'pl_tsystemref',\n",
       "       'st_metratio', 'st_spectype', 'sy_kepmag', 'sy_kepmagerr1',\n",
       "       'sy_kepmagerr2', 'sy_kepmagstr', 'st_rotp', 'st_rotperr1',\n",
       "       'st_rotperr2', 'st_rotplim', 'st_rotpstr', 'pl_projobliq',\n",
       "       'pl_projobliqerr1', 'pl_projobliqerr2', 'pl_projobliqlim',\n",
       "       'pl_projobliqstr', 'x', 'y', 'z', 'htm20', 'pl_rvamp',\n",
       "       'pl_rvamperr1', 'pl_rvamperr2', 'pl_rvamplim', 'pl_rvampstr',\n",
       "       'pl_radj', 'pl_radjerr1', 'pl_radjerr2', 'pl_radjlim',\n",
       "       'pl_radjstr', 'pl_rade', 'pl_radeerr1', 'pl_radeerr2',\n",
       "       'pl_radelim', 'pl_radestr', 'pl_ratror', 'pl_ratrorerr1',\n",
       "       'pl_ratrorerr2', 'pl_ratrorlim', 'pl_ratrorstr', 'pl_ratdor',\n",
       "       'pl_trueobliq', 'pl_trueobliqerr1', 'pl_trueobliqerr2',\n",
       "       'pl_trueobliqlim', 'pl_trueobliqstr', 'sy_icmag', 'sy_icmagerr1',\n",
       "       'sy_icmagerr2', 'sy_icmagstr', 'rowupdate', 'pl_pubdate',\n",
       "       'st_refname', 'releasedate', 'dkin_flag', 'pl_ratdorerr1',\n",
       "       'pl_ratdorerr2', 'pl_ratdorlim', 'pl_ratdorstr', 'pl_imppar',\n",
       "       'pl_impparerr1', 'pl_impparerr2', 'pl_impparlim', 'pl_impparstr',\n",
       "       'pl_cmassj', 'pl_cmassjerr1', 'pl_cmassjerr2', 'pl_cmassjlim',\n",
       "       'pl_cmassjstr', 'pl_cmasse', 'pl_cmasseerr1', 'pl_cmasseerr2',\n",
       "       'pl_cmasselim', 'pl_cmassestr', 'pl_massj', 'pl_massjerr1',\n",
       "       'pl_massjerr2', 'pl_massjlim', 'pl_massjstr', 'pl_masse',\n",
       "       'pl_masseerr1', 'pl_masseerr2', 'pl_masselim', 'pl_massestr',\n",
       "       'pl_bmassj', 'pl_bmassjerr1', 'pl_bmassjerr2', 'pl_bmassjlim',\n",
       "       'pl_bmassjstr', 'pl_bmasse', 'pl_bmasseerr1', 'pl_bmasseerr2',\n",
       "       'pl_bmasselim', 'pl_bmassestr', 'pl_bmassprov', 'pl_msinij',\n",
       "       'pl_msinijerr1', 'pl_msinijerr2', 'pl_msinijlim', 'pl_msinijstr',\n",
       "       'pl_msinie', 'pl_msinieerr1', 'pl_msinieerr2', 'pl_msinielim',\n",
       "       'pl_msiniestr', 'st_teff', 'st_tefferr1', 'st_tefferr2',\n",
       "       'st_tefflim', 'st_teffstr', 'st_met', 'st_meterr1', 'st_meterr2',\n",
       "       'st_metlim', 'st_metstr', 'st_radv', 'st_radverr1', 'st_radverr2',\n",
       "       'st_radvlim', 'st_radvstr', 'st_vsin', 'st_vsinerr1',\n",
       "       'st_vsinerr2', 'st_vsinlim', 'st_vsinstr', 'st_lum', 'st_lumerr1',\n",
       "       'st_lumerr2', 'st_lumlim', 'st_lumstr', 'st_logg', 'st_loggerr1',\n",
       "       'st_loggerr2', 'st_logglim', 'st_loggstr', 'st_age', 'st_ageerr1',\n",
       "       'st_ageerr2', 'st_agelim', 'st_agestr', 'st_mass', 'st_masserr1',\n",
       "       'st_masserr2', 'st_masslim', 'st_massstr', 'st_dens',\n",
       "       'st_denserr1', 'st_denserr2', 'st_denslim', 'st_densstr', 'st_rad',\n",
       "       'st_raderr1', 'st_raderr2', 'st_radlim', 'st_radstr', 'ttv_flag',\n",
       "       'ptv_flag', 'tran_flag', 'rv_flag', 'ast_flag', 'obm_flag',\n",
       "       'micro_flag', 'etv_flag', 'ima_flag', 'pul_flag', 'soltype',\n",
       "       'sy_snum', 'sy_pnum', 'sy_mnum', 'cb_flag', 'st_nphot', 'st_nrvc',\n",
       "       'st_nspec', 'pl_nespec', 'pl_ntranspec', 'pl_nnotes', 'sy_pm',\n",
       "       'sy_pmerr1', 'sy_pmerr2', 'sy_pmstr', 'sy_pmra', 'sy_pmraerr1',\n",
       "       'sy_pmraerr2', 'sy_pmrastr', 'sy_pmdec', 'sy_pmdecerr1',\n",
       "       'sy_pmdecerr2', 'sy_pmdecstr', 'sy_plx', 'sy_plxerr1',\n",
       "       'sy_plxerr2', 'sy_plxstr', 'sy_dist', 'sy_disterr1', 'sy_disterr2',\n",
       "       'sy_diststr', 'sy_bmag', 'sy_bmagerr1', 'sy_bmagerr2',\n",
       "       'sy_bmagstr', 'sy_vmag', 'sy_vmagerr1', 'sy_vmagerr2',\n",
       "       'sy_vmagstr', 'sy_jmag', 'sy_jmagerr1', 'sy_jmagerr2',\n",
       "       'sy_jmagstr', 'sy_hmag', 'sy_hmagerr1', 'sy_hmagerr2',\n",
       "       'sy_hmagstr', 'sy_kmag', 'sy_kmagerr1', 'sy_kmagerr2'],\n",
       "      dtype=object)"
      ]
     },
     "execution_count": 79,
     "metadata": {},
     "output_type": "execute_result"
    }
   ],
   "source": [
    "nea_full_table.columns.values"
   ]
  },
  {
   "attachments": {},
   "cell_type": "markdown",
   "metadata": {},
   "source": [
    "# Selecting columns that are relevant for the ML analysis"
   ]
  },
  {
   "cell_type": "code",
   "execution_count": 80,
   "metadata": {},
   "outputs": [],
   "source": [
    "relevant_columns = ['pl_rade', 'pl_radeerr1', 'pl_radeerr2', 'pl_orbsmax', 'pl_bmasse', 'pl_masseerr1', 'pl_masseerr2', 'pl_orbper',  'sy_vmag', 'sy_plx', 'st_teff', 'st_mass']\n",
    "nea_relevant = nea_full_table[relevant_columns]\n"
   ]
  },
  {
   "attachments": {},
   "cell_type": "markdown",
   "metadata": {},
   "source": [
    "### Equilibrium temperature is important for the radius of hot planets. "
   ]
  },
  {
   "attachments": {},
   "cell_type": "markdown",
   "metadata": {},
   "source": [
    "Selecting planets with Mass and Radius measurements for ML"
   ]
  },
  {
   "cell_type": "code",
   "execution_count": 81,
   "metadata": {},
   "outputs": [
    {
     "name": "stdout",
     "output_type": "stream",
     "text": [
      "There are 1113 planets with mass and radius measurements\n"
     ]
    },
    {
     "data": {
      "text/html": [
       "<div>\n",
       "<style scoped>\n",
       "    .dataframe tbody tr th:only-of-type {\n",
       "        vertical-align: middle;\n",
       "    }\n",
       "\n",
       "    .dataframe tbody tr th {\n",
       "        vertical-align: top;\n",
       "    }\n",
       "\n",
       "    .dataframe thead th {\n",
       "        text-align: right;\n",
       "    }\n",
       "</style>\n",
       "<table border=\"1\" class=\"dataframe\">\n",
       "  <thead>\n",
       "    <tr style=\"text-align: right;\">\n",
       "      <th></th>\n",
       "      <th>pl_rade</th>\n",
       "      <th>pl_radeerr1</th>\n",
       "      <th>pl_radeerr2</th>\n",
       "      <th>pl_orbsmax</th>\n",
       "      <th>pl_bmasse</th>\n",
       "      <th>pl_masseerr1</th>\n",
       "      <th>pl_masseerr2</th>\n",
       "      <th>pl_orbper</th>\n",
       "      <th>sy_vmag</th>\n",
       "      <th>sy_plx</th>\n",
       "      <th>st_teff</th>\n",
       "      <th>st_mass</th>\n",
       "    </tr>\n",
       "  </thead>\n",
       "  <tbody>\n",
       "    <tr>\n",
       "      <th>count</th>\n",
       "      <td>1113.000000</td>\n",
       "      <td>1089.000000</td>\n",
       "      <td>1089.000000</td>\n",
       "      <td>878.000000</td>\n",
       "      <td>1113.000000</td>\n",
       "      <td>993.000000</td>\n",
       "      <td>993.000000</td>\n",
       "      <td>1.098000e+03</td>\n",
       "      <td>1110.000000</td>\n",
       "      <td>1085.000000</td>\n",
       "      <td>1032.000000</td>\n",
       "      <td>1100.000000</td>\n",
       "    </tr>\n",
       "    <tr>\n",
       "      <th>mean</th>\n",
       "      <td>8.967707</td>\n",
       "      <td>0.663302</td>\n",
       "      <td>-0.575284</td>\n",
       "      <td>17.160037</td>\n",
       "      <td>420.861732</td>\n",
       "      <td>62.765269</td>\n",
       "      <td>-59.203874</td>\n",
       "      <td>3.790530e+05</td>\n",
       "      <td>12.274946</td>\n",
       "      <td>9.295143</td>\n",
       "      <td>5483.824806</td>\n",
       "      <td>1.003882</td>\n",
       "    </tr>\n",
       "    <tr>\n",
       "      <th>std</th>\n",
       "      <td>6.083019</td>\n",
       "      <td>1.022459</td>\n",
       "      <td>0.798818</td>\n",
       "      <td>272.583363</td>\n",
       "      <td>963.110129</td>\n",
       "      <td>243.492003</td>\n",
       "      <td>229.348953</td>\n",
       "      <td>1.213509e+07</td>\n",
       "      <td>2.171725</td>\n",
       "      <td>17.976954</td>\n",
       "      <td>1361.837200</td>\n",
       "      <td>0.345527</td>\n",
       "    </tr>\n",
       "    <tr>\n",
       "      <th>min</th>\n",
       "      <td>0.310000</td>\n",
       "      <td>0.006000</td>\n",
       "      <td>-6.730000</td>\n",
       "      <td>0.006000</td>\n",
       "      <td>0.070000</td>\n",
       "      <td>0.012000</td>\n",
       "      <td>-4767.450000</td>\n",
       "      <td>2.401040e-01</td>\n",
       "      <td>5.569110</td>\n",
       "      <td>-0.149186</td>\n",
       "      <td>575.000000</td>\n",
       "      <td>0.010000</td>\n",
       "    </tr>\n",
       "    <tr>\n",
       "      <th>25%</th>\n",
       "      <td>2.630000</td>\n",
       "      <td>0.119000</td>\n",
       "      <td>-0.695000</td>\n",
       "      <td>0.037958</td>\n",
       "      <td>10.100000</td>\n",
       "      <td>2.120000</td>\n",
       "      <td>-41.317900</td>\n",
       "      <td>3.003277e+00</td>\n",
       "      <td>11.012500</td>\n",
       "      <td>1.939290</td>\n",
       "      <td>5016.000000</td>\n",
       "      <td>0.820000</td>\n",
       "    </tr>\n",
       "    <tr>\n",
       "      <th>50%</th>\n",
       "      <td>10.447000</td>\n",
       "      <td>0.336000</td>\n",
       "      <td>-0.325000</td>\n",
       "      <td>0.053735</td>\n",
       "      <td>126.496340</td>\n",
       "      <td>14.937940</td>\n",
       "      <td>-14.302350</td>\n",
       "      <td>4.603155e+00</td>\n",
       "      <td>12.247000</td>\n",
       "      <td>3.516790</td>\n",
       "      <td>5620.000000</td>\n",
       "      <td>1.000000</td>\n",
       "    </tr>\n",
       "    <tr>\n",
       "      <th>75%</th>\n",
       "      <td>13.787000</td>\n",
       "      <td>0.785000</td>\n",
       "      <td>-0.110000</td>\n",
       "      <td>0.100075</td>\n",
       "      <td>379.000000</td>\n",
       "      <td>43.541000</td>\n",
       "      <td>-2.000000</td>\n",
       "      <td>1.189179e+01</td>\n",
       "      <td>13.688000</td>\n",
       "      <td>7.961470</td>\n",
       "      <td>6009.000000</td>\n",
       "      <td>1.180000</td>\n",
       "    </tr>\n",
       "    <tr>\n",
       "      <th>max</th>\n",
       "      <td>33.600000</td>\n",
       "      <td>10.536000</td>\n",
       "      <td>0.000000</td>\n",
       "      <td>7506.000000</td>\n",
       "      <td>9534.900000</td>\n",
       "      <td>4767.450000</td>\n",
       "      <td>-0.012000</td>\n",
       "      <td>4.020000e+08</td>\n",
       "      <td>20.154400</td>\n",
       "      <td>153.081000</td>\n",
       "      <td>27730.000000</td>\n",
       "      <td>2.780000</td>\n",
       "    </tr>\n",
       "  </tbody>\n",
       "</table>\n",
       "</div>"
      ],
      "text/plain": [
       "           pl_rade  pl_radeerr1  pl_radeerr2   pl_orbsmax    pl_bmasse  \\\n",
       "count  1113.000000  1089.000000  1089.000000   878.000000  1113.000000   \n",
       "mean      8.967707     0.663302    -0.575284    17.160037   420.861732   \n",
       "std       6.083019     1.022459     0.798818   272.583363   963.110129   \n",
       "min       0.310000     0.006000    -6.730000     0.006000     0.070000   \n",
       "25%       2.630000     0.119000    -0.695000     0.037958    10.100000   \n",
       "50%      10.447000     0.336000    -0.325000     0.053735   126.496340   \n",
       "75%      13.787000     0.785000    -0.110000     0.100075   379.000000   \n",
       "max      33.600000    10.536000     0.000000  7506.000000  9534.900000   \n",
       "\n",
       "       pl_masseerr1  pl_masseerr2     pl_orbper      sy_vmag       sy_plx  \\\n",
       "count    993.000000    993.000000  1.098000e+03  1110.000000  1085.000000   \n",
       "mean      62.765269    -59.203874  3.790530e+05    12.274946     9.295143   \n",
       "std      243.492003    229.348953  1.213509e+07     2.171725    17.976954   \n",
       "min        0.012000  -4767.450000  2.401040e-01     5.569110    -0.149186   \n",
       "25%        2.120000    -41.317900  3.003277e+00    11.012500     1.939290   \n",
       "50%       14.937940    -14.302350  4.603155e+00    12.247000     3.516790   \n",
       "75%       43.541000     -2.000000  1.189179e+01    13.688000     7.961470   \n",
       "max     4767.450000     -0.012000  4.020000e+08    20.154400   153.081000   \n",
       "\n",
       "            st_teff      st_mass  \n",
       "count   1032.000000  1100.000000  \n",
       "mean    5483.824806     1.003882  \n",
       "std     1361.837200     0.345527  \n",
       "min      575.000000     0.010000  \n",
       "25%     5016.000000     0.820000  \n",
       "50%     5620.000000     1.000000  \n",
       "75%     6009.000000     1.180000  \n",
       "max    27730.000000     2.780000  "
      ]
     },
     "execution_count": 81,
     "metadata": {},
     "output_type": "execute_result"
    }
   ],
   "source": [
    "nea_with_M_and_R = nea_relevant[(nea_relevant.pl_bmasse > 0) & (nea_relevant.pl_rade > 0) ].reset_index(drop=True) # reset index, drop old ones\n",
    "\n",
    "print (f'There are {len(nea_with_M_and_R)} planets with mass and radius measurements')\n",
    "\n",
    "nea_with_M_and_R.describe()"
   ]
  },
  {
   "attachments": {},
   "cell_type": "markdown",
   "metadata": {},
   "source": [
    "There seem to be star(s) with negative parallaxes. They must be removed fromthe sample"
   ]
  },
  {
   "cell_type": "code",
   "execution_count": 82,
   "metadata": {},
   "outputs": [],
   "source": [
    "nea_with_M_and_R = nea_with_M_and_R[nea_with_M_and_R.sy_plx > 0]"
   ]
  },
  {
   "attachments": {},
   "cell_type": "markdown",
   "metadata": {},
   "source": [
    "To calculate Teq, one needs Luminosity (us such, Teff, Vmag, and Plx) and semimajor axis (or orbital period ond Mstar)"
   ]
  },
  {
   "cell_type": "code",
   "execution_count": 83,
   "metadata": {},
   "outputs": [
    {
     "data": {
      "text/plain": [
       "pl_rade           0\n",
       "pl_radeerr1      22\n",
       "pl_radeerr2      22\n",
       "pl_orbsmax      234\n",
       "pl_bmasse         0\n",
       "pl_masseerr1    118\n",
       "pl_masseerr2    118\n",
       "pl_orbper        13\n",
       "sy_vmag           0\n",
       "sy_plx            0\n",
       "st_teff          78\n",
       "st_mass          11\n",
       "dtype: int64"
      ]
     },
     "execution_count": 83,
     "metadata": {},
     "output_type": "execute_result"
    }
   ],
   "source": [
    "#check how many nan values have in each column\n",
    "nea_with_M_and_R.isna().sum()"
   ]
  },
  {
   "attachments": {},
   "cell_type": "markdown",
   "metadata": {},
   "source": [
    "There are 235 missing entries for semimajor axis. This parameter can be estimated from the stellar mass and orbital period.\n",
    "\n",
    "Next, all the rows containing nan values will be removed, except if the nan is in the \"pl_orbsmax\" column"
   ]
  },
  {
   "cell_type": "code",
   "execution_count": 84,
   "metadata": {},
   "outputs": [
    {
     "data": {
      "text/plain": [
       "pl_rade           0\n",
       "pl_radeerr1       0\n",
       "pl_radeerr2       0\n",
       "pl_orbsmax      164\n",
       "pl_bmasse         0\n",
       "pl_masseerr1      0\n",
       "pl_masseerr2      0\n",
       "pl_orbper         0\n",
       "sy_vmag           0\n",
       "sy_plx            0\n",
       "st_teff           0\n",
       "st_mass           0\n",
       "dtype: int64"
      ]
     },
     "execution_count": 84,
     "metadata": {},
     "output_type": "execute_result"
    }
   ],
   "source": [
    "nea_with_M_and_R_cleaned = nea_with_M_and_R.dropna(subset=nea_with_M_and_R.columns.drop('pl_orbsmax'))\n",
    "# Check results\n",
    "nea_with_M_and_R_cleaned.isna().sum()\n"
   ]
  },
  {
   "cell_type": "code",
   "execution_count": 85,
   "metadata": {},
   "outputs": [
    {
     "name": "stdout",
     "output_type": "stream",
     "text": [
      "There are 880 planets for the ML analysis\n"
     ]
    },
    {
     "data": {
      "text/html": [
       "<div>\n",
       "<style scoped>\n",
       "    .dataframe tbody tr th:only-of-type {\n",
       "        vertical-align: middle;\n",
       "    }\n",
       "\n",
       "    .dataframe tbody tr th {\n",
       "        vertical-align: top;\n",
       "    }\n",
       "\n",
       "    .dataframe thead th {\n",
       "        text-align: right;\n",
       "    }\n",
       "</style>\n",
       "<table border=\"1\" class=\"dataframe\">\n",
       "  <thead>\n",
       "    <tr style=\"text-align: right;\">\n",
       "      <th></th>\n",
       "      <th>pl_rade</th>\n",
       "      <th>pl_radeerr1</th>\n",
       "      <th>pl_radeerr2</th>\n",
       "      <th>pl_orbsmax</th>\n",
       "      <th>pl_bmasse</th>\n",
       "      <th>pl_masseerr1</th>\n",
       "      <th>pl_masseerr2</th>\n",
       "      <th>pl_orbper</th>\n",
       "      <th>sy_vmag</th>\n",
       "      <th>sy_plx</th>\n",
       "      <th>st_teff</th>\n",
       "      <th>st_mass</th>\n",
       "    </tr>\n",
       "  </thead>\n",
       "  <tbody>\n",
       "    <tr>\n",
       "      <th>0</th>\n",
       "      <td>14.011</td>\n",
       "      <td>1.569</td>\n",
       "      <td>-1.345</td>\n",
       "      <td>0.0434</td>\n",
       "      <td>197.04600</td>\n",
       "      <td>44.49400</td>\n",
       "      <td>-44.49400</td>\n",
       "      <td>3.101278</td>\n",
       "      <td>16.006</td>\n",
       "      <td>0.72138</td>\n",
       "      <td>5950.0</td>\n",
       "      <td>1.14</td>\n",
       "    </tr>\n",
       "    <tr>\n",
       "      <th>4</th>\n",
       "      <td>16.870</td>\n",
       "      <td>0.560</td>\n",
       "      <td>-0.504</td>\n",
       "      <td>0.0535</td>\n",
       "      <td>271.74465</td>\n",
       "      <td>22.88376</td>\n",
       "      <td>-21.93027</td>\n",
       "      <td>3.899052</td>\n",
       "      <td>12.006</td>\n",
       "      <td>1.73126</td>\n",
       "      <td>5941.0</td>\n",
       "      <td>1.34</td>\n",
       "    </tr>\n",
       "    <tr>\n",
       "      <th>5</th>\n",
       "      <td>21.633</td>\n",
       "      <td>5.044</td>\n",
       "      <td>-5.044</td>\n",
       "      <td>NaN</td>\n",
       "      <td>352.79130</td>\n",
       "      <td>171.62820</td>\n",
       "      <td>-171.62820</td>\n",
       "      <td>2.175180</td>\n",
       "      <td>11.965</td>\n",
       "      <td>1.29679</td>\n",
       "      <td>6100.0</td>\n",
       "      <td>1.87</td>\n",
       "    </tr>\n",
       "  </tbody>\n",
       "</table>\n",
       "</div>"
      ],
      "text/plain": [
       "   pl_rade  pl_radeerr1  pl_radeerr2  pl_orbsmax  pl_bmasse  pl_masseerr1  \\\n",
       "0   14.011        1.569       -1.345      0.0434  197.04600      44.49400   \n",
       "4   16.870        0.560       -0.504      0.0535  271.74465      22.88376   \n",
       "5   21.633        5.044       -5.044         NaN  352.79130     171.62820   \n",
       "\n",
       "   pl_masseerr2  pl_orbper  sy_vmag   sy_plx  st_teff  st_mass  \n",
       "0     -44.49400   3.101278   16.006  0.72138   5950.0     1.14  \n",
       "4     -21.93027   3.899052   12.006  1.73126   5941.0     1.34  \n",
       "5    -171.62820   2.175180   11.965  1.29679   6100.0     1.87  "
      ]
     },
     "execution_count": 85,
     "metadata": {},
     "output_type": "execute_result"
    }
   ],
   "source": [
    "print (f'There are {len(nea_with_M_and_R_cleaned)} planets for the ML analysis')\n",
    "nea_with_M_and_R_cleaned.head(3)"
   ]
  },
  {
   "attachments": {},
   "cell_type": "markdown",
   "metadata": {},
   "source": [
    "Calculating semimajor axis from Period and stellar mass, for the missing \"a\" entries"
   ]
  },
  {
   "cell_type": "code",
   "execution_count": 86,
   "metadata": {},
   "outputs": [],
   "source": [
    "for i in range(len(nea_with_M_and_R_cleaned)):\n",
    "    if np.isnan(nea_with_M_and_R_cleaned.iloc[i]['pl_orbsmax']):\n",
    "        nea_with_M_and_R_cleaned.iloc[i]['pl_orbsmax'] = a_from_P(nea_with_M_and_R_cleaned.iloc[i]['st_mass'], nea_with_M_and_R_cleaned.iloc[i]['pl_orbper'])\n"
   ]
  },
  {
   "attachments": {},
   "cell_type": "markdown",
   "metadata": {},
   "source": [
    "Calculating Teq from \"a\" or \"P\" "
   ]
  },
  {
   "attachments": {},
   "cell_type": "markdown",
   "metadata": {},
   "source": [
    "Use teq_hellper_function function to determine Teq from \"a\" or \"P\" depending on their availability. Priority is given to \"a\""
   ]
  },
  {
   "cell_type": "code",
   "execution_count": 87,
   "metadata": {},
   "outputs": [
    {
     "name": "stderr",
     "output_type": "stream",
     "text": [
      "/tmp/ipykernel_1227951/293283582.py:2: SettingWithCopyWarning:\n",
      "\n",
      "\n",
      "A value is trying to be set on a copy of a slice from a DataFrame.\n",
      "Try using .loc[row_indexer,col_indexer] = value instead\n",
      "\n",
      "See the caveats in the documentation: https://pandas.pydata.org/pandas-docs/stable/user_guide/indexing.html#returning-a-view-versus-a-copy\n",
      "\n"
     ]
    }
   ],
   "source": [
    "# Add new columns: Teq\n",
    "nea_with_M_and_R_cleaned['Teq'] = 0\n",
    "\n",
    "nea_with_M_and_R_cleaned = nea_with_M_and_R_cleaned.apply(lambda x: teq_hellper_function(x, 'pl_orbsmax', 'pl_orbper', 'st_teff', 'sy_vmag', 'sy_plx', 'st_mass', 'Teq'), axis = 1)"
   ]
  },
  {
   "cell_type": "code",
   "execution_count": 88,
   "metadata": {},
   "outputs": [
    {
     "data": {
      "text/html": [
       "<div>\n",
       "<style scoped>\n",
       "    .dataframe tbody tr th:only-of-type {\n",
       "        vertical-align: middle;\n",
       "    }\n",
       "\n",
       "    .dataframe tbody tr th {\n",
       "        vertical-align: top;\n",
       "    }\n",
       "\n",
       "    .dataframe thead th {\n",
       "        text-align: right;\n",
       "    }\n",
       "</style>\n",
       "<table border=\"1\" class=\"dataframe\">\n",
       "  <thead>\n",
       "    <tr style=\"text-align: right;\">\n",
       "      <th></th>\n",
       "      <th>pl_rade</th>\n",
       "      <th>pl_radeerr1</th>\n",
       "      <th>pl_radeerr2</th>\n",
       "      <th>pl_orbsmax</th>\n",
       "      <th>pl_bmasse</th>\n",
       "      <th>pl_masseerr1</th>\n",
       "      <th>pl_masseerr2</th>\n",
       "      <th>pl_orbper</th>\n",
       "      <th>sy_vmag</th>\n",
       "      <th>sy_plx</th>\n",
       "      <th>st_teff</th>\n",
       "      <th>st_mass</th>\n",
       "      <th>Teq</th>\n",
       "    </tr>\n",
       "  </thead>\n",
       "  <tbody>\n",
       "    <tr>\n",
       "      <th>526</th>\n",
       "      <td>21.196</td>\n",
       "      <td>0.684</td>\n",
       "      <td>-0.594</td>\n",
       "      <td>0.03462</td>\n",
       "      <td>915.35040</td>\n",
       "      <td>266.97720</td>\n",
       "      <td>-266.97720</td>\n",
       "      <td>1.481124e+00</td>\n",
       "      <td>7.55000</td>\n",
       "      <td>4.86254</td>\n",
       "      <td>10170.0</td>\n",
       "      <td>2.52</td>\n",
       "      <td>0.0</td>\n",
       "    </tr>\n",
       "    <tr>\n",
       "      <th>690</th>\n",
       "      <td>20.288</td>\n",
       "      <td>1.009</td>\n",
       "      <td>-1.009</td>\n",
       "      <td>0.05580</td>\n",
       "      <td>527.59780</td>\n",
       "      <td>38.13960</td>\n",
       "      <td>-38.13960</td>\n",
       "      <td>3.344829e+00</td>\n",
       "      <td>9.94600</td>\n",
       "      <td>2.31187</td>\n",
       "      <td>9360.0</td>\n",
       "      <td>2.07</td>\n",
       "      <td>0.0</td>\n",
       "    </tr>\n",
       "    <tr>\n",
       "      <th>696</th>\n",
       "      <td>18.147</td>\n",
       "      <td>0.235</td>\n",
       "      <td>-0.235</td>\n",
       "      <td>0.05053</td>\n",
       "      <td>632.47853</td>\n",
       "      <td>50.85255</td>\n",
       "      <td>-44.49598</td>\n",
       "      <td>2.724033e+00</td>\n",
       "      <td>6.59776</td>\n",
       "      <td>9.99903</td>\n",
       "      <td>8000.0</td>\n",
       "      <td>2.03</td>\n",
       "      <td>0.0</td>\n",
       "    </tr>\n",
       "    <tr>\n",
       "      <th>1058</th>\n",
       "      <td>12.442</td>\n",
       "      <td>0.336</td>\n",
       "      <td>-0.336</td>\n",
       "      <td>7506.00000</td>\n",
       "      <td>2002.31896</td>\n",
       "      <td>476.74261</td>\n",
       "      <td>-603.87397</td>\n",
       "      <td>4.020000e+08</td>\n",
       "      <td>11.29800</td>\n",
       "      <td>91.82910</td>\n",
       "      <td>3406.0</td>\n",
       "      <td>0.37</td>\n",
       "      <td>1.0</td>\n",
       "    </tr>\n",
       "  </tbody>\n",
       "</table>\n",
       "</div>"
      ],
      "text/plain": [
       "      pl_rade  pl_radeerr1  pl_radeerr2  pl_orbsmax   pl_bmasse  pl_masseerr1  \\\n",
       "526    21.196        0.684       -0.594     0.03462   915.35040     266.97720   \n",
       "690    20.288        1.009       -1.009     0.05580   527.59780      38.13960   \n",
       "696    18.147        0.235       -0.235     0.05053   632.47853      50.85255   \n",
       "1058   12.442        0.336       -0.336  7506.00000  2002.31896     476.74261   \n",
       "\n",
       "      pl_masseerr2     pl_orbper   sy_vmag    sy_plx  st_teff  st_mass  Teq  \n",
       "526     -266.97720  1.481124e+00   7.55000   4.86254  10170.0     2.52  0.0  \n",
       "690      -38.13960  3.344829e+00   9.94600   2.31187   9360.0     2.07  0.0  \n",
       "696      -44.49598  2.724033e+00   6.59776   9.99903   8000.0     2.03  0.0  \n",
       "1058    -603.87397  4.020000e+08  11.29800  91.82910   3406.0     0.37  1.0  "
      ]
     },
     "metadata": {},
     "output_type": "display_data"
    },
    {
     "name": "stdout",
     "output_type": "stream",
     "text": [
      "None\n"
     ]
    }
   ],
   "source": [
    "# very 'cool' planets\n",
    "print (display(nea_with_M_and_R_cleaned[nea_with_M_and_R_cleaned.Teq < 100]))\n",
    "\n",
    "#Some of the parameters used to calculate the Teq must be wrong. These objects should be removed\n",
    "\n",
    "nea_with_M_and_R_cleaned = nea_with_M_and_R_cleaned[nea_with_M_and_R_cleaned.Teq > 10]"
   ]
  },
  {
   "attachments": {},
   "cell_type": "markdown",
   "metadata": {},
   "source": [
    "### Selecting plaents with relatively high precision in Mass and Radius"
   ]
  },
  {
   "cell_type": "code",
   "execution_count": 89,
   "metadata": {},
   "outputs": [],
   "source": [
    "# calculating the mean errors of M and R\n",
    "nea_with_M_and_R_cleaned['pl_rade_err'] = (nea_with_M_and_R_cleaned['pl_radeerr1'] - nea_with_M_and_R_cleaned['pl_radeerr2'])/2\n",
    "nea_with_M_and_R_cleaned['pl_bmasse_err'] = (nea_with_M_and_R_cleaned['pl_masseerr1'] - nea_with_M_and_R_cleaned['pl_masseerr2'])/2"
   ]
  },
  {
   "cell_type": "code",
   "execution_count": 90,
   "metadata": {},
   "outputs": [
    {
     "name": "stdout",
     "output_type": "stream",
     "text": [
      "There are 708 precisely characterized planets in terms of Mass and Radius\n"
     ]
    }
   ],
   "source": [
    "M_threshold = 0.25\n",
    "R_threshold = 0.25\n",
    "precise_criteria = (nea_with_M_and_R_cleaned['pl_rade_err']/nea_with_M_and_R_cleaned['pl_rade'] < R_threshold) & (nea_with_M_and_R_cleaned['pl_bmasse_err']/nea_with_M_and_R_cleaned['pl_bmasse'] < M_threshold)\n",
    "nea_with_M_and_R_cleaned_accurate = nea_with_M_and_R_cleaned[precise_criteria]\n",
    "\n",
    "print (f'There are {len(nea_with_M_and_R_cleaned_accurate)} precisely characterized planets in terms of Mass and Radius')"
   ]
  },
  {
   "cell_type": "code",
   "execution_count": 91,
   "metadata": {},
   "outputs": [
    {
     "data": {
      "text/html": [
       "<div>\n",
       "<style scoped>\n",
       "    .dataframe tbody tr th:only-of-type {\n",
       "        vertical-align: middle;\n",
       "    }\n",
       "\n",
       "    .dataframe tbody tr th {\n",
       "        vertical-align: top;\n",
       "    }\n",
       "\n",
       "    .dataframe thead th {\n",
       "        text-align: right;\n",
       "    }\n",
       "</style>\n",
       "<table border=\"1\" class=\"dataframe\">\n",
       "  <thead>\n",
       "    <tr style=\"text-align: right;\">\n",
       "      <th></th>\n",
       "      <th>pl_rade</th>\n",
       "      <th>pl_bmasse</th>\n",
       "      <th>Teq</th>\n",
       "      <th>st_teff</th>\n",
       "      <th>pl_orbsmax</th>\n",
       "    </tr>\n",
       "  </thead>\n",
       "  <tbody>\n",
       "    <tr>\n",
       "      <th>0</th>\n",
       "      <td>14.011</td>\n",
       "      <td>197.04600</td>\n",
       "      <td>1194.0</td>\n",
       "      <td>5950.0</td>\n",
       "      <td>0.0434</td>\n",
       "    </tr>\n",
       "    <tr>\n",
       "      <th>4</th>\n",
       "      <td>16.870</td>\n",
       "      <td>271.74465</td>\n",
       "      <td>1744.0</td>\n",
       "      <td>5941.0</td>\n",
       "      <td>0.0535</td>\n",
       "    </tr>\n",
       "  </tbody>\n",
       "</table>\n",
       "</div>"
      ],
      "text/plain": [
       "   pl_rade  pl_bmasse     Teq  st_teff  pl_orbsmax\n",
       "0   14.011  197.04600  1194.0   5950.0      0.0434\n",
       "4   16.870  271.74465  1744.0   5941.0      0.0535"
      ]
     },
     "execution_count": 91,
     "metadata": {},
     "output_type": "execute_result"
    }
   ],
   "source": [
    "# Final table with Mass, Radius, and Teq\n",
    "nea_MR_final_table = nea_with_M_and_R_cleaned_accurate[['pl_rade', 'pl_bmasse', 'Teq', 'st_teff', 'pl_orbsmax']]\n",
    "nea_MR_final_table.head(2)"
   ]
  },
  {
   "attachments": {},
   "cell_type": "markdown",
   "metadata": {},
   "source": [
    "# Starting the Machine Learning part"
   ]
  },
  {
   "attachments": {},
   "cell_type": "markdown",
   "metadata": {},
   "source": [
    "Since the accuracy of Mass estimation is not critical, I'll make things simple (but still keeping the state-of-the-art): \n",
    "\n",
    "Use XGBoost regressor and tune HyperParameters with \"optuna\" (sometimes better than grid_search see e.g. [this](https://medium.com/mlearning-ai/hyper-parameter-tuning-through-grid-search-and-optuna-2bd89a2ece06)"
   ]
  },
  {
   "cell_type": "code",
   "execution_count": 92,
   "metadata": {},
   "outputs": [],
   "source": [
    "import matplotlib.pyplot as plt\n",
    "import seaborn as sns\n",
    "%matplotlib inline"
   ]
  },
  {
   "attachments": {},
   "cell_type": "markdown",
   "metadata": {},
   "source": [
    "### Displaying the data"
   ]
  },
  {
   "cell_type": "code",
   "execution_count": 93,
   "metadata": {},
   "outputs": [
    {
     "data": {
      "image/png": "[encoded data removed]",
      "text/plain": [
       "<Figure size 576x432 with 1 Axes>"
      ]
     },
     "metadata": {
      "needs_background": "light"
     },
     "output_type": "display_data"
    }
   ],
   "source": [
    "fig = plt.figure(1, figsize = (8,6))\n",
    "ax = plt.gca()\n",
    "\n",
    "ax = plt.subplot(1,1,1)\n",
    "\n",
    "ax.scatter(nea_MR_final_table.pl_bmasse, nea_MR_final_table.pl_rade, c = nea_MR_final_table['Teq'])\n",
    "ax.set_xscale('log')\n",
    "ax.set_yscale('log')\n",
    "\n",
    "plt.xlabel('Planet mass in log', fontsize = 18)\n",
    "plt.ylabel('Planet radius in log', fontsize = 18)\n",
    "\n",
    "plt.show()"
   ]
  },
  {
   "cell_type": "code",
   "execution_count": 94,
   "metadata": {},
   "outputs": [
    {
     "data": {
      "image/png": "[encoded data removed]",
      "text/plain": [
       "<Figure size 1008x432 with 5 Axes>"
      ]
     },
     "metadata": {
      "needs_background": "light"
     },
     "output_type": "display_data"
    }
   ],
   "source": [
    "fig = plt.figure(2, figsize = (14,6))\n",
    "ax = plt.gca()\n",
    "\n",
    "for i, col  in enumerate(nea_MR_final_table.columns):\n",
    "    ax = plt.subplot(1, 6, i+1)\n",
    "\n",
    "    ax.hist(np.log10(nea_MR_final_table[col]))\n",
    "    ax.set_xlabel(col, fontsize = 15)"
   ]
  },
  {
   "attachments": {},
   "cell_type": "markdown",
   "metadata": {},
   "source": [
    "### The Mass and Radius have bimodal (and also assymetric) distributions... "
   ]
  },
  {
   "cell_type": "code",
   "execution_count": 121,
   "metadata": {},
   "outputs": [],
   "source": [
    "from sklearn.model_selection import train_test_split, cross_val_score, learning_curve, GridSearchCV\n",
    "from sklearn.metrics import mean_squared_error, mean_absolute_error\n",
    "\n",
    "from  xgboost import XGBRegressor\n",
    "from sklearn.ensemble import RandomForestRegressor"
   ]
  },
  {
   "cell_type": "code",
   "execution_count": 158,
   "metadata": {},
   "outputs": [
    {
     "name": "stdout",
     "output_type": "stream",
     "text": [
      "Sizes of the samples:\n",
      "Train = 566, Test = 142\n"
     ]
    }
   ],
   "source": [
    "y = nea_MR_final_table['pl_bmasse']\n",
    "X = nea_MR_final_table.drop(columns = ['pl_bmasse'])\n",
    "\n",
    "# Spliting data into train, dev, and test (70%, 15%, 15%)\n",
    "\n",
    "X_train, X_test, y_train, y_test = train_test_split(X, y, test_size=0.2)\n",
    "\n",
    "print (f'Sizes of the samples:\\nTrain = {len(X_train)}, Test = {len(X_test)}')"
   ]
  },
  {
   "cell_type": "code",
   "execution_count": 160,
   "metadata": {},
   "outputs": [
    {
     "name": "stdout",
     "output_type": "stream",
     "text": [
      "The base MAE score for the full data is 279\n"
     ]
    }
   ],
   "source": [
    "\n",
    "def score_dataset(X, y, model):\n",
    "    score = cross_val_score(\n",
    "        model, X, y, cv=5, scoring='neg_mean_absolute_error',\n",
    "        )\n",
    "    rms = (-1*score)\n",
    "    return rms.mean()\n",
    "\n",
    "XGB_model_base = XGBRegressor(random_state =0)\n",
    "RFR_base_model = RandomForestRegressor(random_state =0)\n",
    "MAE_base = score_dataset(X_train, y_train, RFR_base_model)\n",
    "\n",
    "print (f'The base MAE score for the full data is {MAE_base:.0f}')"
   ]
  },
  {
   "cell_type": "code",
   "execution_count": 169,
   "metadata": {},
   "outputs": [
    {
     "data": {
      "text/plain": [
       "389.705988611732"
      ]
     },
     "execution_count": 169,
     "metadata": {},
     "output_type": "execute_result"
    }
   ],
   "source": [
    "mean_mass = [np.mean(y_train)]*len(y_train)\n",
    "\n",
    "\n",
    "MAE_base_base = mean_absolute_error(y_train, mean_mass)\n",
    "MAE_base_base\n"
   ]
  },
  {
   "cell_type": "code",
   "execution_count": 98,
   "metadata": {},
   "outputs": [],
   "source": [
    "# A package for hyperparameters tuning\n",
    "import optuna\n",
    "from optuna.visualization import plot_contour\n",
    "from optuna.visualization import plot_param_importances\n"
   ]
  },
  {
   "cell_type": "code",
   "execution_count": 165,
   "metadata": {},
   "outputs": [
    {
     "name": "stderr",
     "output_type": "stream",
     "text": [
      "\u001b[32m[I 2023-07-10 17:42:55,047]\u001b[0m A new study created in memory with name: no-name-281f0994-2a16-49a1-bb84-97fa987a0141\u001b[0m\n"
     ]
    },
    {
     "name": "stderr",
     "output_type": "stream",
     "text": [
      "\u001b[32m[I 2023-07-10 17:42:56,014]\u001b[0m Trial 0 finished with value: 301.43305375914196 and parameters: {'n_estimators': 120, 'max_depth': 5, 'min_samples_split': 20, 'min_samples_leaf': 9, 'max_features': 1}. Best is trial 0 with value: 301.43305375914196.\u001b[0m\n",
      "\u001b[32m[I 2023-07-10 17:42:56,516]\u001b[0m Trial 1 finished with value: 313.27341417674563 and parameters: {'n_estimators': 60, 'max_depth': 2, 'min_samples_split': 19, 'min_samples_leaf': 3, 'max_features': 2}. Best is trial 0 with value: 301.43305375914196.\u001b[0m\n",
      "\u001b[32m[I 2023-07-10 17:42:57,582]\u001b[0m Trial 2 finished with value: 300.52143236899076 and parameters: {'n_estimators': 120, 'max_depth': 2, 'min_samples_split': 7, 'min_samples_leaf': 3, 'max_features': 3}. Best is trial 2 with value: 300.52143236899076.\u001b[0m\n",
      "\u001b[32m[I 2023-07-10 17:42:58,539]\u001b[0m Trial 3 finished with value: 304.03386539977964 and parameters: {'n_estimators': 120, 'max_depth': 4, 'min_samples_split': 11, 'min_samples_leaf': 4, 'max_features': 1}. Best is trial 2 with value: 300.52143236899076.\u001b[0m\n",
      "\u001b[32m[I 2023-07-10 17:42:59,322]\u001b[0m Trial 4 finished with value: 273.79601453438835 and parameters: {'n_estimators': 80, 'max_depth': 5, 'min_samples_split': 13, 'min_samples_leaf': 5, 'max_features': 3}. Best is trial 4 with value: 273.79601453438835.\u001b[0m\n",
      "\u001b[32m[I 2023-07-10 17:43:00,115]\u001b[0m Trial 5 finished with value: 272.615340823305 and parameters: {'n_estimators': 80, 'max_depth': 5, 'min_samples_split': 8, 'min_samples_leaf': 8, 'max_features': 4}. Best is trial 5 with value: 272.615340823305.\u001b[0m\n",
      "\u001b[32m[I 2023-07-10 17:43:00,533]\u001b[0m Trial 6 finished with value: 274.4046644468086 and parameters: {'n_estimators': 40, 'max_depth': 5, 'min_samples_split': 11, 'min_samples_leaf': 10, 'max_features': 3}. Best is trial 5 with value: 272.615340823305.\u001b[0m\n",
      "\u001b[32m[I 2023-07-10 17:43:01,311]\u001b[0m Trial 7 finished with value: 332.55008327583477 and parameters: {'n_estimators': 100, 'max_depth': 1, 'min_samples_split': 5, 'min_samples_leaf': 8, 'max_features': 3}. Best is trial 5 with value: 272.615340823305.\u001b[0m\n",
      "\u001b[32m[I 2023-07-10 17:43:02,185]\u001b[0m Trial 8 finished with value: 308.53367298411746 and parameters: {'n_estimators': 120, 'max_depth': 2, 'min_samples_split': 12, 'min_samples_leaf': 8, 'max_features': 2}. Best is trial 5 with value: 272.615340823305.\u001b[0m\n",
      "\u001b[32m[I 2023-07-10 17:43:03,818]\u001b[0m Trial 9 finished with value: 283.2807276882358 and parameters: {'n_estimators': 200, 'max_depth': 5, 'min_samples_split': 20, 'min_samples_leaf': 4, 'max_features': 2}. Best is trial 5 with value: 272.615340823305.\u001b[0m\n",
      "\u001b[32m[I 2023-07-10 17:43:04,020]\u001b[0m Trial 10 finished with value: 295.5629350975515 and parameters: {'n_estimators': 20, 'max_depth': 3, 'min_samples_split': 3, 'min_samples_leaf': 1, 'max_features': 5}. Best is trial 5 with value: 272.615340823305.\u001b[0m\n",
      "\u001b[32m[I 2023-07-10 17:43:04,807]\u001b[0m Trial 11 finished with value: 278.76668166635943 and parameters: {'n_estimators': 80, 'max_depth': 4, 'min_samples_split': 15, 'min_samples_leaf': 6, 'max_features': 5}. Best is trial 5 with value: 272.615340823305.\u001b[0m\n",
      "\u001b[32m[I 2023-07-10 17:43:06,326]\u001b[0m Trial 12 finished with value: 278.94629079155453 and parameters: {'n_estimators': 160, 'max_depth': 4, 'min_samples_split': 8, 'min_samples_leaf': 6, 'max_features': 4}. Best is trial 5 with value: 272.615340823305.\u001b[0m\n",
      "\u001b[32m[I 2023-07-10 17:43:07,104]\u001b[0m Trial 13 finished with value: 271.8207226549857 and parameters: {'n_estimators': 80, 'max_depth': 5, 'min_samples_split': 15, 'min_samples_leaf': 7, 'max_features': 4}. Best is trial 13 with value: 271.8207226549857.\u001b[0m\n",
      "\u001b[32m[I 2023-07-10 17:43:07,703]\u001b[0m Trial 14 finished with value: 275.9964588758103 and parameters: {'n_estimators': 60, 'max_depth': 4, 'min_samples_split': 16, 'min_samples_leaf': 7, 'max_features': 4}. Best is trial 13 with value: 271.8207226549857.\u001b[0m\n",
      "\u001b[32m[I 2023-07-10 17:43:09,082]\u001b[0m Trial 15 finished with value: 285.1248389204696 and parameters: {'n_estimators': 160, 'max_depth': 3, 'min_samples_split': 8, 'min_samples_leaf': 10, 'max_features': 4}. Best is trial 13 with value: 271.8207226549857.\u001b[0m\n",
      "\u001b[32m[I 2023-07-10 17:43:09,318]\u001b[0m Trial 16 finished with value: 273.444987256417 and parameters: {'n_estimators': 20, 'max_depth': 5, 'min_samples_split': 16, 'min_samples_leaf': 8, 'max_features': 4}. Best is trial 13 with value: 271.8207226549857.\u001b[0m\n",
      "\u001b[32m[I 2023-07-10 17:43:10,113]\u001b[0m Trial 17 finished with value: 276.74671443198764 and parameters: {'n_estimators': 80, 'max_depth': 4, 'min_samples_split': 9, 'min_samples_leaf': 7, 'max_features': 5}. Best is trial 13 with value: 271.8207226549857.\u001b[0m\n",
      "\u001b[32m[I 2023-07-10 17:43:10,674]\u001b[0m Trial 18 finished with value: 283.50459280274885 and parameters: {'n_estimators': 60, 'max_depth': 3, 'min_samples_split': 2, 'min_samples_leaf': 9, 'max_features': 4}. Best is trial 13 with value: 271.8207226549857.\u001b[0m\n",
      "\u001b[32m[I 2023-07-10 17:43:12,363]\u001b[0m Trial 19 finished with value: 271.49591067615756 and parameters: {'n_estimators': 160, 'max_depth': 5, 'min_samples_split': 14, 'min_samples_leaf': 7, 'max_features': 5}. Best is trial 19 with value: 271.49591067615756.\u001b[0m\n"
     ]
    },
    {
     "data": {
      "application/vnd.plotly.v1+json": {
       "config": {
        "plotlyServerURL": "https://plot.ly"
       },
       "data": [
        {
         "cliponaxis": false,
         "hovertemplate": [
          "n_estimators (IntDistribution): 0.043073668329371845<extra></extra>",
          "min_samples_split (IntDistribution): 0.06111022511526212<extra></extra>",
          "min_samples_leaf (IntDistribution): 0.11776512287389708<extra></extra>",
          "max_features (IntDistribution): 0.24314689140635135<extra></extra>",
          "max_depth (IntDistribution): 0.5349040922751176<extra></extra>"
         ],
         "marker": {
          "color": "rgb(66,146,198)"
         },
         "orientation": "h",
         "text": [
          "0.04",
          "0.06",
          "0.12",
          "0.24",
          "0.53"
         ],
         "textposition": "outside",
         "type": "bar",
         "x": [
          0.043073668329371845,
          0.06111022511526212,
          0.11776512287389708,
          0.24314689140635135,
          0.5349040922751176
         ],
         "y": [
          "n_estimators",
          "min_samples_split",
          "min_samples_leaf",
          "max_features",
          "max_depth"
         ]
        }
       ],
       "layout": {
        "showlegend": false,
        "template": {
         "data": {
          "bar": [
           {
            "error_x": {
             "color": "#2a3f5f"
            },
            "error_y": {
             "color": "#2a3f5f"
            },
            "marker": {
             "line": {
              "color": "#E5ECF6",
              "width": 0.5
             },
             "pattern": {
              "fillmode": "overlay",
              "size": 10,
              "solidity": 0.2
             }
            },
            "type": "bar"
           }
          ],
          "barpolar": [
           {
            "marker": {
             "line": {
              "color": "#E5ECF6",
              "width": 0.5
             },
             "pattern": {
              "fillmode": "overlay",
              "size": 10,
              "solidity": 0.2
             }
            },
            "type": "barpolar"
           }
          ],
          "carpet": [
           {
            "aaxis": {
             "endlinecolor": "#2a3f5f",
             "gridcolor": "white",
             "linecolor": "white",
             "minorgridcolor": "white",
             "startlinecolor": "#2a3f5f"
            },
            "baxis": {
             "endlinecolor": "#2a3f5f",
             "gridcolor": "white",
             "linecolor": "white",
             "minorgridcolor": "white",
             "startlinecolor": "#2a3f5f"
            },
            "type": "carpet"
           }
          ],
          "choropleth": [
           {
            "colorbar": {
             "outlinewidth": 0,
             "ticks": ""
            },
            "type": "choropleth"
           }
          ],
          "contour": [
           {
            "colorbar": {
             "outlinewidth": 0,
             "ticks": ""
            },
            "colorscale": [
             [
              0,
              "#0d0887"
             ],
             [
              0.1111111111111111,
              "#46039f"
             ],
             [
              0.2222222222222222,
              "#7201a8"
             ],
             [
              0.3333333333333333,
              "#9c179e"
             ],
             [
              0.4444444444444444,
              "#bd3786"
             ],
             [
              0.5555555555555556,
              "#d8576b"
             ],
             [
              0.6666666666666666,
              "#ed7953"
             ],
             [
              0.7777777777777778,
              "#fb9f3a"
             ],
             [
              0.8888888888888888,
              "#fdca26"
             ],
             [
              1,
              "#f0f921"
             ]
            ],
            "type": "contour"
           }
          ],
          "contourcarpet": [
           {
            "colorbar": {
             "outlinewidth": 0,
             "ticks": ""
            },
            "type": "contourcarpet"
           }
          ],
          "heatmap": [
           {
            "colorbar": {
             "outlinewidth": 0,
             "ticks": ""
            },
            "colorscale": [
             [
              0,
              "#0d0887"
             ],
             [
              0.1111111111111111,
              "#46039f"
             ],
             [
              0.2222222222222222,
              "#7201a8"
             ],
             [
              0.3333333333333333,
              "#9c179e"
             ],
             [
              0.4444444444444444,
              "#bd3786"
             ],
             [
              0.5555555555555556,
              "#d8576b"
             ],
             [
              0.6666666666666666,
              "#ed7953"
             ],
             [
              0.7777777777777778,
              "#fb9f3a"
             ],
             [
              0.8888888888888888,
              "#fdca26"
             ],
             [
              1,
              "#f0f921"
             ]
            ],
            "type": "heatmap"
           }
          ],
          "heatmapgl": [
           {
            "colorbar": {
             "outlinewidth": 0,
             "ticks": ""
            },
            "colorscale": [
             [
              0,
              "#0d0887"
             ],
             [
              0.1111111111111111,
              "#46039f"
             ],
             [
              0.2222222222222222,
              "#7201a8"
             ],
             [
              0.3333333333333333,
              "#9c179e"
             ],
             [
              0.4444444444444444,
              "#bd3786"
             ],
             [
              0.5555555555555556,
              "#d8576b"
             ],
             [
              0.6666666666666666,
              "#ed7953"
             ],
             [
              0.7777777777777778,
              "#fb9f3a"
             ],
             [
              0.8888888888888888,
              "#fdca26"
             ],
             [
              1,
              "#f0f921"
             ]
            ],
            "type": "heatmapgl"
           }
          ],
          "histogram": [
           {
            "marker": {
             "pattern": {
              "fillmode": "overlay",
              "size": 10,
              "solidity": 0.2
             }
            },
            "type": "histogram"
           }
          ],
          "histogram2d": [
           {
            "colorbar": {
             "outlinewidth": 0,
             "ticks": ""
            },
            "colorscale": [
             [
              0,
              "#0d0887"
             ],
             [
              0.1111111111111111,
              "#46039f"
             ],
             [
              0.2222222222222222,
              "#7201a8"
             ],
             [
              0.3333333333333333,
              "#9c179e"
             ],
             [
              0.4444444444444444,
              "#bd3786"
             ],
             [
              0.5555555555555556,
              "#d8576b"
             ],
             [
              0.6666666666666666,
              "#ed7953"
             ],
             [
              0.7777777777777778,
              "#fb9f3a"
             ],
             [
              0.8888888888888888,
              "#fdca26"
             ],
             [
              1,
              "#f0f921"
             ]
            ],
            "type": "histogram2d"
           }
          ],
          "histogram2dcontour": [
           {
            "colorbar": {
             "outlinewidth": 0,
             "ticks": ""
            },
            "colorscale": [
             [
              0,
              "#0d0887"
             ],
             [
              0.1111111111111111,
              "#46039f"
             ],
             [
              0.2222222222222222,
              "#7201a8"
             ],
             [
              0.3333333333333333,
              "#9c179e"
             ],
             [
              0.4444444444444444,
              "#bd3786"
             ],
             [
              0.5555555555555556,
              "#d8576b"
             ],
             [
              0.6666666666666666,
              "#ed7953"
             ],
             [
              0.7777777777777778,
              "#fb9f3a"
             ],
             [
              0.8888888888888888,
              "#fdca26"
             ],
             [
              1,
              "#f0f921"
             ]
            ],
            "type": "histogram2dcontour"
           }
          ],
          "mesh3d": [
           {
            "colorbar": {
             "outlinewidth": 0,
             "ticks": ""
            },
            "type": "mesh3d"
           }
          ],
          "parcoords": [
           {
            "line": {
             "colorbar": {
              "outlinewidth": 0,
              "ticks": ""
             }
            },
            "type": "parcoords"
           }
          ],
          "pie": [
           {
            "automargin": true,
            "type": "pie"
           }
          ],
          "scatter": [
           {
            "fillpattern": {
             "fillmode": "overlay",
             "size": 10,
             "solidity": 0.2
            },
            "type": "scatter"
           }
          ],
          "scatter3d": [
           {
            "line": {
             "colorbar": {
              "outlinewidth": 0,
              "ticks": ""
             }
            },
            "marker": {
             "colorbar": {
              "outlinewidth": 0,
              "ticks": ""
             }
            },
            "type": "scatter3d"
           }
          ],
          "scattercarpet": [
           {
            "marker": {
             "colorbar": {
              "outlinewidth": 0,
              "ticks": ""
             }
            },
            "type": "scattercarpet"
           }
          ],
          "scattergeo": [
           {
            "marker": {
             "colorbar": {
              "outlinewidth": 0,
              "ticks": ""
             }
            },
            "type": "scattergeo"
           }
          ],
          "scattergl": [
           {
            "marker": {
             "colorbar": {
              "outlinewidth": 0,
              "ticks": ""
             }
            },
            "type": "scattergl"
           }
          ],
          "scattermapbox": [
           {
            "marker": {
             "colorbar": {
              "outlinewidth": 0,
              "ticks": ""
             }
            },
            "type": "scattermapbox"
           }
          ],
          "scatterpolar": [
           {
            "marker": {
             "colorbar": {
              "outlinewidth": 0,
              "ticks": ""
             }
            },
            "type": "scatterpolar"
           }
          ],
          "scatterpolargl": [
           {
            "marker": {
             "colorbar": {
              "outlinewidth": 0,
              "ticks": ""
             }
            },
            "type": "scatterpolargl"
           }
          ],
          "scatterternary": [
           {
            "marker": {
             "colorbar": {
              "outlinewidth": 0,
              "ticks": ""
             }
            },
            "type": "scatterternary"
           }
          ],
          "surface": [
           {
            "colorbar": {
             "outlinewidth": 0,
             "ticks": ""
            },
            "colorscale": [
             [
              0,
              "#0d0887"
             ],
             [
              0.1111111111111111,
              "#46039f"
             ],
             [
              0.2222222222222222,
              "#7201a8"
             ],
             [
              0.3333333333333333,
              "#9c179e"
             ],
             [
              0.4444444444444444,
              "#bd3786"
             ],
             [
              0.5555555555555556,
              "#d8576b"
             ],
             [
              0.6666666666666666,
              "#ed7953"
             ],
             [
              0.7777777777777778,
              "#fb9f3a"
             ],
             [
              0.8888888888888888,
              "#fdca26"
             ],
             [
              1,
              "#f0f921"
             ]
            ],
            "type": "surface"
           }
          ],
          "table": [
           {
            "cells": {
             "fill": {
              "color": "#EBF0F8"
             },
             "line": {
              "color": "white"
             }
            },
            "header": {
             "fill": {
              "color": "#C8D4E3"
             },
             "line": {
              "color": "white"
             }
            },
            "type": "table"
           }
          ]
         },
         "layout": {
          "annotationdefaults": {
           "arrowcolor": "#2a3f5f",
           "arrowhead": 0,
           "arrowwidth": 1
          },
          "autotypenumbers": "strict",
          "coloraxis": {
           "colorbar": {
            "outlinewidth": 0,
            "ticks": ""
           }
          },
          "colorscale": {
           "diverging": [
            [
             0,
             "#8e0152"
            ],
            [
             0.1,
             "#c51b7d"
            ],
            [
             0.2,
             "#de77ae"
            ],
            [
             0.3,
             "#f1b6da"
            ],
            [
             0.4,
             "#fde0ef"
            ],
            [
             0.5,
             "#f7f7f7"
            ],
            [
             0.6,
             "#e6f5d0"
            ],
            [
             0.7,
             "#b8e186"
            ],
            [
             0.8,
             "#7fbc41"
            ],
            [
             0.9,
             "#4d9221"
            ],
            [
             1,
             "#276419"
            ]
           ],
           "sequential": [
            [
             0,
             "#0d0887"
            ],
            [
             0.1111111111111111,
             "#46039f"
            ],
            [
             0.2222222222222222,
             "#7201a8"
            ],
            [
             0.3333333333333333,
             "#9c179e"
            ],
            [
             0.4444444444444444,
             "#bd3786"
            ],
            [
             0.5555555555555556,
             "#d8576b"
            ],
            [
             0.6666666666666666,
             "#ed7953"
            ],
            [
             0.7777777777777778,
             "#fb9f3a"
            ],
            [
             0.8888888888888888,
             "#fdca26"
            ],
            [
             1,
             "#f0f921"
            ]
           ],
           "sequentialminus": [
            [
             0,
             "#0d0887"
            ],
            [
             0.1111111111111111,
             "#46039f"
            ],
            [
             0.2222222222222222,
             "#7201a8"
            ],
            [
             0.3333333333333333,
             "#9c179e"
            ],
            [
             0.4444444444444444,
             "#bd3786"
            ],
            [
             0.5555555555555556,
             "#d8576b"
            ],
            [
             0.6666666666666666,
             "#ed7953"
            ],
            [
             0.7777777777777778,
             "#fb9f3a"
            ],
            [
             0.8888888888888888,
             "#fdca26"
            ],
            [
             1,
             "#f0f921"
            ]
           ]
          },
          "colorway": [
           "#636efa",
           "#EF553B",
           "#00cc96",
           "#ab63fa",
           "#FFA15A",
           "#19d3f3",
           "#FF6692",
           "#B6E880",
           "#FF97FF",
           "#FECB52"
          ],
          "font": {
           "color": "#2a3f5f"
          },
          "geo": {
           "bgcolor": "white",
           "lakecolor": "white",
           "landcolor": "#E5ECF6",
           "showlakes": true,
           "showland": true,
           "subunitcolor": "white"
          },
          "hoverlabel": {
           "align": "left"
          },
          "hovermode": "closest",
          "mapbox": {
           "style": "light"
          },
          "paper_bgcolor": "white",
          "plot_bgcolor": "#E5ECF6",
          "polar": {
           "angularaxis": {
            "gridcolor": "white",
            "linecolor": "white",
            "ticks": ""
           },
           "bgcolor": "#E5ECF6",
           "radialaxis": {
            "gridcolor": "white",
            "linecolor": "white",
            "ticks": ""
           }
          },
          "scene": {
           "xaxis": {
            "backgroundcolor": "#E5ECF6",
            "gridcolor": "white",
            "gridwidth": 2,
            "linecolor": "white",
            "showbackground": true,
            "ticks": "",
            "zerolinecolor": "white"
           },
           "yaxis": {
            "backgroundcolor": "#E5ECF6",
            "gridcolor": "white",
            "gridwidth": 2,
            "linecolor": "white",
            "showbackground": true,
            "ticks": "",
            "zerolinecolor": "white"
           },
           "zaxis": {
            "backgroundcolor": "#E5ECF6",
            "gridcolor": "white",
            "gridwidth": 2,
            "linecolor": "white",
            "showbackground": true,
            "ticks": "",
            "zerolinecolor": "white"
           }
          },
          "shapedefaults": {
           "line": {
            "color": "#2a3f5f"
           }
          },
          "ternary": {
           "aaxis": {
            "gridcolor": "white",
            "linecolor": "white",
            "ticks": ""
           },
           "baxis": {
            "gridcolor": "white",
            "linecolor": "white",
            "ticks": ""
           },
           "bgcolor": "#E5ECF6",
           "caxis": {
            "gridcolor": "white",
            "linecolor": "white",
            "ticks": ""
           }
          },
          "title": {
           "x": 0.05
          },
          "xaxis": {
           "automargin": true,
           "gridcolor": "white",
           "linecolor": "white",
           "ticks": "",
           "title": {
            "standoff": 15
           },
           "zerolinecolor": "white",
           "zerolinewidth": 2
          },
          "yaxis": {
           "automargin": true,
           "gridcolor": "white",
           "linecolor": "white",
           "ticks": "",
           "title": {
            "standoff": 15
           },
           "zerolinecolor": "white",
           "zerolinewidth": 2
          }
         }
        },
        "title": {
         "text": "Hyperparameter Importances"
        },
        "xaxis": {
         "title": {
          "text": "Importance for Objective Value"
         }
        },
        "yaxis": {
         "title": {
          "text": "Hyperparameter"
         }
        }
       }
      }
     },
     "metadata": {},
     "output_type": "display_data"
    },
    {
     "data": {
      "application/vnd.plotly.v1+json": {
       "config": {
        "plotlyServerURL": "https://plot.ly"
       },
       "data": [
        {
         "type": "scatter",
         "xaxis": "x",
         "yaxis": "y"
        },
        {
         "colorbar": {
          "title": {
           "text": "Objective Value"
          }
         },
         "colorscale": [
          [
           0,
           "rgb(247,251,255)"
          ],
          [
           0.125,
           "rgb(222,235,247)"
          ],
          [
           0.25,
           "rgb(198,219,239)"
          ],
          [
           0.375,
           "rgb(158,202,225)"
          ],
          [
           0.5,
           "rgb(107,174,214)"
          ],
          [
           0.625,
           "rgb(66,146,198)"
          ],
          [
           0.75,
           "rgb(33,113,181)"
          ],
          [
           0.875,
           "rgb(8,81,156)"
          ],
          [
           1,
           "rgb(8,48,107)"
          ]
         ],
         "connectgaps": true,
         "contours": {
          "coloring": "heatmap"
         },
         "hoverinfo": "none",
         "line": {
          "smoothing": 1.3
         },
         "reversescale": true,
         "showscale": true,
         "type": "contour",
         "x": [
          0.8,
          1,
          2,
          3,
          4,
          5,
          5.2
         ],
         "xaxis": "x6",
         "y": [
          0.8,
          1,
          2,
          3,
          4,
          5,
          5.2
         ],
         "yaxis": "y6",
         "z": [
          [
           null,
           null,
           null,
           null,
           null,
           null,
           null
          ],
          [
           null,
           null,
           null,
           null,
           304.03386539977964,
           301.43305375914196,
           null
          ],
          [
           null,
           null,
           308.53367298411746,
           null,
           null,
           283.2807276882358,
           null
          ],
          [
           null,
           332.55008327583477,
           300.52143236899076,
           null,
           null,
           274.4046644468086,
           null
          ],
          [
           null,
           null,
           null,
           283.50459280274885,
           275.9964588758103,
           273.444987256417,
           null
          ],
          [
           null,
           null,
           null,
           295.5629350975515,
           276.74671443198764,
           271.49591067615756,
           null
          ],
          [
           null,
           null,
           null,
           null,
           null,
           null,
           null
          ]
         ]
        },
        {
         "marker": {
          "color": "black",
          "line": {
           "color": "Grey",
           "width": 2
          }
         },
         "mode": "markers",
         "showlegend": false,
         "type": "scatter",
         "x": [
          5,
          2,
          2,
          4,
          5,
          5,
          5,
          1,
          2,
          5,
          3,
          4,
          4,
          5,
          4,
          3,
          5,
          4,
          3,
          5
         ],
         "xaxis": "x6",
         "y": [
          1,
          2,
          3,
          1,
          3,
          4,
          3,
          3,
          2,
          2,
          5,
          5,
          4,
          4,
          4,
          4,
          4,
          5,
          4,
          5
         ],
         "yaxis": "y6"
        },
        {
         "colorbar": {
          "title": {
           "text": "Objective Value"
          }
         },
         "colorscale": [
          [
           0,
           "rgb(247,251,255)"
          ],
          [
           0.125,
           "rgb(222,235,247)"
          ],
          [
           0.25,
           "rgb(198,219,239)"
          ],
          [
           0.375,
           "rgb(158,202,225)"
          ],
          [
           0.5,
           "rgb(107,174,214)"
          ],
          [
           0.625,
           "rgb(66,146,198)"
          ],
          [
           0.75,
           "rgb(33,113,181)"
          ],
          [
           0.875,
           "rgb(8,81,156)"
          ],
          [
           1,
           "rgb(8,48,107)"
          ]
         ],
         "connectgaps": true,
         "contours": {
          "coloring": "heatmap"
         },
         "hoverinfo": "none",
         "line": {
          "smoothing": 1.3
         },
         "reversescale": true,
         "showscale": false,
         "type": "contour",
         "x": [
          0.8,
          1,
          2,
          3,
          4,
          5,
          5.2
         ],
         "xaxis": "x11",
         "y": [
          0.55,
          1,
          3,
          4,
          5,
          6,
          7,
          8,
          9,
          10,
          10.45
         ],
         "yaxis": "y11",
         "z": [
          [
           null,
           null,
           null,
           null,
           null,
           null,
           null
          ],
          [
           null,
           null,
           null,
           295.5629350975515,
           null,
           null,
           null
          ],
          [
           null,
           null,
           300.52143236899076,
           null,
           null,
           null,
           null
          ],
          [
           null,
           null,
           null,
           null,
           304.03386539977964,
           283.2807276882358,
           null
          ],
          [
           null,
           null,
           null,
           null,
           null,
           273.79601453438835,
           null
          ],
          [
           null,
           null,
           null,
           null,
           278.94629079155453,
           null,
           null
          ],
          [
           null,
           null,
           null,
           null,
           276.74671443198764,
           271.49591067615756,
           null
          ],
          [
           null,
           332.55008327583477,
           308.53367298411746,
           null,
           null,
           273.444987256417,
           null
          ],
          [
           null,
           null,
           null,
           283.50459280274885,
           null,
           301.43305375914196,
           null
          ],
          [
           null,
           null,
           null,
           285.1248389204696,
           null,
           274.4046644468086,
           null
          ],
          [
           null,
           null,
           null,
           null,
           null,
           null,
           null
          ]
         ]
        },
        {
         "marker": {
          "color": "black",
          "line": {
           "color": "Grey",
           "width": 2
          }
         },
         "mode": "markers",
         "showlegend": false,
         "type": "scatter",
         "x": [
          5,
          2,
          2,
          4,
          5,
          5,
          5,
          1,
          2,
          5,
          3,
          4,
          4,
          5,
          4,
          3,
          5,
          4,
          3,
          5
         ],
         "xaxis": "x11",
         "y": [
          9,
          3,
          3,
          4,
          5,
          8,
          10,
          8,
          8,
          4,
          1,
          6,
          6,
          7,
          7,
          10,
          8,
          7,
          9,
          7
         ],
         "yaxis": "y11"
        },
        {
         "colorbar": {
          "title": {
           "text": "Objective Value"
          }
         },
         "colorscale": [
          [
           0,
           "rgb(247,251,255)"
          ],
          [
           0.125,
           "rgb(222,235,247)"
          ],
          [
           0.25,
           "rgb(198,219,239)"
          ],
          [
           0.375,
           "rgb(158,202,225)"
          ],
          [
           0.5,
           "rgb(107,174,214)"
          ],
          [
           0.625,
           "rgb(66,146,198)"
          ],
          [
           0.75,
           "rgb(33,113,181)"
          ],
          [
           0.875,
           "rgb(8,81,156)"
          ],
          [
           1,
           "rgb(8,48,107)"
          ]
         ],
         "connectgaps": true,
         "contours": {
          "coloring": "heatmap"
         },
         "hoverinfo": "none",
         "line": {
          "smoothing": 1.3
         },
         "reversescale": true,
         "showscale": false,
         "type": "contour",
         "x": [
          0.8,
          1,
          2,
          3,
          4,
          5,
          5.2
         ],
         "xaxis": "x16",
         "y": [
          1.1,
          2,
          3,
          5,
          7,
          8,
          9,
          11,
          12,
          13,
          14,
          15,
          16,
          19,
          20,
          20.9
         ],
         "yaxis": "y16",
         "z": [
          [
           null,
           null,
           null,
           null,
           null,
           null,
           null
          ],
          [
           null,
           null,
           null,
           283.50459280274885,
           null,
           null,
           null
          ],
          [
           null,
           null,
           null,
           295.5629350975515,
           null,
           null,
           null
          ],
          [
           null,
           332.55008327583477,
           null,
           null,
           null,
           null,
           null
          ],
          [
           null,
           null,
           300.52143236899076,
           null,
           null,
           null,
           null
          ],
          [
           null,
           null,
           null,
           285.1248389204696,
           278.94629079155453,
           272.615340823305,
           null
          ],
          [
           null,
           null,
           null,
           null,
           276.74671443198764,
           null,
           null
          ],
          [
           null,
           null,
           null,
           null,
           304.03386539977964,
           274.4046644468086,
           null
          ],
          [
           null,
           null,
           308.53367298411746,
           null,
           null,
           null,
           null
          ],
          [
           null,
           null,
           null,
           null,
           null,
           273.79601453438835,
           null
          ],
          [
           null,
           null,
           null,
           null,
           null,
           271.49591067615756,
           null
          ],
          [
           null,
           null,
           null,
           null,
           278.76668166635943,
           271.8207226549857,
           null
          ],
          [
           null,
           null,
           null,
           null,
           275.9964588758103,
           273.444987256417,
           null
          ],
          [
           null,
           null,
           313.27341417674563,
           null,
           null,
           null,
           null
          ],
          [
           null,
           null,
           null,
           null,
           null,
           283.2807276882358,
           null
          ],
          [
           null,
           null,
           null,
           null,
           null,
           null,
           null
          ]
         ]
        },
        {
         "marker": {
          "color": "black",
          "line": {
           "color": "Grey",
           "width": 2
          }
         },
         "mode": "markers",
         "showlegend": false,
         "type": "scatter",
         "x": [
          5,
          2,
          2,
          4,
          5,
          5,
          5,
          1,
          2,
          5,
          3,
          4,
          4,
          5,
          4,
          3,
          5,
          4,
          3,
          5
         ],
         "xaxis": "x16",
         "y": [
          20,
          19,
          7,
          11,
          13,
          8,
          11,
          5,
          12,
          20,
          3,
          15,
          8,
          15,
          16,
          8,
          16,
          9,
          2,
          14
         ],
         "yaxis": "y16"
        },
        {
         "colorbar": {
          "title": {
           "text": "Objective Value"
          }
         },
         "colorscale": [
          [
           0,
           "rgb(247,251,255)"
          ],
          [
           0.125,
           "rgb(222,235,247)"
          ],
          [
           0.25,
           "rgb(198,219,239)"
          ],
          [
           0.375,
           "rgb(158,202,225)"
          ],
          [
           0.5,
           "rgb(107,174,214)"
          ],
          [
           0.625,
           "rgb(66,146,198)"
          ],
          [
           0.75,
           "rgb(33,113,181)"
          ],
          [
           0.875,
           "rgb(8,81,156)"
          ],
          [
           1,
           "rgb(8,48,107)"
          ]
         ],
         "connectgaps": true,
         "contours": {
          "coloring": "heatmap"
         },
         "hoverinfo": "none",
         "line": {
          "smoothing": 1.3
         },
         "reversescale": true,
         "showscale": false,
         "type": "contour",
         "x": [
          0.8,
          1,
          2,
          3,
          4,
          5,
          5.2
         ],
         "xaxis": "x21",
         "y": [
          11,
          20,
          40,
          60,
          80,
          100,
          120,
          160,
          200,
          209
         ],
         "yaxis": "y21",
         "z": [
          [
           null,
           null,
           null,
           null,
           null,
           null,
           null
          ],
          [
           null,
           null,
           null,
           295.5629350975515,
           null,
           273.444987256417,
           null
          ],
          [
           null,
           null,
           null,
           null,
           null,
           274.4046644468086,
           null
          ],
          [
           null,
           null,
           313.27341417674563,
           283.50459280274885,
           275.9964588758103,
           null,
           null
          ],
          [
           null,
           null,
           null,
           null,
           276.74671443198764,
           271.8207226549857,
           null
          ],
          [
           null,
           332.55008327583477,
           null,
           null,
           null,
           null,
           null
          ],
          [
           null,
           null,
           308.53367298411746,
           null,
           304.03386539977964,
           301.43305375914196,
           null
          ],
          [
           null,
           null,
           null,
           285.1248389204696,
           278.94629079155453,
           271.49591067615756,
           null
          ],
          [
           null,
           null,
           null,
           null,
           null,
           283.2807276882358,
           null
          ],
          [
           null,
           null,
           null,
           null,
           null,
           null,
           null
          ]
         ]
        },
        {
         "marker": {
          "color": "black",
          "line": {
           "color": "Grey",
           "width": 2
          }
         },
         "mode": "markers",
         "showlegend": false,
         "type": "scatter",
         "x": [
          5,
          2,
          2,
          4,
          5,
          5,
          5,
          1,
          2,
          5,
          3,
          4,
          4,
          5,
          4,
          3,
          5,
          4,
          3,
          5
         ],
         "xaxis": "x21",
         "y": [
          120,
          60,
          120,
          120,
          80,
          80,
          40,
          100,
          120,
          200,
          20,
          80,
          160,
          80,
          60,
          160,
          20,
          80,
          60,
          160
         ],
         "yaxis": "y21"
        },
        {
         "colorbar": {
          "title": {
           "text": "Objective Value"
          }
         },
         "colorscale": [
          [
           0,
           "rgb(247,251,255)"
          ],
          [
           0.125,
           "rgb(222,235,247)"
          ],
          [
           0.25,
           "rgb(198,219,239)"
          ],
          [
           0.375,
           "rgb(158,202,225)"
          ],
          [
           0.5,
           "rgb(107,174,214)"
          ],
          [
           0.625,
           "rgb(66,146,198)"
          ],
          [
           0.75,
           "rgb(33,113,181)"
          ],
          [
           0.875,
           "rgb(8,81,156)"
          ],
          [
           1,
           "rgb(8,48,107)"
          ]
         ],
         "connectgaps": true,
         "contours": {
          "coloring": "heatmap"
         },
         "hoverinfo": "none",
         "line": {
          "smoothing": 1.3
         },
         "reversescale": true,
         "showscale": false,
         "type": "contour",
         "x": [
          0.8,
          1,
          2,
          3,
          4,
          5,
          5.2
         ],
         "xaxis": "x2",
         "y": [
          0.8,
          1,
          2,
          3,
          4,
          5,
          5.2
         ],
         "yaxis": "y2",
         "z": [
          [
           null,
           null,
           null,
           null,
           null,
           null,
           null
          ],
          [
           null,
           null,
           null,
           332.55008327583477,
           null,
           null,
           null
          ],
          [
           null,
           null,
           308.53367298411746,
           300.52143236899076,
           null,
           null,
           null
          ],
          [
           null,
           null,
           null,
           null,
           283.50459280274885,
           295.5629350975515,
           null
          ],
          [
           null,
           304.03386539977964,
           null,
           null,
           275.9964588758103,
           276.74671443198764,
           null
          ],
          [
           null,
           301.43305375914196,
           283.2807276882358,
           274.4046644468086,
           273.444987256417,
           271.49591067615756,
           null
          ],
          [
           null,
           null,
           null,
           null,
           null,
           null,
           null
          ]
         ]
        },
        {
         "marker": {
          "color": "black",
          "line": {
           "color": "Grey",
           "width": 2
          }
         },
         "mode": "markers",
         "showlegend": false,
         "type": "scatter",
         "x": [
          1,
          2,
          3,
          1,
          3,
          4,
          3,
          3,
          2,
          2,
          5,
          5,
          4,
          4,
          4,
          4,
          4,
          5,
          4,
          5
         ],
         "xaxis": "x2",
         "y": [
          5,
          2,
          2,
          4,
          5,
          5,
          5,
          1,
          2,
          5,
          3,
          4,
          4,
          5,
          4,
          3,
          5,
          4,
          3,
          5
         ],
         "yaxis": "y2"
        },
        {
         "type": "scatter",
         "xaxis": "x7",
         "yaxis": "y7"
        },
        {
         "colorbar": {
          "title": {
           "text": "Objective Value"
          }
         },
         "colorscale": [
          [
           0,
           "rgb(247,251,255)"
          ],
          [
           0.125,
           "rgb(222,235,247)"
          ],
          [
           0.25,
           "rgb(198,219,239)"
          ],
          [
           0.375,
           "rgb(158,202,225)"
          ],
          [
           0.5,
           "rgb(107,174,214)"
          ],
          [
           0.625,
           "rgb(66,146,198)"
          ],
          [
           0.75,
           "rgb(33,113,181)"
          ],
          [
           0.875,
           "rgb(8,81,156)"
          ],
          [
           1,
           "rgb(8,48,107)"
          ]
         ],
         "connectgaps": true,
         "contours": {
          "coloring": "heatmap"
         },
         "hoverinfo": "none",
         "line": {
          "smoothing": 1.3
         },
         "reversescale": true,
         "showscale": false,
         "type": "contour",
         "x": [
          0.8,
          1,
          2,
          3,
          4,
          5,
          5.2
         ],
         "xaxis": "x12",
         "y": [
          0.55,
          1,
          3,
          4,
          5,
          6,
          7,
          8,
          9,
          10,
          10.45
         ],
         "yaxis": "y12",
         "z": [
          [
           null,
           null,
           null,
           null,
           null,
           null,
           null
          ],
          [
           null,
           null,
           null,
           null,
           null,
           295.5629350975515,
           null
          ],
          [
           null,
           null,
           313.27341417674563,
           300.52143236899076,
           null,
           null,
           null
          ],
          [
           null,
           304.03386539977964,
           283.2807276882358,
           null,
           null,
           null,
           null
          ],
          [
           null,
           null,
           null,
           273.79601453438835,
           null,
           null,
           null
          ],
          [
           null,
           null,
           null,
           null,
           278.94629079155453,
           278.76668166635943,
           null
          ],
          [
           null,
           null,
           null,
           null,
           275.9964588758103,
           271.49591067615756,
           null
          ],
          [
           null,
           null,
           308.53367298411746,
           332.55008327583477,
           273.444987256417,
           null,
           null
          ],
          [
           null,
           301.43305375914196,
           null,
           null,
           283.50459280274885,
           null,
           null
          ],
          [
           null,
           null,
           null,
           274.4046644468086,
           285.1248389204696,
           null,
           null
          ],
          [
           null,
           null,
           null,
           null,
           null,
           null,
           null
          ]
         ]
        },
        {
         "marker": {
          "color": "black",
          "line": {
           "color": "Grey",
           "width": 2
          }
         },
         "mode": "markers",
         "showlegend": false,
         "type": "scatter",
         "x": [
          1,
          2,
          3,
          1,
          3,
          4,
          3,
          3,
          2,
          2,
          5,
          5,
          4,
          4,
          4,
          4,
          4,
          5,
          4,
          5
         ],
         "xaxis": "x12",
         "y": [
          9,
          3,
          3,
          4,
          5,
          8,
          10,
          8,
          8,
          4,
          1,
          6,
          6,
          7,
          7,
          10,
          8,
          7,
          9,
          7
         ],
         "yaxis": "y12"
        },
        {
         "colorbar": {
          "title": {
           "text": "Objective Value"
          }
         },
         "colorscale": [
          [
           0,
           "rgb(247,251,255)"
          ],
          [
           0.125,
           "rgb(222,235,247)"
          ],
          [
           0.25,
           "rgb(198,219,239)"
          ],
          [
           0.375,
           "rgb(158,202,225)"
          ],
          [
           0.5,
           "rgb(107,174,214)"
          ],
          [
           0.625,
           "rgb(66,146,198)"
          ],
          [
           0.75,
           "rgb(33,113,181)"
          ],
          [
           0.875,
           "rgb(8,81,156)"
          ],
          [
           1,
           "rgb(8,48,107)"
          ]
         ],
         "connectgaps": true,
         "contours": {
          "coloring": "heatmap"
         },
         "hoverinfo": "none",
         "line": {
          "smoothing": 1.3
         },
         "reversescale": true,
         "showscale": false,
         "type": "contour",
         "x": [
          0.8,
          1,
          2,
          3,
          4,
          5,
          5.2
         ],
         "xaxis": "x17",
         "y": [
          1.1,
          2,
          3,
          5,
          7,
          8,
          9,
          11,
          12,
          13,
          14,
          15,
          16,
          19,
          20,
          20.9
         ],
         "yaxis": "y17",
         "z": [
          [
           null,
           null,
           null,
           null,
           null,
           null,
           null
          ],
          [
           null,
           null,
           null,
           null,
           283.50459280274885,
           null,
           null
          ],
          [
           null,
           null,
           null,
           null,
           null,
           295.5629350975515,
           null
          ],
          [
           null,
           null,
           null,
           332.55008327583477,
           null,
           null,
           null
          ],
          [
           null,
           null,
           null,
           300.52143236899076,
           null,
           null,
           null
          ],
          [
           null,
           null,
           null,
           null,
           285.1248389204696,
           null,
           null
          ],
          [
           null,
           null,
           null,
           null,
           null,
           276.74671443198764,
           null
          ],
          [
           null,
           304.03386539977964,
           null,
           274.4046644468086,
           null,
           null,
           null
          ],
          [
           null,
           null,
           308.53367298411746,
           null,
           null,
           null,
           null
          ],
          [
           null,
           null,
           null,
           273.79601453438835,
           null,
           null,
           null
          ],
          [
           null,
           null,
           null,
           null,
           null,
           271.49591067615756,
           null
          ],
          [
           null,
           null,
           null,
           null,
           271.8207226549857,
           278.76668166635943,
           null
          ],
          [
           null,
           null,
           null,
           null,
           273.444987256417,
           null,
           null
          ],
          [
           null,
           null,
           313.27341417674563,
           null,
           null,
           null,
           null
          ],
          [
           null,
           301.43305375914196,
           283.2807276882358,
           null,
           null,
           null,
           null
          ],
          [
           null,
           null,
           null,
           null,
           null,
           null,
           null
          ]
         ]
        },
        {
         "marker": {
          "color": "black",
          "line": {
           "color": "Grey",
           "width": 2
          }
         },
         "mode": "markers",
         "showlegend": false,
         "type": "scatter",
         "x": [
          1,
          2,
          3,
          1,
          3,
          4,
          3,
          3,
          2,
          2,
          5,
          5,
          4,
          4,
          4,
          4,
          4,
          5,
          4,
          5
         ],
         "xaxis": "x17",
         "y": [
          20,
          19,
          7,
          11,
          13,
          8,
          11,
          5,
          12,
          20,
          3,
          15,
          8,
          15,
          16,
          8,
          16,
          9,
          2,
          14
         ],
         "yaxis": "y17"
        },
        {
         "colorbar": {
          "title": {
           "text": "Objective Value"
          }
         },
         "colorscale": [
          [
           0,
           "rgb(247,251,255)"
          ],
          [
           0.125,
           "rgb(222,235,247)"
          ],
          [
           0.25,
           "rgb(198,219,239)"
          ],
          [
           0.375,
           "rgb(158,202,225)"
          ],
          [
           0.5,
           "rgb(107,174,214)"
          ],
          [
           0.625,
           "rgb(66,146,198)"
          ],
          [
           0.75,
           "rgb(33,113,181)"
          ],
          [
           0.875,
           "rgb(8,81,156)"
          ],
          [
           1,
           "rgb(8,48,107)"
          ]
         ],
         "connectgaps": true,
         "contours": {
          "coloring": "heatmap"
         },
         "hoverinfo": "none",
         "line": {
          "smoothing": 1.3
         },
         "reversescale": true,
         "showscale": false,
         "type": "contour",
         "x": [
          0.8,
          1,
          2,
          3,
          4,
          5,
          5.2
         ],
         "xaxis": "x22",
         "y": [
          11,
          20,
          40,
          60,
          80,
          100,
          120,
          160,
          200,
          209
         ],
         "yaxis": "y22",
         "z": [
          [
           null,
           null,
           null,
           null,
           null,
           null,
           null
          ],
          [
           null,
           null,
           null,
           null,
           273.444987256417,
           295.5629350975515,
           null
          ],
          [
           null,
           null,
           null,
           274.4046644468086,
           null,
           null,
           null
          ],
          [
           null,
           null,
           313.27341417674563,
           null,
           283.50459280274885,
           null,
           null
          ],
          [
           null,
           null,
           null,
           273.79601453438835,
           271.8207226549857,
           276.74671443198764,
           null
          ],
          [
           null,
           null,
           null,
           332.55008327583477,
           null,
           null,
           null
          ],
          [
           null,
           304.03386539977964,
           308.53367298411746,
           300.52143236899076,
           null,
           null,
           null
          ],
          [
           null,
           null,
           null,
           null,
           285.1248389204696,
           271.49591067615756,
           null
          ],
          [
           null,
           null,
           283.2807276882358,
           null,
           null,
           null,
           null
          ],
          [
           null,
           null,
           null,
           null,
           null,
           null,
           null
          ]
         ]
        },
        {
         "marker": {
          "color": "black",
          "line": {
           "color": "Grey",
           "width": 2
          }
         },
         "mode": "markers",
         "showlegend": false,
         "type": "scatter",
         "x": [
          1,
          2,
          3,
          1,
          3,
          4,
          3,
          3,
          2,
          2,
          5,
          5,
          4,
          4,
          4,
          4,
          4,
          5,
          4,
          5
         ],
         "xaxis": "x22",
         "y": [
          120,
          60,
          120,
          120,
          80,
          80,
          40,
          100,
          120,
          200,
          20,
          80,
          160,
          80,
          60,
          160,
          20,
          80,
          60,
          160
         ],
         "yaxis": "y22"
        },
        {
         "colorbar": {
          "title": {
           "text": "Objective Value"
          }
         },
         "colorscale": [
          [
           0,
           "rgb(247,251,255)"
          ],
          [
           0.125,
           "rgb(222,235,247)"
          ],
          [
           0.25,
           "rgb(198,219,239)"
          ],
          [
           0.375,
           "rgb(158,202,225)"
          ],
          [
           0.5,
           "rgb(107,174,214)"
          ],
          [
           0.625,
           "rgb(66,146,198)"
          ],
          [
           0.75,
           "rgb(33,113,181)"
          ],
          [
           0.875,
           "rgb(8,81,156)"
          ],
          [
           1,
           "rgb(8,48,107)"
          ]
         ],
         "connectgaps": true,
         "contours": {
          "coloring": "heatmap"
         },
         "hoverinfo": "none",
         "line": {
          "smoothing": 1.3
         },
         "reversescale": true,
         "showscale": false,
         "type": "contour",
         "x": [
          0.55,
          1,
          3,
          4,
          5,
          6,
          7,
          8,
          9,
          10,
          10.45
         ],
         "xaxis": "x3",
         "y": [
          0.8,
          1,
          2,
          3,
          4,
          5,
          5.2
         ],
         "yaxis": "y3",
         "z": [
          [
           null,
           null,
           null,
           null,
           null,
           null,
           null,
           null,
           null,
           null,
           null
          ],
          [
           null,
           null,
           null,
           null,
           null,
           null,
           null,
           332.55008327583477,
           null,
           null,
           null
          ],
          [
           null,
           null,
           300.52143236899076,
           null,
           null,
           null,
           null,
           308.53367298411746,
           null,
           null,
           null
          ],
          [
           null,
           295.5629350975515,
           null,
           null,
           null,
           null,
           null,
           null,
           283.50459280274885,
           285.1248389204696,
           null
          ],
          [
           null,
           null,
           null,
           304.03386539977964,
           null,
           278.94629079155453,
           276.74671443198764,
           null,
           null,
           null,
           null
          ],
          [
           null,
           null,
           null,
           283.2807276882358,
           273.79601453438835,
           null,
           271.49591067615756,
           273.444987256417,
           301.43305375914196,
           274.4046644468086,
           null
          ],
          [
           null,
           null,
           null,
           null,
           null,
           null,
           null,
           null,
           null,
           null,
           null
          ]
         ]
        },
        {
         "marker": {
          "color": "black",
          "line": {
           "color": "Grey",
           "width": 2
          }
         },
         "mode": "markers",
         "showlegend": false,
         "type": "scatter",
         "x": [
          9,
          3,
          3,
          4,
          5,
          8,
          10,
          8,
          8,
          4,
          1,
          6,
          6,
          7,
          7,
          10,
          8,
          7,
          9,
          7
         ],
         "xaxis": "x3",
         "y": [
          5,
          2,
          2,
          4,
          5,
          5,
          5,
          1,
          2,
          5,
          3,
          4,
          4,
          5,
          4,
          3,
          5,
          4,
          3,
          5
         ],
         "yaxis": "y3"
        },
        {
         "colorbar": {
          "title": {
           "text": "Objective Value"
          }
         },
         "colorscale": [
          [
           0,
           "rgb(247,251,255)"
          ],
          [
           0.125,
           "rgb(222,235,247)"
          ],
          [
           0.25,
           "rgb(198,219,239)"
          ],
          [
           0.375,
           "rgb(158,202,225)"
          ],
          [
           0.5,
           "rgb(107,174,214)"
          ],
          [
           0.625,
           "rgb(66,146,198)"
          ],
          [
           0.75,
           "rgb(33,113,181)"
          ],
          [
           0.875,
           "rgb(8,81,156)"
          ],
          [
           1,
           "rgb(8,48,107)"
          ]
         ],
         "connectgaps": true,
         "contours": {
          "coloring": "heatmap"
         },
         "hoverinfo": "none",
         "line": {
          "smoothing": 1.3
         },
         "reversescale": true,
         "showscale": false,
         "type": "contour",
         "x": [
          0.55,
          1,
          3,
          4,
          5,
          6,
          7,
          8,
          9,
          10,
          10.45
         ],
         "xaxis": "x8",
         "y": [
          0.8,
          1,
          2,
          3,
          4,
          5,
          5.2
         ],
         "yaxis": "y8",
         "z": [
          [
           null,
           null,
           null,
           null,
           null,
           null,
           null,
           null,
           null,
           null,
           null
          ],
          [
           null,
           null,
           null,
           304.03386539977964,
           null,
           null,
           null,
           null,
           301.43305375914196,
           null,
           null
          ],
          [
           null,
           null,
           313.27341417674563,
           283.2807276882358,
           null,
           null,
           null,
           308.53367298411746,
           null,
           null,
           null
          ],
          [
           null,
           null,
           300.52143236899076,
           null,
           273.79601453438835,
           null,
           null,
           332.55008327583477,
           null,
           274.4046644468086,
           null
          ],
          [
           null,
           null,
           null,
           null,
           null,
           278.94629079155453,
           275.9964588758103,
           273.444987256417,
           283.50459280274885,
           285.1248389204696,
           null
          ],
          [
           null,
           295.5629350975515,
           null,
           null,
           null,
           278.76668166635943,
           271.49591067615756,
           null,
           null,
           null,
           null
          ],
          [
           null,
           null,
           null,
           null,
           null,
           null,
           null,
           null,
           null,
           null,
           null
          ]
         ]
        },
        {
         "marker": {
          "color": "black",
          "line": {
           "color": "Grey",
           "width": 2
          }
         },
         "mode": "markers",
         "showlegend": false,
         "type": "scatter",
         "x": [
          9,
          3,
          3,
          4,
          5,
          8,
          10,
          8,
          8,
          4,
          1,
          6,
          6,
          7,
          7,
          10,
          8,
          7,
          9,
          7
         ],
         "xaxis": "x8",
         "y": [
          1,
          2,
          3,
          1,
          3,
          4,
          3,
          3,
          2,
          2,
          5,
          5,
          4,
          4,
          4,
          4,
          4,
          5,
          4,
          5
         ],
         "yaxis": "y8"
        },
        {
         "type": "scatter",
         "xaxis": "x13",
         "yaxis": "y13"
        },
        {
         "colorbar": {
          "title": {
           "text": "Objective Value"
          }
         },
         "colorscale": [
          [
           0,
           "rgb(247,251,255)"
          ],
          [
           0.125,
           "rgb(222,235,247)"
          ],
          [
           0.25,
           "rgb(198,219,239)"
          ],
          [
           0.375,
           "rgb(158,202,225)"
          ],
          [
           0.5,
           "rgb(107,174,214)"
          ],
          [
           0.625,
           "rgb(66,146,198)"
          ],
          [
           0.75,
           "rgb(33,113,181)"
          ],
          [
           0.875,
           "rgb(8,81,156)"
          ],
          [
           1,
           "rgb(8,48,107)"
          ]
         ],
         "connectgaps": true,
         "contours": {
          "coloring": "heatmap"
         },
         "hoverinfo": "none",
         "line": {
          "smoothing": 1.3
         },
         "reversescale": true,
         "showscale": false,
         "type": "contour",
         "x": [
          0.55,
          1,
          3,
          4,
          5,
          6,
          7,
          8,
          9,
          10,
          10.45
         ],
         "xaxis": "x18",
         "y": [
          1.1,
          2,
          3,
          5,
          7,
          8,
          9,
          11,
          12,
          13,
          14,
          15,
          16,
          19,
          20,
          20.9
         ],
         "yaxis": "y18",
         "z": [
          [
           null,
           null,
           null,
           null,
           null,
           null,
           null,
           null,
           null,
           null,
           null
          ],
          [
           null,
           null,
           null,
           null,
           null,
           null,
           null,
           null,
           283.50459280274885,
           null,
           null
          ],
          [
           null,
           295.5629350975515,
           null,
           null,
           null,
           null,
           null,
           null,
           null,
           null,
           null
          ],
          [
           null,
           null,
           null,
           null,
           null,
           null,
           null,
           332.55008327583477,
           null,
           null,
           null
          ],
          [
           null,
           null,
           300.52143236899076,
           null,
           null,
           null,
           null,
           null,
           null,
           null,
           null
          ],
          [
           null,
           null,
           null,
           null,
           null,
           278.94629079155453,
           null,
           272.615340823305,
           null,
           285.1248389204696,
           null
          ],
          [
           null,
           null,
           null,
           null,
           null,
           null,
           276.74671443198764,
           null,
           null,
           null,
           null
          ],
          [
           null,
           null,
           null,
           304.03386539977964,
           null,
           null,
           null,
           null,
           null,
           274.4046644468086,
           null
          ],
          [
           null,
           null,
           null,
           null,
           null,
           null,
           null,
           308.53367298411746,
           null,
           null,
           null
          ],
          [
           null,
           null,
           null,
           null,
           273.79601453438835,
           null,
           null,
           null,
           null,
           null,
           null
          ],
          [
           null,
           null,
           null,
           null,
           null,
           null,
           271.49591067615756,
           null,
           null,
           null,
           null
          ],
          [
           null,
           null,
           null,
           null,
           null,
           278.76668166635943,
           271.8207226549857,
           null,
           null,
           null,
           null
          ],
          [
           null,
           null,
           null,
           null,
           null,
           null,
           275.9964588758103,
           273.444987256417,
           null,
           null,
           null
          ],
          [
           null,
           null,
           313.27341417674563,
           null,
           null,
           null,
           null,
           null,
           null,
           null,
           null
          ],
          [
           null,
           null,
           null,
           283.2807276882358,
           null,
           null,
           null,
           null,
           301.43305375914196,
           null,
           null
          ],
          [
           null,
           null,
           null,
           null,
           null,
           null,
           null,
           null,
           null,
           null,
           null
          ]
         ]
        },
        {
         "marker": {
          "color": "black",
          "line": {
           "color": "Grey",
           "width": 2
          }
         },
         "mode": "markers",
         "showlegend": false,
         "type": "scatter",
         "x": [
          9,
          3,
          3,
          4,
          5,
          8,
          10,
          8,
          8,
          4,
          1,
          6,
          6,
          7,
          7,
          10,
          8,
          7,
          9,
          7
         ],
         "xaxis": "x18",
         "y": [
          20,
          19,
          7,
          11,
          13,
          8,
          11,
          5,
          12,
          20,
          3,
          15,
          8,
          15,
          16,
          8,
          16,
          9,
          2,
          14
         ],
         "yaxis": "y18"
        },
        {
         "colorbar": {
          "title": {
           "text": "Objective Value"
          }
         },
         "colorscale": [
          [
           0,
           "rgb(247,251,255)"
          ],
          [
           0.125,
           "rgb(222,235,247)"
          ],
          [
           0.25,
           "rgb(198,219,239)"
          ],
          [
           0.375,
           "rgb(158,202,225)"
          ],
          [
           0.5,
           "rgb(107,174,214)"
          ],
          [
           0.625,
           "rgb(66,146,198)"
          ],
          [
           0.75,
           "rgb(33,113,181)"
          ],
          [
           0.875,
           "rgb(8,81,156)"
          ],
          [
           1,
           "rgb(8,48,107)"
          ]
         ],
         "connectgaps": true,
         "contours": {
          "coloring": "heatmap"
         },
         "hoverinfo": "none",
         "line": {
          "smoothing": 1.3
         },
         "reversescale": true,
         "showscale": false,
         "type": "contour",
         "x": [
          0.55,
          1,
          3,
          4,
          5,
          6,
          7,
          8,
          9,
          10,
          10.45
         ],
         "xaxis": "x23",
         "y": [
          11,
          20,
          40,
          60,
          80,
          100,
          120,
          160,
          200,
          209
         ],
         "yaxis": "y23",
         "z": [
          [
           null,
           null,
           null,
           null,
           null,
           null,
           null,
           null,
           null,
           null,
           null
          ],
          [
           null,
           295.5629350975515,
           null,
           null,
           null,
           null,
           null,
           273.444987256417,
           null,
           null,
           null
          ],
          [
           null,
           null,
           null,
           null,
           null,
           null,
           null,
           null,
           null,
           274.4046644468086,
           null
          ],
          [
           null,
           null,
           313.27341417674563,
           null,
           null,
           null,
           275.9964588758103,
           null,
           283.50459280274885,
           null,
           null
          ],
          [
           null,
           null,
           null,
           null,
           273.79601453438835,
           278.76668166635943,
           276.74671443198764,
           272.615340823305,
           null,
           null,
           null
          ],
          [
           null,
           null,
           null,
           null,
           null,
           null,
           null,
           332.55008327583477,
           null,
           null,
           null
          ],
          [
           null,
           null,
           300.52143236899076,
           304.03386539977964,
           null,
           null,
           null,
           308.53367298411746,
           301.43305375914196,
           null,
           null
          ],
          [
           null,
           null,
           null,
           null,
           null,
           278.94629079155453,
           271.49591067615756,
           null,
           null,
           285.1248389204696,
           null
          ],
          [
           null,
           null,
           null,
           283.2807276882358,
           null,
           null,
           null,
           null,
           null,
           null,
           null
          ],
          [
           null,
           null,
           null,
           null,
           null,
           null,
           null,
           null,
           null,
           null,
           null
          ]
         ]
        },
        {
         "marker": {
          "color": "black",
          "line": {
           "color": "Grey",
           "width": 2
          }
         },
         "mode": "markers",
         "showlegend": false,
         "type": "scatter",
         "x": [
          9,
          3,
          3,
          4,
          5,
          8,
          10,
          8,
          8,
          4,
          1,
          6,
          6,
          7,
          7,
          10,
          8,
          7,
          9,
          7
         ],
         "xaxis": "x23",
         "y": [
          120,
          60,
          120,
          120,
          80,
          80,
          40,
          100,
          120,
          200,
          20,
          80,
          160,
          80,
          60,
          160,
          20,
          80,
          60,
          160
         ],
         "yaxis": "y23"
        },
        {
         "colorbar": {
          "title": {
           "text": "Objective Value"
          }
         },
         "colorscale": [
          [
           0,
           "rgb(247,251,255)"
          ],
          [
           0.125,
           "rgb(222,235,247)"
          ],
          [
           0.25,
           "rgb(198,219,239)"
          ],
          [
           0.375,
           "rgb(158,202,225)"
          ],
          [
           0.5,
           "rgb(107,174,214)"
          ],
          [
           0.625,
           "rgb(66,146,198)"
          ],
          [
           0.75,
           "rgb(33,113,181)"
          ],
          [
           0.875,
           "rgb(8,81,156)"
          ],
          [
           1,
           "rgb(8,48,107)"
          ]
         ],
         "connectgaps": true,
         "contours": {
          "coloring": "heatmap"
         },
         "hoverinfo": "none",
         "line": {
          "smoothing": 1.3
         },
         "reversescale": true,
         "showscale": false,
         "type": "contour",
         "x": [
          1.1,
          2,
          3,
          5,
          7,
          8,
          9,
          11,
          12,
          13,
          14,
          15,
          16,
          19,
          20,
          20.9
         ],
         "xaxis": "x4",
         "y": [
          0.8,
          1,
          2,
          3,
          4,
          5,
          5.2
         ],
         "yaxis": "y4",
         "z": [
          [
           null,
           null,
           null,
           null,
           null,
           null,
           null,
           null,
           null,
           null,
           null,
           null,
           null,
           null,
           null,
           null
          ],
          [
           null,
           null,
           null,
           332.55008327583477,
           null,
           null,
           null,
           null,
           null,
           null,
           null,
           null,
           null,
           null,
           null,
           null
          ],
          [
           null,
           null,
           null,
           null,
           300.52143236899076,
           null,
           null,
           null,
           308.53367298411746,
           null,
           null,
           null,
           null,
           313.27341417674563,
           null,
           null
          ],
          [
           null,
           283.50459280274885,
           295.5629350975515,
           null,
           null,
           285.1248389204696,
           null,
           null,
           null,
           null,
           null,
           null,
           null,
           null,
           null,
           null
          ],
          [
           null,
           null,
           null,
           null,
           null,
           278.94629079155453,
           276.74671443198764,
           304.03386539977964,
           null,
           null,
           null,
           278.76668166635943,
           275.9964588758103,
           null,
           null,
           null
          ],
          [
           null,
           null,
           null,
           null,
           null,
           272.615340823305,
           null,
           274.4046644468086,
           null,
           273.79601453438835,
           271.49591067615756,
           271.8207226549857,
           273.444987256417,
           null,
           283.2807276882358,
           null
          ],
          [
           null,
           null,
           null,
           null,
           null,
           null,
           null,
           null,
           null,
           null,
           null,
           null,
           null,
           null,
           null,
           null
          ]
         ]
        },
        {
         "marker": {
          "color": "black",
          "line": {
           "color": "Grey",
           "width": 2
          }
         },
         "mode": "markers",
         "showlegend": false,
         "type": "scatter",
         "x": [
          20,
          19,
          7,
          11,
          13,
          8,
          11,
          5,
          12,
          20,
          3,
          15,
          8,
          15,
          16,
          8,
          16,
          9,
          2,
          14
         ],
         "xaxis": "x4",
         "y": [
          5,
          2,
          2,
          4,
          5,
          5,
          5,
          1,
          2,
          5,
          3,
          4,
          4,
          5,
          4,
          3,
          5,
          4,
          3,
          5
         ],
         "yaxis": "y4"
        },
        {
         "colorbar": {
          "title": {
           "text": "Objective Value"
          }
         },
         "colorscale": [
          [
           0,
           "rgb(247,251,255)"
          ],
          [
           0.125,
           "rgb(222,235,247)"
          ],
          [
           0.25,
           "rgb(198,219,239)"
          ],
          [
           0.375,
           "rgb(158,202,225)"
          ],
          [
           0.5,
           "rgb(107,174,214)"
          ],
          [
           0.625,
           "rgb(66,146,198)"
          ],
          [
           0.75,
           "rgb(33,113,181)"
          ],
          [
           0.875,
           "rgb(8,81,156)"
          ],
          [
           1,
           "rgb(8,48,107)"
          ]
         ],
         "connectgaps": true,
         "contours": {
          "coloring": "heatmap"
         },
         "hoverinfo": "none",
         "line": {
          "smoothing": 1.3
         },
         "reversescale": true,
         "showscale": false,
         "type": "contour",
         "x": [
          1.1,
          2,
          3,
          5,
          7,
          8,
          9,
          11,
          12,
          13,
          14,
          15,
          16,
          19,
          20,
          20.9
         ],
         "xaxis": "x9",
         "y": [
          0.8,
          1,
          2,
          3,
          4,
          5,
          5.2
         ],
         "yaxis": "y9",
         "z": [
          [
           null,
           null,
           null,
           null,
           null,
           null,
           null,
           null,
           null,
           null,
           null,
           null,
           null,
           null,
           null,
           null
          ],
          [
           null,
           null,
           null,
           null,
           null,
           null,
           null,
           304.03386539977964,
           null,
           null,
           null,
           null,
           null,
           null,
           301.43305375914196,
           null
          ],
          [
           null,
           null,
           null,
           null,
           null,
           null,
           null,
           null,
           308.53367298411746,
           null,
           null,
           null,
           null,
           313.27341417674563,
           283.2807276882358,
           null
          ],
          [
           null,
           null,
           null,
           332.55008327583477,
           300.52143236899076,
           null,
           null,
           274.4046644468086,
           null,
           273.79601453438835,
           null,
           null,
           null,
           null,
           null,
           null
          ],
          [
           null,
           283.50459280274885,
           null,
           null,
           null,
           285.1248389204696,
           null,
           null,
           null,
           null,
           null,
           271.8207226549857,
           273.444987256417,
           null,
           null,
           null
          ],
          [
           null,
           null,
           295.5629350975515,
           null,
           null,
           null,
           276.74671443198764,
           null,
           null,
           null,
           271.49591067615756,
           278.76668166635943,
           null,
           null,
           null,
           null
          ],
          [
           null,
           null,
           null,
           null,
           null,
           null,
           null,
           null,
           null,
           null,
           null,
           null,
           null,
           null,
           null,
           null
          ]
         ]
        },
        {
         "marker": {
          "color": "black",
          "line": {
           "color": "Grey",
           "width": 2
          }
         },
         "mode": "markers",
         "showlegend": false,
         "type": "scatter",
         "x": [
          20,
          19,
          7,
          11,
          13,
          8,
          11,
          5,
          12,
          20,
          3,
          15,
          8,
          15,
          16,
          8,
          16,
          9,
          2,
          14
         ],
         "xaxis": "x9",
         "y": [
          1,
          2,
          3,
          1,
          3,
          4,
          3,
          3,
          2,
          2,
          5,
          5,
          4,
          4,
          4,
          4,
          4,
          5,
          4,
          5
         ],
         "yaxis": "y9"
        },
        {
         "colorbar": {
          "title": {
           "text": "Objective Value"
          }
         },
         "colorscale": [
          [
           0,
           "rgb(247,251,255)"
          ],
          [
           0.125,
           "rgb(222,235,247)"
          ],
          [
           0.25,
           "rgb(198,219,239)"
          ],
          [
           0.375,
           "rgb(158,202,225)"
          ],
          [
           0.5,
           "rgb(107,174,214)"
          ],
          [
           0.625,
           "rgb(66,146,198)"
          ],
          [
           0.75,
           "rgb(33,113,181)"
          ],
          [
           0.875,
           "rgb(8,81,156)"
          ],
          [
           1,
           "rgb(8,48,107)"
          ]
         ],
         "connectgaps": true,
         "contours": {
          "coloring": "heatmap"
         },
         "hoverinfo": "none",
         "line": {
          "smoothing": 1.3
         },
         "reversescale": true,
         "showscale": false,
         "type": "contour",
         "x": [
          1.1,
          2,
          3,
          5,
          7,
          8,
          9,
          11,
          12,
          13,
          14,
          15,
          16,
          19,
          20,
          20.9
         ],
         "xaxis": "x14",
         "y": [
          0.55,
          1,
          3,
          4,
          5,
          6,
          7,
          8,
          9,
          10,
          10.45
         ],
         "yaxis": "y14",
         "z": [
          [
           null,
           null,
           null,
           null,
           null,
           null,
           null,
           null,
           null,
           null,
           null,
           null,
           null,
           null,
           null,
           null
          ],
          [
           null,
           null,
           295.5629350975515,
           null,
           null,
           null,
           null,
           null,
           null,
           null,
           null,
           null,
           null,
           null,
           null,
           null
          ],
          [
           null,
           null,
           null,
           null,
           300.52143236899076,
           null,
           null,
           null,
           null,
           null,
           null,
           null,
           null,
           313.27341417674563,
           null,
           null
          ],
          [
           null,
           null,
           null,
           null,
           null,
           null,
           null,
           304.03386539977964,
           null,
           null,
           null,
           null,
           null,
           null,
           283.2807276882358,
           null
          ],
          [
           null,
           null,
           null,
           null,
           null,
           null,
           null,
           null,
           null,
           273.79601453438835,
           null,
           null,
           null,
           null,
           null,
           null
          ],
          [
           null,
           null,
           null,
           null,
           null,
           278.94629079155453,
           null,
           null,
           null,
           null,
           null,
           278.76668166635943,
           null,
           null,
           null,
           null
          ],
          [
           null,
           null,
           null,
           null,
           null,
           null,
           276.74671443198764,
           null,
           null,
           null,
           271.49591067615756,
           271.8207226549857,
           275.9964588758103,
           null,
           null,
           null
          ],
          [
           null,
           null,
           null,
           332.55008327583477,
           null,
           272.615340823305,
           null,
           null,
           308.53367298411746,
           null,
           null,
           null,
           273.444987256417,
           null,
           null,
           null
          ],
          [
           null,
           283.50459280274885,
           null,
           null,
           null,
           null,
           null,
           null,
           null,
           null,
           null,
           null,
           null,
           null,
           301.43305375914196,
           null
          ],
          [
           null,
           null,
           null,
           null,
           null,
           285.1248389204696,
           null,
           274.4046644468086,
           null,
           null,
           null,
           null,
           null,
           null,
           null,
           null
          ],
          [
           null,
           null,
           null,
           null,
           null,
           null,
           null,
           null,
           null,
           null,
           null,
           null,
           null,
           null,
           null,
           null
          ]
         ]
        },
        {
         "marker": {
          "color": "black",
          "line": {
           "color": "Grey",
           "width": 2
          }
         },
         "mode": "markers",
         "showlegend": false,
         "type": "scatter",
         "x": [
          20,
          19,
          7,
          11,
          13,
          8,
          11,
          5,
          12,
          20,
          3,
          15,
          8,
          15,
          16,
          8,
          16,
          9,
          2,
          14
         ],
         "xaxis": "x14",
         "y": [
          9,
          3,
          3,
          4,
          5,
          8,
          10,
          8,
          8,
          4,
          1,
          6,
          6,
          7,
          7,
          10,
          8,
          7,
          9,
          7
         ],
         "yaxis": "y14"
        },
        {
         "type": "scatter",
         "xaxis": "x19",
         "yaxis": "y19"
        },
        {
         "colorbar": {
          "title": {
           "text": "Objective Value"
          }
         },
         "colorscale": [
          [
           0,
           "rgb(247,251,255)"
          ],
          [
           0.125,
           "rgb(222,235,247)"
          ],
          [
           0.25,
           "rgb(198,219,239)"
          ],
          [
           0.375,
           "rgb(158,202,225)"
          ],
          [
           0.5,
           "rgb(107,174,214)"
          ],
          [
           0.625,
           "rgb(66,146,198)"
          ],
          [
           0.75,
           "rgb(33,113,181)"
          ],
          [
           0.875,
           "rgb(8,81,156)"
          ],
          [
           1,
           "rgb(8,48,107)"
          ]
         ],
         "connectgaps": true,
         "contours": {
          "coloring": "heatmap"
         },
         "hoverinfo": "none",
         "line": {
          "smoothing": 1.3
         },
         "reversescale": true,
         "showscale": false,
         "type": "contour",
         "x": [
          1.1,
          2,
          3,
          5,
          7,
          8,
          9,
          11,
          12,
          13,
          14,
          15,
          16,
          19,
          20,
          20.9
         ],
         "xaxis": "x24",
         "y": [
          11,
          20,
          40,
          60,
          80,
          100,
          120,
          160,
          200,
          209
         ],
         "yaxis": "y24",
         "z": [
          [
           null,
           null,
           null,
           null,
           null,
           null,
           null,
           null,
           null,
           null,
           null,
           null,
           null,
           null,
           null,
           null
          ],
          [
           null,
           null,
           295.5629350975515,
           null,
           null,
           null,
           null,
           null,
           null,
           null,
           null,
           null,
           273.444987256417,
           null,
           null,
           null
          ],
          [
           null,
           null,
           null,
           null,
           null,
           null,
           null,
           274.4046644468086,
           null,
           null,
           null,
           null,
           null,
           null,
           null,
           null
          ],
          [
           null,
           283.50459280274885,
           null,
           null,
           null,
           null,
           null,
           null,
           null,
           null,
           null,
           null,
           275.9964588758103,
           313.27341417674563,
           null,
           null
          ],
          [
           null,
           null,
           null,
           null,
           null,
           272.615340823305,
           276.74671443198764,
           null,
           null,
           273.79601453438835,
           null,
           271.8207226549857,
           null,
           null,
           null,
           null
          ],
          [
           null,
           null,
           null,
           332.55008327583477,
           null,
           null,
           null,
           null,
           null,
           null,
           null,
           null,
           null,
           null,
           null,
           null
          ],
          [
           null,
           null,
           null,
           null,
           300.52143236899076,
           null,
           null,
           304.03386539977964,
           308.53367298411746,
           null,
           null,
           null,
           null,
           null,
           301.43305375914196,
           null
          ],
          [
           null,
           null,
           null,
           null,
           null,
           285.1248389204696,
           null,
           null,
           null,
           null,
           271.49591067615756,
           null,
           null,
           null,
           null,
           null
          ],
          [
           null,
           null,
           null,
           null,
           null,
           null,
           null,
           null,
           null,
           null,
           null,
           null,
           null,
           null,
           283.2807276882358,
           null
          ],
          [
           null,
           null,
           null,
           null,
           null,
           null,
           null,
           null,
           null,
           null,
           null,
           null,
           null,
           null,
           null,
           null
          ]
         ]
        },
        {
         "marker": {
          "color": "black",
          "line": {
           "color": "Grey",
           "width": 2
          }
         },
         "mode": "markers",
         "showlegend": false,
         "type": "scatter",
         "x": [
          20,
          19,
          7,
          11,
          13,
          8,
          11,
          5,
          12,
          20,
          3,
          15,
          8,
          15,
          16,
          8,
          16,
          9,
          2,
          14
         ],
         "xaxis": "x24",
         "y": [
          120,
          60,
          120,
          120,
          80,
          80,
          40,
          100,
          120,
          200,
          20,
          80,
          160,
          80,
          60,
          160,
          20,
          80,
          60,
          160
         ],
         "yaxis": "y24"
        },
        {
         "colorbar": {
          "title": {
           "text": "Objective Value"
          }
         },
         "colorscale": [
          [
           0,
           "rgb(247,251,255)"
          ],
          [
           0.125,
           "rgb(222,235,247)"
          ],
          [
           0.25,
           "rgb(198,219,239)"
          ],
          [
           0.375,
           "rgb(158,202,225)"
          ],
          [
           0.5,
           "rgb(107,174,214)"
          ],
          [
           0.625,
           "rgb(66,146,198)"
          ],
          [
           0.75,
           "rgb(33,113,181)"
          ],
          [
           0.875,
           "rgb(8,81,156)"
          ],
          [
           1,
           "rgb(8,48,107)"
          ]
         ],
         "connectgaps": true,
         "contours": {
          "coloring": "heatmap"
         },
         "hoverinfo": "none",
         "line": {
          "smoothing": 1.3
         },
         "reversescale": true,
         "showscale": false,
         "type": "contour",
         "x": [
          11,
          20,
          40,
          60,
          80,
          100,
          120,
          160,
          200,
          209
         ],
         "xaxis": "x5",
         "y": [
          0.8,
          1,
          2,
          3,
          4,
          5,
          5.2
         ],
         "yaxis": "y5",
         "z": [
          [
           null,
           null,
           null,
           null,
           null,
           null,
           null,
           null,
           null,
           null
          ],
          [
           null,
           null,
           null,
           null,
           null,
           332.55008327583477,
           null,
           null,
           null,
           null
          ],
          [
           null,
           null,
           null,
           313.27341417674563,
           null,
           null,
           308.53367298411746,
           null,
           null,
           null
          ],
          [
           null,
           295.5629350975515,
           null,
           283.50459280274885,
           null,
           null,
           null,
           285.1248389204696,
           null,
           null
          ],
          [
           null,
           null,
           null,
           275.9964588758103,
           276.74671443198764,
           null,
           304.03386539977964,
           278.94629079155453,
           null,
           null
          ],
          [
           null,
           273.444987256417,
           274.4046644468086,
           null,
           271.8207226549857,
           null,
           301.43305375914196,
           271.49591067615756,
           283.2807276882358,
           null
          ],
          [
           null,
           null,
           null,
           null,
           null,
           null,
           null,
           null,
           null,
           null
          ]
         ]
        },
        {
         "marker": {
          "color": "black",
          "line": {
           "color": "Grey",
           "width": 2
          }
         },
         "mode": "markers",
         "showlegend": false,
         "type": "scatter",
         "x": [
          120,
          60,
          120,
          120,
          80,
          80,
          40,
          100,
          120,
          200,
          20,
          80,
          160,
          80,
          60,
          160,
          20,
          80,
          60,
          160
         ],
         "xaxis": "x5",
         "y": [
          5,
          2,
          2,
          4,
          5,
          5,
          5,
          1,
          2,
          5,
          3,
          4,
          4,
          5,
          4,
          3,
          5,
          4,
          3,
          5
         ],
         "yaxis": "y5"
        },
        {
         "colorbar": {
          "title": {
           "text": "Objective Value"
          }
         },
         "colorscale": [
          [
           0,
           "rgb(247,251,255)"
          ],
          [
           0.125,
           "rgb(222,235,247)"
          ],
          [
           0.25,
           "rgb(198,219,239)"
          ],
          [
           0.375,
           "rgb(158,202,225)"
          ],
          [
           0.5,
           "rgb(107,174,214)"
          ],
          [
           0.625,
           "rgb(66,146,198)"
          ],
          [
           0.75,
           "rgb(33,113,181)"
          ],
          [
           0.875,
           "rgb(8,81,156)"
          ],
          [
           1,
           "rgb(8,48,107)"
          ]
         ],
         "connectgaps": true,
         "contours": {
          "coloring": "heatmap"
         },
         "hoverinfo": "none",
         "line": {
          "smoothing": 1.3
         },
         "reversescale": true,
         "showscale": false,
         "type": "contour",
         "x": [
          11,
          20,
          40,
          60,
          80,
          100,
          120,
          160,
          200,
          209
         ],
         "xaxis": "x10",
         "y": [
          0.8,
          1,
          2,
          3,
          4,
          5,
          5.2
         ],
         "yaxis": "y10",
         "z": [
          [
           null,
           null,
           null,
           null,
           null,
           null,
           null,
           null,
           null,
           null
          ],
          [
           null,
           null,
           null,
           null,
           null,
           null,
           304.03386539977964,
           null,
           null,
           null
          ],
          [
           null,
           null,
           null,
           313.27341417674563,
           null,
           null,
           308.53367298411746,
           null,
           283.2807276882358,
           null
          ],
          [
           null,
           null,
           274.4046644468086,
           null,
           273.79601453438835,
           332.55008327583477,
           300.52143236899076,
           null,
           null,
           null
          ],
          [
           null,
           273.444987256417,
           null,
           283.50459280274885,
           271.8207226549857,
           null,
           null,
           285.1248389204696,
           null,
           null
          ],
          [
           null,
           295.5629350975515,
           null,
           null,
           276.74671443198764,
           null,
           null,
           271.49591067615756,
           null,
           null
          ],
          [
           null,
           null,
           null,
           null,
           null,
           null,
           null,
           null,
           null,
           null
          ]
         ]
        },
        {
         "marker": {
          "color": "black",
          "line": {
           "color": "Grey",
           "width": 2
          }
         },
         "mode": "markers",
         "showlegend": false,
         "type": "scatter",
         "x": [
          120,
          60,
          120,
          120,
          80,
          80,
          40,
          100,
          120,
          200,
          20,
          80,
          160,
          80,
          60,
          160,
          20,
          80,
          60,
          160
         ],
         "xaxis": "x10",
         "y": [
          1,
          2,
          3,
          1,
          3,
          4,
          3,
          3,
          2,
          2,
          5,
          5,
          4,
          4,
          4,
          4,
          4,
          5,
          4,
          5
         ],
         "yaxis": "y10"
        },
        {
         "colorbar": {
          "title": {
           "text": "Objective Value"
          }
         },
         "colorscale": [
          [
           0,
           "rgb(247,251,255)"
          ],
          [
           0.125,
           "rgb(222,235,247)"
          ],
          [
           0.25,
           "rgb(198,219,239)"
          ],
          [
           0.375,
           "rgb(158,202,225)"
          ],
          [
           0.5,
           "rgb(107,174,214)"
          ],
          [
           0.625,
           "rgb(66,146,198)"
          ],
          [
           0.75,
           "rgb(33,113,181)"
          ],
          [
           0.875,
           "rgb(8,81,156)"
          ],
          [
           1,
           "rgb(8,48,107)"
          ]
         ],
         "connectgaps": true,
         "contours": {
          "coloring": "heatmap"
         },
         "hoverinfo": "none",
         "line": {
          "smoothing": 1.3
         },
         "reversescale": true,
         "showscale": false,
         "type": "contour",
         "x": [
          11,
          20,
          40,
          60,
          80,
          100,
          120,
          160,
          200,
          209
         ],
         "xaxis": "x15",
         "y": [
          0.55,
          1,
          3,
          4,
          5,
          6,
          7,
          8,
          9,
          10,
          10.45
         ],
         "yaxis": "y15",
         "z": [
          [
           null,
           null,
           null,
           null,
           null,
           null,
           null,
           null,
           null,
           null
          ],
          [
           null,
           295.5629350975515,
           null,
           null,
           null,
           null,
           null,
           null,
           null,
           null
          ],
          [
           null,
           null,
           null,
           313.27341417674563,
           null,
           null,
           300.52143236899076,
           null,
           null,
           null
          ],
          [
           null,
           null,
           null,
           null,
           null,
           null,
           304.03386539977964,
           null,
           283.2807276882358,
           null
          ],
          [
           null,
           null,
           null,
           null,
           273.79601453438835,
           null,
           null,
           null,
           null,
           null
          ],
          [
           null,
           null,
           null,
           null,
           278.76668166635943,
           null,
           null,
           278.94629079155453,
           null,
           null
          ],
          [
           null,
           null,
           null,
           275.9964588758103,
           276.74671443198764,
           null,
           null,
           271.49591067615756,
           null,
           null
          ],
          [
           null,
           273.444987256417,
           null,
           null,
           272.615340823305,
           332.55008327583477,
           308.53367298411746,
           null,
           null,
           null
          ],
          [
           null,
           null,
           null,
           283.50459280274885,
           null,
           null,
           301.43305375914196,
           null,
           null,
           null
          ],
          [
           null,
           null,
           274.4046644468086,
           null,
           null,
           null,
           null,
           285.1248389204696,
           null,
           null
          ],
          [
           null,
           null,
           null,
           null,
           null,
           null,
           null,
           null,
           null,
           null
          ]
         ]
        },
        {
         "marker": {
          "color": "black",
          "line": {
           "color": "Grey",
           "width": 2
          }
         },
         "mode": "markers",
         "showlegend": false,
         "type": "scatter",
         "x": [
          120,
          60,
          120,
          120,
          80,
          80,
          40,
          100,
          120,
          200,
          20,
          80,
          160,
          80,
          60,
          160,
          20,
          80,
          60,
          160
         ],
         "xaxis": "x15",
         "y": [
          9,
          3,
          3,
          4,
          5,
          8,
          10,
          8,
          8,
          4,
          1,
          6,
          6,
          7,
          7,
          10,
          8,
          7,
          9,
          7
         ],
         "yaxis": "y15"
        },
        {
         "colorbar": {
          "title": {
           "text": "Objective Value"
          }
         },
         "colorscale": [
          [
           0,
           "rgb(247,251,255)"
          ],
          [
           0.125,
           "rgb(222,235,247)"
          ],
          [
           0.25,
           "rgb(198,219,239)"
          ],
          [
           0.375,
           "rgb(158,202,225)"
          ],
          [
           0.5,
           "rgb(107,174,214)"
          ],
          [
           0.625,
           "rgb(66,146,198)"
          ],
          [
           0.75,
           "rgb(33,113,181)"
          ],
          [
           0.875,
           "rgb(8,81,156)"
          ],
          [
           1,
           "rgb(8,48,107)"
          ]
         ],
         "connectgaps": true,
         "contours": {
          "coloring": "heatmap"
         },
         "hoverinfo": "none",
         "line": {
          "smoothing": 1.3
         },
         "reversescale": true,
         "showscale": false,
         "type": "contour",
         "x": [
          11,
          20,
          40,
          60,
          80,
          100,
          120,
          160,
          200,
          209
         ],
         "xaxis": "x20",
         "y": [
          1.1,
          2,
          3,
          5,
          7,
          8,
          9,
          11,
          12,
          13,
          14,
          15,
          16,
          19,
          20,
          20.9
         ],
         "yaxis": "y20",
         "z": [
          [
           null,
           null,
           null,
           null,
           null,
           null,
           null,
           null,
           null,
           null
          ],
          [
           null,
           null,
           null,
           283.50459280274885,
           null,
           null,
           null,
           null,
           null,
           null
          ],
          [
           null,
           295.5629350975515,
           null,
           null,
           null,
           null,
           null,
           null,
           null,
           null
          ],
          [
           null,
           null,
           null,
           null,
           null,
           332.55008327583477,
           null,
           null,
           null,
           null
          ],
          [
           null,
           null,
           null,
           null,
           null,
           null,
           300.52143236899076,
           null,
           null,
           null
          ],
          [
           null,
           null,
           null,
           null,
           272.615340823305,
           null,
           null,
           285.1248389204696,
           null,
           null
          ],
          [
           null,
           null,
           null,
           null,
           276.74671443198764,
           null,
           null,
           null,
           null,
           null
          ],
          [
           null,
           null,
           274.4046644468086,
           null,
           null,
           null,
           304.03386539977964,
           null,
           null,
           null
          ],
          [
           null,
           null,
           null,
           null,
           null,
           null,
           308.53367298411746,
           null,
           null,
           null
          ],
          [
           null,
           null,
           null,
           null,
           273.79601453438835,
           null,
           null,
           null,
           null,
           null
          ],
          [
           null,
           null,
           null,
           null,
           null,
           null,
           null,
           271.49591067615756,
           null,
           null
          ],
          [
           null,
           null,
           null,
           null,
           271.8207226549857,
           null,
           null,
           null,
           null,
           null
          ],
          [
           null,
           273.444987256417,
           null,
           275.9964588758103,
           null,
           null,
           null,
           null,
           null,
           null
          ],
          [
           null,
           null,
           null,
           313.27341417674563,
           null,
           null,
           null,
           null,
           null,
           null
          ],
          [
           null,
           null,
           null,
           null,
           null,
           null,
           301.43305375914196,
           null,
           283.2807276882358,
           null
          ],
          [
           null,
           null,
           null,
           null,
           null,
           null,
           null,
           null,
           null,
           null
          ]
         ]
        },
        {
         "marker": {
          "color": "black",
          "line": {
           "color": "Grey",
           "width": 2
          }
         },
         "mode": "markers",
         "showlegend": false,
         "type": "scatter",
         "x": [
          120,
          60,
          120,
          120,
          80,
          80,
          40,
          100,
          120,
          200,
          20,
          80,
          160,
          80,
          60,
          160,
          20,
          80,
          60,
          160
         ],
         "xaxis": "x20",
         "y": [
          20,
          19,
          7,
          11,
          13,
          8,
          11,
          5,
          12,
          20,
          3,
          15,
          8,
          15,
          16,
          8,
          16,
          9,
          2,
          14
         ],
         "yaxis": "y20"
        },
        {
         "type": "scatter",
         "xaxis": "x25",
         "yaxis": "y25"
        }
       ],
       "layout": {
        "template": {
         "data": {
          "bar": [
           {
            "error_x": {
             "color": "#2a3f5f"
            },
            "error_y": {
             "color": "#2a3f5f"
            },
            "marker": {
             "line": {
              "color": "#E5ECF6",
              "width": 0.5
             },
             "pattern": {
              "fillmode": "overlay",
              "size": 10,
              "solidity": 0.2
             }
            },
            "type": "bar"
           }
          ],
          "barpolar": [
           {
            "marker": {
             "line": {
              "color": "#E5ECF6",
              "width": 0.5
             },
             "pattern": {
              "fillmode": "overlay",
              "size": 10,
              "solidity": 0.2
             }
            },
            "type": "barpolar"
           }
          ],
          "carpet": [
           {
            "aaxis": {
             "endlinecolor": "#2a3f5f",
             "gridcolor": "white",
             "linecolor": "white",
             "minorgridcolor": "white",
             "startlinecolor": "#2a3f5f"
            },
            "baxis": {
             "endlinecolor": "#2a3f5f",
             "gridcolor": "white",
             "linecolor": "white",
             "minorgridcolor": "white",
             "startlinecolor": "#2a3f5f"
            },
            "type": "carpet"
           }
          ],
          "choropleth": [
           {
            "colorbar": {
             "outlinewidth": 0,
             "ticks": ""
            },
            "type": "choropleth"
           }
          ],
          "contour": [
           {
            "colorbar": {
             "outlinewidth": 0,
             "ticks": ""
            },
            "colorscale": [
             [
              0,
              "#0d0887"
             ],
             [
              0.1111111111111111,
              "#46039f"
             ],
             [
              0.2222222222222222,
              "#7201a8"
             ],
             [
              0.3333333333333333,
              "#9c179e"
             ],
             [
              0.4444444444444444,
              "#bd3786"
             ],
             [
              0.5555555555555556,
              "#d8576b"
             ],
             [
              0.6666666666666666,
              "#ed7953"
             ],
             [
              0.7777777777777778,
              "#fb9f3a"
             ],
             [
              0.8888888888888888,
              "#fdca26"
             ],
             [
              1,
              "#f0f921"
             ]
            ],
            "type": "contour"
           }
          ],
          "contourcarpet": [
           {
            "colorbar": {
             "outlinewidth": 0,
             "ticks": ""
            },
            "type": "contourcarpet"
           }
          ],
          "heatmap": [
           {
            "colorbar": {
             "outlinewidth": 0,
             "ticks": ""
            },
            "colorscale": [
             [
              0,
              "#0d0887"
             ],
             [
              0.1111111111111111,
              "#46039f"
             ],
             [
              0.2222222222222222,
              "#7201a8"
             ],
             [
              0.3333333333333333,
              "#9c179e"
             ],
             [
              0.4444444444444444,
              "#bd3786"
             ],
             [
              0.5555555555555556,
              "#d8576b"
             ],
             [
              0.6666666666666666,
              "#ed7953"
             ],
             [
              0.7777777777777778,
              "#fb9f3a"
             ],
             [
              0.8888888888888888,
              "#fdca26"
             ],
             [
              1,
              "#f0f921"
             ]
            ],
            "type": "heatmap"
           }
          ],
          "heatmapgl": [
           {
            "colorbar": {
             "outlinewidth": 0,
             "ticks": ""
            },
            "colorscale": [
             [
              0,
              "#0d0887"
             ],
             [
              0.1111111111111111,
              "#46039f"
             ],
             [
              0.2222222222222222,
              "#7201a8"
             ],
             [
              0.3333333333333333,
              "#9c179e"
             ],
             [
              0.4444444444444444,
              "#bd3786"
             ],
             [
              0.5555555555555556,
              "#d8576b"
             ],
             [
              0.6666666666666666,
              "#ed7953"
             ],
             [
              0.7777777777777778,
              "#fb9f3a"
             ],
             [
              0.8888888888888888,
              "#fdca26"
             ],
             [
              1,
              "#f0f921"
             ]
            ],
            "type": "heatmapgl"
           }
          ],
          "histogram": [
           {
            "marker": {
             "pattern": {
              "fillmode": "overlay",
              "size": 10,
              "solidity": 0.2
             }
            },
            "type": "histogram"
           }
          ],
          "histogram2d": [
           {
            "colorbar": {
             "outlinewidth": 0,
             "ticks": ""
            },
            "colorscale": [
             [
              0,
              "#0d0887"
             ],
             [
              0.1111111111111111,
              "#46039f"
             ],
             [
              0.2222222222222222,
              "#7201a8"
             ],
             [
              0.3333333333333333,
              "#9c179e"
             ],
             [
              0.4444444444444444,
              "#bd3786"
             ],
             [
              0.5555555555555556,
              "#d8576b"
             ],
             [
              0.6666666666666666,
              "#ed7953"
             ],
             [
              0.7777777777777778,
              "#fb9f3a"
             ],
             [
              0.8888888888888888,
              "#fdca26"
             ],
             [
              1,
              "#f0f921"
             ]
            ],
            "type": "histogram2d"
           }
          ],
          "histogram2dcontour": [
           {
            "colorbar": {
             "outlinewidth": 0,
             "ticks": ""
            },
            "colorscale": [
             [
              0,
              "#0d0887"
             ],
             [
              0.1111111111111111,
              "#46039f"
             ],
             [
              0.2222222222222222,
              "#7201a8"
             ],
             [
              0.3333333333333333,
              "#9c179e"
             ],
             [
              0.4444444444444444,
              "#bd3786"
             ],
             [
              0.5555555555555556,
              "#d8576b"
             ],
             [
              0.6666666666666666,
              "#ed7953"
             ],
             [
              0.7777777777777778,
              "#fb9f3a"
             ],
             [
              0.8888888888888888,
              "#fdca26"
             ],
             [
              1,
              "#f0f921"
             ]
            ],
            "type": "histogram2dcontour"
           }
          ],
          "mesh3d": [
           {
            "colorbar": {
             "outlinewidth": 0,
             "ticks": ""
            },
            "type": "mesh3d"
           }
          ],
          "parcoords": [
           {
            "line": {
             "colorbar": {
              "outlinewidth": 0,
              "ticks": ""
             }
            },
            "type": "parcoords"
           }
          ],
          "pie": [
           {
            "automargin": true,
            "type": "pie"
           }
          ],
          "scatter": [
           {
            "fillpattern": {
             "fillmode": "overlay",
             "size": 10,
             "solidity": 0.2
            },
            "type": "scatter"
           }
          ],
          "scatter3d": [
           {
            "line": {
             "colorbar": {
              "outlinewidth": 0,
              "ticks": ""
             }
            },
            "marker": {
             "colorbar": {
              "outlinewidth": 0,
              "ticks": ""
             }
            },
            "type": "scatter3d"
           }
          ],
          "scattercarpet": [
           {
            "marker": {
             "colorbar": {
              "outlinewidth": 0,
              "ticks": ""
             }
            },
            "type": "scattercarpet"
           }
          ],
          "scattergeo": [
           {
            "marker": {
             "colorbar": {
              "outlinewidth": 0,
              "ticks": ""
             }
            },
            "type": "scattergeo"
           }
          ],
          "scattergl": [
           {
            "marker": {
             "colorbar": {
              "outlinewidth": 0,
              "ticks": ""
             }
            },
            "type": "scattergl"
           }
          ],
          "scattermapbox": [
           {
            "marker": {
             "colorbar": {
              "outlinewidth": 0,
              "ticks": ""
             }
            },
            "type": "scattermapbox"
           }
          ],
          "scatterpolar": [
           {
            "marker": {
             "colorbar": {
              "outlinewidth": 0,
              "ticks": ""
             }
            },
            "type": "scatterpolar"
           }
          ],
          "scatterpolargl": [
           {
            "marker": {
             "colorbar": {
              "outlinewidth": 0,
              "ticks": ""
             }
            },
            "type": "scatterpolargl"
           }
          ],
          "scatterternary": [
           {
            "marker": {
             "colorbar": {
              "outlinewidth": 0,
              "ticks": ""
             }
            },
            "type": "scatterternary"
           }
          ],
          "surface": [
           {
            "colorbar": {
             "outlinewidth": 0,
             "ticks": ""
            },
            "colorscale": [
             [
              0,
              "#0d0887"
             ],
             [
              0.1111111111111111,
              "#46039f"
             ],
             [
              0.2222222222222222,
              "#7201a8"
             ],
             [
              0.3333333333333333,
              "#9c179e"
             ],
             [
              0.4444444444444444,
              "#bd3786"
             ],
             [
              0.5555555555555556,
              "#d8576b"
             ],
             [
              0.6666666666666666,
              "#ed7953"
             ],
             [
              0.7777777777777778,
              "#fb9f3a"
             ],
             [
              0.8888888888888888,
              "#fdca26"
             ],
             [
              1,
              "#f0f921"
             ]
            ],
            "type": "surface"
           }
          ],
          "table": [
           {
            "cells": {
             "fill": {
              "color": "#EBF0F8"
             },
             "line": {
              "color": "white"
             }
            },
            "header": {
             "fill": {
              "color": "#C8D4E3"
             },
             "line": {
              "color": "white"
             }
            },
            "type": "table"
           }
          ]
         },
         "layout": {
          "annotationdefaults": {
           "arrowcolor": "#2a3f5f",
           "arrowhead": 0,
           "arrowwidth": 1
          },
          "autotypenumbers": "strict",
          "coloraxis": {
           "colorbar": {
            "outlinewidth": 0,
            "ticks": ""
           }
          },
          "colorscale": {
           "diverging": [
            [
             0,
             "#8e0152"
            ],
            [
             0.1,
             "#c51b7d"
            ],
            [
             0.2,
             "#de77ae"
            ],
            [
             0.3,
             "#f1b6da"
            ],
            [
             0.4,
             "#fde0ef"
            ],
            [
             0.5,
             "#f7f7f7"
            ],
            [
             0.6,
             "#e6f5d0"
            ],
            [
             0.7,
             "#b8e186"
            ],
            [
             0.8,
             "#7fbc41"
            ],
            [
             0.9,
             "#4d9221"
            ],
            [
             1,
             "#276419"
            ]
           ],
           "sequential": [
            [
             0,
             "#0d0887"
            ],
            [
             0.1111111111111111,
             "#46039f"
            ],
            [
             0.2222222222222222,
             "#7201a8"
            ],
            [
             0.3333333333333333,
             "#9c179e"
            ],
            [
             0.4444444444444444,
             "#bd3786"
            ],
            [
             0.5555555555555556,
             "#d8576b"
            ],
            [
             0.6666666666666666,
             "#ed7953"
            ],
            [
             0.7777777777777778,
             "#fb9f3a"
            ],
            [
             0.8888888888888888,
             "#fdca26"
            ],
            [
             1,
             "#f0f921"
            ]
           ],
           "sequentialminus": [
            [
             0,
             "#0d0887"
            ],
            [
             0.1111111111111111,
             "#46039f"
            ],
            [
             0.2222222222222222,
             "#7201a8"
            ],
            [
             0.3333333333333333,
             "#9c179e"
            ],
            [
             0.4444444444444444,
             "#bd3786"
            ],
            [
             0.5555555555555556,
             "#d8576b"
            ],
            [
             0.6666666666666666,
             "#ed7953"
            ],
            [
             0.7777777777777778,
             "#fb9f3a"
            ],
            [
             0.8888888888888888,
             "#fdca26"
            ],
            [
             1,
             "#f0f921"
            ]
           ]
          },
          "colorway": [
           "#636efa",
           "#EF553B",
           "#00cc96",
           "#ab63fa",
           "#FFA15A",
           "#19d3f3",
           "#FF6692",
           "#B6E880",
           "#FF97FF",
           "#FECB52"
          ],
          "font": {
           "color": "#2a3f5f"
          },
          "geo": {
           "bgcolor": "white",
           "lakecolor": "white",
           "landcolor": "#E5ECF6",
           "showlakes": true,
           "showland": true,
           "subunitcolor": "white"
          },
          "hoverlabel": {
           "align": "left"
          },
          "hovermode": "closest",
          "mapbox": {
           "style": "light"
          },
          "paper_bgcolor": "white",
          "plot_bgcolor": "#E5ECF6",
          "polar": {
           "angularaxis": {
            "gridcolor": "white",
            "linecolor": "white",
            "ticks": ""
           },
           "bgcolor": "#E5ECF6",
           "radialaxis": {
            "gridcolor": "white",
            "linecolor": "white",
            "ticks": ""
           }
          },
          "scene": {
           "xaxis": {
            "backgroundcolor": "#E5ECF6",
            "gridcolor": "white",
            "gridwidth": 2,
            "linecolor": "white",
            "showbackground": true,
            "ticks": "",
            "zerolinecolor": "white"
           },
           "yaxis": {
            "backgroundcolor": "#E5ECF6",
            "gridcolor": "white",
            "gridwidth": 2,
            "linecolor": "white",
            "showbackground": true,
            "ticks": "",
            "zerolinecolor": "white"
           },
           "zaxis": {
            "backgroundcolor": "#E5ECF6",
            "gridcolor": "white",
            "gridwidth": 2,
            "linecolor": "white",
            "showbackground": true,
            "ticks": "",
            "zerolinecolor": "white"
           }
          },
          "shapedefaults": {
           "line": {
            "color": "#2a3f5f"
           }
          },
          "ternary": {
           "aaxis": {
            "gridcolor": "white",
            "linecolor": "white",
            "ticks": ""
           },
           "baxis": {
            "gridcolor": "white",
            "linecolor": "white",
            "ticks": ""
           },
           "bgcolor": "#E5ECF6",
           "caxis": {
            "gridcolor": "white",
            "linecolor": "white",
            "ticks": ""
           }
          },
          "title": {
           "x": 0.05
          },
          "xaxis": {
           "automargin": true,
           "gridcolor": "white",
           "linecolor": "white",
           "ticks": "",
           "title": {
            "standoff": 15
           },
           "zerolinecolor": "white",
           "zerolinewidth": 2
          },
          "yaxis": {
           "automargin": true,
           "gridcolor": "white",
           "linecolor": "white",
           "ticks": "",
           "title": {
            "standoff": 15
           },
           "zerolinecolor": "white",
           "zerolinewidth": 2
          }
         }
        },
        "title": {
         "text": "Contour Plot"
        },
        "xaxis": {
         "anchor": "y",
         "domain": [
          0,
          0.16799999999999998
         ],
         "matches": "x21",
         "range": [
          0.8,
          5.2
         ],
         "showticklabels": false
        },
        "xaxis10": {
         "anchor": "y10",
         "domain": [
          0.832,
          1
         ],
         "matches": "x25",
         "range": [
          11,
          209
         ],
         "showticklabels": false
        },
        "xaxis11": {
         "anchor": "y11",
         "domain": [
          0,
          0.16799999999999998
         ],
         "matches": "x21",
         "range": [
          0.8,
          5.2
         ],
         "showticklabels": false
        },
        "xaxis12": {
         "anchor": "y12",
         "domain": [
          0.208,
          0.376
         ],
         "matches": "x22",
         "range": [
          0.8,
          5.2
         ],
         "showticklabels": false
        },
        "xaxis13": {
         "anchor": "y13",
         "domain": [
          0.416,
          0.584
         ],
         "matches": "x23",
         "range": [
          0.55,
          10.45
         ],
         "showticklabels": false
        },
        "xaxis14": {
         "anchor": "y14",
         "domain": [
          0.624,
          0.792
         ],
         "matches": "x24",
         "range": [
          1.1,
          20.9
         ],
         "showticklabels": false
        },
        "xaxis15": {
         "anchor": "y15",
         "domain": [
          0.832,
          1
         ],
         "matches": "x25",
         "range": [
          11,
          209
         ],
         "showticklabels": false
        },
        "xaxis16": {
         "anchor": "y16",
         "domain": [
          0,
          0.16799999999999998
         ],
         "matches": "x21",
         "range": [
          0.8,
          5.2
         ],
         "showticklabels": false
        },
        "xaxis17": {
         "anchor": "y17",
         "domain": [
          0.208,
          0.376
         ],
         "matches": "x22",
         "range": [
          0.8,
          5.2
         ],
         "showticklabels": false
        },
        "xaxis18": {
         "anchor": "y18",
         "domain": [
          0.416,
          0.584
         ],
         "matches": "x23",
         "range": [
          0.55,
          10.45
         ],
         "showticklabels": false
        },
        "xaxis19": {
         "anchor": "y19",
         "domain": [
          0.624,
          0.792
         ],
         "matches": "x24",
         "range": [
          1.1,
          20.9
         ],
         "showticklabels": false
        },
        "xaxis2": {
         "anchor": "y2",
         "domain": [
          0.208,
          0.376
         ],
         "matches": "x22",
         "range": [
          0.8,
          5.2
         ],
         "showticklabels": false
        },
        "xaxis20": {
         "anchor": "y20",
         "domain": [
          0.832,
          1
         ],
         "matches": "x25",
         "range": [
          11,
          209
         ],
         "showticklabels": false
        },
        "xaxis21": {
         "anchor": "y21",
         "domain": [
          0,
          0.16799999999999998
         ],
         "range": [
          0.8,
          5.2
         ],
         "title": {
          "text": "max_depth"
         }
        },
        "xaxis22": {
         "anchor": "y22",
         "domain": [
          0.208,
          0.376
         ],
         "range": [
          0.8,
          5.2
         ],
         "title": {
          "text": "max_features"
         }
        },
        "xaxis23": {
         "anchor": "y23",
         "domain": [
          0.416,
          0.584
         ],
         "range": [
          0.55,
          10.45
         ],
         "title": {
          "text": "min_samples_leaf"
         }
        },
        "xaxis24": {
         "anchor": "y24",
         "domain": [
          0.624,
          0.792
         ],
         "range": [
          1.1,
          20.9
         ],
         "title": {
          "text": "min_samples_split"
         }
        },
        "xaxis25": {
         "anchor": "y25",
         "domain": [
          0.832,
          1
         ],
         "range": [
          11,
          209
         ],
         "title": {
          "text": "n_estimators"
         }
        },
        "xaxis3": {
         "anchor": "y3",
         "domain": [
          0.416,
          0.584
         ],
         "matches": "x23",
         "range": [
          0.55,
          10.45
         ],
         "showticklabels": false
        },
        "xaxis4": {
         "anchor": "y4",
         "domain": [
          0.624,
          0.792
         ],
         "matches": "x24",
         "range": [
          1.1,
          20.9
         ],
         "showticklabels": false
        },
        "xaxis5": {
         "anchor": "y5",
         "domain": [
          0.832,
          1
         ],
         "matches": "x25",
         "range": [
          11,
          209
         ],
         "showticklabels": false
        },
        "xaxis6": {
         "anchor": "y6",
         "domain": [
          0,
          0.16799999999999998
         ],
         "matches": "x21",
         "range": [
          0.8,
          5.2
         ],
         "showticklabels": false
        },
        "xaxis7": {
         "anchor": "y7",
         "domain": [
          0.208,
          0.376
         ],
         "matches": "x22",
         "range": [
          0.8,
          5.2
         ],
         "showticklabels": false
        },
        "xaxis8": {
         "anchor": "y8",
         "domain": [
          0.416,
          0.584
         ],
         "matches": "x23",
         "range": [
          0.55,
          10.45
         ],
         "showticklabels": false
        },
        "xaxis9": {
         "anchor": "y9",
         "domain": [
          0.624,
          0.792
         ],
         "matches": "x24",
         "range": [
          1.1,
          20.9
         ],
         "showticklabels": false
        },
        "yaxis": {
         "anchor": "x",
         "domain": [
          0.848,
          1
         ],
         "range": [
          0.8,
          5.2
         ],
         "title": {
          "text": "max_depth"
         }
        },
        "yaxis10": {
         "anchor": "x10",
         "domain": [
          0.6359999999999999,
          0.7879999999999999
         ],
         "matches": "y6",
         "range": [
          0.8,
          5.2
         ],
         "showticklabels": false
        },
        "yaxis11": {
         "anchor": "x11",
         "domain": [
          0.424,
          0.576
         ],
         "range": [
          0.55,
          10.45
         ],
         "title": {
          "text": "min_samples_leaf"
         }
        },
        "yaxis12": {
         "anchor": "x12",
         "domain": [
          0.424,
          0.576
         ],
         "matches": "y11",
         "range": [
          0.55,
          10.45
         ],
         "showticklabels": false
        },
        "yaxis13": {
         "anchor": "x13",
         "domain": [
          0.424,
          0.576
         ],
         "matches": "y11",
         "range": [
          0.55,
          10.45
         ],
         "showticklabels": false
        },
        "yaxis14": {
         "anchor": "x14",
         "domain": [
          0.424,
          0.576
         ],
         "matches": "y11",
         "range": [
          0.55,
          10.45
         ],
         "showticklabels": false
        },
        "yaxis15": {
         "anchor": "x15",
         "domain": [
          0.424,
          0.576
         ],
         "matches": "y11",
         "range": [
          0.55,
          10.45
         ],
         "showticklabels": false
        },
        "yaxis16": {
         "anchor": "x16",
         "domain": [
          0.212,
          0.364
         ],
         "range": [
          1.1,
          20.9
         ],
         "title": {
          "text": "min_samples_split"
         }
        },
        "yaxis17": {
         "anchor": "x17",
         "domain": [
          0.212,
          0.364
         ],
         "matches": "y16",
         "range": [
          1.1,
          20.9
         ],
         "showticklabels": false
        },
        "yaxis18": {
         "anchor": "x18",
         "domain": [
          0.212,
          0.364
         ],
         "matches": "y16",
         "range": [
          1.1,
          20.9
         ],
         "showticklabels": false
        },
        "yaxis19": {
         "anchor": "x19",
         "domain": [
          0.212,
          0.364
         ],
         "matches": "y16",
         "range": [
          1.1,
          20.9
         ],
         "showticklabels": false
        },
        "yaxis2": {
         "anchor": "x2",
         "domain": [
          0.848,
          1
         ],
         "matches": "y",
         "range": [
          0.8,
          5.2
         ],
         "showticklabels": false
        },
        "yaxis20": {
         "anchor": "x20",
         "domain": [
          0.212,
          0.364
         ],
         "matches": "y16",
         "range": [
          1.1,
          20.9
         ],
         "showticklabels": false
        },
        "yaxis21": {
         "anchor": "x21",
         "domain": [
          0,
          0.152
         ],
         "range": [
          11,
          209
         ],
         "title": {
          "text": "n_estimators"
         }
        },
        "yaxis22": {
         "anchor": "x22",
         "domain": [
          0,
          0.152
         ],
         "matches": "y21",
         "range": [
          11,
          209
         ],
         "showticklabels": false
        },
        "yaxis23": {
         "anchor": "x23",
         "domain": [
          0,
          0.152
         ],
         "matches": "y21",
         "range": [
          11,
          209
         ],
         "showticklabels": false
        },
        "yaxis24": {
         "anchor": "x24",
         "domain": [
          0,
          0.152
         ],
         "matches": "y21",
         "range": [
          11,
          209
         ],
         "showticklabels": false
        },
        "yaxis25": {
         "anchor": "x25",
         "domain": [
          0,
          0.152
         ],
         "matches": "y21",
         "range": [
          11,
          209
         ],
         "showticklabels": false
        },
        "yaxis3": {
         "anchor": "x3",
         "domain": [
          0.848,
          1
         ],
         "matches": "y",
         "range": [
          0.8,
          5.2
         ],
         "showticklabels": false
        },
        "yaxis4": {
         "anchor": "x4",
         "domain": [
          0.848,
          1
         ],
         "matches": "y",
         "range": [
          0.8,
          5.2
         ],
         "showticklabels": false
        },
        "yaxis5": {
         "anchor": "x5",
         "domain": [
          0.848,
          1
         ],
         "matches": "y",
         "range": [
          0.8,
          5.2
         ],
         "showticklabels": false
        },
        "yaxis6": {
         "anchor": "x6",
         "domain": [
          0.6359999999999999,
          0.7879999999999999
         ],
         "range": [
          0.8,
          5.2
         ],
         "title": {
          "text": "max_features"
         }
        },
        "yaxis7": {
         "anchor": "x7",
         "domain": [
          0.6359999999999999,
          0.7879999999999999
         ],
         "matches": "y6",
         "range": [
          0.8,
          5.2
         ],
         "showticklabels": false
        },
        "yaxis8": {
         "anchor": "x8",
         "domain": [
          0.6359999999999999,
          0.7879999999999999
         ],
         "matches": "y6",
         "range": [
          0.8,
          5.2
         ],
         "showticklabels": false
        },
        "yaxis9": {
         "anchor": "x9",
         "domain": [
          0.6359999999999999,
          0.7879999999999999
         ],
         "matches": "y6",
         "range": [
          0.8,
          5.2
         ],
         "showticklabels": false
        }
       }
      }
     },
     "metadata": {},
     "output_type": "display_data"
    },
    {
     "name": "stdout",
     "output_type": "stream",
     "text": [
      "The best hyperparameters for RF Regressor {'n_estimators': 160, 'max_depth': 5, 'min_samples_split': 14, 'min_samples_leaf': 7, 'max_features': 5}\n",
      "RMS of the BEST XGBoost Regressor\n",
      ": Training data 229.56098493727254\n",
      " Test data 290.52211329491536\n"
     ]
    },
    {
     "data": {
      "text/plain": [
       "<Figure size 432x288 with 0 Axes>"
      ]
     },
     "metadata": {},
     "output_type": "display_data"
    }
   ],
   "source": [
    "def opt_hyperParameters_TFReg(X_train, y_train, X_test, y_test):\n",
    "\n",
    "    def objective(trial):\n",
    "\n",
    "        RF_reg_params = dict(\n",
    "            n_estimators=trial.suggest_int(\"n_estimators\", 20, 200, step = 20),\n",
    "            max_depth=trial.suggest_int(\"max_depth\", 1, 20),\n",
    "            min_samples_split = trial.suggest_int(\"min_samples_split\", 2, 20),\n",
    "            min_samples_leaf = trial.suggest_int(\"min_samples_leaf\", 1, 10),\n",
    "            max_features = trial.suggest_int(\"max_features\", 1, 5),\n",
    "            random_state = 0\n",
    "        )\n",
    "\n",
    "        RF_reg = RandomForestRegressor(**RF_reg_params).fit(X_train, y_train)\n",
    "        #y_pred= rfr.predict(X_dev)\n",
    "        #mae = mean_absolute_error(y_dev, y_pred)\n",
    "        mae = score_dataset(X_train, y_train, RF_reg)\n",
    "        return mae\n",
    "\n",
    "    study = optuna.create_study(direction=\"minimize\")\n",
    "    study.optimize(objective, n_trials=20)\n",
    "    RFR_best_params = study.best_params\n",
    "    \n",
    "\n",
    "    fig = plt.figure()\n",
    "    plot_param_importances(study).show()\n",
    "    plot_contour(study).show()\n",
    "    print (f'The best hyperparameters for RF Regressor {RFR_best_params}')\n",
    "\n",
    "    y_train_predict = RandomForestRegressor(**RFR_best_params).fit(X_train, y_train).predict(X_train)\n",
    "    y_test_predict = RandomForestRegressor(**RFR_best_params).fit(X_train, y_train).predict(X_test)\n",
    "    print (f'RMS of the BEST XGBoost Regressor\\n: Training data {(mean_absolute_error(y_train, y_train_predict))}\\n Test data {(mean_absolute_error(y_test, y_test_predict))}')\n",
    "\n",
    "    return RFR_best_params\n",
    "\n",
    "\n",
    "RFR_best_params = opt_hyperParameters_TFReg(X_train, y_train,  X_test, y_test)"
   ]
  },
  {
   "cell_type": "code",
   "execution_count": 166,
   "metadata": {},
   "outputs": [
    {
     "name": "stdout",
     "output_type": "stream",
     "text": [
      "\n",
      "0\n",
      "For a training size of 169, MAE(train) = 217.348 and MAE(test) = 285.450\n",
      "1\n",
      "For a training size of 267, MAE(train) = 237.456 and MAE(test) = 293.582\n",
      "2\n",
      "For a training size of 365, MAE(train) = 231.279 and MAE(test) = 293.629\n",
      "3\n",
      "For a training size of 462, MAE(train) = 232.897 and MAE(test) = 294.222\n",
      "4\n",
      "For a training size of 560, MAE(train) = 229.758 and MAE(test) = 292.166\n"
     ]
    },
    {
     "data": {
      "image/png": "[encoded data removed]",
      "text/plain": [
       "<Figure size 432x288 with 1 Axes>"
      ]
     },
     "metadata": {
      "needs_background": "light"
     },
     "output_type": "display_data"
    }
   ],
   "source": [
    "def my_learning_curve(X_train, y_train, X_test, y_test, model, N, CV = 10, figure = True):\n",
    "\n",
    "    train_sizes =np.linspace(0.3, 0.99, N)\n",
    "    print ()\n",
    "\n",
    "    results = pd.DataFrame(columns = ['train_size', 'mae_train_mean', 'mae_train_std', 'mae_test_mean', 'mae_test_std'], index = range(0, N))\n",
    "\n",
    "\n",
    "    for i, train_size in enumerate(train_sizes):\n",
    "\n",
    "        print (i)\n",
    "\n",
    "        mae_train = []\n",
    "        mae_test = []\n",
    "\n",
    "        for j in range(CV):\n",
    "\n",
    "                # Random state is not specified as cross-validation is applied.\n",
    "                X_train_tmp, _, y_train_tmp, _ = train_test_split(X_train, y_train, test_size=(1-train_size))\n",
    "\n",
    "                model.fit(X_train_tmp, y_train_tmp)\n",
    "\n",
    "                # Make predictions on the test set\n",
    "                y_pred_test = model.predict(X_test)\n",
    "                y_pred_train_tmp = model.predict(X_train_tmp)\n",
    "\n",
    "                # Evaluate the model using mean absolute error\n",
    "                mae_train.append(mean_absolute_error(y_train_tmp, y_pred_train_tmp))\n",
    "                mae_test.append(mean_absolute_error(y_test, y_pred_test))\n",
    "\n",
    "        \n",
    "        results['train_size'][i] = len(X_train_tmp)\n",
    "        results['mae_train_mean'][i] = np.mean(mae_train)\n",
    "        results['mae_train_std'][i] = np.std(mae_train)\n",
    "        results['mae_test_mean'][i] = np.mean(mae_test)\n",
    "        results['mae_test_std'][i] = np.std(mae_test)\n",
    "\n",
    "        if i%1 ==0:\n",
    "            print (f'For a training size of {len(X_train_tmp)}, MAE(train) = {np.mean(mae_train):.3f} and MAE(test) = {np.mean(mae_test):.3f}')\n",
    "\n",
    "    # Iterate over each column in the DataFrame\n",
    "    for column in results.columns:\n",
    "        # Check if the column has object data type\n",
    "        if results[column].dtype == 'object':\n",
    "            # Convert the column to numeric type\n",
    "            results[column] = pd.to_numeric(results[column], errors='coerce')\n",
    "\n",
    "    if figure == True:\n",
    "        plt.figure()\n",
    "        plt.title(\"Learning Curve\")\n",
    "        plt.xlabel(\"Training Examples\")\n",
    "        plt.ylabel(\"Score\")\n",
    "\n",
    "        plt.plot(results['train_size'], results['mae_train_mean'], 'o-', color=\"r\",\n",
    "                label=\"Training Score\")\n",
    "\n",
    "        plt.fill_between(results['train_size'], results['mae_train_mean'] + results['mae_train_std'], \n",
    "                            results['mae_train_mean'] - results['mae_train_std'], \n",
    "                            alpha=0.15, color='r')\n",
    "\n",
    "        plt.plot(results['train_size'], results['mae_test_mean'], 'o-', color=\"g\",\n",
    "                label=\"Cross-Validation Score\")\n",
    "\n",
    "        plt.fill_between(results['train_size'], results['mae_test_mean'] + results['mae_test_std'], \n",
    "                            results['mae_test_mean'] - results['mae_test_std'], \n",
    "                            alpha=0.15, color='g')\n",
    "\n",
    "        plt.legend(loc=\"best\")\n",
    "        plt.show()\n",
    "    \n",
    "    return results\n",
    "\n",
    "\n",
    "#The best hyperparameters for XGBoost Regressor {'max_depth': 17, 'reg_alpha': 6, 'reg_lambda': 4.446321108649305, 'n_estimators': 300}\n",
    "        \n",
    "#best_XGBReg = XGBRegressor(max_depth = 5, reg_alpha = 5, reg_lambda = 30)\n",
    "best_RF = RandomForestRegressor(n_estimators = 20, max_depth = 5, min_samples_split = 3, max_features = 4)\n",
    "results = my_learning_curve(X_train, y_train, X_test, y_test, RandomForestRegressor(**RFR_best_params), 5)"
   ]
  },
  {
   "cell_type": "code",
   "execution_count": 164,
   "metadata": {},
   "outputs": [
    {
     "data": {
      "text/plain": [
       "{'n_estimators': 120,\n",
       " 'max_depth': 17,\n",
       " 'min_samples_split': 9,\n",
       " 'min_samples_leaf': 7,\n",
       " 'max_features': 6}"
      ]
     },
     "execution_count": 164,
     "metadata": {},
     "output_type": "execute_result"
    }
   ],
   "source": [
    "RFR_best_params"
   ]
  },
  {
   "cell_type": "code",
   "execution_count": 184,
   "metadata": {},
   "outputs": [
    {
     "name": "stdout",
     "output_type": "stream",
     "text": [
      "      pl_rade     Teq  st_teff  pl_orbsmax\n",
      "374     1.510  1947.0   4570.0     0.00747\n",
      "466     2.299  1104.0   5356.3     0.04461\n",
      "1109    4.570   699.0   3600.0     0.03550\n",
      "1011    2.630   787.0   5450.0     0.10110\n",
      "402    16.030  1669.0   6440.0     0.04360\n",
      "...       ...     ...      ...         ...\n",
      "508    14.975  1581.0   5650.0     0.02282\n",
      "308     3.020  1472.0   4960.0     0.02290\n",
      "435    13.340  1035.0   6190.0     0.09000\n",
      "980     4.700   695.0   3950.0     0.04170\n",
      "9      13.115  1018.0   6295.0     0.10380\n",
      "\n",
      "[142 rows x 4 columns]\n"
     ]
    }
   ],
   "source": [
    "best_RF = RandomForestRegressor(**RFR_best_params).fit(X_train, y_train)\n",
    "y_pred = best_RF.predict(X_test)\n",
    "\n",
    "print ((X_test))"
   ]
  },
  {
   "cell_type": "code",
   "execution_count": 189,
   "metadata": {},
   "outputs": [
    {
     "data": {
      "image/png": "[encoded data removed]",
      "text/plain": [
       "<Figure size 576x432 with 1 Axes>"
      ]
     },
     "metadata": {
      "needs_background": "light"
     },
     "output_type": "display_data"
    }
   ],
   "source": [
    "fig = plt.figure(1, figsize = (8,6))\n",
    "ax = plt.gca()\n",
    "\n",
    "ax = plt.subplot(1,1,1)\n",
    "\n",
    "ax.scatter(y_pred, X_test.pl_rade, c = X_test.Teq)\n",
    "ax.scatter(y_test, X_test.pl_rade, c = 'black')\n",
    "\n",
    "ax.set_xscale('log')\n",
    "#ax.set_yscale('log')\n",
    "\n",
    "plt.xlabel('Planet mass in log', fontsize = 18)\n",
    "plt.ylabel('Planet radius in log', fontsize = 18)\n",
    "\n",
    "plt.show()"
   ]
  },
  {
   "cell_type": "code",
   "execution_count": 182,
   "metadata": {},
   "outputs": [
    {
     "data": {
      "text/plain": [
       "<matplotlib.collections.PathCollection at 0x7f9d9ac8ab20>"
      ]
     },
     "execution_count": 182,
     "metadata": {},
     "output_type": "execute_result"
    },
    {
     "data": {
      "image/png": "[encoded data removed]",
      "text/plain": [
       "<Figure size 432x288 with 1 Axes>"
      ]
     },
     "metadata": {
      "needs_background": "light"
     },
     "output_type": "display_data"
    }
   ],
   "source": [
    "plt.scatter(y_pred, X_test[X_test.pl_rade <10].pl_rade)"
   ]
  }
 ],
 "metadata": {
  "kernelspec": {
   "display_name": "Python 3",
   "language": "python",
   "name": "python3"
  },
  "language_info": {
   "codemirror_mode": {
    "name": "ipython",
    "version": 3
   },
   "file_extension": ".py",
   "mimetype": "text/x-python",
   "name": "python",
   "nbconvert_exporter": "python",
   "pygments_lexer": "ipython3",
   "version": "3.8.10"
  },
  "orig_nbformat": 4
 },
 "nbformat": 4,
 "nbformat_minor": 2
}
