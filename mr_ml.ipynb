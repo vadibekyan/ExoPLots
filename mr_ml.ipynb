{
 "cells": [
  {
   "attachments": {},
   "cell_type": "markdown",
   "metadata": {},
   "source": [
    "# Importing the libraries and seting the paths"
   ]
  },
  {
   "cell_type": "code",
   "execution_count": 51,
   "metadata": {},
   "outputs": [],
   "source": [
    "from utils import open_nea_table, download_nea_table\n",
    "from mass_year import mass_vs_year_plot, planet_discovery_stat\n",
    "import pandas as pd\n",
    "import numpy as np\n",
    "import os\n",
    "import sys\n",
    "from datetime import date\n",
    "import math\n",
    "\n",
    "from mr_utils import a_from_P, Teq_from_teff_v_plx_a, Teq_from_teff_v_plx_P, teq_hellper_function, a_from_P, MR_plot\n",
    "\n",
    "from mr_ml_utils import score_dataset, optuna_RF_Reg, modified_learning_curve"
   ]
  },
  {
   "attachments": {},
   "cell_type": "markdown",
   "metadata": {},
   "source": [
    "If needed to update the NEA table then first run  \"download_nea_table\""
   ]
  },
  {
   "cell_type": "code",
   "execution_count": 52,
   "metadata": {},
   "outputs": [
    {
     "name": "stderr",
     "output_type": "stream",
     "text": [
      "/home/vadibekyan/my_github/ExoPLots/utils.py:52: DtypeWarning: Columns (65,187) have mixed types. Specify dtype option on import or set low_memory=False.\n",
      "  nea_full_table = pd.read_csv(table_directory)\n"
     ]
    },
    {
     "data": {
      "text/html": [
       "<div>\n",
       "<style scoped>\n",
       "    .dataframe tbody tr th:only-of-type {\n",
       "        vertical-align: middle;\n",
       "    }\n",
       "\n",
       "    .dataframe tbody tr th {\n",
       "        vertical-align: top;\n",
       "    }\n",
       "\n",
       "    .dataframe thead th {\n",
       "        text-align: right;\n",
       "    }\n",
       "</style>\n",
       "<table border=\"1\" class=\"dataframe\">\n",
       "  <thead>\n",
       "    <tr style=\"text-align: right;\">\n",
       "      <th></th>\n",
       "      <th>pl_name</th>\n",
       "      <th>pl_letter</th>\n",
       "      <th>hostname</th>\n",
       "      <th>hd_name</th>\n",
       "      <th>hip_name</th>\n",
       "      <th>tic_id</th>\n",
       "      <th>gaia_id</th>\n",
       "      <th>default_flag</th>\n",
       "      <th>pl_refname</th>\n",
       "      <th>sy_refname</th>\n",
       "      <th>...</th>\n",
       "      <th>sy_jmagerr1</th>\n",
       "      <th>sy_jmagerr2</th>\n",
       "      <th>sy_jmagstr</th>\n",
       "      <th>sy_hmag</th>\n",
       "      <th>sy_hmagerr1</th>\n",
       "      <th>sy_hmagerr2</th>\n",
       "      <th>sy_hmagstr</th>\n",
       "      <th>sy_kmag</th>\n",
       "      <th>sy_kmagerr1</th>\n",
       "      <th>sy_kmagerr2</th>\n",
       "    </tr>\n",
       "  </thead>\n",
       "  <tbody>\n",
       "    <tr>\n",
       "      <th>0</th>\n",
       "      <td>OGLE-TR-10 b</td>\n",
       "      <td>b</td>\n",
       "      <td>OGLE-TR-10</td>\n",
       "      <td>NaN</td>\n",
       "      <td>NaN</td>\n",
       "      <td>TIC 130150682</td>\n",
       "      <td>Gaia DR2 4056443366649948160</td>\n",
       "      <td>1</td>\n",
       "      <td>&lt;a refstr=TORRES_ET_AL__2008 href=https://ui.a...</td>\n",
       "      <td>&lt;a refstr=STASSUN_ET_AL__2019 href=https://ui....</td>\n",
       "      <td>...</td>\n",
       "      <td>NaN</td>\n",
       "      <td>NaN</td>\n",
       "      <td>13.692</td>\n",
       "      <td>13.314</td>\n",
       "      <td>0.121</td>\n",
       "      <td>-0.121</td>\n",
       "      <td>13.314&amp;plusmn;0.121</td>\n",
       "      <td>12.856</td>\n",
       "      <td>NaN</td>\n",
       "      <td>NaN</td>\n",
       "    </tr>\n",
       "    <tr>\n",
       "      <th>1</th>\n",
       "      <td>BD-08 2823 c</td>\n",
       "      <td>c</td>\n",
       "      <td>BD-08 2823</td>\n",
       "      <td>NaN</td>\n",
       "      <td>HIP 49067</td>\n",
       "      <td>TIC 33355302</td>\n",
       "      <td>Gaia DR2 3770419611540574080</td>\n",
       "      <td>1</td>\n",
       "      <td>&lt;a refstr=HEBRARD_ET_AL__2010 href=https://ui....</td>\n",
       "      <td>&lt;a refstr=STASSUN_ET_AL__2019 href=https://ui....</td>\n",
       "      <td>...</td>\n",
       "      <td>0.020</td>\n",
       "      <td>-0.020</td>\n",
       "      <td>7.96&amp;plusmn;0.02</td>\n",
       "      <td>7.498</td>\n",
       "      <td>0.047</td>\n",
       "      <td>-0.047</td>\n",
       "      <td>7.498&amp;plusmn;0.047</td>\n",
       "      <td>7.323</td>\n",
       "      <td>0.021</td>\n",
       "      <td>-0.021</td>\n",
       "    </tr>\n",
       "    <tr>\n",
       "      <th>2</th>\n",
       "      <td>HR 8799 c</td>\n",
       "      <td>c</td>\n",
       "      <td>HR 8799</td>\n",
       "      <td>HD 218396</td>\n",
       "      <td>HIP 114189</td>\n",
       "      <td>TIC 245368902</td>\n",
       "      <td>Gaia DR2 2832463659640297472</td>\n",
       "      <td>1</td>\n",
       "      <td>&lt;a refstr=MAROIS_ET_AL__2008 href=https://ui.a...</td>\n",
       "      <td>&lt;a refstr=STASSUN_ET_AL__2019 href=https://ui....</td>\n",
       "      <td>...</td>\n",
       "      <td>0.027</td>\n",
       "      <td>-0.027</td>\n",
       "      <td>5.383&amp;plusmn;0.027</td>\n",
       "      <td>5.280</td>\n",
       "      <td>0.018</td>\n",
       "      <td>-0.018</td>\n",
       "      <td>5.280&amp;plusmn;0.018</td>\n",
       "      <td>5.240</td>\n",
       "      <td>0.018</td>\n",
       "      <td>-0.018</td>\n",
       "    </tr>\n",
       "  </tbody>\n",
       "</table>\n",
       "<p>3 rows × 353 columns</p>\n",
       "</div>"
      ],
      "text/plain": [
       "        pl_name pl_letter    hostname    hd_name    hip_name         tic_id  \\\n",
       "0  OGLE-TR-10 b         b  OGLE-TR-10        NaN         NaN  TIC 130150682   \n",
       "1  BD-08 2823 c         c  BD-08 2823        NaN   HIP 49067   TIC 33355302   \n",
       "2     HR 8799 c         c     HR 8799  HD 218396  HIP 114189  TIC 245368902   \n",
       "\n",
       "                        gaia_id  default_flag  \\\n",
       "0  Gaia DR2 4056443366649948160             1   \n",
       "1  Gaia DR2 3770419611540574080             1   \n",
       "2  Gaia DR2 2832463659640297472             1   \n",
       "\n",
       "                                          pl_refname  \\\n",
       "0  <a refstr=TORRES_ET_AL__2008 href=https://ui.a...   \n",
       "1  <a refstr=HEBRARD_ET_AL__2010 href=https://ui....   \n",
       "2  <a refstr=MAROIS_ET_AL__2008 href=https://ui.a...   \n",
       "\n",
       "                                          sy_refname  ... sy_jmagerr1  \\\n",
       "0  <a refstr=STASSUN_ET_AL__2019 href=https://ui....  ...         NaN   \n",
       "1  <a refstr=STASSUN_ET_AL__2019 href=https://ui....  ...       0.020   \n",
       "2  <a refstr=STASSUN_ET_AL__2019 href=https://ui....  ...       0.027   \n",
       "\n",
       "   sy_jmagerr2          sy_jmagstr sy_hmag sy_hmagerr1 sy_hmagerr2  \\\n",
       "0          NaN              13.692  13.314       0.121      -0.121   \n",
       "1       -0.020    7.96&plusmn;0.02   7.498       0.047      -0.047   \n",
       "2       -0.027  5.383&plusmn;0.027   5.280       0.018      -0.018   \n",
       "\n",
       "            sy_hmagstr sy_kmag  sy_kmagerr1 sy_kmagerr2  \n",
       "0  13.314&plusmn;0.121  12.856          NaN         NaN  \n",
       "1   7.498&plusmn;0.047   7.323        0.021      -0.021  \n",
       "2   5.280&plusmn;0.018   5.240        0.018      -0.018  \n",
       "\n",
       "[3 rows x 353 columns]"
      ]
     },
     "execution_count": 52,
     "metadata": {},
     "output_type": "execute_result"
    }
   ],
   "source": [
    "nea_full_table = open_nea_table()\n",
    "nea_full_table.head(3)"
   ]
  },
  {
   "cell_type": "code",
   "execution_count": 53,
   "metadata": {},
   "outputs": [
    {
     "data": {
      "text/plain": [
       "array(['pl_name', 'pl_letter', 'hostname', 'hd_name', 'hip_name',\n",
       "       'tic_id', 'gaia_id', 'default_flag', 'pl_refname', 'sy_refname',\n",
       "       'disc_pubdate', 'disc_year', 'discoverymethod', 'disc_locale',\n",
       "       'disc_facility', 'disc_instrument', 'disc_telescope',\n",
       "       'disc_refname', 'ra', 'rastr', 'dec', 'decstr', 'glon', 'glat',\n",
       "       'elon', 'elat', 'pl_orbper', 'pl_orbpererr1', 'pl_orbpererr2',\n",
       "       'pl_orbperlim', 'pl_orbperstr', 'pl_orblpererr1', 'pl_orblper',\n",
       "       'pl_orblpererr2', 'pl_orblperlim', 'pl_orblperstr', 'pl_orbsmax',\n",
       "       'pl_orbsmaxerr1', 'pl_orbsmaxerr2', 'pl_orbsmaxlim',\n",
       "       'pl_orbsmaxstr', 'pl_orbincl', 'pl_orbinclerr1', 'pl_orbinclerr2',\n",
       "       'pl_orbincllim', 'pl_orbinclstr', 'pl_orbtper', 'pl_orbtpererr1',\n",
       "       'pl_orbtpererr2', 'pl_orbtperlim', 'pl_orbtperstr', 'pl_orbeccen',\n",
       "       'pl_orbeccenerr1', 'pl_orbeccenerr2', 'pl_orbeccenlim',\n",
       "       'pl_orbeccenstr', 'pl_eqt', 'pl_eqterr1', 'pl_eqterr2',\n",
       "       'pl_eqtlim', 'pl_eqtstr', 'pl_occdep', 'pl_occdeperr1',\n",
       "       'pl_occdeperr2', 'pl_occdeplim', 'pl_occdepstr', 'pl_insol',\n",
       "       'pl_insolerr1', 'pl_insolerr2', 'pl_insollim', 'pl_insolstr',\n",
       "       'pl_dens', 'pl_denserr1', 'pl_denserr2', 'pl_denslim',\n",
       "       'pl_densstr', 'pl_trandep', 'pl_trandeperr1', 'pl_trandeperr2',\n",
       "       'pl_trandeplim', 'pl_trandepstr', 'pl_tranmid', 'pl_tranmiderr1',\n",
       "       'pl_tranmiderr2', 'pl_tranmidlim', 'pl_tranmidstr', 'pl_trandur',\n",
       "       'pl_trandurerr1', 'pl_trandurerr2', 'pl_trandurlim',\n",
       "       'pl_trandurstr', 'sy_kmagstr', 'sy_umag', 'sy_umagerr1',\n",
       "       'sy_umagerr2', 'sy_umagstr', 'sy_rmag', 'sy_rmagerr1',\n",
       "       'sy_rmagerr2', 'sy_rmagstr', 'sy_imag', 'sy_imagerr1',\n",
       "       'sy_imagerr2', 'sy_imagstr', 'sy_zmag', 'sy_zmagerr1',\n",
       "       'sy_zmagerr2', 'sy_zmagstr', 'sy_w1mag', 'sy_w1magerr1',\n",
       "       'sy_w1magerr2', 'sy_w1magstr', 'sy_w2mag', 'sy_w2magerr1',\n",
       "       'sy_w2magerr2', 'sy_w2magstr', 'sy_w3mag', 'sy_w3magerr1',\n",
       "       'sy_w3magerr2', 'sy_w3magstr', 'sy_w4mag', 'sy_w4magerr1',\n",
       "       'sy_w4magerr2', 'sy_w4magstr', 'sy_gmag', 'sy_gmagerr1',\n",
       "       'sy_gmagerr2', 'sy_gmagstr', 'sy_gaiamag', 'sy_gaiamagerr1',\n",
       "       'sy_gaiamagerr2', 'sy_gaiamagstr', 'sy_tmag', 'sy_tmagerr1',\n",
       "       'sy_tmagerr2', 'sy_tmagstr', 'pl_controv_flag', 'pl_tsystemref',\n",
       "       'st_metratio', 'st_spectype', 'sy_kepmag', 'sy_kepmagerr1',\n",
       "       'sy_kepmagerr2', 'sy_kepmagstr', 'st_rotp', 'st_rotperr1',\n",
       "       'st_rotperr2', 'st_rotplim', 'st_rotpstr', 'pl_projobliq',\n",
       "       'pl_projobliqerr1', 'pl_projobliqerr2', 'pl_projobliqlim',\n",
       "       'pl_projobliqstr', 'x', 'y', 'z', 'htm20', 'pl_rvamp',\n",
       "       'pl_rvamperr1', 'pl_rvamperr2', 'pl_rvamplim', 'pl_rvampstr',\n",
       "       'pl_radj', 'pl_radjerr1', 'pl_radjerr2', 'pl_radjlim',\n",
       "       'pl_radjstr', 'pl_rade', 'pl_radeerr1', 'pl_radeerr2',\n",
       "       'pl_radelim', 'pl_radestr', 'pl_ratror', 'pl_ratrorerr1',\n",
       "       'pl_ratrorerr2', 'pl_ratrorlim', 'pl_ratrorstr', 'pl_ratdor',\n",
       "       'pl_trueobliq', 'pl_trueobliqerr1', 'pl_trueobliqerr2',\n",
       "       'pl_trueobliqlim', 'pl_trueobliqstr', 'sy_icmag', 'sy_icmagerr1',\n",
       "       'sy_icmagerr2', 'sy_icmagstr', 'rowupdate', 'pl_pubdate',\n",
       "       'st_refname', 'releasedate', 'dkin_flag', 'pl_ratdorerr1',\n",
       "       'pl_ratdorerr2', 'pl_ratdorlim', 'pl_ratdorstr', 'pl_imppar',\n",
       "       'pl_impparerr1', 'pl_impparerr2', 'pl_impparlim', 'pl_impparstr',\n",
       "       'pl_cmassj', 'pl_cmassjerr1', 'pl_cmassjerr2', 'pl_cmassjlim',\n",
       "       'pl_cmassjstr', 'pl_cmasse', 'pl_cmasseerr1', 'pl_cmasseerr2',\n",
       "       'pl_cmasselim', 'pl_cmassestr', 'pl_massj', 'pl_massjerr1',\n",
       "       'pl_massjerr2', 'pl_massjlim', 'pl_massjstr', 'pl_masse',\n",
       "       'pl_masseerr1', 'pl_masseerr2', 'pl_masselim', 'pl_massestr',\n",
       "       'pl_bmassj', 'pl_bmassjerr1', 'pl_bmassjerr2', 'pl_bmassjlim',\n",
       "       'pl_bmassjstr', 'pl_bmasse', 'pl_bmasseerr1', 'pl_bmasseerr2',\n",
       "       'pl_bmasselim', 'pl_bmassestr', 'pl_bmassprov', 'pl_msinij',\n",
       "       'pl_msinijerr1', 'pl_msinijerr2', 'pl_msinijlim', 'pl_msinijstr',\n",
       "       'pl_msinie', 'pl_msinieerr1', 'pl_msinieerr2', 'pl_msinielim',\n",
       "       'pl_msiniestr', 'st_teff', 'st_tefferr1', 'st_tefferr2',\n",
       "       'st_tefflim', 'st_teffstr', 'st_met', 'st_meterr1', 'st_meterr2',\n",
       "       'st_metlim', 'st_metstr', 'st_radv', 'st_radverr1', 'st_radverr2',\n",
       "       'st_radvlim', 'st_radvstr', 'st_vsin', 'st_vsinerr1',\n",
       "       'st_vsinerr2', 'st_vsinlim', 'st_vsinstr', 'st_lum', 'st_lumerr1',\n",
       "       'st_lumerr2', 'st_lumlim', 'st_lumstr', 'st_logg', 'st_loggerr1',\n",
       "       'st_loggerr2', 'st_logglim', 'st_loggstr', 'st_age', 'st_ageerr1',\n",
       "       'st_ageerr2', 'st_agelim', 'st_agestr', 'st_mass', 'st_masserr1',\n",
       "       'st_masserr2', 'st_masslim', 'st_massstr', 'st_dens',\n",
       "       'st_denserr1', 'st_denserr2', 'st_denslim', 'st_densstr', 'st_rad',\n",
       "       'st_raderr1', 'st_raderr2', 'st_radlim', 'st_radstr', 'ttv_flag',\n",
       "       'ptv_flag', 'tran_flag', 'rv_flag', 'ast_flag', 'obm_flag',\n",
       "       'micro_flag', 'etv_flag', 'ima_flag', 'pul_flag', 'soltype',\n",
       "       'sy_snum', 'sy_pnum', 'sy_mnum', 'cb_flag', 'st_nphot', 'st_nrvc',\n",
       "       'st_nspec', 'pl_nespec', 'pl_ntranspec', 'pl_nnotes', 'sy_pm',\n",
       "       'sy_pmerr1', 'sy_pmerr2', 'sy_pmstr', 'sy_pmra', 'sy_pmraerr1',\n",
       "       'sy_pmraerr2', 'sy_pmrastr', 'sy_pmdec', 'sy_pmdecerr1',\n",
       "       'sy_pmdecerr2', 'sy_pmdecstr', 'sy_plx', 'sy_plxerr1',\n",
       "       'sy_plxerr2', 'sy_plxstr', 'sy_dist', 'sy_disterr1', 'sy_disterr2',\n",
       "       'sy_diststr', 'sy_bmag', 'sy_bmagerr1', 'sy_bmagerr2',\n",
       "       'sy_bmagstr', 'sy_vmag', 'sy_vmagerr1', 'sy_vmagerr2',\n",
       "       'sy_vmagstr', 'sy_jmag', 'sy_jmagerr1', 'sy_jmagerr2',\n",
       "       'sy_jmagstr', 'sy_hmag', 'sy_hmagerr1', 'sy_hmagerr2',\n",
       "       'sy_hmagstr', 'sy_kmag', 'sy_kmagerr1', 'sy_kmagerr2'],\n",
       "      dtype=object)"
      ]
     },
     "execution_count": 53,
     "metadata": {},
     "output_type": "execute_result"
    }
   ],
   "source": [
    "nea_full_table.columns.values"
   ]
  },
  {
   "attachments": {},
   "cell_type": "markdown",
   "metadata": {},
   "source": [
    "# Selecting columns that are relevant for the ML analysis"
   ]
  },
  {
   "cell_type": "code",
   "execution_count": 54,
   "metadata": {},
   "outputs": [],
   "source": [
    "relevant_columns = ['pl_rade', 'pl_radeerr1', 'pl_radeerr2', 'pl_orbsmax', 'pl_bmasse', 'pl_masseerr1', 'pl_masseerr2', 'pl_orbper',  'sy_vmag', 'sy_plx', 'st_teff', 'st_mass']\n",
    "nea_relevant = nea_full_table[relevant_columns]\n"
   ]
  },
  {
   "attachments": {},
   "cell_type": "markdown",
   "metadata": {},
   "source": [
    "### Equilibrium temperature is important for the radius of hot planets. "
   ]
  },
  {
   "attachments": {},
   "cell_type": "markdown",
   "metadata": {},
   "source": [
    "Selecting planets with Mass and Radius measurements for ML"
   ]
  },
  {
   "cell_type": "code",
   "execution_count": 55,
   "metadata": {},
   "outputs": [
    {
     "name": "stdout",
     "output_type": "stream",
     "text": [
      "There are 1113 planets with mass and radius measurements\n"
     ]
    },
    {
     "data": {
      "text/html": [
       "<div>\n",
       "<style scoped>\n",
       "    .dataframe tbody tr th:only-of-type {\n",
       "        vertical-align: middle;\n",
       "    }\n",
       "\n",
       "    .dataframe tbody tr th {\n",
       "        vertical-align: top;\n",
       "    }\n",
       "\n",
       "    .dataframe thead th {\n",
       "        text-align: right;\n",
       "    }\n",
       "</style>\n",
       "<table border=\"1\" class=\"dataframe\">\n",
       "  <thead>\n",
       "    <tr style=\"text-align: right;\">\n",
       "      <th></th>\n",
       "      <th>pl_rade</th>\n",
       "      <th>pl_radeerr1</th>\n",
       "      <th>pl_radeerr2</th>\n",
       "      <th>pl_orbsmax</th>\n",
       "      <th>pl_bmasse</th>\n",
       "      <th>pl_masseerr1</th>\n",
       "      <th>pl_masseerr2</th>\n",
       "      <th>pl_orbper</th>\n",
       "      <th>sy_vmag</th>\n",
       "      <th>sy_plx</th>\n",
       "      <th>st_teff</th>\n",
       "      <th>st_mass</th>\n",
       "    </tr>\n",
       "  </thead>\n",
       "  <tbody>\n",
       "    <tr>\n",
       "      <th>count</th>\n",
       "      <td>1113.000000</td>\n",
       "      <td>1089.000000</td>\n",
       "      <td>1089.000000</td>\n",
       "      <td>878.000000</td>\n",
       "      <td>1113.000000</td>\n",
       "      <td>993.000000</td>\n",
       "      <td>993.000000</td>\n",
       "      <td>1.098000e+03</td>\n",
       "      <td>1110.000000</td>\n",
       "      <td>1085.000000</td>\n",
       "      <td>1032.000000</td>\n",
       "      <td>1100.000000</td>\n",
       "    </tr>\n",
       "    <tr>\n",
       "      <th>mean</th>\n",
       "      <td>8.967707</td>\n",
       "      <td>0.663302</td>\n",
       "      <td>-0.575284</td>\n",
       "      <td>17.160037</td>\n",
       "      <td>420.861732</td>\n",
       "      <td>62.765269</td>\n",
       "      <td>-59.203874</td>\n",
       "      <td>3.790530e+05</td>\n",
       "      <td>12.274946</td>\n",
       "      <td>9.295143</td>\n",
       "      <td>5483.824806</td>\n",
       "      <td>1.003882</td>\n",
       "    </tr>\n",
       "    <tr>\n",
       "      <th>std</th>\n",
       "      <td>6.083019</td>\n",
       "      <td>1.022459</td>\n",
       "      <td>0.798818</td>\n",
       "      <td>272.583363</td>\n",
       "      <td>963.110129</td>\n",
       "      <td>243.492003</td>\n",
       "      <td>229.348953</td>\n",
       "      <td>1.213509e+07</td>\n",
       "      <td>2.171725</td>\n",
       "      <td>17.976954</td>\n",
       "      <td>1361.837200</td>\n",
       "      <td>0.345527</td>\n",
       "    </tr>\n",
       "    <tr>\n",
       "      <th>min</th>\n",
       "      <td>0.310000</td>\n",
       "      <td>0.006000</td>\n",
       "      <td>-6.730000</td>\n",
       "      <td>0.006000</td>\n",
       "      <td>0.070000</td>\n",
       "      <td>0.012000</td>\n",
       "      <td>-4767.450000</td>\n",
       "      <td>2.401040e-01</td>\n",
       "      <td>5.569110</td>\n",
       "      <td>-0.149186</td>\n",
       "      <td>575.000000</td>\n",
       "      <td>0.010000</td>\n",
       "    </tr>\n",
       "    <tr>\n",
       "      <th>25%</th>\n",
       "      <td>2.630000</td>\n",
       "      <td>0.119000</td>\n",
       "      <td>-0.695000</td>\n",
       "      <td>0.037958</td>\n",
       "      <td>10.100000</td>\n",
       "      <td>2.120000</td>\n",
       "      <td>-41.317900</td>\n",
       "      <td>3.003277e+00</td>\n",
       "      <td>11.012500</td>\n",
       "      <td>1.939290</td>\n",
       "      <td>5016.000000</td>\n",
       "      <td>0.820000</td>\n",
       "    </tr>\n",
       "    <tr>\n",
       "      <th>50%</th>\n",
       "      <td>10.447000</td>\n",
       "      <td>0.336000</td>\n",
       "      <td>-0.325000</td>\n",
       "      <td>0.053735</td>\n",
       "      <td>126.496340</td>\n",
       "      <td>14.937940</td>\n",
       "      <td>-14.302350</td>\n",
       "      <td>4.603155e+00</td>\n",
       "      <td>12.247000</td>\n",
       "      <td>3.516790</td>\n",
       "      <td>5620.000000</td>\n",
       "      <td>1.000000</td>\n",
       "    </tr>\n",
       "    <tr>\n",
       "      <th>75%</th>\n",
       "      <td>13.787000</td>\n",
       "      <td>0.785000</td>\n",
       "      <td>-0.110000</td>\n",
       "      <td>0.100075</td>\n",
       "      <td>379.000000</td>\n",
       "      <td>43.541000</td>\n",
       "      <td>-2.000000</td>\n",
       "      <td>1.189179e+01</td>\n",
       "      <td>13.688000</td>\n",
       "      <td>7.961470</td>\n",
       "      <td>6009.000000</td>\n",
       "      <td>1.180000</td>\n",
       "    </tr>\n",
       "    <tr>\n",
       "      <th>max</th>\n",
       "      <td>33.600000</td>\n",
       "      <td>10.536000</td>\n",
       "      <td>0.000000</td>\n",
       "      <td>7506.000000</td>\n",
       "      <td>9534.900000</td>\n",
       "      <td>4767.450000</td>\n",
       "      <td>-0.012000</td>\n",
       "      <td>4.020000e+08</td>\n",
       "      <td>20.154400</td>\n",
       "      <td>153.081000</td>\n",
       "      <td>27730.000000</td>\n",
       "      <td>2.780000</td>\n",
       "    </tr>\n",
       "  </tbody>\n",
       "</table>\n",
       "</div>"
      ],
      "text/plain": [
       "           pl_rade  pl_radeerr1  pl_radeerr2   pl_orbsmax    pl_bmasse  \\\n",
       "count  1113.000000  1089.000000  1089.000000   878.000000  1113.000000   \n",
       "mean      8.967707     0.663302    -0.575284    17.160037   420.861732   \n",
       "std       6.083019     1.022459     0.798818   272.583363   963.110129   \n",
       "min       0.310000     0.006000    -6.730000     0.006000     0.070000   \n",
       "25%       2.630000     0.119000    -0.695000     0.037958    10.100000   \n",
       "50%      10.447000     0.336000    -0.325000     0.053735   126.496340   \n",
       "75%      13.787000     0.785000    -0.110000     0.100075   379.000000   \n",
       "max      33.600000    10.536000     0.000000  7506.000000  9534.900000   \n",
       "\n",
       "       pl_masseerr1  pl_masseerr2     pl_orbper      sy_vmag       sy_plx  \\\n",
       "count    993.000000    993.000000  1.098000e+03  1110.000000  1085.000000   \n",
       "mean      62.765269    -59.203874  3.790530e+05    12.274946     9.295143   \n",
       "std      243.492003    229.348953  1.213509e+07     2.171725    17.976954   \n",
       "min        0.012000  -4767.450000  2.401040e-01     5.569110    -0.149186   \n",
       "25%        2.120000    -41.317900  3.003277e+00    11.012500     1.939290   \n",
       "50%       14.937940    -14.302350  4.603155e+00    12.247000     3.516790   \n",
       "75%       43.541000     -2.000000  1.189179e+01    13.688000     7.961470   \n",
       "max     4767.450000     -0.012000  4.020000e+08    20.154400   153.081000   \n",
       "\n",
       "            st_teff      st_mass  \n",
       "count   1032.000000  1100.000000  \n",
       "mean    5483.824806     1.003882  \n",
       "std     1361.837200     0.345527  \n",
       "min      575.000000     0.010000  \n",
       "25%     5016.000000     0.820000  \n",
       "50%     5620.000000     1.000000  \n",
       "75%     6009.000000     1.180000  \n",
       "max    27730.000000     2.780000  "
      ]
     },
     "execution_count": 55,
     "metadata": {},
     "output_type": "execute_result"
    }
   ],
   "source": [
    "nea_with_M_and_R = nea_relevant[(nea_relevant.pl_bmasse > 0) & (nea_relevant.pl_rade > 0) ].reset_index(drop=True) # reset index, drop old ones\n",
    "\n",
    "print (f'There are {len(nea_with_M_and_R)} planets with mass and radius measurements')\n",
    "\n",
    "nea_with_M_and_R.describe()"
   ]
  },
  {
   "attachments": {},
   "cell_type": "markdown",
   "metadata": {},
   "source": [
    "There seem to be star(s) with negative parallaxes. They must be removed fromthe sample"
   ]
  },
  {
   "cell_type": "code",
   "execution_count": 56,
   "metadata": {},
   "outputs": [],
   "source": [
    "nea_with_M_and_R = nea_with_M_and_R[nea_with_M_and_R.sy_plx > 0]"
   ]
  },
  {
   "attachments": {},
   "cell_type": "markdown",
   "metadata": {},
   "source": [
    "To calculate Teq, one needs Luminosity (us such, Teff, Vmag, and Plx) and semimajor axis (or orbital period ond Mstar)"
   ]
  },
  {
   "cell_type": "code",
   "execution_count": 57,
   "metadata": {},
   "outputs": [
    {
     "data": {
      "text/plain": [
       "pl_rade           0\n",
       "pl_radeerr1      22\n",
       "pl_radeerr2      22\n",
       "pl_orbsmax      234\n",
       "pl_bmasse         0\n",
       "pl_masseerr1    118\n",
       "pl_masseerr2    118\n",
       "pl_orbper        13\n",
       "sy_vmag           0\n",
       "sy_plx            0\n",
       "st_teff          78\n",
       "st_mass          11\n",
       "dtype: int64"
      ]
     },
     "execution_count": 57,
     "metadata": {},
     "output_type": "execute_result"
    }
   ],
   "source": [
    "#check how many nan values have in each column\n",
    "nea_with_M_and_R.isna().sum()"
   ]
  },
  {
   "attachments": {},
   "cell_type": "markdown",
   "metadata": {},
   "source": [
    "There are 235 missing entries for semimajor axis. This parameter can be estimated from the stellar mass and orbital period.\n",
    "\n",
    "Next, all the rows containing nan values will be removed, except if the nan is in the \"pl_orbsmax\" column"
   ]
  },
  {
   "cell_type": "code",
   "execution_count": 58,
   "metadata": {},
   "outputs": [
    {
     "data": {
      "text/plain": [
       "pl_rade           0\n",
       "pl_radeerr1       0\n",
       "pl_radeerr2       0\n",
       "pl_orbsmax      164\n",
       "pl_bmasse         0\n",
       "pl_masseerr1      0\n",
       "pl_masseerr2      0\n",
       "pl_orbper         0\n",
       "sy_vmag           0\n",
       "sy_plx            0\n",
       "st_teff           0\n",
       "st_mass           0\n",
       "dtype: int64"
      ]
     },
     "execution_count": 58,
     "metadata": {},
     "output_type": "execute_result"
    }
   ],
   "source": [
    "nea_with_M_and_R_cleaned = nea_with_M_and_R.dropna(subset=nea_with_M_and_R.columns.drop('pl_orbsmax'))\n",
    "# Check results\n",
    "nea_with_M_and_R_cleaned.isna().sum()\n"
   ]
  },
  {
   "cell_type": "code",
   "execution_count": 59,
   "metadata": {},
   "outputs": [
    {
     "name": "stdout",
     "output_type": "stream",
     "text": [
      "There are 880 planets for the ML analysis\n"
     ]
    },
    {
     "data": {
      "text/html": [
       "<div>\n",
       "<style scoped>\n",
       "    .dataframe tbody tr th:only-of-type {\n",
       "        vertical-align: middle;\n",
       "    }\n",
       "\n",
       "    .dataframe tbody tr th {\n",
       "        vertical-align: top;\n",
       "    }\n",
       "\n",
       "    .dataframe thead th {\n",
       "        text-align: right;\n",
       "    }\n",
       "</style>\n",
       "<table border=\"1\" class=\"dataframe\">\n",
       "  <thead>\n",
       "    <tr style=\"text-align: right;\">\n",
       "      <th></th>\n",
       "      <th>pl_rade</th>\n",
       "      <th>pl_radeerr1</th>\n",
       "      <th>pl_radeerr2</th>\n",
       "      <th>pl_orbsmax</th>\n",
       "      <th>pl_bmasse</th>\n",
       "      <th>pl_masseerr1</th>\n",
       "      <th>pl_masseerr2</th>\n",
       "      <th>pl_orbper</th>\n",
       "      <th>sy_vmag</th>\n",
       "      <th>sy_plx</th>\n",
       "      <th>st_teff</th>\n",
       "      <th>st_mass</th>\n",
       "    </tr>\n",
       "  </thead>\n",
       "  <tbody>\n",
       "    <tr>\n",
       "      <th>0</th>\n",
       "      <td>14.011</td>\n",
       "      <td>1.569</td>\n",
       "      <td>-1.345</td>\n",
       "      <td>0.0434</td>\n",
       "      <td>197.04600</td>\n",
       "      <td>44.49400</td>\n",
       "      <td>-44.49400</td>\n",
       "      <td>3.101278</td>\n",
       "      <td>16.006</td>\n",
       "      <td>0.72138</td>\n",
       "      <td>5950.0</td>\n",
       "      <td>1.14</td>\n",
       "    </tr>\n",
       "    <tr>\n",
       "      <th>4</th>\n",
       "      <td>16.870</td>\n",
       "      <td>0.560</td>\n",
       "      <td>-0.504</td>\n",
       "      <td>0.0535</td>\n",
       "      <td>271.74465</td>\n",
       "      <td>22.88376</td>\n",
       "      <td>-21.93027</td>\n",
       "      <td>3.899052</td>\n",
       "      <td>12.006</td>\n",
       "      <td>1.73126</td>\n",
       "      <td>5941.0</td>\n",
       "      <td>1.34</td>\n",
       "    </tr>\n",
       "    <tr>\n",
       "      <th>5</th>\n",
       "      <td>21.633</td>\n",
       "      <td>5.044</td>\n",
       "      <td>-5.044</td>\n",
       "      <td>NaN</td>\n",
       "      <td>352.79130</td>\n",
       "      <td>171.62820</td>\n",
       "      <td>-171.62820</td>\n",
       "      <td>2.175180</td>\n",
       "      <td>11.965</td>\n",
       "      <td>1.29679</td>\n",
       "      <td>6100.0</td>\n",
       "      <td>1.87</td>\n",
       "    </tr>\n",
       "  </tbody>\n",
       "</table>\n",
       "</div>"
      ],
      "text/plain": [
       "   pl_rade  pl_radeerr1  pl_radeerr2  pl_orbsmax  pl_bmasse  pl_masseerr1  \\\n",
       "0   14.011        1.569       -1.345      0.0434  197.04600      44.49400   \n",
       "4   16.870        0.560       -0.504      0.0535  271.74465      22.88376   \n",
       "5   21.633        5.044       -5.044         NaN  352.79130     171.62820   \n",
       "\n",
       "   pl_masseerr2  pl_orbper  sy_vmag   sy_plx  st_teff  st_mass  \n",
       "0     -44.49400   3.101278   16.006  0.72138   5950.0     1.14  \n",
       "4     -21.93027   3.899052   12.006  1.73126   5941.0     1.34  \n",
       "5    -171.62820   2.175180   11.965  1.29679   6100.0     1.87  "
      ]
     },
     "execution_count": 59,
     "metadata": {},
     "output_type": "execute_result"
    }
   ],
   "source": [
    "print (f'There are {len(nea_with_M_and_R_cleaned)} planets for the ML analysis')\n",
    "nea_with_M_and_R_cleaned.head(3)"
   ]
  },
  {
   "attachments": {},
   "cell_type": "markdown",
   "metadata": {},
   "source": [
    "Calculating semimajor axis from Period and stellar mass, for the missing \"a\" entries"
   ]
  },
  {
   "cell_type": "code",
   "execution_count": 60,
   "metadata": {},
   "outputs": [],
   "source": [
    "for i in range(len(nea_with_M_and_R_cleaned)):\n",
    "    if np.isnan(nea_with_M_and_R_cleaned.iloc[i]['pl_orbsmax']):\n",
    "        nea_with_M_and_R_cleaned.iloc[i]['pl_orbsmax'] = a_from_P(nea_with_M_and_R_cleaned.iloc[i]['st_mass'], nea_with_M_and_R_cleaned.iloc[i]['pl_orbper'])\n"
   ]
  },
  {
   "attachments": {},
   "cell_type": "markdown",
   "metadata": {},
   "source": [
    "Calculating Teq from \"a\" or \"P\" "
   ]
  },
  {
   "attachments": {},
   "cell_type": "markdown",
   "metadata": {},
   "source": [
    "Use teq_hellper_function function to determine Teq from \"a\" or \"P\" depending on their availability. Priority is given to \"a\""
   ]
  },
  {
   "cell_type": "code",
   "execution_count": 61,
   "metadata": {},
   "outputs": [
    {
     "name": "stderr",
     "output_type": "stream",
     "text": [
      "/tmp/ipykernel_1143652/293283582.py:2: SettingWithCopyWarning: \n",
      "A value is trying to be set on a copy of a slice from a DataFrame.\n",
      "Try using .loc[row_indexer,col_indexer] = value instead\n",
      "\n",
      "See the caveats in the documentation: https://pandas.pydata.org/pandas-docs/stable/user_guide/indexing.html#returning-a-view-versus-a-copy\n",
      "  nea_with_M_and_R_cleaned['Teq'] = 0\n"
     ]
    }
   ],
   "source": [
    "# Add new columns: Teq\n",
    "nea_with_M_and_R_cleaned['Teq'] = 0\n",
    "\n",
    "nea_with_M_and_R_cleaned = nea_with_M_and_R_cleaned.apply(lambda x: teq_hellper_function(x, 'pl_orbsmax', 'pl_orbper', 'st_teff', 'sy_vmag', 'sy_plx', 'st_mass', 'Teq'), axis = 1)"
   ]
  },
  {
   "cell_type": "code",
   "execution_count": 62,
   "metadata": {},
   "outputs": [
    {
     "data": {
      "text/html": [
       "<div>\n",
       "<style scoped>\n",
       "    .dataframe tbody tr th:only-of-type {\n",
       "        vertical-align: middle;\n",
       "    }\n",
       "\n",
       "    .dataframe tbody tr th {\n",
       "        vertical-align: top;\n",
       "    }\n",
       "\n",
       "    .dataframe thead th {\n",
       "        text-align: right;\n",
       "    }\n",
       "</style>\n",
       "<table border=\"1\" class=\"dataframe\">\n",
       "  <thead>\n",
       "    <tr style=\"text-align: right;\">\n",
       "      <th></th>\n",
       "      <th>pl_rade</th>\n",
       "      <th>pl_radeerr1</th>\n",
       "      <th>pl_radeerr2</th>\n",
       "      <th>pl_orbsmax</th>\n",
       "      <th>pl_bmasse</th>\n",
       "      <th>pl_masseerr1</th>\n",
       "      <th>pl_masseerr2</th>\n",
       "      <th>pl_orbper</th>\n",
       "      <th>sy_vmag</th>\n",
       "      <th>sy_plx</th>\n",
       "      <th>st_teff</th>\n",
       "      <th>st_mass</th>\n",
       "      <th>Teq</th>\n",
       "    </tr>\n",
       "  </thead>\n",
       "  <tbody>\n",
       "    <tr>\n",
       "      <th>526</th>\n",
       "      <td>21.196</td>\n",
       "      <td>0.684</td>\n",
       "      <td>-0.594</td>\n",
       "      <td>0.03462</td>\n",
       "      <td>915.35040</td>\n",
       "      <td>266.97720</td>\n",
       "      <td>-266.97720</td>\n",
       "      <td>1.481124e+00</td>\n",
       "      <td>7.55000</td>\n",
       "      <td>4.86254</td>\n",
       "      <td>10170.0</td>\n",
       "      <td>2.52</td>\n",
       "      <td>0.0</td>\n",
       "    </tr>\n",
       "    <tr>\n",
       "      <th>690</th>\n",
       "      <td>20.288</td>\n",
       "      <td>1.009</td>\n",
       "      <td>-1.009</td>\n",
       "      <td>0.05580</td>\n",
       "      <td>527.59780</td>\n",
       "      <td>38.13960</td>\n",
       "      <td>-38.13960</td>\n",
       "      <td>3.344829e+00</td>\n",
       "      <td>9.94600</td>\n",
       "      <td>2.31187</td>\n",
       "      <td>9360.0</td>\n",
       "      <td>2.07</td>\n",
       "      <td>0.0</td>\n",
       "    </tr>\n",
       "    <tr>\n",
       "      <th>696</th>\n",
       "      <td>18.147</td>\n",
       "      <td>0.235</td>\n",
       "      <td>-0.235</td>\n",
       "      <td>0.05053</td>\n",
       "      <td>632.47853</td>\n",
       "      <td>50.85255</td>\n",
       "      <td>-44.49598</td>\n",
       "      <td>2.724033e+00</td>\n",
       "      <td>6.59776</td>\n",
       "      <td>9.99903</td>\n",
       "      <td>8000.0</td>\n",
       "      <td>2.03</td>\n",
       "      <td>0.0</td>\n",
       "    </tr>\n",
       "    <tr>\n",
       "      <th>1058</th>\n",
       "      <td>12.442</td>\n",
       "      <td>0.336</td>\n",
       "      <td>-0.336</td>\n",
       "      <td>7506.00000</td>\n",
       "      <td>2002.31896</td>\n",
       "      <td>476.74261</td>\n",
       "      <td>-603.87397</td>\n",
       "      <td>4.020000e+08</td>\n",
       "      <td>11.29800</td>\n",
       "      <td>91.82910</td>\n",
       "      <td>3406.0</td>\n",
       "      <td>0.37</td>\n",
       "      <td>1.0</td>\n",
       "    </tr>\n",
       "  </tbody>\n",
       "</table>\n",
       "</div>"
      ],
      "text/plain": [
       "      pl_rade  pl_radeerr1  pl_radeerr2  pl_orbsmax   pl_bmasse  pl_masseerr1  \\\n",
       "526    21.196        0.684       -0.594     0.03462   915.35040     266.97720   \n",
       "690    20.288        1.009       -1.009     0.05580   527.59780      38.13960   \n",
       "696    18.147        0.235       -0.235     0.05053   632.47853      50.85255   \n",
       "1058   12.442        0.336       -0.336  7506.00000  2002.31896     476.74261   \n",
       "\n",
       "      pl_masseerr2     pl_orbper   sy_vmag    sy_plx  st_teff  st_mass  Teq  \n",
       "526     -266.97720  1.481124e+00   7.55000   4.86254  10170.0     2.52  0.0  \n",
       "690      -38.13960  3.344829e+00   9.94600   2.31187   9360.0     2.07  0.0  \n",
       "696      -44.49598  2.724033e+00   6.59776   9.99903   8000.0     2.03  0.0  \n",
       "1058    -603.87397  4.020000e+08  11.29800  91.82910   3406.0     0.37  1.0  "
      ]
     },
     "metadata": {},
     "output_type": "display_data"
    },
    {
     "name": "stdout",
     "output_type": "stream",
     "text": [
      "None\n"
     ]
    }
   ],
   "source": [
    "# very 'cool' planets\n",
    "print (display(nea_with_M_and_R_cleaned[nea_with_M_and_R_cleaned.Teq < 100]))\n",
    "\n",
    "#Some of the parameters used to calculate the Teq must be wrong. These objects should be removed\n",
    "\n",
    "nea_with_M_and_R_cleaned = nea_with_M_and_R_cleaned[nea_with_M_and_R_cleaned.Teq > 10]"
   ]
  },
  {
   "attachments": {},
   "cell_type": "markdown",
   "metadata": {},
   "source": [
    "### Selecting plaents with relatively high precision in Mass and Radius"
   ]
  },
  {
   "cell_type": "code",
   "execution_count": 63,
   "metadata": {},
   "outputs": [],
   "source": [
    "# calculating the mean errors of M and R\n",
    "nea_with_M_and_R_cleaned['pl_rade_err'] = (nea_with_M_and_R_cleaned['pl_radeerr1'] - nea_with_M_and_R_cleaned['pl_radeerr2'])/2\n",
    "nea_with_M_and_R_cleaned['pl_bmasse_err'] = (nea_with_M_and_R_cleaned['pl_masseerr1'] - nea_with_M_and_R_cleaned['pl_masseerr2'])/2"
   ]
  },
  {
   "cell_type": "code",
   "execution_count": 64,
   "metadata": {},
   "outputs": [
    {
     "name": "stdout",
     "output_type": "stream",
     "text": [
      "There are 835 precisely characterized planets in terms of Mass and Radius\n"
     ]
    }
   ],
   "source": [
    "M_threshold = 0.5\n",
    "R_threshold = 0.5\n",
    "precise_criteria = (nea_with_M_and_R_cleaned['pl_rade_err']/nea_with_M_and_R_cleaned['pl_rade'] < R_threshold) & (nea_with_M_and_R_cleaned['pl_bmasse_err']/nea_with_M_and_R_cleaned['pl_bmasse'] < M_threshold)\n",
    "nea_with_M_and_R_cleaned_accurate = nea_with_M_and_R_cleaned[precise_criteria]\n",
    "\n",
    "print (f'There are {len(nea_with_M_and_R_cleaned_accurate)} precisely characterized planets in terms of Mass and Radius')"
   ]
  },
  {
   "cell_type": "code",
   "execution_count": 65,
   "metadata": {},
   "outputs": [
    {
     "data": {
      "text/html": [
       "<div>\n",
       "<style scoped>\n",
       "    .dataframe tbody tr th:only-of-type {\n",
       "        vertical-align: middle;\n",
       "    }\n",
       "\n",
       "    .dataframe tbody tr th {\n",
       "        vertical-align: top;\n",
       "    }\n",
       "\n",
       "    .dataframe thead th {\n",
       "        text-align: right;\n",
       "    }\n",
       "</style>\n",
       "<table border=\"1\" class=\"dataframe\">\n",
       "  <thead>\n",
       "    <tr style=\"text-align: right;\">\n",
       "      <th></th>\n",
       "      <th>pl_rade</th>\n",
       "      <th>pl_bmasse</th>\n",
       "      <th>Teq</th>\n",
       "      <th>st_teff</th>\n",
       "      <th>pl_orbsmax</th>\n",
       "    </tr>\n",
       "  </thead>\n",
       "  <tbody>\n",
       "    <tr>\n",
       "      <th>0</th>\n",
       "      <td>14.011</td>\n",
       "      <td>197.04600</td>\n",
       "      <td>1194.0</td>\n",
       "      <td>5950.0</td>\n",
       "      <td>0.0434</td>\n",
       "    </tr>\n",
       "    <tr>\n",
       "      <th>4</th>\n",
       "      <td>16.870</td>\n",
       "      <td>271.74465</td>\n",
       "      <td>1744.0</td>\n",
       "      <td>5941.0</td>\n",
       "      <td>0.0535</td>\n",
       "    </tr>\n",
       "  </tbody>\n",
       "</table>\n",
       "</div>"
      ],
      "text/plain": [
       "   pl_rade  pl_bmasse     Teq  st_teff  pl_orbsmax\n",
       "0   14.011  197.04600  1194.0   5950.0      0.0434\n",
       "4   16.870  271.74465  1744.0   5941.0      0.0535"
      ]
     },
     "execution_count": 65,
     "metadata": {},
     "output_type": "execute_result"
    }
   ],
   "source": [
    "# Final table with Mass, Radius, and Teq\n",
    "nea_MR_final_table = nea_with_M_and_R_cleaned_accurate[['pl_rade', 'pl_bmasse', 'Teq', 'st_teff', 'pl_orbsmax']]\n",
    "nea_MR_final_table.head(2)"
   ]
  },
  {
   "attachments": {},
   "cell_type": "markdown",
   "metadata": {},
   "source": [
    "# Starting the Machine Learning part"
   ]
  },
  {
   "attachments": {},
   "cell_type": "markdown",
   "metadata": {},
   "source": [
    "Since the accuracy of Mass estimation is not critical, I'll make things simple (but still keeping the state-of-the-art): \n",
    "\n",
    "Use XGBoost regressor and tune HyperParameters with \"optuna\" (sometimes better than grid_search see e.g. [this](https://medium.com/mlearning-ai/hyper-parameter-tuning-through-grid-search-and-optuna-2bd89a2ece06)"
   ]
  },
  {
   "cell_type": "code",
   "execution_count": 66,
   "metadata": {},
   "outputs": [],
   "source": [
    "import matplotlib.pyplot as plt\n",
    "import seaborn as sns\n",
    "%matplotlib inline"
   ]
  },
  {
   "attachments": {},
   "cell_type": "markdown",
   "metadata": {},
   "source": [
    "### Displaying the data"
   ]
  },
  {
   "cell_type": "code",
   "execution_count": 67,
   "metadata": {},
   "outputs": [
    {
     "data": {
      "image/png": "[encoded data removed]",
      "text/plain": [
       "<Figure size 576x432 with 1 Axes>"
      ]
     },
     "metadata": {
      "needs_background": "light"
     },
     "output_type": "display_data"
    }
   ],
   "source": [
    "fig = plt.figure(1, figsize = (8,6))\n",
    "ax = plt.subplot(1,1,1)\n",
    "MR_plot(ax, nea_MR_final_table.pl_bmasse, nea_MR_final_table.pl_rade, color = nea_MR_final_table['Teq'])"
   ]
  },
  {
   "cell_type": "code",
   "execution_count": 68,
   "metadata": {},
   "outputs": [
    {
     "data": {
      "image/png": "[encoded data removed]",
      "text/plain": [
       "<Figure size 1008x432 with 5 Axes>"
      ]
     },
     "metadata": {
      "needs_background": "light"
     },
     "output_type": "display_data"
    }
   ],
   "source": [
    "fig = plt.figure(2, figsize = (14,6))\n",
    "ax = plt.gca()\n",
    "\n",
    "for i, col  in enumerate(nea_MR_final_table.columns):\n",
    "    ax = plt.subplot(1, 6, i+1)\n",
    "    ax.hist(np.log10(nea_MR_final_table[col]))\n",
    "    ax.set_xlabel(col, fontsize = 15)"
   ]
  },
  {
   "cell_type": "code",
   "execution_count": 69,
   "metadata": {},
   "outputs": [],
   "source": [
    "from sklearn.model_selection import train_test_split, cross_val_score, learning_curve, GridSearchCV\n",
    "from sklearn.metrics import mean_squared_error, mean_absolute_error\n",
    "\n",
    "from  xgboost import XGBRegressor\n",
    "from sklearn.ensemble import RandomForestRegressor"
   ]
  },
  {
   "cell_type": "code",
   "execution_count": 70,
   "metadata": {},
   "outputs": [
    {
     "name": "stdout",
     "output_type": "stream",
     "text": [
      "Sizes of the samples:\n",
      "Train = 626, Test = 209\n"
     ]
    }
   ],
   "source": [
    "y = nea_MR_final_table['pl_bmasse']\n",
    "X = nea_MR_final_table.drop(columns = ['pl_bmasse'])\n",
    "\n",
    "\n",
    "X_train, X_test, y_train, y_test = train_test_split(X, y, test_size=0.25)\n",
    "\n",
    "print (f'Sizes of the samples:\\nTrain = {len(X_train)}, Test = {len(X_test)}')"
   ]
  },
  {
   "cell_type": "code",
   "execution_count": 71,
   "metadata": {},
   "outputs": [
    {
     "name": "stdout",
     "output_type": "stream",
     "text": [
      "The base MAE score for the full data is 278\n"
     ]
    }
   ],
   "source": [
    "RFR_base_model = RandomForestRegressor(random_state =0)\n",
    "MAE_base = score_dataset(X_train, y_train, RFR_base_model)\n",
    "\n",
    "print (f'The base MAE score for the full data is {MAE_base:.0f}')"
   ]
  },
  {
   "cell_type": "code",
   "execution_count": 72,
   "metadata": {},
   "outputs": [
    {
     "name": "stderr",
     "output_type": "stream",
     "text": [
      "\u001b[32m[I 2023-07-11 16:55:39,271]\u001b[0m A new study created in memory with name: no-name-93c9a192-2fef-4ea9-804f-485a6384ffc4\u001b[0m\n"
     ]
    },
    {
     "name": "stderr",
     "output_type": "stream",
     "text": [
      "\u001b[32m[I 2023-07-11 16:55:40,785]\u001b[0m Trial 0 finished with value: 264.26864642020485 and parameters: {'n_estimators': 120, 'max_depth': 19, 'min_samples_split': 8, 'min_samples_leaf': 4, 'max_features': 4}. Best is trial 0 with value: 264.26864642020485.\u001b[0m\n",
      "\u001b[32m[I 2023-07-11 16:55:42,811]\u001b[0m Trial 1 finished with value: 261.636579973274 and parameters: {'n_estimators': 200, 'max_depth': 18, 'min_samples_split': 2, 'min_samples_leaf': 8, 'max_features': 3}. Best is trial 1 with value: 261.636579973274.\u001b[0m\n",
      "\u001b[32m[I 2023-07-11 16:55:43,746]\u001b[0m Trial 2 finished with value: 273.3405177610283 and parameters: {'n_estimators': 100, 'max_depth': 6, 'min_samples_split': 5, 'min_samples_leaf': 5, 'max_features': 2}. Best is trial 1 with value: 261.636579973274.\u001b[0m\n",
      "\u001b[32m[I 2023-07-11 16:55:44,481]\u001b[0m Trial 3 finished with value: 268.13042153895265 and parameters: {'n_estimators': 60, 'max_depth': 9, 'min_samples_split': 4, 'min_samples_leaf': 4, 'max_features': 4}. Best is trial 1 with value: 261.636579973274.\u001b[0m\n",
      "\u001b[32m[I 2023-07-11 16:55:46,381]\u001b[0m Trial 4 finished with value: 277.07141692159234 and parameters: {'n_estimators': 200, 'max_depth': 4, 'min_samples_split': 6, 'min_samples_leaf': 6, 'max_features': 3}. Best is trial 1 with value: 261.636579973274.\u001b[0m\n",
      "\u001b[32m[I 2023-07-11 16:55:47,605]\u001b[0m Trial 5 finished with value: 318.09653552172597 and parameters: {'n_estimators': 160, 'max_depth': 1, 'min_samples_split': 5, 'min_samples_leaf': 5, 'max_features': 4}. Best is trial 1 with value: 261.636579973274.\u001b[0m\n",
      "\u001b[32m[I 2023-07-11 16:55:48,301]\u001b[0m Trial 6 finished with value: 266.5837827244752 and parameters: {'n_estimators': 80, 'max_depth': 20, 'min_samples_split': 7, 'min_samples_leaf': 10, 'max_features': 2}. Best is trial 1 with value: 261.636579973274.\u001b[0m\n",
      "\u001b[32m[I 2023-07-11 16:55:48,698]\u001b[0m Trial 7 finished with value: 287.0757771300026 and parameters: {'n_estimators': 40, 'max_depth': 2, 'min_samples_split': 4, 'min_samples_leaf': 3, 'max_features': 4}. Best is trial 1 with value: 261.636579973274.\u001b[0m\n",
      "\u001b[32m[I 2023-07-11 16:55:50,437]\u001b[0m Trial 8 finished with value: 286.6926622762958 and parameters: {'n_estimators': 200, 'max_depth': 2, 'min_samples_split': 6, 'min_samples_leaf': 3, 'max_features': 4}. Best is trial 1 with value: 261.636579973274.\u001b[0m\n",
      "\u001b[32m[I 2023-07-11 16:55:50,785]\u001b[0m Trial 9 finished with value: 286.99668352183056 and parameters: {'n_estimators': 40, 'max_depth': 12, 'min_samples_split': 10, 'min_samples_leaf': 10, 'max_features': 1}. Best is trial 1 with value: 261.636579973274.\u001b[0m\n",
      "\u001b[32m[I 2023-07-11 16:55:52,166]\u001b[0m Trial 10 finished with value: 262.00545934807946 and parameters: {'n_estimators': 140, 'max_depth': 15, 'min_samples_split': 2, 'min_samples_leaf': 8, 'max_features': 3}. Best is trial 1 with value: 261.636579973274.\u001b[0m\n",
      "\u001b[32m[I 2023-07-11 16:55:53,645]\u001b[0m Trial 11 finished with value: 262.00545934807946 and parameters: {'n_estimators': 140, 'max_depth': 15, 'min_samples_split': 2, 'min_samples_leaf': 8, 'max_features': 3}. Best is trial 1 with value: 261.636579973274.\u001b[0m\n",
      "\u001b[32m[I 2023-07-11 16:55:55,395]\u001b[0m Trial 12 finished with value: 262.4710149721195 and parameters: {'n_estimators': 160, 'max_depth': 16, 'min_samples_split': 2, 'min_samples_leaf': 8, 'max_features': 3}. Best is trial 1 with value: 261.636579973274.\u001b[0m\n",
      "\u001b[32m[I 2023-07-11 16:55:57,225]\u001b[0m Trial 13 finished with value: 262.2186214286977 and parameters: {'n_estimators': 180, 'max_depth': 15, 'min_samples_split': 3, 'min_samples_leaf': 8, 'max_features': 3}. Best is trial 1 with value: 261.636579973274.\u001b[0m\n",
      "\u001b[32m[I 2023-07-11 16:55:58,370]\u001b[0m Trial 14 finished with value: 263.02864574700754 and parameters: {'n_estimators': 120, 'max_depth': 12, 'min_samples_split': 2, 'min_samples_leaf': 7, 'max_features': 2}. Best is trial 1 with value: 261.636579973274.\u001b[0m\n",
      "\u001b[32m[I 2023-07-11 16:55:59,649]\u001b[0m Trial 15 finished with value: 284.5251511563691 and parameters: {'n_estimators': 160, 'max_depth': 17, 'min_samples_split': 3, 'min_samples_leaf': 9, 'max_features': 1}. Best is trial 1 with value: 261.636579973274.\u001b[0m\n",
      "\u001b[32m[I 2023-07-11 16:56:02,371]\u001b[0m Trial 16 finished with value: 274.56134587195504 and parameters: {'n_estimators': 200, 'max_depth': 18, 'min_samples_split': 3, 'min_samples_leaf': 1, 'max_features': 3}. Best is trial 1 with value: 261.636579973274.\u001b[0m\n",
      "\u001b[32m[I 2023-07-11 16:56:03,681]\u001b[0m Trial 17 finished with value: 262.88577984477485 and parameters: {'n_estimators': 140, 'max_depth': 13, 'min_samples_split': 9, 'min_samples_leaf': 7, 'max_features': 2}. Best is trial 1 with value: 261.636579973274.\u001b[0m\n",
      "\u001b[32m[I 2023-07-11 16:56:04,792]\u001b[0m Trial 18 finished with value: 262.0055921894043 and parameters: {'n_estimators': 100, 'max_depth': 9, 'min_samples_split': 4, 'min_samples_leaf': 9, 'max_features': 3}. Best is trial 1 with value: 261.636579973274.\u001b[0m\n",
      "\u001b[32m[I 2023-07-11 16:56:06,502]\u001b[0m Trial 19 finished with value: 262.98453841211716 and parameters: {'n_estimators': 180, 'max_depth': 14, 'min_samples_split': 2, 'min_samples_leaf': 7, 'max_features': 2}. Best is trial 1 with value: 261.636579973274.\u001b[0m\n",
      "\u001b[32m[I 2023-07-11 16:56:08,023]\u001b[0m Trial 20 finished with value: 263.570678261381 and parameters: {'n_estimators': 140, 'max_depth': 10, 'min_samples_split': 5, 'min_samples_leaf': 6, 'max_features': 3}. Best is trial 1 with value: 261.636579973274.\u001b[0m\n",
      "\u001b[32m[I 2023-07-11 16:56:09,514]\u001b[0m Trial 21 finished with value: 262.00545934807946 and parameters: {'n_estimators': 140, 'max_depth': 16, 'min_samples_split': 2, 'min_samples_leaf': 8, 'max_features': 3}. Best is trial 1 with value: 261.636579973274.\u001b[0m\n",
      "\u001b[32m[I 2023-07-11 16:56:11,441]\u001b[0m Trial 22 finished with value: 261.3542436641739 and parameters: {'n_estimators': 180, 'max_depth': 18, 'min_samples_split': 3, 'min_samples_leaf': 9, 'max_features': 3}. Best is trial 22 with value: 261.3542436641739.\u001b[0m\n",
      "\u001b[32m[I 2023-07-11 16:56:13,271]\u001b[0m Trial 23 finished with value: 261.3542436641739 and parameters: {'n_estimators': 180, 'max_depth': 20, 'min_samples_split': 3, 'min_samples_leaf': 9, 'max_features': 3}. Best is trial 22 with value: 261.3542436641739.\u001b[0m\n",
      "\u001b[32m[I 2023-07-11 16:56:14,822]\u001b[0m Trial 24 finished with value: 266.1232846510622 and parameters: {'n_estimators': 180, 'max_depth': 20, 'min_samples_split': 3, 'min_samples_leaf': 10, 'max_features': 2}. Best is trial 22 with value: 261.3542436641739.\u001b[0m\n",
      "\u001b[32m[I 2023-07-11 16:56:16,650]\u001b[0m Trial 25 finished with value: 261.3542436641739 and parameters: {'n_estimators': 180, 'max_depth': 18, 'min_samples_split': 4, 'min_samples_leaf': 9, 'max_features': 3}. Best is trial 22 with value: 261.3542436641739.\u001b[0m\n",
      "\u001b[32m[I 2023-07-11 16:56:18,621]\u001b[0m Trial 26 finished with value: 258.8048540267336 and parameters: {'n_estimators': 180, 'max_depth': 18, 'min_samples_split': 4, 'min_samples_leaf': 9, 'max_features': 4}. Best is trial 26 with value: 258.8048540267336.\u001b[0m\n",
      "\u001b[32m[I 2023-07-11 16:56:20,332]\u001b[0m Trial 27 finished with value: 258.99038946875834 and parameters: {'n_estimators': 160, 'max_depth': 20, 'min_samples_split': 5, 'min_samples_leaf': 9, 'max_features': 4}. Best is trial 26 with value: 258.8048540267336.\u001b[0m\n",
      "\u001b[32m[I 2023-07-11 16:56:21,985]\u001b[0m Trial 28 finished with value: 258.0873781233074 and parameters: {'n_estimators': 160, 'max_depth': 17, 'min_samples_split': 7, 'min_samples_leaf': 10, 'max_features': 4}. Best is trial 28 with value: 258.0873781233074.\u001b[0m\n",
      "\u001b[32m[I 2023-07-11 16:56:23,510]\u001b[0m Trial 29 finished with value: 258.0873781233074 and parameters: {'n_estimators': 160, 'max_depth': 19, 'min_samples_split': 7, 'min_samples_leaf': 10, 'max_features': 4}. Best is trial 28 with value: 258.0873781233074.\u001b[0m\n",
      "\u001b[32m[I 2023-07-11 16:56:24,822]\u001b[0m Trial 30 finished with value: 257.5728030209282 and parameters: {'n_estimators': 120, 'max_depth': 17, 'min_samples_split': 8, 'min_samples_leaf': 10, 'max_features': 4}. Best is trial 30 with value: 257.5728030209282.\u001b[0m\n",
      "\u001b[32m[I 2023-07-11 16:56:25,808]\u001b[0m Trial 31 finished with value: 257.63915377934075 and parameters: {'n_estimators': 100, 'max_depth': 17, 'min_samples_split': 8, 'min_samples_leaf': 10, 'max_features': 4}. Best is trial 30 with value: 257.5728030209282.\u001b[0m\n",
      "\u001b[32m[I 2023-07-11 16:56:27,052]\u001b[0m Trial 32 finished with value: 257.5728030209282 and parameters: {'n_estimators': 120, 'max_depth': 17, 'min_samples_split': 8, 'min_samples_leaf': 10, 'max_features': 4}. Best is trial 30 with value: 257.5728030209282.\u001b[0m\n",
      "\u001b[32m[I 2023-07-11 16:56:28,378]\u001b[0m Trial 33 finished with value: 257.5728030209282 and parameters: {'n_estimators': 120, 'max_depth': 16, 'min_samples_split': 8, 'min_samples_leaf': 10, 'max_features': 4}. Best is trial 30 with value: 257.5728030209282.\u001b[0m\n",
      "\u001b[32m[I 2023-07-11 16:56:29,549]\u001b[0m Trial 34 finished with value: 257.63915377934075 and parameters: {'n_estimators': 100, 'max_depth': 13, 'min_samples_split': 8, 'min_samples_leaf': 10, 'max_features': 4}. Best is trial 30 with value: 257.5728030209282.\u001b[0m\n",
      "\u001b[32m[I 2023-07-11 16:56:30,923]\u001b[0m Trial 35 finished with value: 257.5728030209282 and parameters: {'n_estimators': 120, 'max_depth': 13, 'min_samples_split': 8, 'min_samples_leaf': 10, 'max_features': 4}. Best is trial 30 with value: 257.5728030209282.\u001b[0m\n",
      "\u001b[32m[I 2023-07-11 16:56:32,331]\u001b[0m Trial 36 finished with value: 257.5728030209282 and parameters: {'n_estimators': 120, 'max_depth': 11, 'min_samples_split': 9, 'min_samples_leaf': 10, 'max_features': 4}. Best is trial 30 with value: 257.5728030209282.\u001b[0m\n",
      "\u001b[32m[I 2023-07-11 16:56:33,195]\u001b[0m Trial 37 finished with value: 259.5823135001614 and parameters: {'n_estimators': 80, 'max_depth': 7, 'min_samples_split': 9, 'min_samples_leaf': 9, 'max_features': 4}. Best is trial 30 with value: 257.5728030209282.\u001b[0m\n",
      "\u001b[32m[I 2023-07-11 16:56:34,047]\u001b[0m Trial 38 finished with value: 258.65995726355226 and parameters: {'n_estimators': 80, 'max_depth': 11, 'min_samples_split': 9, 'min_samples_leaf': 10, 'max_features': 4}. Best is trial 30 with value: 257.5728030209282.\u001b[0m\n",
      "\u001b[32m[I 2023-07-11 16:56:35,330]\u001b[0m Trial 39 finished with value: 278.6933453879611 and parameters: {'n_estimators': 120, 'max_depth': 6, 'min_samples_split': 10, 'min_samples_leaf': 1, 'max_features': 4}. Best is trial 30 with value: 257.5728030209282.\u001b[0m\n",
      "\u001b[32m[I 2023-07-11 16:56:35,995]\u001b[0m Trial 40 finished with value: 267.78383206646527 and parameters: {'n_estimators': 60, 'max_depth': 8, 'min_samples_split': 9, 'min_samples_leaf': 3, 'max_features': 4}. Best is trial 30 with value: 257.5728030209282.\u001b[0m\n",
      "\u001b[32m[I 2023-07-11 16:56:37,226]\u001b[0m Trial 41 finished with value: 257.5728030209282 and parameters: {'n_estimators': 120, 'max_depth': 14, 'min_samples_split': 8, 'min_samples_leaf': 10, 'max_features': 4}. Best is trial 30 with value: 257.5728030209282.\u001b[0m\n",
      "\u001b[32m[I 2023-07-11 16:56:38,477]\u001b[0m Trial 42 finished with value: 257.5728030209282 and parameters: {'n_estimators': 120, 'max_depth': 13, 'min_samples_split': 7, 'min_samples_leaf': 10, 'max_features': 4}. Best is trial 30 with value: 257.5728030209282.\u001b[0m\n",
      "\u001b[32m[I 2023-07-11 16:56:39,700]\u001b[0m Trial 43 finished with value: 258.30436620296143 and parameters: {'n_estimators': 120, 'max_depth': 14, 'min_samples_split': 7, 'min_samples_leaf': 9, 'max_features': 4}. Best is trial 30 with value: 257.5728030209282.\u001b[0m\n",
      "\u001b[32m[I 2023-07-11 16:56:40,703]\u001b[0m Trial 44 finished with value: 257.63915377934075 and parameters: {'n_estimators': 100, 'max_depth': 11, 'min_samples_split': 8, 'min_samples_leaf': 10, 'max_features': 4}. Best is trial 30 with value: 257.5728030209282.\u001b[0m\n",
      "\u001b[32m[I 2023-07-11 16:56:41,912]\u001b[0m Trial 45 finished with value: 257.5728030209282 and parameters: {'n_estimators': 120, 'max_depth': 14, 'min_samples_split': 7, 'min_samples_leaf': 10, 'max_features': 4}. Best is trial 30 with value: 257.5728030209282.\u001b[0m\n",
      "\u001b[32m[I 2023-07-11 16:56:43,307]\u001b[0m Trial 46 finished with value: 259.3954719475635 and parameters: {'n_estimators': 140, 'max_depth': 12, 'min_samples_split': 10, 'min_samples_leaf': 8, 'max_features': 4}. Best is trial 30 with value: 257.5728030209282.\u001b[0m\n",
      "\u001b[32m[I 2023-07-11 16:56:44,149]\u001b[0m Trial 47 finished with value: 264.8375164273641 and parameters: {'n_estimators': 80, 'max_depth': 16, 'min_samples_split': 6, 'min_samples_leaf': 4, 'max_features': 4}. Best is trial 30 with value: 257.5728030209282.\u001b[0m\n",
      "\u001b[32m[I 2023-07-11 16:56:45,086]\u001b[0m Trial 48 finished with value: 258.11769189563006 and parameters: {'n_estimators': 100, 'max_depth': 15, 'min_samples_split': 7, 'min_samples_leaf': 9, 'max_features': 4}. Best is trial 30 with value: 257.5728030209282.\u001b[0m\n",
      "\u001b[32m[I 2023-07-11 16:56:45,941]\u001b[0m Trial 49 finished with value: 278.4571758306041 and parameters: {'n_estimators': 120, 'max_depth': 10, 'min_samples_split': 9, 'min_samples_leaf': 5, 'max_features': 1}. Best is trial 30 with value: 257.5728030209282.\u001b[0m\n",
      "\u001b[32m[I 2023-07-11 16:56:47,557]\u001b[0m Trial 50 finished with value: 271.76651675336353 and parameters: {'n_estimators': 140, 'max_depth': 13, 'min_samples_split': 6, 'min_samples_leaf': 2, 'max_features': 4}. Best is trial 30 with value: 257.5728030209282.\u001b[0m\n",
      "\u001b[32m[I 2023-07-11 16:56:48,755]\u001b[0m Trial 51 finished with value: 257.5728030209282 and parameters: {'n_estimators': 120, 'max_depth': 12, 'min_samples_split': 8, 'min_samples_leaf': 10, 'max_features': 4}. Best is trial 30 with value: 257.5728030209282.\u001b[0m\n",
      "\u001b[32m[I 2023-07-11 16:56:49,708]\u001b[0m Trial 52 finished with value: 257.63915377934075 and parameters: {'n_estimators': 100, 'max_depth': 16, 'min_samples_split': 8, 'min_samples_leaf': 10, 'max_features': 4}. Best is trial 30 with value: 257.5728030209282.\u001b[0m\n",
      "\u001b[32m[I 2023-07-11 16:56:50,874]\u001b[0m Trial 53 finished with value: 257.5728030209282 and parameters: {'n_estimators': 120, 'max_depth': 14, 'min_samples_split': 8, 'min_samples_leaf': 10, 'max_features': 4}. Best is trial 30 with value: 257.5728030209282.\u001b[0m\n",
      "\u001b[32m[I 2023-07-11 16:56:52,243]\u001b[0m Trial 54 finished with value: 258.53799230641516 and parameters: {'n_estimators': 140, 'max_depth': 15, 'min_samples_split': 8, 'min_samples_leaf': 9, 'max_features': 4}. Best is trial 30 with value: 257.5728030209282.\u001b[0m\n",
      "\u001b[32m[I 2023-07-11 16:56:53,513]\u001b[0m Trial 55 finished with value: 260.2628231802136 and parameters: {'n_estimators': 120, 'max_depth': 17, 'min_samples_split': 9, 'min_samples_leaf': 7, 'max_features': 4}. Best is trial 30 with value: 257.5728030209282.\u001b[0m\n",
      "\u001b[32m[I 2023-07-11 16:56:54,531]\u001b[0m Trial 56 finished with value: 259.44061758747495 and parameters: {'n_estimators': 100, 'max_depth': 13, 'min_samples_split': 7, 'min_samples_leaf': 8, 'max_features': 4}. Best is trial 30 with value: 257.5728030209282.\u001b[0m\n",
      "\u001b[32m[I 2023-07-11 16:56:55,986]\u001b[0m Trial 57 finished with value: 261.47502803942973 and parameters: {'n_estimators': 140, 'max_depth': 14, 'min_samples_split': 8, 'min_samples_leaf': 9, 'max_features': 3}. Best is trial 30 with value: 257.5728030209282.\u001b[0m\n",
      "\u001b[32m[I 2023-07-11 16:56:57,325]\u001b[0m Trial 58 finished with value: 257.5728030209282 and parameters: {'n_estimators': 120, 'max_depth': 12, 'min_samples_split': 7, 'min_samples_leaf': 10, 'max_features': 4}. Best is trial 30 with value: 257.5728030209282.\u001b[0m\n",
      "\u001b[32m[I 2023-07-11 16:56:57,585]\u001b[0m Trial 59 finished with value: 263.1597976924206 and parameters: {'n_estimators': 20, 'max_depth': 12, 'min_samples_split': 6, 'min_samples_leaf': 9, 'max_features': 4}. Best is trial 30 with value: 257.5728030209282.\u001b[0m\n",
      "\u001b[32m[I 2023-07-11 16:56:58,712]\u001b[0m Trial 60 finished with value: 264.0623066047489 and parameters: {'n_estimators': 100, 'max_depth': 9, 'min_samples_split': 10, 'min_samples_leaf': 6, 'max_features': 3}. Best is trial 30 with value: 257.5728030209282.\u001b[0m\n",
      "\u001b[32m[I 2023-07-11 16:57:00,249]\u001b[0m Trial 61 finished with value: 257.5728030209282 and parameters: {'n_estimators': 120, 'max_depth': 16, 'min_samples_split': 8, 'min_samples_leaf': 10, 'max_features': 4}. Best is trial 30 with value: 257.5728030209282.\u001b[0m\n",
      "\u001b[32m[I 2023-07-11 16:57:01,893]\u001b[0m Trial 62 finished with value: 257.48533613385376 and parameters: {'n_estimators': 140, 'max_depth': 14, 'min_samples_split': 7, 'min_samples_leaf': 10, 'max_features': 4}. Best is trial 62 with value: 257.48533613385376.\u001b[0m\n",
      "\u001b[32m[I 2023-07-11 16:57:03,483]\u001b[0m Trial 63 finished with value: 257.48533613385376 and parameters: {'n_estimators': 140, 'max_depth': 14, 'min_samples_split': 7, 'min_samples_leaf': 10, 'max_features': 4}. Best is trial 62 with value: 257.48533613385376.\u001b[0m\n",
      "\u001b[32m[I 2023-07-11 16:57:05,457]\u001b[0m Trial 64 finished with value: 258.53799230641516 and parameters: {'n_estimators': 140, 'max_depth': 11, 'min_samples_split': 9, 'min_samples_leaf': 9, 'max_features': 4}. Best is trial 62 with value: 257.48533613385376.\u001b[0m\n",
      "\u001b[32m[I 2023-07-11 16:57:07,956]\u001b[0m Trial 65 finished with value: 257.4876568208555 and parameters: {'n_estimators': 140, 'max_depth': 10, 'min_samples_split': 7, 'min_samples_leaf': 10, 'max_features': 4}. Best is trial 62 with value: 257.48533613385376.\u001b[0m\n",
      "\u001b[32m[I 2023-07-11 16:57:09,882]\u001b[0m Trial 66 finished with value: 260.12757865386254 and parameters: {'n_estimators': 160, 'max_depth': 10, 'min_samples_split': 6, 'min_samples_leaf': 8, 'max_features': 4}. Best is trial 62 with value: 257.48533613385376.\u001b[0m\n",
      "\u001b[32m[I 2023-07-11 16:57:11,190]\u001b[0m Trial 67 finished with value: 270.5548656259104 and parameters: {'n_estimators': 140, 'max_depth': 4, 'min_samples_split': 7, 'min_samples_leaf': 10, 'max_features': 4}. Best is trial 62 with value: 257.48533613385376.\u001b[0m\n",
      "\u001b[32m[I 2023-07-11 16:57:12,423]\u001b[0m Trial 68 finished with value: 261.47502803942973 and parameters: {'n_estimators': 140, 'max_depth': 14, 'min_samples_split': 7, 'min_samples_leaf': 9, 'max_features': 3}. Best is trial 62 with value: 257.48533613385376.\u001b[0m\n",
      "\u001b[32m[I 2023-07-11 16:57:14,225]\u001b[0m Trial 69 finished with value: 258.0873781233074 and parameters: {'n_estimators': 160, 'max_depth': 19, 'min_samples_split': 9, 'min_samples_leaf': 10, 'max_features': 4}. Best is trial 62 with value: 257.48533613385376.\u001b[0m\n",
      "\u001b[32m[I 2023-07-11 16:57:15,889]\u001b[0m Trial 70 finished with value: 259.05798403294847 and parameters: {'n_estimators': 160, 'max_depth': 9, 'min_samples_split': 6, 'min_samples_leaf': 9, 'max_features': 4}. Best is trial 62 with value: 257.48533613385376.\u001b[0m\n",
      "\u001b[32m[I 2023-07-11 16:57:17,457]\u001b[0m Trial 71 finished with value: 257.48533613385376 and parameters: {'n_estimators': 140, 'max_depth': 15, 'min_samples_split': 7, 'min_samples_leaf': 10, 'max_features': 4}. Best is trial 62 with value: 257.48533613385376.\u001b[0m\n",
      "\u001b[32m[I 2023-07-11 16:57:19,049]\u001b[0m Trial 72 finished with value: 257.48533613385376 and parameters: {'n_estimators': 140, 'max_depth': 12, 'min_samples_split': 7, 'min_samples_leaf': 10, 'max_features': 4}. Best is trial 62 with value: 257.48533613385376.\u001b[0m\n",
      "\u001b[32m[I 2023-07-11 16:57:20,499]\u001b[0m Trial 73 finished with value: 257.48533613385376 and parameters: {'n_estimators': 140, 'max_depth': 15, 'min_samples_split': 7, 'min_samples_leaf': 10, 'max_features': 4}. Best is trial 62 with value: 257.48533613385376.\u001b[0m\n",
      "\u001b[32m[I 2023-07-11 16:57:22,047]\u001b[0m Trial 74 finished with value: 257.48533613385376 and parameters: {'n_estimators': 140, 'max_depth': 15, 'min_samples_split': 6, 'min_samples_leaf': 10, 'max_features': 4}. Best is trial 62 with value: 257.48533613385376.\u001b[0m\n",
      "\u001b[32m[I 2023-07-11 16:57:23,732]\u001b[0m Trial 75 finished with value: 258.53799230641516 and parameters: {'n_estimators': 140, 'max_depth': 15, 'min_samples_split': 6, 'min_samples_leaf': 9, 'max_features': 4}. Best is trial 62 with value: 257.48533613385376.\u001b[0m\n",
      "\u001b[32m[I 2023-07-11 16:57:25,120]\u001b[0m Trial 76 finished with value: 266.35499785545505 and parameters: {'n_estimators': 160, 'max_depth': 15, 'min_samples_split': 5, 'min_samples_leaf': 10, 'max_features': 2}. Best is trial 62 with value: 257.48533613385376.\u001b[0m\n",
      "\u001b[32m[I 2023-07-11 16:57:26,687]\u001b[0m Trial 77 finished with value: 257.48533613385376 and parameters: {'n_estimators': 140, 'max_depth': 16, 'min_samples_split': 6, 'min_samples_leaf': 10, 'max_features': 4}. Best is trial 62 with value: 257.48533613385376.\u001b[0m\n",
      "\u001b[32m[I 2023-07-11 16:57:28,259]\u001b[0m Trial 78 finished with value: 258.53799230641516 and parameters: {'n_estimators': 140, 'max_depth': 16, 'min_samples_split': 6, 'min_samples_leaf': 9, 'max_features': 4}. Best is trial 62 with value: 257.48533613385376.\u001b[0m\n",
      "\u001b[32m[I 2023-07-11 16:57:30,102]\u001b[0m Trial 79 finished with value: 258.0873781233074 and parameters: {'n_estimators': 160, 'max_depth': 15, 'min_samples_split': 7, 'min_samples_leaf': 10, 'max_features': 4}. Best is trial 62 with value: 257.48533613385376.\u001b[0m\n",
      "\u001b[32m[I 2023-07-11 16:57:31,876]\u001b[0m Trial 80 finished with value: 258.0873781233074 and parameters: {'n_estimators': 160, 'max_depth': 15, 'min_samples_split': 5, 'min_samples_leaf': 10, 'max_features': 4}. Best is trial 62 with value: 257.48533613385376.\u001b[0m\n",
      "\u001b[32m[I 2023-07-11 16:57:33,447]\u001b[0m Trial 81 finished with value: 257.48533613385376 and parameters: {'n_estimators': 140, 'max_depth': 13, 'min_samples_split': 6, 'min_samples_leaf': 10, 'max_features': 4}. Best is trial 62 with value: 257.48533613385376.\u001b[0m\n",
      "\u001b[32m[I 2023-07-11 16:57:35,010]\u001b[0m Trial 82 finished with value: 257.48533613385376 and parameters: {'n_estimators': 140, 'max_depth': 13, 'min_samples_split': 5, 'min_samples_leaf': 10, 'max_features': 4}. Best is trial 62 with value: 257.48533613385376.\u001b[0m\n",
      "\u001b[32m[I 2023-07-11 16:57:36,509]\u001b[0m Trial 83 finished with value: 257.48533613385376 and parameters: {'n_estimators': 140, 'max_depth': 13, 'min_samples_split': 5, 'min_samples_leaf': 10, 'max_features': 4}. Best is trial 62 with value: 257.48533613385376.\u001b[0m\n",
      "\u001b[32m[I 2023-07-11 16:57:37,986]\u001b[0m Trial 84 finished with value: 258.53799230641516 and parameters: {'n_estimators': 140, 'max_depth': 14, 'min_samples_split': 6, 'min_samples_leaf': 9, 'max_features': 4}. Best is trial 62 with value: 257.48533613385376.\u001b[0m\n",
      "\u001b[32m[I 2023-07-11 16:57:39,657]\u001b[0m Trial 85 finished with value: 258.0873781233074 and parameters: {'n_estimators': 160, 'max_depth': 13, 'min_samples_split': 5, 'min_samples_leaf': 10, 'max_features': 4}. Best is trial 62 with value: 257.48533613385376.\u001b[0m\n",
      "\u001b[32m[I 2023-07-11 16:57:41,040]\u001b[0m Trial 86 finished with value: 257.48533613385376 and parameters: {'n_estimators': 140, 'max_depth': 14, 'min_samples_split': 6, 'min_samples_leaf': 10, 'max_features': 4}. Best is trial 62 with value: 257.48533613385376.\u001b[0m\n",
      "\u001b[32m[I 2023-07-11 16:57:42,492]\u001b[0m Trial 87 finished with value: 258.53799230641516 and parameters: {'n_estimators': 140, 'max_depth': 14, 'min_samples_split': 6, 'min_samples_leaf': 9, 'max_features': 4}. Best is trial 62 with value: 257.48533613385376.\u001b[0m\n",
      "\u001b[32m[I 2023-07-11 16:57:44,313]\u001b[0m Trial 88 finished with value: 263.9591944742306 and parameters: {'n_estimators': 160, 'max_depth': 13, 'min_samples_split': 5, 'min_samples_leaf': 4, 'max_features': 4}. Best is trial 62 with value: 257.48533613385376.\u001b[0m\n",
      "\u001b[32m[I 2023-07-11 16:57:45,690]\u001b[0m Trial 89 finished with value: 257.48533613385376 and parameters: {'n_estimators': 140, 'max_depth': 12, 'min_samples_split': 7, 'min_samples_leaf': 10, 'max_features': 4}. Best is trial 62 with value: 257.48533613385376.\u001b[0m\n",
      "\u001b[32m[I 2023-07-11 16:57:47,115]\u001b[0m Trial 90 finished with value: 260.2476972175591 and parameters: {'n_estimators': 160, 'max_depth': 12, 'min_samples_split': 7, 'min_samples_leaf': 10, 'max_features': 3}. Best is trial 62 with value: 257.48533613385376.\u001b[0m\n",
      "\u001b[32m[I 2023-07-11 16:57:48,511]\u001b[0m Trial 91 finished with value: 257.48533613385376 and parameters: {'n_estimators': 140, 'max_depth': 12, 'min_samples_split': 7, 'min_samples_leaf': 10, 'max_features': 4}. Best is trial 62 with value: 257.48533613385376.\u001b[0m\n",
      "\u001b[32m[I 2023-07-11 16:57:49,838]\u001b[0m Trial 92 finished with value: 257.48533613385376 and parameters: {'n_estimators': 140, 'max_depth': 13, 'min_samples_split': 4, 'min_samples_leaf': 10, 'max_features': 4}. Best is trial 62 with value: 257.48533613385376.\u001b[0m\n",
      "\u001b[32m[I 2023-07-11 16:57:51,220]\u001b[0m Trial 93 finished with value: 257.48533613385376 and parameters: {'n_estimators': 140, 'max_depth': 16, 'min_samples_split': 4, 'min_samples_leaf': 10, 'max_features': 4}. Best is trial 62 with value: 257.48533613385376.\u001b[0m\n",
      "\u001b[32m[I 2023-07-11 16:57:52,623]\u001b[0m Trial 94 finished with value: 258.53799230641516 and parameters: {'n_estimators': 140, 'max_depth': 16, 'min_samples_split': 4, 'min_samples_leaf': 9, 'max_features': 4}. Best is trial 62 with value: 257.48533613385376.\u001b[0m\n",
      "\u001b[32m[I 2023-07-11 16:57:53,946]\u001b[0m Trial 95 finished with value: 257.48533613385376 and parameters: {'n_estimators': 140, 'max_depth': 12, 'min_samples_split': 4, 'min_samples_leaf': 10, 'max_features': 4}. Best is trial 62 with value: 257.48533613385376.\u001b[0m\n",
      "\u001b[32m[I 2023-07-11 16:57:55,455]\u001b[0m Trial 96 finished with value: 258.0873781233074 and parameters: {'n_estimators': 160, 'max_depth': 11, 'min_samples_split': 5, 'min_samples_leaf': 10, 'max_features': 4}. Best is trial 62 with value: 257.48533613385376.\u001b[0m\n",
      "\u001b[32m[I 2023-07-11 16:57:56,495]\u001b[0m Trial 97 finished with value: 284.7615011107124 and parameters: {'n_estimators': 140, 'max_depth': 15, 'min_samples_split': 6, 'min_samples_leaf': 9, 'max_features': 1}. Best is trial 62 with value: 257.48533613385376.\u001b[0m\n",
      "\u001b[32m[I 2023-07-11 16:57:58,064]\u001b[0m Trial 98 finished with value: 258.0873781233074 and parameters: {'n_estimators': 160, 'max_depth': 14, 'min_samples_split': 5, 'min_samples_leaf': 10, 'max_features': 4}. Best is trial 62 with value: 257.48533613385376.\u001b[0m\n",
      "\u001b[32m[I 2023-07-11 16:57:59,526]\u001b[0m Trial 99 finished with value: 258.53799230641516 and parameters: {'n_estimators': 140, 'max_depth': 13, 'min_samples_split': 7, 'min_samples_leaf': 9, 'max_features': 4}. Best is trial 62 with value: 257.48533613385376.\u001b[0m\n",
      "\u001b[32m[I 2023-07-11 16:58:00,708]\u001b[0m Trial 100 finished with value: 257.5728030209282 and parameters: {'n_estimators': 120, 'max_depth': 12, 'min_samples_split': 7, 'min_samples_leaf': 10, 'max_features': 4}. Best is trial 62 with value: 257.48533613385376.\u001b[0m\n",
      "\u001b[32m[I 2023-07-11 16:58:02,105]\u001b[0m Trial 101 finished with value: 257.48533613385376 and parameters: {'n_estimators': 140, 'max_depth': 12, 'min_samples_split': 7, 'min_samples_leaf': 10, 'max_features': 4}. Best is trial 62 with value: 257.48533613385376.\u001b[0m\n",
      "\u001b[32m[I 2023-07-11 16:58:03,475]\u001b[0m Trial 102 finished with value: 257.48533613385376 and parameters: {'n_estimators': 140, 'max_depth': 15, 'min_samples_split': 7, 'min_samples_leaf': 10, 'max_features': 4}. Best is trial 62 with value: 257.48533613385376.\u001b[0m\n",
      "\u001b[32m[I 2023-07-11 16:58:04,905]\u001b[0m Trial 103 finished with value: 257.48533613385376 and parameters: {'n_estimators': 140, 'max_depth': 15, 'min_samples_split': 6, 'min_samples_leaf': 10, 'max_features': 4}. Best is trial 62 with value: 257.48533613385376.\u001b[0m\n",
      "\u001b[32m[I 2023-07-11 16:58:06,286]\u001b[0m Trial 104 finished with value: 257.48533613385376 and parameters: {'n_estimators': 140, 'max_depth': 17, 'min_samples_split': 6, 'min_samples_leaf': 10, 'max_features': 4}. Best is trial 62 with value: 257.48533613385376.\u001b[0m\n",
      "\u001b[32m[I 2023-07-11 16:58:07,777]\u001b[0m Trial 105 finished with value: 261.9033007367406 and parameters: {'n_estimators': 140, 'max_depth': 17, 'min_samples_split': 6, 'min_samples_leaf': 5, 'max_features': 4}. Best is trial 62 with value: 257.48533613385376.\u001b[0m\n",
      "\u001b[32m[I 2023-07-11 16:58:08,838]\u001b[0m Trial 106 finished with value: 265.72826910550657 and parameters: {'n_estimators': 120, 'max_depth': 16, 'min_samples_split': 4, 'min_samples_leaf': 10, 'max_features': 2}. Best is trial 62 with value: 257.48533613385376.\u001b[0m\n",
      "\u001b[32m[I 2023-07-11 16:58:10,253]\u001b[0m Trial 107 finished with value: 258.53799230641516 and parameters: {'n_estimators': 140, 'max_depth': 11, 'min_samples_split': 3, 'min_samples_leaf': 9, 'max_features': 4}. Best is trial 62 with value: 257.48533613385376.\u001b[0m\n",
      "\u001b[32m[I 2023-07-11 16:58:11,867]\u001b[0m Trial 108 finished with value: 258.0873781233074 and parameters: {'n_estimators': 160, 'max_depth': 13, 'min_samples_split': 5, 'min_samples_leaf': 10, 'max_features': 4}. Best is trial 62 with value: 257.48533613385376.\u001b[0m\n",
      "\u001b[32m[I 2023-07-11 16:58:13,054]\u001b[0m Trial 109 finished with value: 257.5728030209282 and parameters: {'n_estimators': 120, 'max_depth': 13, 'min_samples_split': 6, 'min_samples_leaf': 10, 'max_features': 4}. Best is trial 62 with value: 257.48533613385376.\u001b[0m\n",
      "\u001b[32m[I 2023-07-11 16:58:14,400]\u001b[0m Trial 110 finished with value: 258.53799230641516 and parameters: {'n_estimators': 140, 'max_depth': 12, 'min_samples_split': 4, 'min_samples_leaf': 9, 'max_features': 4}. Best is trial 62 with value: 257.48533613385376.\u001b[0m\n",
      "\u001b[32m[I 2023-07-11 16:58:15,740]\u001b[0m Trial 111 finished with value: 257.48533613385376 and parameters: {'n_estimators': 140, 'max_depth': 12, 'min_samples_split': 3, 'min_samples_leaf': 10, 'max_features': 4}. Best is trial 62 with value: 257.48533613385376.\u001b[0m\n",
      "\u001b[32m[I 2023-07-11 16:58:17,042]\u001b[0m Trial 112 finished with value: 257.48533613385376 and parameters: {'n_estimators': 140, 'max_depth': 13, 'min_samples_split': 3, 'min_samples_leaf': 10, 'max_features': 4}. Best is trial 62 with value: 257.48533613385376.\u001b[0m\n",
      "\u001b[32m[I 2023-07-11 16:58:18,468]\u001b[0m Trial 113 finished with value: 257.48533613385376 and parameters: {'n_estimators': 140, 'max_depth': 13, 'min_samples_split': 3, 'min_samples_leaf': 10, 'max_features': 4}. Best is trial 62 with value: 257.48533613385376.\u001b[0m\n",
      "\u001b[32m[I 2023-07-11 16:58:20,064]\u001b[0m Trial 114 finished with value: 258.0873781233074 and parameters: {'n_estimators': 160, 'max_depth': 13, 'min_samples_split': 3, 'min_samples_leaf': 10, 'max_features': 4}. Best is trial 62 with value: 257.48533613385376.\u001b[0m\n",
      "\u001b[32m[I 2023-07-11 16:58:21,427]\u001b[0m Trial 115 finished with value: 257.48533613385376 and parameters: {'n_estimators': 140, 'max_depth': 11, 'min_samples_split': 4, 'min_samples_leaf': 10, 'max_features': 4}. Best is trial 62 with value: 257.48533613385376.\u001b[0m\n",
      "\u001b[32m[I 2023-07-11 16:58:22,623]\u001b[0m Trial 116 finished with value: 257.5728030209282 and parameters: {'n_estimators': 120, 'max_depth': 14, 'min_samples_split': 7, 'min_samples_leaf': 10, 'max_features': 4}. Best is trial 62 with value: 257.48533613385376.\u001b[0m\n",
      "\u001b[32m[I 2023-07-11 16:58:24,291]\u001b[0m Trial 117 finished with value: 258.99038946875834 and parameters: {'n_estimators': 160, 'max_depth': 14, 'min_samples_split': 6, 'min_samples_leaf': 9, 'max_features': 4}. Best is trial 62 with value: 257.48533613385376.\u001b[0m\n",
      "\u001b[32m[I 2023-07-11 16:58:25,710]\u001b[0m Trial 118 finished with value: 257.48533613385376 and parameters: {'n_estimators': 140, 'max_depth': 16, 'min_samples_split': 4, 'min_samples_leaf': 10, 'max_features': 4}. Best is trial 62 with value: 257.48533613385376.\u001b[0m\n",
      "\u001b[32m[I 2023-07-11 16:58:27,118]\u001b[0m Trial 119 finished with value: 257.48533613385376 and parameters: {'n_estimators': 140, 'max_depth': 15, 'min_samples_split': 7, 'min_samples_leaf': 10, 'max_features': 4}. Best is trial 62 with value: 257.48533613385376.\u001b[0m\n",
      "\u001b[32m[I 2023-07-11 16:58:28,382]\u001b[0m Trial 120 finished with value: 257.5728030209282 and parameters: {'n_estimators': 120, 'max_depth': 18, 'min_samples_split': 7, 'min_samples_leaf': 10, 'max_features': 4}. Best is trial 62 with value: 257.48533613385376.\u001b[0m\n",
      "\u001b[32m[I 2023-07-11 16:58:29,785]\u001b[0m Trial 121 finished with value: 257.48533613385376 and parameters: {'n_estimators': 140, 'max_depth': 15, 'min_samples_split': 7, 'min_samples_leaf': 10, 'max_features': 4}. Best is trial 62 with value: 257.48533613385376.\u001b[0m\n",
      "\u001b[32m[I 2023-07-11 16:58:31,176]\u001b[0m Trial 122 finished with value: 257.48533613385376 and parameters: {'n_estimators': 140, 'max_depth': 15, 'min_samples_split': 6, 'min_samples_leaf': 10, 'max_features': 4}. Best is trial 62 with value: 257.48533613385376.\u001b[0m\n",
      "\u001b[32m[I 2023-07-11 16:58:32,813]\u001b[0m Trial 123 finished with value: 271.69613893550434 and parameters: {'n_estimators': 140, 'max_depth': 14, 'min_samples_split': 6, 'min_samples_leaf': 2, 'max_features': 4}. Best is trial 62 with value: 257.48533613385376.\u001b[0m\n",
      "\u001b[32m[I 2023-07-11 16:58:34,889]\u001b[0m Trial 124 finished with value: 257.6787351271231 and parameters: {'n_estimators': 200, 'max_depth': 17, 'min_samples_split': 2, 'min_samples_leaf': 10, 'max_features': 4}. Best is trial 62 with value: 257.48533613385376.\u001b[0m\n",
      "\u001b[32m[I 2023-07-11 16:58:36,288]\u001b[0m Trial 125 finished with value: 257.48533613385376 and parameters: {'n_estimators': 140, 'max_depth': 14, 'min_samples_split': 7, 'min_samples_leaf': 10, 'max_features': 4}. Best is trial 62 with value: 257.48533613385376.\u001b[0m\n",
      "\u001b[32m[I 2023-07-11 16:58:37,645]\u001b[0m Trial 126 finished with value: 258.53799230641516 and parameters: {'n_estimators': 140, 'max_depth': 12, 'min_samples_split': 5, 'min_samples_leaf': 9, 'max_features': 4}. Best is trial 62 with value: 257.48533613385376.\u001b[0m\n",
      "\u001b[32m[I 2023-07-11 16:58:39,195]\u001b[0m Trial 127 finished with value: 258.0873781233074 and parameters: {'n_estimators': 160, 'max_depth': 14, 'min_samples_split': 4, 'min_samples_leaf': 10, 'max_features': 4}. Best is trial 62 with value: 257.48533613385376.\u001b[0m\n",
      "\u001b[32m[I 2023-07-11 16:58:40,585]\u001b[0m Trial 128 finished with value: 257.48533613385376 and parameters: {'n_estimators': 140, 'max_depth': 12, 'min_samples_split': 4, 'min_samples_leaf': 10, 'max_features': 4}. Best is trial 62 with value: 257.48533613385376.\u001b[0m\n",
      "\u001b[32m[I 2023-07-11 16:58:41,861]\u001b[0m Trial 129 finished with value: 257.5728030209282 and parameters: {'n_estimators': 120, 'max_depth': 12, 'min_samples_split': 4, 'min_samples_leaf': 10, 'max_features': 4}. Best is trial 62 with value: 257.48533613385376.\u001b[0m\n",
      "\u001b[32m[I 2023-07-11 16:58:43,320]\u001b[0m Trial 130 finished with value: 260.7840413327759 and parameters: {'n_estimators': 140, 'max_depth': 11, 'min_samples_split': 5, 'min_samples_leaf': 6, 'max_features': 4}. Best is trial 62 with value: 257.48533613385376.\u001b[0m\n",
      "\u001b[32m[I 2023-07-11 16:58:44,748]\u001b[0m Trial 131 finished with value: 257.48533613385376 and parameters: {'n_estimators': 140, 'max_depth': 16, 'min_samples_split': 6, 'min_samples_leaf': 10, 'max_features': 4}. Best is trial 62 with value: 257.48533613385376.\u001b[0m\n",
      "\u001b[32m[I 2023-07-11 16:58:46,098]\u001b[0m Trial 132 finished with value: 257.48533613385376 and parameters: {'n_estimators': 140, 'max_depth': 16, 'min_samples_split': 6, 'min_samples_leaf': 10, 'max_features': 4}. Best is trial 62 with value: 257.48533613385376.\u001b[0m\n",
      "\u001b[32m[I 2023-07-11 16:58:47,492]\u001b[0m Trial 133 finished with value: 257.48533613385376 and parameters: {'n_estimators': 140, 'max_depth': 16, 'min_samples_split': 7, 'min_samples_leaf': 10, 'max_features': 4}. Best is trial 62 with value: 257.48533613385376.\u001b[0m\n",
      "\u001b[32m[I 2023-07-11 16:58:48,901]\u001b[0m Trial 134 finished with value: 257.48533613385376 and parameters: {'n_estimators': 140, 'max_depth': 17, 'min_samples_split': 6, 'min_samples_leaf': 10, 'max_features': 4}. Best is trial 62 with value: 257.48533613385376.\u001b[0m\n",
      "\u001b[32m[I 2023-07-11 16:58:50,497]\u001b[0m Trial 135 finished with value: 258.0873781233074 and parameters: {'n_estimators': 160, 'max_depth': 17, 'min_samples_split': 7, 'min_samples_leaf': 10, 'max_features': 4}. Best is trial 62 with value: 257.48533613385376.\u001b[0m\n",
      "\u001b[32m[I 2023-07-11 16:58:51,857]\u001b[0m Trial 136 finished with value: 258.53799230641516 and parameters: {'n_estimators': 140, 'max_depth': 13, 'min_samples_split': 4, 'min_samples_leaf': 9, 'max_features': 4}. Best is trial 62 with value: 257.48533613385376.\u001b[0m\n",
      "\u001b[32m[I 2023-07-11 16:58:53,046]\u001b[0m Trial 137 finished with value: 257.5728030209282 and parameters: {'n_estimators': 120, 'max_depth': 12, 'min_samples_split': 7, 'min_samples_leaf': 10, 'max_features': 4}. Best is trial 62 with value: 257.48533613385376.\u001b[0m\n",
      "\u001b[32m[I 2023-07-11 16:58:54,468]\u001b[0m Trial 138 finished with value: 260.047379011672 and parameters: {'n_estimators': 140, 'max_depth': 11, 'min_samples_split': 3, 'min_samples_leaf': 7, 'max_features': 4}. Best is trial 62 with value: 257.48533613385376.\u001b[0m\n",
      "\u001b[32m[I 2023-07-11 16:58:55,685]\u001b[0m Trial 139 finished with value: 257.5728030209282 and parameters: {'n_estimators': 120, 'max_depth': 15, 'min_samples_split': 3, 'min_samples_leaf': 10, 'max_features': 4}. Best is trial 62 with value: 257.48533613385376.\u001b[0m\n",
      "\u001b[32m[I 2023-07-11 16:58:57,073]\u001b[0m Trial 140 finished with value: 257.4876568208555 and parameters: {'n_estimators': 140, 'max_depth': 10, 'min_samples_split': 2, 'min_samples_leaf': 10, 'max_features': 4}. Best is trial 62 with value: 257.48533613385376.\u001b[0m\n",
      "\u001b[32m[I 2023-07-11 16:58:58,423]\u001b[0m Trial 141 finished with value: 257.48533613385376 and parameters: {'n_estimators': 140, 'max_depth': 11, 'min_samples_split': 3, 'min_samples_leaf': 10, 'max_features': 4}. Best is trial 62 with value: 257.48533613385376.\u001b[0m\n",
      "\u001b[32m[I 2023-07-11 16:58:59,848]\u001b[0m Trial 142 finished with value: 257.48533613385376 and parameters: {'n_estimators': 140, 'max_depth': 15, 'min_samples_split': 3, 'min_samples_leaf': 10, 'max_features': 4}. Best is trial 62 with value: 257.48533613385376.\u001b[0m\n",
      "\u001b[32m[I 2023-07-11 16:59:01,269]\u001b[0m Trial 143 finished with value: 257.48533613385376 and parameters: {'n_estimators': 140, 'max_depth': 11, 'min_samples_split': 7, 'min_samples_leaf': 10, 'max_features': 4}. Best is trial 62 with value: 257.48533613385376.\u001b[0m\n",
      "\u001b[32m[I 2023-07-11 16:59:02,732]\u001b[0m Trial 144 finished with value: 257.48533613385376 and parameters: {'n_estimators': 140, 'max_depth': 12, 'min_samples_split': 6, 'min_samples_leaf': 10, 'max_features': 4}. Best is trial 62 with value: 257.48533613385376.\u001b[0m\n",
      "\u001b[32m[I 2023-07-11 16:59:04,355]\u001b[0m Trial 145 finished with value: 258.99038946875834 and parameters: {'n_estimators': 160, 'max_depth': 13, 'min_samples_split': 5, 'min_samples_leaf': 9, 'max_features': 4}. Best is trial 62 with value: 257.48533613385376.\u001b[0m\n",
      "\u001b[32m[I 2023-07-11 16:59:05,379]\u001b[0m Trial 146 finished with value: 288.055115992007 and parameters: {'n_estimators': 140, 'max_depth': 2, 'min_samples_split': 7, 'min_samples_leaf': 10, 'max_features': 4}. Best is trial 62 with value: 257.48533613385376.\u001b[0m\n",
      "\u001b[32m[I 2023-07-11 16:59:06,693]\u001b[0m Trial 147 finished with value: 257.48533613385376 and parameters: {'n_estimators': 140, 'max_depth': 13, 'min_samples_split': 7, 'min_samples_leaf': 10, 'max_features': 4}. Best is trial 62 with value: 257.48533613385376.\u001b[0m\n",
      "\u001b[32m[I 2023-07-11 16:59:08,048]\u001b[0m Trial 148 finished with value: 258.53799230641516 and parameters: {'n_estimators': 140, 'max_depth': 12, 'min_samples_split': 4, 'min_samples_leaf': 9, 'max_features': 4}. Best is trial 62 with value: 257.48533613385376.\u001b[0m\n",
      "\u001b[32m[I 2023-07-11 16:59:09,579]\u001b[0m Trial 149 finished with value: 257.48533613385376 and parameters: {'n_estimators': 140, 'max_depth': 15, 'min_samples_split': 4, 'min_samples_leaf': 10, 'max_features': 4}. Best is trial 62 with value: 257.48533613385376.\u001b[0m\n",
      "\u001b[32m[I 2023-07-11 16:59:11,169]\u001b[0m Trial 150 finished with value: 258.0873781233074 and parameters: {'n_estimators': 160, 'max_depth': 18, 'min_samples_split': 6, 'min_samples_leaf': 10, 'max_features': 4}. Best is trial 62 with value: 257.48533613385376.\u001b[0m\n",
      "\u001b[32m[I 2023-07-11 16:59:12,565]\u001b[0m Trial 151 finished with value: 257.48533613385376 and parameters: {'n_estimators': 140, 'max_depth': 16, 'min_samples_split': 3, 'min_samples_leaf': 10, 'max_features': 4}. Best is trial 62 with value: 257.48533613385376.\u001b[0m\n",
      "\u001b[32m[I 2023-07-11 16:59:14,050]\u001b[0m Trial 152 finished with value: 257.4876568208555 and parameters: {'n_estimators': 140, 'max_depth': 10, 'min_samples_split': 3, 'min_samples_leaf': 10, 'max_features': 4}. Best is trial 62 with value: 257.48533613385376.\u001b[0m\n",
      "\u001b[32m[I 2023-07-11 16:59:15,447]\u001b[0m Trial 153 finished with value: 257.48533613385376 and parameters: {'n_estimators': 140, 'max_depth': 16, 'min_samples_split': 6, 'min_samples_leaf': 10, 'max_features': 4}. Best is trial 62 with value: 257.48533613385376.\u001b[0m\n",
      "\u001b[32m[I 2023-07-11 16:59:16,882]\u001b[0m Trial 154 finished with value: 257.48533613385376 and parameters: {'n_estimators': 140, 'max_depth': 13, 'min_samples_split': 6, 'min_samples_leaf': 10, 'max_features': 4}. Best is trial 62 with value: 257.48533613385376.\u001b[0m\n",
      "\u001b[32m[I 2023-07-11 16:59:18,222]\u001b[0m Trial 155 finished with value: 257.48533613385376 and parameters: {'n_estimators': 140, 'max_depth': 14, 'min_samples_split': 6, 'min_samples_leaf': 10, 'max_features': 4}. Best is trial 62 with value: 257.48533613385376.\u001b[0m\n",
      "\u001b[32m[I 2023-07-11 16:59:19,373]\u001b[0m Trial 156 finished with value: 257.5728030209282 and parameters: {'n_estimators': 120, 'max_depth': 12, 'min_samples_split': 5, 'min_samples_leaf': 10, 'max_features': 4}. Best is trial 62 with value: 257.48533613385376.\u001b[0m\n",
      "\u001b[32m[I 2023-07-11 16:59:20,696]\u001b[0m Trial 157 finished with value: 257.48533613385376 and parameters: {'n_estimators': 140, 'max_depth': 15, 'min_samples_split': 7, 'min_samples_leaf': 10, 'max_features': 4}. Best is trial 62 with value: 257.48533613385376.\u001b[0m\n",
      "\u001b[32m[I 2023-07-11 16:59:21,293]\u001b[0m Trial 158 finished with value: 260.7369703292922 and parameters: {'n_estimators': 60, 'max_depth': 15, 'min_samples_split': 2, 'min_samples_leaf': 10, 'max_features': 4}. Best is trial 62 with value: 257.48533613385376.\u001b[0m\n",
      "\u001b[32m[I 2023-07-11 16:59:22,713]\u001b[0m Trial 159 finished with value: 258.53799230641516 and parameters: {'n_estimators': 140, 'max_depth': 14, 'min_samples_split': 4, 'min_samples_leaf': 9, 'max_features': 4}. Best is trial 62 with value: 257.48533613385376.\u001b[0m\n",
      "\u001b[32m[I 2023-07-11 16:59:24,327]\u001b[0m Trial 160 finished with value: 258.0873781233074 and parameters: {'n_estimators': 160, 'max_depth': 15, 'min_samples_split': 3, 'min_samples_leaf': 10, 'max_features': 4}. Best is trial 62 with value: 257.48533613385376.\u001b[0m\n",
      "\u001b[32m[I 2023-07-11 16:59:25,701]\u001b[0m Trial 161 finished with value: 257.48533613385376 and parameters: {'n_estimators': 140, 'max_depth': 14, 'min_samples_split': 4, 'min_samples_leaf': 10, 'max_features': 4}. Best is trial 62 with value: 257.48533613385376.\u001b[0m\n",
      "\u001b[32m[I 2023-07-11 16:59:27,091]\u001b[0m Trial 162 finished with value: 257.48533613385376 and parameters: {'n_estimators': 140, 'max_depth': 13, 'min_samples_split': 4, 'min_samples_leaf': 10, 'max_features': 4}. Best is trial 62 with value: 257.48533613385376.\u001b[0m\n",
      "\u001b[32m[I 2023-07-11 16:59:28,206]\u001b[0m Trial 163 finished with value: 265.8404073565619 and parameters: {'n_estimators': 140, 'max_depth': 13, 'min_samples_split': 5, 'min_samples_leaf': 10, 'max_features': 2}. Best is trial 62 with value: 257.48533613385376.\u001b[0m\n",
      "\u001b[32m[I 2023-07-11 16:59:29,657]\u001b[0m Trial 164 finished with value: 257.48533613385376 and parameters: {'n_estimators': 140, 'max_depth': 13, 'min_samples_split': 4, 'min_samples_leaf': 10, 'max_features': 4}. Best is trial 62 with value: 257.48533613385376.\u001b[0m\n",
      "\u001b[32m[I 2023-07-11 16:59:31,023]\u001b[0m Trial 165 finished with value: 257.48533613385376 and parameters: {'n_estimators': 140, 'max_depth': 13, 'min_samples_split': 3, 'min_samples_leaf': 10, 'max_features': 4}. Best is trial 62 with value: 257.48533613385376.\u001b[0m\n",
      "\u001b[32m[I 2023-07-11 16:59:32,413]\u001b[0m Trial 166 finished with value: 257.48533613385376 and parameters: {'n_estimators': 140, 'max_depth': 13, 'min_samples_split': 3, 'min_samples_leaf': 10, 'max_features': 4}. Best is trial 62 with value: 257.48533613385376.\u001b[0m\n",
      "\u001b[32m[I 2023-07-11 16:59:33,605]\u001b[0m Trial 167 finished with value: 257.5728030209282 and parameters: {'n_estimators': 120, 'max_depth': 12, 'min_samples_split': 3, 'min_samples_leaf': 10, 'max_features': 4}. Best is trial 62 with value: 257.48533613385376.\u001b[0m\n",
      "\u001b[32m[I 2023-07-11 16:59:34,030]\u001b[0m Trial 168 finished with value: 260.42018696638297 and parameters: {'n_estimators': 40, 'max_depth': 11, 'min_samples_split': 4, 'min_samples_leaf': 9, 'max_features': 4}. Best is trial 62 with value: 257.48533613385376.\u001b[0m\n",
      "\u001b[32m[I 2023-07-11 16:59:35,388]\u001b[0m Trial 169 finished with value: 257.48533613385376 and parameters: {'n_estimators': 140, 'max_depth': 16, 'min_samples_split': 7, 'min_samples_leaf': 10, 'max_features': 4}. Best is trial 62 with value: 257.48533613385376.\u001b[0m\n",
      "\u001b[32m[I 2023-07-11 16:59:36,782]\u001b[0m Trial 170 finished with value: 257.48533613385376 and parameters: {'n_estimators': 140, 'max_depth': 16, 'min_samples_split': 7, 'min_samples_leaf': 10, 'max_features': 4}. Best is trial 62 with value: 257.48533613385376.\u001b[0m\n",
      "\u001b[32m[I 2023-07-11 16:59:38,111]\u001b[0m Trial 171 finished with value: 257.48533613385376 and parameters: {'n_estimators': 140, 'max_depth': 15, 'min_samples_split': 7, 'min_samples_leaf': 10, 'max_features': 4}. Best is trial 62 with value: 257.48533613385376.\u001b[0m\n",
      "\u001b[32m[I 2023-07-11 16:59:39,509]\u001b[0m Trial 172 finished with value: 257.48533613385376 and parameters: {'n_estimators': 140, 'max_depth': 15, 'min_samples_split': 7, 'min_samples_leaf': 10, 'max_features': 4}. Best is trial 62 with value: 257.48533613385376.\u001b[0m\n",
      "\u001b[32m[I 2023-07-11 16:59:40,866]\u001b[0m Trial 173 finished with value: 257.48533613385376 and parameters: {'n_estimators': 140, 'max_depth': 12, 'min_samples_split': 4, 'min_samples_leaf': 10, 'max_features': 4}. Best is trial 62 with value: 257.48533613385376.\u001b[0m\n",
      "\u001b[32m[I 2023-07-11 16:59:42,352]\u001b[0m Trial 174 finished with value: 257.48533613385376 and parameters: {'n_estimators': 140, 'max_depth': 12, 'min_samples_split': 4, 'min_samples_leaf': 10, 'max_features': 4}. Best is trial 62 with value: 257.48533613385376.\u001b[0m\n",
      "\u001b[32m[I 2023-07-11 16:59:43,776]\u001b[0m Trial 175 finished with value: 257.48533613385376 and parameters: {'n_estimators': 140, 'max_depth': 17, 'min_samples_split': 4, 'min_samples_leaf': 10, 'max_features': 4}. Best is trial 62 with value: 257.48533613385376.\u001b[0m\n",
      "\u001b[32m[I 2023-07-11 16:59:45,193]\u001b[0m Trial 176 finished with value: 257.48533613385376 and parameters: {'n_estimators': 140, 'max_depth': 17, 'min_samples_split': 6, 'min_samples_leaf': 10, 'max_features': 4}. Best is trial 62 with value: 257.48533613385376.\u001b[0m\n",
      "\u001b[32m[I 2023-07-11 16:59:46,534]\u001b[0m Trial 177 finished with value: 257.48533613385376 and parameters: {'n_estimators': 140, 'max_depth': 15, 'min_samples_split': 8, 'min_samples_leaf': 10, 'max_features': 4}. Best is trial 62 with value: 257.48533613385376.\u001b[0m\n",
      "\u001b[32m[I 2023-07-11 16:59:47,881]\u001b[0m Trial 178 finished with value: 265.24993527810915 and parameters: {'n_estimators': 120, 'max_depth': 14, 'min_samples_split': 6, 'min_samples_leaf': 3, 'max_features': 4}. Best is trial 62 with value: 257.48533613385376.\u001b[0m\n",
      "\u001b[32m[I 2023-07-11 16:59:49,277]\u001b[0m Trial 179 finished with value: 257.48533613385376 and parameters: {'n_estimators': 140, 'max_depth': 16, 'min_samples_split': 8, 'min_samples_leaf': 10, 'max_features': 4}. Best is trial 62 with value: 257.48533613385376.\u001b[0m\n",
      "\u001b[32m[I 2023-07-11 16:59:50,434]\u001b[0m Trial 180 finished with value: 284.78205310269493 and parameters: {'n_estimators': 160, 'max_depth': 11, 'min_samples_split': 7, 'min_samples_leaf': 10, 'max_features': 1}. Best is trial 62 with value: 257.48533613385376.\u001b[0m\n",
      "\u001b[32m[I 2023-07-11 16:59:51,796]\u001b[0m Trial 181 finished with value: 257.48533613385376 and parameters: {'n_estimators': 140, 'max_depth': 16, 'min_samples_split': 6, 'min_samples_leaf': 10, 'max_features': 4}. Best is trial 62 with value: 257.48533613385376.\u001b[0m\n",
      "\u001b[32m[I 2023-07-11 16:59:53,173]\u001b[0m Trial 182 finished with value: 257.48533613385376 and parameters: {'n_estimators': 140, 'max_depth': 11, 'min_samples_split': 7, 'min_samples_leaf': 10, 'max_features': 4}. Best is trial 62 with value: 257.48533613385376.\u001b[0m\n",
      "\u001b[32m[I 2023-07-11 16:59:54,577]\u001b[0m Trial 183 finished with value: 257.48533613385376 and parameters: {'n_estimators': 140, 'max_depth': 12, 'min_samples_split': 3, 'min_samples_leaf': 10, 'max_features': 4}. Best is trial 62 with value: 257.48533613385376.\u001b[0m\n",
      "\u001b[32m[I 2023-07-11 16:59:55,945]\u001b[0m Trial 184 finished with value: 257.48533613385376 and parameters: {'n_estimators': 140, 'max_depth': 11, 'min_samples_split': 7, 'min_samples_leaf': 10, 'max_features': 4}. Best is trial 62 with value: 257.48533613385376.\u001b[0m\n",
      "\u001b[32m[I 2023-07-11 16:59:57,330]\u001b[0m Trial 185 finished with value: 257.48533613385376 and parameters: {'n_estimators': 140, 'max_depth': 12, 'min_samples_split': 3, 'min_samples_leaf': 10, 'max_features': 4}. Best is trial 62 with value: 257.48533613385376.\u001b[0m\n",
      "\u001b[32m[I 2023-07-11 16:59:58,626]\u001b[0m Trial 186 finished with value: 257.48533613385376 and parameters: {'n_estimators': 140, 'max_depth': 16, 'min_samples_split': 4, 'min_samples_leaf': 10, 'max_features': 4}. Best is trial 62 with value: 257.48533613385376.\u001b[0m\n",
      "\u001b[32m[I 2023-07-11 16:59:59,980]\u001b[0m Trial 187 finished with value: 257.48533613385376 and parameters: {'n_estimators': 140, 'max_depth': 17, 'min_samples_split': 3, 'min_samples_leaf': 10, 'max_features': 4}. Best is trial 62 with value: 257.48533613385376.\u001b[0m\n",
      "\u001b[32m[I 2023-07-11 17:00:01,336]\u001b[0m Trial 188 finished with value: 257.48533613385376 and parameters: {'n_estimators': 140, 'max_depth': 16, 'min_samples_split': 4, 'min_samples_leaf': 10, 'max_features': 4}. Best is trial 62 with value: 257.48533613385376.\u001b[0m\n",
      "\u001b[32m[I 2023-07-11 17:00:02,676]\u001b[0m Trial 189 finished with value: 257.48533613385376 and parameters: {'n_estimators': 140, 'max_depth': 12, 'min_samples_split': 4, 'min_samples_leaf': 10, 'max_features': 4}. Best is trial 62 with value: 257.48533613385376.\u001b[0m\n",
      "\u001b[32m[I 2023-07-11 17:00:04,077]\u001b[0m Trial 190 finished with value: 258.53799230641516 and parameters: {'n_estimators': 140, 'max_depth': 14, 'min_samples_split': 6, 'min_samples_leaf': 9, 'max_features': 4}. Best is trial 62 with value: 257.48533613385376.\u001b[0m\n",
      "\u001b[32m[I 2023-07-11 17:00:05,422]\u001b[0m Trial 191 finished with value: 257.48533613385376 and parameters: {'n_estimators': 140, 'max_depth': 14, 'min_samples_split': 7, 'min_samples_leaf': 10, 'max_features': 4}. Best is trial 62 with value: 257.48533613385376.\u001b[0m\n",
      "\u001b[32m[I 2023-07-11 17:00:06,813]\u001b[0m Trial 192 finished with value: 257.48533613385376 and parameters: {'n_estimators': 140, 'max_depth': 15, 'min_samples_split': 3, 'min_samples_leaf': 10, 'max_features': 4}. Best is trial 62 with value: 257.48533613385376.\u001b[0m\n",
      "\u001b[32m[I 2023-07-11 17:00:08,209]\u001b[0m Trial 193 finished with value: 257.48533613385376 and parameters: {'n_estimators': 140, 'max_depth': 17, 'min_samples_split': 3, 'min_samples_leaf': 10, 'max_features': 4}. Best is trial 62 with value: 257.48533613385376.\u001b[0m\n",
      "\u001b[32m[I 2023-07-11 17:00:09,556]\u001b[0m Trial 194 finished with value: 257.4876568208555 and parameters: {'n_estimators': 140, 'max_depth': 10, 'min_samples_split': 3, 'min_samples_leaf': 10, 'max_features': 4}. Best is trial 62 with value: 257.48533613385376.\u001b[0m\n",
      "\u001b[32m[I 2023-07-11 17:00:10,910]\u001b[0m Trial 195 finished with value: 257.48533613385376 and parameters: {'n_estimators': 140, 'max_depth': 18, 'min_samples_split': 8, 'min_samples_leaf': 10, 'max_features': 4}. Best is trial 62 with value: 257.48533613385376.\u001b[0m\n",
      "\u001b[32m[I 2023-07-11 17:00:12,304]\u001b[0m Trial 196 finished with value: 257.48533613385376 and parameters: {'n_estimators': 140, 'max_depth': 18, 'min_samples_split': 5, 'min_samples_leaf': 10, 'max_features': 4}. Best is trial 62 with value: 257.48533613385376.\u001b[0m\n",
      "\u001b[32m[I 2023-07-11 17:00:13,928]\u001b[0m Trial 197 finished with value: 258.0873781233074 and parameters: {'n_estimators': 160, 'max_depth': 16, 'min_samples_split': 6, 'min_samples_leaf': 10, 'max_features': 4}. Best is trial 62 with value: 257.48533613385376.\u001b[0m\n",
      "\u001b[32m[I 2023-07-11 17:00:15,420]\u001b[0m Trial 198 finished with value: 257.48533613385376 and parameters: {'n_estimators': 140, 'max_depth': 11, 'min_samples_split': 2, 'min_samples_leaf': 10, 'max_features': 4}. Best is trial 62 with value: 257.48533613385376.\u001b[0m\n",
      "\u001b[32m[I 2023-07-11 17:00:16,939]\u001b[0m Trial 199 finished with value: 257.48533613385376 and parameters: {'n_estimators': 140, 'max_depth': 14, 'min_samples_split': 2, 'min_samples_leaf': 10, 'max_features': 4}. Best is trial 62 with value: 257.48533613385376.\u001b[0m\n"
     ]
    },
    {
     "name": "stdout",
     "output_type": "stream",
     "text": [
      "\n",
      "The best hyperparameters for RF Regressor {'n_estimators': 140, 'max_depth': 14, 'min_samples_split': 7, 'min_samples_leaf': 10, 'max_features': 4}\n"
     ]
    }
   ],
   "source": [
    "RFR_best_params = optuna_RF_Reg(X_train, y_train, n_trials = 200, display = False)"
   ]
  },
  {
   "cell_type": "code",
   "execution_count": 73,
   "metadata": {},
   "outputs": [
    {
     "name": "stdout",
     "output_type": "stream",
     "text": [
      "\n",
      "AME of the BEST RF Regressor: Training data 212.85303120541667\n",
      "\n",
      "AME of the BEST RF Regressor: Test data 219.12453078218425\n"
     ]
    }
   ],
   "source": [
    "y_train_predict = RandomForestRegressor(**RFR_best_params).fit(X_train, y_train).predict(X_train)\n",
    "y_test_predict = RandomForestRegressor(**RFR_best_params).fit(X_train, y_train).predict(X_test)\n",
    "print (f'\\nAME of the BEST RF Regressor: Training data {(mean_absolute_error(y_train, y_train_predict))}')\n",
    "print (f'\\nAME of the BEST RF Regressor: Test data {(mean_absolute_error(y_test, y_test_predict))}')"
   ]
  },
  {
   "cell_type": "code",
   "execution_count": 74,
   "metadata": {},
   "outputs": [
    {
     "name": "stdout",
     "output_type": "stream",
     "text": [
      "\n",
      "0\n",
      "For a training size of 187, MAE(train) = 241.881 and MAE(test) = 232.480\n",
      "1\n",
      "For a training size of 295, MAE(train) = 229.215 and MAE(test) = 218.523\n",
      "2\n",
      "For a training size of 403, MAE(train) = 225.277 and MAE(test) = 219.727\n",
      "3\n",
      "For a training size of 511, MAE(train) = 211.163 and MAE(test) = 211.778\n",
      "4\n",
      "For a training size of 619, MAE(train) = 211.051 and MAE(test) = 217.092\n"
     ]
    },
    {
     "data": {
      "image/png": "[encoded data removed]",
      "text/plain": [
       "<Figure size 432x288 with 1 Axes>"
      ]
     },
     "metadata": {
      "needs_background": "light"
     },
     "output_type": "display_data"
    }
   ],
   "source": [
    "best_RF = RandomForestRegressor(**RFR_best_params)\n",
    "results = modified_learning_curve(X_train, y_train, X_test, y_test, best_RF, 5)"
   ]
  },
  {
   "cell_type": "code",
   "execution_count": 75,
   "metadata": {},
   "outputs": [],
   "source": [
    "best_RF = RandomForestRegressor(**RFR_best_params).fit(X_train, y_train)\n",
    "y_pred = best_RF.predict(X_test)"
   ]
  },
  {
   "cell_type": "code",
   "execution_count": 76,
   "metadata": {},
   "outputs": [
    {
     "data": {
      "image/png": "[encoded data removed]",
      "text/plain": [
       "<Figure size 720x504 with 1 Axes>"
      ]
     },
     "metadata": {
      "needs_background": "light"
     },
     "output_type": "display_data"
    }
   ],
   "source": [
    "fig = plt.figure(figsize = (10,7))\n",
    "ax = plt.subplot(1,1, 1)\n",
    "MR_plot(ax, y_pred, X_test.pl_rade, color = X_test.Teq, xscale = 'log', yscale = 'log')\n",
    "MR_plot(ax, y_test, X_test.pl_rade, color = 'black', xscale = 'log', yscale = 'log')\n"
   ]
  },
  {
   "cell_type": "code",
   "execution_count": 77,
   "metadata": {},
   "outputs": [
    {
     "name": "stdout",
     "output_type": "stream",
     "text": [
      "-0.761126155851128 -0.3786548416627593\n"
     ]
    },
    {
     "data": {
      "image/png": "[encoded data removed]",
      "text/plain": [
       "<Figure size 432x288 with 1 Axes>"
      ]
     },
     "metadata": {
      "needs_background": "light"
     },
     "output_type": "display_data"
    }
   ],
   "source": [
    "plt.scatter(y_test, (y_test - y_pred)/y_test)\n",
    "plt.yscale('log')\n",
    "plt.xscale('log')\n",
    "print (np.mean((y_test - y_pred)/y_test), np.median((y_test - y_pred)/y_test))"
   ]
  },
  {
   "cell_type": "code",
   "execution_count": 78,
   "metadata": {},
   "outputs": [
    {
     "name": "stderr",
     "output_type": "stream",
     "text": [
      "/tmp/ipykernel_1143652/1353724171.py:3: SettingWithCopyWarning: \n",
      "A value is trying to be set on a copy of a slice from a DataFrame.\n",
      "Try using .loc[row_indexer,col_indexer] = value instead\n",
      "\n",
      "See the caveats in the documentation: https://pandas.pydata.org/pandas-docs/stable/user_guide/indexing.html#returning-a-view-versus-a-copy\n",
      "  nea_MR_final_table['pl_rade'] = np.log10(nea_MR_final_table['pl_rade'])\n",
      "/tmp/ipykernel_1143652/1353724171.py:4: SettingWithCopyWarning: \n",
      "A value is trying to be set on a copy of a slice from a DataFrame.\n",
      "Try using .loc[row_indexer,col_indexer] = value instead\n",
      "\n",
      "See the caveats in the documentation: https://pandas.pydata.org/pandas-docs/stable/user_guide/indexing.html#returning-a-view-versus-a-copy\n",
      "  nea_MR_final_table['pl_bmasse'] = np.log10(nea_MR_final_table['pl_bmasse'])\n"
     ]
    }
   ],
   "source": [
    "nea_MR_final_table = nea_with_M_and_R_cleaned_accurate[['pl_rade', 'pl_bmasse', 'Teq', 'st_teff', 'pl_orbsmax']]\n",
    "\n",
    "nea_MR_final_table['pl_rade'] = np.log10(nea_MR_final_table['pl_rade'])\n",
    "nea_MR_final_table['pl_bmasse'] = np.log10(nea_MR_final_table['pl_bmasse'])"
   ]
  }
 ],
 "metadata": {
  "kernelspec": {
   "display_name": "Python 3",
   "language": "python",
   "name": "python3"
  },
  "language_info": {
   "codemirror_mode": {
    "name": "ipython",
    "version": 3
   },
   "file_extension": ".py",
   "mimetype": "text/x-python",
   "name": "python",
   "nbconvert_exporter": "python",
   "pygments_lexer": "ipython3",
   "version": "3.8.10"
  },
  "orig_nbformat": 4
 },
 "nbformat": 4,
 "nbformat_minor": 2
}
