{
 "cells": [
  {
   "attachments": {},
   "cell_type": "markdown",
   "metadata": {},
   "source": [
    "# Importing the libraries and seting the paths"
   ]
  },
  {
   "cell_type": "code",
   "execution_count": 236,
   "metadata": {},
   "outputs": [],
   "source": [
    "from utils import open_nea_table, download_nea_table\n",
    "from mass_year import mass_vs_year_plot, planet_discovery_stat\n",
    "import pandas as pd\n",
    "import numpy as np\n",
    "import os\n",
    "import sys\n",
    "from datetime import date\n",
    "import math\n",
    "\n",
    "from mr_ml_utils import a_from_P, Teq_from_teff_v_plx_a, Teq_from_teff_v_plx_P, teq_hellper_function"
   ]
  },
  {
   "attachments": {},
   "cell_type": "markdown",
   "metadata": {},
   "source": [
    "If needed to update the NEA table then first run  \"download_nea_table\""
   ]
  },
  {
   "cell_type": "code",
   "execution_count": 237,
   "metadata": {},
   "outputs": [
    {
     "name": "stderr",
     "output_type": "stream",
     "text": [
      "/home/vadibekyan/my_github/ExoPLots/utils.py:52: DtypeWarning: Columns (65,187) have mixed types. Specify dtype option on import or set low_memory=False.\n",
      "  nea_full_table = pd.read_csv(table_directory)\n"
     ]
    },
    {
     "data": {
      "text/html": [
       "<div>\n",
       "<style scoped>\n",
       "    .dataframe tbody tr th:only-of-type {\n",
       "        vertical-align: middle;\n",
       "    }\n",
       "\n",
       "    .dataframe tbody tr th {\n",
       "        vertical-align: top;\n",
       "    }\n",
       "\n",
       "    .dataframe thead th {\n",
       "        text-align: right;\n",
       "    }\n",
       "</style>\n",
       "<table border=\"1\" class=\"dataframe\">\n",
       "  <thead>\n",
       "    <tr style=\"text-align: right;\">\n",
       "      <th></th>\n",
       "      <th>pl_name</th>\n",
       "      <th>pl_letter</th>\n",
       "      <th>hostname</th>\n",
       "      <th>hd_name</th>\n",
       "      <th>hip_name</th>\n",
       "      <th>tic_id</th>\n",
       "      <th>gaia_id</th>\n",
       "      <th>default_flag</th>\n",
       "      <th>pl_refname</th>\n",
       "      <th>sy_refname</th>\n",
       "      <th>...</th>\n",
       "      <th>sy_jmagerr1</th>\n",
       "      <th>sy_jmagerr2</th>\n",
       "      <th>sy_jmagstr</th>\n",
       "      <th>sy_hmag</th>\n",
       "      <th>sy_hmagerr1</th>\n",
       "      <th>sy_hmagerr2</th>\n",
       "      <th>sy_hmagstr</th>\n",
       "      <th>sy_kmag</th>\n",
       "      <th>sy_kmagerr1</th>\n",
       "      <th>sy_kmagerr2</th>\n",
       "    </tr>\n",
       "  </thead>\n",
       "  <tbody>\n",
       "    <tr>\n",
       "      <th>0</th>\n",
       "      <td>OGLE-TR-10 b</td>\n",
       "      <td>b</td>\n",
       "      <td>OGLE-TR-10</td>\n",
       "      <td>NaN</td>\n",
       "      <td>NaN</td>\n",
       "      <td>TIC 130150682</td>\n",
       "      <td>Gaia DR2 4056443366649948160</td>\n",
       "      <td>1</td>\n",
       "      <td>&lt;a refstr=TORRES_ET_AL__2008 href=https://ui.a...</td>\n",
       "      <td>&lt;a refstr=STASSUN_ET_AL__2019 href=https://ui....</td>\n",
       "      <td>...</td>\n",
       "      <td>NaN</td>\n",
       "      <td>NaN</td>\n",
       "      <td>13.692</td>\n",
       "      <td>13.314</td>\n",
       "      <td>0.121</td>\n",
       "      <td>-0.121</td>\n",
       "      <td>13.314&amp;plusmn;0.121</td>\n",
       "      <td>12.856</td>\n",
       "      <td>NaN</td>\n",
       "      <td>NaN</td>\n",
       "    </tr>\n",
       "    <tr>\n",
       "      <th>1</th>\n",
       "      <td>BD-08 2823 c</td>\n",
       "      <td>c</td>\n",
       "      <td>BD-08 2823</td>\n",
       "      <td>NaN</td>\n",
       "      <td>HIP 49067</td>\n",
       "      <td>TIC 33355302</td>\n",
       "      <td>Gaia DR2 3770419611540574080</td>\n",
       "      <td>1</td>\n",
       "      <td>&lt;a refstr=HEBRARD_ET_AL__2010 href=https://ui....</td>\n",
       "      <td>&lt;a refstr=STASSUN_ET_AL__2019 href=https://ui....</td>\n",
       "      <td>...</td>\n",
       "      <td>0.020</td>\n",
       "      <td>-0.020</td>\n",
       "      <td>7.96&amp;plusmn;0.02</td>\n",
       "      <td>7.498</td>\n",
       "      <td>0.047</td>\n",
       "      <td>-0.047</td>\n",
       "      <td>7.498&amp;plusmn;0.047</td>\n",
       "      <td>7.323</td>\n",
       "      <td>0.021</td>\n",
       "      <td>-0.021</td>\n",
       "    </tr>\n",
       "    <tr>\n",
       "      <th>2</th>\n",
       "      <td>HR 8799 c</td>\n",
       "      <td>c</td>\n",
       "      <td>HR 8799</td>\n",
       "      <td>HD 218396</td>\n",
       "      <td>HIP 114189</td>\n",
       "      <td>TIC 245368902</td>\n",
       "      <td>Gaia DR2 2832463659640297472</td>\n",
       "      <td>1</td>\n",
       "      <td>&lt;a refstr=MAROIS_ET_AL__2008 href=https://ui.a...</td>\n",
       "      <td>&lt;a refstr=STASSUN_ET_AL__2019 href=https://ui....</td>\n",
       "      <td>...</td>\n",
       "      <td>0.027</td>\n",
       "      <td>-0.027</td>\n",
       "      <td>5.383&amp;plusmn;0.027</td>\n",
       "      <td>5.280</td>\n",
       "      <td>0.018</td>\n",
       "      <td>-0.018</td>\n",
       "      <td>5.280&amp;plusmn;0.018</td>\n",
       "      <td>5.240</td>\n",
       "      <td>0.018</td>\n",
       "      <td>-0.018</td>\n",
       "    </tr>\n",
       "  </tbody>\n",
       "</table>\n",
       "<p>3 rows × 353 columns</p>\n",
       "</div>"
      ],
      "text/plain": [
       "        pl_name pl_letter    hostname    hd_name    hip_name         tic_id  \\\n",
       "0  OGLE-TR-10 b         b  OGLE-TR-10        NaN         NaN  TIC 130150682   \n",
       "1  BD-08 2823 c         c  BD-08 2823        NaN   HIP 49067   TIC 33355302   \n",
       "2     HR 8799 c         c     HR 8799  HD 218396  HIP 114189  TIC 245368902   \n",
       "\n",
       "                        gaia_id  default_flag  \\\n",
       "0  Gaia DR2 4056443366649948160             1   \n",
       "1  Gaia DR2 3770419611540574080             1   \n",
       "2  Gaia DR2 2832463659640297472             1   \n",
       "\n",
       "                                          pl_refname  \\\n",
       "0  <a refstr=TORRES_ET_AL__2008 href=https://ui.a...   \n",
       "1  <a refstr=HEBRARD_ET_AL__2010 href=https://ui....   \n",
       "2  <a refstr=MAROIS_ET_AL__2008 href=https://ui.a...   \n",
       "\n",
       "                                          sy_refname  ... sy_jmagerr1  \\\n",
       "0  <a refstr=STASSUN_ET_AL__2019 href=https://ui....  ...         NaN   \n",
       "1  <a refstr=STASSUN_ET_AL__2019 href=https://ui....  ...       0.020   \n",
       "2  <a refstr=STASSUN_ET_AL__2019 href=https://ui....  ...       0.027   \n",
       "\n",
       "   sy_jmagerr2          sy_jmagstr sy_hmag sy_hmagerr1 sy_hmagerr2  \\\n",
       "0          NaN              13.692  13.314       0.121      -0.121   \n",
       "1       -0.020    7.96&plusmn;0.02   7.498       0.047      -0.047   \n",
       "2       -0.027  5.383&plusmn;0.027   5.280       0.018      -0.018   \n",
       "\n",
       "            sy_hmagstr sy_kmag  sy_kmagerr1 sy_kmagerr2  \n",
       "0  13.314&plusmn;0.121  12.856          NaN         NaN  \n",
       "1   7.498&plusmn;0.047   7.323        0.021      -0.021  \n",
       "2   5.280&plusmn;0.018   5.240        0.018      -0.018  \n",
       "\n",
       "[3 rows x 353 columns]"
      ]
     },
     "execution_count": 237,
     "metadata": {},
     "output_type": "execute_result"
    }
   ],
   "source": [
    "nea_full_table = open_nea_table()\n",
    "nea_full_table.head(3)"
   ]
  },
  {
   "attachments": {},
   "cell_type": "markdown",
   "metadata": {},
   "source": [
    "# Selecting columns that are relevant for the ML analysis"
   ]
  },
  {
   "cell_type": "code",
   "execution_count": 238,
   "metadata": {},
   "outputs": [],
   "source": [
    "relevant_columns = ['pl_rade', 'pl_orbsmax', 'pl_bmasse', 'pl_orbper',  'sy_vmag', 'sy_plx', 'st_teff', 'st_mass']\n",
    "nea_relevant = nea_full_table[relevant_columns]\n"
   ]
  },
  {
   "attachments": {},
   "cell_type": "markdown",
   "metadata": {},
   "source": [
    "### Equilibrium temperature is important for the radius of hot planets. "
   ]
  },
  {
   "attachments": {},
   "cell_type": "markdown",
   "metadata": {},
   "source": [
    "Selecting planets with Mass and Radius measurements for ML"
   ]
  },
  {
   "cell_type": "code",
   "execution_count": 239,
   "metadata": {},
   "outputs": [
    {
     "name": "stdout",
     "output_type": "stream",
     "text": [
      "There are 1113 planets with mass and radius measurements\n"
     ]
    },
    {
     "data": {
      "text/html": [
       "<div>\n",
       "<style scoped>\n",
       "    .dataframe tbody tr th:only-of-type {\n",
       "        vertical-align: middle;\n",
       "    }\n",
       "\n",
       "    .dataframe tbody tr th {\n",
       "        vertical-align: top;\n",
       "    }\n",
       "\n",
       "    .dataframe thead th {\n",
       "        text-align: right;\n",
       "    }\n",
       "</style>\n",
       "<table border=\"1\" class=\"dataframe\">\n",
       "  <thead>\n",
       "    <tr style=\"text-align: right;\">\n",
       "      <th></th>\n",
       "      <th>pl_rade</th>\n",
       "      <th>pl_orbsmax</th>\n",
       "      <th>pl_bmasse</th>\n",
       "      <th>pl_orbper</th>\n",
       "      <th>sy_vmag</th>\n",
       "      <th>sy_plx</th>\n",
       "      <th>st_teff</th>\n",
       "      <th>st_mass</th>\n",
       "    </tr>\n",
       "  </thead>\n",
       "  <tbody>\n",
       "    <tr>\n",
       "      <th>count</th>\n",
       "      <td>1113.000000</td>\n",
       "      <td>878.000000</td>\n",
       "      <td>1113.000000</td>\n",
       "      <td>1.098000e+03</td>\n",
       "      <td>1110.000000</td>\n",
       "      <td>1085.000000</td>\n",
       "      <td>1032.000000</td>\n",
       "      <td>1100.000000</td>\n",
       "    </tr>\n",
       "    <tr>\n",
       "      <th>mean</th>\n",
       "      <td>8.967707</td>\n",
       "      <td>17.160037</td>\n",
       "      <td>420.861732</td>\n",
       "      <td>3.790530e+05</td>\n",
       "      <td>12.274946</td>\n",
       "      <td>9.295143</td>\n",
       "      <td>5483.824806</td>\n",
       "      <td>1.003882</td>\n",
       "    </tr>\n",
       "    <tr>\n",
       "      <th>std</th>\n",
       "      <td>6.083019</td>\n",
       "      <td>272.583363</td>\n",
       "      <td>963.110129</td>\n",
       "      <td>1.213509e+07</td>\n",
       "      <td>2.171725</td>\n",
       "      <td>17.976954</td>\n",
       "      <td>1361.837200</td>\n",
       "      <td>0.345527</td>\n",
       "    </tr>\n",
       "    <tr>\n",
       "      <th>min</th>\n",
       "      <td>0.310000</td>\n",
       "      <td>0.006000</td>\n",
       "      <td>0.070000</td>\n",
       "      <td>2.401040e-01</td>\n",
       "      <td>5.569110</td>\n",
       "      <td>-0.149186</td>\n",
       "      <td>575.000000</td>\n",
       "      <td>0.010000</td>\n",
       "    </tr>\n",
       "    <tr>\n",
       "      <th>25%</th>\n",
       "      <td>2.630000</td>\n",
       "      <td>0.037958</td>\n",
       "      <td>10.100000</td>\n",
       "      <td>3.003277e+00</td>\n",
       "      <td>11.012500</td>\n",
       "      <td>1.939290</td>\n",
       "      <td>5016.000000</td>\n",
       "      <td>0.820000</td>\n",
       "    </tr>\n",
       "    <tr>\n",
       "      <th>50%</th>\n",
       "      <td>10.447000</td>\n",
       "      <td>0.053735</td>\n",
       "      <td>126.496340</td>\n",
       "      <td>4.603155e+00</td>\n",
       "      <td>12.247000</td>\n",
       "      <td>3.516790</td>\n",
       "      <td>5620.000000</td>\n",
       "      <td>1.000000</td>\n",
       "    </tr>\n",
       "    <tr>\n",
       "      <th>75%</th>\n",
       "      <td>13.787000</td>\n",
       "      <td>0.100075</td>\n",
       "      <td>379.000000</td>\n",
       "      <td>1.189179e+01</td>\n",
       "      <td>13.688000</td>\n",
       "      <td>7.961470</td>\n",
       "      <td>6009.000000</td>\n",
       "      <td>1.180000</td>\n",
       "    </tr>\n",
       "    <tr>\n",
       "      <th>max</th>\n",
       "      <td>33.600000</td>\n",
       "      <td>7506.000000</td>\n",
       "      <td>9534.900000</td>\n",
       "      <td>4.020000e+08</td>\n",
       "      <td>20.154400</td>\n",
       "      <td>153.081000</td>\n",
       "      <td>27730.000000</td>\n",
       "      <td>2.780000</td>\n",
       "    </tr>\n",
       "  </tbody>\n",
       "</table>\n",
       "</div>"
      ],
      "text/plain": [
       "           pl_rade   pl_orbsmax    pl_bmasse     pl_orbper      sy_vmag  \\\n",
       "count  1113.000000   878.000000  1113.000000  1.098000e+03  1110.000000   \n",
       "mean      8.967707    17.160037   420.861732  3.790530e+05    12.274946   \n",
       "std       6.083019   272.583363   963.110129  1.213509e+07     2.171725   \n",
       "min       0.310000     0.006000     0.070000  2.401040e-01     5.569110   \n",
       "25%       2.630000     0.037958    10.100000  3.003277e+00    11.012500   \n",
       "50%      10.447000     0.053735   126.496340  4.603155e+00    12.247000   \n",
       "75%      13.787000     0.100075   379.000000  1.189179e+01    13.688000   \n",
       "max      33.600000  7506.000000  9534.900000  4.020000e+08    20.154400   \n",
       "\n",
       "            sy_plx       st_teff      st_mass  \n",
       "count  1085.000000   1032.000000  1100.000000  \n",
       "mean      9.295143   5483.824806     1.003882  \n",
       "std      17.976954   1361.837200     0.345527  \n",
       "min      -0.149186    575.000000     0.010000  \n",
       "25%       1.939290   5016.000000     0.820000  \n",
       "50%       3.516790   5620.000000     1.000000  \n",
       "75%       7.961470   6009.000000     1.180000  \n",
       "max     153.081000  27730.000000     2.780000  "
      ]
     },
     "execution_count": 239,
     "metadata": {},
     "output_type": "execute_result"
    }
   ],
   "source": [
    "nea_with_M_and_R = nea_relevant[(nea_relevant.pl_bmasse > 0) & (nea_relevant.pl_rade > 0) ].reset_index(drop=True) # reset index, drop old ones\n",
    "\n",
    "print (f'There are {len(nea_with_M_and_R)} planets with mass and radius measurements')\n",
    "\n",
    "nea_with_M_and_R.describe()"
   ]
  },
  {
   "attachments": {},
   "cell_type": "markdown",
   "metadata": {},
   "source": [
    "There seem to be star(s) with negative parallaxes. They must be removed fromthe sample"
   ]
  },
  {
   "cell_type": "code",
   "execution_count": 240,
   "metadata": {},
   "outputs": [],
   "source": [
    "nea_with_M_and_R = nea_with_M_and_R[nea_with_M_and_R.sy_plx > 0]"
   ]
  },
  {
   "attachments": {},
   "cell_type": "markdown",
   "metadata": {},
   "source": [
    "To calculate Teq, one needs Luminosity (us such, Teff, Vmag, and Plx) and semimajor axis (or orbital period ond Mstar)"
   ]
  },
  {
   "cell_type": "code",
   "execution_count": 241,
   "metadata": {},
   "outputs": [
    {
     "data": {
      "text/plain": [
       "pl_rade         0\n",
       "pl_orbsmax    234\n",
       "pl_bmasse       0\n",
       "pl_orbper      13\n",
       "sy_vmag         0\n",
       "sy_plx          0\n",
       "st_teff        78\n",
       "st_mass        11\n",
       "dtype: int64"
      ]
     },
     "execution_count": 241,
     "metadata": {},
     "output_type": "execute_result"
    }
   ],
   "source": [
    "#check how many nan values have in each column\n",
    "nea_with_M_and_R.isna().sum()"
   ]
  },
  {
   "attachments": {},
   "cell_type": "markdown",
   "metadata": {},
   "source": [
    "There are 235 missing entries for semimajor axis. This parameter can be estimated from the stellar mass and orbital period.\n",
    "\n",
    "Next, all the rows containing nan values will be removed, except if the nan is in the \"pl_orbsmax\" column"
   ]
  },
  {
   "cell_type": "code",
   "execution_count": 242,
   "metadata": {},
   "outputs": [
    {
     "data": {
      "text/plain": [
       "pl_rade         0\n",
       "pl_orbsmax    188\n",
       "pl_bmasse       0\n",
       "pl_orbper       0\n",
       "sy_vmag         0\n",
       "sy_plx          0\n",
       "st_teff         0\n",
       "st_mass         0\n",
       "dtype: int64"
      ]
     },
     "execution_count": 242,
     "metadata": {},
     "output_type": "execute_result"
    }
   ],
   "source": [
    "nea_with_M_and_R_cleaned = nea_with_M_and_R.dropna(subset=nea_with_M_and_R.columns.drop('pl_orbsmax'))\n",
    "# Check results\n",
    "nea_with_M_and_R_cleaned.isna().sum()\n"
   ]
  },
  {
   "cell_type": "code",
   "execution_count": 243,
   "metadata": {},
   "outputs": [
    {
     "name": "stdout",
     "output_type": "stream",
     "text": [
      "There are 999 planets for the ML analysis\n"
     ]
    },
    {
     "data": {
      "text/html": [
       "<div>\n",
       "<style scoped>\n",
       "    .dataframe tbody tr th:only-of-type {\n",
       "        vertical-align: middle;\n",
       "    }\n",
       "\n",
       "    .dataframe tbody tr th {\n",
       "        vertical-align: top;\n",
       "    }\n",
       "\n",
       "    .dataframe thead th {\n",
       "        text-align: right;\n",
       "    }\n",
       "</style>\n",
       "<table border=\"1\" class=\"dataframe\">\n",
       "  <thead>\n",
       "    <tr style=\"text-align: right;\">\n",
       "      <th></th>\n",
       "      <th>pl_rade</th>\n",
       "      <th>pl_orbsmax</th>\n",
       "      <th>pl_bmasse</th>\n",
       "      <th>pl_orbper</th>\n",
       "      <th>sy_vmag</th>\n",
       "      <th>sy_plx</th>\n",
       "      <th>st_teff</th>\n",
       "      <th>st_mass</th>\n",
       "    </tr>\n",
       "  </thead>\n",
       "  <tbody>\n",
       "    <tr>\n",
       "      <th>0</th>\n",
       "      <td>14.011</td>\n",
       "      <td>0.0434</td>\n",
       "      <td>197.046</td>\n",
       "      <td>3.101278</td>\n",
       "      <td>16.006</td>\n",
       "      <td>0.721380</td>\n",
       "      <td>5950.0</td>\n",
       "      <td>1.14</td>\n",
       "    </tr>\n",
       "    <tr>\n",
       "      <th>2</th>\n",
       "      <td>2.800</td>\n",
       "      <td>0.1060</td>\n",
       "      <td>508.500</td>\n",
       "      <td>12.333500</td>\n",
       "      <td>15.040</td>\n",
       "      <td>0.836127</td>\n",
       "      <td>5800.0</td>\n",
       "      <td>1.03</td>\n",
       "    </tr>\n",
       "    <tr>\n",
       "      <th>3</th>\n",
       "      <td>2.200</td>\n",
       "      <td>0.0500</td>\n",
       "      <td>1303.000</td>\n",
       "      <td>5.901240</td>\n",
       "      <td>16.360</td>\n",
       "      <td>3.059480</td>\n",
       "      <td>3900.0</td>\n",
       "      <td>0.58</td>\n",
       "    </tr>\n",
       "  </tbody>\n",
       "</table>\n",
       "</div>"
      ],
      "text/plain": [
       "   pl_rade  pl_orbsmax  pl_bmasse  pl_orbper  sy_vmag    sy_plx  st_teff  \\\n",
       "0   14.011      0.0434    197.046   3.101278   16.006  0.721380   5950.0   \n",
       "2    2.800      0.1060    508.500  12.333500   15.040  0.836127   5800.0   \n",
       "3    2.200      0.0500   1303.000   5.901240   16.360  3.059480   3900.0   \n",
       "\n",
       "   st_mass  \n",
       "0     1.14  \n",
       "2     1.03  \n",
       "3     0.58  "
      ]
     },
     "execution_count": 243,
     "metadata": {},
     "output_type": "execute_result"
    }
   ],
   "source": [
    "print (f'There are {len(nea_with_M_and_R_cleaned)} planets for the ML analysis')\n",
    "nea_with_M_and_R_cleaned.head(3)"
   ]
  },
  {
   "attachments": {},
   "cell_type": "markdown",
   "metadata": {},
   "source": [
    "Calculating Teq from \"a\" or \"P\" "
   ]
  },
  {
   "cell_type": "code",
   "execution_count": 244,
   "metadata": {},
   "outputs": [],
   "source": [
    "def teq_hellper_function(x, pl_orbsmax, pl_orbper, st_teff, sy_vmag, sy_plx, st_mass, Teq):\n",
    "    \"\"\"\n",
    "    Helper function to calculate the equilibrium temperature (Teq) based on different parameters.\n",
    "\n",
    "    Parameters:\n",
    "        x (array-like): Input array or DataFrame row containing the values of the parameters.\n",
    "        pl_orbsmax (str): Column name or key for the planet's semimajor axis parameter.\n",
    "        pl_orbper (str): Column name or key for the planet's orbital period parameter.\n",
    "        st_teff (str): Column name or key for the stellar effective temperature parameter.\n",
    "        sy_vmag (str): Column name or key for the system's visual magnitude parameter.\n",
    "        sy_plx (str): Column name or key for the system's parallax parameter.\n",
    "        st_mass (str): Column name or key for the stellar mass parameter.\n",
    "        Teq (str): Column name or key for the equilibrium temperature (output) parameter.\n",
    "\n",
    "    Returns:\n",
    "        x (array-like): Input array or DataFrame row with the equilibrium temperature (Teq) added as a new column.\n",
    "\n",
    "    Note:\n",
    "        The function uses the `Teq_from_teff_v_plx_a` and `Teq_from_teff_v_plx_P` functions to calculate Teq.\n",
    "        The resulting Teq value is rounded to the nearest integer using `np.round`.\n",
    "    \"\"\"\n",
    "    if x[pl_orbsmax] > 0:\n",
    "        # Calculate Teq using Teq_from_teff_v_plx_a function\n",
    "        x[Teq] = Teq_from_teff_v_plx_a(x[st_teff], x[sy_vmag], x[sy_plx], x[pl_orbsmax])\n",
    "    else:\n",
    "        # Calculate Teq using Teq_from_teff_v_plx_P function\n",
    "        x[Teq] = Teq_from_teff_v_plx_P(x[st_teff], x[sy_vmag], x[sy_plx], x[pl_orbper], x[st_mass])\n",
    "    \n",
    "    # Round the Teq value to the nearest integer\n",
    "    x[Teq] = np.round(x[Teq])\n",
    "    \n",
    "    return x\n"
   ]
  },
  {
   "cell_type": "code",
   "execution_count": 245,
   "metadata": {},
   "outputs": [
    {
     "name": "stdout",
     "output_type": "stream",
     "text": [
      "      pl_rade  pl_orbsmax   pl_bmasse  pl_orbper  sy_vmag     sy_plx  st_teff  \\\n",
      "0      14.011     0.04340   197.04600   3.101278   16.006   0.721380   5950.0   \n",
      "2       2.800     0.10600   508.50000  12.333500   15.040   0.836127   5800.0   \n",
      "3       2.200     0.05000  1303.00000   5.901240   16.360   3.059480   3900.0   \n",
      "4      16.870     0.05350   271.74465   3.899052   12.006   1.731260   5941.0   \n",
      "5      21.633         NaN   352.79130   2.175180   11.965   1.296790   6100.0   \n",
      "...       ...         ...         ...        ...      ...        ...      ...   \n",
      "1108    1.240     0.02933     2.14000   2.769530    9.630  99.916400   3803.0   \n",
      "1109    4.570     0.03550    13.90000   3.336650   12.332  33.960100   3600.0   \n",
      "1110   18.046     0.03080  1430.17500   2.485533   14.718   0.586731   6933.0   \n",
      "1111   11.781     0.07229   953.49000   6.180235   11.237   2.663910   6202.0   \n",
      "1112   11.321     0.09564   310.83618  11.910100   13.004   4.209610   5144.0   \n",
      "\n",
      "      st_mass  \n",
      "0        1.14  \n",
      "2        1.03  \n",
      "3        0.58  \n",
      "4        1.34  \n",
      "5        1.87  \n",
      "...       ...  \n",
      "1108     0.44  \n",
      "1109     0.54  \n",
      "1110     1.52  \n",
      "1111     1.32  \n",
      "1112     0.82  \n",
      "\n",
      "[999 rows x 8 columns]\n"
     ]
    }
   ],
   "source": [
    "print (nea_with_M_and_R_cleaned)"
   ]
  },
  {
   "attachments": {},
   "cell_type": "markdown",
   "metadata": {},
   "source": [
    "Use teq_hellper_function function to determine Teq from \"a\" or \"P\" depending on their availability. Priority is given to \"a\""
   ]
  },
  {
   "cell_type": "code",
   "execution_count": 246,
   "metadata": {},
   "outputs": [
    {
     "name": "stderr",
     "output_type": "stream",
     "text": [
      "/tmp/ipykernel_12931/293283582.py:2: SettingWithCopyWarning: \n",
      "A value is trying to be set on a copy of a slice from a DataFrame.\n",
      "Try using .loc[row_indexer,col_indexer] = value instead\n",
      "\n",
      "See the caveats in the documentation: https://pandas.pydata.org/pandas-docs/stable/user_guide/indexing.html#returning-a-view-versus-a-copy\n",
      "  nea_with_M_and_R_cleaned['Teq'] = 0\n"
     ]
    }
   ],
   "source": [
    "# Add new columns: Teq\n",
    "nea_with_M_and_R_cleaned['Teq'] = 0\n",
    "\n",
    "nea_with_M_and_R_cleaned = nea_with_M_and_R_cleaned.apply(lambda x: teq_hellper_function(x, 'pl_orbsmax', 'pl_orbper', 'st_teff', 'sy_vmag', 'sy_plx', 'st_mass', 'Teq'), axis = 1)"
   ]
  },
  {
   "cell_type": "code",
   "execution_count": 247,
   "metadata": {},
   "outputs": [
    {
     "data": {
      "text/html": [
       "<div>\n",
       "<style scoped>\n",
       "    .dataframe tbody tr th:only-of-type {\n",
       "        vertical-align: middle;\n",
       "    }\n",
       "\n",
       "    .dataframe tbody tr th {\n",
       "        vertical-align: top;\n",
       "    }\n",
       "\n",
       "    .dataframe thead th {\n",
       "        text-align: right;\n",
       "    }\n",
       "</style>\n",
       "<table border=\"1\" class=\"dataframe\">\n",
       "  <thead>\n",
       "    <tr style=\"text-align: right;\">\n",
       "      <th></th>\n",
       "      <th>pl_rade</th>\n",
       "      <th>pl_bmasse</th>\n",
       "      <th>Teq</th>\n",
       "    </tr>\n",
       "  </thead>\n",
       "  <tbody>\n",
       "    <tr>\n",
       "      <th>0</th>\n",
       "      <td>14.011</td>\n",
       "      <td>197.046</td>\n",
       "      <td>1194.0</td>\n",
       "    </tr>\n",
       "    <tr>\n",
       "      <th>2</th>\n",
       "      <td>2.800</td>\n",
       "      <td>508.500</td>\n",
       "      <td>891.0</td>\n",
       "    </tr>\n",
       "  </tbody>\n",
       "</table>\n",
       "</div>"
      ],
      "text/plain": [
       "   pl_rade  pl_bmasse     Teq\n",
       "0   14.011    197.046  1194.0\n",
       "2    2.800    508.500   891.0"
      ]
     },
     "execution_count": 247,
     "metadata": {},
     "output_type": "execute_result"
    }
   ],
   "source": [
    "# Final table with Mass, Radius, and Teq\n",
    "nea_MR_final_table = nea_with_M_and_R_cleaned[['pl_rade', 'pl_bmasse', 'Teq']]\n",
    "nea_MR_final_table.head(2)"
   ]
  },
  {
   "cell_type": "code",
   "execution_count": 248,
   "metadata": {},
   "outputs": [
    {
     "name": "stdout",
     "output_type": "stream",
     "text": [
      "      pl_rade   pl_bmasse     Teq\n",
      "0      14.011   197.04600  1194.0\n",
      "2       2.800   508.50000   891.0\n",
      "3       2.200  1303.00000   662.0\n",
      "4      16.870   271.74465  1744.0\n",
      "5      21.633   352.79130  5466.0\n",
      "...       ...         ...     ...\n",
      "1108    1.240     2.14000   743.0\n",
      "1109    4.570    13.90000   699.0\n",
      "1110   18.046  1430.17500  2075.0\n",
      "1111   11.781   953.49000  1433.0\n",
      "1112   11.321   310.83618   695.0\n",
      "\n",
      "[999 rows x 3 columns]\n"
     ]
    }
   ],
   "source": [
    "print (nea_MR_final_table)"
   ]
  }
 ],
 "metadata": {
  "kernelspec": {
   "display_name": "Python 3",
   "language": "python",
   "name": "python3"
  },
  "language_info": {
   "codemirror_mode": {
    "name": "ipython",
    "version": 3
   },
   "file_extension": ".py",
   "mimetype": "text/x-python",
   "name": "python",
   "nbconvert_exporter": "python",
   "pygments_lexer": "ipython3",
   "version": "3.8.10"
  },
  "orig_nbformat": 4
 },
 "nbformat": 4,
 "nbformat_minor": 2
}
