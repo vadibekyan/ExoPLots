{
 "cells": [
  {
   "attachments": {},
   "cell_type": "markdown",
   "metadata": {},
   "source": [
    "## Importing the libraries and seting the paths"
   ]
  },
  {
   "cell_type": "code",
   "execution_count": 1,
   "metadata": {},
   "outputs": [
    {
     "name": "stderr",
     "output_type": "stream",
     "text": [
      "/home/vadibekyan/my_github/ExoPLots/utils.py:52: DtypeWarning: Columns (65) have mixed types. Specify dtype option on import or set low_memory=False.\n",
      "  nea_full_table = pd.read_csv(table_directory)\n",
      "/home/vadibekyan/my_github/ExoPLots/utils.py:52: DtypeWarning: Columns (65) have mixed types. Specify dtype option on import or set low_memory=False.\n",
      "  nea_full_table = pd.read_csv(table_directory)\n",
      "/home/vadibekyan/my_github/ExoPLots/mr_utils.py:261: SettingWithCopyWarning: \n",
      "A value is trying to be set on a copy of a slice from a DataFrame.\n",
      "Try using .loc[row_indexer,col_indexer] = value instead\n",
      "\n",
      "See the caveats in the documentation: https://pandas.pydata.org/pandas-docs/stable/user_guide/indexing.html#returning-a-view-versus-a-copy\n",
      "  nea_with_M_and_R_cleaned['Teq'] = 0\n",
      "/home/vadibekyan/my_github/ExoPLots/mr_utils.py:314: SettingWithCopyWarning: \n",
      "A value is trying to be set on a copy of a slice from a DataFrame.\n",
      "Try using .loc[row_indexer,col_indexer] = value instead\n",
      "\n",
      "See the caveats in the documentation: https://pandas.pydata.org/pandas-docs/stable/user_guide/indexing.html#returning-a-view-versus-a-copy\n",
      "  nea_with_R_cleaned['Teq'] = 0\n"
     ]
    }
   ],
   "source": [
    "from utils import open_nea_table, download_nea_table\n",
    "from mass_year import mass_vs_year_plot, planet_discovery_stat\n",
    "import pandas as pd\n",
    "import numpy as np\n",
    "import os\n",
    "import sys\n",
    "from datetime import date\n",
    "import math\n",
    "\n",
    "from mr_utils import a_from_P, Teq_from_teff_v_plx_a, Teq_from_teff_v_plx_P, teq_hellper_function, a_from_P, MR_plot, creating_R_ML_table\n",
    "\n",
    "from mr_ml_utils import score_dataset, optuna_RF_Reg, modified_learning_curve, RF_training_with_display\n",
    "from m_from_r import mass_from_radius"
   ]
  },
  {
   "attachments": {},
   "cell_type": "markdown",
   "metadata": {},
   "source": [
    "If needed to update the NEA table then first run  \"download_nea_table\""
   ]
  },
  {
   "cell_type": "code",
   "execution_count": 2,
   "metadata": {},
   "outputs": [],
   "source": [
    "#download_nea_table()"
   ]
  },
  {
   "cell_type": "code",
   "execution_count": 3,
   "metadata": {},
   "outputs": [
    {
     "name": "stderr",
     "output_type": "stream",
     "text": [
      "/home/vadibekyan/my_github/ExoPLots/utils.py:52: DtypeWarning: Columns (65) have mixed types. Specify dtype option on import or set low_memory=False.\n",
      "  nea_full_table = pd.read_csv(table_directory)\n"
     ]
    },
    {
     "data": {
      "text/html": [
       "<div>\n",
       "<style scoped>\n",
       "    .dataframe tbody tr th:only-of-type {\n",
       "        vertical-align: middle;\n",
       "    }\n",
       "\n",
       "    .dataframe tbody tr th {\n",
       "        vertical-align: top;\n",
       "    }\n",
       "\n",
       "    .dataframe thead th {\n",
       "        text-align: right;\n",
       "    }\n",
       "</style>\n",
       "<table border=\"1\" class=\"dataframe\">\n",
       "  <thead>\n",
       "    <tr style=\"text-align: right;\">\n",
       "      <th></th>\n",
       "      <th>pl_name</th>\n",
       "      <th>pl_letter</th>\n",
       "      <th>hostname</th>\n",
       "      <th>hd_name</th>\n",
       "      <th>hip_name</th>\n",
       "      <th>tic_id</th>\n",
       "      <th>gaia_id</th>\n",
       "      <th>default_flag</th>\n",
       "      <th>pl_refname</th>\n",
       "      <th>sy_refname</th>\n",
       "      <th>...</th>\n",
       "      <th>sy_jmagerr1</th>\n",
       "      <th>sy_jmagerr2</th>\n",
       "      <th>sy_jmagstr</th>\n",
       "      <th>sy_hmag</th>\n",
       "      <th>sy_hmagerr1</th>\n",
       "      <th>sy_hmagerr2</th>\n",
       "      <th>sy_hmagstr</th>\n",
       "      <th>sy_kmag</th>\n",
       "      <th>sy_kmagerr1</th>\n",
       "      <th>sy_kmagerr2</th>\n",
       "    </tr>\n",
       "  </thead>\n",
       "  <tbody>\n",
       "    <tr>\n",
       "      <th>0</th>\n",
       "      <td>OGLE-TR-10 b</td>\n",
       "      <td>b</td>\n",
       "      <td>OGLE-TR-10</td>\n",
       "      <td>NaN</td>\n",
       "      <td>NaN</td>\n",
       "      <td>TIC 130150682</td>\n",
       "      <td>Gaia DR2 4056443366649948160</td>\n",
       "      <td>1</td>\n",
       "      <td>&lt;a refstr=TORRES_ET_AL__2008 href=https://ui.a...</td>\n",
       "      <td>&lt;a refstr=STASSUN_ET_AL__2019 href=https://ui....</td>\n",
       "      <td>...</td>\n",
       "      <td>NaN</td>\n",
       "      <td>NaN</td>\n",
       "      <td>13.692</td>\n",
       "      <td>13.314</td>\n",
       "      <td>0.121</td>\n",
       "      <td>-0.121</td>\n",
       "      <td>13.314&amp;plusmn;0.121</td>\n",
       "      <td>12.856</td>\n",
       "      <td>NaN</td>\n",
       "      <td>NaN</td>\n",
       "    </tr>\n",
       "    <tr>\n",
       "      <th>1</th>\n",
       "      <td>BD-08 2823 c</td>\n",
       "      <td>c</td>\n",
       "      <td>BD-08 2823</td>\n",
       "      <td>NaN</td>\n",
       "      <td>HIP 49067</td>\n",
       "      <td>TIC 33355302</td>\n",
       "      <td>Gaia DR2 3770419611540574080</td>\n",
       "      <td>1</td>\n",
       "      <td>&lt;a refstr=HEBRARD_ET_AL__2010 href=https://ui....</td>\n",
       "      <td>&lt;a refstr=STASSUN_ET_AL__2019 href=https://ui....</td>\n",
       "      <td>...</td>\n",
       "      <td>0.020</td>\n",
       "      <td>-0.020</td>\n",
       "      <td>7.96&amp;plusmn;0.02</td>\n",
       "      <td>7.498</td>\n",
       "      <td>0.047</td>\n",
       "      <td>-0.047</td>\n",
       "      <td>7.498&amp;plusmn;0.047</td>\n",
       "      <td>7.323</td>\n",
       "      <td>0.021</td>\n",
       "      <td>-0.021</td>\n",
       "    </tr>\n",
       "    <tr>\n",
       "      <th>2</th>\n",
       "      <td>HR 8799 c</td>\n",
       "      <td>c</td>\n",
       "      <td>HR 8799</td>\n",
       "      <td>HD 218396</td>\n",
       "      <td>HIP 114189</td>\n",
       "      <td>TIC 245368902</td>\n",
       "      <td>Gaia DR2 2832463659640297472</td>\n",
       "      <td>1</td>\n",
       "      <td>&lt;a refstr=MAROIS_ET_AL__2008 href=https://ui.a...</td>\n",
       "      <td>&lt;a refstr=STASSUN_ET_AL__2019 href=https://ui....</td>\n",
       "      <td>...</td>\n",
       "      <td>0.027</td>\n",
       "      <td>-0.027</td>\n",
       "      <td>5.383&amp;plusmn;0.027</td>\n",
       "      <td>5.280</td>\n",
       "      <td>0.018</td>\n",
       "      <td>-0.018</td>\n",
       "      <td>5.280&amp;plusmn;0.018</td>\n",
       "      <td>5.240</td>\n",
       "      <td>0.018</td>\n",
       "      <td>-0.018</td>\n",
       "    </tr>\n",
       "  </tbody>\n",
       "</table>\n",
       "<p>3 rows × 353 columns</p>\n",
       "</div>"
      ],
      "text/plain": [
       "        pl_name pl_letter    hostname    hd_name    hip_name         tic_id  \\\n",
       "0  OGLE-TR-10 b         b  OGLE-TR-10        NaN         NaN  TIC 130150682   \n",
       "1  BD-08 2823 c         c  BD-08 2823        NaN   HIP 49067   TIC 33355302   \n",
       "2     HR 8799 c         c     HR 8799  HD 218396  HIP 114189  TIC 245368902   \n",
       "\n",
       "                        gaia_id  default_flag  \\\n",
       "0  Gaia DR2 4056443366649948160             1   \n",
       "1  Gaia DR2 3770419611540574080             1   \n",
       "2  Gaia DR2 2832463659640297472             1   \n",
       "\n",
       "                                          pl_refname  \\\n",
       "0  <a refstr=TORRES_ET_AL__2008 href=https://ui.a...   \n",
       "1  <a refstr=HEBRARD_ET_AL__2010 href=https://ui....   \n",
       "2  <a refstr=MAROIS_ET_AL__2008 href=https://ui.a...   \n",
       "\n",
       "                                          sy_refname  ... sy_jmagerr1  \\\n",
       "0  <a refstr=STASSUN_ET_AL__2019 href=https://ui....  ...         NaN   \n",
       "1  <a refstr=STASSUN_ET_AL__2019 href=https://ui....  ...       0.020   \n",
       "2  <a refstr=STASSUN_ET_AL__2019 href=https://ui....  ...       0.027   \n",
       "\n",
       "   sy_jmagerr2          sy_jmagstr sy_hmag sy_hmagerr1 sy_hmagerr2  \\\n",
       "0          NaN              13.692  13.314       0.121      -0.121   \n",
       "1       -0.020    7.96&plusmn;0.02   7.498       0.047      -0.047   \n",
       "2       -0.027  5.383&plusmn;0.027   5.280       0.018      -0.018   \n",
       "\n",
       "            sy_hmagstr sy_kmag  sy_kmagerr1 sy_kmagerr2  \n",
       "0  13.314&plusmn;0.121  12.856          NaN         NaN  \n",
       "1   7.498&plusmn;0.047   7.323        0.021      -0.021  \n",
       "2   5.280&plusmn;0.018   5.240        0.018      -0.018  \n",
       "\n",
       "[3 rows x 353 columns]"
      ]
     },
     "execution_count": 3,
     "metadata": {},
     "output_type": "execute_result"
    }
   ],
   "source": [
    "nea_full_table = open_nea_table()\n",
    "nea_full_table.head(3)"
   ]
  },
  {
   "attachments": {},
   "cell_type": "markdown",
   "metadata": {},
   "source": [
    "## Selecting columns that are relevant for the ML analysis. \n",
    "\n",
    "Equilibrium temperature is important for the radius of hot planets. This parameter will be estimated from the luminosity of the star and the distance of the planet from the star. Luminosity will also be determined here."
   ]
  },
  {
   "cell_type": "code",
   "execution_count": 4,
   "metadata": {},
   "outputs": [],
   "source": [
    "relevant_columns = ['pl_rade', 'pl_radeerr1', 'pl_radeerr2', 'pl_orbsmax', 'pl_bmasse', 'pl_masseerr1', 'pl_masseerr2', 'pl_orbper',  'sy_vmag', 'sy_plx', 'st_teff', 'st_mass', 'st_met']\n",
    "nea_relevant = nea_full_table[relevant_columns]\n"
   ]
  },
  {
   "attachments": {},
   "cell_type": "markdown",
   "metadata": {},
   "source": [
    "Selecting planets with Mass and Radius measurements for ML"
   ]
  },
  {
   "cell_type": "code",
   "execution_count": 5,
   "metadata": {},
   "outputs": [
    {
     "name": "stdout",
     "output_type": "stream",
     "text": [
      "There are 1121 planets with mass and radius measurements\n"
     ]
    },
    {
     "data": {
      "text/html": [
       "<div>\n",
       "<style scoped>\n",
       "    .dataframe tbody tr th:only-of-type {\n",
       "        vertical-align: middle;\n",
       "    }\n",
       "\n",
       "    .dataframe tbody tr th {\n",
       "        vertical-align: top;\n",
       "    }\n",
       "\n",
       "    .dataframe thead th {\n",
       "        text-align: right;\n",
       "    }\n",
       "</style>\n",
       "<table border=\"1\" class=\"dataframe\">\n",
       "  <thead>\n",
       "    <tr style=\"text-align: right;\">\n",
       "      <th></th>\n",
       "      <th>pl_rade</th>\n",
       "      <th>pl_radeerr1</th>\n",
       "      <th>pl_radeerr2</th>\n",
       "      <th>pl_orbsmax</th>\n",
       "      <th>pl_bmasse</th>\n",
       "      <th>pl_masseerr1</th>\n",
       "      <th>pl_masseerr2</th>\n",
       "      <th>pl_orbper</th>\n",
       "      <th>sy_vmag</th>\n",
       "      <th>sy_plx</th>\n",
       "      <th>st_teff</th>\n",
       "      <th>st_mass</th>\n",
       "      <th>st_met</th>\n",
       "    </tr>\n",
       "  </thead>\n",
       "  <tbody>\n",
       "    <tr>\n",
       "      <th>count</th>\n",
       "      <td>1121.000000</td>\n",
       "      <td>1097.000000</td>\n",
       "      <td>1097.000000</td>\n",
       "      <td>878.000000</td>\n",
       "      <td>1121.000000</td>\n",
       "      <td>997.000000</td>\n",
       "      <td>997.000000</td>\n",
       "      <td>1.106000e+03</td>\n",
       "      <td>1118.000000</td>\n",
       "      <td>1093.000000</td>\n",
       "      <td>1029.000000</td>\n",
       "      <td>1099.000000</td>\n",
       "      <td>946.000000</td>\n",
       "    </tr>\n",
       "    <tr>\n",
       "      <th>mean</th>\n",
       "      <td>8.920726</td>\n",
       "      <td>0.658813</td>\n",
       "      <td>-0.571374</td>\n",
       "      <td>17.160517</td>\n",
       "      <td>420.030847</td>\n",
       "      <td>62.531148</td>\n",
       "      <td>-58.983919</td>\n",
       "      <td>3.763113e+05</td>\n",
       "      <td>12.263198</td>\n",
       "      <td>9.316416</td>\n",
       "      <td>5500.237318</td>\n",
       "      <td>1.007607</td>\n",
       "      <td>0.050680</td>\n",
       "    </tr>\n",
       "    <tr>\n",
       "      <th>std</th>\n",
       "      <td>6.087014</td>\n",
       "      <td>1.020060</td>\n",
       "      <td>0.797187</td>\n",
       "      <td>272.583333</td>\n",
       "      <td>960.867372</td>\n",
       "      <td>243.031013</td>\n",
       "      <td>228.914651</td>\n",
       "      <td>1.209112e+07</td>\n",
       "      <td>2.177996</td>\n",
       "      <td>17.915702</td>\n",
       "      <td>1353.519686</td>\n",
       "      <td>0.342385</td>\n",
       "      <td>0.196025</td>\n",
       "    </tr>\n",
       "    <tr>\n",
       "      <th>min</th>\n",
       "      <td>0.310000</td>\n",
       "      <td>0.006000</td>\n",
       "      <td>-6.730000</td>\n",
       "      <td>0.006000</td>\n",
       "      <td>0.070000</td>\n",
       "      <td>0.012000</td>\n",
       "      <td>-4767.450000</td>\n",
       "      <td>2.401040e-01</td>\n",
       "      <td>5.569110</td>\n",
       "      <td>-0.149186</td>\n",
       "      <td>575.000000</td>\n",
       "      <td>0.010000</td>\n",
       "      <td>-0.580000</td>\n",
       "    </tr>\n",
       "    <tr>\n",
       "      <th>25%</th>\n",
       "      <td>2.607000</td>\n",
       "      <td>0.112000</td>\n",
       "      <td>-0.684000</td>\n",
       "      <td>0.038155</td>\n",
       "      <td>10.100000</td>\n",
       "      <td>2.100000</td>\n",
       "      <td>-41.317900</td>\n",
       "      <td>3.003277e+00</td>\n",
       "      <td>11.000250</td>\n",
       "      <td>1.948610</td>\n",
       "      <td>5052.000000</td>\n",
       "      <td>0.830000</td>\n",
       "      <td>-0.070000</td>\n",
       "    </tr>\n",
       "    <tr>\n",
       "      <th>50%</th>\n",
       "      <td>10.368000</td>\n",
       "      <td>0.336000</td>\n",
       "      <td>-0.325000</td>\n",
       "      <td>0.054010</td>\n",
       "      <td>123.953700</td>\n",
       "      <td>14.937000</td>\n",
       "      <td>-14.302000</td>\n",
       "      <td>4.603155e+00</td>\n",
       "      <td>12.246000</td>\n",
       "      <td>3.535580</td>\n",
       "      <td>5625.000000</td>\n",
       "      <td>1.000000</td>\n",
       "      <td>0.060000</td>\n",
       "    </tr>\n",
       "    <tr>\n",
       "      <th>75%</th>\n",
       "      <td>13.787000</td>\n",
       "      <td>0.785000</td>\n",
       "      <td>-0.110000</td>\n",
       "      <td>0.101175</td>\n",
       "      <td>379.000000</td>\n",
       "      <td>43.223000</td>\n",
       "      <td>-2.000000</td>\n",
       "      <td>1.189179e+01</td>\n",
       "      <td>13.688000</td>\n",
       "      <td>8.107340</td>\n",
       "      <td>6011.000000</td>\n",
       "      <td>1.180000</td>\n",
       "      <td>0.190000</td>\n",
       "    </tr>\n",
       "    <tr>\n",
       "      <th>max</th>\n",
       "      <td>33.600000</td>\n",
       "      <td>10.536000</td>\n",
       "      <td>0.000000</td>\n",
       "      <td>7506.000000</td>\n",
       "      <td>9534.900000</td>\n",
       "      <td>4767.450000</td>\n",
       "      <td>-0.012000</td>\n",
       "      <td>4.020000e+08</td>\n",
       "      <td>20.154400</td>\n",
       "      <td>153.081000</td>\n",
       "      <td>27730.000000</td>\n",
       "      <td>2.780000</td>\n",
       "      <td>0.522000</td>\n",
       "    </tr>\n",
       "  </tbody>\n",
       "</table>\n",
       "</div>"
      ],
      "text/plain": [
       "           pl_rade  pl_radeerr1  pl_radeerr2   pl_orbsmax    pl_bmasse  \\\n",
       "count  1121.000000  1097.000000  1097.000000   878.000000  1121.000000   \n",
       "mean      8.920726     0.658813    -0.571374    17.160517   420.030847   \n",
       "std       6.087014     1.020060     0.797187   272.583333   960.867372   \n",
       "min       0.310000     0.006000    -6.730000     0.006000     0.070000   \n",
       "25%       2.607000     0.112000    -0.684000     0.038155    10.100000   \n",
       "50%      10.368000     0.336000    -0.325000     0.054010   123.953700   \n",
       "75%      13.787000     0.785000    -0.110000     0.101175   379.000000   \n",
       "max      33.600000    10.536000     0.000000  7506.000000  9534.900000   \n",
       "\n",
       "       pl_masseerr1  pl_masseerr2     pl_orbper      sy_vmag       sy_plx  \\\n",
       "count    997.000000    997.000000  1.106000e+03  1118.000000  1093.000000   \n",
       "mean      62.531148    -58.983919  3.763113e+05    12.263198     9.316416   \n",
       "std      243.031013    228.914651  1.209112e+07     2.177996    17.915702   \n",
       "min        0.012000  -4767.450000  2.401040e-01     5.569110    -0.149186   \n",
       "25%        2.100000    -41.317900  3.003277e+00    11.000250     1.948610   \n",
       "50%       14.937000    -14.302000  4.603155e+00    12.246000     3.535580   \n",
       "75%       43.223000     -2.000000  1.189179e+01    13.688000     8.107340   \n",
       "max     4767.450000     -0.012000  4.020000e+08    20.154400   153.081000   \n",
       "\n",
       "            st_teff      st_mass      st_met  \n",
       "count   1029.000000  1099.000000  946.000000  \n",
       "mean    5500.237318     1.007607    0.050680  \n",
       "std     1353.519686     0.342385    0.196025  \n",
       "min      575.000000     0.010000   -0.580000  \n",
       "25%     5052.000000     0.830000   -0.070000  \n",
       "50%     5625.000000     1.000000    0.060000  \n",
       "75%     6011.000000     1.180000    0.190000  \n",
       "max    27730.000000     2.780000    0.522000  "
      ]
     },
     "execution_count": 5,
     "metadata": {},
     "output_type": "execute_result"
    }
   ],
   "source": [
    "nea_with_M_and_R = nea_relevant[(nea_relevant.pl_bmasse > 0) & (nea_relevant.pl_rade > 0) ].reset_index(drop=True) # reset index, drop old ones\n",
    "\n",
    "print (f'There are {len(nea_with_M_and_R)} planets with mass and radius measurements')\n",
    "\n",
    "nea_with_M_and_R.describe()"
   ]
  },
  {
   "attachments": {},
   "cell_type": "markdown",
   "metadata": {},
   "source": [
    "There seem to be star(s) with negative parallaxes. They must be removed fromthe sample"
   ]
  },
  {
   "cell_type": "code",
   "execution_count": 6,
   "metadata": {},
   "outputs": [],
   "source": [
    "nea_with_M_and_R = nea_with_M_and_R[nea_with_M_and_R.sy_plx > 0]"
   ]
  },
  {
   "attachments": {},
   "cell_type": "markdown",
   "metadata": {},
   "source": [
    "To calculate Teq, one needs Luminosity (us such, Teff, Vmag, and Plx) and semimajor axis (or orbital period ond Mstar)"
   ]
  },
  {
   "cell_type": "code",
   "execution_count": 7,
   "metadata": {},
   "outputs": [
    {
     "data": {
      "text/plain": [
       "pl_rade           0\n",
       "pl_radeerr1      22\n",
       "pl_radeerr2      22\n",
       "pl_orbsmax      242\n",
       "pl_bmasse         0\n",
       "pl_masseerr1    122\n",
       "pl_masseerr2    122\n",
       "pl_orbper        13\n",
       "sy_vmag           0\n",
       "sy_plx            0\n",
       "st_teff          89\n",
       "st_mass          20\n",
       "st_met          160\n",
       "dtype: int64"
      ]
     },
     "execution_count": 7,
     "metadata": {},
     "output_type": "execute_result"
    }
   ],
   "source": [
    "#check how many nan values have in each column\n",
    "nea_with_M_and_R.isna().sum()"
   ]
  },
  {
   "attachments": {},
   "cell_type": "markdown",
   "metadata": {},
   "source": [
    "There are 235 missing entries for semimajor axis. This parameter can be estimated from the stellar mass and orbital period.\n",
    "\n",
    "Next, all the rows containing nan values will be removed, except if the nan is in the \"pl_orbsmax\" column"
   ]
  },
  {
   "cell_type": "code",
   "execution_count": 8,
   "metadata": {},
   "outputs": [
    {
     "data": {
      "text/plain": [
       "pl_rade           0\n",
       "pl_radeerr1       0\n",
       "pl_radeerr2       0\n",
       "pl_orbsmax      159\n",
       "pl_bmasse         0\n",
       "pl_masseerr1      0\n",
       "pl_masseerr2      0\n",
       "pl_orbper         0\n",
       "sy_vmag           0\n",
       "sy_plx            0\n",
       "st_teff           0\n",
       "st_mass           0\n",
       "st_met            0\n",
       "dtype: int64"
      ]
     },
     "execution_count": 8,
     "metadata": {},
     "output_type": "execute_result"
    }
   ],
   "source": [
    "nea_with_M_and_R_cleaned = nea_with_M_and_R.dropna(subset=nea_with_M_and_R.columns.drop(['pl_orbsmax']))\n",
    "# Check results\n",
    "nea_with_M_and_R_cleaned.isna().sum()\n"
   ]
  },
  {
   "cell_type": "code",
   "execution_count": 9,
   "metadata": {},
   "outputs": [
    {
     "name": "stdout",
     "output_type": "stream",
     "text": [
      "There are 822 planets for the ML analysis\n"
     ]
    },
    {
     "data": {
      "text/html": [
       "<div>\n",
       "<style scoped>\n",
       "    .dataframe tbody tr th:only-of-type {\n",
       "        vertical-align: middle;\n",
       "    }\n",
       "\n",
       "    .dataframe tbody tr th {\n",
       "        vertical-align: top;\n",
       "    }\n",
       "\n",
       "    .dataframe thead th {\n",
       "        text-align: right;\n",
       "    }\n",
       "</style>\n",
       "<table border=\"1\" class=\"dataframe\">\n",
       "  <thead>\n",
       "    <tr style=\"text-align: right;\">\n",
       "      <th></th>\n",
       "      <th>pl_rade</th>\n",
       "      <th>pl_radeerr1</th>\n",
       "      <th>pl_radeerr2</th>\n",
       "      <th>pl_orbsmax</th>\n",
       "      <th>pl_bmasse</th>\n",
       "      <th>pl_masseerr1</th>\n",
       "      <th>pl_masseerr2</th>\n",
       "      <th>pl_orbper</th>\n",
       "      <th>sy_vmag</th>\n",
       "      <th>sy_plx</th>\n",
       "      <th>st_teff</th>\n",
       "      <th>st_mass</th>\n",
       "      <th>st_met</th>\n",
       "    </tr>\n",
       "  </thead>\n",
       "  <tbody>\n",
       "    <tr>\n",
       "      <th>4</th>\n",
       "      <td>16.870</td>\n",
       "      <td>0.560</td>\n",
       "      <td>-0.504</td>\n",
       "      <td>0.0535</td>\n",
       "      <td>271.74465</td>\n",
       "      <td>22.88376</td>\n",
       "      <td>-21.93027</td>\n",
       "      <td>3.899052</td>\n",
       "      <td>12.006</td>\n",
       "      <td>1.73126</td>\n",
       "      <td>5941.0</td>\n",
       "      <td>1.34</td>\n",
       "      <td>0.164</td>\n",
       "    </tr>\n",
       "    <tr>\n",
       "      <th>5</th>\n",
       "      <td>21.633</td>\n",
       "      <td>5.044</td>\n",
       "      <td>-5.044</td>\n",
       "      <td>NaN</td>\n",
       "      <td>352.79130</td>\n",
       "      <td>171.62820</td>\n",
       "      <td>-171.62820</td>\n",
       "      <td>2.175180</td>\n",
       "      <td>11.965</td>\n",
       "      <td>1.29679</td>\n",
       "      <td>6100.0</td>\n",
       "      <td>1.87</td>\n",
       "      <td>-0.350</td>\n",
       "    </tr>\n",
       "    <tr>\n",
       "      <th>6</th>\n",
       "      <td>12.722</td>\n",
       "      <td>0.538</td>\n",
       "      <td>-0.538</td>\n",
       "      <td>0.0466</td>\n",
       "      <td>180.84527</td>\n",
       "      <td>7.31009</td>\n",
       "      <td>-6.99226</td>\n",
       "      <td>3.652815</td>\n",
       "      <td>13.146</td>\n",
       "      <td>3.30091</td>\n",
       "      <td>5519.0</td>\n",
       "      <td>1.01</td>\n",
       "      <td>0.294</td>\n",
       "    </tr>\n",
       "  </tbody>\n",
       "</table>\n",
       "</div>"
      ],
      "text/plain": [
       "   pl_rade  pl_radeerr1  pl_radeerr2  pl_orbsmax  pl_bmasse  pl_masseerr1  \\\n",
       "4   16.870        0.560       -0.504      0.0535  271.74465      22.88376   \n",
       "5   21.633        5.044       -5.044         NaN  352.79130     171.62820   \n",
       "6   12.722        0.538       -0.538      0.0466  180.84527       7.31009   \n",
       "\n",
       "   pl_masseerr2  pl_orbper  sy_vmag   sy_plx  st_teff  st_mass  st_met  \n",
       "4     -21.93027   3.899052   12.006  1.73126   5941.0     1.34   0.164  \n",
       "5    -171.62820   2.175180   11.965  1.29679   6100.0     1.87  -0.350  \n",
       "6      -6.99226   3.652815   13.146  3.30091   5519.0     1.01   0.294  "
      ]
     },
     "execution_count": 9,
     "metadata": {},
     "output_type": "execute_result"
    }
   ],
   "source": [
    "print (f'There are {len(nea_with_M_and_R_cleaned)} planets for the ML analysis')\n",
    "nea_with_M_and_R_cleaned.head(3)"
   ]
  },
  {
   "attachments": {},
   "cell_type": "markdown",
   "metadata": {},
   "source": [
    "Calculating semimajor axis from Period and stellar mass, for the missing \"a\" entries"
   ]
  },
  {
   "cell_type": "code",
   "execution_count": 10,
   "metadata": {},
   "outputs": [],
   "source": [
    "for i in range(len(nea_with_M_and_R_cleaned)):\n",
    "    if np.isnan(nea_with_M_and_R_cleaned.iloc[i]['pl_orbsmax']):\n",
    "        nea_with_M_and_R_cleaned.iloc[i]['pl_orbsmax'] = a_from_P(nea_with_M_and_R_cleaned.iloc[i]['st_mass'], nea_with_M_and_R_cleaned.iloc[i]['pl_orbper'])\n"
   ]
  },
  {
   "attachments": {},
   "cell_type": "markdown",
   "metadata": {},
   "source": [
    "Calculating Teq from \"a\" or \"P\" "
   ]
  },
  {
   "attachments": {},
   "cell_type": "markdown",
   "metadata": {},
   "source": [
    "Use teq_hellper_function function to determine Teq from \"a\" or \"P\" depending on their availability. Priority is given to \"a\""
   ]
  },
  {
   "cell_type": "code",
   "execution_count": 11,
   "metadata": {},
   "outputs": [
    {
     "name": "stderr",
     "output_type": "stream",
     "text": [
      "/tmp/ipykernel_1220650/293283582.py:2: SettingWithCopyWarning: \n",
      "A value is trying to be set on a copy of a slice from a DataFrame.\n",
      "Try using .loc[row_indexer,col_indexer] = value instead\n",
      "\n",
      "See the caveats in the documentation: https://pandas.pydata.org/pandas-docs/stable/user_guide/indexing.html#returning-a-view-versus-a-copy\n",
      "  nea_with_M_and_R_cleaned['Teq'] = 0\n"
     ]
    }
   ],
   "source": [
    "# Add new columns: Teq\n",
    "nea_with_M_and_R_cleaned['Teq'] = 0\n",
    "\n",
    "nea_with_M_and_R_cleaned = nea_with_M_and_R_cleaned.apply(lambda x: teq_hellper_function(x, 'pl_orbsmax', 'pl_orbper', 'st_teff', 'sy_vmag', 'sy_plx', 'st_mass', 'Teq'), axis = 1)"
   ]
  },
  {
   "cell_type": "code",
   "execution_count": 12,
   "metadata": {},
   "outputs": [
    {
     "data": {
      "text/html": [
       "<div>\n",
       "<style scoped>\n",
       "    .dataframe tbody tr th:only-of-type {\n",
       "        vertical-align: middle;\n",
       "    }\n",
       "\n",
       "    .dataframe tbody tr th {\n",
       "        vertical-align: top;\n",
       "    }\n",
       "\n",
       "    .dataframe thead th {\n",
       "        text-align: right;\n",
       "    }\n",
       "</style>\n",
       "<table border=\"1\" class=\"dataframe\">\n",
       "  <thead>\n",
       "    <tr style=\"text-align: right;\">\n",
       "      <th></th>\n",
       "      <th>pl_rade</th>\n",
       "      <th>pl_radeerr1</th>\n",
       "      <th>pl_radeerr2</th>\n",
       "      <th>pl_orbsmax</th>\n",
       "      <th>pl_bmasse</th>\n",
       "      <th>pl_masseerr1</th>\n",
       "      <th>pl_masseerr2</th>\n",
       "      <th>pl_orbper</th>\n",
       "      <th>sy_vmag</th>\n",
       "      <th>sy_plx</th>\n",
       "      <th>st_teff</th>\n",
       "      <th>st_mass</th>\n",
       "      <th>st_met</th>\n",
       "      <th>Teq</th>\n",
       "    </tr>\n",
       "  </thead>\n",
       "  <tbody>\n",
       "    <tr>\n",
       "      <th>555</th>\n",
       "      <td>21.196</td>\n",
       "      <td>0.684</td>\n",
       "      <td>-0.594</td>\n",
       "      <td>0.03462</td>\n",
       "      <td>915.35040</td>\n",
       "      <td>266.97720</td>\n",
       "      <td>-266.97720</td>\n",
       "      <td>1.481124e+00</td>\n",
       "      <td>7.55000</td>\n",
       "      <td>4.86254</td>\n",
       "      <td>10170.0</td>\n",
       "      <td>2.52</td>\n",
       "      <td>-0.03</td>\n",
       "      <td>0.0</td>\n",
       "    </tr>\n",
       "    <tr>\n",
       "      <th>711</th>\n",
       "      <td>20.288</td>\n",
       "      <td>1.009</td>\n",
       "      <td>-1.009</td>\n",
       "      <td>0.05580</td>\n",
       "      <td>527.59780</td>\n",
       "      <td>38.13960</td>\n",
       "      <td>-38.13960</td>\n",
       "      <td>3.344829e+00</td>\n",
       "      <td>9.94600</td>\n",
       "      <td>2.31187</td>\n",
       "      <td>9360.0</td>\n",
       "      <td>2.07</td>\n",
       "      <td>0.21</td>\n",
       "      <td>0.0</td>\n",
       "    </tr>\n",
       "    <tr>\n",
       "      <th>717</th>\n",
       "      <td>18.147</td>\n",
       "      <td>0.235</td>\n",
       "      <td>-0.235</td>\n",
       "      <td>0.05053</td>\n",
       "      <td>632.47853</td>\n",
       "      <td>50.85255</td>\n",
       "      <td>-44.49598</td>\n",
       "      <td>2.724033e+00</td>\n",
       "      <td>6.59776</td>\n",
       "      <td>9.99903</td>\n",
       "      <td>8000.0</td>\n",
       "      <td>2.03</td>\n",
       "      <td>0.29</td>\n",
       "      <td>0.0</td>\n",
       "    </tr>\n",
       "    <tr>\n",
       "      <th>1069</th>\n",
       "      <td>12.442</td>\n",
       "      <td>0.336</td>\n",
       "      <td>-0.336</td>\n",
       "      <td>7506.00000</td>\n",
       "      <td>2002.31896</td>\n",
       "      <td>476.74261</td>\n",
       "      <td>-603.87397</td>\n",
       "      <td>4.020000e+08</td>\n",
       "      <td>11.29800</td>\n",
       "      <td>91.82910</td>\n",
       "      <td>3406.0</td>\n",
       "      <td>0.37</td>\n",
       "      <td>0.00</td>\n",
       "      <td>1.0</td>\n",
       "    </tr>\n",
       "  </tbody>\n",
       "</table>\n",
       "</div>"
      ],
      "text/plain": [
       "      pl_rade  pl_radeerr1  pl_radeerr2  pl_orbsmax   pl_bmasse  pl_masseerr1  \\\n",
       "555    21.196        0.684       -0.594     0.03462   915.35040     266.97720   \n",
       "711    20.288        1.009       -1.009     0.05580   527.59780      38.13960   \n",
       "717    18.147        0.235       -0.235     0.05053   632.47853      50.85255   \n",
       "1069   12.442        0.336       -0.336  7506.00000  2002.31896     476.74261   \n",
       "\n",
       "      pl_masseerr2     pl_orbper   sy_vmag    sy_plx  st_teff  st_mass  \\\n",
       "555     -266.97720  1.481124e+00   7.55000   4.86254  10170.0     2.52   \n",
       "711      -38.13960  3.344829e+00   9.94600   2.31187   9360.0     2.07   \n",
       "717      -44.49598  2.724033e+00   6.59776   9.99903   8000.0     2.03   \n",
       "1069    -603.87397  4.020000e+08  11.29800  91.82910   3406.0     0.37   \n",
       "\n",
       "      st_met  Teq  \n",
       "555    -0.03  0.0  \n",
       "711     0.21  0.0  \n",
       "717     0.29  0.0  \n",
       "1069    0.00  1.0  "
      ]
     },
     "metadata": {},
     "output_type": "display_data"
    },
    {
     "name": "stdout",
     "output_type": "stream",
     "text": [
      "None\n"
     ]
    }
   ],
   "source": [
    "# very 'cool' planets\n",
    "print (display(nea_with_M_and_R_cleaned[nea_with_M_and_R_cleaned.Teq < 100]))\n",
    "\n",
    "#Some of the parameters used to calculate the Teq must be wrong. These objects should be removed\n",
    "\n",
    "nea_with_M_and_R_cleaned = nea_with_M_and_R_cleaned[nea_with_M_and_R_cleaned.Teq > 10]"
   ]
  },
  {
   "attachments": {},
   "cell_type": "markdown",
   "metadata": {},
   "source": [
    "### Selecting plaents with relatively high precision in Mass and Radius"
   ]
  },
  {
   "cell_type": "code",
   "execution_count": 13,
   "metadata": {},
   "outputs": [],
   "source": [
    "# calculating the mean errors of M and R\n",
    "nea_with_M_and_R_cleaned['pl_rade_err'] = (nea_with_M_and_R_cleaned['pl_radeerr1'] - nea_with_M_and_R_cleaned['pl_radeerr2'])/2\n",
    "nea_with_M_and_R_cleaned['pl_bmasse_err'] = (nea_with_M_and_R_cleaned['pl_masseerr1'] - nea_with_M_and_R_cleaned['pl_masseerr2'])/2"
   ]
  },
  {
   "cell_type": "code",
   "execution_count": 14,
   "metadata": {},
   "outputs": [
    {
     "name": "stdout",
     "output_type": "stream",
     "text": [
      "There are 781 precisely characterized planets in terms of Mass and Radius\n"
     ]
    }
   ],
   "source": [
    "M_threshold = 0.5\n",
    "R_threshold = 0.5\n",
    "precise_criteria = (nea_with_M_and_R_cleaned['pl_rade_err']/nea_with_M_and_R_cleaned['pl_rade'] < R_threshold) & (nea_with_M_and_R_cleaned['pl_bmasse_err']/nea_with_M_and_R_cleaned['pl_bmasse'] < M_threshold)\n",
    "nea_with_M_and_R_cleaned_accurate = nea_with_M_and_R_cleaned[precise_criteria]\n",
    "\n",
    "print (f'There are {len(nea_with_M_and_R_cleaned_accurate)} precisely characterized planets in terms of Mass and Radius')"
   ]
  },
  {
   "cell_type": "code",
   "execution_count": 15,
   "metadata": {},
   "outputs": [
    {
     "data": {
      "text/html": [
       "<div>\n",
       "<style scoped>\n",
       "    .dataframe tbody tr th:only-of-type {\n",
       "        vertical-align: middle;\n",
       "    }\n",
       "\n",
       "    .dataframe tbody tr th {\n",
       "        vertical-align: top;\n",
       "    }\n",
       "\n",
       "    .dataframe thead th {\n",
       "        text-align: right;\n",
       "    }\n",
       "</style>\n",
       "<table border=\"1\" class=\"dataframe\">\n",
       "  <thead>\n",
       "    <tr style=\"text-align: right;\">\n",
       "      <th></th>\n",
       "      <th>pl_rade</th>\n",
       "      <th>pl_bmasse</th>\n",
       "      <th>Teq</th>\n",
       "      <th>st_teff</th>\n",
       "      <th>pl_orbsmax</th>\n",
       "      <th>st_met</th>\n",
       "    </tr>\n",
       "  </thead>\n",
       "  <tbody>\n",
       "    <tr>\n",
       "      <th>4</th>\n",
       "      <td>16.870</td>\n",
       "      <td>271.74465</td>\n",
       "      <td>1744.0</td>\n",
       "      <td>5941.0</td>\n",
       "      <td>0.053500</td>\n",
       "      <td>0.164</td>\n",
       "    </tr>\n",
       "    <tr>\n",
       "      <th>5</th>\n",
       "      <td>21.633</td>\n",
       "      <td>352.79130</td>\n",
       "      <td>5466.0</td>\n",
       "      <td>6100.0</td>\n",
       "      <td>0.007337</td>\n",
       "      <td>-0.350</td>\n",
       "    </tr>\n",
       "  </tbody>\n",
       "</table>\n",
       "</div>"
      ],
      "text/plain": [
       "   pl_rade  pl_bmasse     Teq  st_teff  pl_orbsmax  st_met\n",
       "4   16.870  271.74465  1744.0   5941.0    0.053500   0.164\n",
       "5   21.633  352.79130  5466.0   6100.0    0.007337  -0.350"
      ]
     },
     "execution_count": 15,
     "metadata": {},
     "output_type": "execute_result"
    }
   ],
   "source": [
    "# Final table with Mass, Radius, and Teq\n",
    "nea_MR_final_table = nea_with_M_and_R_cleaned_accurate[['pl_rade', 'pl_bmasse', 'Teq', 'st_teff', 'pl_orbsmax', 'st_met']]\n",
    "nea_MR_final_table.head(2)"
   ]
  },
  {
   "attachments": {},
   "cell_type": "markdown",
   "metadata": {},
   "source": [
    "# Starting the Machine Learning part"
   ]
  },
  {
   "attachments": {},
   "cell_type": "markdown",
   "metadata": {},
   "source": [
    "Since the accuracy of Mass estimation is not critical, I'll make things simple (but still keeping the state-of-the-art): \n",
    "\n",
    "Use Random Forest regressor and tune HyperParameters with \"optuna\" (sometimes better than grid_search see e.g. [this](https://medium.com/mlearning-ai/hyper-parameter-tuning-through-grid-search-and-optuna-2bd89a2ece06)"
   ]
  },
  {
   "cell_type": "code",
   "execution_count": 16,
   "metadata": {},
   "outputs": [],
   "source": [
    "import matplotlib.pyplot as plt\n",
    "import seaborn as sns\n",
    "%matplotlib inline"
   ]
  },
  {
   "attachments": {},
   "cell_type": "markdown",
   "metadata": {},
   "source": [
    "### Displaying the data"
   ]
  },
  {
   "cell_type": "code",
   "execution_count": 17,
   "metadata": {},
   "outputs": [
    {
     "data": {
      "image/png": "[encoded data removed]",
      "text/plain": [
       "<Figure size 576x432 with 1 Axes>"
      ]
     },
     "metadata": {
      "needs_background": "light"
     },
     "output_type": "display_data"
    }
   ],
   "source": [
    "fig = plt.figure(1, figsize = (8,6))\n",
    "ax = plt.subplot(1,1,1)\n",
    "MR_plot(ax, nea_MR_final_table.pl_bmasse, nea_MR_final_table.pl_rade, color = nea_MR_final_table['Teq'], label = 'MR data')"
   ]
  },
  {
   "cell_type": "code",
   "execution_count": 18,
   "metadata": {},
   "outputs": [
    {
     "data": {
      "image/png": "[encoded data removed]",
      "text/plain": [
       "<Figure size 1440x432 with 6 Axes>"
      ]
     },
     "metadata": {
      "needs_background": "light"
     },
     "output_type": "display_data"
    }
   ],
   "source": [
    "fig = plt.figure(2, figsize = (20,6))\n",
    "ax = plt.gca()\n",
    "\n",
    "for i, col  in enumerate(nea_MR_final_table.columns):\n",
    "    ax = plt.subplot(1, 6, i+1)\n",
    "    if nea_MR_final_table[col].max() / nea_MR_final_table[col].min() > 1e3:\n",
    "        ax.hist(np.log10(nea_MR_final_table[col]))\n",
    "        ax.set_xlabel(f'log10({col})', fontsize = 15)\n",
    "    else:\n",
    "        ax.hist((nea_MR_final_table[col]))\n",
    "        ax.set_xlabel(col, fontsize = 15)"
   ]
  },
  {
   "cell_type": "markdown",
   "metadata": {},
   "source": [
    "Some of the parameters, including planetary Masses, have very wide distribution. Several parameters do not show symmetric distribution"
   ]
  },
  {
   "cell_type": "code",
   "execution_count": 19,
   "metadata": {},
   "outputs": [],
   "source": [
    "from sklearn.model_selection import train_test_split, cross_val_score, learning_curve, GridSearchCV\n",
    "from sklearn.metrics import mean_squared_error, mean_absolute_error\n",
    "\n",
    "from sklearn.ensemble import RandomForestRegressor"
   ]
  },
  {
   "cell_type": "markdown",
   "metadata": {},
   "source": [
    "Selecting our target variable ( y = planetary mass) and the input features (X =[Teff, metallicity, radius, orbital semi-major axis, Teq])"
   ]
  },
  {
   "cell_type": "code",
   "execution_count": 20,
   "metadata": {},
   "outputs": [],
   "source": [
    "y = nea_MR_final_table['pl_bmasse']\n",
    "X = nea_MR_final_table.drop(columns = ['pl_bmasse'])"
   ]
  },
  {
   "cell_type": "markdown",
   "metadata": {},
   "source": [
    "### Tuning the hyperparameters using Optuna and fitting the data"
   ]
  },
  {
   "cell_type": "code",
   "execution_count": 21,
   "metadata": {},
   "outputs": [
    {
     "name": "stdout",
     "output_type": "stream",
     "text": [
      "The base MAE score from the training set is 240\n"
     ]
    },
    {
     "name": "stderr",
     "output_type": "stream",
     "text": [
      "\u001b[32m[I 2023-07-13 17:14:52,215]\u001b[0m A new study created in memory with name: no-name-7560782c-767a-408e-9436-418f43246080\u001b[0m\n",
      "\u001b[32m[I 2023-07-13 17:14:52,539]\u001b[0m Trial 0 finished with value: 242.7988599572393 and parameters: {'n_estimators': 20, 'max_depth': 10, 'min_samples_split': 6, 'max_features': 5}. Best is trial 0 with value: 242.7988599572393.\u001b[0m\n",
      "\u001b[32m[I 2023-07-13 17:14:53,721]\u001b[0m Trial 1 finished with value: 246.23221531498461 and parameters: {'n_estimators': 120, 'max_depth': 4, 'min_samples_split': 3, 'max_features': 4}. Best is trial 0 with value: 242.7988599572393.\u001b[0m\n",
      "\u001b[32m[I 2023-07-13 17:14:53,904]\u001b[0m Trial 2 finished with value: 261.68417684918353 and parameters: {'n_estimators': 20, 'max_depth': 3, 'min_samples_split': 6, 'max_features': 2}. Best is trial 0 with value: 242.7988599572393.\u001b[0m\n",
      "\u001b[32m[I 2023-07-13 17:14:54,734]\u001b[0m Trial 3 finished with value: 265.1053644996907 and parameters: {'n_estimators': 100, 'max_depth': 3, 'min_samples_split': 3, 'max_features': 2}. Best is trial 0 with value: 242.7988599572393.\u001b[0m\n",
      "\u001b[32m[I 2023-07-13 17:14:54,967]\u001b[0m Trial 4 finished with value: 245.41158010586838 and parameters: {'n_estimators': 20, 'max_depth': 6, 'min_samples_split': 2, 'max_features': 3}. Best is trial 0 with value: 242.7988599572393.\u001b[0m\n",
      "\u001b[32m[I 2023-07-13 17:14:56,949]\u001b[0m Trial 5 finished with value: 239.44607963592534 and parameters: {'n_estimators': 140, 'max_depth': 8, 'min_samples_split': 4, 'max_features': 5}. Best is trial 5 with value: 239.44607963592534.\u001b[0m\n",
      "\u001b[32m[I 2023-07-13 17:14:57,650]\u001b[0m Trial 6 finished with value: 245.682197796244 and parameters: {'n_estimators': 60, 'max_depth': 5, 'min_samples_split': 6, 'max_features': 5}. Best is trial 5 with value: 239.44607963592534.\u001b[0m\n",
      "\u001b[32m[I 2023-07-13 17:14:58,167]\u001b[0m Trial 7 finished with value: 256.20020835967756 and parameters: {'n_estimators': 60, 'max_depth': 3, 'min_samples_split': 6, 'max_features': 3}. Best is trial 5 with value: 239.44607963592534.\u001b[0m\n",
      "\u001b[32m[I 2023-07-13 17:14:59,365]\u001b[0m Trial 8 finished with value: 239.4549192959017 and parameters: {'n_estimators': 100, 'max_depth': 7, 'min_samples_split': 4, 'max_features': 4}. Best is trial 5 with value: 239.44607963592534.\u001b[0m\n",
      "\u001b[32m[I 2023-07-13 17:15:00,669]\u001b[0m Trial 9 finished with value: 263.09591225279837 and parameters: {'n_estimators': 160, 'max_depth': 2, 'min_samples_split': 5, 'max_features': 3}. Best is trial 5 with value: 239.44607963592534.\u001b[0m\n",
      "\u001b[32m[I 2023-07-13 17:15:03,844]\u001b[0m Trial 10 finished with value: 240.44242126876128 and parameters: {'n_estimators': 200, 'max_depth': 9, 'min_samples_split': 4, 'max_features': 5}. Best is trial 5 with value: 239.44607963592534.\u001b[0m\n",
      "\u001b[32m[I 2023-07-13 17:15:05,751]\u001b[0m Trial 11 finished with value: 241.2131298531561 and parameters: {'n_estimators': 140, 'max_depth': 8, 'min_samples_split': 4, 'max_features': 4}. Best is trial 5 with value: 239.44607963592534.\u001b[0m\n",
      "\u001b[32m[I 2023-07-13 17:15:08,117]\u001b[0m Trial 12 finished with value: 237.9620391060692 and parameters: {'n_estimators': 180, 'max_depth': 7, 'min_samples_split': 3, 'max_features': 4}. Best is trial 12 with value: 237.9620391060692.\u001b[0m\n",
      "\u001b[32m[I 2023-07-13 17:15:10,825]\u001b[0m Trial 13 finished with value: 237.2933173083632 and parameters: {'n_estimators': 200, 'max_depth': 7, 'min_samples_split': 3, 'max_features': 5}. Best is trial 13 with value: 237.2933173083632.\u001b[0m\n",
      "\u001b[32m[I 2023-07-13 17:15:13,418]\u001b[0m Trial 14 finished with value: 240.41317285449253 and parameters: {'n_estimators': 200, 'max_depth': 6, 'min_samples_split': 2, 'max_features': 4}. Best is trial 13 with value: 237.2933173083632.\u001b[0m\n",
      "\u001b[32m[I 2023-07-13 17:15:16,579]\u001b[0m Trial 15 finished with value: 237.42892375209644 and parameters: {'n_estimators': 180, 'max_depth': 7, 'min_samples_split': 3, 'max_features': 5}. Best is trial 13 with value: 237.2933173083632.\u001b[0m\n",
      "\u001b[32m[I 2023-07-13 17:15:18,845]\u001b[0m Trial 16 finished with value: 242.99534548487608 and parameters: {'n_estimators': 180, 'max_depth': 5, 'min_samples_split': 3, 'max_features': 5}. Best is trial 13 with value: 237.2933173083632.\u001b[0m\n",
      "\u001b[32m[I 2023-07-13 17:15:21,679]\u001b[0m Trial 17 finished with value: 237.56219114910817 and parameters: {'n_estimators': 180, 'max_depth': 8, 'min_samples_split': 2, 'max_features': 5}. Best is trial 13 with value: 237.2933173083632.\u001b[0m\n",
      "\u001b[32m[I 2023-07-13 17:15:24,602]\u001b[0m Trial 18 finished with value: 241.3356228785401 and parameters: {'n_estimators': 160, 'max_depth': 10, 'min_samples_split': 5, 'max_features': 5}. Best is trial 13 with value: 237.2933173083632.\u001b[0m\n",
      "\u001b[32m[I 2023-07-13 17:15:27,715]\u001b[0m Trial 19 finished with value: 237.85728592835457 and parameters: {'n_estimators': 200, 'max_depth': 7, 'min_samples_split': 3, 'max_features': 4}. Best is trial 13 with value: 237.2933173083632.\u001b[0m\n",
      "\u001b[32m[I 2023-07-13 17:15:30,554]\u001b[0m Trial 20 finished with value: 242.11606911047642 and parameters: {'n_estimators': 160, 'max_depth': 6, 'min_samples_split': 5, 'max_features': 5}. Best is trial 13 with value: 237.2933173083632.\u001b[0m\n",
      "\u001b[32m[I 2023-07-13 17:15:33,259]\u001b[0m Trial 21 finished with value: 237.56219114910817 and parameters: {'n_estimators': 180, 'max_depth': 8, 'min_samples_split': 2, 'max_features': 5}. Best is trial 13 with value: 237.2933173083632.\u001b[0m\n",
      "\u001b[32m[I 2023-07-13 17:15:35,839]\u001b[0m Trial 22 finished with value: 237.34277419415457 and parameters: {'n_estimators': 180, 'max_depth': 9, 'min_samples_split': 2, 'max_features': 5}. Best is trial 13 with value: 237.2933173083632.\u001b[0m\n",
      "\u001b[32m[I 2023-07-13 17:15:37,975]\u001b[0m Trial 23 finished with value: 237.8008828185172 and parameters: {'n_estimators': 140, 'max_depth': 9, 'min_samples_split': 2, 'max_features': 5}. Best is trial 13 with value: 237.2933173083632.\u001b[0m\n",
      "\u001b[32m[I 2023-07-13 17:15:41,432]\u001b[0m Trial 24 finished with value: 238.37106747223956 and parameters: {'n_estimators': 200, 'max_depth': 9, 'min_samples_split': 3, 'max_features': 4}. Best is trial 13 with value: 237.2933173083632.\u001b[0m\n",
      "\u001b[32m[I 2023-07-13 17:15:44,400]\u001b[0m Trial 25 finished with value: 236.1498772166001 and parameters: {'n_estimators': 160, 'max_depth': 7, 'min_samples_split': 2, 'max_features': 5}. Best is trial 25 with value: 236.1498772166001.\u001b[0m\n",
      "\u001b[32m[I 2023-07-13 17:15:46,016]\u001b[0m Trial 26 finished with value: 239.11596761733807 and parameters: {'n_estimators': 120, 'max_depth': 5, 'min_samples_split': 2, 'max_features': 4}. Best is trial 25 with value: 236.1498772166001.\u001b[0m\n",
      "\u001b[32m[I 2023-07-13 17:15:48,668]\u001b[0m Trial 27 finished with value: 237.2966421434221 and parameters: {'n_estimators': 160, 'max_depth': 9, 'min_samples_split': 2, 'max_features': 5}. Best is trial 25 with value: 236.1498772166001.\u001b[0m\n",
      "\u001b[32m[I 2023-07-13 17:15:51,619]\u001b[0m Trial 28 finished with value: 240.7893450173357 and parameters: {'n_estimators': 160, 'max_depth': 10, 'min_samples_split': 2, 'max_features': 3}. Best is trial 25 with value: 236.1498772166001.\u001b[0m\n",
      "\u001b[32m[I 2023-07-13 17:15:53,281]\u001b[0m Trial 29 finished with value: 239.59660633152663 and parameters: {'n_estimators': 80, 'max_depth': 10, 'min_samples_split': 3, 'max_features': 5}. Best is trial 25 with value: 236.1498772166001.\u001b[0m\n",
      "\u001b[32m[I 2023-07-13 17:15:55,632]\u001b[0m Trial 30 finished with value: 237.90043899039037 and parameters: {'n_estimators': 140, 'max_depth': 6, 'min_samples_split': 2, 'max_features': 5}. Best is trial 25 with value: 236.1498772166001.\u001b[0m\n",
      "\u001b[32m[I 2023-07-13 17:15:58,742]\u001b[0m Trial 31 finished with value: 237.2966421434221 and parameters: {'n_estimators': 160, 'max_depth': 9, 'min_samples_split': 2, 'max_features': 5}. Best is trial 25 with value: 236.1498772166001.\u001b[0m\n",
      "\u001b[32m[I 2023-07-13 17:16:00,769]\u001b[0m Trial 32 finished with value: 238.6344075120174 and parameters: {'n_estimators': 120, 'max_depth': 8, 'min_samples_split': 2, 'max_features': 5}. Best is trial 25 with value: 236.1498772166001.\u001b[0m\n",
      "\u001b[32m[I 2023-07-13 17:16:03,523]\u001b[0m Trial 33 finished with value: 238.5245339861915 and parameters: {'n_estimators': 160, 'max_depth': 9, 'min_samples_split': 3, 'max_features': 5}. Best is trial 25 with value: 236.1498772166001.\u001b[0m\n",
      "\u001b[32m[I 2023-07-13 17:16:05,167]\u001b[0m Trial 34 finished with value: 237.98348647413331 and parameters: {'n_estimators': 120, 'max_depth': 7, 'min_samples_split': 2, 'max_features': 4}. Best is trial 25 with value: 236.1498772166001.\u001b[0m\n",
      "\u001b[32m[I 2023-07-13 17:16:07,506]\u001b[0m Trial 35 finished with value: 240.17436631431787 and parameters: {'n_estimators': 140, 'max_depth': 10, 'min_samples_split': 3, 'max_features': 5}. Best is trial 25 with value: 236.1498772166001.\u001b[0m\n",
      "\u001b[32m[I 2023-07-13 17:16:09,254]\u001b[0m Trial 36 finished with value: 240.598728127014 and parameters: {'n_estimators': 160, 'max_depth': 8, 'min_samples_split': 2, 'max_features': 2}. Best is trial 25 with value: 236.1498772166001.\u001b[0m\n",
      "\u001b[32m[I 2023-07-13 17:16:12,600]\u001b[0m Trial 37 finished with value: 237.94973516787326 and parameters: {'n_estimators': 200, 'max_depth': 9, 'min_samples_split': 2, 'max_features': 5}. Best is trial 25 with value: 236.1498772166001.\u001b[0m\n",
      "\u001b[32m[I 2023-07-13 17:16:14,204]\u001b[0m Trial 38 finished with value: 238.85562462061245 and parameters: {'n_estimators': 100, 'max_depth': 7, 'min_samples_split': 3, 'max_features': 4}. Best is trial 25 with value: 236.1498772166001.\u001b[0m\n",
      "\u001b[32m[I 2023-07-13 17:16:15,020]\u001b[0m Trial 39 finished with value: 238.27120331458894 and parameters: {'n_estimators': 40, 'max_depth': 8, 'min_samples_split': 2, 'max_features': 5}. Best is trial 25 with value: 236.1498772166001.\u001b[0m\n",
      "\u001b[32m[I 2023-07-13 17:16:16,847]\u001b[0m Trial 40 finished with value: 245.59028173853488 and parameters: {'n_estimators': 140, 'max_depth': 4, 'min_samples_split': 3, 'max_features': 5}. Best is trial 25 with value: 236.1498772166001.\u001b[0m\n",
      "\u001b[32m[I 2023-07-13 17:16:19,602]\u001b[0m Trial 41 finished with value: 237.34277419415457 and parameters: {'n_estimators': 180, 'max_depth': 9, 'min_samples_split': 2, 'max_features': 5}. Best is trial 25 with value: 236.1498772166001.\u001b[0m\n",
      "\u001b[32m[I 2023-07-13 17:16:22,251]\u001b[0m Trial 42 finished with value: 237.34277419415457 and parameters: {'n_estimators': 180, 'max_depth': 9, 'min_samples_split': 2, 'max_features': 5}. Best is trial 25 with value: 236.1498772166001.\u001b[0m\n",
      "\u001b[32m[I 2023-07-13 17:16:25,046]\u001b[0m Trial 43 finished with value: 238.77070500699037 and parameters: {'n_estimators': 160, 'max_depth': 10, 'min_samples_split': 2, 'max_features': 5}. Best is trial 25 with value: 236.1498772166001.\u001b[0m\n",
      "\u001b[32m[I 2023-07-13 17:16:28,172]\u001b[0m Trial 44 finished with value: 237.94973516787326 and parameters: {'n_estimators': 200, 'max_depth': 9, 'min_samples_split': 2, 'max_features': 5}. Best is trial 25 with value: 236.1498772166001.\u001b[0m\n",
      "\u001b[32m[I 2023-07-13 17:16:30,220]\u001b[0m Trial 45 finished with value: 241.76655021980406 and parameters: {'n_estimators': 180, 'max_depth': 8, 'min_samples_split': 3, 'max_features': 2}. Best is trial 25 with value: 236.1498772166001.\u001b[0m\n",
      "\u001b[32m[I 2023-07-13 17:16:32,931]\u001b[0m Trial 46 finished with value: 243.2052370891638 and parameters: {'n_estimators': 200, 'max_depth': 6, 'min_samples_split': 4, 'max_features': 4}. Best is trial 25 with value: 236.1498772166001.\u001b[0m\n",
      "\u001b[32m[I 2023-07-13 17:16:35,000]\u001b[0m Trial 47 finished with value: 238.22190021167052 and parameters: {'n_estimators': 160, 'max_depth': 8, 'min_samples_split': 2, 'max_features': 3}. Best is trial 25 with value: 236.1498772166001.\u001b[0m\n",
      "\u001b[32m[I 2023-07-13 17:16:37,969]\u001b[0m Trial 48 finished with value: 236.67826727874808 and parameters: {'n_estimators': 180, 'max_depth': 7, 'min_samples_split': 2, 'max_features': 5}. Best is trial 25 with value: 236.1498772166001.\u001b[0m\n",
      "\u001b[32m[I 2023-07-13 17:16:40,260]\u001b[0m Trial 49 finished with value: 244.2061002552823 and parameters: {'n_estimators': 140, 'max_depth': 5, 'min_samples_split': 4, 'max_features': 5}. Best is trial 25 with value: 236.1498772166001.\u001b[0m\n",
      "\u001b[32m[I 2023-07-13 17:16:41,602]\u001b[0m Trial 50 finished with value: 240.55132150762952 and parameters: {'n_estimators': 80, 'max_depth': 6, 'min_samples_split': 4, 'max_features': 5}. Best is trial 25 with value: 236.1498772166001.\u001b[0m\n",
      "\u001b[32m[I 2023-07-13 17:16:44,447]\u001b[0m Trial 51 finished with value: 236.67826727874808 and parameters: {'n_estimators': 180, 'max_depth': 7, 'min_samples_split': 2, 'max_features': 5}. Best is trial 25 with value: 236.1498772166001.\u001b[0m\n",
      "\u001b[32m[I 2023-07-13 17:16:47,582]\u001b[0m Trial 52 finished with value: 236.67826727874808 and parameters: {'n_estimators': 180, 'max_depth': 7, 'min_samples_split': 2, 'max_features': 5}. Best is trial 25 with value: 236.1498772166001.\u001b[0m\n",
      "\u001b[32m[I 2023-07-13 17:16:50,207]\u001b[0m Trial 53 finished with value: 236.67826727874808 and parameters: {'n_estimators': 180, 'max_depth': 7, 'min_samples_split': 2, 'max_features': 5}. Best is trial 25 with value: 236.1498772166001.\u001b[0m\n",
      "\u001b[32m[I 2023-07-13 17:16:52,814]\u001b[0m Trial 54 finished with value: 236.72667562221218 and parameters: {'n_estimators': 200, 'max_depth': 7, 'min_samples_split': 2, 'max_features': 5}. Best is trial 25 with value: 236.1498772166001.\u001b[0m\n",
      "\u001b[32m[I 2023-07-13 17:16:55,131]\u001b[0m Trial 55 finished with value: 236.67826727874808 and parameters: {'n_estimators': 180, 'max_depth': 7, 'min_samples_split': 2, 'max_features': 5}. Best is trial 25 with value: 236.1498772166001.\u001b[0m\n",
      "\u001b[32m[I 2023-07-13 17:16:57,545]\u001b[0m Trial 56 finished with value: 236.67826727874808 and parameters: {'n_estimators': 180, 'max_depth': 7, 'min_samples_split': 2, 'max_features': 5}. Best is trial 25 with value: 236.1498772166001.\u001b[0m\n",
      "\u001b[32m[I 2023-07-13 17:16:59,537]\u001b[0m Trial 57 finished with value: 241.00467030151532 and parameters: {'n_estimators': 180, 'max_depth': 6, 'min_samples_split': 2, 'max_features': 4}. Best is trial 25 with value: 236.1498772166001.\u001b[0m\n",
      "\u001b[32m[I 2023-07-13 17:17:02,055]\u001b[0m Trial 58 finished with value: 240.7165107331221 and parameters: {'n_estimators': 180, 'max_depth': 7, 'min_samples_split': 6, 'max_features': 5}. Best is trial 25 with value: 236.1498772166001.\u001b[0m\n",
      "\u001b[32m[I 2023-07-13 17:17:04,607]\u001b[0m Trial 59 finished with value: 240.41317285449253 and parameters: {'n_estimators': 200, 'max_depth': 6, 'min_samples_split': 2, 'max_features': 4}. Best is trial 25 with value: 236.1498772166001.\u001b[0m\n",
      "\u001b[32m[I 2023-07-13 17:17:07,225]\u001b[0m Trial 60 finished with value: 240.9223749080516 and parameters: {'n_estimators': 180, 'max_depth': 7, 'min_samples_split': 5, 'max_features': 5}. Best is trial 25 with value: 236.1498772166001.\u001b[0m\n",
      "\u001b[32m[I 2023-07-13 17:17:09,949]\u001b[0m Trial 61 finished with value: 236.67826727874808 and parameters: {'n_estimators': 180, 'max_depth': 7, 'min_samples_split': 2, 'max_features': 5}. Best is trial 25 with value: 236.1498772166001.\u001b[0m\n",
      "\u001b[32m[I 2023-07-13 17:17:12,738]\u001b[0m Trial 62 finished with value: 236.67826727874808 and parameters: {'n_estimators': 180, 'max_depth': 7, 'min_samples_split': 2, 'max_features': 5}. Best is trial 25 with value: 236.1498772166001.\u001b[0m\n",
      "\u001b[32m[I 2023-07-13 17:17:16,017]\u001b[0m Trial 63 finished with value: 236.72667562221218 and parameters: {'n_estimators': 200, 'max_depth': 7, 'min_samples_split': 2, 'max_features': 5}. Best is trial 25 with value: 236.1498772166001.\u001b[0m\n",
      "\u001b[32m[I 2023-07-13 17:17:18,305]\u001b[0m Trial 64 finished with value: 238.20104942325474 and parameters: {'n_estimators': 180, 'max_depth': 6, 'min_samples_split': 2, 'max_features': 5}. Best is trial 25 with value: 236.1498772166001.\u001b[0m\n",
      "\u001b[32m[I 2023-07-13 17:17:20,653]\u001b[0m Trial 65 finished with value: 236.1498772166001 and parameters: {'n_estimators': 160, 'max_depth': 7, 'min_samples_split': 2, 'max_features': 5}. Best is trial 25 with value: 236.1498772166001.\u001b[0m\n",
      "\u001b[32m[I 2023-07-13 17:17:23,077]\u001b[0m Trial 66 finished with value: 237.48156632355753 and parameters: {'n_estimators': 160, 'max_depth': 8, 'min_samples_split': 2, 'max_features': 5}. Best is trial 25 with value: 236.1498772166001.\u001b[0m\n",
      "\u001b[32m[I 2023-07-13 17:17:25,242]\u001b[0m Trial 67 finished with value: 239.11274426627423 and parameters: {'n_estimators': 160, 'max_depth': 6, 'min_samples_split': 3, 'max_features': 5}. Best is trial 25 with value: 236.1498772166001.\u001b[0m\n",
      "\u001b[32m[I 2023-07-13 17:17:26,781]\u001b[0m Trial 68 finished with value: 256.77525354222183 and parameters: {'n_estimators': 160, 'max_depth': 2, 'min_samples_split': 2, 'max_features': 5}. Best is trial 25 with value: 236.1498772166001.\u001b[0m\n",
      "\u001b[32m[I 2023-07-13 17:17:28,646]\u001b[0m Trial 69 finished with value: 236.47435076973528 and parameters: {'n_estimators': 140, 'max_depth': 7, 'min_samples_split': 2, 'max_features': 5}. Best is trial 25 with value: 236.1498772166001.\u001b[0m\n",
      "\u001b[32m[I 2023-07-13 17:17:30,404]\u001b[0m Trial 70 finished with value: 239.34833990366633 and parameters: {'n_estimators': 140, 'max_depth': 6, 'min_samples_split': 3, 'max_features': 5}. Best is trial 25 with value: 236.1498772166001.\u001b[0m\n",
      "\u001b[32m[I 2023-07-13 17:17:32,566]\u001b[0m Trial 71 finished with value: 236.1498772166001 and parameters: {'n_estimators': 160, 'max_depth': 7, 'min_samples_split': 2, 'max_features': 5}. Best is trial 25 with value: 236.1498772166001.\u001b[0m\n",
      "\u001b[32m[I 2023-07-13 17:17:34,721]\u001b[0m Trial 72 finished with value: 236.1498772166001 and parameters: {'n_estimators': 160, 'max_depth': 7, 'min_samples_split': 2, 'max_features': 5}. Best is trial 25 with value: 236.1498772166001.\u001b[0m\n",
      "\u001b[32m[I 2023-07-13 17:17:36,917]\u001b[0m Trial 73 finished with value: 237.48156632355753 and parameters: {'n_estimators': 160, 'max_depth': 8, 'min_samples_split': 2, 'max_features': 5}. Best is trial 25 with value: 236.1498772166001.\u001b[0m\n",
      "\u001b[32m[I 2023-07-13 17:17:38,753]\u001b[0m Trial 74 finished with value: 236.47435076973528 and parameters: {'n_estimators': 140, 'max_depth': 7, 'min_samples_split': 2, 'max_features': 5}. Best is trial 25 with value: 236.1498772166001.\u001b[0m\n",
      "\u001b[32m[I 2023-07-13 17:17:40,462]\u001b[0m Trial 75 finished with value: 236.47435076973528 and parameters: {'n_estimators': 140, 'max_depth': 7, 'min_samples_split': 2, 'max_features': 5}. Best is trial 25 with value: 236.1498772166001.\u001b[0m\n",
      "\u001b[32m[I 2023-07-13 17:17:42,388]\u001b[0m Trial 76 finished with value: 238.46162959325812 and parameters: {'n_estimators': 140, 'max_depth': 8, 'min_samples_split': 2, 'max_features': 5}. Best is trial 25 with value: 236.1498772166001.\u001b[0m\n",
      "\u001b[32m[I 2023-07-13 17:17:43,928]\u001b[0m Trial 77 finished with value: 236.05656498429713 and parameters: {'n_estimators': 120, 'max_depth': 7, 'min_samples_split': 2, 'max_features': 5}. Best is trial 77 with value: 236.05656498429713.\u001b[0m\n",
      "\u001b[32m[I 2023-07-13 17:17:45,170]\u001b[0m Trial 78 finished with value: 240.98733007361733 and parameters: {'n_estimators': 120, 'max_depth': 6, 'min_samples_split': 2, 'max_features': 4}. Best is trial 77 with value: 236.05656498429713.\u001b[0m\n",
      "\u001b[32m[I 2023-07-13 17:17:46,672]\u001b[0m Trial 79 finished with value: 236.05656498429713 and parameters: {'n_estimators': 120, 'max_depth': 7, 'min_samples_split': 2, 'max_features': 5}. Best is trial 77 with value: 236.05656498429713.\u001b[0m\n",
      "\u001b[32m[I 2023-07-13 17:17:47,879]\u001b[0m Trial 80 finished with value: 236.25094810180116 and parameters: {'n_estimators': 100, 'max_depth': 8, 'min_samples_split': 3, 'max_features': 5}. Best is trial 77 with value: 236.05656498429713.\u001b[0m\n",
      "\u001b[32m[I 2023-07-13 17:17:49,054]\u001b[0m Trial 81 finished with value: 236.25094810180116 and parameters: {'n_estimators': 100, 'max_depth': 8, 'min_samples_split': 3, 'max_features': 5}. Best is trial 77 with value: 236.05656498429713.\u001b[0m\n",
      "\u001b[32m[I 2023-07-13 17:17:50,164]\u001b[0m Trial 82 finished with value: 236.25094810180116 and parameters: {'n_estimators': 100, 'max_depth': 8, 'min_samples_split': 3, 'max_features': 5}. Best is trial 77 with value: 236.05656498429713.\u001b[0m\n",
      "\u001b[32m[I 2023-07-13 17:17:51,270]\u001b[0m Trial 83 finished with value: 236.25094810180116 and parameters: {'n_estimators': 100, 'max_depth': 8, 'min_samples_split': 3, 'max_features': 5}. Best is trial 77 with value: 236.05656498429713.\u001b[0m\n",
      "\u001b[32m[I 2023-07-13 17:17:52,186]\u001b[0m Trial 84 finished with value: 236.9212716708036 and parameters: {'n_estimators': 80, 'max_depth': 8, 'min_samples_split': 3, 'max_features': 5}. Best is trial 77 with value: 236.05656498429713.\u001b[0m\n",
      "\u001b[32m[I 2023-07-13 17:17:53,446]\u001b[0m Trial 85 finished with value: 236.25094810180116 and parameters: {'n_estimators': 100, 'max_depth': 8, 'min_samples_split': 3, 'max_features': 5}. Best is trial 77 with value: 236.05656498429713.\u001b[0m\n",
      "\u001b[32m[I 2023-07-13 17:17:54,653]\u001b[0m Trial 86 finished with value: 241.62220915775634 and parameters: {'n_estimators': 100, 'max_depth': 8, 'min_samples_split': 3, 'max_features': 3}. Best is trial 77 with value: 236.05656498429713.\u001b[0m\n",
      "\u001b[32m[I 2023-07-13 17:17:56,135]\u001b[0m Trial 87 finished with value: 237.5132913879217 and parameters: {'n_estimators': 120, 'max_depth': 8, 'min_samples_split': 3, 'max_features': 5}. Best is trial 77 with value: 236.05656498429713.\u001b[0m\n",
      "\u001b[32m[I 2023-07-13 17:17:57,245]\u001b[0m Trial 88 finished with value: 236.9212716708036 and parameters: {'n_estimators': 80, 'max_depth': 8, 'min_samples_split': 3, 'max_features': 5}. Best is trial 77 with value: 236.05656498429713.\u001b[0m\n",
      "\u001b[32m[I 2023-07-13 17:17:58,429]\u001b[0m Trial 89 finished with value: 238.5982811435254 and parameters: {'n_estimators': 100, 'max_depth': 8, 'min_samples_split': 4, 'max_features': 5}. Best is trial 77 with value: 236.05656498429713.\u001b[0m\n",
      "\u001b[32m[I 2023-07-13 17:18:00,080]\u001b[0m Trial 90 finished with value: 237.73630168347137 and parameters: {'n_estimators': 120, 'max_depth': 7, 'min_samples_split': 3, 'max_features': 5}. Best is trial 77 with value: 236.05656498429713.\u001b[0m\n",
      "\u001b[32m[I 2023-07-13 17:18:01,578]\u001b[0m Trial 91 finished with value: 236.25094810180116 and parameters: {'n_estimators': 100, 'max_depth': 8, 'min_samples_split': 3, 'max_features': 5}. Best is trial 77 with value: 236.05656498429713.\u001b[0m\n",
      "\u001b[32m[I 2023-07-13 17:18:03,342]\u001b[0m Trial 92 finished with value: 236.25094810180116 and parameters: {'n_estimators': 100, 'max_depth': 8, 'min_samples_split': 3, 'max_features': 5}. Best is trial 77 with value: 236.05656498429713.\u001b[0m\n",
      "\u001b[32m[I 2023-07-13 17:18:04,651]\u001b[0m Trial 93 finished with value: 237.65016898064786 and parameters: {'n_estimators': 80, 'max_depth': 9, 'min_samples_split': 3, 'max_features': 5}. Best is trial 77 with value: 236.05656498429713.\u001b[0m\n",
      "\u001b[32m[I 2023-07-13 17:18:06,270]\u001b[0m Trial 94 finished with value: 238.5982811435254 and parameters: {'n_estimators': 100, 'max_depth': 8, 'min_samples_split': 4, 'max_features': 5}. Best is trial 77 with value: 236.05656498429713.\u001b[0m\n",
      "\u001b[32m[I 2023-07-13 17:18:07,882]\u001b[0m Trial 95 finished with value: 242.28152455127224 and parameters: {'n_estimators': 120, 'max_depth': 8, 'min_samples_split': 3, 'max_features': 2}. Best is trial 77 with value: 236.05656498429713.\u001b[0m\n",
      "\u001b[32m[I 2023-07-13 17:18:09,722]\u001b[0m Trial 96 finished with value: 237.12162933122104 and parameters: {'n_estimators': 100, 'max_depth': 7, 'min_samples_split': 3, 'max_features': 5}. Best is trial 77 with value: 236.05656498429713.\u001b[0m\n",
      "\u001b[32m[I 2023-07-13 17:18:11,398]\u001b[0m Trial 97 finished with value: 237.73630168347137 and parameters: {'n_estimators': 120, 'max_depth': 7, 'min_samples_split': 3, 'max_features': 5}. Best is trial 77 with value: 236.05656498429713.\u001b[0m\n",
      "\u001b[32m[I 2023-07-13 17:18:12,303]\u001b[0m Trial 98 finished with value: 238.76371730071475 and parameters: {'n_estimators': 60, 'max_depth': 7, 'min_samples_split': 4, 'max_features': 5}. Best is trial 77 with value: 236.05656498429713.\u001b[0m\n",
      "\u001b[32m[I 2023-07-13 17:18:13,587]\u001b[0m Trial 99 finished with value: 237.26424171917733 and parameters: {'n_estimators': 80, 'max_depth': 9, 'min_samples_split': 2, 'max_features': 5}. Best is trial 77 with value: 236.05656498429713.\u001b[0m\n"
     ]
    },
    {
     "data": {
      "application/vnd.plotly.v1+json": {
       "config": {
        "plotlyServerURL": "https://plot.ly"
       },
       "data": [
        {
         "cliponaxis": false,
         "hovertemplate": [
          "min_samples_split (IntDistribution): 0.00878751285101061<extra></extra>",
          "max_features (IntDistribution): 0.008834117232555902<extra></extra>",
          "n_estimators (IntDistribution): 0.017607907421902408<extra></extra>",
          "max_depth (IntDistribution): 0.9647704624945311<extra></extra>"
         ],
         "marker": {
          "color": "rgb(66,146,198)"
         },
         "orientation": "h",
         "text": [
          "<0.01",
          "<0.01",
          "0.02",
          "0.96"
         ],
         "textposition": "outside",
         "type": "bar",
         "x": [
          0.00878751285101061,
          0.008834117232555902,
          0.017607907421902408,
          0.9647704624945311
         ],
         "y": [
          "min_samples_split",
          "max_features",
          "n_estimators",
          "max_depth"
         ]
        }
       ],
       "layout": {
        "showlegend": false,
        "template": {
         "data": {
          "bar": [
           {
            "error_x": {
             "color": "#2a3f5f"
            },
            "error_y": {
             "color": "#2a3f5f"
            },
            "marker": {
             "line": {
              "color": "#E5ECF6",
              "width": 0.5
             },
             "pattern": {
              "fillmode": "overlay",
              "size": 10,
              "solidity": 0.2
             }
            },
            "type": "bar"
           }
          ],
          "barpolar": [
           {
            "marker": {
             "line": {
              "color": "#E5ECF6",
              "width": 0.5
             },
             "pattern": {
              "fillmode": "overlay",
              "size": 10,
              "solidity": 0.2
             }
            },
            "type": "barpolar"
           }
          ],
          "carpet": [
           {
            "aaxis": {
             "endlinecolor": "#2a3f5f",
             "gridcolor": "white",
             "linecolor": "white",
             "minorgridcolor": "white",
             "startlinecolor": "#2a3f5f"
            },
            "baxis": {
             "endlinecolor": "#2a3f5f",
             "gridcolor": "white",
             "linecolor": "white",
             "minorgridcolor": "white",
             "startlinecolor": "#2a3f5f"
            },
            "type": "carpet"
           }
          ],
          "choropleth": [
           {
            "colorbar": {
             "outlinewidth": 0,
             "ticks": ""
            },
            "type": "choropleth"
           }
          ],
          "contour": [
           {
            "colorbar": {
             "outlinewidth": 0,
             "ticks": ""
            },
            "colorscale": [
             [
              0,
              "#0d0887"
             ],
             [
              0.1111111111111111,
              "#46039f"
             ],
             [
              0.2222222222222222,
              "#7201a8"
             ],
             [
              0.3333333333333333,
              "#9c179e"
             ],
             [
              0.4444444444444444,
              "#bd3786"
             ],
             [
              0.5555555555555556,
              "#d8576b"
             ],
             [
              0.6666666666666666,
              "#ed7953"
             ],
             [
              0.7777777777777778,
              "#fb9f3a"
             ],
             [
              0.8888888888888888,
              "#fdca26"
             ],
             [
              1,
              "#f0f921"
             ]
            ],
            "type": "contour"
           }
          ],
          "contourcarpet": [
           {
            "colorbar": {
             "outlinewidth": 0,
             "ticks": ""
            },
            "type": "contourcarpet"
           }
          ],
          "heatmap": [
           {
            "colorbar": {
             "outlinewidth": 0,
             "ticks": ""
            },
            "colorscale": [
             [
              0,
              "#0d0887"
             ],
             [
              0.1111111111111111,
              "#46039f"
             ],
             [
              0.2222222222222222,
              "#7201a8"
             ],
             [
              0.3333333333333333,
              "#9c179e"
             ],
             [
              0.4444444444444444,
              "#bd3786"
             ],
             [
              0.5555555555555556,
              "#d8576b"
             ],
             [
              0.6666666666666666,
              "#ed7953"
             ],
             [
              0.7777777777777778,
              "#fb9f3a"
             ],
             [
              0.8888888888888888,
              "#fdca26"
             ],
             [
              1,
              "#f0f921"
             ]
            ],
            "type": "heatmap"
           }
          ],
          "heatmapgl": [
           {
            "colorbar": {
             "outlinewidth": 0,
             "ticks": ""
            },
            "colorscale": [
             [
              0,
              "#0d0887"
             ],
             [
              0.1111111111111111,
              "#46039f"
             ],
             [
              0.2222222222222222,
              "#7201a8"
             ],
             [
              0.3333333333333333,
              "#9c179e"
             ],
             [
              0.4444444444444444,
              "#bd3786"
             ],
             [
              0.5555555555555556,
              "#d8576b"
             ],
             [
              0.6666666666666666,
              "#ed7953"
             ],
             [
              0.7777777777777778,
              "#fb9f3a"
             ],
             [
              0.8888888888888888,
              "#fdca26"
             ],
             [
              1,
              "#f0f921"
             ]
            ],
            "type": "heatmapgl"
           }
          ],
          "histogram": [
           {
            "marker": {
             "pattern": {
              "fillmode": "overlay",
              "size": 10,
              "solidity": 0.2
             }
            },
            "type": "histogram"
           }
          ],
          "histogram2d": [
           {
            "colorbar": {
             "outlinewidth": 0,
             "ticks": ""
            },
            "colorscale": [
             [
              0,
              "#0d0887"
             ],
             [
              0.1111111111111111,
              "#46039f"
             ],
             [
              0.2222222222222222,
              "#7201a8"
             ],
             [
              0.3333333333333333,
              "#9c179e"
             ],
             [
              0.4444444444444444,
              "#bd3786"
             ],
             [
              0.5555555555555556,
              "#d8576b"
             ],
             [
              0.6666666666666666,
              "#ed7953"
             ],
             [
              0.7777777777777778,
              "#fb9f3a"
             ],
             [
              0.8888888888888888,
              "#fdca26"
             ],
             [
              1,
              "#f0f921"
             ]
            ],
            "type": "histogram2d"
           }
          ],
          "histogram2dcontour": [
           {
            "colorbar": {
             "outlinewidth": 0,
             "ticks": ""
            },
            "colorscale": [
             [
              0,
              "#0d0887"
             ],
             [
              0.1111111111111111,
              "#46039f"
             ],
             [
              0.2222222222222222,
              "#7201a8"
             ],
             [
              0.3333333333333333,
              "#9c179e"
             ],
             [
              0.4444444444444444,
              "#bd3786"
             ],
             [
              0.5555555555555556,
              "#d8576b"
             ],
             [
              0.6666666666666666,
              "#ed7953"
             ],
             [
              0.7777777777777778,
              "#fb9f3a"
             ],
             [
              0.8888888888888888,
              "#fdca26"
             ],
             [
              1,
              "#f0f921"
             ]
            ],
            "type": "histogram2dcontour"
           }
          ],
          "mesh3d": [
           {
            "colorbar": {
             "outlinewidth": 0,
             "ticks": ""
            },
            "type": "mesh3d"
           }
          ],
          "parcoords": [
           {
            "line": {
             "colorbar": {
              "outlinewidth": 0,
              "ticks": ""
             }
            },
            "type": "parcoords"
           }
          ],
          "pie": [
           {
            "automargin": true,
            "type": "pie"
           }
          ],
          "scatter": [
           {
            "fillpattern": {
             "fillmode": "overlay",
             "size": 10,
             "solidity": 0.2
            },
            "type": "scatter"
           }
          ],
          "scatter3d": [
           {
            "line": {
             "colorbar": {
              "outlinewidth": 0,
              "ticks": ""
             }
            },
            "marker": {
             "colorbar": {
              "outlinewidth": 0,
              "ticks": ""
             }
            },
            "type": "scatter3d"
           }
          ],
          "scattercarpet": [
           {
            "marker": {
             "colorbar": {
              "outlinewidth": 0,
              "ticks": ""
             }
            },
            "type": "scattercarpet"
           }
          ],
          "scattergeo": [
           {
            "marker": {
             "colorbar": {
              "outlinewidth": 0,
              "ticks": ""
             }
            },
            "type": "scattergeo"
           }
          ],
          "scattergl": [
           {
            "marker": {
             "colorbar": {
              "outlinewidth": 0,
              "ticks": ""
             }
            },
            "type": "scattergl"
           }
          ],
          "scattermapbox": [
           {
            "marker": {
             "colorbar": {
              "outlinewidth": 0,
              "ticks": ""
             }
            },
            "type": "scattermapbox"
           }
          ],
          "scatterpolar": [
           {
            "marker": {
             "colorbar": {
              "outlinewidth": 0,
              "ticks": ""
             }
            },
            "type": "scatterpolar"
           }
          ],
          "scatterpolargl": [
           {
            "marker": {
             "colorbar": {
              "outlinewidth": 0,
              "ticks": ""
             }
            },
            "type": "scatterpolargl"
           }
          ],
          "scatterternary": [
           {
            "marker": {
             "colorbar": {
              "outlinewidth": 0,
              "ticks": ""
             }
            },
            "type": "scatterternary"
           }
          ],
          "surface": [
           {
            "colorbar": {
             "outlinewidth": 0,
             "ticks": ""
            },
            "colorscale": [
             [
              0,
              "#0d0887"
             ],
             [
              0.1111111111111111,
              "#46039f"
             ],
             [
              0.2222222222222222,
              "#7201a8"
             ],
             [
              0.3333333333333333,
              "#9c179e"
             ],
             [
              0.4444444444444444,
              "#bd3786"
             ],
             [
              0.5555555555555556,
              "#d8576b"
             ],
             [
              0.6666666666666666,
              "#ed7953"
             ],
             [
              0.7777777777777778,
              "#fb9f3a"
             ],
             [
              0.8888888888888888,
              "#fdca26"
             ],
             [
              1,
              "#f0f921"
             ]
            ],
            "type": "surface"
           }
          ],
          "table": [
           {
            "cells": {
             "fill": {
              "color": "#EBF0F8"
             },
             "line": {
              "color": "white"
             }
            },
            "header": {
             "fill": {
              "color": "#C8D4E3"
             },
             "line": {
              "color": "white"
             }
            },
            "type": "table"
           }
          ]
         },
         "layout": {
          "annotationdefaults": {
           "arrowcolor": "#2a3f5f",
           "arrowhead": 0,
           "arrowwidth": 1
          },
          "autotypenumbers": "strict",
          "coloraxis": {
           "colorbar": {
            "outlinewidth": 0,
            "ticks": ""
           }
          },
          "colorscale": {
           "diverging": [
            [
             0,
             "#8e0152"
            ],
            [
             0.1,
             "#c51b7d"
            ],
            [
             0.2,
             "#de77ae"
            ],
            [
             0.3,
             "#f1b6da"
            ],
            [
             0.4,
             "#fde0ef"
            ],
            [
             0.5,
             "#f7f7f7"
            ],
            [
             0.6,
             "#e6f5d0"
            ],
            [
             0.7,
             "#b8e186"
            ],
            [
             0.8,
             "#7fbc41"
            ],
            [
             0.9,
             "#4d9221"
            ],
            [
             1,
             "#276419"
            ]
           ],
           "sequential": [
            [
             0,
             "#0d0887"
            ],
            [
             0.1111111111111111,
             "#46039f"
            ],
            [
             0.2222222222222222,
             "#7201a8"
            ],
            [
             0.3333333333333333,
             "#9c179e"
            ],
            [
             0.4444444444444444,
             "#bd3786"
            ],
            [
             0.5555555555555556,
             "#d8576b"
            ],
            [
             0.6666666666666666,
             "#ed7953"
            ],
            [
             0.7777777777777778,
             "#fb9f3a"
            ],
            [
             0.8888888888888888,
             "#fdca26"
            ],
            [
             1,
             "#f0f921"
            ]
           ],
           "sequentialminus": [
            [
             0,
             "#0d0887"
            ],
            [
             0.1111111111111111,
             "#46039f"
            ],
            [
             0.2222222222222222,
             "#7201a8"
            ],
            [
             0.3333333333333333,
             "#9c179e"
            ],
            [
             0.4444444444444444,
             "#bd3786"
            ],
            [
             0.5555555555555556,
             "#d8576b"
            ],
            [
             0.6666666666666666,
             "#ed7953"
            ],
            [
             0.7777777777777778,
             "#fb9f3a"
            ],
            [
             0.8888888888888888,
             "#fdca26"
            ],
            [
             1,
             "#f0f921"
            ]
           ]
          },
          "colorway": [
           "#636efa",
           "#EF553B",
           "#00cc96",
           "#ab63fa",
           "#FFA15A",
           "#19d3f3",
           "#FF6692",
           "#B6E880",
           "#FF97FF",
           "#FECB52"
          ],
          "font": {
           "color": "#2a3f5f"
          },
          "geo": {
           "bgcolor": "white",
           "lakecolor": "white",
           "landcolor": "#E5ECF6",
           "showlakes": true,
           "showland": true,
           "subunitcolor": "white"
          },
          "hoverlabel": {
           "align": "left"
          },
          "hovermode": "closest",
          "mapbox": {
           "style": "light"
          },
          "paper_bgcolor": "white",
          "plot_bgcolor": "#E5ECF6",
          "polar": {
           "angularaxis": {
            "gridcolor": "white",
            "linecolor": "white",
            "ticks": ""
           },
           "bgcolor": "#E5ECF6",
           "radialaxis": {
            "gridcolor": "white",
            "linecolor": "white",
            "ticks": ""
           }
          },
          "scene": {
           "xaxis": {
            "backgroundcolor": "#E5ECF6",
            "gridcolor": "white",
            "gridwidth": 2,
            "linecolor": "white",
            "showbackground": true,
            "ticks": "",
            "zerolinecolor": "white"
           },
           "yaxis": {
            "backgroundcolor": "#E5ECF6",
            "gridcolor": "white",
            "gridwidth": 2,
            "linecolor": "white",
            "showbackground": true,
            "ticks": "",
            "zerolinecolor": "white"
           },
           "zaxis": {
            "backgroundcolor": "#E5ECF6",
            "gridcolor": "white",
            "gridwidth": 2,
            "linecolor": "white",
            "showbackground": true,
            "ticks": "",
            "zerolinecolor": "white"
           }
          },
          "shapedefaults": {
           "line": {
            "color": "#2a3f5f"
           }
          },
          "ternary": {
           "aaxis": {
            "gridcolor": "white",
            "linecolor": "white",
            "ticks": ""
           },
           "baxis": {
            "gridcolor": "white",
            "linecolor": "white",
            "ticks": ""
           },
           "bgcolor": "#E5ECF6",
           "caxis": {
            "gridcolor": "white",
            "linecolor": "white",
            "ticks": ""
           }
          },
          "title": {
           "x": 0.05
          },
          "xaxis": {
           "automargin": true,
           "gridcolor": "white",
           "linecolor": "white",
           "ticks": "",
           "title": {
            "standoff": 15
           },
           "zerolinecolor": "white",
           "zerolinewidth": 2
          },
          "yaxis": {
           "automargin": true,
           "gridcolor": "white",
           "linecolor": "white",
           "ticks": "",
           "title": {
            "standoff": 15
           },
           "zerolinecolor": "white",
           "zerolinewidth": 2
          }
         }
        },
        "title": {
         "text": "Hyperparameter Importances"
        },
        "xaxis": {
         "title": {
          "text": "Importance for Objective Value"
         }
        },
        "yaxis": {
         "title": {
          "text": "Hyperparameter"
         }
        }
       }
      }
     },
     "metadata": {},
     "output_type": "display_data"
    },
    {
     "data": {
      "application/vnd.plotly.v1+json": {
       "config": {
        "plotlyServerURL": "https://plot.ly"
       },
       "data": [
        {
         "type": "scatter",
         "xaxis": "x",
         "yaxis": "y"
        },
        {
         "colorbar": {
          "title": {
           "text": "Objective Value"
          }
         },
         "colorscale": [
          [
           0,
           "rgb(247,251,255)"
          ],
          [
           0.125,
           "rgb(222,235,247)"
          ],
          [
           0.25,
           "rgb(198,219,239)"
          ],
          [
           0.375,
           "rgb(158,202,225)"
          ],
          [
           0.5,
           "rgb(107,174,214)"
          ],
          [
           0.625,
           "rgb(66,146,198)"
          ],
          [
           0.75,
           "rgb(33,113,181)"
          ],
          [
           0.875,
           "rgb(8,81,156)"
          ],
          [
           1,
           "rgb(8,48,107)"
          ]
         ],
         "connectgaps": true,
         "contours": {
          "coloring": "heatmap"
         },
         "hoverinfo": "none",
         "line": {
          "smoothing": 1.3
         },
         "reversescale": true,
         "showscale": true,
         "type": "contour",
         "x": [
          1.6,
          2,
          3,
          4,
          5,
          6,
          7,
          8,
          9,
          10,
          10.4
         ],
         "xaxis": "x5",
         "y": [
          1.85,
          2,
          3,
          4,
          5,
          5.15
         ],
         "yaxis": "y5",
         "z": [
          [
           null,
           null,
           null,
           null,
           null,
           null,
           null,
           null,
           null,
           null,
           null
          ],
          [
           null,
           null,
           265.1053644996907,
           null,
           null,
           null,
           null,
           242.28152455127224,
           null,
           null,
           null
          ],
          [
           null,
           263.09591225279837,
           256.20020835967756,
           null,
           null,
           245.41158010586838,
           null,
           241.62220915775634,
           null,
           240.7893450173357,
           null
          ],
          [
           null,
           null,
           null,
           246.23221531498461,
           239.11596761733807,
           240.98733007361733,
           238.85562462061245,
           241.2131298531561,
           238.37106747223956,
           null,
           null
          ],
          [
           null,
           256.77525354222183,
           null,
           245.59028173853488,
           244.2061002552823,
           239.34833990366633,
           238.76371730071475,
           238.5982811435254,
           237.26424171917733,
           238.77070500699037,
           null
          ],
          [
           null,
           null,
           null,
           null,
           null,
           null,
           null,
           null,
           null,
           null,
           null
          ]
         ]
        },
        {
         "marker": {
          "color": "black",
          "line": {
           "color": "Grey",
           "width": 2
          }
         },
         "mode": "markers",
         "showlegend": false,
         "type": "scatter",
         "x": [
          10,
          4,
          3,
          3,
          6,
          8,
          5,
          3,
          7,
          2,
          9,
          8,
          7,
          7,
          6,
          7,
          5,
          8,
          10,
          7,
          6,
          8,
          9,
          9,
          9,
          7,
          5,
          9,
          10,
          10,
          6,
          9,
          8,
          9,
          7,
          10,
          8,
          9,
          7,
          8,
          4,
          9,
          9,
          10,
          9,
          8,
          6,
          8,
          7,
          5,
          6,
          7,
          7,
          7,
          7,
          7,
          7,
          6,
          7,
          6,
          7,
          7,
          7,
          7,
          6,
          7,
          8,
          6,
          2,
          7,
          6,
          7,
          7,
          8,
          7,
          7,
          8,
          7,
          6,
          7,
          8,
          8,
          8,
          8,
          8,
          8,
          8,
          8,
          8,
          8,
          7,
          8,
          8,
          9,
          8,
          8,
          7,
          7,
          7,
          9
         ],
         "xaxis": "x5",
         "y": [
          5,
          4,
          2,
          2,
          3,
          5,
          5,
          3,
          4,
          3,
          5,
          4,
          4,
          5,
          4,
          5,
          5,
          5,
          5,
          4,
          5,
          5,
          5,
          5,
          4,
          5,
          4,
          5,
          3,
          5,
          5,
          5,
          5,
          5,
          4,
          5,
          2,
          5,
          4,
          5,
          5,
          5,
          5,
          5,
          5,
          2,
          4,
          3,
          5,
          5,
          5,
          5,
          5,
          5,
          5,
          5,
          5,
          4,
          5,
          4,
          5,
          5,
          5,
          5,
          5,
          5,
          5,
          5,
          5,
          5,
          5,
          5,
          5,
          5,
          5,
          5,
          5,
          5,
          4,
          5,
          5,
          5,
          5,
          5,
          5,
          5,
          3,
          5,
          5,
          5,
          5,
          5,
          5,
          5,
          5,
          2,
          5,
          5,
          5,
          5
         ],
         "yaxis": "y5"
        },
        {
         "colorbar": {
          "title": {
           "text": "Objective Value"
          }
         },
         "colorscale": [
          [
           0,
           "rgb(247,251,255)"
          ],
          [
           0.125,
           "rgb(222,235,247)"
          ],
          [
           0.25,
           "rgb(198,219,239)"
          ],
          [
           0.375,
           "rgb(158,202,225)"
          ],
          [
           0.5,
           "rgb(107,174,214)"
          ],
          [
           0.625,
           "rgb(66,146,198)"
          ],
          [
           0.75,
           "rgb(33,113,181)"
          ],
          [
           0.875,
           "rgb(8,81,156)"
          ],
          [
           1,
           "rgb(8,48,107)"
          ]
         ],
         "connectgaps": true,
         "contours": {
          "coloring": "heatmap"
         },
         "hoverinfo": "none",
         "line": {
          "smoothing": 1.3
         },
         "reversescale": true,
         "showscale": false,
         "type": "contour",
         "x": [
          1.6,
          2,
          3,
          4,
          5,
          6,
          7,
          8,
          9,
          10,
          10.4
         ],
         "xaxis": "x9",
         "y": [
          1.8,
          2,
          3,
          4,
          5,
          6,
          6.2
         ],
         "yaxis": "y9",
         "z": [
          [
           null,
           null,
           null,
           null,
           null,
           null,
           null,
           null,
           null,
           null,
           null
          ],
          [
           null,
           256.77525354222183,
           null,
           null,
           239.11596761733807,
           240.98733007361733,
           236.05656498429713,
           238.46162959325812,
           237.26424171917733,
           238.77070500699037,
           null
          ],
          [
           null,
           null,
           265.1053644996907,
           245.59028173853488,
           242.99534548487608,
           239.34833990366633,
           237.73630168347137,
           242.28152455127224,
           237.65016898064786,
           240.17436631431787,
           null
          ],
          [
           null,
           null,
           null,
           null,
           244.2061002552823,
           240.55132150762952,
           238.76371730071475,
           238.5982811435254,
           240.44242126876128,
           null,
           null
          ],
          [
           null,
           263.09591225279837,
           null,
           null,
           null,
           242.11606911047642,
           240.9223749080516,
           null,
           null,
           241.3356228785401,
           null
          ],
          [
           null,
           null,
           256.20020835967756,
           null,
           245.682197796244,
           null,
           240.7165107331221,
           null,
           null,
           242.7988599572393,
           null
          ],
          [
           null,
           null,
           null,
           null,
           null,
           null,
           null,
           null,
           null,
           null,
           null
          ]
         ]
        },
        {
         "marker": {
          "color": "black",
          "line": {
           "color": "Grey",
           "width": 2
          }
         },
         "mode": "markers",
         "showlegend": false,
         "type": "scatter",
         "x": [
          10,
          4,
          3,
          3,
          6,
          8,
          5,
          3,
          7,
          2,
          9,
          8,
          7,
          7,
          6,
          7,
          5,
          8,
          10,
          7,
          6,
          8,
          9,
          9,
          9,
          7,
          5,
          9,
          10,
          10,
          6,
          9,
          8,
          9,
          7,
          10,
          8,
          9,
          7,
          8,
          4,
          9,
          9,
          10,
          9,
          8,
          6,
          8,
          7,
          5,
          6,
          7,
          7,
          7,
          7,
          7,
          7,
          6,
          7,
          6,
          7,
          7,
          7,
          7,
          6,
          7,
          8,
          6,
          2,
          7,
          6,
          7,
          7,
          8,
          7,
          7,
          8,
          7,
          6,
          7,
          8,
          8,
          8,
          8,
          8,
          8,
          8,
          8,
          8,
          8,
          7,
          8,
          8,
          9,
          8,
          8,
          7,
          7,
          7,
          9
         ],
         "xaxis": "x9",
         "y": [
          6,
          3,
          6,
          3,
          2,
          4,
          6,
          6,
          4,
          5,
          4,
          4,
          3,
          3,
          2,
          3,
          3,
          2,
          5,
          3,
          5,
          2,
          2,
          2,
          3,
          2,
          2,
          2,
          2,
          3,
          2,
          2,
          2,
          3,
          2,
          3,
          2,
          2,
          3,
          2,
          3,
          2,
          2,
          2,
          2,
          3,
          4,
          2,
          2,
          4,
          4,
          2,
          2,
          2,
          2,
          2,
          2,
          2,
          6,
          2,
          5,
          2,
          2,
          2,
          2,
          2,
          2,
          3,
          2,
          2,
          3,
          2,
          2,
          2,
          2,
          2,
          2,
          2,
          2,
          2,
          3,
          3,
          3,
          3,
          3,
          3,
          3,
          3,
          3,
          4,
          3,
          3,
          3,
          3,
          4,
          3,
          3,
          3,
          4,
          2
         ],
         "yaxis": "y9"
        },
        {
         "colorbar": {
          "title": {
           "text": "Objective Value"
          }
         },
         "colorscale": [
          [
           0,
           "rgb(247,251,255)"
          ],
          [
           0.125,
           "rgb(222,235,247)"
          ],
          [
           0.25,
           "rgb(198,219,239)"
          ],
          [
           0.375,
           "rgb(158,202,225)"
          ],
          [
           0.5,
           "rgb(107,174,214)"
          ],
          [
           0.625,
           "rgb(66,146,198)"
          ],
          [
           0.75,
           "rgb(33,113,181)"
          ],
          [
           0.875,
           "rgb(8,81,156)"
          ],
          [
           1,
           "rgb(8,48,107)"
          ]
         ],
         "connectgaps": true,
         "contours": {
          "coloring": "heatmap"
         },
         "hoverinfo": "none",
         "line": {
          "smoothing": 1.3
         },
         "reversescale": true,
         "showscale": false,
         "type": "contour",
         "x": [
          1.6,
          2,
          3,
          4,
          5,
          6,
          7,
          8,
          9,
          10,
          10.4
         ],
         "xaxis": "x13",
         "y": [
          11,
          20,
          40,
          60,
          80,
          100,
          120,
          140,
          160,
          180,
          200,
          209
         ],
         "yaxis": "y13",
         "z": [
          [
           null,
           null,
           null,
           null,
           null,
           null,
           null,
           null,
           null,
           null,
           null
          ],
          [
           null,
           null,
           261.68417684918353,
           null,
           null,
           245.41158010586838,
           null,
           null,
           null,
           242.7988599572393,
           null
          ],
          [
           null,
           null,
           null,
           null,
           null,
           null,
           null,
           238.27120331458894,
           null,
           null,
           null
          ],
          [
           null,
           null,
           256.20020835967756,
           null,
           245.682197796244,
           null,
           238.76371730071475,
           null,
           null,
           null,
           null
          ],
          [
           null,
           null,
           null,
           null,
           null,
           240.55132150762952,
           null,
           236.9212716708036,
           237.26424171917733,
           239.59660633152663,
           null
          ],
          [
           null,
           null,
           265.1053644996907,
           null,
           null,
           null,
           237.12162933122104,
           238.5982811435254,
           null,
           null,
           null
          ],
          [
           null,
           null,
           null,
           246.23221531498461,
           239.11596761733807,
           240.98733007361733,
           237.73630168347137,
           242.28152455127224,
           null,
           null,
           null
          ],
          [
           null,
           null,
           null,
           245.59028173853488,
           244.2061002552823,
           239.34833990366633,
           236.47435076973528,
           238.46162959325812,
           237.8008828185172,
           240.17436631431787,
           null
          ],
          [
           null,
           256.77525354222183,
           null,
           null,
           null,
           239.11274426627423,
           236.1498772166001,
           237.48156632355753,
           238.5245339861915,
           238.77070500699037,
           null
          ],
          [
           null,
           null,
           null,
           null,
           242.99534548487608,
           238.20104942325474,
           236.67826727874808,
           241.76655021980406,
           237.34277419415457,
           null,
           null
          ],
          [
           null,
           null,
           null,
           null,
           null,
           240.41317285449253,
           236.72667562221218,
           null,
           237.94973516787326,
           null,
           null
          ],
          [
           null,
           null,
           null,
           null,
           null,
           null,
           null,
           null,
           null,
           null,
           null
          ]
         ]
        },
        {
         "marker": {
          "color": "black",
          "line": {
           "color": "Grey",
           "width": 2
          }
         },
         "mode": "markers",
         "showlegend": false,
         "type": "scatter",
         "x": [
          10,
          4,
          3,
          3,
          6,
          8,
          5,
          3,
          7,
          2,
          9,
          8,
          7,
          7,
          6,
          7,
          5,
          8,
          10,
          7,
          6,
          8,
          9,
          9,
          9,
          7,
          5,
          9,
          10,
          10,
          6,
          9,
          8,
          9,
          7,
          10,
          8,
          9,
          7,
          8,
          4,
          9,
          9,
          10,
          9,
          8,
          6,
          8,
          7,
          5,
          6,
          7,
          7,
          7,
          7,
          7,
          7,
          6,
          7,
          6,
          7,
          7,
          7,
          7,
          6,
          7,
          8,
          6,
          2,
          7,
          6,
          7,
          7,
          8,
          7,
          7,
          8,
          7,
          6,
          7,
          8,
          8,
          8,
          8,
          8,
          8,
          8,
          8,
          8,
          8,
          7,
          8,
          8,
          9,
          8,
          8,
          7,
          7,
          7,
          9
         ],
         "xaxis": "x13",
         "y": [
          20,
          120,
          20,
          100,
          20,
          140,
          60,
          60,
          100,
          160,
          200,
          140,
          180,
          200,
          200,
          180,
          180,
          180,
          160,
          200,
          160,
          180,
          180,
          140,
          200,
          160,
          120,
          160,
          160,
          80,
          140,
          160,
          120,
          160,
          120,
          140,
          160,
          200,
          100,
          40,
          140,
          180,
          180,
          160,
          200,
          180,
          200,
          160,
          180,
          140,
          80,
          180,
          180,
          180,
          200,
          180,
          180,
          180,
          180,
          200,
          180,
          180,
          180,
          200,
          180,
          160,
          160,
          160,
          160,
          140,
          140,
          160,
          160,
          160,
          140,
          140,
          140,
          120,
          120,
          120,
          100,
          100,
          100,
          100,
          80,
          100,
          100,
          120,
          80,
          100,
          120,
          100,
          100,
          80,
          100,
          120,
          100,
          120,
          60,
          80
         ],
         "yaxis": "y13"
        },
        {
         "colorbar": {
          "title": {
           "text": "Objective Value"
          }
         },
         "colorscale": [
          [
           0,
           "rgb(247,251,255)"
          ],
          [
           0.125,
           "rgb(222,235,247)"
          ],
          [
           0.25,
           "rgb(198,219,239)"
          ],
          [
           0.375,
           "rgb(158,202,225)"
          ],
          [
           0.5,
           "rgb(107,174,214)"
          ],
          [
           0.625,
           "rgb(66,146,198)"
          ],
          [
           0.75,
           "rgb(33,113,181)"
          ],
          [
           0.875,
           "rgb(8,81,156)"
          ],
          [
           1,
           "rgb(8,48,107)"
          ]
         ],
         "connectgaps": true,
         "contours": {
          "coloring": "heatmap"
         },
         "hoverinfo": "none",
         "line": {
          "smoothing": 1.3
         },
         "reversescale": true,
         "showscale": false,
         "type": "contour",
         "x": [
          1.85,
          2,
          3,
          4,
          5,
          5.15
         ],
         "xaxis": "x2",
         "y": [
          1.6,
          2,
          3,
          4,
          5,
          6,
          7,
          8,
          9,
          10,
          10.4
         ],
         "yaxis": "y2",
         "z": [
          [
           null,
           null,
           null,
           null,
           null,
           null
          ],
          [
           null,
           null,
           263.09591225279837,
           null,
           256.77525354222183,
           null
          ],
          [
           null,
           265.1053644996907,
           256.20020835967756,
           null,
           null,
           null
          ],
          [
           null,
           null,
           null,
           246.23221531498461,
           245.59028173853488,
           null
          ],
          [
           null,
           null,
           null,
           239.11596761733807,
           244.2061002552823,
           null
          ],
          [
           null,
           null,
           245.41158010586838,
           240.98733007361733,
           239.34833990366633,
           null
          ],
          [
           null,
           null,
           null,
           238.85562462061245,
           238.76371730071475,
           null
          ],
          [
           null,
           242.28152455127224,
           241.62220915775634,
           241.2131298531561,
           238.5982811435254,
           null
          ],
          [
           null,
           null,
           null,
           238.37106747223956,
           237.26424171917733,
           null
          ],
          [
           null,
           null,
           240.7893450173357,
           null,
           238.77070500699037,
           null
          ],
          [
           null,
           null,
           null,
           null,
           null,
           null
          ]
         ]
        },
        {
         "marker": {
          "color": "black",
          "line": {
           "color": "Grey",
           "width": 2
          }
         },
         "mode": "markers",
         "showlegend": false,
         "type": "scatter",
         "x": [
          5,
          4,
          2,
          2,
          3,
          5,
          5,
          3,
          4,
          3,
          5,
          4,
          4,
          5,
          4,
          5,
          5,
          5,
          5,
          4,
          5,
          5,
          5,
          5,
          4,
          5,
          4,
          5,
          3,
          5,
          5,
          5,
          5,
          5,
          4,
          5,
          2,
          5,
          4,
          5,
          5,
          5,
          5,
          5,
          5,
          2,
          4,
          3,
          5,
          5,
          5,
          5,
          5,
          5,
          5,
          5,
          5,
          4,
          5,
          4,
          5,
          5,
          5,
          5,
          5,
          5,
          5,
          5,
          5,
          5,
          5,
          5,
          5,
          5,
          5,
          5,
          5,
          5,
          4,
          5,
          5,
          5,
          5,
          5,
          5,
          5,
          3,
          5,
          5,
          5,
          5,
          5,
          5,
          5,
          5,
          2,
          5,
          5,
          5,
          5
         ],
         "xaxis": "x2",
         "y": [
          10,
          4,
          3,
          3,
          6,
          8,
          5,
          3,
          7,
          2,
          9,
          8,
          7,
          7,
          6,
          7,
          5,
          8,
          10,
          7,
          6,
          8,
          9,
          9,
          9,
          7,
          5,
          9,
          10,
          10,
          6,
          9,
          8,
          9,
          7,
          10,
          8,
          9,
          7,
          8,
          4,
          9,
          9,
          10,
          9,
          8,
          6,
          8,
          7,
          5,
          6,
          7,
          7,
          7,
          7,
          7,
          7,
          6,
          7,
          6,
          7,
          7,
          7,
          7,
          6,
          7,
          8,
          6,
          2,
          7,
          6,
          7,
          7,
          8,
          7,
          7,
          8,
          7,
          6,
          7,
          8,
          8,
          8,
          8,
          8,
          8,
          8,
          8,
          8,
          8,
          7,
          8,
          8,
          9,
          8,
          8,
          7,
          7,
          7,
          9
         ],
         "yaxis": "y2"
        },
        {
         "type": "scatter",
         "xaxis": "x6",
         "yaxis": "y6"
        },
        {
         "colorbar": {
          "title": {
           "text": "Objective Value"
          }
         },
         "colorscale": [
          [
           0,
           "rgb(247,251,255)"
          ],
          [
           0.125,
           "rgb(222,235,247)"
          ],
          [
           0.25,
           "rgb(198,219,239)"
          ],
          [
           0.375,
           "rgb(158,202,225)"
          ],
          [
           0.5,
           "rgb(107,174,214)"
          ],
          [
           0.625,
           "rgb(66,146,198)"
          ],
          [
           0.75,
           "rgb(33,113,181)"
          ],
          [
           0.875,
           "rgb(8,81,156)"
          ],
          [
           1,
           "rgb(8,48,107)"
          ]
         ],
         "connectgaps": true,
         "contours": {
          "coloring": "heatmap"
         },
         "hoverinfo": "none",
         "line": {
          "smoothing": 1.3
         },
         "reversescale": true,
         "showscale": false,
         "type": "contour",
         "x": [
          1.85,
          2,
          3,
          4,
          5,
          5.15
         ],
         "xaxis": "x10",
         "y": [
          1.8,
          2,
          3,
          4,
          5,
          6,
          6.2
         ],
         "yaxis": "y10",
         "z": [
          [
           null,
           null,
           null,
           null,
           null,
           null
          ],
          [
           null,
           240.598728127014,
           238.22190021167052,
           240.98733007361733,
           237.26424171917733,
           null
          ],
          [
           null,
           242.28152455127224,
           241.62220915775634,
           238.85562462061245,
           237.73630168347137,
           null
          ],
          [
           null,
           null,
           null,
           243.2052370891638,
           238.76371730071475,
           null
          ],
          [
           null,
           null,
           263.09591225279837,
           null,
           240.9223749080516,
           null
          ],
          [
           null,
           261.68417684918353,
           256.20020835967756,
           null,
           240.7165107331221,
           null
          ],
          [
           null,
           null,
           null,
           null,
           null,
           null
          ]
         ]
        },
        {
         "marker": {
          "color": "black",
          "line": {
           "color": "Grey",
           "width": 2
          }
         },
         "mode": "markers",
         "showlegend": false,
         "type": "scatter",
         "x": [
          5,
          4,
          2,
          2,
          3,
          5,
          5,
          3,
          4,
          3,
          5,
          4,
          4,
          5,
          4,
          5,
          5,
          5,
          5,
          4,
          5,
          5,
          5,
          5,
          4,
          5,
          4,
          5,
          3,
          5,
          5,
          5,
          5,
          5,
          4,
          5,
          2,
          5,
          4,
          5,
          5,
          5,
          5,
          5,
          5,
          2,
          4,
          3,
          5,
          5,
          5,
          5,
          5,
          5,
          5,
          5,
          5,
          4,
          5,
          4,
          5,
          5,
          5,
          5,
          5,
          5,
          5,
          5,
          5,
          5,
          5,
          5,
          5,
          5,
          5,
          5,
          5,
          5,
          4,
          5,
          5,
          5,
          5,
          5,
          5,
          5,
          3,
          5,
          5,
          5,
          5,
          5,
          5,
          5,
          5,
          2,
          5,
          5,
          5,
          5
         ],
         "xaxis": "x10",
         "y": [
          6,
          3,
          6,
          3,
          2,
          4,
          6,
          6,
          4,
          5,
          4,
          4,
          3,
          3,
          2,
          3,
          3,
          2,
          5,
          3,
          5,
          2,
          2,
          2,
          3,
          2,
          2,
          2,
          2,
          3,
          2,
          2,
          2,
          3,
          2,
          3,
          2,
          2,
          3,
          2,
          3,
          2,
          2,
          2,
          2,
          3,
          4,
          2,
          2,
          4,
          4,
          2,
          2,
          2,
          2,
          2,
          2,
          2,
          6,
          2,
          5,
          2,
          2,
          2,
          2,
          2,
          2,
          3,
          2,
          2,
          3,
          2,
          2,
          2,
          2,
          2,
          2,
          2,
          2,
          2,
          3,
          3,
          3,
          3,
          3,
          3,
          3,
          3,
          3,
          4,
          3,
          3,
          3,
          3,
          4,
          3,
          3,
          3,
          4,
          2
         ],
         "yaxis": "y10"
        },
        {
         "colorbar": {
          "title": {
           "text": "Objective Value"
          }
         },
         "colorscale": [
          [
           0,
           "rgb(247,251,255)"
          ],
          [
           0.125,
           "rgb(222,235,247)"
          ],
          [
           0.25,
           "rgb(198,219,239)"
          ],
          [
           0.375,
           "rgb(158,202,225)"
          ],
          [
           0.5,
           "rgb(107,174,214)"
          ],
          [
           0.625,
           "rgb(66,146,198)"
          ],
          [
           0.75,
           "rgb(33,113,181)"
          ],
          [
           0.875,
           "rgb(8,81,156)"
          ],
          [
           1,
           "rgb(8,48,107)"
          ]
         ],
         "connectgaps": true,
         "contours": {
          "coloring": "heatmap"
         },
         "hoverinfo": "none",
         "line": {
          "smoothing": 1.3
         },
         "reversescale": true,
         "showscale": false,
         "type": "contour",
         "x": [
          1.85,
          2,
          3,
          4,
          5,
          5.15
         ],
         "xaxis": "x14",
         "y": [
          11,
          20,
          40,
          60,
          80,
          100,
          120,
          140,
          160,
          180,
          200,
          209
         ],
         "yaxis": "y14",
         "z": [
          [
           null,
           null,
           null,
           null,
           null,
           null
          ],
          [
           null,
           261.68417684918353,
           245.41158010586838,
           null,
           242.7988599572393,
           null
          ],
          [
           null,
           null,
           null,
           null,
           238.27120331458894,
           null
          ],
          [
           null,
           null,
           256.20020835967756,
           null,
           238.76371730071475,
           null
          ],
          [
           null,
           null,
           null,
           null,
           237.26424171917733,
           null
          ],
          [
           null,
           265.1053644996907,
           241.62220915775634,
           238.85562462061245,
           237.12162933122104,
           null
          ],
          [
           null,
           242.28152455127224,
           null,
           240.98733007361733,
           237.73630168347137,
           null
          ],
          [
           null,
           null,
           null,
           241.2131298531561,
           238.46162959325812,
           null
          ],
          [
           null,
           240.598728127014,
           238.22190021167052,
           null,
           237.48156632355753,
           null
          ],
          [
           null,
           241.76655021980406,
           null,
           241.00467030151532,
           238.20104942325474,
           null
          ],
          [
           null,
           null,
           null,
           240.41317285449253,
           236.72667562221218,
           null
          ],
          [
           null,
           null,
           null,
           null,
           null,
           null
          ]
         ]
        },
        {
         "marker": {
          "color": "black",
          "line": {
           "color": "Grey",
           "width": 2
          }
         },
         "mode": "markers",
         "showlegend": false,
         "type": "scatter",
         "x": [
          5,
          4,
          2,
          2,
          3,
          5,
          5,
          3,
          4,
          3,
          5,
          4,
          4,
          5,
          4,
          5,
          5,
          5,
          5,
          4,
          5,
          5,
          5,
          5,
          4,
          5,
          4,
          5,
          3,
          5,
          5,
          5,
          5,
          5,
          4,
          5,
          2,
          5,
          4,
          5,
          5,
          5,
          5,
          5,
          5,
          2,
          4,
          3,
          5,
          5,
          5,
          5,
          5,
          5,
          5,
          5,
          5,
          4,
          5,
          4,
          5,
          5,
          5,
          5,
          5,
          5,
          5,
          5,
          5,
          5,
          5,
          5,
          5,
          5,
          5,
          5,
          5,
          5,
          4,
          5,
          5,
          5,
          5,
          5,
          5,
          5,
          3,
          5,
          5,
          5,
          5,
          5,
          5,
          5,
          5,
          2,
          5,
          5,
          5,
          5
         ],
         "xaxis": "x14",
         "y": [
          20,
          120,
          20,
          100,
          20,
          140,
          60,
          60,
          100,
          160,
          200,
          140,
          180,
          200,
          200,
          180,
          180,
          180,
          160,
          200,
          160,
          180,
          180,
          140,
          200,
          160,
          120,
          160,
          160,
          80,
          140,
          160,
          120,
          160,
          120,
          140,
          160,
          200,
          100,
          40,
          140,
          180,
          180,
          160,
          200,
          180,
          200,
          160,
          180,
          140,
          80,
          180,
          180,
          180,
          200,
          180,
          180,
          180,
          180,
          200,
          180,
          180,
          180,
          200,
          180,
          160,
          160,
          160,
          160,
          140,
          140,
          160,
          160,
          160,
          140,
          140,
          140,
          120,
          120,
          120,
          100,
          100,
          100,
          100,
          80,
          100,
          100,
          120,
          80,
          100,
          120,
          100,
          100,
          80,
          100,
          120,
          100,
          120,
          60,
          80
         ],
         "yaxis": "y14"
        },
        {
         "colorbar": {
          "title": {
           "text": "Objective Value"
          }
         },
         "colorscale": [
          [
           0,
           "rgb(247,251,255)"
          ],
          [
           0.125,
           "rgb(222,235,247)"
          ],
          [
           0.25,
           "rgb(198,219,239)"
          ],
          [
           0.375,
           "rgb(158,202,225)"
          ],
          [
           0.5,
           "rgb(107,174,214)"
          ],
          [
           0.625,
           "rgb(66,146,198)"
          ],
          [
           0.75,
           "rgb(33,113,181)"
          ],
          [
           0.875,
           "rgb(8,81,156)"
          ],
          [
           1,
           "rgb(8,48,107)"
          ]
         ],
         "connectgaps": true,
         "contours": {
          "coloring": "heatmap"
         },
         "hoverinfo": "none",
         "line": {
          "smoothing": 1.3
         },
         "reversescale": true,
         "showscale": false,
         "type": "contour",
         "x": [
          1.8,
          2,
          3,
          4,
          5,
          6,
          6.2
         ],
         "xaxis": "x3",
         "y": [
          1.6,
          2,
          3,
          4,
          5,
          6,
          7,
          8,
          9,
          10,
          10.4
         ],
         "yaxis": "y3",
         "z": [
          [
           null,
           null,
           null,
           null,
           null,
           null,
           null
          ],
          [
           null,
           256.77525354222183,
           null,
           null,
           263.09591225279837,
           null,
           null
          ],
          [
           null,
           null,
           265.1053644996907,
           null,
           null,
           256.20020835967756,
           null
          ],
          [
           null,
           null,
           245.59028173853488,
           null,
           null,
           null,
           null
          ],
          [
           null,
           239.11596761733807,
           242.99534548487608,
           244.2061002552823,
           null,
           245.682197796244,
           null
          ],
          [
           null,
           240.98733007361733,
           239.34833990366633,
           240.55132150762952,
           242.11606911047642,
           null,
           null
          ],
          [
           null,
           236.05656498429713,
           237.73630168347137,
           238.76371730071475,
           240.9223749080516,
           240.7165107331221,
           null
          ],
          [
           null,
           238.46162959325812,
           242.28152455127224,
           238.5982811435254,
           null,
           null,
           null
          ],
          [
           null,
           237.26424171917733,
           237.65016898064786,
           240.44242126876128,
           null,
           null,
           null
          ],
          [
           null,
           238.77070500699037,
           240.17436631431787,
           null,
           241.3356228785401,
           242.7988599572393,
           null
          ],
          [
           null,
           null,
           null,
           null,
           null,
           null,
           null
          ]
         ]
        },
        {
         "marker": {
          "color": "black",
          "line": {
           "color": "Grey",
           "width": 2
          }
         },
         "mode": "markers",
         "showlegend": false,
         "type": "scatter",
         "x": [
          6,
          3,
          6,
          3,
          2,
          4,
          6,
          6,
          4,
          5,
          4,
          4,
          3,
          3,
          2,
          3,
          3,
          2,
          5,
          3,
          5,
          2,
          2,
          2,
          3,
          2,
          2,
          2,
          2,
          3,
          2,
          2,
          2,
          3,
          2,
          3,
          2,
          2,
          3,
          2,
          3,
          2,
          2,
          2,
          2,
          3,
          4,
          2,
          2,
          4,
          4,
          2,
          2,
          2,
          2,
          2,
          2,
          2,
          6,
          2,
          5,
          2,
          2,
          2,
          2,
          2,
          2,
          3,
          2,
          2,
          3,
          2,
          2,
          2,
          2,
          2,
          2,
          2,
          2,
          2,
          3,
          3,
          3,
          3,
          3,
          3,
          3,
          3,
          3,
          4,
          3,
          3,
          3,
          3,
          4,
          3,
          3,
          3,
          4,
          2
         ],
         "xaxis": "x3",
         "y": [
          10,
          4,
          3,
          3,
          6,
          8,
          5,
          3,
          7,
          2,
          9,
          8,
          7,
          7,
          6,
          7,
          5,
          8,
          10,
          7,
          6,
          8,
          9,
          9,
          9,
          7,
          5,
          9,
          10,
          10,
          6,
          9,
          8,
          9,
          7,
          10,
          8,
          9,
          7,
          8,
          4,
          9,
          9,
          10,
          9,
          8,
          6,
          8,
          7,
          5,
          6,
          7,
          7,
          7,
          7,
          7,
          7,
          6,
          7,
          6,
          7,
          7,
          7,
          7,
          6,
          7,
          8,
          6,
          2,
          7,
          6,
          7,
          7,
          8,
          7,
          7,
          8,
          7,
          6,
          7,
          8,
          8,
          8,
          8,
          8,
          8,
          8,
          8,
          8,
          8,
          7,
          8,
          8,
          9,
          8,
          8,
          7,
          7,
          7,
          9
         ],
         "yaxis": "y3"
        },
        {
         "colorbar": {
          "title": {
           "text": "Objective Value"
          }
         },
         "colorscale": [
          [
           0,
           "rgb(247,251,255)"
          ],
          [
           0.125,
           "rgb(222,235,247)"
          ],
          [
           0.25,
           "rgb(198,219,239)"
          ],
          [
           0.375,
           "rgb(158,202,225)"
          ],
          [
           0.5,
           "rgb(107,174,214)"
          ],
          [
           0.625,
           "rgb(66,146,198)"
          ],
          [
           0.75,
           "rgb(33,113,181)"
          ],
          [
           0.875,
           "rgb(8,81,156)"
          ],
          [
           1,
           "rgb(8,48,107)"
          ]
         ],
         "connectgaps": true,
         "contours": {
          "coloring": "heatmap"
         },
         "hoverinfo": "none",
         "line": {
          "smoothing": 1.3
         },
         "reversescale": true,
         "showscale": false,
         "type": "contour",
         "x": [
          1.8,
          2,
          3,
          4,
          5,
          6,
          6.2
         ],
         "xaxis": "x7",
         "y": [
          1.85,
          2,
          3,
          4,
          5,
          5.15
         ],
         "yaxis": "y7",
         "z": [
          [
           null,
           null,
           null,
           null,
           null,
           null,
           null
          ],
          [
           null,
           240.598728127014,
           242.28152455127224,
           null,
           null,
           261.68417684918353,
           null
          ],
          [
           null,
           238.22190021167052,
           241.62220915775634,
           null,
           263.09591225279837,
           256.20020835967756,
           null
          ],
          [
           null,
           240.98733007361733,
           238.85562462061245,
           243.2052370891638,
           null,
           null,
           null
          ],
          [
           null,
           237.26424171917733,
           237.73630168347137,
           238.76371730071475,
           240.9223749080516,
           240.7165107331221,
           null
          ],
          [
           null,
           null,
           null,
           null,
           null,
           null,
           null
          ]
         ]
        },
        {
         "marker": {
          "color": "black",
          "line": {
           "color": "Grey",
           "width": 2
          }
         },
         "mode": "markers",
         "showlegend": false,
         "type": "scatter",
         "x": [
          6,
          3,
          6,
          3,
          2,
          4,
          6,
          6,
          4,
          5,
          4,
          4,
          3,
          3,
          2,
          3,
          3,
          2,
          5,
          3,
          5,
          2,
          2,
          2,
          3,
          2,
          2,
          2,
          2,
          3,
          2,
          2,
          2,
          3,
          2,
          3,
          2,
          2,
          3,
          2,
          3,
          2,
          2,
          2,
          2,
          3,
          4,
          2,
          2,
          4,
          4,
          2,
          2,
          2,
          2,
          2,
          2,
          2,
          6,
          2,
          5,
          2,
          2,
          2,
          2,
          2,
          2,
          3,
          2,
          2,
          3,
          2,
          2,
          2,
          2,
          2,
          2,
          2,
          2,
          2,
          3,
          3,
          3,
          3,
          3,
          3,
          3,
          3,
          3,
          4,
          3,
          3,
          3,
          3,
          4,
          3,
          3,
          3,
          4,
          2
         ],
         "xaxis": "x7",
         "y": [
          5,
          4,
          2,
          2,
          3,
          5,
          5,
          3,
          4,
          3,
          5,
          4,
          4,
          5,
          4,
          5,
          5,
          5,
          5,
          4,
          5,
          5,
          5,
          5,
          4,
          5,
          4,
          5,
          3,
          5,
          5,
          5,
          5,
          5,
          4,
          5,
          2,
          5,
          4,
          5,
          5,
          5,
          5,
          5,
          5,
          2,
          4,
          3,
          5,
          5,
          5,
          5,
          5,
          5,
          5,
          5,
          5,
          4,
          5,
          4,
          5,
          5,
          5,
          5,
          5,
          5,
          5,
          5,
          5,
          5,
          5,
          5,
          5,
          5,
          5,
          5,
          5,
          5,
          4,
          5,
          5,
          5,
          5,
          5,
          5,
          5,
          3,
          5,
          5,
          5,
          5,
          5,
          5,
          5,
          5,
          2,
          5,
          5,
          5,
          5
         ],
         "yaxis": "y7"
        },
        {
         "type": "scatter",
         "xaxis": "x11",
         "yaxis": "y11"
        },
        {
         "colorbar": {
          "title": {
           "text": "Objective Value"
          }
         },
         "colorscale": [
          [
           0,
           "rgb(247,251,255)"
          ],
          [
           0.125,
           "rgb(222,235,247)"
          ],
          [
           0.25,
           "rgb(198,219,239)"
          ],
          [
           0.375,
           "rgb(158,202,225)"
          ],
          [
           0.5,
           "rgb(107,174,214)"
          ],
          [
           0.625,
           "rgb(66,146,198)"
          ],
          [
           0.75,
           "rgb(33,113,181)"
          ],
          [
           0.875,
           "rgb(8,81,156)"
          ],
          [
           1,
           "rgb(8,48,107)"
          ]
         ],
         "connectgaps": true,
         "contours": {
          "coloring": "heatmap"
         },
         "hoverinfo": "none",
         "line": {
          "smoothing": 1.3
         },
         "reversescale": true,
         "showscale": false,
         "type": "contour",
         "x": [
          1.8,
          2,
          3,
          4,
          5,
          6,
          6.2
         ],
         "xaxis": "x15",
         "y": [
          11,
          20,
          40,
          60,
          80,
          100,
          120,
          140,
          160,
          180,
          200,
          209
         ],
         "yaxis": "y15",
         "z": [
          [
           null,
           null,
           null,
           null,
           null,
           null,
           null
          ],
          [
           null,
           245.41158010586838,
           null,
           null,
           null,
           261.68417684918353,
           null
          ],
          [
           null,
           238.27120331458894,
           null,
           null,
           null,
           null,
           null
          ],
          [
           null,
           null,
           null,
           238.76371730071475,
           null,
           256.20020835967756,
           null
          ],
          [
           null,
           237.26424171917733,
           237.65016898064786,
           240.55132150762952,
           null,
           null,
           null
          ],
          [
           null,
           null,
           237.12162933122104,
           238.5982811435254,
           null,
           null,
           null
          ],
          [
           null,
           236.05656498429713,
           237.73630168347137,
           null,
           null,
           null,
           null
          ],
          [
           null,
           238.46162959325812,
           239.34833990366633,
           244.2061002552823,
           null,
           null,
           null
          ],
          [
           null,
           237.48156632355753,
           239.11274426627423,
           null,
           242.11606911047642,
           null,
           null
          ],
          [
           null,
           238.20104942325474,
           241.76655021980406,
           null,
           240.9223749080516,
           240.7165107331221,
           null
          ],
          [
           null,
           236.72667562221218,
           238.37106747223956,
           243.2052370891638,
           null,
           null,
           null
          ],
          [
           null,
           null,
           null,
           null,
           null,
           null,
           null
          ]
         ]
        },
        {
         "marker": {
          "color": "black",
          "line": {
           "color": "Grey",
           "width": 2
          }
         },
         "mode": "markers",
         "showlegend": false,
         "type": "scatter",
         "x": [
          6,
          3,
          6,
          3,
          2,
          4,
          6,
          6,
          4,
          5,
          4,
          4,
          3,
          3,
          2,
          3,
          3,
          2,
          5,
          3,
          5,
          2,
          2,
          2,
          3,
          2,
          2,
          2,
          2,
          3,
          2,
          2,
          2,
          3,
          2,
          3,
          2,
          2,
          3,
          2,
          3,
          2,
          2,
          2,
          2,
          3,
          4,
          2,
          2,
          4,
          4,
          2,
          2,
          2,
          2,
          2,
          2,
          2,
          6,
          2,
          5,
          2,
          2,
          2,
          2,
          2,
          2,
          3,
          2,
          2,
          3,
          2,
          2,
          2,
          2,
          2,
          2,
          2,
          2,
          2,
          3,
          3,
          3,
          3,
          3,
          3,
          3,
          3,
          3,
          4,
          3,
          3,
          3,
          3,
          4,
          3,
          3,
          3,
          4,
          2
         ],
         "xaxis": "x15",
         "y": [
          20,
          120,
          20,
          100,
          20,
          140,
          60,
          60,
          100,
          160,
          200,
          140,
          180,
          200,
          200,
          180,
          180,
          180,
          160,
          200,
          160,
          180,
          180,
          140,
          200,
          160,
          120,
          160,
          160,
          80,
          140,
          160,
          120,
          160,
          120,
          140,
          160,
          200,
          100,
          40,
          140,
          180,
          180,
          160,
          200,
          180,
          200,
          160,
          180,
          140,
          80,
          180,
          180,
          180,
          200,
          180,
          180,
          180,
          180,
          200,
          180,
          180,
          180,
          200,
          180,
          160,
          160,
          160,
          160,
          140,
          140,
          160,
          160,
          160,
          140,
          140,
          140,
          120,
          120,
          120,
          100,
          100,
          100,
          100,
          80,
          100,
          100,
          120,
          80,
          100,
          120,
          100,
          100,
          80,
          100,
          120,
          100,
          120,
          60,
          80
         ],
         "yaxis": "y15"
        },
        {
         "colorbar": {
          "title": {
           "text": "Objective Value"
          }
         },
         "colorscale": [
          [
           0,
           "rgb(247,251,255)"
          ],
          [
           0.125,
           "rgb(222,235,247)"
          ],
          [
           0.25,
           "rgb(198,219,239)"
          ],
          [
           0.375,
           "rgb(158,202,225)"
          ],
          [
           0.5,
           "rgb(107,174,214)"
          ],
          [
           0.625,
           "rgb(66,146,198)"
          ],
          [
           0.75,
           "rgb(33,113,181)"
          ],
          [
           0.875,
           "rgb(8,81,156)"
          ],
          [
           1,
           "rgb(8,48,107)"
          ]
         ],
         "connectgaps": true,
         "contours": {
          "coloring": "heatmap"
         },
         "hoverinfo": "none",
         "line": {
          "smoothing": 1.3
         },
         "reversescale": true,
         "showscale": false,
         "type": "contour",
         "x": [
          11,
          20,
          40,
          60,
          80,
          100,
          120,
          140,
          160,
          180,
          200,
          209
         ],
         "xaxis": "x4",
         "y": [
          1.6,
          2,
          3,
          4,
          5,
          6,
          7,
          8,
          9,
          10,
          10.4
         ],
         "yaxis": "y4",
         "z": [
          [
           null,
           null,
           null,
           null,
           null,
           null,
           null,
           null,
           null,
           null,
           null,
           null
          ],
          [
           null,
           null,
           null,
           null,
           null,
           null,
           null,
           null,
           256.77525354222183,
           null,
           null,
           null
          ],
          [
           null,
           261.68417684918353,
           null,
           256.20020835967756,
           null,
           265.1053644996907,
           null,
           null,
           null,
           null,
           null,
           null
          ],
          [
           null,
           null,
           null,
           null,
           null,
           null,
           246.23221531498461,
           245.59028173853488,
           null,
           null,
           null,
           null
          ],
          [
           null,
           null,
           null,
           245.682197796244,
           null,
           null,
           239.11596761733807,
           244.2061002552823,
           null,
           242.99534548487608,
           null,
           null
          ],
          [
           null,
           245.41158010586838,
           null,
           null,
           240.55132150762952,
           null,
           240.98733007361733,
           239.34833990366633,
           239.11274426627423,
           238.20104942325474,
           240.41317285449253,
           null
          ],
          [
           null,
           null,
           null,
           238.76371730071475,
           null,
           237.12162933122104,
           237.73630168347137,
           236.47435076973528,
           236.1498772166001,
           236.67826727874808,
           236.72667562221218,
           null
          ],
          [
           null,
           null,
           238.27120331458894,
           null,
           236.9212716708036,
           238.5982811435254,
           242.28152455127224,
           238.46162959325812,
           237.48156632355753,
           241.76655021980406,
           null,
           null
          ],
          [
           null,
           null,
           null,
           null,
           237.26424171917733,
           null,
           null,
           237.8008828185172,
           238.5245339861915,
           237.34277419415457,
           237.94973516787326,
           null
          ],
          [
           null,
           242.7988599572393,
           null,
           null,
           239.59660633152663,
           null,
           null,
           240.17436631431787,
           238.77070500699037,
           null,
           null,
           null
          ],
          [
           null,
           null,
           null,
           null,
           null,
           null,
           null,
           null,
           null,
           null,
           null,
           null
          ]
         ]
        },
        {
         "marker": {
          "color": "black",
          "line": {
           "color": "Grey",
           "width": 2
          }
         },
         "mode": "markers",
         "showlegend": false,
         "type": "scatter",
         "x": [
          20,
          120,
          20,
          100,
          20,
          140,
          60,
          60,
          100,
          160,
          200,
          140,
          180,
          200,
          200,
          180,
          180,
          180,
          160,
          200,
          160,
          180,
          180,
          140,
          200,
          160,
          120,
          160,
          160,
          80,
          140,
          160,
          120,
          160,
          120,
          140,
          160,
          200,
          100,
          40,
          140,
          180,
          180,
          160,
          200,
          180,
          200,
          160,
          180,
          140,
          80,
          180,
          180,
          180,
          200,
          180,
          180,
          180,
          180,
          200,
          180,
          180,
          180,
          200,
          180,
          160,
          160,
          160,
          160,
          140,
          140,
          160,
          160,
          160,
          140,
          140,
          140,
          120,
          120,
          120,
          100,
          100,
          100,
          100,
          80,
          100,
          100,
          120,
          80,
          100,
          120,
          100,
          100,
          80,
          100,
          120,
          100,
          120,
          60,
          80
         ],
         "xaxis": "x4",
         "y": [
          10,
          4,
          3,
          3,
          6,
          8,
          5,
          3,
          7,
          2,
          9,
          8,
          7,
          7,
          6,
          7,
          5,
          8,
          10,
          7,
          6,
          8,
          9,
          9,
          9,
          7,
          5,
          9,
          10,
          10,
          6,
          9,
          8,
          9,
          7,
          10,
          8,
          9,
          7,
          8,
          4,
          9,
          9,
          10,
          9,
          8,
          6,
          8,
          7,
          5,
          6,
          7,
          7,
          7,
          7,
          7,
          7,
          6,
          7,
          6,
          7,
          7,
          7,
          7,
          6,
          7,
          8,
          6,
          2,
          7,
          6,
          7,
          7,
          8,
          7,
          7,
          8,
          7,
          6,
          7,
          8,
          8,
          8,
          8,
          8,
          8,
          8,
          8,
          8,
          8,
          7,
          8,
          8,
          9,
          8,
          8,
          7,
          7,
          7,
          9
         ],
         "yaxis": "y4"
        },
        {
         "colorbar": {
          "title": {
           "text": "Objective Value"
          }
         },
         "colorscale": [
          [
           0,
           "rgb(247,251,255)"
          ],
          [
           0.125,
           "rgb(222,235,247)"
          ],
          [
           0.25,
           "rgb(198,219,239)"
          ],
          [
           0.375,
           "rgb(158,202,225)"
          ],
          [
           0.5,
           "rgb(107,174,214)"
          ],
          [
           0.625,
           "rgb(66,146,198)"
          ],
          [
           0.75,
           "rgb(33,113,181)"
          ],
          [
           0.875,
           "rgb(8,81,156)"
          ],
          [
           1,
           "rgb(8,48,107)"
          ]
         ],
         "connectgaps": true,
         "contours": {
          "coloring": "heatmap"
         },
         "hoverinfo": "none",
         "line": {
          "smoothing": 1.3
         },
         "reversescale": true,
         "showscale": false,
         "type": "contour",
         "x": [
          11,
          20,
          40,
          60,
          80,
          100,
          120,
          140,
          160,
          180,
          200,
          209
         ],
         "xaxis": "x8",
         "y": [
          1.85,
          2,
          3,
          4,
          5,
          5.15
         ],
         "yaxis": "y8",
         "z": [
          [
           null,
           null,
           null,
           null,
           null,
           null,
           null,
           null,
           null,
           null,
           null,
           null
          ],
          [
           null,
           261.68417684918353,
           null,
           null,
           null,
           265.1053644996907,
           242.28152455127224,
           null,
           240.598728127014,
           241.76655021980406,
           null,
           null
          ],
          [
           null,
           245.41158010586838,
           null,
           256.20020835967756,
           null,
           241.62220915775634,
           null,
           null,
           238.22190021167052,
           null,
           null,
           null
          ],
          [
           null,
           null,
           null,
           null,
           null,
           238.85562462061245,
           240.98733007361733,
           241.2131298531561,
           null,
           241.00467030151532,
           240.41317285449253,
           null
          ],
          [
           null,
           242.7988599572393,
           238.27120331458894,
           238.76371730071475,
           237.26424171917733,
           237.12162933122104,
           237.73630168347137,
           238.46162959325812,
           237.48156632355753,
           238.20104942325474,
           236.72667562221218,
           null
          ],
          [
           null,
           null,
           null,
           null,
           null,
           null,
           null,
           null,
           null,
           null,
           null,
           null
          ]
         ]
        },
        {
         "marker": {
          "color": "black",
          "line": {
           "color": "Grey",
           "width": 2
          }
         },
         "mode": "markers",
         "showlegend": false,
         "type": "scatter",
         "x": [
          20,
          120,
          20,
          100,
          20,
          140,
          60,
          60,
          100,
          160,
          200,
          140,
          180,
          200,
          200,
          180,
          180,
          180,
          160,
          200,
          160,
          180,
          180,
          140,
          200,
          160,
          120,
          160,
          160,
          80,
          140,
          160,
          120,
          160,
          120,
          140,
          160,
          200,
          100,
          40,
          140,
          180,
          180,
          160,
          200,
          180,
          200,
          160,
          180,
          140,
          80,
          180,
          180,
          180,
          200,
          180,
          180,
          180,
          180,
          200,
          180,
          180,
          180,
          200,
          180,
          160,
          160,
          160,
          160,
          140,
          140,
          160,
          160,
          160,
          140,
          140,
          140,
          120,
          120,
          120,
          100,
          100,
          100,
          100,
          80,
          100,
          100,
          120,
          80,
          100,
          120,
          100,
          100,
          80,
          100,
          120,
          100,
          120,
          60,
          80
         ],
         "xaxis": "x8",
         "y": [
          5,
          4,
          2,
          2,
          3,
          5,
          5,
          3,
          4,
          3,
          5,
          4,
          4,
          5,
          4,
          5,
          5,
          5,
          5,
          4,
          5,
          5,
          5,
          5,
          4,
          5,
          4,
          5,
          3,
          5,
          5,
          5,
          5,
          5,
          4,
          5,
          2,
          5,
          4,
          5,
          5,
          5,
          5,
          5,
          5,
          2,
          4,
          3,
          5,
          5,
          5,
          5,
          5,
          5,
          5,
          5,
          5,
          4,
          5,
          4,
          5,
          5,
          5,
          5,
          5,
          5,
          5,
          5,
          5,
          5,
          5,
          5,
          5,
          5,
          5,
          5,
          5,
          5,
          4,
          5,
          5,
          5,
          5,
          5,
          5,
          5,
          3,
          5,
          5,
          5,
          5,
          5,
          5,
          5,
          5,
          2,
          5,
          5,
          5,
          5
         ],
         "yaxis": "y8"
        },
        {
         "colorbar": {
          "title": {
           "text": "Objective Value"
          }
         },
         "colorscale": [
          [
           0,
           "rgb(247,251,255)"
          ],
          [
           0.125,
           "rgb(222,235,247)"
          ],
          [
           0.25,
           "rgb(198,219,239)"
          ],
          [
           0.375,
           "rgb(158,202,225)"
          ],
          [
           0.5,
           "rgb(107,174,214)"
          ],
          [
           0.625,
           "rgb(66,146,198)"
          ],
          [
           0.75,
           "rgb(33,113,181)"
          ],
          [
           0.875,
           "rgb(8,81,156)"
          ],
          [
           1,
           "rgb(8,48,107)"
          ]
         ],
         "connectgaps": true,
         "contours": {
          "coloring": "heatmap"
         },
         "hoverinfo": "none",
         "line": {
          "smoothing": 1.3
         },
         "reversescale": true,
         "showscale": false,
         "type": "contour",
         "x": [
          11,
          20,
          40,
          60,
          80,
          100,
          120,
          140,
          160,
          180,
          200,
          209
         ],
         "xaxis": "x12",
         "y": [
          1.8,
          2,
          3,
          4,
          5,
          6,
          6.2
         ],
         "yaxis": "y12",
         "z": [
          [
           null,
           null,
           null,
           null,
           null,
           null,
           null,
           null,
           null,
           null,
           null,
           null
          ],
          [
           null,
           245.41158010586838,
           238.27120331458894,
           null,
           237.26424171917733,
           null,
           236.05656498429713,
           238.46162959325812,
           237.48156632355753,
           238.20104942325474,
           236.72667562221218,
           null
          ],
          [
           null,
           null,
           null,
           null,
           237.65016898064786,
           237.12162933122104,
           237.73630168347137,
           239.34833990366633,
           239.11274426627423,
           241.76655021980406,
           238.37106747223956,
           null
          ],
          [
           null,
           null,
           null,
           238.76371730071475,
           240.55132150762952,
           238.5982811435254,
           null,
           244.2061002552823,
           null,
           null,
           243.2052370891638,
           null
          ],
          [
           null,
           null,
           null,
           null,
           null,
           null,
           null,
           null,
           242.11606911047642,
           240.9223749080516,
           null,
           null
          ],
          [
           null,
           261.68417684918353,
           null,
           256.20020835967756,
           null,
           null,
           null,
           null,
           null,
           240.7165107331221,
           null,
           null
          ],
          [
           null,
           null,
           null,
           null,
           null,
           null,
           null,
           null,
           null,
           null,
           null,
           null
          ]
         ]
        },
        {
         "marker": {
          "color": "black",
          "line": {
           "color": "Grey",
           "width": 2
          }
         },
         "mode": "markers",
         "showlegend": false,
         "type": "scatter",
         "x": [
          20,
          120,
          20,
          100,
          20,
          140,
          60,
          60,
          100,
          160,
          200,
          140,
          180,
          200,
          200,
          180,
          180,
          180,
          160,
          200,
          160,
          180,
          180,
          140,
          200,
          160,
          120,
          160,
          160,
          80,
          140,
          160,
          120,
          160,
          120,
          140,
          160,
          200,
          100,
          40,
          140,
          180,
          180,
          160,
          200,
          180,
          200,
          160,
          180,
          140,
          80,
          180,
          180,
          180,
          200,
          180,
          180,
          180,
          180,
          200,
          180,
          180,
          180,
          200,
          180,
          160,
          160,
          160,
          160,
          140,
          140,
          160,
          160,
          160,
          140,
          140,
          140,
          120,
          120,
          120,
          100,
          100,
          100,
          100,
          80,
          100,
          100,
          120,
          80,
          100,
          120,
          100,
          100,
          80,
          100,
          120,
          100,
          120,
          60,
          80
         ],
         "xaxis": "x12",
         "y": [
          6,
          3,
          6,
          3,
          2,
          4,
          6,
          6,
          4,
          5,
          4,
          4,
          3,
          3,
          2,
          3,
          3,
          2,
          5,
          3,
          5,
          2,
          2,
          2,
          3,
          2,
          2,
          2,
          2,
          3,
          2,
          2,
          2,
          3,
          2,
          3,
          2,
          2,
          3,
          2,
          3,
          2,
          2,
          2,
          2,
          3,
          4,
          2,
          2,
          4,
          4,
          2,
          2,
          2,
          2,
          2,
          2,
          2,
          6,
          2,
          5,
          2,
          2,
          2,
          2,
          2,
          2,
          3,
          2,
          2,
          3,
          2,
          2,
          2,
          2,
          2,
          2,
          2,
          2,
          2,
          3,
          3,
          3,
          3,
          3,
          3,
          3,
          3,
          3,
          4,
          3,
          3,
          3,
          3,
          4,
          3,
          3,
          3,
          4,
          2
         ],
         "yaxis": "y12"
        },
        {
         "type": "scatter",
         "xaxis": "x16",
         "yaxis": "y16"
        }
       ],
       "layout": {
        "template": {
         "data": {
          "bar": [
           {
            "error_x": {
             "color": "#2a3f5f"
            },
            "error_y": {
             "color": "#2a3f5f"
            },
            "marker": {
             "line": {
              "color": "#E5ECF6",
              "width": 0.5
             },
             "pattern": {
              "fillmode": "overlay",
              "size": 10,
              "solidity": 0.2
             }
            },
            "type": "bar"
           }
          ],
          "barpolar": [
           {
            "marker": {
             "line": {
              "color": "#E5ECF6",
              "width": 0.5
             },
             "pattern": {
              "fillmode": "overlay",
              "size": 10,
              "solidity": 0.2
             }
            },
            "type": "barpolar"
           }
          ],
          "carpet": [
           {
            "aaxis": {
             "endlinecolor": "#2a3f5f",
             "gridcolor": "white",
             "linecolor": "white",
             "minorgridcolor": "white",
             "startlinecolor": "#2a3f5f"
            },
            "baxis": {
             "endlinecolor": "#2a3f5f",
             "gridcolor": "white",
             "linecolor": "white",
             "minorgridcolor": "white",
             "startlinecolor": "#2a3f5f"
            },
            "type": "carpet"
           }
          ],
          "choropleth": [
           {
            "colorbar": {
             "outlinewidth": 0,
             "ticks": ""
            },
            "type": "choropleth"
           }
          ],
          "contour": [
           {
            "colorbar": {
             "outlinewidth": 0,
             "ticks": ""
            },
            "colorscale": [
             [
              0,
              "#0d0887"
             ],
             [
              0.1111111111111111,
              "#46039f"
             ],
             [
              0.2222222222222222,
              "#7201a8"
             ],
             [
              0.3333333333333333,
              "#9c179e"
             ],
             [
              0.4444444444444444,
              "#bd3786"
             ],
             [
              0.5555555555555556,
              "#d8576b"
             ],
             [
              0.6666666666666666,
              "#ed7953"
             ],
             [
              0.7777777777777778,
              "#fb9f3a"
             ],
             [
              0.8888888888888888,
              "#fdca26"
             ],
             [
              1,
              "#f0f921"
             ]
            ],
            "type": "contour"
           }
          ],
          "contourcarpet": [
           {
            "colorbar": {
             "outlinewidth": 0,
             "ticks": ""
            },
            "type": "contourcarpet"
           }
          ],
          "heatmap": [
           {
            "colorbar": {
             "outlinewidth": 0,
             "ticks": ""
            },
            "colorscale": [
             [
              0,
              "#0d0887"
             ],
             [
              0.1111111111111111,
              "#46039f"
             ],
             [
              0.2222222222222222,
              "#7201a8"
             ],
             [
              0.3333333333333333,
              "#9c179e"
             ],
             [
              0.4444444444444444,
              "#bd3786"
             ],
             [
              0.5555555555555556,
              "#d8576b"
             ],
             [
              0.6666666666666666,
              "#ed7953"
             ],
             [
              0.7777777777777778,
              "#fb9f3a"
             ],
             [
              0.8888888888888888,
              "#fdca26"
             ],
             [
              1,
              "#f0f921"
             ]
            ],
            "type": "heatmap"
           }
          ],
          "heatmapgl": [
           {
            "colorbar": {
             "outlinewidth": 0,
             "ticks": ""
            },
            "colorscale": [
             [
              0,
              "#0d0887"
             ],
             [
              0.1111111111111111,
              "#46039f"
             ],
             [
              0.2222222222222222,
              "#7201a8"
             ],
             [
              0.3333333333333333,
              "#9c179e"
             ],
             [
              0.4444444444444444,
              "#bd3786"
             ],
             [
              0.5555555555555556,
              "#d8576b"
             ],
             [
              0.6666666666666666,
              "#ed7953"
             ],
             [
              0.7777777777777778,
              "#fb9f3a"
             ],
             [
              0.8888888888888888,
              "#fdca26"
             ],
             [
              1,
              "#f0f921"
             ]
            ],
            "type": "heatmapgl"
           }
          ],
          "histogram": [
           {
            "marker": {
             "pattern": {
              "fillmode": "overlay",
              "size": 10,
              "solidity": 0.2
             }
            },
            "type": "histogram"
           }
          ],
          "histogram2d": [
           {
            "colorbar": {
             "outlinewidth": 0,
             "ticks": ""
            },
            "colorscale": [
             [
              0,
              "#0d0887"
             ],
             [
              0.1111111111111111,
              "#46039f"
             ],
             [
              0.2222222222222222,
              "#7201a8"
             ],
             [
              0.3333333333333333,
              "#9c179e"
             ],
             [
              0.4444444444444444,
              "#bd3786"
             ],
             [
              0.5555555555555556,
              "#d8576b"
             ],
             [
              0.6666666666666666,
              "#ed7953"
             ],
             [
              0.7777777777777778,
              "#fb9f3a"
             ],
             [
              0.8888888888888888,
              "#fdca26"
             ],
             [
              1,
              "#f0f921"
             ]
            ],
            "type": "histogram2d"
           }
          ],
          "histogram2dcontour": [
           {
            "colorbar": {
             "outlinewidth": 0,
             "ticks": ""
            },
            "colorscale": [
             [
              0,
              "#0d0887"
             ],
             [
              0.1111111111111111,
              "#46039f"
             ],
             [
              0.2222222222222222,
              "#7201a8"
             ],
             [
              0.3333333333333333,
              "#9c179e"
             ],
             [
              0.4444444444444444,
              "#bd3786"
             ],
             [
              0.5555555555555556,
              "#d8576b"
             ],
             [
              0.6666666666666666,
              "#ed7953"
             ],
             [
              0.7777777777777778,
              "#fb9f3a"
             ],
             [
              0.8888888888888888,
              "#fdca26"
             ],
             [
              1,
              "#f0f921"
             ]
            ],
            "type": "histogram2dcontour"
           }
          ],
          "mesh3d": [
           {
            "colorbar": {
             "outlinewidth": 0,
             "ticks": ""
            },
            "type": "mesh3d"
           }
          ],
          "parcoords": [
           {
            "line": {
             "colorbar": {
              "outlinewidth": 0,
              "ticks": ""
             }
            },
            "type": "parcoords"
           }
          ],
          "pie": [
           {
            "automargin": true,
            "type": "pie"
           }
          ],
          "scatter": [
           {
            "fillpattern": {
             "fillmode": "overlay",
             "size": 10,
             "solidity": 0.2
            },
            "type": "scatter"
           }
          ],
          "scatter3d": [
           {
            "line": {
             "colorbar": {
              "outlinewidth": 0,
              "ticks": ""
             }
            },
            "marker": {
             "colorbar": {
              "outlinewidth": 0,
              "ticks": ""
             }
            },
            "type": "scatter3d"
           }
          ],
          "scattercarpet": [
           {
            "marker": {
             "colorbar": {
              "outlinewidth": 0,
              "ticks": ""
             }
            },
            "type": "scattercarpet"
           }
          ],
          "scattergeo": [
           {
            "marker": {
             "colorbar": {
              "outlinewidth": 0,
              "ticks": ""
             }
            },
            "type": "scattergeo"
           }
          ],
          "scattergl": [
           {
            "marker": {
             "colorbar": {
              "outlinewidth": 0,
              "ticks": ""
             }
            },
            "type": "scattergl"
           }
          ],
          "scattermapbox": [
           {
            "marker": {
             "colorbar": {
              "outlinewidth": 0,
              "ticks": ""
             }
            },
            "type": "scattermapbox"
           }
          ],
          "scatterpolar": [
           {
            "marker": {
             "colorbar": {
              "outlinewidth": 0,
              "ticks": ""
             }
            },
            "type": "scatterpolar"
           }
          ],
          "scatterpolargl": [
           {
            "marker": {
             "colorbar": {
              "outlinewidth": 0,
              "ticks": ""
             }
            },
            "type": "scatterpolargl"
           }
          ],
          "scatterternary": [
           {
            "marker": {
             "colorbar": {
              "outlinewidth": 0,
              "ticks": ""
             }
            },
            "type": "scatterternary"
           }
          ],
          "surface": [
           {
            "colorbar": {
             "outlinewidth": 0,
             "ticks": ""
            },
            "colorscale": [
             [
              0,
              "#0d0887"
             ],
             [
              0.1111111111111111,
              "#46039f"
             ],
             [
              0.2222222222222222,
              "#7201a8"
             ],
             [
              0.3333333333333333,
              "#9c179e"
             ],
             [
              0.4444444444444444,
              "#bd3786"
             ],
             [
              0.5555555555555556,
              "#d8576b"
             ],
             [
              0.6666666666666666,
              "#ed7953"
             ],
             [
              0.7777777777777778,
              "#fb9f3a"
             ],
             [
              0.8888888888888888,
              "#fdca26"
             ],
             [
              1,
              "#f0f921"
             ]
            ],
            "type": "surface"
           }
          ],
          "table": [
           {
            "cells": {
             "fill": {
              "color": "#EBF0F8"
             },
             "line": {
              "color": "white"
             }
            },
            "header": {
             "fill": {
              "color": "#C8D4E3"
             },
             "line": {
              "color": "white"
             }
            },
            "type": "table"
           }
          ]
         },
         "layout": {
          "annotationdefaults": {
           "arrowcolor": "#2a3f5f",
           "arrowhead": 0,
           "arrowwidth": 1
          },
          "autotypenumbers": "strict",
          "coloraxis": {
           "colorbar": {
            "outlinewidth": 0,
            "ticks": ""
           }
          },
          "colorscale": {
           "diverging": [
            [
             0,
             "#8e0152"
            ],
            [
             0.1,
             "#c51b7d"
            ],
            [
             0.2,
             "#de77ae"
            ],
            [
             0.3,
             "#f1b6da"
            ],
            [
             0.4,
             "#fde0ef"
            ],
            [
             0.5,
             "#f7f7f7"
            ],
            [
             0.6,
             "#e6f5d0"
            ],
            [
             0.7,
             "#b8e186"
            ],
            [
             0.8,
             "#7fbc41"
            ],
            [
             0.9,
             "#4d9221"
            ],
            [
             1,
             "#276419"
            ]
           ],
           "sequential": [
            [
             0,
             "#0d0887"
            ],
            [
             0.1111111111111111,
             "#46039f"
            ],
            [
             0.2222222222222222,
             "#7201a8"
            ],
            [
             0.3333333333333333,
             "#9c179e"
            ],
            [
             0.4444444444444444,
             "#bd3786"
            ],
            [
             0.5555555555555556,
             "#d8576b"
            ],
            [
             0.6666666666666666,
             "#ed7953"
            ],
            [
             0.7777777777777778,
             "#fb9f3a"
            ],
            [
             0.8888888888888888,
             "#fdca26"
            ],
            [
             1,
             "#f0f921"
            ]
           ],
           "sequentialminus": [
            [
             0,
             "#0d0887"
            ],
            [
             0.1111111111111111,
             "#46039f"
            ],
            [
             0.2222222222222222,
             "#7201a8"
            ],
            [
             0.3333333333333333,
             "#9c179e"
            ],
            [
             0.4444444444444444,
             "#bd3786"
            ],
            [
             0.5555555555555556,
             "#d8576b"
            ],
            [
             0.6666666666666666,
             "#ed7953"
            ],
            [
             0.7777777777777778,
             "#fb9f3a"
            ],
            [
             0.8888888888888888,
             "#fdca26"
            ],
            [
             1,
             "#f0f921"
            ]
           ]
          },
          "colorway": [
           "#636efa",
           "#EF553B",
           "#00cc96",
           "#ab63fa",
           "#FFA15A",
           "#19d3f3",
           "#FF6692",
           "#B6E880",
           "#FF97FF",
           "#FECB52"
          ],
          "font": {
           "color": "#2a3f5f"
          },
          "geo": {
           "bgcolor": "white",
           "lakecolor": "white",
           "landcolor": "#E5ECF6",
           "showlakes": true,
           "showland": true,
           "subunitcolor": "white"
          },
          "hoverlabel": {
           "align": "left"
          },
          "hovermode": "closest",
          "mapbox": {
           "style": "light"
          },
          "paper_bgcolor": "white",
          "plot_bgcolor": "#E5ECF6",
          "polar": {
           "angularaxis": {
            "gridcolor": "white",
            "linecolor": "white",
            "ticks": ""
           },
           "bgcolor": "#E5ECF6",
           "radialaxis": {
            "gridcolor": "white",
            "linecolor": "white",
            "ticks": ""
           }
          },
          "scene": {
           "xaxis": {
            "backgroundcolor": "#E5ECF6",
            "gridcolor": "white",
            "gridwidth": 2,
            "linecolor": "white",
            "showbackground": true,
            "ticks": "",
            "zerolinecolor": "white"
           },
           "yaxis": {
            "backgroundcolor": "#E5ECF6",
            "gridcolor": "white",
            "gridwidth": 2,
            "linecolor": "white",
            "showbackground": true,
            "ticks": "",
            "zerolinecolor": "white"
           },
           "zaxis": {
            "backgroundcolor": "#E5ECF6",
            "gridcolor": "white",
            "gridwidth": 2,
            "linecolor": "white",
            "showbackground": true,
            "ticks": "",
            "zerolinecolor": "white"
           }
          },
          "shapedefaults": {
           "line": {
            "color": "#2a3f5f"
           }
          },
          "ternary": {
           "aaxis": {
            "gridcolor": "white",
            "linecolor": "white",
            "ticks": ""
           },
           "baxis": {
            "gridcolor": "white",
            "linecolor": "white",
            "ticks": ""
           },
           "bgcolor": "#E5ECF6",
           "caxis": {
            "gridcolor": "white",
            "linecolor": "white",
            "ticks": ""
           }
          },
          "title": {
           "x": 0.05
          },
          "xaxis": {
           "automargin": true,
           "gridcolor": "white",
           "linecolor": "white",
           "ticks": "",
           "title": {
            "standoff": 15
           },
           "zerolinecolor": "white",
           "zerolinewidth": 2
          },
          "yaxis": {
           "automargin": true,
           "gridcolor": "white",
           "linecolor": "white",
           "ticks": "",
           "title": {
            "standoff": 15
           },
           "zerolinecolor": "white",
           "zerolinewidth": 2
          }
         }
        },
        "title": {
         "text": "Contour Plot"
        },
        "xaxis": {
         "anchor": "y",
         "domain": [
          0,
          0.2125
         ],
         "matches": "x13",
         "range": [
          1.6,
          10.4
         ],
         "showticklabels": false
        },
        "xaxis10": {
         "anchor": "y10",
         "domain": [
          0.2625,
          0.475
         ],
         "matches": "x14",
         "range": [
          1.85,
          5.15
         ],
         "showticklabels": false
        },
        "xaxis11": {
         "anchor": "y11",
         "domain": [
          0.525,
          0.7375
         ],
         "matches": "x15",
         "range": [
          1.8,
          6.2
         ],
         "showticklabels": false
        },
        "xaxis12": {
         "anchor": "y12",
         "domain": [
          0.7875,
          1
         ],
         "matches": "x16",
         "range": [
          11,
          209
         ],
         "showticklabels": false
        },
        "xaxis13": {
         "anchor": "y13",
         "domain": [
          0,
          0.2125
         ],
         "range": [
          1.6,
          10.4
         ],
         "title": {
          "text": "max_depth"
         }
        },
        "xaxis14": {
         "anchor": "y14",
         "domain": [
          0.2625,
          0.475
         ],
         "range": [
          1.85,
          5.15
         ],
         "title": {
          "text": "max_features"
         }
        },
        "xaxis15": {
         "anchor": "y15",
         "domain": [
          0.525,
          0.7375
         ],
         "range": [
          1.8,
          6.2
         ],
         "title": {
          "text": "min_samples_split"
         }
        },
        "xaxis16": {
         "anchor": "y16",
         "domain": [
          0.7875,
          1
         ],
         "range": [
          11,
          209
         ],
         "title": {
          "text": "n_estimators"
         }
        },
        "xaxis2": {
         "anchor": "y2",
         "domain": [
          0.2625,
          0.475
         ],
         "matches": "x14",
         "range": [
          1.85,
          5.15
         ],
         "showticklabels": false
        },
        "xaxis3": {
         "anchor": "y3",
         "domain": [
          0.525,
          0.7375
         ],
         "matches": "x15",
         "range": [
          1.8,
          6.2
         ],
         "showticklabels": false
        },
        "xaxis4": {
         "anchor": "y4",
         "domain": [
          0.7875,
          1
         ],
         "matches": "x16",
         "range": [
          11,
          209
         ],
         "showticklabels": false
        },
        "xaxis5": {
         "anchor": "y5",
         "domain": [
          0,
          0.2125
         ],
         "matches": "x13",
         "range": [
          1.6,
          10.4
         ],
         "showticklabels": false
        },
        "xaxis6": {
         "anchor": "y6",
         "domain": [
          0.2625,
          0.475
         ],
         "matches": "x14",
         "range": [
          1.85,
          5.15
         ],
         "showticklabels": false
        },
        "xaxis7": {
         "anchor": "y7",
         "domain": [
          0.525,
          0.7375
         ],
         "matches": "x15",
         "range": [
          1.8,
          6.2
         ],
         "showticklabels": false
        },
        "xaxis8": {
         "anchor": "y8",
         "domain": [
          0.7875,
          1
         ],
         "matches": "x16",
         "range": [
          11,
          209
         ],
         "showticklabels": false
        },
        "xaxis9": {
         "anchor": "y9",
         "domain": [
          0,
          0.2125
         ],
         "matches": "x13",
         "range": [
          1.6,
          10.4
         ],
         "showticklabels": false
        },
        "yaxis": {
         "anchor": "x",
         "domain": [
          0.80625,
          1
         ],
         "range": [
          1.6,
          10.4
         ],
         "title": {
          "text": "max_depth"
         }
        },
        "yaxis10": {
         "anchor": "x10",
         "domain": [
          0.26875,
          0.4625
         ],
         "matches": "y9",
         "range": [
          1.8,
          6.2
         ],
         "showticklabels": false
        },
        "yaxis11": {
         "anchor": "x11",
         "domain": [
          0.26875,
          0.4625
         ],
         "matches": "y9",
         "range": [
          1.8,
          6.2
         ],
         "showticklabels": false
        },
        "yaxis12": {
         "anchor": "x12",
         "domain": [
          0.26875,
          0.4625
         ],
         "matches": "y9",
         "range": [
          1.8,
          6.2
         ],
         "showticklabels": false
        },
        "yaxis13": {
         "anchor": "x13",
         "domain": [
          0,
          0.19375
         ],
         "range": [
          11,
          209
         ],
         "title": {
          "text": "n_estimators"
         }
        },
        "yaxis14": {
         "anchor": "x14",
         "domain": [
          0,
          0.19375
         ],
         "matches": "y13",
         "range": [
          11,
          209
         ],
         "showticklabels": false
        },
        "yaxis15": {
         "anchor": "x15",
         "domain": [
          0,
          0.19375
         ],
         "matches": "y13",
         "range": [
          11,
          209
         ],
         "showticklabels": false
        },
        "yaxis16": {
         "anchor": "x16",
         "domain": [
          0,
          0.19375
         ],
         "matches": "y13",
         "range": [
          11,
          209
         ],
         "showticklabels": false
        },
        "yaxis2": {
         "anchor": "x2",
         "domain": [
          0.80625,
          1
         ],
         "matches": "y",
         "range": [
          1.6,
          10.4
         ],
         "showticklabels": false
        },
        "yaxis3": {
         "anchor": "x3",
         "domain": [
          0.80625,
          1
         ],
         "matches": "y",
         "range": [
          1.6,
          10.4
         ],
         "showticklabels": false
        },
        "yaxis4": {
         "anchor": "x4",
         "domain": [
          0.80625,
          1
         ],
         "matches": "y",
         "range": [
          1.6,
          10.4
         ],
         "showticklabels": false
        },
        "yaxis5": {
         "anchor": "x5",
         "domain": [
          0.5375,
          0.73125
         ],
         "range": [
          1.85,
          5.15
         ],
         "title": {
          "text": "max_features"
         }
        },
        "yaxis6": {
         "anchor": "x6",
         "domain": [
          0.5375,
          0.73125
         ],
         "matches": "y5",
         "range": [
          1.85,
          5.15
         ],
         "showticklabels": false
        },
        "yaxis7": {
         "anchor": "x7",
         "domain": [
          0.5375,
          0.73125
         ],
         "matches": "y5",
         "range": [
          1.85,
          5.15
         ],
         "showticklabels": false
        },
        "yaxis8": {
         "anchor": "x8",
         "domain": [
          0.5375,
          0.73125
         ],
         "matches": "y5",
         "range": [
          1.85,
          5.15
         ],
         "showticklabels": false
        },
        "yaxis9": {
         "anchor": "x9",
         "domain": [
          0.26875,
          0.4625
         ],
         "range": [
          1.8,
          6.2
         ],
         "title": {
          "text": "min_samples_split"
         }
        }
       }
      }
     },
     "metadata": {},
     "output_type": "display_data"
    },
    {
     "name": "stdout",
     "output_type": "stream",
     "text": [
      "\n",
      "The best hyperparameters for RF Regressor: {'n_estimators': 120, 'max_depth': 7, 'min_samples_split': 2, 'max_features': 5}\n",
      "\n",
      "MAE of the best Random Forest Regressor: Training data 144.977\n",
      "MAE of the best Random Forest Regressor: Test data 274.716\n"
     ]
    },
    {
     "data": {
      "image/png": "[encoded data removed]",
      "text/plain": [
       "<Figure size 432x288 with 1 Axes>"
      ]
     },
     "metadata": {
      "needs_background": "light"
     },
     "output_type": "display_data"
    }
   ],
   "source": [
    "\"\"\" \n",
    "A smaller value of n_trials can be used to run the code faster\n",
    "\n",
    "best_model: the untrained RF model with best hyperparameters\n",
    "final_trained_model_train_data: the best RF model trained on a \"training\" dataset (85% of the sample)\n",
    "final_trained_model_full_data: the best RF model trained on the full sample!\n",
    "\"\"\"\n",
    "best_model, final_trained_model_train_data, final_trained_model_full_data = RF_training_with_display(X,y, test_size = 0.15, n_trials = 100, display = True)"
   ]
  },
  {
   "cell_type": "markdown",
   "metadata": {},
   "source": [
    "### While the training process involves cross-validation, in the figures below, I show how the process is done on a single example.\n",
    "\n",
    "- Splitting sample into training and testing sets\n",
    "- Training the model using the \"best\" hyperparameters taken from the output of the previous function.\n",
    "- Showing the original M-R and the predicted M-R diagrams"
   ]
  },
  {
   "cell_type": "code",
   "execution_count": 22,
   "metadata": {},
   "outputs": [
    {
     "name": "stdout",
     "output_type": "stream",
     "text": [
      "Sizes of the samples:\n",
      "Train = 663, Test = 118\n"
     ]
    },
    {
     "data": {
      "text/plain": [
       "Text(0.5, 1.0, 'Training and Test data sets')"
      ]
     },
     "execution_count": 22,
     "metadata": {},
     "output_type": "execute_result"
    },
    {
     "data": {
      "image/png": "[encoded data removed]",
      "text/plain": [
       "<Figure size 720x504 with 1 Axes>"
      ]
     },
     "metadata": {
      "needs_background": "light"
     },
     "output_type": "display_data"
    }
   ],
   "source": [
    "X_train, X_test, y_train, y_test = train_test_split(X, y, test_size=0.15)\n",
    "\n",
    "print (f'Sizes of the samples:\\nTrain = {len(X_train)}, Test = {len(X_test)}')\n",
    "\n",
    "fig = plt.figure(figsize = (10,7))\n",
    "ax = plt.subplot(1,1,1)\n",
    "best_model.fit(X_train, y_train)\n",
    "MR_plot(ax, y_train, X_train.pl_rade, color = 'gray', label = 'Train', xscale = 'log', yscale = 'log')\n",
    "MR_plot(ax, y_test, X_test.pl_rade, color = 'black', label = 'Test', xscale = 'log', yscale = 'log')\n",
    "plt.legend(loc = 'best')\n",
    "plt.title('Training and Test data sets', fontsize = 15)"
   ]
  },
  {
   "cell_type": "code",
   "execution_count": 23,
   "metadata": {},
   "outputs": [
    {
     "data": {
      "text/plain": [
       "Text(0.5, 1.0, 'M-R diagram for the original and predicted  TEST data set')"
      ]
     },
     "execution_count": 23,
     "metadata": {},
     "output_type": "execute_result"
    },
    {
     "data": {
      "image/png": "[encoded data removed]",
      "text/plain": [
       "<Figure size 720x504 with 1 Axes>"
      ]
     },
     "metadata": {
      "needs_background": "light"
     },
     "output_type": "display_data"
    }
   ],
   "source": [
    "fig = plt.figure(figsize = (10,7))\n",
    "ax = plt.subplot(1,1,1)\n",
    "best_model.fit(X_train, y_train)\n",
    "M_predict_test = best_model.predict(X_test)\n",
    "MR_plot(ax, y_test, X_test.pl_rade, color = 'gray', label = 'real', xscale = 'log', yscale = 'log')\n",
    "MR_plot(ax, M_predict_test, X_test.pl_rade, color = 'black', label = 'predicted', xscale = 'log', yscale = 'log')\n",
    "plt.legend(loc = 'best')\n",
    "\n",
    "plt.title('M-R diagram for the original and predicted  TEST data set', fontsize = 15)\n"
   ]
  },
  {
   "cell_type": "markdown",
   "metadata": {},
   "source": [
    "### After training the model, it is time to predict Masses of planets without mass estimated"
   ]
  },
  {
   "cell_type": "code",
   "execution_count": 24,
   "metadata": {},
   "outputs": [
    {
     "name": "stderr",
     "output_type": "stream",
     "text": [
      "/home/vadibekyan/my_github/ExoPLots/mr_utils.py:314: SettingWithCopyWarning:\n",
      "\n",
      "\n",
      "A value is trying to be set on a copy of a slice from a DataFrame.\n",
      "Try using .loc[row_indexer,col_indexer] = value instead\n",
      "\n",
      "See the caveats in the documentation: https://pandas.pydata.org/pandas-docs/stable/user_guide/indexing.html#returning-a-view-versus-a-copy\n",
      "\n"
     ]
    }
   ],
   "source": [
    "# Selects planets without masses, but with relatively high precision (relative precision better than 50%) in R\n",
    "nea_R_final_table = creating_R_ML_table(nea_full_table)"
   ]
  },
  {
   "cell_type": "markdown",
   "metadata": {},
   "source": [
    "### Predicting M from R and other relevant parameters. Displaying the M-R diagram"
   ]
  },
  {
   "cell_type": "code",
   "execution_count": 25,
   "metadata": {},
   "outputs": [
    {
     "data": {
      "text/plain": [
       "<matplotlib.legend.Legend at 0x7fdff9b0ba30>"
      ]
     },
     "execution_count": 25,
     "metadata": {},
     "output_type": "execute_result"
    },
    {
     "data": {
      "image/png": "[encoded data removed]",
      "text/plain": [
       "<Figure size 720x504 with 1 Axes>"
      ]
     },
     "metadata": {
      "needs_background": "light"
     },
     "output_type": "display_data"
    }
   ],
   "source": [
    "M_pred = final_trained_model_full_data.predict(nea_R_final_table)\n",
    "\n",
    "fig = plt.figure(figsize = (10,7))\n",
    "ax = plt.subplot(1,1, 1)\n",
    "MR_plot(ax, M_pred, nea_R_final_table.pl_rade, color = 'black', label ='Predicted', xscale = 'log', yscale = 'log')\n",
    "MR_plot(ax, nea_MR_final_table.pl_bmasse, nea_MR_final_table.pl_rade, color = nea_MR_final_table['Teq'], label = 'Real')\n",
    "plt.legend(loc = 'best')\n"
   ]
  },
  {
   "cell_type": "code",
   "execution_count": 26,
   "metadata": {},
   "outputs": [
    {
     "data": {
      "text/plain": [
       "162.0933"
      ]
     },
     "execution_count": 26,
     "metadata": {},
     "output_type": "execute_result"
    }
   ],
   "source": [
    "nea_MR_final_table['pl_bmasse'].median()"
   ]
  },
  {
   "cell_type": "markdown",
   "metadata": {},
   "source": [
    "# Training on logarithmic Mass\n",
    "\n",
    "The masses of planets range from 0.07 to 6388 Mearth, with a mean and median values of ~340 and 160 MEarth. The skewed and bimodal distribution of the masses seems to lead to overestimation of the prediced masses and some 'strange' patterns (this might be also due to overfitting?). Better to train the model on log Masses."
   ]
  },
  {
   "cell_type": "code",
   "execution_count": 27,
   "metadata": {},
   "outputs": [],
   "source": [
    "nea_logMR_final_table = nea_MR_final_table.copy()\n",
    "\n",
    "nea_logMR_final_table['pl_bmasse_log'] = np.log10(nea_logMR_final_table['pl_bmasse'])\n",
    "\n",
    "y_log = nea_logMR_final_table['pl_bmasse_log']\n",
    "X_log = nea_logMR_final_table.drop(columns = ['pl_bmasse', 'pl_bmasse_log'])"
   ]
  },
  {
   "cell_type": "code",
   "execution_count": 28,
   "metadata": {},
   "outputs": [
    {
     "name": "stderr",
     "output_type": "stream",
     "text": [
      "\u001b[32m[I 2023-07-13 17:18:28,491]\u001b[0m A new study created in memory with name: no-name-5f418c1b-e100-43a7-b62c-d24968b77484\u001b[0m\n"
     ]
    },
    {
     "name": "stdout",
     "output_type": "stream",
     "text": [
      "The base MAE score from the training set is 0\n"
     ]
    },
    {
     "name": "stderr",
     "output_type": "stream",
     "text": [
      "\u001b[32m[I 2023-07-13 17:18:28,771]\u001b[0m Trial 0 finished with value: 0.22880040881299543 and parameters: {'n_estimators': 20, 'max_depth': 7, 'min_samples_split': 6, 'max_features': 5}. Best is trial 0 with value: 0.22880040881299543.\u001b[0m\n",
      "\u001b[32m[I 2023-07-13 17:18:30,790]\u001b[0m Trial 1 finished with value: 0.2323502642078017 and parameters: {'n_estimators': 200, 'max_depth': 5, 'min_samples_split': 2, 'max_features': 5}. Best is trial 0 with value: 0.22880040881299543.\u001b[0m\n",
      "\u001b[32m[I 2023-07-13 17:18:31,878]\u001b[0m Trial 2 finished with value: 0.22295180622771582 and parameters: {'n_estimators': 100, 'max_depth': 8, 'min_samples_split': 4, 'max_features': 4}. Best is trial 2 with value: 0.22295180622771582.\u001b[0m\n",
      "\u001b[32m[I 2023-07-13 17:18:32,098]\u001b[0m Trial 3 finished with value: 0.25869955172309295 and parameters: {'n_estimators': 20, 'max_depth': 5, 'min_samples_split': 6, 'max_features': 2}. Best is trial 2 with value: 0.22295180622771582.\u001b[0m\n",
      "\u001b[32m[I 2023-07-13 17:18:33,685]\u001b[0m Trial 4 finished with value: 0.23898422427976138 and parameters: {'n_estimators': 180, 'max_depth': 5, 'min_samples_split': 5, 'max_features': 3}. Best is trial 2 with value: 0.22295180622771582.\u001b[0m\n",
      "\u001b[32m[I 2023-07-13 17:18:34,387]\u001b[0m Trial 5 finished with value: 0.24005841405075096 and parameters: {'n_estimators': 80, 'max_depth': 4, 'min_samples_split': 2, 'max_features': 4}. Best is trial 2 with value: 0.22295180622771582.\u001b[0m\n",
      "\u001b[32m[I 2023-07-13 17:18:35,587]\u001b[0m Trial 6 finished with value: 0.2341344425773988 and parameters: {'n_estimators': 120, 'max_depth': 9, 'min_samples_split': 3, 'max_features': 2}. Best is trial 2 with value: 0.22295180622771582.\u001b[0m\n",
      "\u001b[32m[I 2023-07-13 17:18:35,972]\u001b[0m Trial 7 finished with value: 0.2297886856499444 and parameters: {'n_estimators': 40, 'max_depth': 8, 'min_samples_split': 5, 'max_features': 3}. Best is trial 2 with value: 0.22295180622771582.\u001b[0m\n",
      "\u001b[32m[I 2023-07-13 17:18:36,389]\u001b[0m Trial 8 finished with value: 0.24039433742169725 and parameters: {'n_estimators': 40, 'max_depth': 4, 'min_samples_split': 4, 'max_features': 5}. Best is trial 2 with value: 0.22295180622771582.\u001b[0m\n",
      "\u001b[32m[I 2023-07-13 17:18:36,609]\u001b[0m Trial 9 finished with value: 0.2338237111181721 and parameters: {'n_estimators': 20, 'max_depth': 8, 'min_samples_split': 2, 'max_features': 3}. Best is trial 2 with value: 0.22295180622771582.\u001b[0m\n",
      "\u001b[32m[I 2023-07-13 17:18:37,645]\u001b[0m Trial 10 finished with value: 0.2747909785333647 and parameters: {'n_estimators': 140, 'max_depth': 2, 'min_samples_split': 4, 'max_features': 4}. Best is trial 2 with value: 0.22295180622771582.\u001b[0m\n",
      "\u001b[32m[I 2023-07-13 17:18:38,657]\u001b[0m Trial 11 finished with value: 0.22453723971438522 and parameters: {'n_estimators': 80, 'max_depth': 10, 'min_samples_split': 6, 'max_features': 5}. Best is trial 2 with value: 0.22295180622771582.\u001b[0m\n",
      "\u001b[32m[I 2023-07-13 17:18:39,550]\u001b[0m Trial 12 finished with value: 0.22417884017062017 and parameters: {'n_estimators': 80, 'max_depth': 10, 'min_samples_split': 5, 'max_features': 4}. Best is trial 2 with value: 0.22295180622771582.\u001b[0m\n",
      "\u001b[32m[I 2023-07-13 17:18:40,454]\u001b[0m Trial 13 finished with value: 0.22417884017062017 and parameters: {'n_estimators': 80, 'max_depth': 10, 'min_samples_split': 5, 'max_features': 4}. Best is trial 2 with value: 0.22295180622771582.\u001b[0m\n",
      "\u001b[32m[I 2023-07-13 17:18:41,969]\u001b[0m Trial 14 finished with value: 0.2237049974787862 and parameters: {'n_estimators': 140, 'max_depth': 8, 'min_samples_split': 3, 'max_features': 4}. Best is trial 2 with value: 0.22295180622771582.\u001b[0m\n",
      "\u001b[32m[I 2023-07-13 17:18:43,565]\u001b[0m Trial 15 finished with value: 0.2250749032877386 and parameters: {'n_estimators': 160, 'max_depth': 7, 'min_samples_split': 3, 'max_features': 4}. Best is trial 2 with value: 0.22295180622771582.\u001b[0m\n",
      "\u001b[32m[I 2023-07-13 17:18:44,753]\u001b[0m Trial 16 finished with value: 0.22634460988866972 and parameters: {'n_estimators': 120, 'max_depth': 8, 'min_samples_split': 3, 'max_features': 3}. Best is trial 2 with value: 0.22295180622771582.\u001b[0m\n",
      "\u001b[32m[I 2023-07-13 17:18:46,217]\u001b[0m Trial 17 finished with value: 0.22525672553439344 and parameters: {'n_estimators': 140, 'max_depth': 7, 'min_samples_split': 3, 'max_features': 4}. Best is trial 2 with value: 0.22295180622771582.\u001b[0m\n",
      "\u001b[32m[I 2023-07-13 17:18:47,203]\u001b[0m Trial 18 finished with value: 0.22545942906684657 and parameters: {'n_estimators': 100, 'max_depth': 9, 'min_samples_split': 4, 'max_features': 3}. Best is trial 2 with value: 0.22295180622771582.\u001b[0m\n",
      "\u001b[32m[I 2023-07-13 17:18:48,920]\u001b[0m Trial 19 finished with value: 0.22823726041557846 and parameters: {'n_estimators': 160, 'max_depth': 6, 'min_samples_split': 4, 'max_features': 5}. Best is trial 2 with value: 0.22295180622771582.\u001b[0m\n",
      "\u001b[32m[I 2023-07-13 17:18:50,024]\u001b[0m Trial 20 finished with value: 0.2233947382365013 and parameters: {'n_estimators': 100, 'max_depth': 9, 'min_samples_split': 3, 'max_features': 4}. Best is trial 2 with value: 0.22295180622771582.\u001b[0m\n",
      "\u001b[32m[I 2023-07-13 17:18:51,161]\u001b[0m Trial 21 finished with value: 0.2233947382365013 and parameters: {'n_estimators': 100, 'max_depth': 9, 'min_samples_split': 3, 'max_features': 4}. Best is trial 2 with value: 0.22295180622771582.\u001b[0m\n",
      "\u001b[32m[I 2023-07-13 17:18:52,329]\u001b[0m Trial 22 finished with value: 0.2239387395651416 and parameters: {'n_estimators': 100, 'max_depth': 9, 'min_samples_split': 4, 'max_features': 4}. Best is trial 2 with value: 0.22295180622771582.\u001b[0m\n",
      "\u001b[32m[I 2023-07-13 17:18:53,071]\u001b[0m Trial 23 finished with value: 0.22317920247272624 and parameters: {'n_estimators': 60, 'max_depth': 9, 'min_samples_split': 3, 'max_features': 4}. Best is trial 2 with value: 0.22295180622771582.\u001b[0m\n",
      "\u001b[32m[I 2023-07-13 17:18:53,751]\u001b[0m Trial 24 finished with value: 0.22430686863218732 and parameters: {'n_estimators': 60, 'max_depth': 9, 'min_samples_split': 2, 'max_features': 3}. Best is trial 2 with value: 0.22295180622771582.\u001b[0m\n",
      "\u001b[32m[I 2023-07-13 17:18:54,469]\u001b[0m Trial 25 finished with value: 0.22234320484534584 and parameters: {'n_estimators': 60, 'max_depth': 10, 'min_samples_split': 3, 'max_features': 4}. Best is trial 25 with value: 0.22234320484534584.\u001b[0m\n",
      "\u001b[32m[I 2023-07-13 17:18:55,255]\u001b[0m Trial 26 finished with value: 0.22408716738055529 and parameters: {'n_estimators': 60, 'max_depth': 10, 'min_samples_split': 4, 'max_features': 5}. Best is trial 25 with value: 0.22234320484534584.\u001b[0m\n",
      "\u001b[32m[I 2023-07-13 17:18:56,148]\u001b[0m Trial 27 finished with value: 0.22234320484534584 and parameters: {'n_estimators': 60, 'max_depth': 10, 'min_samples_split': 3, 'max_features': 4}. Best is trial 25 with value: 0.22234320484534584.\u001b[0m\n",
      "\u001b[32m[I 2023-07-13 17:18:56,718]\u001b[0m Trial 28 finished with value: 0.22819253244497442 and parameters: {'n_estimators': 40, 'max_depth': 10, 'min_samples_split': 2, 'max_features': 3}. Best is trial 25 with value: 0.22234320484534584.\u001b[0m\n",
      "\u001b[32m[I 2023-07-13 17:18:57,632]\u001b[0m Trial 29 finished with value: 0.22575557994769727 and parameters: {'n_estimators': 60, 'max_depth': 7, 'min_samples_split': 4, 'max_features': 5}. Best is trial 25 with value: 0.22234320484534584.\u001b[0m\n",
      "\u001b[32m[I 2023-07-13 17:18:58,207]\u001b[0m Trial 30 finished with value: 0.22932952606526924 and parameters: {'n_estimators': 40, 'max_depth': 6, 'min_samples_split': 3, 'max_features': 5}. Best is trial 25 with value: 0.22234320484534584.\u001b[0m\n",
      "\u001b[32m[I 2023-07-13 17:18:59,028]\u001b[0m Trial 31 finished with value: 0.22234320484534584 and parameters: {'n_estimators': 60, 'max_depth': 10, 'min_samples_split': 3, 'max_features': 4}. Best is trial 25 with value: 0.22234320484534584.\u001b[0m\n",
      "\u001b[32m[I 2023-07-13 17:18:59,915]\u001b[0m Trial 32 finished with value: 0.22399043943619423 and parameters: {'n_estimators': 60, 'max_depth': 10, 'min_samples_split': 2, 'max_features': 4}. Best is trial 25 with value: 0.22234320484534584.\u001b[0m\n",
      "\u001b[32m[I 2023-07-13 17:19:00,219]\u001b[0m Trial 33 finished with value: 0.22715189869362828 and parameters: {'n_estimators': 20, 'max_depth': 10, 'min_samples_split': 3, 'max_features': 4}. Best is trial 25 with value: 0.22234320484534584.\u001b[0m\n",
      "\u001b[32m[I 2023-07-13 17:19:01,200]\u001b[0m Trial 34 finished with value: 0.22304649138978005 and parameters: {'n_estimators': 80, 'max_depth': 8, 'min_samples_split': 4, 'max_features': 4}. Best is trial 25 with value: 0.22234320484534584.\u001b[0m\n",
      "\u001b[32m[I 2023-07-13 17:19:03,937]\u001b[0m Trial 35 finished with value: 0.22283016912297554 and parameters: {'n_estimators': 200, 'max_depth': 10, 'min_samples_split': 2, 'max_features': 4}. Best is trial 25 with value: 0.22234320484534584.\u001b[0m\n",
      "\u001b[32m[I 2023-07-13 17:19:06,877]\u001b[0m Trial 36 finished with value: 0.22283016912297554 and parameters: {'n_estimators': 200, 'max_depth': 10, 'min_samples_split': 2, 'max_features': 4}. Best is trial 25 with value: 0.22234320484534584.\u001b[0m\n",
      "\u001b[32m[I 2023-07-13 17:19:08,436]\u001b[0m Trial 37 finished with value: 0.3344115271071234 and parameters: {'n_estimators': 200, 'max_depth': 2, 'min_samples_split': 2, 'max_features': 2}. Best is trial 25 with value: 0.22234320484534584.\u001b[0m\n",
      "\u001b[32m[I 2023-07-13 17:19:11,189]\u001b[0m Trial 38 finished with value: 0.22365436587382356 and parameters: {'n_estimators': 180, 'max_depth': 9, 'min_samples_split': 2, 'max_features': 5}. Best is trial 25 with value: 0.22234320484534584.\u001b[0m\n",
      "\u001b[32m[I 2023-07-13 17:19:11,609]\u001b[0m Trial 39 finished with value: 0.26820061907623627 and parameters: {'n_estimators': 40, 'max_depth': 3, 'min_samples_split': 3, 'max_features': 3}. Best is trial 25 with value: 0.22234320484534584.\u001b[0m\n",
      "\u001b[32m[I 2023-07-13 17:19:14,440]\u001b[0m Trial 40 finished with value: 0.22302503676185248 and parameters: {'n_estimators': 180, 'max_depth': 10, 'min_samples_split': 2, 'max_features': 4}. Best is trial 25 with value: 0.22234320484534584.\u001b[0m\n",
      "\u001b[32m[I 2023-07-13 17:19:17,422]\u001b[0m Trial 41 finished with value: 0.22283016912297554 and parameters: {'n_estimators': 200, 'max_depth': 10, 'min_samples_split': 2, 'max_features': 4}. Best is trial 25 with value: 0.22234320484534584.\u001b[0m\n",
      "\u001b[32m[I 2023-07-13 17:19:20,125]\u001b[0m Trial 42 finished with value: 0.22283016912297554 and parameters: {'n_estimators': 200, 'max_depth': 10, 'min_samples_split': 2, 'max_features': 4}. Best is trial 25 with value: 0.22234320484534584.\u001b[0m\n",
      "\u001b[32m[I 2023-07-13 17:19:22,206]\u001b[0m Trial 43 finished with value: 0.22318462408000386 and parameters: {'n_estimators': 160, 'max_depth': 9, 'min_samples_split': 2, 'max_features': 4}. Best is trial 25 with value: 0.22234320484534584.\u001b[0m\n",
      "\u001b[32m[I 2023-07-13 17:19:24,848]\u001b[0m Trial 44 finished with value: 0.22218442512148567 and parameters: {'n_estimators': 180, 'max_depth': 10, 'min_samples_split': 3, 'max_features': 4}. Best is trial 44 with value: 0.22218442512148567.\u001b[0m\n",
      "\u001b[32m[I 2023-07-13 17:19:27,186]\u001b[0m Trial 45 finished with value: 0.2228999028280949 and parameters: {'n_estimators': 180, 'max_depth': 9, 'min_samples_split': 3, 'max_features': 4}. Best is trial 44 with value: 0.22218442512148567.\u001b[0m\n",
      "\u001b[32m[I 2023-07-13 17:19:27,454]\u001b[0m Trial 46 finished with value: 0.23060925085623935 and parameters: {'n_estimators': 20, 'max_depth': 10, 'min_samples_split': 3, 'max_features': 3}. Best is trial 44 with value: 0.22218442512148567.\u001b[0m\n",
      "\u001b[32m[I 2023-07-13 17:19:28,454]\u001b[0m Trial 47 finished with value: 0.22289639172889003 and parameters: {'n_estimators': 80, 'max_depth': 8, 'min_samples_split': 3, 'max_features': 4}. Best is trial 44 with value: 0.22218442512148567.\u001b[0m\n",
      "\u001b[32m[I 2023-07-13 17:19:28,990]\u001b[0m Trial 48 finished with value: 0.2327561062961737 and parameters: {'n_estimators': 40, 'max_depth': 5, 'min_samples_split': 3, 'max_features': 5}. Best is trial 44 with value: 0.22218442512148567.\u001b[0m\n",
      "\u001b[32m[I 2023-07-13 17:19:31,452]\u001b[0m Trial 49 finished with value: 0.2234286045982868 and parameters: {'n_estimators': 180, 'max_depth': 10, 'min_samples_split': 4, 'max_features': 4}. Best is trial 44 with value: 0.22218442512148567.\u001b[0m\n",
      "\u001b[32m[I 2023-07-13 17:19:32,789]\u001b[0m Trial 50 finished with value: 0.2243293056273868 and parameters: {'n_estimators': 120, 'max_depth': 9, 'min_samples_split': 6, 'max_features': 3}. Best is trial 44 with value: 0.22218442512148567.\u001b[0m\n",
      "\u001b[32m[I 2023-07-13 17:19:35,499]\u001b[0m Trial 51 finished with value: 0.22283016912297554 and parameters: {'n_estimators': 200, 'max_depth': 10, 'min_samples_split': 2, 'max_features': 4}. Best is trial 44 with value: 0.22218442512148567.\u001b[0m\n",
      "\u001b[32m[I 2023-07-13 17:19:38,219]\u001b[0m Trial 52 finished with value: 0.22283016912297554 and parameters: {'n_estimators': 200, 'max_depth': 10, 'min_samples_split': 2, 'max_features': 4}. Best is trial 44 with value: 0.22218442512148567.\u001b[0m\n",
      "\u001b[32m[I 2023-07-13 17:19:40,664]\u001b[0m Trial 53 finished with value: 0.22218442512148567 and parameters: {'n_estimators': 180, 'max_depth': 10, 'min_samples_split': 3, 'max_features': 4}. Best is trial 44 with value: 0.22218442512148567.\u001b[0m\n",
      "\u001b[32m[I 2023-07-13 17:19:42,295]\u001b[0m Trial 54 finished with value: 0.2412566019069901 and parameters: {'n_estimators': 160, 'max_depth': 4, 'min_samples_split': 3, 'max_features': 4}. Best is trial 44 with value: 0.22218442512148567.\u001b[0m\n",
      "\u001b[32m[I 2023-07-13 17:19:44,550]\u001b[0m Trial 55 finished with value: 0.2228999028280949 and parameters: {'n_estimators': 180, 'max_depth': 9, 'min_samples_split': 3, 'max_features': 4}. Best is trial 44 with value: 0.22218442512148567.\u001b[0m\n",
      "\u001b[32m[I 2023-07-13 17:19:46,357]\u001b[0m Trial 56 finished with value: 0.22261403820342002 and parameters: {'n_estimators': 140, 'max_depth': 10, 'min_samples_split': 3, 'max_features': 4}. Best is trial 44 with value: 0.22218442512148567.\u001b[0m\n",
      "\u001b[32m[I 2023-07-13 17:19:48,189]\u001b[0m Trial 57 finished with value: 0.2237049974787862 and parameters: {'n_estimators': 140, 'max_depth': 8, 'min_samples_split': 3, 'max_features': 4}. Best is trial 44 with value: 0.22218442512148567.\u001b[0m\n",
      "\u001b[32m[I 2023-07-13 17:19:50,586]\u001b[0m Trial 58 finished with value: 0.22390984334255942 and parameters: {'n_estimators': 160, 'max_depth': 9, 'min_samples_split': 3, 'max_features': 5}. Best is trial 44 with value: 0.22218442512148567.\u001b[0m\n",
      "\u001b[32m[I 2023-07-13 17:19:52,284]\u001b[0m Trial 59 finished with value: 0.22235775800615368 and parameters: {'n_estimators': 120, 'max_depth': 10, 'min_samples_split': 3, 'max_features': 4}. Best is trial 44 with value: 0.22218442512148567.\u001b[0m\n",
      "\u001b[32m[I 2023-07-13 17:19:53,945]\u001b[0m Trial 60 finished with value: 0.22358350854850503 and parameters: {'n_estimators': 120, 'max_depth': 9, 'min_samples_split': 4, 'max_features': 4}. Best is trial 44 with value: 0.22218442512148567.\u001b[0m\n",
      "\u001b[32m[I 2023-07-13 17:19:55,901]\u001b[0m Trial 61 finished with value: 0.22261403820342002 and parameters: {'n_estimators': 140, 'max_depth': 10, 'min_samples_split': 3, 'max_features': 4}. Best is trial 44 with value: 0.22218442512148567.\u001b[0m\n",
      "\u001b[32m[I 2023-07-13 17:19:57,509]\u001b[0m Trial 62 finished with value: 0.22235775800615368 and parameters: {'n_estimators': 120, 'max_depth': 10, 'min_samples_split': 3, 'max_features': 4}. Best is trial 44 with value: 0.22218442512148567.\u001b[0m\n",
      "\u001b[32m[I 2023-07-13 17:19:58,717]\u001b[0m Trial 63 finished with value: 0.222080777800883 and parameters: {'n_estimators': 80, 'max_depth': 10, 'min_samples_split': 3, 'max_features': 4}. Best is trial 63 with value: 0.222080777800883.\u001b[0m\n",
      "\u001b[32m[I 2023-07-13 17:19:59,542]\u001b[0m Trial 64 finished with value: 0.22317920247272624 and parameters: {'n_estimators': 60, 'max_depth': 9, 'min_samples_split': 3, 'max_features': 4}. Best is trial 63 with value: 0.222080777800883.\u001b[0m\n",
      "\u001b[32m[I 2023-07-13 17:20:00,711]\u001b[0m Trial 65 finished with value: 0.222080777800883 and parameters: {'n_estimators': 80, 'max_depth': 10, 'min_samples_split': 3, 'max_features': 4}. Best is trial 63 with value: 0.222080777800883.\u001b[0m\n",
      "\u001b[32m[I 2023-07-13 17:20:01,765]\u001b[0m Trial 66 finished with value: 0.222080777800883 and parameters: {'n_estimators': 80, 'max_depth': 10, 'min_samples_split': 3, 'max_features': 4}. Best is trial 63 with value: 0.222080777800883.\u001b[0m\n",
      "\u001b[32m[I 2023-07-13 17:20:02,746]\u001b[0m Trial 67 finished with value: 0.22503340523387708 and parameters: {'n_estimators': 80, 'max_depth': 10, 'min_samples_split': 3, 'max_features': 3}. Best is trial 63 with value: 0.222080777800883.\u001b[0m\n",
      "\u001b[32m[I 2023-07-13 17:20:03,728]\u001b[0m Trial 68 finished with value: 0.22378543227012226 and parameters: {'n_estimators': 80, 'max_depth': 9, 'min_samples_split': 4, 'max_features': 4}. Best is trial 63 with value: 0.222080777800883.\u001b[0m\n",
      "\u001b[32m[I 2023-07-13 17:20:04,851]\u001b[0m Trial 69 finished with value: 0.23289163170023217 and parameters: {'n_estimators': 100, 'max_depth': 10, 'min_samples_split': 3, 'max_features': 2}. Best is trial 63 with value: 0.222080777800883.\u001b[0m\n",
      "\u001b[32m[I 2023-07-13 17:20:06,384]\u001b[0m Trial 70 finished with value: 0.2254338280870211 and parameters: {'n_estimators': 100, 'max_depth': 8, 'min_samples_split': 3, 'max_features': 5}. Best is trial 63 with value: 0.222080777800883.\u001b[0m\n",
      "\u001b[32m[I 2023-07-13 17:20:07,306]\u001b[0m Trial 71 finished with value: 0.22234320484534584 and parameters: {'n_estimators': 60, 'max_depth': 10, 'min_samples_split': 3, 'max_features': 4}. Best is trial 63 with value: 0.222080777800883.\u001b[0m\n",
      "\u001b[32m[I 2023-07-13 17:20:08,158]\u001b[0m Trial 72 finished with value: 0.22234320484534584 and parameters: {'n_estimators': 60, 'max_depth': 10, 'min_samples_split': 3, 'max_features': 4}. Best is trial 63 with value: 0.222080777800883.\u001b[0m\n",
      "\u001b[32m[I 2023-07-13 17:20:09,306]\u001b[0m Trial 73 finished with value: 0.22319159921458218 and parameters: {'n_estimators': 80, 'max_depth': 9, 'min_samples_split': 3, 'max_features': 4}. Best is trial 63 with value: 0.222080777800883.\u001b[0m\n",
      "\u001b[32m[I 2023-07-13 17:20:10,274]\u001b[0m Trial 74 finished with value: 0.22234320484534584 and parameters: {'n_estimators': 60, 'max_depth': 10, 'min_samples_split': 3, 'max_features': 4}. Best is trial 63 with value: 0.222080777800883.\u001b[0m\n",
      "\u001b[32m[I 2023-07-13 17:20:11,397]\u001b[0m Trial 75 finished with value: 0.22382329160023962 and parameters: {'n_estimators': 80, 'max_depth': 10, 'min_samples_split': 4, 'max_features': 4}. Best is trial 63 with value: 0.222080777800883.\u001b[0m\n",
      "\u001b[32m[I 2023-07-13 17:20:12,281]\u001b[0m Trial 76 finished with value: 0.22317920247272624 and parameters: {'n_estimators': 60, 'max_depth': 9, 'min_samples_split': 3, 'max_features': 4}. Best is trial 63 with value: 0.222080777800883.\u001b[0m\n",
      "\u001b[32m[I 2023-07-13 17:20:12,912]\u001b[0m Trial 77 finished with value: 0.22279506526108586 and parameters: {'n_estimators': 40, 'max_depth': 10, 'min_samples_split': 3, 'max_features': 4}. Best is trial 63 with value: 0.222080777800883.\u001b[0m\n",
      "\u001b[32m[I 2023-07-13 17:20:14,250]\u001b[0m Trial 78 finished with value: 0.22382329160023962 and parameters: {'n_estimators': 80, 'max_depth': 10, 'min_samples_split': 4, 'max_features': 4}. Best is trial 63 with value: 0.222080777800883.\u001b[0m\n",
      "\u001b[32m[I 2023-07-13 17:20:15,226]\u001b[0m Trial 79 finished with value: 0.22317920247272624 and parameters: {'n_estimators': 60, 'max_depth': 9, 'min_samples_split': 3, 'max_features': 4}. Best is trial 63 with value: 0.222080777800883.\u001b[0m\n",
      "\u001b[32m[I 2023-07-13 17:20:15,834]\u001b[0m Trial 80 finished with value: 0.22279506526108586 and parameters: {'n_estimators': 40, 'max_depth': 10, 'min_samples_split': 3, 'max_features': 4}. Best is trial 63 with value: 0.222080777800883.\u001b[0m\n",
      "\u001b[32m[I 2023-07-13 17:20:16,735]\u001b[0m Trial 81 finished with value: 0.22234320484534584 and parameters: {'n_estimators': 60, 'max_depth': 10, 'min_samples_split': 3, 'max_features': 4}. Best is trial 63 with value: 0.222080777800883.\u001b[0m\n",
      "\u001b[32m[I 2023-07-13 17:20:17,964]\u001b[0m Trial 82 finished with value: 0.222080777800883 and parameters: {'n_estimators': 80, 'max_depth': 10, 'min_samples_split': 3, 'max_features': 4}. Best is trial 63 with value: 0.222080777800883.\u001b[0m\n",
      "\u001b[32m[I 2023-07-13 17:20:19,199]\u001b[0m Trial 83 finished with value: 0.222080777800883 and parameters: {'n_estimators': 80, 'max_depth': 10, 'min_samples_split': 3, 'max_features': 4}. Best is trial 63 with value: 0.222080777800883.\u001b[0m\n",
      "\u001b[32m[I 2023-07-13 17:20:20,592]\u001b[0m Trial 84 finished with value: 0.2225264800074731 and parameters: {'n_estimators': 100, 'max_depth': 10, 'min_samples_split': 3, 'max_features': 4}. Best is trial 63 with value: 0.222080777800883.\u001b[0m\n",
      "\u001b[32m[I 2023-07-13 17:20:21,828]\u001b[0m Trial 85 finished with value: 0.22319159921458218 and parameters: {'n_estimators': 80, 'max_depth': 9, 'min_samples_split': 3, 'max_features': 4}. Best is trial 63 with value: 0.222080777800883.\u001b[0m\n",
      "\u001b[32m[I 2023-07-13 17:20:23,292]\u001b[0m Trial 86 finished with value: 0.2225264800074731 and parameters: {'n_estimators': 100, 'max_depth': 10, 'min_samples_split': 3, 'max_features': 4}. Best is trial 63 with value: 0.222080777800883.\u001b[0m\n",
      "\u001b[32m[I 2023-07-13 17:20:24,148]\u001b[0m Trial 87 finished with value: 0.22504311983927083 and parameters: {'n_estimators': 80, 'max_depth': 7, 'min_samples_split': 3, 'max_features': 4}. Best is trial 63 with value: 0.222080777800883.\u001b[0m\n",
      "\u001b[32m[I 2023-07-13 17:20:25,336]\u001b[0m Trial 88 finished with value: 0.222080777800883 and parameters: {'n_estimators': 80, 'max_depth': 10, 'min_samples_split': 3, 'max_features': 4}. Best is trial 63 with value: 0.222080777800883.\u001b[0m\n",
      "\u001b[32m[I 2023-07-13 17:20:26,432]\u001b[0m Trial 89 finished with value: 0.22413083555187302 and parameters: {'n_estimators': 100, 'max_depth': 9, 'min_samples_split': 3, 'max_features': 3}. Best is trial 63 with value: 0.222080777800883.\u001b[0m\n",
      "\u001b[32m[I 2023-07-13 17:20:27,265]\u001b[0m Trial 90 finished with value: 0.2327735735362481 and parameters: {'n_estimators': 80, 'max_depth': 5, 'min_samples_split': 3, 'max_features': 4}. Best is trial 63 with value: 0.222080777800883.\u001b[0m\n",
      "\u001b[32m[I 2023-07-13 17:20:28,567]\u001b[0m Trial 91 finished with value: 0.222080777800883 and parameters: {'n_estimators': 80, 'max_depth': 10, 'min_samples_split': 3, 'max_features': 4}. Best is trial 63 with value: 0.222080777800883.\u001b[0m\n",
      "\u001b[32m[I 2023-07-13 17:20:29,673]\u001b[0m Trial 92 finished with value: 0.22417884017062017 and parameters: {'n_estimators': 80, 'max_depth': 10, 'min_samples_split': 5, 'max_features': 4}. Best is trial 63 with value: 0.222080777800883.\u001b[0m\n",
      "\u001b[32m[I 2023-07-13 17:20:30,868]\u001b[0m Trial 93 finished with value: 0.222080777800883 and parameters: {'n_estimators': 80, 'max_depth': 10, 'min_samples_split': 3, 'max_features': 4}. Best is trial 63 with value: 0.222080777800883.\u001b[0m\n",
      "\u001b[32m[I 2023-07-13 17:20:32,045]\u001b[0m Trial 94 finished with value: 0.222080777800883 and parameters: {'n_estimators': 80, 'max_depth': 10, 'min_samples_split': 3, 'max_features': 4}. Best is trial 63 with value: 0.222080777800883.\u001b[0m\n",
      "\u001b[32m[I 2023-07-13 17:20:33,211]\u001b[0m Trial 95 finished with value: 0.222080777800883 and parameters: {'n_estimators': 80, 'max_depth': 10, 'min_samples_split': 3, 'max_features': 4}. Best is trial 63 with value: 0.222080777800883.\u001b[0m\n",
      "\u001b[32m[I 2023-07-13 17:20:34,118]\u001b[0m Trial 96 finished with value: 0.222080777800883 and parameters: {'n_estimators': 80, 'max_depth': 10, 'min_samples_split': 3, 'max_features': 4}. Best is trial 63 with value: 0.222080777800883.\u001b[0m\n",
      "\u001b[32m[I 2023-07-13 17:20:35,266]\u001b[0m Trial 97 finished with value: 0.2225264800074731 and parameters: {'n_estimators': 100, 'max_depth': 10, 'min_samples_split': 3, 'max_features': 4}. Best is trial 63 with value: 0.222080777800883.\u001b[0m\n",
      "\u001b[32m[I 2023-07-13 17:20:36,195]\u001b[0m Trial 98 finished with value: 0.22319159921458218 and parameters: {'n_estimators': 80, 'max_depth': 9, 'min_samples_split': 3, 'max_features': 4}. Best is trial 63 with value: 0.222080777800883.\u001b[0m\n",
      "\u001b[32m[I 2023-07-13 17:20:37,124]\u001b[0m Trial 99 finished with value: 0.222080777800883 and parameters: {'n_estimators': 80, 'max_depth': 10, 'min_samples_split': 3, 'max_features': 4}. Best is trial 63 with value: 0.222080777800883.\u001b[0m\n"
     ]
    },
    {
     "name": "stdout",
     "output_type": "stream",
     "text": [
      "\n",
      "The best hyperparameters for RF Regressor: {'n_estimators': 80, 'max_depth': 10, 'min_samples_split': 3, 'max_features': 4}\n",
      "\n",
      "MAE of the best Random Forest Regressor: Training data 0.114\n",
      "MAE of the best Random Forest Regressor: Test data 0.235\n"
     ]
    },
    {
     "data": {
      "image/png": "[encoded data removed]",
      "text/plain": [
       "<Figure size 432x288 with 1 Axes>"
      ]
     },
     "metadata": {
      "needs_background": "light"
     },
     "output_type": "display_data"
    }
   ],
   "source": [
    "# A smaller value of n_trials can be used to run the code faster\n",
    "best_model_log, final_model_train_data_log, final_model_full_data_log = RF_training_with_display(X_log,y_log, test_size = 0.15, n_trials = 100)"
   ]
  },
  {
   "cell_type": "markdown",
   "metadata": {},
   "source": [
    "### Displaying predicted masses based on the model that was trained on log(M)"
   ]
  },
  {
   "cell_type": "code",
   "execution_count": 29,
   "metadata": {},
   "outputs": [
    {
     "data": {
      "image/png": "[encoded data removed]",
      "text/plain": [
       "<Figure size 720x504 with 1 Axes>"
      ]
     },
     "metadata": {
      "needs_background": "light"
     },
     "output_type": "display_data"
    }
   ],
   "source": [
    "M_predict = np.power(10,final_model_train_data_log.predict(nea_R_final_table))\n",
    "\n",
    "fig = plt.figure(figsize = (10,7))\n",
    "ax = plt.subplot(1,1, 1)\n",
    "MR_plot(ax, M_predict, nea_R_final_table.pl_rade, color = 'black', label = 'predicted', xscale = 'log', yscale = 'log')\n",
    "MR_plot(ax, nea_MR_final_table.pl_bmasse, nea_MR_final_table.pl_rade, color = nea_MR_final_table['Teq'], label = 'real')"
   ]
  },
  {
   "cell_type": "markdown",
   "metadata": {},
   "source": [
    "### Overall, the distributions seem to be comparable"
   ]
  },
  {
   "cell_type": "markdown",
   "metadata": {},
   "source": [
    "# The final code \"mr_pl.py\"\n",
    "\n",
    "This is the code that one can run to predict masses from R"
   ]
  },
  {
   "cell_type": "code",
   "execution_count": 30,
   "metadata": {},
   "outputs": [
    {
     "name": "stderr",
     "output_type": "stream",
     "text": [
      "\u001b[32m[I 2023-07-13 17:20:43,515]\u001b[0m A new study created in memory with name: no-name-449683f0-f577-488a-b2ba-a8dc1ffe3f32\u001b[0m\n"
     ]
    },
    {
     "name": "stdout",
     "output_type": "stream",
     "text": [
      "The base MAE score from the training set is 0\n"
     ]
    },
    {
     "name": "stderr",
     "output_type": "stream",
     "text": [
      "\u001b[32m[I 2023-07-13 17:20:44,287]\u001b[0m Trial 0 finished with value: 0.265212675694917 and parameters: {'n_estimators': 100, 'max_depth': 3, 'min_samples_split': 6, 'max_features': 3}. Best is trial 0 with value: 0.265212675694917.\u001b[0m\n",
      "\u001b[32m[I 2023-07-13 17:20:44,478]\u001b[0m Trial 1 finished with value: 0.2559877406769024 and parameters: {'n_estimators': 20, 'max_depth': 6, 'min_samples_split': 5, 'max_features': 2}. Best is trial 1 with value: 0.2559877406769024.\u001b[0m\n",
      "\u001b[32m[I 2023-07-13 17:20:46,275]\u001b[0m Trial 2 finished with value: 0.23441307384592464 and parameters: {'n_estimators': 160, 'max_depth': 10, 'min_samples_split': 5, 'max_features': 4}. Best is trial 2 with value: 0.23441307384592464.\u001b[0m\n",
      "\u001b[32m[I 2023-07-13 17:20:47,709]\u001b[0m Trial 3 finished with value: 0.23941187646573986 and parameters: {'n_estimators': 140, 'max_depth': 6, 'min_samples_split': 6, 'max_features': 4}. Best is trial 2 with value: 0.23441307384592464.\u001b[0m\n",
      "\u001b[32m[I 2023-07-13 17:20:48,935]\u001b[0m Trial 4 finished with value: 0.23537569140880957 and parameters: {'n_estimators': 100, 'max_depth': 10, 'min_samples_split': 4, 'max_features': 4}. Best is trial 2 with value: 0.23441307384592464.\u001b[0m\n",
      "\u001b[32m[I 2023-07-13 17:20:49,093]\u001b[0m Trial 5 finished with value: 0.3426431773065792 and parameters: {'n_estimators': 20, 'max_depth': 2, 'min_samples_split': 6, 'max_features': 2}. Best is trial 2 with value: 0.23441307384592464.\u001b[0m\n",
      "\u001b[32m[I 2023-07-13 17:20:49,583]\u001b[0m Trial 6 finished with value: 0.26007416654690363 and parameters: {'n_estimators': 60, 'max_depth': 5, 'min_samples_split': 4, 'max_features': 2}. Best is trial 2 with value: 0.23441307384592464.\u001b[0m\n",
      "\u001b[32m[I 2023-07-13 17:20:50,485]\u001b[0m Trial 7 finished with value: 0.23792730276545176 and parameters: {'n_estimators': 60, 'max_depth': 10, 'min_samples_split': 6, 'max_features': 5}. Best is trial 2 with value: 0.23441307384592464.\u001b[0m\n",
      "\u001b[32m[I 2023-07-13 17:20:51,996]\u001b[0m Trial 8 finished with value: 0.2451301922506762 and parameters: {'n_estimators': 160, 'max_depth': 7, 'min_samples_split': 6, 'max_features': 2}. Best is trial 2 with value: 0.23441307384592464.\u001b[0m\n",
      "\u001b[32m[I 2023-07-13 17:20:53,162]\u001b[0m Trial 9 finished with value: 0.2773283845340913 and parameters: {'n_estimators': 140, 'max_depth': 2, 'min_samples_split': 3, 'max_features': 5}. Best is trial 2 with value: 0.23441307384592464.\u001b[0m\n",
      "\u001b[32m[I 2023-07-13 17:20:55,291]\u001b[0m Trial 10 finished with value: 0.23570282773592846 and parameters: {'n_estimators': 200, 'max_depth': 8, 'min_samples_split': 2, 'max_features': 3}. Best is trial 2 with value: 0.23441307384592464.\u001b[0m\n",
      "\u001b[32m[I 2023-07-13 17:20:57,732]\u001b[0m Trial 11 finished with value: 0.23412793808871876 and parameters: {'n_estimators': 200, 'max_depth': 10, 'min_samples_split': 4, 'max_features': 4}. Best is trial 11 with value: 0.23412793808871876.\u001b[0m\n",
      "\u001b[32m[I 2023-07-13 17:20:59,958]\u001b[0m Trial 12 finished with value: 0.23507431781467014 and parameters: {'n_estimators': 200, 'max_depth': 9, 'min_samples_split': 5, 'max_features': 4}. Best is trial 11 with value: 0.23412793808871876.\u001b[0m\n",
      "\u001b[32m[I 2023-07-13 17:21:01,966]\u001b[0m Trial 13 finished with value: 0.23582531605489154 and parameters: {'n_estimators': 180, 'max_depth': 8, 'min_samples_split': 3, 'max_features': 4}. Best is trial 11 with value: 0.23412793808871876.\u001b[0m\n",
      "\u001b[32m[I 2023-07-13 17:21:03,942]\u001b[0m Trial 14 finished with value: 0.23605287667497565 and parameters: {'n_estimators': 160, 'max_depth': 10, 'min_samples_split': 5, 'max_features': 5}. Best is trial 11 with value: 0.23412793808871876.\u001b[0m\n",
      "\u001b[32m[I 2023-07-13 17:21:05,789]\u001b[0m Trial 15 finished with value: 0.23693888945144853 and parameters: {'n_estimators': 180, 'max_depth': 8, 'min_samples_split': 3, 'max_features': 3}. Best is trial 11 with value: 0.23412793808871876.\u001b[0m\n",
      "\u001b[32m[I 2023-07-13 17:21:07,310]\u001b[0m Trial 16 finished with value: 0.23428906809138955 and parameters: {'n_estimators': 120, 'max_depth': 9, 'min_samples_split': 4, 'max_features': 4}. Best is trial 11 with value: 0.23412793808871876.\u001b[0m\n",
      "\u001b[32m[I 2023-07-13 17:21:08,771]\u001b[0m Trial 17 finished with value: 0.23598863232586115 and parameters: {'n_estimators': 120, 'max_depth': 9, 'min_samples_split': 4, 'max_features': 3}. Best is trial 11 with value: 0.23412793808871876.\u001b[0m\n",
      "\u001b[32m[I 2023-07-13 17:21:09,417]\u001b[0m Trial 18 finished with value: 0.24493613842076983 and parameters: {'n_estimators': 60, 'max_depth': 5, 'min_samples_split': 2, 'max_features': 5}. Best is trial 11 with value: 0.23412793808871876.\u001b[0m\n",
      "\u001b[32m[I 2023-07-13 17:21:10,299]\u001b[0m Trial 19 finished with value: 0.23494297616415194 and parameters: {'n_estimators': 80, 'max_depth': 9, 'min_samples_split': 3, 'max_features': 4}. Best is trial 11 with value: 0.23412793808871876.\u001b[0m\n",
      "\u001b[32m[I 2023-07-13 17:21:11,454]\u001b[0m Trial 20 finished with value: 0.23764892129495294 and parameters: {'n_estimators': 120, 'max_depth': 7, 'min_samples_split': 4, 'max_features': 3}. Best is trial 11 with value: 0.23412793808871876.\u001b[0m\n",
      "\u001b[32m[I 2023-07-13 17:21:13,206]\u001b[0m Trial 21 finished with value: 0.23441307384592464 and parameters: {'n_estimators': 160, 'max_depth': 10, 'min_samples_split': 5, 'max_features': 4}. Best is trial 11 with value: 0.23412793808871876.\u001b[0m\n",
      "\u001b[32m[I 2023-07-13 17:21:15,237]\u001b[0m Trial 22 finished with value: 0.23387116442856487 and parameters: {'n_estimators': 180, 'max_depth': 9, 'min_samples_split': 4, 'max_features': 4}. Best is trial 22 with value: 0.23387116442856487.\u001b[0m\n",
      "\u001b[32m[I 2023-07-13 17:21:17,447]\u001b[0m Trial 23 finished with value: 0.23375536408040937 and parameters: {'n_estimators': 200, 'max_depth': 9, 'min_samples_split': 4, 'max_features': 4}. Best is trial 23 with value: 0.23375536408040937.\u001b[0m\n",
      "\u001b[32m[I 2023-07-13 17:21:19,731]\u001b[0m Trial 24 finished with value: 0.23763606676919005 and parameters: {'n_estimators': 200, 'max_depth': 7, 'min_samples_split': 4, 'max_features': 5}. Best is trial 23 with value: 0.23375536408040937.\u001b[0m\n",
      "\u001b[32m[I 2023-07-13 17:21:21,649]\u001b[0m Trial 25 finished with value: 0.23582531605489154 and parameters: {'n_estimators': 180, 'max_depth': 8, 'min_samples_split': 3, 'max_features': 4}. Best is trial 23 with value: 0.23375536408040937.\u001b[0m\n",
      "\u001b[32m[I 2023-07-13 17:21:23,802]\u001b[0m Trial 26 finished with value: 0.23517815105749268 and parameters: {'n_estimators': 200, 'max_depth': 9, 'min_samples_split': 4, 'max_features': 3}. Best is trial 23 with value: 0.23375536408040937.\u001b[0m\n",
      "\u001b[32m[I 2023-07-13 17:21:25,470]\u001b[0m Trial 27 finished with value: 0.2489567617015453 and parameters: {'n_estimators': 180, 'max_depth': 4, 'min_samples_split': 4, 'max_features': 4}. Best is trial 23 with value: 0.23375536408040937.\u001b[0m\n",
      "\u001b[32m[I 2023-07-13 17:21:28,882]\u001b[0m Trial 28 finished with value: 0.23574390429424516 and parameters: {'n_estimators': 200, 'max_depth': 9, 'min_samples_split': 3, 'max_features': 5}. Best is trial 23 with value: 0.23375536408040937.\u001b[0m\n",
      "\u001b[32m[I 2023-07-13 17:21:31,228]\u001b[0m Trial 29 finished with value: 0.23440337562059063 and parameters: {'n_estimators': 140, 'max_depth': 8, 'min_samples_split': 5, 'max_features': 4}. Best is trial 23 with value: 0.23375536408040937.\u001b[0m\n",
      "\u001b[32m[I 2023-07-13 17:21:33,509]\u001b[0m Trial 30 finished with value: 0.2372697633706859 and parameters: {'n_estimators': 180, 'max_depth': 7, 'min_samples_split': 4, 'max_features': 3}. Best is trial 23 with value: 0.23375536408040937.\u001b[0m\n",
      "\u001b[32m[I 2023-07-13 17:21:36,476]\u001b[0m Trial 31 finished with value: 0.23375536408040937 and parameters: {'n_estimators': 200, 'max_depth': 9, 'min_samples_split': 4, 'max_features': 4}. Best is trial 23 with value: 0.23375536408040937.\u001b[0m\n",
      "\u001b[32m[I 2023-07-13 17:21:39,276]\u001b[0m Trial 32 finished with value: 0.23412793808871876 and parameters: {'n_estimators': 200, 'max_depth': 10, 'min_samples_split': 4, 'max_features': 4}. Best is trial 23 with value: 0.23375536408040937.\u001b[0m\n",
      "\u001b[32m[I 2023-07-13 17:21:41,858]\u001b[0m Trial 33 finished with value: 0.2353803830755318 and parameters: {'n_estimators': 180, 'max_depth': 9, 'min_samples_split': 5, 'max_features': 4}. Best is trial 23 with value: 0.23375536408040937.\u001b[0m\n",
      "\u001b[32m[I 2023-07-13 17:21:44,340]\u001b[0m Trial 34 finished with value: 0.23441307384592464 and parameters: {'n_estimators': 160, 'max_depth': 10, 'min_samples_split': 5, 'max_features': 4}. Best is trial 23 with value: 0.23375536408040937.\u001b[0m\n",
      "\u001b[32m[I 2023-07-13 17:21:47,053]\u001b[0m Trial 35 finished with value: 0.23405252046007502 and parameters: {'n_estimators': 200, 'max_depth': 8, 'min_samples_split': 4, 'max_features': 4}. Best is trial 23 with value: 0.23375536408040937.\u001b[0m\n",
      "\u001b[32m[I 2023-07-13 17:21:49,497]\u001b[0m Trial 36 finished with value: 0.23582531605489154 and parameters: {'n_estimators': 180, 'max_depth': 8, 'min_samples_split': 3, 'max_features': 4}. Best is trial 23 with value: 0.23375536408040937.\u001b[0m\n",
      "\u001b[32m[I 2023-07-13 17:21:51,327]\u001b[0m Trial 37 finished with value: 0.24043279269365944 and parameters: {'n_estimators': 140, 'max_depth': 6, 'min_samples_split': 4, 'max_features': 5}. Best is trial 23 with value: 0.23375536408040937.\u001b[0m\n",
      "\u001b[32m[I 2023-07-13 17:21:54,164]\u001b[0m Trial 38 finished with value: 0.23375536408040937 and parameters: {'n_estimators': 200, 'max_depth': 9, 'min_samples_split': 4, 'max_features': 4}. Best is trial 23 with value: 0.23375536408040937.\u001b[0m\n",
      "\u001b[32m[I 2023-07-13 17:21:56,165]\u001b[0m Trial 39 finished with value: 0.24059738883862508 and parameters: {'n_estimators': 160, 'max_depth': 6, 'min_samples_split': 5, 'max_features': 3}. Best is trial 23 with value: 0.23375536408040937.\u001b[0m\n",
      "\u001b[32m[I 2023-07-13 17:21:56,450]\u001b[0m Trial 40 finished with value: 0.23931167542613294 and parameters: {'n_estimators': 20, 'max_depth': 7, 'min_samples_split': 3, 'max_features': 4}. Best is trial 23 with value: 0.23375536408040937.\u001b[0m\n",
      "\u001b[32m[I 2023-07-13 17:21:59,408]\u001b[0m Trial 41 finished with value: 0.23375536408040937 and parameters: {'n_estimators': 200, 'max_depth': 9, 'min_samples_split': 4, 'max_features': 4}. Best is trial 23 with value: 0.23375536408040937.\u001b[0m\n",
      "\u001b[32m[I 2023-07-13 17:22:01,868]\u001b[0m Trial 42 finished with value: 0.23387116442856487 and parameters: {'n_estimators': 180, 'max_depth': 9, 'min_samples_split': 4, 'max_features': 4}. Best is trial 23 with value: 0.23375536408040937.\u001b[0m\n",
      "\u001b[32m[I 2023-07-13 17:22:04,664]\u001b[0m Trial 43 finished with value: 0.23375536408040937 and parameters: {'n_estimators': 200, 'max_depth': 9, 'min_samples_split': 4, 'max_features': 4}. Best is trial 23 with value: 0.23375536408040937.\u001b[0m\n",
      "\u001b[32m[I 2023-07-13 17:22:07,567]\u001b[0m Trial 44 finished with value: 0.23412793808871876 and parameters: {'n_estimators': 200, 'max_depth': 10, 'min_samples_split': 4, 'max_features': 4}. Best is trial 23 with value: 0.23375536408040937.\u001b[0m\n",
      "\u001b[32m[I 2023-07-13 17:22:10,668]\u001b[0m Trial 45 finished with value: 0.23591090112552618 and parameters: {'n_estimators': 200, 'max_depth': 8, 'min_samples_split': 4, 'max_features': 5}. Best is trial 23 with value: 0.23375536408040937.\u001b[0m\n",
      "\u001b[32m[I 2023-07-13 17:22:12,686]\u001b[0m Trial 46 finished with value: 0.25949163200344666 and parameters: {'n_estimators': 200, 'max_depth': 3, 'min_samples_split': 5, 'max_features': 4}. Best is trial 23 with value: 0.23375536408040937.\u001b[0m\n",
      "\u001b[32m[I 2023-07-13 17:22:15,006]\u001b[0m Trial 47 finished with value: 0.23347497704544934 and parameters: {'n_estimators': 160, 'max_depth': 9, 'min_samples_split': 4, 'max_features': 4}. Best is trial 47 with value: 0.23347497704544934.\u001b[0m\n",
      "\u001b[32m[I 2023-07-13 17:22:17,708]\u001b[0m Trial 48 finished with value: 0.23565991533323433 and parameters: {'n_estimators': 160, 'max_depth': 10, 'min_samples_split': 3, 'max_features': 5}. Best is trial 47 with value: 0.23347497704544934.\u001b[0m\n",
      "\u001b[32m[I 2023-07-13 17:22:19,383]\u001b[0m Trial 49 finished with value: 0.24398856088674264 and parameters: {'n_estimators': 160, 'max_depth': 8, 'min_samples_split': 4, 'max_features': 2}. Best is trial 47 with value: 0.23347497704544934.\u001b[0m\n",
      "\u001b[32m[I 2023-07-13 17:22:21,103]\u001b[0m Trial 50 finished with value: 0.2359043330030452 and parameters: {'n_estimators': 140, 'max_depth': 9, 'min_samples_split': 5, 'max_features': 3}. Best is trial 47 with value: 0.23347497704544934.\u001b[0m\n",
      "\u001b[32m[I 2023-07-13 17:22:23,892]\u001b[0m Trial 51 finished with value: 0.23375536408040937 and parameters: {'n_estimators': 200, 'max_depth': 9, 'min_samples_split': 4, 'max_features': 4}. Best is trial 47 with value: 0.23347497704544934.\u001b[0m\n",
      "\u001b[32m[I 2023-07-13 17:22:26,407]\u001b[0m Trial 52 finished with value: 0.23387116442856487 and parameters: {'n_estimators': 180, 'max_depth': 9, 'min_samples_split': 4, 'max_features': 4}. Best is trial 47 with value: 0.23347497704544934.\u001b[0m\n",
      "\u001b[32m[I 2023-07-13 17:22:29,259]\u001b[0m Trial 53 finished with value: 0.23412793808871876 and parameters: {'n_estimators': 200, 'max_depth': 10, 'min_samples_split': 4, 'max_features': 4}. Best is trial 47 with value: 0.23347497704544934.\u001b[0m\n",
      "\u001b[32m[I 2023-07-13 17:22:29,849]\u001b[0m Trial 54 finished with value: 0.23789647793661045 and parameters: {'n_estimators': 40, 'max_depth': 8, 'min_samples_split': 4, 'max_features': 4}. Best is trial 47 with value: 0.23347497704544934.\u001b[0m\n",
      "\u001b[32m[I 2023-07-13 17:22:32,392]\u001b[0m Trial 55 finished with value: 0.23355762668738925 and parameters: {'n_estimators': 180, 'max_depth': 10, 'min_samples_split': 3, 'max_features': 4}. Best is trial 47 with value: 0.23347497704544934.\u001b[0m\n",
      "\u001b[32m[I 2023-07-13 17:22:34,991]\u001b[0m Trial 56 finished with value: 0.23523294909507242 and parameters: {'n_estimators': 180, 'max_depth': 10, 'min_samples_split': 2, 'max_features': 4}. Best is trial 47 with value: 0.23347497704544934.\u001b[0m\n",
      "\u001b[32m[I 2023-07-13 17:22:36,554]\u001b[0m Trial 57 finished with value: 0.23389803682373964 and parameters: {'n_estimators': 100, 'max_depth': 10, 'min_samples_split': 3, 'max_features': 4}. Best is trial 47 with value: 0.23347497704544934.\u001b[0m\n",
      "\u001b[32m[I 2023-07-13 17:22:39,402]\u001b[0m Trial 58 finished with value: 0.23523294909507242 and parameters: {'n_estimators': 180, 'max_depth': 10, 'min_samples_split': 2, 'max_features': 4}. Best is trial 47 with value: 0.23347497704544934.\u001b[0m\n",
      "\u001b[32m[I 2023-07-13 17:22:41,382]\u001b[0m Trial 59 finished with value: 0.24329327058150496 and parameters: {'n_estimators': 160, 'max_depth': 5, 'min_samples_split': 3, 'max_features': 4}. Best is trial 47 with value: 0.23347497704544934.\u001b[0m\n",
      "\u001b[32m[I 2023-07-13 17:22:43,780]\u001b[0m Trial 60 finished with value: 0.23449626280650254 and parameters: {'n_estimators': 200, 'max_depth': 9, 'min_samples_split': 6, 'max_features': 3}. Best is trial 47 with value: 0.23347497704544934.\u001b[0m\n",
      "\u001b[32m[I 2023-07-13 17:22:46,533]\u001b[0m Trial 61 finished with value: 0.23375536408040937 and parameters: {'n_estimators': 200, 'max_depth': 9, 'min_samples_split': 4, 'max_features': 4}. Best is trial 47 with value: 0.23347497704544934.\u001b[0m\n",
      "\u001b[32m[I 2023-07-13 17:22:49,323]\u001b[0m Trial 62 finished with value: 0.23375536408040937 and parameters: {'n_estimators': 200, 'max_depth': 9, 'min_samples_split': 4, 'max_features': 4}. Best is trial 47 with value: 0.23347497704544934.\u001b[0m\n",
      "\u001b[32m[I 2023-07-13 17:22:51,821]\u001b[0m Trial 63 finished with value: 0.23418529570950458 and parameters: {'n_estimators': 180, 'max_depth': 9, 'min_samples_split': 3, 'max_features': 4}. Best is trial 47 with value: 0.23347497704544934.\u001b[0m\n",
      "\u001b[32m[I 2023-07-13 17:22:52,937]\u001b[0m Trial 64 finished with value: 0.23580040968334223 and parameters: {'n_estimators': 80, 'max_depth': 8, 'min_samples_split': 4, 'max_features': 4}. Best is trial 47 with value: 0.23347497704544934.\u001b[0m\n",
      "\u001b[32m[I 2023-07-13 17:22:55,709]\u001b[0m Trial 65 finished with value: 0.23375536408040937 and parameters: {'n_estimators': 200, 'max_depth': 9, 'min_samples_split': 4, 'max_features': 4}. Best is trial 47 with value: 0.23347497704544934.\u001b[0m\n",
      "\u001b[32m[I 2023-07-13 17:22:58,233]\u001b[0m Trial 66 finished with value: 0.23454701898778868 and parameters: {'n_estimators': 180, 'max_depth': 10, 'min_samples_split': 4, 'max_features': 4}. Best is trial 47 with value: 0.23347497704544934.\u001b[0m\n",
      "\u001b[32m[I 2023-07-13 17:23:01,183]\u001b[0m Trial 67 finished with value: 0.2359017521249278 and parameters: {'n_estimators': 200, 'max_depth': 9, 'min_samples_split': 5, 'max_features': 5}. Best is trial 47 with value: 0.23347497704544934.\u001b[0m\n",
      "\u001b[32m[I 2023-07-13 17:23:04,067]\u001b[0m Trial 68 finished with value: 0.23454701898778868 and parameters: {'n_estimators': 180, 'max_depth': 10, 'min_samples_split': 4, 'max_features': 4}. Best is trial 47 with value: 0.23347497704544934.\u001b[0m\n",
      "\u001b[32m[I 2023-07-13 17:23:07,646]\u001b[0m Trial 69 finished with value: 0.2354822510820937 and parameters: {'n_estimators': 200, 'max_depth': 8, 'min_samples_split': 3, 'max_features': 4}. Best is trial 47 with value: 0.23347497704544934.\u001b[0m\n",
      "\u001b[32m[I 2023-07-13 17:23:10,647]\u001b[0m Trial 70 finished with value: 0.23505109837164725 and parameters: {'n_estimators': 180, 'max_depth': 9, 'min_samples_split': 2, 'max_features': 4}. Best is trial 47 with value: 0.23347497704544934.\u001b[0m\n",
      "\u001b[32m[I 2023-07-13 17:23:13,217]\u001b[0m Trial 71 finished with value: 0.23375536408040937 and parameters: {'n_estimators': 200, 'max_depth': 9, 'min_samples_split': 4, 'max_features': 4}. Best is trial 47 with value: 0.23347497704544934.\u001b[0m\n",
      "\u001b[32m[I 2023-07-13 17:23:15,515]\u001b[0m Trial 72 finished with value: 0.23375536408040937 and parameters: {'n_estimators': 200, 'max_depth': 9, 'min_samples_split': 4, 'max_features': 4}. Best is trial 47 with value: 0.23347497704544934.\u001b[0m\n",
      "\u001b[32m[I 2023-07-13 17:23:17,856]\u001b[0m Trial 73 finished with value: 0.23375536408040937 and parameters: {'n_estimators': 200, 'max_depth': 9, 'min_samples_split': 4, 'max_features': 4}. Best is trial 47 with value: 0.23347497704544934.\u001b[0m\n",
      "\u001b[32m[I 2023-07-13 17:23:20,046]\u001b[0m Trial 74 finished with value: 0.23439968222945903 and parameters: {'n_estimators': 180, 'max_depth': 8, 'min_samples_split': 4, 'max_features': 4}. Best is trial 47 with value: 0.23347497704544934.\u001b[0m\n",
      "\u001b[32m[I 2023-07-13 17:23:22,584]\u001b[0m Trial 75 finished with value: 0.23412793808871876 and parameters: {'n_estimators': 200, 'max_depth': 10, 'min_samples_split': 4, 'max_features': 4}. Best is trial 47 with value: 0.23347497704544934.\u001b[0m\n",
      "\u001b[32m[I 2023-07-13 17:23:24,902]\u001b[0m Trial 76 finished with value: 0.23375536408040937 and parameters: {'n_estimators': 200, 'max_depth': 9, 'min_samples_split': 4, 'max_features': 4}. Best is trial 47 with value: 0.23347497704544934.\u001b[0m\n",
      "\u001b[32m[I 2023-07-13 17:23:26,851]\u001b[0m Trial 77 finished with value: 0.23525644382731875 and parameters: {'n_estimators': 180, 'max_depth': 7, 'min_samples_split': 5, 'max_features': 4}. Best is trial 47 with value: 0.23347497704544934.\u001b[0m\n",
      "\u001b[32m[I 2023-07-13 17:23:29,182]\u001b[0m Trial 78 finished with value: 0.23489531455525142 and parameters: {'n_estimators': 200, 'max_depth': 10, 'min_samples_split': 3, 'max_features': 3}. Best is trial 47 with value: 0.23347497704544934.\u001b[0m\n",
      "\u001b[32m[I 2023-07-13 17:23:31,368]\u001b[0m Trial 79 finished with value: 0.23387116442856487 and parameters: {'n_estimators': 180, 'max_depth': 9, 'min_samples_split': 4, 'max_features': 4}. Best is trial 47 with value: 0.23347497704544934.\u001b[0m\n",
      "\u001b[32m[I 2023-07-13 17:23:33,833]\u001b[0m Trial 80 finished with value: 0.23405252046007502 and parameters: {'n_estimators': 200, 'max_depth': 8, 'min_samples_split': 4, 'max_features': 4}. Best is trial 47 with value: 0.23347497704544934.\u001b[0m\n",
      "\u001b[32m[I 2023-07-13 17:23:36,834]\u001b[0m Trial 81 finished with value: 0.23375536408040937 and parameters: {'n_estimators': 200, 'max_depth': 9, 'min_samples_split': 4, 'max_features': 4}. Best is trial 47 with value: 0.23347497704544934.\u001b[0m\n",
      "\u001b[32m[I 2023-07-13 17:23:39,707]\u001b[0m Trial 82 finished with value: 0.23375536408040937 and parameters: {'n_estimators': 200, 'max_depth': 9, 'min_samples_split': 4, 'max_features': 4}. Best is trial 47 with value: 0.23347497704544934.\u001b[0m\n",
      "\u001b[32m[I 2023-07-13 17:23:42,583]\u001b[0m Trial 83 finished with value: 0.23375536408040937 and parameters: {'n_estimators': 200, 'max_depth': 9, 'min_samples_split': 4, 'max_features': 4}. Best is trial 47 with value: 0.23347497704544934.\u001b[0m\n",
      "\u001b[32m[I 2023-07-13 17:23:45,607]\u001b[0m Trial 84 finished with value: 0.23412793808871876 and parameters: {'n_estimators': 200, 'max_depth': 10, 'min_samples_split': 4, 'max_features': 4}. Best is trial 47 with value: 0.23347497704544934.\u001b[0m\n",
      "\u001b[32m[I 2023-07-13 17:23:47,999]\u001b[0m Trial 85 finished with value: 0.23439968222945903 and parameters: {'n_estimators': 180, 'max_depth': 8, 'min_samples_split': 4, 'max_features': 4}. Best is trial 47 with value: 0.23347497704544934.\u001b[0m\n",
      "\u001b[32m[I 2023-07-13 17:23:50,806]\u001b[0m Trial 86 finished with value: 0.23375536408040937 and parameters: {'n_estimators': 200, 'max_depth': 9, 'min_samples_split': 4, 'max_features': 4}. Best is trial 47 with value: 0.23347497704544934.\u001b[0m\n",
      "\u001b[32m[I 2023-07-13 17:23:52,999]\u001b[0m Trial 87 finished with value: 0.2353803830755318 and parameters: {'n_estimators': 180, 'max_depth': 9, 'min_samples_split': 5, 'max_features': 4}. Best is trial 47 with value: 0.23347497704544934.\u001b[0m\n",
      "\u001b[32m[I 2023-07-13 17:23:54,270]\u001b[0m Trial 88 finished with value: 0.2788369369197427 and parameters: {'n_estimators': 160, 'max_depth': 2, 'min_samples_split': 4, 'max_features': 4}. Best is trial 47 with value: 0.23347497704544934.\u001b[0m\n",
      "\u001b[32m[I 2023-07-13 17:23:56,832]\u001b[0m Trial 89 finished with value: 0.2363294298153778 and parameters: {'n_estimators': 200, 'max_depth': 8, 'min_samples_split': 3, 'max_features': 5}. Best is trial 47 with value: 0.23347497704544934.\u001b[0m\n",
      "\u001b[32m[I 2023-07-13 17:23:58,993]\u001b[0m Trial 90 finished with value: 0.23454701898778868 and parameters: {'n_estimators': 180, 'max_depth': 10, 'min_samples_split': 4, 'max_features': 4}. Best is trial 47 with value: 0.23347497704544934.\u001b[0m\n",
      "\u001b[32m[I 2023-07-13 17:24:01,342]\u001b[0m Trial 91 finished with value: 0.23375536408040937 and parameters: {'n_estimators': 200, 'max_depth': 9, 'min_samples_split': 4, 'max_features': 4}. Best is trial 47 with value: 0.23347497704544934.\u001b[0m\n",
      "\u001b[32m[I 2023-07-13 17:24:03,747]\u001b[0m Trial 92 finished with value: 0.23375536408040937 and parameters: {'n_estimators': 200, 'max_depth': 9, 'min_samples_split': 4, 'max_features': 4}. Best is trial 47 with value: 0.23347497704544934.\u001b[0m\n",
      "\u001b[32m[I 2023-07-13 17:24:05,393]\u001b[0m Trial 93 finished with value: 0.23428906809138955 and parameters: {'n_estimators': 120, 'max_depth': 9, 'min_samples_split': 4, 'max_features': 4}. Best is trial 47 with value: 0.23347497704544934.\u001b[0m\n",
      "\u001b[32m[I 2023-07-13 17:24:08,179]\u001b[0m Trial 94 finished with value: 0.23405252046007502 and parameters: {'n_estimators': 200, 'max_depth': 8, 'min_samples_split': 4, 'max_features': 4}. Best is trial 47 with value: 0.23347497704544934.\u001b[0m\n",
      "\u001b[32m[I 2023-07-13 17:24:10,120]\u001b[0m Trial 95 finished with value: 0.2594979482626828 and parameters: {'n_estimators': 200, 'max_depth': 3, 'min_samples_split': 4, 'max_features': 4}. Best is trial 47 with value: 0.23347497704544934.\u001b[0m\n",
      "\u001b[32m[I 2023-07-13 17:24:12,818]\u001b[0m Trial 96 finished with value: 0.23454701898778868 and parameters: {'n_estimators': 180, 'max_depth': 10, 'min_samples_split': 4, 'max_features': 4}. Best is trial 47 with value: 0.23347497704544934.\u001b[0m\n",
      "\u001b[32m[I 2023-07-13 17:24:15,909]\u001b[0m Trial 97 finished with value: 0.23390172372503573 and parameters: {'n_estimators': 200, 'max_depth': 9, 'min_samples_split': 3, 'max_features': 4}. Best is trial 47 with value: 0.23347497704544934.\u001b[0m\n",
      "\u001b[32m[I 2023-07-13 17:24:18,779]\u001b[0m Trial 98 finished with value: 0.23375536408040937 and parameters: {'n_estimators': 200, 'max_depth': 9, 'min_samples_split': 4, 'max_features': 4}. Best is trial 47 with value: 0.23347497704544934.\u001b[0m\n",
      "\u001b[32m[I 2023-07-13 17:24:19,742]\u001b[0m Trial 99 finished with value: 0.2350629338153416 and parameters: {'n_estimators': 80, 'max_depth': 9, 'min_samples_split': 4, 'max_features': 4}. Best is trial 47 with value: 0.23347497704544934.\u001b[0m\n"
     ]
    },
    {
     "name": "stdout",
     "output_type": "stream",
     "text": [
      "\n",
      "The best hyperparameters for RF Regressor: {'n_estimators': 160, 'max_depth': 9, 'min_samples_split': 4, 'max_features': 4}\n",
      "\n",
      "MAE of the best Random Forest Regressor: Training data 0.138\n",
      "MAE of the best Random Forest Regressor: Test data 0.210\n"
     ]
    },
    {
     "data": {
      "image/png": "[encoded data removed]",
      "text/plain": [
       "<Figure size 720x504 with 1 Axes>"
      ]
     },
     "metadata": {
      "needs_background": "light"
     },
     "output_type": "display_data"
    }
   ],
   "source": [
    "M_pred = mass_from_radius(nea_R_final_table, training = True)\n",
    "fig = plt.figure(figsize = (10,7))\n",
    "ax = plt.subplot(1,1, 1)\n",
    "MR_plot(ax, M_pred, nea_R_final_table.pl_rade, color = 'black', label = 'predicted', xscale = 'log', yscale = 'log')\n",
    "MR_plot(ax, nea_MR_final_table.pl_bmasse, nea_MR_final_table.pl_rade, color = nea_MR_final_table['Teq'], label = 'real')"
   ]
  }
 ],
 "metadata": {
  "kernelspec": {
   "display_name": "Python 3",
   "language": "python",
   "name": "python3"
  },
  "language_info": {
   "codemirror_mode": {
    "name": "ipython",
    "version": 3
   },
   "file_extension": ".py",
   "mimetype": "text/x-python",
   "name": "python",
   "nbconvert_exporter": "python",
   "pygments_lexer": "ipython3",
   "version": "3.8.10"
  },
  "orig_nbformat": 4
 },
 "nbformat": 4,
 "nbformat_minor": 2
}
