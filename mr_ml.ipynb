{
 "cells": [
  {
   "attachments": {},
   "cell_type": "markdown",
   "metadata": {},
   "source": [
    "## Importing the libraries and seting the paths"
   ]
  },
  {
   "cell_type": "code",
   "execution_count": 1,
   "metadata": {},
   "outputs": [
    {
     "name": "stderr",
     "output_type": "stream",
     "text": [
      "/home/vadibekyan/my_github/ExoPLots/utils.py:52: DtypeWarning: Columns (65) have mixed types. Specify dtype option on import or set low_memory=False.\n",
      "  nea_full_table = pd.read_csv(table_directory)\n",
      "/home/vadibekyan/my_github/ExoPLots/utils.py:52: DtypeWarning: Columns (65) have mixed types. Specify dtype option on import or set low_memory=False.\n",
      "  nea_full_table = pd.read_csv(table_directory)\n",
      "/home/vadibekyan/my_github/ExoPLots/mr_utils.py:261: SettingWithCopyWarning: \n",
      "A value is trying to be set on a copy of a slice from a DataFrame.\n",
      "Try using .loc[row_indexer,col_indexer] = value instead\n",
      "\n",
      "See the caveats in the documentation: https://pandas.pydata.org/pandas-docs/stable/user_guide/indexing.html#returning-a-view-versus-a-copy\n",
      "  nea_with_M_and_R_cleaned['Teq'] = 0\n",
      "/home/vadibekyan/my_github/ExoPLots/mr_utils.py:314: SettingWithCopyWarning: \n",
      "A value is trying to be set on a copy of a slice from a DataFrame.\n",
      "Try using .loc[row_indexer,col_indexer] = value instead\n",
      "\n",
      "See the caveats in the documentation: https://pandas.pydata.org/pandas-docs/stable/user_guide/indexing.html#returning-a-view-versus-a-copy\n",
      "  nea_with_R_cleaned['Teq'] = 0\n"
     ]
    }
   ],
   "source": [
    "from utils import open_nea_table, download_nea_table\n",
    "from mass_year import mass_vs_year_plot, planet_discovery_stat\n",
    "import pandas as pd\n",
    "import numpy as np\n",
    "import os\n",
    "import sys\n",
    "from datetime import date\n",
    "import math\n",
    "\n",
    "from mr_utils import a_from_P, Teq_from_teff_v_plx_a, Teq_from_teff_v_plx_P, teq_hellper_function, a_from_P, MR_plot, creating_R_ML_table\n",
    "\n",
    "from mr_ml_utils import score_dataset, optuna_RF_Reg, modified_learning_curve, RF_training_with_display\n",
    "from m_from_r import mass_from_radius"
   ]
  },
  {
   "attachments": {},
   "cell_type": "markdown",
   "metadata": {},
   "source": [
    "If needed to update the NEA table then first run  \"download_nea_table\""
   ]
  },
  {
   "cell_type": "code",
   "execution_count": 2,
   "metadata": {},
   "outputs": [],
   "source": [
    "#download_nea_table()"
   ]
  },
  {
   "cell_type": "code",
   "execution_count": 3,
   "metadata": {},
   "outputs": [
    {
     "name": "stderr",
     "output_type": "stream",
     "text": [
      "/home/vadibekyan/my_github/ExoPLots/utils.py:52: DtypeWarning: Columns (65) have mixed types. Specify dtype option on import or set low_memory=False.\n",
      "  nea_full_table = pd.read_csv(table_directory)\n"
     ]
    },
    {
     "data": {
      "text/html": [
       "<div>\n",
       "<style scoped>\n",
       "    .dataframe tbody tr th:only-of-type {\n",
       "        vertical-align: middle;\n",
       "    }\n",
       "\n",
       "    .dataframe tbody tr th {\n",
       "        vertical-align: top;\n",
       "    }\n",
       "\n",
       "    .dataframe thead th {\n",
       "        text-align: right;\n",
       "    }\n",
       "</style>\n",
       "<table border=\"1\" class=\"dataframe\">\n",
       "  <thead>\n",
       "    <tr style=\"text-align: right;\">\n",
       "      <th></th>\n",
       "      <th>pl_name</th>\n",
       "      <th>pl_letter</th>\n",
       "      <th>hostname</th>\n",
       "      <th>hd_name</th>\n",
       "      <th>hip_name</th>\n",
       "      <th>tic_id</th>\n",
       "      <th>gaia_id</th>\n",
       "      <th>default_flag</th>\n",
       "      <th>pl_refname</th>\n",
       "      <th>sy_refname</th>\n",
       "      <th>...</th>\n",
       "      <th>sy_jmagerr1</th>\n",
       "      <th>sy_jmagerr2</th>\n",
       "      <th>sy_jmagstr</th>\n",
       "      <th>sy_hmag</th>\n",
       "      <th>sy_hmagerr1</th>\n",
       "      <th>sy_hmagerr2</th>\n",
       "      <th>sy_hmagstr</th>\n",
       "      <th>sy_kmag</th>\n",
       "      <th>sy_kmagerr1</th>\n",
       "      <th>sy_kmagerr2</th>\n",
       "    </tr>\n",
       "  </thead>\n",
       "  <tbody>\n",
       "    <tr>\n",
       "      <th>0</th>\n",
       "      <td>OGLE-TR-10 b</td>\n",
       "      <td>b</td>\n",
       "      <td>OGLE-TR-10</td>\n",
       "      <td>NaN</td>\n",
       "      <td>NaN</td>\n",
       "      <td>TIC 130150682</td>\n",
       "      <td>Gaia DR2 4056443366649948160</td>\n",
       "      <td>1</td>\n",
       "      <td>&lt;a refstr=TORRES_ET_AL__2008 href=https://ui.a...</td>\n",
       "      <td>&lt;a refstr=STASSUN_ET_AL__2019 href=https://ui....</td>\n",
       "      <td>...</td>\n",
       "      <td>NaN</td>\n",
       "      <td>NaN</td>\n",
       "      <td>13.692</td>\n",
       "      <td>13.314</td>\n",
       "      <td>0.121</td>\n",
       "      <td>-0.121</td>\n",
       "      <td>13.314&amp;plusmn;0.121</td>\n",
       "      <td>12.856</td>\n",
       "      <td>NaN</td>\n",
       "      <td>NaN</td>\n",
       "    </tr>\n",
       "    <tr>\n",
       "      <th>1</th>\n",
       "      <td>BD-08 2823 c</td>\n",
       "      <td>c</td>\n",
       "      <td>BD-08 2823</td>\n",
       "      <td>NaN</td>\n",
       "      <td>HIP 49067</td>\n",
       "      <td>TIC 33355302</td>\n",
       "      <td>Gaia DR2 3770419611540574080</td>\n",
       "      <td>1</td>\n",
       "      <td>&lt;a refstr=HEBRARD_ET_AL__2010 href=https://ui....</td>\n",
       "      <td>&lt;a refstr=STASSUN_ET_AL__2019 href=https://ui....</td>\n",
       "      <td>...</td>\n",
       "      <td>0.020</td>\n",
       "      <td>-0.020</td>\n",
       "      <td>7.96&amp;plusmn;0.02</td>\n",
       "      <td>7.498</td>\n",
       "      <td>0.047</td>\n",
       "      <td>-0.047</td>\n",
       "      <td>7.498&amp;plusmn;0.047</td>\n",
       "      <td>7.323</td>\n",
       "      <td>0.021</td>\n",
       "      <td>-0.021</td>\n",
       "    </tr>\n",
       "    <tr>\n",
       "      <th>2</th>\n",
       "      <td>HR 8799 c</td>\n",
       "      <td>c</td>\n",
       "      <td>HR 8799</td>\n",
       "      <td>HD 218396</td>\n",
       "      <td>HIP 114189</td>\n",
       "      <td>TIC 245368902</td>\n",
       "      <td>Gaia DR2 2832463659640297472</td>\n",
       "      <td>1</td>\n",
       "      <td>&lt;a refstr=MAROIS_ET_AL__2008 href=https://ui.a...</td>\n",
       "      <td>&lt;a refstr=STASSUN_ET_AL__2019 href=https://ui....</td>\n",
       "      <td>...</td>\n",
       "      <td>0.027</td>\n",
       "      <td>-0.027</td>\n",
       "      <td>5.383&amp;plusmn;0.027</td>\n",
       "      <td>5.280</td>\n",
       "      <td>0.018</td>\n",
       "      <td>-0.018</td>\n",
       "      <td>5.280&amp;plusmn;0.018</td>\n",
       "      <td>5.240</td>\n",
       "      <td>0.018</td>\n",
       "      <td>-0.018</td>\n",
       "    </tr>\n",
       "  </tbody>\n",
       "</table>\n",
       "<p>3 rows × 353 columns</p>\n",
       "</div>"
      ],
      "text/plain": [
       "        pl_name pl_letter    hostname    hd_name    hip_name         tic_id  \\\n",
       "0  OGLE-TR-10 b         b  OGLE-TR-10        NaN         NaN  TIC 130150682   \n",
       "1  BD-08 2823 c         c  BD-08 2823        NaN   HIP 49067   TIC 33355302   \n",
       "2     HR 8799 c         c     HR 8799  HD 218396  HIP 114189  TIC 245368902   \n",
       "\n",
       "                        gaia_id  default_flag  \\\n",
       "0  Gaia DR2 4056443366649948160             1   \n",
       "1  Gaia DR2 3770419611540574080             1   \n",
       "2  Gaia DR2 2832463659640297472             1   \n",
       "\n",
       "                                          pl_refname  \\\n",
       "0  <a refstr=TORRES_ET_AL__2008 href=https://ui.a...   \n",
       "1  <a refstr=HEBRARD_ET_AL__2010 href=https://ui....   \n",
       "2  <a refstr=MAROIS_ET_AL__2008 href=https://ui.a...   \n",
       "\n",
       "                                          sy_refname  ... sy_jmagerr1  \\\n",
       "0  <a refstr=STASSUN_ET_AL__2019 href=https://ui....  ...         NaN   \n",
       "1  <a refstr=STASSUN_ET_AL__2019 href=https://ui....  ...       0.020   \n",
       "2  <a refstr=STASSUN_ET_AL__2019 href=https://ui....  ...       0.027   \n",
       "\n",
       "   sy_jmagerr2          sy_jmagstr sy_hmag sy_hmagerr1 sy_hmagerr2  \\\n",
       "0          NaN              13.692  13.314       0.121      -0.121   \n",
       "1       -0.020    7.96&plusmn;0.02   7.498       0.047      -0.047   \n",
       "2       -0.027  5.383&plusmn;0.027   5.280       0.018      -0.018   \n",
       "\n",
       "            sy_hmagstr sy_kmag  sy_kmagerr1 sy_kmagerr2  \n",
       "0  13.314&plusmn;0.121  12.856          NaN         NaN  \n",
       "1   7.498&plusmn;0.047   7.323        0.021      -0.021  \n",
       "2   5.280&plusmn;0.018   5.240        0.018      -0.018  \n",
       "\n",
       "[3 rows x 353 columns]"
      ]
     },
     "execution_count": 3,
     "metadata": {},
     "output_type": "execute_result"
    }
   ],
   "source": [
    "nea_full_table = open_nea_table()\n",
    "nea_full_table.head(3)"
   ]
  },
  {
   "attachments": {},
   "cell_type": "markdown",
   "metadata": {},
   "source": [
    "## Selecting columns that are relevant for the ML analysis. \n",
    "\n",
    "Equilibrium temperature is important for the radius of hot planets. This parameter will be estimated from the luminosity of the star and the distance of the planet from the star. Luminosity will also be determined here."
   ]
  },
  {
   "cell_type": "code",
   "execution_count": 4,
   "metadata": {},
   "outputs": [],
   "source": [
    "relevant_columns = ['pl_rade', 'pl_radeerr1', 'pl_radeerr2', 'pl_orbsmax', 'pl_bmasse', 'pl_masseerr1', 'pl_masseerr2', 'pl_orbper',  'sy_vmag', 'sy_plx', 'st_teff', 'st_mass', 'st_met']\n",
    "nea_relevant = nea_full_table[relevant_columns]\n"
   ]
  },
  {
   "attachments": {},
   "cell_type": "markdown",
   "metadata": {},
   "source": [
    "Selecting planets with Mass and Radius measurements for ML"
   ]
  },
  {
   "cell_type": "code",
   "execution_count": 5,
   "metadata": {},
   "outputs": [
    {
     "name": "stdout",
     "output_type": "stream",
     "text": [
      "There are 1121 planets with mass and radius measurements\n"
     ]
    },
    {
     "data": {
      "text/html": [
       "<div>\n",
       "<style scoped>\n",
       "    .dataframe tbody tr th:only-of-type {\n",
       "        vertical-align: middle;\n",
       "    }\n",
       "\n",
       "    .dataframe tbody tr th {\n",
       "        vertical-align: top;\n",
       "    }\n",
       "\n",
       "    .dataframe thead th {\n",
       "        text-align: right;\n",
       "    }\n",
       "</style>\n",
       "<table border=\"1\" class=\"dataframe\">\n",
       "  <thead>\n",
       "    <tr style=\"text-align: right;\">\n",
       "      <th></th>\n",
       "      <th>pl_rade</th>\n",
       "      <th>pl_radeerr1</th>\n",
       "      <th>pl_radeerr2</th>\n",
       "      <th>pl_orbsmax</th>\n",
       "      <th>pl_bmasse</th>\n",
       "      <th>pl_masseerr1</th>\n",
       "      <th>pl_masseerr2</th>\n",
       "      <th>pl_orbper</th>\n",
       "      <th>sy_vmag</th>\n",
       "      <th>sy_plx</th>\n",
       "      <th>st_teff</th>\n",
       "      <th>st_mass</th>\n",
       "      <th>st_met</th>\n",
       "    </tr>\n",
       "  </thead>\n",
       "  <tbody>\n",
       "    <tr>\n",
       "      <th>count</th>\n",
       "      <td>1121.000000</td>\n",
       "      <td>1097.000000</td>\n",
       "      <td>1097.000000</td>\n",
       "      <td>878.000000</td>\n",
       "      <td>1121.000000</td>\n",
       "      <td>997.000000</td>\n",
       "      <td>997.000000</td>\n",
       "      <td>1.106000e+03</td>\n",
       "      <td>1118.000000</td>\n",
       "      <td>1093.000000</td>\n",
       "      <td>1029.000000</td>\n",
       "      <td>1099.000000</td>\n",
       "      <td>946.000000</td>\n",
       "    </tr>\n",
       "    <tr>\n",
       "      <th>mean</th>\n",
       "      <td>8.920726</td>\n",
       "      <td>0.658813</td>\n",
       "      <td>-0.571374</td>\n",
       "      <td>17.160517</td>\n",
       "      <td>420.030847</td>\n",
       "      <td>62.531148</td>\n",
       "      <td>-58.983919</td>\n",
       "      <td>3.763113e+05</td>\n",
       "      <td>12.263198</td>\n",
       "      <td>9.316416</td>\n",
       "      <td>5500.237318</td>\n",
       "      <td>1.007607</td>\n",
       "      <td>0.050680</td>\n",
       "    </tr>\n",
       "    <tr>\n",
       "      <th>std</th>\n",
       "      <td>6.087014</td>\n",
       "      <td>1.020060</td>\n",
       "      <td>0.797187</td>\n",
       "      <td>272.583333</td>\n",
       "      <td>960.867372</td>\n",
       "      <td>243.031013</td>\n",
       "      <td>228.914651</td>\n",
       "      <td>1.209112e+07</td>\n",
       "      <td>2.177996</td>\n",
       "      <td>17.915702</td>\n",
       "      <td>1353.519686</td>\n",
       "      <td>0.342385</td>\n",
       "      <td>0.196025</td>\n",
       "    </tr>\n",
       "    <tr>\n",
       "      <th>min</th>\n",
       "      <td>0.310000</td>\n",
       "      <td>0.006000</td>\n",
       "      <td>-6.730000</td>\n",
       "      <td>0.006000</td>\n",
       "      <td>0.070000</td>\n",
       "      <td>0.012000</td>\n",
       "      <td>-4767.450000</td>\n",
       "      <td>2.401040e-01</td>\n",
       "      <td>5.569110</td>\n",
       "      <td>-0.149186</td>\n",
       "      <td>575.000000</td>\n",
       "      <td>0.010000</td>\n",
       "      <td>-0.580000</td>\n",
       "    </tr>\n",
       "    <tr>\n",
       "      <th>25%</th>\n",
       "      <td>2.607000</td>\n",
       "      <td>0.112000</td>\n",
       "      <td>-0.684000</td>\n",
       "      <td>0.038155</td>\n",
       "      <td>10.100000</td>\n",
       "      <td>2.100000</td>\n",
       "      <td>-41.317900</td>\n",
       "      <td>3.003277e+00</td>\n",
       "      <td>11.000250</td>\n",
       "      <td>1.948610</td>\n",
       "      <td>5052.000000</td>\n",
       "      <td>0.830000</td>\n",
       "      <td>-0.070000</td>\n",
       "    </tr>\n",
       "    <tr>\n",
       "      <th>50%</th>\n",
       "      <td>10.368000</td>\n",
       "      <td>0.336000</td>\n",
       "      <td>-0.325000</td>\n",
       "      <td>0.054010</td>\n",
       "      <td>123.953700</td>\n",
       "      <td>14.937000</td>\n",
       "      <td>-14.302000</td>\n",
       "      <td>4.603155e+00</td>\n",
       "      <td>12.246000</td>\n",
       "      <td>3.535580</td>\n",
       "      <td>5625.000000</td>\n",
       "      <td>1.000000</td>\n",
       "      <td>0.060000</td>\n",
       "    </tr>\n",
       "    <tr>\n",
       "      <th>75%</th>\n",
       "      <td>13.787000</td>\n",
       "      <td>0.785000</td>\n",
       "      <td>-0.110000</td>\n",
       "      <td>0.101175</td>\n",
       "      <td>379.000000</td>\n",
       "      <td>43.223000</td>\n",
       "      <td>-2.000000</td>\n",
       "      <td>1.189179e+01</td>\n",
       "      <td>13.688000</td>\n",
       "      <td>8.107340</td>\n",
       "      <td>6011.000000</td>\n",
       "      <td>1.180000</td>\n",
       "      <td>0.190000</td>\n",
       "    </tr>\n",
       "    <tr>\n",
       "      <th>max</th>\n",
       "      <td>33.600000</td>\n",
       "      <td>10.536000</td>\n",
       "      <td>0.000000</td>\n",
       "      <td>7506.000000</td>\n",
       "      <td>9534.900000</td>\n",
       "      <td>4767.450000</td>\n",
       "      <td>-0.012000</td>\n",
       "      <td>4.020000e+08</td>\n",
       "      <td>20.154400</td>\n",
       "      <td>153.081000</td>\n",
       "      <td>27730.000000</td>\n",
       "      <td>2.780000</td>\n",
       "      <td>0.522000</td>\n",
       "    </tr>\n",
       "  </tbody>\n",
       "</table>\n",
       "</div>"
      ],
      "text/plain": [
       "           pl_rade  pl_radeerr1  pl_radeerr2   pl_orbsmax    pl_bmasse  \\\n",
       "count  1121.000000  1097.000000  1097.000000   878.000000  1121.000000   \n",
       "mean      8.920726     0.658813    -0.571374    17.160517   420.030847   \n",
       "std       6.087014     1.020060     0.797187   272.583333   960.867372   \n",
       "min       0.310000     0.006000    -6.730000     0.006000     0.070000   \n",
       "25%       2.607000     0.112000    -0.684000     0.038155    10.100000   \n",
       "50%      10.368000     0.336000    -0.325000     0.054010   123.953700   \n",
       "75%      13.787000     0.785000    -0.110000     0.101175   379.000000   \n",
       "max      33.600000    10.536000     0.000000  7506.000000  9534.900000   \n",
       "\n",
       "       pl_masseerr1  pl_masseerr2     pl_orbper      sy_vmag       sy_plx  \\\n",
       "count    997.000000    997.000000  1.106000e+03  1118.000000  1093.000000   \n",
       "mean      62.531148    -58.983919  3.763113e+05    12.263198     9.316416   \n",
       "std      243.031013    228.914651  1.209112e+07     2.177996    17.915702   \n",
       "min        0.012000  -4767.450000  2.401040e-01     5.569110    -0.149186   \n",
       "25%        2.100000    -41.317900  3.003277e+00    11.000250     1.948610   \n",
       "50%       14.937000    -14.302000  4.603155e+00    12.246000     3.535580   \n",
       "75%       43.223000     -2.000000  1.189179e+01    13.688000     8.107340   \n",
       "max     4767.450000     -0.012000  4.020000e+08    20.154400   153.081000   \n",
       "\n",
       "            st_teff      st_mass      st_met  \n",
       "count   1029.000000  1099.000000  946.000000  \n",
       "mean    5500.237318     1.007607    0.050680  \n",
       "std     1353.519686     0.342385    0.196025  \n",
       "min      575.000000     0.010000   -0.580000  \n",
       "25%     5052.000000     0.830000   -0.070000  \n",
       "50%     5625.000000     1.000000    0.060000  \n",
       "75%     6011.000000     1.180000    0.190000  \n",
       "max    27730.000000     2.780000    0.522000  "
      ]
     },
     "execution_count": 5,
     "metadata": {},
     "output_type": "execute_result"
    }
   ],
   "source": [
    "nea_with_M_and_R = nea_relevant[(nea_relevant.pl_bmasse > 0) & (nea_relevant.pl_rade > 0) ].reset_index(drop=True) # reset index, drop old ones\n",
    "\n",
    "print (f'There are {len(nea_with_M_and_R)} planets with mass and radius measurements')\n",
    "\n",
    "nea_with_M_and_R.describe()"
   ]
  },
  {
   "attachments": {},
   "cell_type": "markdown",
   "metadata": {},
   "source": [
    "There seem to be star(s) with negative parallaxes. They must be removed fromthe sample"
   ]
  },
  {
   "cell_type": "code",
   "execution_count": 6,
   "metadata": {},
   "outputs": [],
   "source": [
    "nea_with_M_and_R = nea_with_M_and_R[nea_with_M_and_R.sy_plx > 0]"
   ]
  },
  {
   "attachments": {},
   "cell_type": "markdown",
   "metadata": {},
   "source": [
    "To calculate Teq, one needs Luminosity (us such, Teff, Vmag, and Plx) and semimajor axis (or orbital period ond Mstar)"
   ]
  },
  {
   "cell_type": "code",
   "execution_count": 7,
   "metadata": {},
   "outputs": [
    {
     "data": {
      "text/plain": [
       "pl_rade           0\n",
       "pl_radeerr1      22\n",
       "pl_radeerr2      22\n",
       "pl_orbsmax      242\n",
       "pl_bmasse         0\n",
       "pl_masseerr1    122\n",
       "pl_masseerr2    122\n",
       "pl_orbper        13\n",
       "sy_vmag           0\n",
       "sy_plx            0\n",
       "st_teff          89\n",
       "st_mass          20\n",
       "st_met          160\n",
       "dtype: int64"
      ]
     },
     "execution_count": 7,
     "metadata": {},
     "output_type": "execute_result"
    }
   ],
   "source": [
    "#check how many nan values have in each column\n",
    "nea_with_M_and_R.isna().sum()"
   ]
  },
  {
   "attachments": {},
   "cell_type": "markdown",
   "metadata": {},
   "source": [
    "There are 235 missing entries for semimajor axis. This parameter can be estimated from the stellar mass and orbital period.\n",
    "\n",
    "Next, all the rows containing nan values will be removed, except if the nan is in the \"pl_orbsmax\" column"
   ]
  },
  {
   "cell_type": "code",
   "execution_count": 8,
   "metadata": {},
   "outputs": [
    {
     "data": {
      "text/plain": [
       "pl_rade           0\n",
       "pl_radeerr1       0\n",
       "pl_radeerr2       0\n",
       "pl_orbsmax      159\n",
       "pl_bmasse         0\n",
       "pl_masseerr1      0\n",
       "pl_masseerr2      0\n",
       "pl_orbper         0\n",
       "sy_vmag           0\n",
       "sy_plx            0\n",
       "st_teff           0\n",
       "st_mass           0\n",
       "st_met            0\n",
       "dtype: int64"
      ]
     },
     "execution_count": 8,
     "metadata": {},
     "output_type": "execute_result"
    }
   ],
   "source": [
    "nea_with_M_and_R_cleaned = nea_with_M_and_R.dropna(subset=nea_with_M_and_R.columns.drop(['pl_orbsmax']))\n",
    "# Check results\n",
    "nea_with_M_and_R_cleaned.isna().sum()\n"
   ]
  },
  {
   "cell_type": "code",
   "execution_count": 9,
   "metadata": {},
   "outputs": [
    {
     "name": "stdout",
     "output_type": "stream",
     "text": [
      "There are 822 planets for the ML analysis\n"
     ]
    },
    {
     "data": {
      "text/html": [
       "<div>\n",
       "<style scoped>\n",
       "    .dataframe tbody tr th:only-of-type {\n",
       "        vertical-align: middle;\n",
       "    }\n",
       "\n",
       "    .dataframe tbody tr th {\n",
       "        vertical-align: top;\n",
       "    }\n",
       "\n",
       "    .dataframe thead th {\n",
       "        text-align: right;\n",
       "    }\n",
       "</style>\n",
       "<table border=\"1\" class=\"dataframe\">\n",
       "  <thead>\n",
       "    <tr style=\"text-align: right;\">\n",
       "      <th></th>\n",
       "      <th>pl_rade</th>\n",
       "      <th>pl_radeerr1</th>\n",
       "      <th>pl_radeerr2</th>\n",
       "      <th>pl_orbsmax</th>\n",
       "      <th>pl_bmasse</th>\n",
       "      <th>pl_masseerr1</th>\n",
       "      <th>pl_masseerr2</th>\n",
       "      <th>pl_orbper</th>\n",
       "      <th>sy_vmag</th>\n",
       "      <th>sy_plx</th>\n",
       "      <th>st_teff</th>\n",
       "      <th>st_mass</th>\n",
       "      <th>st_met</th>\n",
       "    </tr>\n",
       "  </thead>\n",
       "  <tbody>\n",
       "    <tr>\n",
       "      <th>4</th>\n",
       "      <td>16.870</td>\n",
       "      <td>0.560</td>\n",
       "      <td>-0.504</td>\n",
       "      <td>0.0535</td>\n",
       "      <td>271.74465</td>\n",
       "      <td>22.88376</td>\n",
       "      <td>-21.93027</td>\n",
       "      <td>3.899052</td>\n",
       "      <td>12.006</td>\n",
       "      <td>1.73126</td>\n",
       "      <td>5941.0</td>\n",
       "      <td>1.34</td>\n",
       "      <td>0.164</td>\n",
       "    </tr>\n",
       "    <tr>\n",
       "      <th>5</th>\n",
       "      <td>21.633</td>\n",
       "      <td>5.044</td>\n",
       "      <td>-5.044</td>\n",
       "      <td>NaN</td>\n",
       "      <td>352.79130</td>\n",
       "      <td>171.62820</td>\n",
       "      <td>-171.62820</td>\n",
       "      <td>2.175180</td>\n",
       "      <td>11.965</td>\n",
       "      <td>1.29679</td>\n",
       "      <td>6100.0</td>\n",
       "      <td>1.87</td>\n",
       "      <td>-0.350</td>\n",
       "    </tr>\n",
       "    <tr>\n",
       "      <th>6</th>\n",
       "      <td>12.722</td>\n",
       "      <td>0.538</td>\n",
       "      <td>-0.538</td>\n",
       "      <td>0.0466</td>\n",
       "      <td>180.84527</td>\n",
       "      <td>7.31009</td>\n",
       "      <td>-6.99226</td>\n",
       "      <td>3.652815</td>\n",
       "      <td>13.146</td>\n",
       "      <td>3.30091</td>\n",
       "      <td>5519.0</td>\n",
       "      <td>1.01</td>\n",
       "      <td>0.294</td>\n",
       "    </tr>\n",
       "  </tbody>\n",
       "</table>\n",
       "</div>"
      ],
      "text/plain": [
       "   pl_rade  pl_radeerr1  pl_radeerr2  pl_orbsmax  pl_bmasse  pl_masseerr1  \\\n",
       "4   16.870        0.560       -0.504      0.0535  271.74465      22.88376   \n",
       "5   21.633        5.044       -5.044         NaN  352.79130     171.62820   \n",
       "6   12.722        0.538       -0.538      0.0466  180.84527       7.31009   \n",
       "\n",
       "   pl_masseerr2  pl_orbper  sy_vmag   sy_plx  st_teff  st_mass  st_met  \n",
       "4     -21.93027   3.899052   12.006  1.73126   5941.0     1.34   0.164  \n",
       "5    -171.62820   2.175180   11.965  1.29679   6100.0     1.87  -0.350  \n",
       "6      -6.99226   3.652815   13.146  3.30091   5519.0     1.01   0.294  "
      ]
     },
     "execution_count": 9,
     "metadata": {},
     "output_type": "execute_result"
    }
   ],
   "source": [
    "print (f'There are {len(nea_with_M_and_R_cleaned)} planets for the ML analysis')\n",
    "nea_with_M_and_R_cleaned.head(3)"
   ]
  },
  {
   "attachments": {},
   "cell_type": "markdown",
   "metadata": {},
   "source": [
    "Calculating semimajor axis from Period and stellar mass, for the missing \"a\" entries"
   ]
  },
  {
   "cell_type": "code",
   "execution_count": 10,
   "metadata": {},
   "outputs": [],
   "source": [
    "for i in range(len(nea_with_M_and_R_cleaned)):\n",
    "    if np.isnan(nea_with_M_and_R_cleaned.iloc[i]['pl_orbsmax']):\n",
    "        nea_with_M_and_R_cleaned.iloc[i]['pl_orbsmax'] = a_from_P(nea_with_M_and_R_cleaned.iloc[i]['st_mass'], nea_with_M_and_R_cleaned.iloc[i]['pl_orbper'])\n"
   ]
  },
  {
   "attachments": {},
   "cell_type": "markdown",
   "metadata": {},
   "source": [
    "Calculating Teq from \"a\" or \"P\" "
   ]
  },
  {
   "attachments": {},
   "cell_type": "markdown",
   "metadata": {},
   "source": [
    "Use teq_hellper_function function to determine Teq from \"a\" or \"P\" depending on their availability. Priority is given to \"a\""
   ]
  },
  {
   "cell_type": "code",
   "execution_count": 11,
   "metadata": {},
   "outputs": [
    {
     "name": "stderr",
     "output_type": "stream",
     "text": [
      "/tmp/ipykernel_91158/293283582.py:2: SettingWithCopyWarning: \n",
      "A value is trying to be set on a copy of a slice from a DataFrame.\n",
      "Try using .loc[row_indexer,col_indexer] = value instead\n",
      "\n",
      "See the caveats in the documentation: https://pandas.pydata.org/pandas-docs/stable/user_guide/indexing.html#returning-a-view-versus-a-copy\n",
      "  nea_with_M_and_R_cleaned['Teq'] = 0\n"
     ]
    }
   ],
   "source": [
    "# Add new columns: Teq\n",
    "nea_with_M_and_R_cleaned['Teq'] = 0\n",
    "\n",
    "nea_with_M_and_R_cleaned = nea_with_M_and_R_cleaned.apply(lambda x: teq_hellper_function(x, 'pl_orbsmax', 'pl_orbper', 'st_teff', 'sy_vmag', 'sy_plx', 'st_mass', 'Teq'), axis = 1)"
   ]
  },
  {
   "cell_type": "code",
   "execution_count": 12,
   "metadata": {},
   "outputs": [
    {
     "data": {
      "text/html": [
       "<div>\n",
       "<style scoped>\n",
       "    .dataframe tbody tr th:only-of-type {\n",
       "        vertical-align: middle;\n",
       "    }\n",
       "\n",
       "    .dataframe tbody tr th {\n",
       "        vertical-align: top;\n",
       "    }\n",
       "\n",
       "    .dataframe thead th {\n",
       "        text-align: right;\n",
       "    }\n",
       "</style>\n",
       "<table border=\"1\" class=\"dataframe\">\n",
       "  <thead>\n",
       "    <tr style=\"text-align: right;\">\n",
       "      <th></th>\n",
       "      <th>pl_rade</th>\n",
       "      <th>pl_radeerr1</th>\n",
       "      <th>pl_radeerr2</th>\n",
       "      <th>pl_orbsmax</th>\n",
       "      <th>pl_bmasse</th>\n",
       "      <th>pl_masseerr1</th>\n",
       "      <th>pl_masseerr2</th>\n",
       "      <th>pl_orbper</th>\n",
       "      <th>sy_vmag</th>\n",
       "      <th>sy_plx</th>\n",
       "      <th>st_teff</th>\n",
       "      <th>st_mass</th>\n",
       "      <th>st_met</th>\n",
       "      <th>Teq</th>\n",
       "    </tr>\n",
       "  </thead>\n",
       "  <tbody>\n",
       "    <tr>\n",
       "      <th>555</th>\n",
       "      <td>21.196</td>\n",
       "      <td>0.684</td>\n",
       "      <td>-0.594</td>\n",
       "      <td>0.03462</td>\n",
       "      <td>915.35040</td>\n",
       "      <td>266.97720</td>\n",
       "      <td>-266.97720</td>\n",
       "      <td>1.481124e+00</td>\n",
       "      <td>7.55000</td>\n",
       "      <td>4.86254</td>\n",
       "      <td>10170.0</td>\n",
       "      <td>2.52</td>\n",
       "      <td>-0.03</td>\n",
       "      <td>0.0</td>\n",
       "    </tr>\n",
       "    <tr>\n",
       "      <th>711</th>\n",
       "      <td>20.288</td>\n",
       "      <td>1.009</td>\n",
       "      <td>-1.009</td>\n",
       "      <td>0.05580</td>\n",
       "      <td>527.59780</td>\n",
       "      <td>38.13960</td>\n",
       "      <td>-38.13960</td>\n",
       "      <td>3.344829e+00</td>\n",
       "      <td>9.94600</td>\n",
       "      <td>2.31187</td>\n",
       "      <td>9360.0</td>\n",
       "      <td>2.07</td>\n",
       "      <td>0.21</td>\n",
       "      <td>0.0</td>\n",
       "    </tr>\n",
       "    <tr>\n",
       "      <th>717</th>\n",
       "      <td>18.147</td>\n",
       "      <td>0.235</td>\n",
       "      <td>-0.235</td>\n",
       "      <td>0.05053</td>\n",
       "      <td>632.47853</td>\n",
       "      <td>50.85255</td>\n",
       "      <td>-44.49598</td>\n",
       "      <td>2.724033e+00</td>\n",
       "      <td>6.59776</td>\n",
       "      <td>9.99903</td>\n",
       "      <td>8000.0</td>\n",
       "      <td>2.03</td>\n",
       "      <td>0.29</td>\n",
       "      <td>0.0</td>\n",
       "    </tr>\n",
       "    <tr>\n",
       "      <th>1069</th>\n",
       "      <td>12.442</td>\n",
       "      <td>0.336</td>\n",
       "      <td>-0.336</td>\n",
       "      <td>7506.00000</td>\n",
       "      <td>2002.31896</td>\n",
       "      <td>476.74261</td>\n",
       "      <td>-603.87397</td>\n",
       "      <td>4.020000e+08</td>\n",
       "      <td>11.29800</td>\n",
       "      <td>91.82910</td>\n",
       "      <td>3406.0</td>\n",
       "      <td>0.37</td>\n",
       "      <td>0.00</td>\n",
       "      <td>1.0</td>\n",
       "    </tr>\n",
       "  </tbody>\n",
       "</table>\n",
       "</div>"
      ],
      "text/plain": [
       "      pl_rade  pl_radeerr1  pl_radeerr2  pl_orbsmax   pl_bmasse  pl_masseerr1  \\\n",
       "555    21.196        0.684       -0.594     0.03462   915.35040     266.97720   \n",
       "711    20.288        1.009       -1.009     0.05580   527.59780      38.13960   \n",
       "717    18.147        0.235       -0.235     0.05053   632.47853      50.85255   \n",
       "1069   12.442        0.336       -0.336  7506.00000  2002.31896     476.74261   \n",
       "\n",
       "      pl_masseerr2     pl_orbper   sy_vmag    sy_plx  st_teff  st_mass  \\\n",
       "555     -266.97720  1.481124e+00   7.55000   4.86254  10170.0     2.52   \n",
       "711      -38.13960  3.344829e+00   9.94600   2.31187   9360.0     2.07   \n",
       "717      -44.49598  2.724033e+00   6.59776   9.99903   8000.0     2.03   \n",
       "1069    -603.87397  4.020000e+08  11.29800  91.82910   3406.0     0.37   \n",
       "\n",
       "      st_met  Teq  \n",
       "555    -0.03  0.0  \n",
       "711     0.21  0.0  \n",
       "717     0.29  0.0  \n",
       "1069    0.00  1.0  "
      ]
     },
     "metadata": {},
     "output_type": "display_data"
    },
    {
     "name": "stdout",
     "output_type": "stream",
     "text": [
      "None\n"
     ]
    }
   ],
   "source": [
    "# very 'cool' planets\n",
    "print (display(nea_with_M_and_R_cleaned[nea_with_M_and_R_cleaned.Teq < 100]))\n",
    "\n",
    "#Some of the parameters used to calculate the Teq must be wrong. These objects should be removed\n",
    "\n",
    "nea_with_M_and_R_cleaned = nea_with_M_and_R_cleaned[nea_with_M_and_R_cleaned.Teq > 10]"
   ]
  },
  {
   "attachments": {},
   "cell_type": "markdown",
   "metadata": {},
   "source": [
    "### Selecting plaents with relatively high precision in Mass and Radius"
   ]
  },
  {
   "cell_type": "code",
   "execution_count": 13,
   "metadata": {},
   "outputs": [],
   "source": [
    "# calculating the mean errors of M and R\n",
    "nea_with_M_and_R_cleaned['pl_rade_err'] = (nea_with_M_and_R_cleaned['pl_radeerr1'] - nea_with_M_and_R_cleaned['pl_radeerr2'])/2\n",
    "nea_with_M_and_R_cleaned['pl_bmasse_err'] = (nea_with_M_and_R_cleaned['pl_masseerr1'] - nea_with_M_and_R_cleaned['pl_masseerr2'])/2"
   ]
  },
  {
   "cell_type": "code",
   "execution_count": 14,
   "metadata": {},
   "outputs": [
    {
     "name": "stdout",
     "output_type": "stream",
     "text": [
      "There are 781 precisely characterized planets in terms of Mass and Radius\n"
     ]
    }
   ],
   "source": [
    "M_threshold = 0.5\n",
    "R_threshold = 0.5\n",
    "precise_criteria = (nea_with_M_and_R_cleaned['pl_rade_err']/nea_with_M_and_R_cleaned['pl_rade'] < R_threshold) & (nea_with_M_and_R_cleaned['pl_bmasse_err']/nea_with_M_and_R_cleaned['pl_bmasse'] < M_threshold)\n",
    "nea_with_M_and_R_cleaned_accurate = nea_with_M_and_R_cleaned[precise_criteria]\n",
    "\n",
    "print (f'There are {len(nea_with_M_and_R_cleaned_accurate)} precisely characterized planets in terms of Mass and Radius')"
   ]
  },
  {
   "cell_type": "code",
   "execution_count": 15,
   "metadata": {},
   "outputs": [
    {
     "data": {
      "text/html": [
       "<div>\n",
       "<style scoped>\n",
       "    .dataframe tbody tr th:only-of-type {\n",
       "        vertical-align: middle;\n",
       "    }\n",
       "\n",
       "    .dataframe tbody tr th {\n",
       "        vertical-align: top;\n",
       "    }\n",
       "\n",
       "    .dataframe thead th {\n",
       "        text-align: right;\n",
       "    }\n",
       "</style>\n",
       "<table border=\"1\" class=\"dataframe\">\n",
       "  <thead>\n",
       "    <tr style=\"text-align: right;\">\n",
       "      <th></th>\n",
       "      <th>pl_rade</th>\n",
       "      <th>pl_bmasse</th>\n",
       "      <th>Teq</th>\n",
       "      <th>st_teff</th>\n",
       "      <th>pl_orbsmax</th>\n",
       "      <th>st_met</th>\n",
       "    </tr>\n",
       "  </thead>\n",
       "  <tbody>\n",
       "    <tr>\n",
       "      <th>4</th>\n",
       "      <td>16.870</td>\n",
       "      <td>271.74465</td>\n",
       "      <td>1744.0</td>\n",
       "      <td>5941.0</td>\n",
       "      <td>0.053500</td>\n",
       "      <td>0.164</td>\n",
       "    </tr>\n",
       "    <tr>\n",
       "      <th>5</th>\n",
       "      <td>21.633</td>\n",
       "      <td>352.79130</td>\n",
       "      <td>5466.0</td>\n",
       "      <td>6100.0</td>\n",
       "      <td>0.007337</td>\n",
       "      <td>-0.350</td>\n",
       "    </tr>\n",
       "  </tbody>\n",
       "</table>\n",
       "</div>"
      ],
      "text/plain": [
       "   pl_rade  pl_bmasse     Teq  st_teff  pl_orbsmax  st_met\n",
       "4   16.870  271.74465  1744.0   5941.0    0.053500   0.164\n",
       "5   21.633  352.79130  5466.0   6100.0    0.007337  -0.350"
      ]
     },
     "execution_count": 15,
     "metadata": {},
     "output_type": "execute_result"
    }
   ],
   "source": [
    "# Final table with Mass, Radius, and Teq\n",
    "nea_MR_final_table = nea_with_M_and_R_cleaned_accurate[['pl_rade', 'pl_bmasse', 'Teq', 'st_teff', 'pl_orbsmax', 'st_met']]\n",
    "nea_MR_final_table.head(2)"
   ]
  },
  {
   "attachments": {},
   "cell_type": "markdown",
   "metadata": {},
   "source": [
    "# Starting the Machine Learning part"
   ]
  },
  {
   "attachments": {},
   "cell_type": "markdown",
   "metadata": {},
   "source": [
    "Since the accuracy of Mass estimation is not critical, I'll make things simple (but still keeping the state-of-the-art): \n",
    "\n",
    "Use Random Forest regressor and tune HyperParameters with \"optuna\" (sometimes better than grid_search see e.g. [this](https://medium.com/mlearning-ai/hyper-parameter-tuning-through-grid-search-and-optuna-2bd89a2ece06)"
   ]
  },
  {
   "cell_type": "code",
   "execution_count": 16,
   "metadata": {},
   "outputs": [],
   "source": [
    "import matplotlib.pyplot as plt\n",
    "import seaborn as sns\n",
    "%matplotlib inline"
   ]
  },
  {
   "attachments": {},
   "cell_type": "markdown",
   "metadata": {},
   "source": [
    "### Displaying the data"
   ]
  },
  {
   "cell_type": "code",
   "execution_count": 17,
   "metadata": {},
   "outputs": [
    {
     "data": {
      "image/png": "[encoded data removed]",
      "text/plain": [
       "<Figure size 576x432 with 1 Axes>"
      ]
     },
     "metadata": {
      "needs_background": "light"
     },
     "output_type": "display_data"
    }
   ],
   "source": [
    "fig = plt.figure(1, figsize = (8,6))\n",
    "ax = plt.subplot(1,1,1)\n",
    "MR_plot(ax, nea_MR_final_table.pl_bmasse, nea_MR_final_table.pl_rade, color = nea_MR_final_table['Teq'], label = 'MR data')"
   ]
  },
  {
   "cell_type": "code",
   "execution_count": 18,
   "metadata": {},
   "outputs": [
    {
     "data": {
      "image/png": "[encoded data removed]",
      "text/plain": [
       "<Figure size 1440x432 with 6 Axes>"
      ]
     },
     "metadata": {
      "needs_background": "light"
     },
     "output_type": "display_data"
    }
   ],
   "source": [
    "fig = plt.figure(2, figsize = (20,6))\n",
    "ax = plt.gca()\n",
    "\n",
    "for i, col  in enumerate(nea_MR_final_table.columns):\n",
    "    ax = plt.subplot(1, 6, i+1)\n",
    "    if nea_MR_final_table[col].max() / nea_MR_final_table[col].min() > 1e3:\n",
    "        ax.hist(np.log10(nea_MR_final_table[col]))\n",
    "        ax.set_xlabel(f'log10({col})', fontsize = 15)\n",
    "    else:\n",
    "        ax.hist((nea_MR_final_table[col]))\n",
    "        ax.set_xlabel(col, fontsize = 15)"
   ]
  },
  {
   "cell_type": "markdown",
   "metadata": {},
   "source": [
    "Some of the parameters, including planetary Masses, have very wide distribution. Several parameters do not show symmetric distribution"
   ]
  },
  {
   "cell_type": "code",
   "execution_count": 19,
   "metadata": {},
   "outputs": [],
   "source": [
    "from sklearn.model_selection import train_test_split, cross_val_score, learning_curve, GridSearchCV\n",
    "from sklearn.metrics import mean_squared_error, mean_absolute_error\n",
    "\n",
    "from sklearn.ensemble import RandomForestRegressor"
   ]
  },
  {
   "cell_type": "markdown",
   "metadata": {},
   "source": [
    "Selecting our target variable ( y = planetary mass) and the input features (X =[Teff, metallicity, radius, orbital semi-major axis, Teq])"
   ]
  },
  {
   "cell_type": "code",
   "execution_count": 20,
   "metadata": {},
   "outputs": [],
   "source": [
    "y = nea_MR_final_table['pl_bmasse']\n",
    "X = nea_MR_final_table.drop(columns = ['pl_bmasse'])"
   ]
  },
  {
   "cell_type": "markdown",
   "metadata": {},
   "source": [
    "### Tuning the hyperparameters using Optuna and fitting the data"
   ]
  },
  {
   "cell_type": "code",
   "execution_count": 21,
   "metadata": {},
   "outputs": [
    {
     "name": "stdout",
     "output_type": "stream",
     "text": [
      "The base MAE score from the training set is 249\n"
     ]
    },
    {
     "name": "stderr",
     "output_type": "stream",
     "text": [
      "\u001b[32m[I 2023-07-14 11:09:48,620]\u001b[0m A new study created in memory with name: no-name-19bc90c6-d51e-46cf-b3c0-66cf35d20ace\u001b[0m\n",
      "\u001b[32m[I 2023-07-14 11:09:49,183]\u001b[0m Trial 0 finished with value: 250.7517667466885 and parameters: {'n_estimators': 40, 'max_depth': 7, 'min_samples_split': 3, 'max_features': 5}. Best is trial 0 with value: 250.7517667466885.\u001b[0m\n",
      "\u001b[32m[I 2023-07-14 11:09:51,391]\u001b[0m Trial 1 finished with value: 252.6310800006685 and parameters: {'n_estimators': 200, 'max_depth': 9, 'min_samples_split': 6, 'max_features': 3}. Best is trial 0 with value: 250.7517667466885.\u001b[0m\n",
      "\u001b[32m[I 2023-07-14 11:09:51,757]\u001b[0m Trial 2 finished with value: 263.58683002207346 and parameters: {'n_estimators': 40, 'max_depth': 4, 'min_samples_split': 6, 'max_features': 3}. Best is trial 0 with value: 250.7517667466885.\u001b[0m\n",
      "\u001b[32m[I 2023-07-14 11:09:52,100]\u001b[0m Trial 3 finished with value: 273.3385569829784 and parameters: {'n_estimators': 40, 'max_depth': 2, 'min_samples_split': 3, 'max_features': 3}. Best is trial 0 with value: 250.7517667466885.\u001b[0m\n",
      "\u001b[32m[I 2023-07-14 11:09:53,734]\u001b[0m Trial 4 finished with value: 246.22522587301646 and parameters: {'n_estimators': 140, 'max_depth': 8, 'min_samples_split': 2, 'max_features': 4}. Best is trial 4 with value: 246.22522587301646.\u001b[0m\n",
      "\u001b[32m[I 2023-07-14 11:09:55,116]\u001b[0m Trial 5 finished with value: 269.26180410183855 and parameters: {'n_estimators': 160, 'max_depth': 2, 'min_samples_split': 4, 'max_features': 4}. Best is trial 4 with value: 246.22522587301646.\u001b[0m\n",
      "\u001b[32m[I 2023-07-14 11:09:57,097]\u001b[0m Trial 6 finished with value: 253.94933449613956 and parameters: {'n_estimators': 180, 'max_depth': 8, 'min_samples_split': 5, 'max_features': 2}. Best is trial 4 with value: 246.22522587301646.\u001b[0m\n",
      "\u001b[32m[I 2023-07-14 11:09:58,357]\u001b[0m Trial 7 finished with value: 261.9050004329837 and parameters: {'n_estimators': 160, 'max_depth': 4, 'min_samples_split': 2, 'max_features': 2}. Best is trial 4 with value: 246.22522587301646.\u001b[0m\n",
      "\u001b[32m[I 2023-07-14 11:09:59,289]\u001b[0m Trial 8 finished with value: 248.86944752024584 and parameters: {'n_estimators': 80, 'max_depth': 8, 'min_samples_split': 3, 'max_features': 4}. Best is trial 4 with value: 246.22522587301646.\u001b[0m\n",
      "\u001b[32m[I 2023-07-14 11:10:00,640]\u001b[0m Trial 9 finished with value: 249.87032887039055 and parameters: {'n_estimators': 120, 'max_depth': 9, 'min_samples_split': 4, 'max_features': 3}. Best is trial 4 with value: 246.22522587301646.\u001b[0m\n",
      "\u001b[32m[I 2023-07-14 11:10:02,430]\u001b[0m Trial 10 finished with value: 247.390760066851 and parameters: {'n_estimators': 120, 'max_depth': 10, 'min_samples_split': 2, 'max_features': 5}. Best is trial 4 with value: 246.22522587301646.\u001b[0m\n",
      "\u001b[32m[I 2023-07-14 11:10:04,288]\u001b[0m Trial 11 finished with value: 247.390760066851 and parameters: {'n_estimators': 120, 'max_depth': 10, 'min_samples_split': 2, 'max_features': 5}. Best is trial 4 with value: 246.22522587301646.\u001b[0m\n",
      "\u001b[32m[I 2023-07-14 11:10:05,861]\u001b[0m Trial 12 finished with value: 248.38551370080899 and parameters: {'n_estimators': 100, 'max_depth': 10, 'min_samples_split': 2, 'max_features': 5}. Best is trial 4 with value: 246.22522587301646.\u001b[0m\n",
      "\u001b[32m[I 2023-07-14 11:10:07,485]\u001b[0m Trial 13 finished with value: 248.58072586571853 and parameters: {'n_estimators': 140, 'max_depth': 6, 'min_samples_split': 2, 'max_features': 4}. Best is trial 4 with value: 246.22522587301646.\u001b[0m\n",
      "\u001b[32m[I 2023-07-14 11:10:08,504]\u001b[0m Trial 14 finished with value: 251.67049089776447 and parameters: {'n_estimators': 80, 'max_depth': 6, 'min_samples_split': 3, 'max_features': 5}. Best is trial 4 with value: 246.22522587301646.\u001b[0m\n",
      "\u001b[32m[I 2023-07-14 11:10:09,579]\u001b[0m Trial 15 finished with value: 245.42974916960057 and parameters: {'n_estimators': 80, 'max_depth': 8, 'min_samples_split': 2, 'max_features': 4}. Best is trial 15 with value: 245.42974916960057.\u001b[0m\n",
      "\u001b[32m[I 2023-07-14 11:10:10,645]\u001b[0m Trial 16 finished with value: 252.74577931405412 and parameters: {'n_estimators': 80, 'max_depth': 7, 'min_samples_split': 5, 'max_features': 4}. Best is trial 15 with value: 245.42974916960057.\u001b[0m\n",
      "\u001b[32m[I 2023-07-14 11:10:11,276]\u001b[0m Trial 17 finished with value: 251.4113129415373 and parameters: {'n_estimators': 60, 'max_depth': 5, 'min_samples_split': 3, 'max_features': 4}. Best is trial 15 with value: 245.42974916960057.\u001b[0m\n",
      "\u001b[32m[I 2023-07-14 11:10:11,556]\u001b[0m Trial 18 finished with value: 255.45331478624016 and parameters: {'n_estimators': 20, 'max_depth': 8, 'min_samples_split': 4, 'max_features': 4}. Best is trial 15 with value: 245.42974916960057.\u001b[0m\n",
      "\u001b[32m[I 2023-07-14 11:10:12,949]\u001b[0m Trial 19 finished with value: 248.6299967193746 and parameters: {'n_estimators': 140, 'max_depth': 7, 'min_samples_split': 2, 'max_features': 3}. Best is trial 15 with value: 245.42974916960057.\u001b[0m\n",
      "\u001b[32m[I 2023-07-14 11:10:14,145]\u001b[0m Trial 20 finished with value: 252.82954564789048 and parameters: {'n_estimators': 100, 'max_depth': 9, 'min_samples_split': 5, 'max_features': 4}. Best is trial 15 with value: 245.42974916960057.\u001b[0m\n",
      "\u001b[32m[I 2023-07-14 11:10:16,112]\u001b[0m Trial 21 finished with value: 247.77295664603193 and parameters: {'n_estimators': 140, 'max_depth': 10, 'min_samples_split': 2, 'max_features': 5}. Best is trial 15 with value: 245.42974916960057.\u001b[0m\n",
      "\u001b[32m[I 2023-07-14 11:10:18,038]\u001b[0m Trial 22 finished with value: 245.43280882758182 and parameters: {'n_estimators': 120, 'max_depth': 9, 'min_samples_split': 2, 'max_features': 5}. Best is trial 15 with value: 245.42974916960057.\u001b[0m\n",
      "\u001b[32m[I 2023-07-14 11:10:19,475]\u001b[0m Trial 23 finished with value: 249.47287414203046 and parameters: {'n_estimators': 100, 'max_depth': 8, 'min_samples_split': 3, 'max_features': 4}. Best is trial 15 with value: 245.42974916960057.\u001b[0m\n",
      "\u001b[32m[I 2023-07-14 11:10:22,162]\u001b[0m Trial 24 finished with value: 246.17590737036062 and parameters: {'n_estimators': 160, 'max_depth': 9, 'min_samples_split': 2, 'max_features': 5}. Best is trial 15 with value: 245.42974916960057.\u001b[0m\n",
      "\u001b[32m[I 2023-07-14 11:10:25,016]\u001b[0m Trial 25 finished with value: 249.81267940698345 and parameters: {'n_estimators': 180, 'max_depth': 9, 'min_samples_split': 3, 'max_features': 5}. Best is trial 15 with value: 245.42974916960057.\u001b[0m\n",
      "\u001b[32m[I 2023-07-14 11:10:28,424]\u001b[0m Trial 26 finished with value: 245.53285694772458 and parameters: {'n_estimators': 200, 'max_depth': 9, 'min_samples_split': 2, 'max_features': 5}. Best is trial 15 with value: 245.42974916960057.\u001b[0m\n",
      "\u001b[32m[I 2023-07-14 11:10:31,117]\u001b[0m Trial 27 finished with value: 249.62923567668673 and parameters: {'n_estimators': 200, 'max_depth': 7, 'min_samples_split': 3, 'max_features': 5}. Best is trial 15 with value: 245.42974916960057.\u001b[0m\n",
      "\u001b[32m[I 2023-07-14 11:10:33,781]\u001b[0m Trial 28 finished with value: 245.66310448979576 and parameters: {'n_estimators': 180, 'max_depth': 9, 'min_samples_split': 2, 'max_features': 5}. Best is trial 15 with value: 245.42974916960057.\u001b[0m\n",
      "\u001b[32m[I 2023-07-14 11:10:34,729]\u001b[0m Trial 29 finished with value: 248.71355137644247 and parameters: {'n_estimators': 60, 'max_depth': 7, 'min_samples_split': 3, 'max_features': 5}. Best is trial 15 with value: 245.42974916960057.\u001b[0m\n",
      "\u001b[32m[I 2023-07-14 11:10:35,736]\u001b[0m Trial 30 finished with value: 250.0753015011009 and parameters: {'n_estimators': 80, 'max_depth': 5, 'min_samples_split': 2, 'max_features': 5}. Best is trial 15 with value: 245.42974916960057.\u001b[0m\n",
      "\u001b[32m[I 2023-07-14 11:10:38,379]\u001b[0m Trial 31 finished with value: 245.66310448979576 and parameters: {'n_estimators': 180, 'max_depth': 9, 'min_samples_split': 2, 'max_features': 5}. Best is trial 15 with value: 245.42974916960057.\u001b[0m\n",
      "\u001b[32m[I 2023-07-14 11:10:41,332]\u001b[0m Trial 32 finished with value: 245.53285694772458 and parameters: {'n_estimators': 200, 'max_depth': 9, 'min_samples_split': 2, 'max_features': 5}. Best is trial 15 with value: 245.42974916960057.\u001b[0m\n",
      "\u001b[32m[I 2023-07-14 11:10:44,400]\u001b[0m Trial 33 finished with value: 247.0242450658996 and parameters: {'n_estimators': 200, 'max_depth': 10, 'min_samples_split': 2, 'max_features': 5}. Best is trial 15 with value: 245.42974916960057.\u001b[0m\n",
      "\u001b[32m[I 2023-07-14 11:10:47,159]\u001b[0m Trial 34 finished with value: 249.4416191498214 and parameters: {'n_estimators': 200, 'max_depth': 8, 'min_samples_split': 3, 'max_features': 5}. Best is trial 15 with value: 245.42974916960057.\u001b[0m\n",
      "\u001b[32m[I 2023-07-14 11:10:48,032]\u001b[0m Trial 35 finished with value: 254.95791382934948 and parameters: {'n_estimators': 60, 'max_depth': 9, 'min_samples_split': 6, 'max_features': 4}. Best is trial 15 with value: 245.42974916960057.\u001b[0m\n",
      "\u001b[32m[I 2023-07-14 11:10:48,362]\u001b[0m Trial 36 finished with value: 247.44756768752032 and parameters: {'n_estimators': 20, 'max_depth': 8, 'min_samples_split': 2, 'max_features': 5}. Best is trial 15 with value: 245.42974916960057.\u001b[0m\n",
      "\u001b[32m[I 2023-07-14 11:10:50,838]\u001b[0m Trial 37 finished with value: 246.8506624463373 and parameters: {'n_estimators': 200, 'max_depth': 10, 'min_samples_split': 2, 'max_features': 3}. Best is trial 15 with value: 245.42974916960057.\u001b[0m\n",
      "\u001b[32m[I 2023-07-14 11:10:51,275]\u001b[0m Trial 38 finished with value: 253.83300952942514 and parameters: {'n_estimators': 40, 'max_depth': 9, 'min_samples_split': 3, 'max_features': 2}. Best is trial 15 with value: 245.42974916960057.\u001b[0m\n",
      "\u001b[32m[I 2023-07-14 11:10:53,549]\u001b[0m Trial 39 finished with value: 251.5786182227714 and parameters: {'n_estimators': 180, 'max_depth': 8, 'min_samples_split': 4, 'max_features': 4}. Best is trial 15 with value: 245.42974916960057.\u001b[0m\n",
      "\u001b[32m[I 2023-07-14 11:10:55,334]\u001b[0m Trial 40 finished with value: 261.3713852940558 and parameters: {'n_estimators': 200, 'max_depth': 3, 'min_samples_split': 2, 'max_features': 3}. Best is trial 15 with value: 245.42974916960057.\u001b[0m\n",
      "\u001b[32m[I 2023-07-14 11:10:57,714]\u001b[0m Trial 41 finished with value: 246.17590737036062 and parameters: {'n_estimators': 160, 'max_depth': 9, 'min_samples_split': 2, 'max_features': 5}. Best is trial 15 with value: 245.42974916960057.\u001b[0m\n",
      "\u001b[32m[I 2023-07-14 11:11:00,738]\u001b[0m Trial 42 finished with value: 247.13459385318023 and parameters: {'n_estimators': 180, 'max_depth': 10, 'min_samples_split': 2, 'max_features': 5}. Best is trial 15 with value: 245.42974916960057.\u001b[0m\n",
      "\u001b[32m[I 2023-07-14 11:11:03,258]\u001b[0m Trial 43 finished with value: 246.17590737036062 and parameters: {'n_estimators': 160, 'max_depth': 9, 'min_samples_split': 2, 'max_features': 5}. Best is trial 15 with value: 245.42974916960057.\u001b[0m\n",
      "\u001b[32m[I 2023-07-14 11:11:05,910]\u001b[0m Trial 44 finished with value: 245.95214481776497 and parameters: {'n_estimators': 180, 'max_depth': 8, 'min_samples_split': 2, 'max_features': 5}. Best is trial 15 with value: 245.42974916960057.\u001b[0m\n",
      "\u001b[32m[I 2023-07-14 11:11:08,866]\u001b[0m Trial 45 finished with value: 250.6619462134638 and parameters: {'n_estimators': 200, 'max_depth': 10, 'min_samples_split': 3, 'max_features': 5}. Best is trial 15 with value: 245.42974916960057.\u001b[0m\n",
      "\u001b[32m[I 2023-07-14 11:11:11,484]\u001b[0m Trial 46 finished with value: 246.62353107421603 and parameters: {'n_estimators': 180, 'max_depth': 9, 'min_samples_split': 2, 'max_features': 4}. Best is trial 15 with value: 245.42974916960057.\u001b[0m\n",
      "\u001b[32m[I 2023-07-14 11:11:13,915]\u001b[0m Trial 47 finished with value: 246.28225101800234 and parameters: {'n_estimators': 160, 'max_depth': 8, 'min_samples_split': 2, 'max_features': 5}. Best is trial 15 with value: 245.42974916960057.\u001b[0m\n",
      "\u001b[32m[I 2023-07-14 11:11:15,557]\u001b[0m Trial 48 finished with value: 248.4373731238953 and parameters: {'n_estimators': 120, 'max_depth': 10, 'min_samples_split': 3, 'max_features': 4}. Best is trial 15 with value: 245.42974916960057.\u001b[0m\n",
      "\u001b[32m[I 2023-07-14 11:11:18,561]\u001b[0m Trial 49 finished with value: 245.53285694772458 and parameters: {'n_estimators': 200, 'max_depth': 9, 'min_samples_split': 2, 'max_features': 5}. Best is trial 15 with value: 245.42974916960057.\u001b[0m\n",
      "\u001b[32m[I 2023-07-14 11:11:19,715]\u001b[0m Trial 50 finished with value: 253.23378459993393 and parameters: {'n_estimators': 80, 'max_depth': 8, 'min_samples_split': 6, 'max_features': 4}. Best is trial 15 with value: 245.42974916960057.\u001b[0m\n",
      "\u001b[32m[I 2023-07-14 11:11:22,701]\u001b[0m Trial 51 finished with value: 245.53285694772458 and parameters: {'n_estimators': 200, 'max_depth': 9, 'min_samples_split': 2, 'max_features': 5}. Best is trial 15 with value: 245.42974916960057.\u001b[0m\n",
      "\u001b[32m[I 2023-07-14 11:11:25,727]\u001b[0m Trial 52 finished with value: 245.53285694772458 and parameters: {'n_estimators': 200, 'max_depth': 9, 'min_samples_split': 2, 'max_features': 5}. Best is trial 15 with value: 245.42974916960057.\u001b[0m\n",
      "\u001b[32m[I 2023-07-14 11:11:28,793]\u001b[0m Trial 53 finished with value: 247.0242450658996 and parameters: {'n_estimators': 200, 'max_depth': 10, 'min_samples_split': 2, 'max_features': 5}. Best is trial 15 with value: 245.42974916960057.\u001b[0m\n",
      "\u001b[32m[I 2023-07-14 11:11:31,330]\u001b[0m Trial 54 finished with value: 246.02180560899 and parameters: {'n_estimators': 200, 'max_depth': 7, 'min_samples_split': 2, 'max_features': 5}. Best is trial 15 with value: 245.42974916960057.\u001b[0m\n",
      "\u001b[32m[I 2023-07-14 11:11:32,233]\u001b[0m Trial 55 finished with value: 244.0175423453939 and parameters: {'n_estimators': 60, 'max_depth': 9, 'min_samples_split': 2, 'max_features': 5}. Best is trial 55 with value: 244.0175423453939.\u001b[0m\n",
      "\u001b[32m[I 2023-07-14 11:11:33,218]\u001b[0m Trial 56 finished with value: 246.17586772347516 and parameters: {'n_estimators': 60, 'max_depth': 8, 'min_samples_split': 3, 'max_features': 5}. Best is trial 55 with value: 244.0175423453939.\u001b[0m\n",
      "\u001b[32m[I 2023-07-14 11:11:33,850]\u001b[0m Trial 57 finished with value: 251.14736028008247 and parameters: {'n_estimators': 40, 'max_depth': 9, 'min_samples_split': 2, 'max_features': 4}. Best is trial 55 with value: 244.0175423453939.\u001b[0m\n",
      "\u001b[32m[I 2023-07-14 11:11:35,134]\u001b[0m Trial 58 finished with value: 249.6295607323471 and parameters: {'n_estimators': 100, 'max_depth': 6, 'min_samples_split': 2, 'max_features': 5}. Best is trial 55 with value: 244.0175423453939.\u001b[0m\n",
      "\u001b[32m[I 2023-07-14 11:11:36,211]\u001b[0m Trial 59 finished with value: 250.02377576912377 and parameters: {'n_estimators': 80, 'max_depth': 7, 'min_samples_split': 3, 'max_features': 5}. Best is trial 55 with value: 244.0175423453939.\u001b[0m\n",
      "\u001b[32m[I 2023-07-14 11:11:37,130]\u001b[0m Trial 60 finished with value: 250.26752799985792 and parameters: {'n_estimators': 60, 'max_depth': 10, 'min_samples_split': 4, 'max_features': 5}. Best is trial 55 with value: 244.0175423453939.\u001b[0m\n",
      "\u001b[32m[I 2023-07-14 11:11:40,301]\u001b[0m Trial 61 finished with value: 245.53285694772458 and parameters: {'n_estimators': 200, 'max_depth': 9, 'min_samples_split': 2, 'max_features': 5}. Best is trial 55 with value: 244.0175423453939.\u001b[0m\n",
      "\u001b[32m[I 2023-07-14 11:11:40,930]\u001b[0m Trial 62 finished with value: 245.52661365742546 and parameters: {'n_estimators': 40, 'max_depth': 9, 'min_samples_split': 2, 'max_features': 5}. Best is trial 55 with value: 244.0175423453939.\u001b[0m\n",
      "\u001b[32m[I 2023-07-14 11:11:41,488]\u001b[0m Trial 63 finished with value: 245.65062198778068 and parameters: {'n_estimators': 40, 'max_depth': 8, 'min_samples_split': 2, 'max_features': 5}. Best is trial 55 with value: 244.0175423453939.\u001b[0m\n",
      "\u001b[32m[I 2023-07-14 11:11:42,125]\u001b[0m Trial 64 finished with value: 245.52661365742546 and parameters: {'n_estimators': 40, 'max_depth': 9, 'min_samples_split': 2, 'max_features': 5}. Best is trial 55 with value: 244.0175423453939.\u001b[0m\n",
      "\u001b[32m[I 2023-07-14 11:11:42,445]\u001b[0m Trial 65 finished with value: 246.14835026968603 and parameters: {'n_estimators': 20, 'max_depth': 9, 'min_samples_split': 2, 'max_features': 5}. Best is trial 55 with value: 244.0175423453939.\u001b[0m\n",
      "\u001b[32m[I 2023-07-14 11:11:42,724]\u001b[0m Trial 66 finished with value: 254.1475102692629 and parameters: {'n_estimators': 20, 'max_depth': 10, 'min_samples_split': 2, 'max_features': 3}. Best is trial 55 with value: 244.0175423453939.\u001b[0m\n",
      "\u001b[32m[I 2023-07-14 11:11:43,316]\u001b[0m Trial 67 finished with value: 245.65062198778068 and parameters: {'n_estimators': 40, 'max_depth': 8, 'min_samples_split': 2, 'max_features': 5}. Best is trial 55 with value: 244.0175423453939.\u001b[0m\n",
      "\u001b[32m[I 2023-07-14 11:11:44,165]\u001b[0m Trial 68 finished with value: 250.56828648898278 and parameters: {'n_estimators': 60, 'max_depth': 5, 'min_samples_split': 2, 'max_features': 5}. Best is trial 55 with value: 244.0175423453939.\u001b[0m\n",
      "\u001b[32m[I 2023-07-14 11:11:44,684]\u001b[0m Trial 69 finished with value: 256.4385937739645 and parameters: {'n_estimators': 40, 'max_depth': 9, 'min_samples_split': 5, 'max_features': 4}. Best is trial 55 with value: 244.0175423453939.\u001b[0m\n",
      "\u001b[32m[I 2023-07-14 11:11:45,618]\u001b[0m Trial 70 finished with value: 248.47973045408108 and parameters: {'n_estimators': 60, 'max_depth': 10, 'min_samples_split': 3, 'max_features': 5}. Best is trial 55 with value: 244.0175423453939.\u001b[0m\n",
      "\u001b[32m[I 2023-07-14 11:11:46,239]\u001b[0m Trial 71 finished with value: 245.52661365742546 and parameters: {'n_estimators': 40, 'max_depth': 9, 'min_samples_split': 2, 'max_features': 5}. Best is trial 55 with value: 244.0175423453939.\u001b[0m\n",
      "\u001b[32m[I 2023-07-14 11:11:46,866]\u001b[0m Trial 72 finished with value: 245.52661365742546 and parameters: {'n_estimators': 40, 'max_depth': 9, 'min_samples_split': 2, 'max_features': 5}. Best is trial 55 with value: 244.0175423453939.\u001b[0m\n",
      "\u001b[32m[I 2023-07-14 11:11:47,467]\u001b[0m Trial 73 finished with value: 245.52661365742546 and parameters: {'n_estimators': 40, 'max_depth': 9, 'min_samples_split': 2, 'max_features': 5}. Best is trial 55 with value: 244.0175423453939.\u001b[0m\n",
      "\u001b[32m[I 2023-07-14 11:11:48,112]\u001b[0m Trial 74 finished with value: 245.65062198778068 and parameters: {'n_estimators': 40, 'max_depth': 8, 'min_samples_split': 2, 'max_features': 5}. Best is trial 55 with value: 244.0175423453939.\u001b[0m\n",
      "\u001b[32m[I 2023-07-14 11:11:48,458]\u001b[0m Trial 75 finished with value: 246.14835026968603 and parameters: {'n_estimators': 20, 'max_depth': 9, 'min_samples_split': 2, 'max_features': 5}. Best is trial 55 with value: 244.0175423453939.\u001b[0m\n",
      "\u001b[32m[I 2023-07-14 11:11:49,070]\u001b[0m Trial 76 finished with value: 249.642870483687 and parameters: {'n_estimators': 40, 'max_depth': 10, 'min_samples_split': 2, 'max_features': 5}. Best is trial 55 with value: 244.0175423453939.\u001b[0m\n",
      "\u001b[32m[I 2023-07-14 11:11:50,047]\u001b[0m Trial 77 finished with value: 244.0175423453939 and parameters: {'n_estimators': 60, 'max_depth': 9, 'min_samples_split': 2, 'max_features': 5}. Best is trial 55 with value: 244.0175423453939.\u001b[0m\n",
      "\u001b[32m[I 2023-07-14 11:11:50,635]\u001b[0m Trial 78 finished with value: 254.2067556983261 and parameters: {'n_estimators': 60, 'max_depth': 8, 'min_samples_split': 3, 'max_features': 2}. Best is trial 55 with value: 244.0175423453939.\u001b[0m\n",
      "\u001b[32m[I 2023-07-14 11:11:51,523]\u001b[0m Trial 79 finished with value: 244.0175423453939 and parameters: {'n_estimators': 60, 'max_depth': 9, 'min_samples_split': 2, 'max_features': 5}. Best is trial 55 with value: 244.0175423453939.\u001b[0m\n",
      "\u001b[32m[I 2023-07-14 11:11:52,557]\u001b[0m Trial 80 finished with value: 247.7360848360025 and parameters: {'n_estimators': 60, 'max_depth': 10, 'min_samples_split': 2, 'max_features': 5}. Best is trial 55 with value: 244.0175423453939.\u001b[0m\n",
      "\u001b[32m[I 2023-07-14 11:11:53,921]\u001b[0m Trial 81 finished with value: 245.7175078097372 and parameters: {'n_estimators': 80, 'max_depth': 9, 'min_samples_split': 2, 'max_features': 5}. Best is trial 55 with value: 244.0175423453939.\u001b[0m\n",
      "\u001b[32m[I 2023-07-14 11:11:55,167]\u001b[0m Trial 82 finished with value: 245.7175078097372 and parameters: {'n_estimators': 80, 'max_depth': 9, 'min_samples_split': 2, 'max_features': 5}. Best is trial 55 with value: 244.0175423453939.\u001b[0m\n",
      "\u001b[32m[I 2023-07-14 11:11:57,102]\u001b[0m Trial 83 finished with value: 245.43280882758182 and parameters: {'n_estimators': 120, 'max_depth': 9, 'min_samples_split': 2, 'max_features': 5}. Best is trial 55 with value: 244.0175423453939.\u001b[0m\n",
      "\u001b[32m[I 2023-07-14 11:11:58,943]\u001b[0m Trial 84 finished with value: 245.19688485466912 and parameters: {'n_estimators': 120, 'max_depth': 8, 'min_samples_split': 2, 'max_features': 5}. Best is trial 55 with value: 244.0175423453939.\u001b[0m\n",
      "\u001b[32m[I 2023-07-14 11:12:00,711]\u001b[0m Trial 85 finished with value: 245.19688485466912 and parameters: {'n_estimators': 120, 'max_depth': 8, 'min_samples_split': 2, 'max_features': 5}. Best is trial 55 with value: 244.0175423453939.\u001b[0m\n",
      "\u001b[32m[I 2023-07-14 11:12:02,352]\u001b[0m Trial 86 finished with value: 245.4627310950646 and parameters: {'n_estimators': 120, 'max_depth': 7, 'min_samples_split': 2, 'max_features': 5}. Best is trial 55 with value: 244.0175423453939.\u001b[0m\n",
      "\u001b[32m[I 2023-07-14 11:12:03,774]\u001b[0m Trial 87 finished with value: 247.75148491873432 and parameters: {'n_estimators': 120, 'max_depth': 6, 'min_samples_split': 2, 'max_features': 4}. Best is trial 55 with value: 244.0175423453939.\u001b[0m\n",
      "\u001b[32m[I 2023-07-14 11:12:05,078]\u001b[0m Trial 88 finished with value: 246.94498112275542 and parameters: {'n_estimators': 100, 'max_depth': 7, 'min_samples_split': 2, 'max_features': 5}. Best is trial 55 with value: 244.0175423453939.\u001b[0m\n",
      "\u001b[32m[I 2023-07-14 11:12:06,648]\u001b[0m Trial 89 finished with value: 247.2375875864471 and parameters: {'n_estimators': 140, 'max_depth': 8, 'min_samples_split': 2, 'max_features': 3}. Best is trial 55 with value: 244.0175423453939.\u001b[0m\n",
      "\u001b[32m[I 2023-07-14 11:12:08,151]\u001b[0m Trial 90 finished with value: 249.23712254613352 and parameters: {'n_estimators': 120, 'max_depth': 7, 'min_samples_split': 3, 'max_features': 5}. Best is trial 55 with value: 244.0175423453939.\u001b[0m\n",
      "\u001b[32m[I 2023-07-14 11:12:10,150]\u001b[0m Trial 91 finished with value: 245.729644252279 and parameters: {'n_estimators': 140, 'max_depth': 8, 'min_samples_split': 2, 'max_features': 5}. Best is trial 55 with value: 244.0175423453939.\u001b[0m\n",
      "\u001b[32m[I 2023-07-14 11:12:11,663]\u001b[0m Trial 92 finished with value: 245.4627310950646 and parameters: {'n_estimators': 120, 'max_depth': 7, 'min_samples_split': 2, 'max_features': 5}. Best is trial 55 with value: 244.0175423453939.\u001b[0m\n",
      "\u001b[32m[I 2023-07-14 11:12:13,327]\u001b[0m Trial 93 finished with value: 245.4627310950646 and parameters: {'n_estimators': 120, 'max_depth': 7, 'min_samples_split': 2, 'max_features': 5}. Best is trial 55 with value: 244.0175423453939.\u001b[0m\n",
      "\u001b[32m[I 2023-07-14 11:12:15,000]\u001b[0m Trial 94 finished with value: 245.4627310950646 and parameters: {'n_estimators': 120, 'max_depth': 7, 'min_samples_split': 2, 'max_features': 5}. Best is trial 55 with value: 244.0175423453939.\u001b[0m\n",
      "\u001b[32m[I 2023-07-14 11:12:15,956]\u001b[0m Trial 95 finished with value: 267.74585601361355 and parameters: {'n_estimators': 100, 'max_depth': 2, 'min_samples_split': 2, 'max_features': 5}. Best is trial 55 with value: 244.0175423453939.\u001b[0m\n",
      "\u001b[32m[I 2023-07-14 11:12:17,755]\u001b[0m Trial 96 finished with value: 249.15493282986844 and parameters: {'n_estimators': 140, 'max_depth': 6, 'min_samples_split': 2, 'max_features': 5}. Best is trial 55 with value: 244.0175423453939.\u001b[0m\n",
      "\u001b[32m[I 2023-07-14 11:12:19,535]\u001b[0m Trial 97 finished with value: 245.19688485466912 and parameters: {'n_estimators': 120, 'max_depth': 8, 'min_samples_split': 2, 'max_features': 5}. Best is trial 55 with value: 244.0175423453939.\u001b[0m\n",
      "\u001b[32m[I 2023-07-14 11:12:21,013]\u001b[0m Trial 98 finished with value: 245.86400675602135 and parameters: {'n_estimators': 100, 'max_depth': 8, 'min_samples_split': 2, 'max_features': 5}. Best is trial 55 with value: 244.0175423453939.\u001b[0m\n",
      "\u001b[32m[I 2023-07-14 11:12:22,718]\u001b[0m Trial 99 finished with value: 245.19688485466912 and parameters: {'n_estimators': 120, 'max_depth': 8, 'min_samples_split': 2, 'max_features': 5}. Best is trial 55 with value: 244.0175423453939.\u001b[0m\n"
     ]
    },
    {
     "data": {
      "application/vnd.plotly.v1+json": {
       "config": {
        "plotlyServerURL": "https://plot.ly"
       },
       "data": [
        {
         "cliponaxis": false,
         "hovertemplate": [
          "max_features (IntDistribution): 0.014955738551226297<extra></extra>",
          "n_estimators (IntDistribution): 0.01579732344754147<extra></extra>",
          "min_samples_split (IntDistribution): 0.03782186794230322<extra></extra>",
          "max_depth (IntDistribution): 0.9314250700589289<extra></extra>"
         ],
         "marker": {
          "color": "rgb(66,146,198)"
         },
         "orientation": "h",
         "text": [
          "0.01",
          "0.02",
          "0.04",
          "0.93"
         ],
         "textposition": "outside",
         "type": "bar",
         "x": [
          0.014955738551226297,
          0.01579732344754147,
          0.03782186794230322,
          0.9314250700589289
         ],
         "y": [
          "max_features",
          "n_estimators",
          "min_samples_split",
          "max_depth"
         ]
        }
       ],
       "layout": {
        "showlegend": false,
        "template": {
         "data": {
          "bar": [
           {
            "error_x": {
             "color": "#2a3f5f"
            },
            "error_y": {
             "color": "#2a3f5f"
            },
            "marker": {
             "line": {
              "color": "#E5ECF6",
              "width": 0.5
             },
             "pattern": {
              "fillmode": "overlay",
              "size": 10,
              "solidity": 0.2
             }
            },
            "type": "bar"
           }
          ],
          "barpolar": [
           {
            "marker": {
             "line": {
              "color": "#E5ECF6",
              "width": 0.5
             },
             "pattern": {
              "fillmode": "overlay",
              "size": 10,
              "solidity": 0.2
             }
            },
            "type": "barpolar"
           }
          ],
          "carpet": [
           {
            "aaxis": {
             "endlinecolor": "#2a3f5f",
             "gridcolor": "white",
             "linecolor": "white",
             "minorgridcolor": "white",
             "startlinecolor": "#2a3f5f"
            },
            "baxis": {
             "endlinecolor": "#2a3f5f",
             "gridcolor": "white",
             "linecolor": "white",
             "minorgridcolor": "white",
             "startlinecolor": "#2a3f5f"
            },
            "type": "carpet"
           }
          ],
          "choropleth": [
           {
            "colorbar": {
             "outlinewidth": 0,
             "ticks": ""
            },
            "type": "choropleth"
           }
          ],
          "contour": [
           {
            "colorbar": {
             "outlinewidth": 0,
             "ticks": ""
            },
            "colorscale": [
             [
              0,
              "#0d0887"
             ],
             [
              0.1111111111111111,
              "#46039f"
             ],
             [
              0.2222222222222222,
              "#7201a8"
             ],
             [
              0.3333333333333333,
              "#9c179e"
             ],
             [
              0.4444444444444444,
              "#bd3786"
             ],
             [
              0.5555555555555556,
              "#d8576b"
             ],
             [
              0.6666666666666666,
              "#ed7953"
             ],
             [
              0.7777777777777778,
              "#fb9f3a"
             ],
             [
              0.8888888888888888,
              "#fdca26"
             ],
             [
              1,
              "#f0f921"
             ]
            ],
            "type": "contour"
           }
          ],
          "contourcarpet": [
           {
            "colorbar": {
             "outlinewidth": 0,
             "ticks": ""
            },
            "type": "contourcarpet"
           }
          ],
          "heatmap": [
           {
            "colorbar": {
             "outlinewidth": 0,
             "ticks": ""
            },
            "colorscale": [
             [
              0,
              "#0d0887"
             ],
             [
              0.1111111111111111,
              "#46039f"
             ],
             [
              0.2222222222222222,
              "#7201a8"
             ],
             [
              0.3333333333333333,
              "#9c179e"
             ],
             [
              0.4444444444444444,
              "#bd3786"
             ],
             [
              0.5555555555555556,
              "#d8576b"
             ],
             [
              0.6666666666666666,
              "#ed7953"
             ],
             [
              0.7777777777777778,
              "#fb9f3a"
             ],
             [
              0.8888888888888888,
              "#fdca26"
             ],
             [
              1,
              "#f0f921"
             ]
            ],
            "type": "heatmap"
           }
          ],
          "heatmapgl": [
           {
            "colorbar": {
             "outlinewidth": 0,
             "ticks": ""
            },
            "colorscale": [
             [
              0,
              "#0d0887"
             ],
             [
              0.1111111111111111,
              "#46039f"
             ],
             [
              0.2222222222222222,
              "#7201a8"
             ],
             [
              0.3333333333333333,
              "#9c179e"
             ],
             [
              0.4444444444444444,
              "#bd3786"
             ],
             [
              0.5555555555555556,
              "#d8576b"
             ],
             [
              0.6666666666666666,
              "#ed7953"
             ],
             [
              0.7777777777777778,
              "#fb9f3a"
             ],
             [
              0.8888888888888888,
              "#fdca26"
             ],
             [
              1,
              "#f0f921"
             ]
            ],
            "type": "heatmapgl"
           }
          ],
          "histogram": [
           {
            "marker": {
             "pattern": {
              "fillmode": "overlay",
              "size": 10,
              "solidity": 0.2
             }
            },
            "type": "histogram"
           }
          ],
          "histogram2d": [
           {
            "colorbar": {
             "outlinewidth": 0,
             "ticks": ""
            },
            "colorscale": [
             [
              0,
              "#0d0887"
             ],
             [
              0.1111111111111111,
              "#46039f"
             ],
             [
              0.2222222222222222,
              "#7201a8"
             ],
             [
              0.3333333333333333,
              "#9c179e"
             ],
             [
              0.4444444444444444,
              "#bd3786"
             ],
             [
              0.5555555555555556,
              "#d8576b"
             ],
             [
              0.6666666666666666,
              "#ed7953"
             ],
             [
              0.7777777777777778,
              "#fb9f3a"
             ],
             [
              0.8888888888888888,
              "#fdca26"
             ],
             [
              1,
              "#f0f921"
             ]
            ],
            "type": "histogram2d"
           }
          ],
          "histogram2dcontour": [
           {
            "colorbar": {
             "outlinewidth": 0,
             "ticks": ""
            },
            "colorscale": [
             [
              0,
              "#0d0887"
             ],
             [
              0.1111111111111111,
              "#46039f"
             ],
             [
              0.2222222222222222,
              "#7201a8"
             ],
             [
              0.3333333333333333,
              "#9c179e"
             ],
             [
              0.4444444444444444,
              "#bd3786"
             ],
             [
              0.5555555555555556,
              "#d8576b"
             ],
             [
              0.6666666666666666,
              "#ed7953"
             ],
             [
              0.7777777777777778,
              "#fb9f3a"
             ],
             [
              0.8888888888888888,
              "#fdca26"
             ],
             [
              1,
              "#f0f921"
             ]
            ],
            "type": "histogram2dcontour"
           }
          ],
          "mesh3d": [
           {
            "colorbar": {
             "outlinewidth": 0,
             "ticks": ""
            },
            "type": "mesh3d"
           }
          ],
          "parcoords": [
           {
            "line": {
             "colorbar": {
              "outlinewidth": 0,
              "ticks": ""
             }
            },
            "type": "parcoords"
           }
          ],
          "pie": [
           {
            "automargin": true,
            "type": "pie"
           }
          ],
          "scatter": [
           {
            "fillpattern": {
             "fillmode": "overlay",
             "size": 10,
             "solidity": 0.2
            },
            "type": "scatter"
           }
          ],
          "scatter3d": [
           {
            "line": {
             "colorbar": {
              "outlinewidth": 0,
              "ticks": ""
             }
            },
            "marker": {
             "colorbar": {
              "outlinewidth": 0,
              "ticks": ""
             }
            },
            "type": "scatter3d"
           }
          ],
          "scattercarpet": [
           {
            "marker": {
             "colorbar": {
              "outlinewidth": 0,
              "ticks": ""
             }
            },
            "type": "scattercarpet"
           }
          ],
          "scattergeo": [
           {
            "marker": {
             "colorbar": {
              "outlinewidth": 0,
              "ticks": ""
             }
            },
            "type": "scattergeo"
           }
          ],
          "scattergl": [
           {
            "marker": {
             "colorbar": {
              "outlinewidth": 0,
              "ticks": ""
             }
            },
            "type": "scattergl"
           }
          ],
          "scattermapbox": [
           {
            "marker": {
             "colorbar": {
              "outlinewidth": 0,
              "ticks": ""
             }
            },
            "type": "scattermapbox"
           }
          ],
          "scatterpolar": [
           {
            "marker": {
             "colorbar": {
              "outlinewidth": 0,
              "ticks": ""
             }
            },
            "type": "scatterpolar"
           }
          ],
          "scatterpolargl": [
           {
            "marker": {
             "colorbar": {
              "outlinewidth": 0,
              "ticks": ""
             }
            },
            "type": "scatterpolargl"
           }
          ],
          "scatterternary": [
           {
            "marker": {
             "colorbar": {
              "outlinewidth": 0,
              "ticks": ""
             }
            },
            "type": "scatterternary"
           }
          ],
          "surface": [
           {
            "colorbar": {
             "outlinewidth": 0,
             "ticks": ""
            },
            "colorscale": [
             [
              0,
              "#0d0887"
             ],
             [
              0.1111111111111111,
              "#46039f"
             ],
             [
              0.2222222222222222,
              "#7201a8"
             ],
             [
              0.3333333333333333,
              "#9c179e"
             ],
             [
              0.4444444444444444,
              "#bd3786"
             ],
             [
              0.5555555555555556,
              "#d8576b"
             ],
             [
              0.6666666666666666,
              "#ed7953"
             ],
             [
              0.7777777777777778,
              "#fb9f3a"
             ],
             [
              0.8888888888888888,
              "#fdca26"
             ],
             [
              1,
              "#f0f921"
             ]
            ],
            "type": "surface"
           }
          ],
          "table": [
           {
            "cells": {
             "fill": {
              "color": "#EBF0F8"
             },
             "line": {
              "color": "white"
             }
            },
            "header": {
             "fill": {
              "color": "#C8D4E3"
             },
             "line": {
              "color": "white"
             }
            },
            "type": "table"
           }
          ]
         },
         "layout": {
          "annotationdefaults": {
           "arrowcolor": "#2a3f5f",
           "arrowhead": 0,
           "arrowwidth": 1
          },
          "autotypenumbers": "strict",
          "coloraxis": {
           "colorbar": {
            "outlinewidth": 0,
            "ticks": ""
           }
          },
          "colorscale": {
           "diverging": [
            [
             0,
             "#8e0152"
            ],
            [
             0.1,
             "#c51b7d"
            ],
            [
             0.2,
             "#de77ae"
            ],
            [
             0.3,
             "#f1b6da"
            ],
            [
             0.4,
             "#fde0ef"
            ],
            [
             0.5,
             "#f7f7f7"
            ],
            [
             0.6,
             "#e6f5d0"
            ],
            [
             0.7,
             "#b8e186"
            ],
            [
             0.8,
             "#7fbc41"
            ],
            [
             0.9,
             "#4d9221"
            ],
            [
             1,
             "#276419"
            ]
           ],
           "sequential": [
            [
             0,
             "#0d0887"
            ],
            [
             0.1111111111111111,
             "#46039f"
            ],
            [
             0.2222222222222222,
             "#7201a8"
            ],
            [
             0.3333333333333333,
             "#9c179e"
            ],
            [
             0.4444444444444444,
             "#bd3786"
            ],
            [
             0.5555555555555556,
             "#d8576b"
            ],
            [
             0.6666666666666666,
             "#ed7953"
            ],
            [
             0.7777777777777778,
             "#fb9f3a"
            ],
            [
             0.8888888888888888,
             "#fdca26"
            ],
            [
             1,
             "#f0f921"
            ]
           ],
           "sequentialminus": [
            [
             0,
             "#0d0887"
            ],
            [
             0.1111111111111111,
             "#46039f"
            ],
            [
             0.2222222222222222,
             "#7201a8"
            ],
            [
             0.3333333333333333,
             "#9c179e"
            ],
            [
             0.4444444444444444,
             "#bd3786"
            ],
            [
             0.5555555555555556,
             "#d8576b"
            ],
            [
             0.6666666666666666,
             "#ed7953"
            ],
            [
             0.7777777777777778,
             "#fb9f3a"
            ],
            [
             0.8888888888888888,
             "#fdca26"
            ],
            [
             1,
             "#f0f921"
            ]
           ]
          },
          "colorway": [
           "#636efa",
           "#EF553B",
           "#00cc96",
           "#ab63fa",
           "#FFA15A",
           "#19d3f3",
           "#FF6692",
           "#B6E880",
           "#FF97FF",
           "#FECB52"
          ],
          "font": {
           "color": "#2a3f5f"
          },
          "geo": {
           "bgcolor": "white",
           "lakecolor": "white",
           "landcolor": "#E5ECF6",
           "showlakes": true,
           "showland": true,
           "subunitcolor": "white"
          },
          "hoverlabel": {
           "align": "left"
          },
          "hovermode": "closest",
          "mapbox": {
           "style": "light"
          },
          "paper_bgcolor": "white",
          "plot_bgcolor": "#E5ECF6",
          "polar": {
           "angularaxis": {
            "gridcolor": "white",
            "linecolor": "white",
            "ticks": ""
           },
           "bgcolor": "#E5ECF6",
           "radialaxis": {
            "gridcolor": "white",
            "linecolor": "white",
            "ticks": ""
           }
          },
          "scene": {
           "xaxis": {
            "backgroundcolor": "#E5ECF6",
            "gridcolor": "white",
            "gridwidth": 2,
            "linecolor": "white",
            "showbackground": true,
            "ticks": "",
            "zerolinecolor": "white"
           },
           "yaxis": {
            "backgroundcolor": "#E5ECF6",
            "gridcolor": "white",
            "gridwidth": 2,
            "linecolor": "white",
            "showbackground": true,
            "ticks": "",
            "zerolinecolor": "white"
           },
           "zaxis": {
            "backgroundcolor": "#E5ECF6",
            "gridcolor": "white",
            "gridwidth": 2,
            "linecolor": "white",
            "showbackground": true,
            "ticks": "",
            "zerolinecolor": "white"
           }
          },
          "shapedefaults": {
           "line": {
            "color": "#2a3f5f"
           }
          },
          "ternary": {
           "aaxis": {
            "gridcolor": "white",
            "linecolor": "white",
            "ticks": ""
           },
           "baxis": {
            "gridcolor": "white",
            "linecolor": "white",
            "ticks": ""
           },
           "bgcolor": "#E5ECF6",
           "caxis": {
            "gridcolor": "white",
            "linecolor": "white",
            "ticks": ""
           }
          },
          "title": {
           "x": 0.05
          },
          "xaxis": {
           "automargin": true,
           "gridcolor": "white",
           "linecolor": "white",
           "ticks": "",
           "title": {
            "standoff": 15
           },
           "zerolinecolor": "white",
           "zerolinewidth": 2
          },
          "yaxis": {
           "automargin": true,
           "gridcolor": "white",
           "linecolor": "white",
           "ticks": "",
           "title": {
            "standoff": 15
           },
           "zerolinecolor": "white",
           "zerolinewidth": 2
          }
         }
        },
        "title": {
         "text": "Hyperparameter Importances"
        },
        "xaxis": {
         "title": {
          "text": "Importance for Objective Value"
         }
        },
        "yaxis": {
         "title": {
          "text": "Hyperparameter"
         }
        }
       }
      }
     },
     "metadata": {},
     "output_type": "display_data"
    },
    {
     "data": {
      "application/vnd.plotly.v1+json": {
       "config": {
        "plotlyServerURL": "https://plot.ly"
       },
       "data": [
        {
         "type": "scatter",
         "xaxis": "x",
         "yaxis": "y"
        },
        {
         "colorbar": {
          "title": {
           "text": "Objective Value"
          }
         },
         "colorscale": [
          [
           0,
           "rgb(247,251,255)"
          ],
          [
           0.125,
           "rgb(222,235,247)"
          ],
          [
           0.25,
           "rgb(198,219,239)"
          ],
          [
           0.375,
           "rgb(158,202,225)"
          ],
          [
           0.5,
           "rgb(107,174,214)"
          ],
          [
           0.625,
           "rgb(66,146,198)"
          ],
          [
           0.75,
           "rgb(33,113,181)"
          ],
          [
           0.875,
           "rgb(8,81,156)"
          ],
          [
           1,
           "rgb(8,48,107)"
          ]
         ],
         "connectgaps": true,
         "contours": {
          "coloring": "heatmap"
         },
         "hoverinfo": "none",
         "line": {
          "smoothing": 1.3
         },
         "reversescale": true,
         "showscale": true,
         "type": "contour",
         "x": [
          1.6,
          2,
          3,
          4,
          5,
          6,
          7,
          8,
          9,
          10,
          10.4
         ],
         "xaxis": "x5",
         "y": [
          1.85,
          2,
          3,
          4,
          5,
          5.15
         ],
         "yaxis": "y5",
         "z": [
          [
           null,
           null,
           null,
           null,
           null,
           null,
           null,
           null,
           null,
           null,
           null
          ],
          [
           null,
           null,
           null,
           261.9050004329837,
           null,
           null,
           null,
           254.2067556983261,
           253.83300952942514,
           null,
           null
          ],
          [
           null,
           273.3385569829784,
           261.3713852940558,
           263.58683002207346,
           null,
           null,
           248.6299967193746,
           247.2375875864471,
           249.87032887039055,
           254.1475102692629,
           null
          ],
          [
           null,
           269.26180410183855,
           null,
           null,
           251.4113129415373,
           247.75148491873432,
           252.74577931405412,
           253.23378459993393,
           256.4385937739645,
           248.4373731238953,
           null
          ],
          [
           null,
           267.74585601361355,
           null,
           null,
           250.56828648898278,
           249.15493282986844,
           245.4627310950646,
           245.19688485466912,
           245.43280882758182,
           247.7360848360025,
           null
          ],
          [
           null,
           null,
           null,
           null,
           null,
           null,
           null,
           null,
           null,
           null,
           null
          ]
         ]
        },
        {
         "marker": {
          "color": "black",
          "line": {
           "color": "Grey",
           "width": 2
          }
         },
         "mode": "markers",
         "showlegend": false,
         "type": "scatter",
         "x": [
          7,
          9,
          4,
          2,
          8,
          2,
          8,
          4,
          8,
          9,
          10,
          10,
          10,
          6,
          6,
          8,
          7,
          5,
          8,
          7,
          9,
          10,
          9,
          8,
          9,
          9,
          9,
          7,
          9,
          7,
          5,
          9,
          9,
          10,
          8,
          9,
          8,
          10,
          9,
          8,
          3,
          9,
          10,
          9,
          8,
          10,
          9,
          8,
          10,
          9,
          8,
          9,
          9,
          10,
          7,
          9,
          8,
          9,
          6,
          7,
          10,
          9,
          9,
          8,
          9,
          9,
          10,
          8,
          5,
          9,
          10,
          9,
          9,
          9,
          8,
          9,
          10,
          9,
          8,
          9,
          10,
          9,
          9,
          9,
          8,
          8,
          7,
          6,
          7,
          8,
          7,
          8,
          7,
          7,
          7,
          2,
          6,
          8,
          8,
          8
         ],
         "xaxis": "x5",
         "y": [
          5,
          3,
          3,
          3,
          4,
          4,
          2,
          2,
          4,
          3,
          5,
          5,
          5,
          4,
          5,
          4,
          4,
          4,
          4,
          3,
          4,
          5,
          5,
          4,
          5,
          5,
          5,
          5,
          5,
          5,
          5,
          5,
          5,
          5,
          5,
          4,
          5,
          3,
          2,
          4,
          3,
          5,
          5,
          5,
          5,
          5,
          4,
          5,
          4,
          5,
          4,
          5,
          5,
          5,
          5,
          5,
          5,
          4,
          5,
          5,
          5,
          5,
          5,
          5,
          5,
          5,
          3,
          5,
          5,
          4,
          5,
          5,
          5,
          5,
          5,
          5,
          5,
          5,
          2,
          5,
          5,
          5,
          5,
          5,
          5,
          5,
          5,
          4,
          5,
          3,
          5,
          5,
          5,
          5,
          5,
          5,
          5,
          5,
          5,
          5
         ],
         "yaxis": "y5"
        },
        {
         "colorbar": {
          "title": {
           "text": "Objective Value"
          }
         },
         "colorscale": [
          [
           0,
           "rgb(247,251,255)"
          ],
          [
           0.125,
           "rgb(222,235,247)"
          ],
          [
           0.25,
           "rgb(198,219,239)"
          ],
          [
           0.375,
           "rgb(158,202,225)"
          ],
          [
           0.5,
           "rgb(107,174,214)"
          ],
          [
           0.625,
           "rgb(66,146,198)"
          ],
          [
           0.75,
           "rgb(33,113,181)"
          ],
          [
           0.875,
           "rgb(8,81,156)"
          ],
          [
           1,
           "rgb(8,48,107)"
          ]
         ],
         "connectgaps": true,
         "contours": {
          "coloring": "heatmap"
         },
         "hoverinfo": "none",
         "line": {
          "smoothing": 1.3
         },
         "reversescale": true,
         "showscale": false,
         "type": "contour",
         "x": [
          1.6,
          2,
          3,
          4,
          5,
          6,
          7,
          8,
          9,
          10,
          10.4
         ],
         "xaxis": "x9",
         "y": [
          1.8,
          2,
          3,
          4,
          5,
          6,
          6.2
         ],
         "yaxis": "y9",
         "z": [
          [
           null,
           null,
           null,
           null,
           null,
           null,
           null,
           null,
           null,
           null,
           null
          ],
          [
           null,
           267.74585601361355,
           261.3713852940558,
           261.9050004329837,
           250.56828648898278,
           249.15493282986844,
           245.4627310950646,
           245.19688485466912,
           245.43280882758182,
           247.7360848360025,
           null
          ],
          [
           null,
           273.3385569829784,
           null,
           null,
           251.4113129415373,
           251.67049089776447,
           249.23712254613352,
           254.2067556983261,
           253.83300952942514,
           248.47973045408108,
           null
          ],
          [
           null,
           269.26180410183855,
           null,
           null,
           null,
           null,
           null,
           251.5786182227714,
           249.87032887039055,
           250.26752799985792,
           null
          ],
          [
           null,
           null,
           null,
           null,
           null,
           null,
           252.74577931405412,
           253.94933449613956,
           256.4385937739645,
           null,
           null
          ],
          [
           null,
           null,
           null,
           263.58683002207346,
           null,
           null,
           null,
           253.23378459993393,
           254.95791382934948,
           null,
           null
          ],
          [
           null,
           null,
           null,
           null,
           null,
           null,
           null,
           null,
           null,
           null,
           null
          ]
         ]
        },
        {
         "marker": {
          "color": "black",
          "line": {
           "color": "Grey",
           "width": 2
          }
         },
         "mode": "markers",
         "showlegend": false,
         "type": "scatter",
         "x": [
          7,
          9,
          4,
          2,
          8,
          2,
          8,
          4,
          8,
          9,
          10,
          10,
          10,
          6,
          6,
          8,
          7,
          5,
          8,
          7,
          9,
          10,
          9,
          8,
          9,
          9,
          9,
          7,
          9,
          7,
          5,
          9,
          9,
          10,
          8,
          9,
          8,
          10,
          9,
          8,
          3,
          9,
          10,
          9,
          8,
          10,
          9,
          8,
          10,
          9,
          8,
          9,
          9,
          10,
          7,
          9,
          8,
          9,
          6,
          7,
          10,
          9,
          9,
          8,
          9,
          9,
          10,
          8,
          5,
          9,
          10,
          9,
          9,
          9,
          8,
          9,
          10,
          9,
          8,
          9,
          10,
          9,
          9,
          9,
          8,
          8,
          7,
          6,
          7,
          8,
          7,
          8,
          7,
          7,
          7,
          2,
          6,
          8,
          8,
          8
         ],
         "xaxis": "x9",
         "y": [
          3,
          6,
          6,
          3,
          2,
          4,
          5,
          2,
          3,
          4,
          2,
          2,
          2,
          2,
          3,
          2,
          5,
          3,
          4,
          2,
          5,
          2,
          2,
          3,
          2,
          3,
          2,
          3,
          2,
          3,
          2,
          2,
          2,
          2,
          3,
          6,
          2,
          2,
          3,
          4,
          2,
          2,
          2,
          2,
          2,
          3,
          2,
          2,
          3,
          2,
          6,
          2,
          2,
          2,
          2,
          2,
          3,
          2,
          2,
          3,
          4,
          2,
          2,
          2,
          2,
          2,
          2,
          2,
          2,
          5,
          3,
          2,
          2,
          2,
          2,
          2,
          2,
          2,
          3,
          2,
          2,
          2,
          2,
          2,
          2,
          2,
          2,
          2,
          2,
          2,
          3,
          2,
          2,
          2,
          2,
          2,
          2,
          2,
          2,
          2
         ],
         "yaxis": "y9"
        },
        {
         "colorbar": {
          "title": {
           "text": "Objective Value"
          }
         },
         "colorscale": [
          [
           0,
           "rgb(247,251,255)"
          ],
          [
           0.125,
           "rgb(222,235,247)"
          ],
          [
           0.25,
           "rgb(198,219,239)"
          ],
          [
           0.375,
           "rgb(158,202,225)"
          ],
          [
           0.5,
           "rgb(107,174,214)"
          ],
          [
           0.625,
           "rgb(66,146,198)"
          ],
          [
           0.75,
           "rgb(33,113,181)"
          ],
          [
           0.875,
           "rgb(8,81,156)"
          ],
          [
           1,
           "rgb(8,48,107)"
          ]
         ],
         "connectgaps": true,
         "contours": {
          "coloring": "heatmap"
         },
         "hoverinfo": "none",
         "line": {
          "smoothing": 1.3
         },
         "reversescale": true,
         "showscale": false,
         "type": "contour",
         "x": [
          1.6,
          2,
          3,
          4,
          5,
          6,
          7,
          8,
          9,
          10,
          10.4
         ],
         "xaxis": "x13",
         "y": [
          11,
          20,
          40,
          60,
          80,
          100,
          120,
          140,
          160,
          180,
          200,
          209
         ],
         "yaxis": "y13",
         "z": [
          [
           null,
           null,
           null,
           null,
           null,
           null,
           null,
           null,
           null,
           null,
           null
          ],
          [
           null,
           null,
           null,
           null,
           null,
           null,
           null,
           247.44756768752032,
           246.14835026968603,
           254.1475102692629,
           null
          ],
          [
           null,
           273.3385569829784,
           null,
           263.58683002207346,
           null,
           null,
           250.7517667466885,
           245.65062198778068,
           245.52661365742546,
           249.642870483687,
           null
          ],
          [
           null,
           null,
           null,
           null,
           250.56828648898278,
           null,
           248.71355137644247,
           254.2067556983261,
           244.0175423453939,
           247.7360848360025,
           null
          ],
          [
           null,
           null,
           null,
           null,
           250.0753015011009,
           251.67049089776447,
           250.02377576912377,
           253.23378459993393,
           245.7175078097372,
           null,
           null
          ],
          [
           null,
           267.74585601361355,
           null,
           null,
           null,
           249.6295607323471,
           246.94498112275542,
           245.86400675602135,
           252.82954564789048,
           248.38551370080899,
           null
          ],
          [
           null,
           null,
           null,
           null,
           null,
           247.75148491873432,
           245.4627310950646,
           245.19688485466912,
           245.43280882758182,
           248.4373731238953,
           null
          ],
          [
           null,
           null,
           null,
           null,
           null,
           249.15493282986844,
           248.6299967193746,
           245.729644252279,
           null,
           247.77295664603193,
           null
          ],
          [
           null,
           269.26180410183855,
           null,
           261.9050004329837,
           null,
           null,
           null,
           246.28225101800234,
           246.17590737036062,
           null,
           null
          ],
          [
           null,
           null,
           null,
           null,
           null,
           null,
           null,
           245.95214481776497,
           246.62353107421603,
           247.13459385318023,
           null
          ],
          [
           null,
           null,
           261.3713852940558,
           null,
           null,
           null,
           246.02180560899,
           249.4416191498214,
           245.53285694772458,
           247.0242450658996,
           null
          ],
          [
           null,
           null,
           null,
           null,
           null,
           null,
           null,
           null,
           null,
           null,
           null
          ]
         ]
        },
        {
         "marker": {
          "color": "black",
          "line": {
           "color": "Grey",
           "width": 2
          }
         },
         "mode": "markers",
         "showlegend": false,
         "type": "scatter",
         "x": [
          7,
          9,
          4,
          2,
          8,
          2,
          8,
          4,
          8,
          9,
          10,
          10,
          10,
          6,
          6,
          8,
          7,
          5,
          8,
          7,
          9,
          10,
          9,
          8,
          9,
          9,
          9,
          7,
          9,
          7,
          5,
          9,
          9,
          10,
          8,
          9,
          8,
          10,
          9,
          8,
          3,
          9,
          10,
          9,
          8,
          10,
          9,
          8,
          10,
          9,
          8,
          9,
          9,
          10,
          7,
          9,
          8,
          9,
          6,
          7,
          10,
          9,
          9,
          8,
          9,
          9,
          10,
          8,
          5,
          9,
          10,
          9,
          9,
          9,
          8,
          9,
          10,
          9,
          8,
          9,
          10,
          9,
          9,
          9,
          8,
          8,
          7,
          6,
          7,
          8,
          7,
          8,
          7,
          7,
          7,
          2,
          6,
          8,
          8,
          8
         ],
         "xaxis": "x13",
         "y": [
          40,
          200,
          40,
          40,
          140,
          160,
          180,
          160,
          80,
          120,
          120,
          120,
          100,
          140,
          80,
          80,
          80,
          60,
          20,
          140,
          100,
          140,
          120,
          100,
          160,
          180,
          200,
          200,
          180,
          60,
          80,
          180,
          200,
          200,
          200,
          60,
          20,
          200,
          40,
          180,
          200,
          160,
          180,
          160,
          180,
          200,
          180,
          160,
          120,
          200,
          80,
          200,
          200,
          200,
          200,
          60,
          60,
          40,
          100,
          80,
          60,
          200,
          40,
          40,
          40,
          20,
          20,
          40,
          60,
          40,
          60,
          40,
          40,
          40,
          40,
          20,
          40,
          60,
          60,
          60,
          60,
          80,
          80,
          120,
          120,
          120,
          120,
          120,
          100,
          140,
          120,
          140,
          120,
          120,
          120,
          100,
          140,
          120,
          100,
          120
         ],
         "yaxis": "y13"
        },
        {
         "colorbar": {
          "title": {
           "text": "Objective Value"
          }
         },
         "colorscale": [
          [
           0,
           "rgb(247,251,255)"
          ],
          [
           0.125,
           "rgb(222,235,247)"
          ],
          [
           0.25,
           "rgb(198,219,239)"
          ],
          [
           0.375,
           "rgb(158,202,225)"
          ],
          [
           0.5,
           "rgb(107,174,214)"
          ],
          [
           0.625,
           "rgb(66,146,198)"
          ],
          [
           0.75,
           "rgb(33,113,181)"
          ],
          [
           0.875,
           "rgb(8,81,156)"
          ],
          [
           1,
           "rgb(8,48,107)"
          ]
         ],
         "connectgaps": true,
         "contours": {
          "coloring": "heatmap"
         },
         "hoverinfo": "none",
         "line": {
          "smoothing": 1.3
         },
         "reversescale": true,
         "showscale": false,
         "type": "contour",
         "x": [
          1.85,
          2,
          3,
          4,
          5,
          5.15
         ],
         "xaxis": "x2",
         "y": [
          1.6,
          2,
          3,
          4,
          5,
          6,
          7,
          8,
          9,
          10,
          10.4
         ],
         "yaxis": "y2",
         "z": [
          [
           null,
           null,
           null,
           null,
           null,
           null
          ],
          [
           null,
           null,
           273.3385569829784,
           269.26180410183855,
           267.74585601361355,
           null
          ],
          [
           null,
           null,
           261.3713852940558,
           null,
           null,
           null
          ],
          [
           null,
           261.9050004329837,
           263.58683002207346,
           null,
           null,
           null
          ],
          [
           null,
           null,
           null,
           251.4113129415373,
           250.56828648898278,
           null
          ],
          [
           null,
           null,
           null,
           247.75148491873432,
           249.15493282986844,
           null
          ],
          [
           null,
           null,
           248.6299967193746,
           252.74577931405412,
           245.4627310950646,
           null
          ],
          [
           null,
           254.2067556983261,
           247.2375875864471,
           253.23378459993393,
           245.19688485466912,
           null
          ],
          [
           null,
           253.83300952942514,
           249.87032887039055,
           256.4385937739645,
           245.43280882758182,
           null
          ],
          [
           null,
           null,
           254.1475102692629,
           248.4373731238953,
           247.7360848360025,
           null
          ],
          [
           null,
           null,
           null,
           null,
           null,
           null
          ]
         ]
        },
        {
         "marker": {
          "color": "black",
          "line": {
           "color": "Grey",
           "width": 2
          }
         },
         "mode": "markers",
         "showlegend": false,
         "type": "scatter",
         "x": [
          5,
          3,
          3,
          3,
          4,
          4,
          2,
          2,
          4,
          3,
          5,
          5,
          5,
          4,
          5,
          4,
          4,
          4,
          4,
          3,
          4,
          5,
          5,
          4,
          5,
          5,
          5,
          5,
          5,
          5,
          5,
          5,
          5,
          5,
          5,
          4,
          5,
          3,
          2,
          4,
          3,
          5,
          5,
          5,
          5,
          5,
          4,
          5,
          4,
          5,
          4,
          5,
          5,
          5,
          5,
          5,
          5,
          4,
          5,
          5,
          5,
          5,
          5,
          5,
          5,
          5,
          3,
          5,
          5,
          4,
          5,
          5,
          5,
          5,
          5,
          5,
          5,
          5,
          2,
          5,
          5,
          5,
          5,
          5,
          5,
          5,
          5,
          4,
          5,
          3,
          5,
          5,
          5,
          5,
          5,
          5,
          5,
          5,
          5,
          5
         ],
         "xaxis": "x2",
         "y": [
          7,
          9,
          4,
          2,
          8,
          2,
          8,
          4,
          8,
          9,
          10,
          10,
          10,
          6,
          6,
          8,
          7,
          5,
          8,
          7,
          9,
          10,
          9,
          8,
          9,
          9,
          9,
          7,
          9,
          7,
          5,
          9,
          9,
          10,
          8,
          9,
          8,
          10,
          9,
          8,
          3,
          9,
          10,
          9,
          8,
          10,
          9,
          8,
          10,
          9,
          8,
          9,
          9,
          10,
          7,
          9,
          8,
          9,
          6,
          7,
          10,
          9,
          9,
          8,
          9,
          9,
          10,
          8,
          5,
          9,
          10,
          9,
          9,
          9,
          8,
          9,
          10,
          9,
          8,
          9,
          10,
          9,
          9,
          9,
          8,
          8,
          7,
          6,
          7,
          8,
          7,
          8,
          7,
          7,
          7,
          2,
          6,
          8,
          8,
          8
         ],
         "yaxis": "y2"
        },
        {
         "type": "scatter",
         "xaxis": "x6",
         "yaxis": "y6"
        },
        {
         "colorbar": {
          "title": {
           "text": "Objective Value"
          }
         },
         "colorscale": [
          [
           0,
           "rgb(247,251,255)"
          ],
          [
           0.125,
           "rgb(222,235,247)"
          ],
          [
           0.25,
           "rgb(198,219,239)"
          ],
          [
           0.375,
           "rgb(158,202,225)"
          ],
          [
           0.5,
           "rgb(107,174,214)"
          ],
          [
           0.625,
           "rgb(66,146,198)"
          ],
          [
           0.75,
           "rgb(33,113,181)"
          ],
          [
           0.875,
           "rgb(8,81,156)"
          ],
          [
           1,
           "rgb(8,48,107)"
          ]
         ],
         "connectgaps": true,
         "contours": {
          "coloring": "heatmap"
         },
         "hoverinfo": "none",
         "line": {
          "smoothing": 1.3
         },
         "reversescale": true,
         "showscale": false,
         "type": "contour",
         "x": [
          1.85,
          2,
          3,
          4,
          5,
          5.15
         ],
         "xaxis": "x10",
         "y": [
          1.8,
          2,
          3,
          4,
          5,
          6,
          6.2
         ],
         "yaxis": "y10",
         "z": [
          [
           null,
           null,
           null,
           null,
           null,
           null
          ],
          [
           null,
           261.9050004329837,
           247.2375875864471,
           247.75148491873432,
           245.19688485466912,
           null
          ],
          [
           null,
           254.2067556983261,
           273.3385569829784,
           248.4373731238953,
           249.23712254613352,
           null
          ],
          [
           null,
           null,
           249.87032887039055,
           251.5786182227714,
           250.26752799985792,
           null
          ],
          [
           null,
           253.94933449613956,
           null,
           256.4385937739645,
           null,
           null
          ],
          [
           null,
           null,
           263.58683002207346,
           253.23378459993393,
           null,
           null
          ],
          [
           null,
           null,
           null,
           null,
           null,
           null
          ]
         ]
        },
        {
         "marker": {
          "color": "black",
          "line": {
           "color": "Grey",
           "width": 2
          }
         },
         "mode": "markers",
         "showlegend": false,
         "type": "scatter",
         "x": [
          5,
          3,
          3,
          3,
          4,
          4,
          2,
          2,
          4,
          3,
          5,
          5,
          5,
          4,
          5,
          4,
          4,
          4,
          4,
          3,
          4,
          5,
          5,
          4,
          5,
          5,
          5,
          5,
          5,
          5,
          5,
          5,
          5,
          5,
          5,
          4,
          5,
          3,
          2,
          4,
          3,
          5,
          5,
          5,
          5,
          5,
          4,
          5,
          4,
          5,
          4,
          5,
          5,
          5,
          5,
          5,
          5,
          4,
          5,
          5,
          5,
          5,
          5,
          5,
          5,
          5,
          3,
          5,
          5,
          4,
          5,
          5,
          5,
          5,
          5,
          5,
          5,
          5,
          2,
          5,
          5,
          5,
          5,
          5,
          5,
          5,
          5,
          4,
          5,
          3,
          5,
          5,
          5,
          5,
          5,
          5,
          5,
          5,
          5,
          5
         ],
         "xaxis": "x10",
         "y": [
          3,
          6,
          6,
          3,
          2,
          4,
          5,
          2,
          3,
          4,
          2,
          2,
          2,
          2,
          3,
          2,
          5,
          3,
          4,
          2,
          5,
          2,
          2,
          3,
          2,
          3,
          2,
          3,
          2,
          3,
          2,
          2,
          2,
          2,
          3,
          6,
          2,
          2,
          3,
          4,
          2,
          2,
          2,
          2,
          2,
          3,
          2,
          2,
          3,
          2,
          6,
          2,
          2,
          2,
          2,
          2,
          3,
          2,
          2,
          3,
          4,
          2,
          2,
          2,
          2,
          2,
          2,
          2,
          2,
          5,
          3,
          2,
          2,
          2,
          2,
          2,
          2,
          2,
          3,
          2,
          2,
          2,
          2,
          2,
          2,
          2,
          2,
          2,
          2,
          2,
          3,
          2,
          2,
          2,
          2,
          2,
          2,
          2,
          2,
          2
         ],
         "yaxis": "y10"
        },
        {
         "colorbar": {
          "title": {
           "text": "Objective Value"
          }
         },
         "colorscale": [
          [
           0,
           "rgb(247,251,255)"
          ],
          [
           0.125,
           "rgb(222,235,247)"
          ],
          [
           0.25,
           "rgb(198,219,239)"
          ],
          [
           0.375,
           "rgb(158,202,225)"
          ],
          [
           0.5,
           "rgb(107,174,214)"
          ],
          [
           0.625,
           "rgb(66,146,198)"
          ],
          [
           0.75,
           "rgb(33,113,181)"
          ],
          [
           0.875,
           "rgb(8,81,156)"
          ],
          [
           1,
           "rgb(8,48,107)"
          ]
         ],
         "connectgaps": true,
         "contours": {
          "coloring": "heatmap"
         },
         "hoverinfo": "none",
         "line": {
          "smoothing": 1.3
         },
         "reversescale": true,
         "showscale": false,
         "type": "contour",
         "x": [
          1.85,
          2,
          3,
          4,
          5,
          5.15
         ],
         "xaxis": "x14",
         "y": [
          11,
          20,
          40,
          60,
          80,
          100,
          120,
          140,
          160,
          180,
          200,
          209
         ],
         "yaxis": "y14",
         "z": [
          [
           null,
           null,
           null,
           null,
           null,
           null
          ],
          [
           null,
           null,
           254.1475102692629,
           255.45331478624016,
           246.14835026968603,
           null
          ],
          [
           null,
           253.83300952942514,
           273.3385569829784,
           256.4385937739645,
           249.642870483687,
           null
          ],
          [
           null,
           254.2067556983261,
           null,
           254.95791382934948,
           247.7360848360025,
           null
          ],
          [
           null,
           null,
           null,
           253.23378459993393,
           245.7175078097372,
           null
          ],
          [
           null,
           null,
           null,
           249.47287414203046,
           245.86400675602135,
           null
          ],
          [
           null,
           null,
           249.87032887039055,
           247.75148491873432,
           245.19688485466912,
           null
          ],
          [
           null,
           null,
           247.2375875864471,
           248.58072586571853,
           249.15493282986844,
           null
          ],
          [
           null,
           261.9050004329837,
           null,
           269.26180410183855,
           246.28225101800234,
           null
          ],
          [
           null,
           253.94933449613956,
           null,
           246.62353107421603,
           245.95214481776497,
           null
          ],
          [
           null,
           null,
           261.3713852940558,
           null,
           245.53285694772458,
           null
          ],
          [
           null,
           null,
           null,
           null,
           null,
           null
          ]
         ]
        },
        {
         "marker": {
          "color": "black",
          "line": {
           "color": "Grey",
           "width": 2
          }
         },
         "mode": "markers",
         "showlegend": false,
         "type": "scatter",
         "x": [
          5,
          3,
          3,
          3,
          4,
          4,
          2,
          2,
          4,
          3,
          5,
          5,
          5,
          4,
          5,
          4,
          4,
          4,
          4,
          3,
          4,
          5,
          5,
          4,
          5,
          5,
          5,
          5,
          5,
          5,
          5,
          5,
          5,
          5,
          5,
          4,
          5,
          3,
          2,
          4,
          3,
          5,
          5,
          5,
          5,
          5,
          4,
          5,
          4,
          5,
          4,
          5,
          5,
          5,
          5,
          5,
          5,
          4,
          5,
          5,
          5,
          5,
          5,
          5,
          5,
          5,
          3,
          5,
          5,
          4,
          5,
          5,
          5,
          5,
          5,
          5,
          5,
          5,
          2,
          5,
          5,
          5,
          5,
          5,
          5,
          5,
          5,
          4,
          5,
          3,
          5,
          5,
          5,
          5,
          5,
          5,
          5,
          5,
          5,
          5
         ],
         "xaxis": "x14",
         "y": [
          40,
          200,
          40,
          40,
          140,
          160,
          180,
          160,
          80,
          120,
          120,
          120,
          100,
          140,
          80,
          80,
          80,
          60,
          20,
          140,
          100,
          140,
          120,
          100,
          160,
          180,
          200,
          200,
          180,
          60,
          80,
          180,
          200,
          200,
          200,
          60,
          20,
          200,
          40,
          180,
          200,
          160,
          180,
          160,
          180,
          200,
          180,
          160,
          120,
          200,
          80,
          200,
          200,
          200,
          200,
          60,
          60,
          40,
          100,
          80,
          60,
          200,
          40,
          40,
          40,
          20,
          20,
          40,
          60,
          40,
          60,
          40,
          40,
          40,
          40,
          20,
          40,
          60,
          60,
          60,
          60,
          80,
          80,
          120,
          120,
          120,
          120,
          120,
          100,
          140,
          120,
          140,
          120,
          120,
          120,
          100,
          140,
          120,
          100,
          120
         ],
         "yaxis": "y14"
        },
        {
         "colorbar": {
          "title": {
           "text": "Objective Value"
          }
         },
         "colorscale": [
          [
           0,
           "rgb(247,251,255)"
          ],
          [
           0.125,
           "rgb(222,235,247)"
          ],
          [
           0.25,
           "rgb(198,219,239)"
          ],
          [
           0.375,
           "rgb(158,202,225)"
          ],
          [
           0.5,
           "rgb(107,174,214)"
          ],
          [
           0.625,
           "rgb(66,146,198)"
          ],
          [
           0.75,
           "rgb(33,113,181)"
          ],
          [
           0.875,
           "rgb(8,81,156)"
          ],
          [
           1,
           "rgb(8,48,107)"
          ]
         ],
         "connectgaps": true,
         "contours": {
          "coloring": "heatmap"
         },
         "hoverinfo": "none",
         "line": {
          "smoothing": 1.3
         },
         "reversescale": true,
         "showscale": false,
         "type": "contour",
         "x": [
          1.8,
          2,
          3,
          4,
          5,
          6,
          6.2
         ],
         "xaxis": "x3",
         "y": [
          1.6,
          2,
          3,
          4,
          5,
          6,
          7,
          8,
          9,
          10,
          10.4
         ],
         "yaxis": "y3",
         "z": [
          [
           null,
           null,
           null,
           null,
           null,
           null,
           null
          ],
          [
           null,
           267.74585601361355,
           273.3385569829784,
           269.26180410183855,
           null,
           null,
           null
          ],
          [
           null,
           261.3713852940558,
           null,
           null,
           null,
           null,
           null
          ],
          [
           null,
           261.9050004329837,
           null,
           null,
           null,
           263.58683002207346,
           null
          ],
          [
           null,
           250.56828648898278,
           251.4113129415373,
           null,
           null,
           null,
           null
          ],
          [
           null,
           249.15493282986844,
           251.67049089776447,
           null,
           null,
           null,
           null
          ],
          [
           null,
           245.4627310950646,
           249.23712254613352,
           null,
           252.74577931405412,
           null,
           null
          ],
          [
           null,
           245.19688485466912,
           254.2067556983261,
           251.5786182227714,
           253.94933449613956,
           253.23378459993393,
           null
          ],
          [
           null,
           245.43280882758182,
           253.83300952942514,
           249.87032887039055,
           256.4385937739645,
           254.95791382934948,
           null
          ],
          [
           null,
           247.7360848360025,
           248.47973045408108,
           250.26752799985792,
           null,
           null,
           null
          ],
          [
           null,
           null,
           null,
           null,
           null,
           null,
           null
          ]
         ]
        },
        {
         "marker": {
          "color": "black",
          "line": {
           "color": "Grey",
           "width": 2
          }
         },
         "mode": "markers",
         "showlegend": false,
         "type": "scatter",
         "x": [
          3,
          6,
          6,
          3,
          2,
          4,
          5,
          2,
          3,
          4,
          2,
          2,
          2,
          2,
          3,
          2,
          5,
          3,
          4,
          2,
          5,
          2,
          2,
          3,
          2,
          3,
          2,
          3,
          2,
          3,
          2,
          2,
          2,
          2,
          3,
          6,
          2,
          2,
          3,
          4,
          2,
          2,
          2,
          2,
          2,
          3,
          2,
          2,
          3,
          2,
          6,
          2,
          2,
          2,
          2,
          2,
          3,
          2,
          2,
          3,
          4,
          2,
          2,
          2,
          2,
          2,
          2,
          2,
          2,
          5,
          3,
          2,
          2,
          2,
          2,
          2,
          2,
          2,
          3,
          2,
          2,
          2,
          2,
          2,
          2,
          2,
          2,
          2,
          2,
          2,
          3,
          2,
          2,
          2,
          2,
          2,
          2,
          2,
          2,
          2
         ],
         "xaxis": "x3",
         "y": [
          7,
          9,
          4,
          2,
          8,
          2,
          8,
          4,
          8,
          9,
          10,
          10,
          10,
          6,
          6,
          8,
          7,
          5,
          8,
          7,
          9,
          10,
          9,
          8,
          9,
          9,
          9,
          7,
          9,
          7,
          5,
          9,
          9,
          10,
          8,
          9,
          8,
          10,
          9,
          8,
          3,
          9,
          10,
          9,
          8,
          10,
          9,
          8,
          10,
          9,
          8,
          9,
          9,
          10,
          7,
          9,
          8,
          9,
          6,
          7,
          10,
          9,
          9,
          8,
          9,
          9,
          10,
          8,
          5,
          9,
          10,
          9,
          9,
          9,
          8,
          9,
          10,
          9,
          8,
          9,
          10,
          9,
          9,
          9,
          8,
          8,
          7,
          6,
          7,
          8,
          7,
          8,
          7,
          7,
          7,
          2,
          6,
          8,
          8,
          8
         ],
         "yaxis": "y3"
        },
        {
         "colorbar": {
          "title": {
           "text": "Objective Value"
          }
         },
         "colorscale": [
          [
           0,
           "rgb(247,251,255)"
          ],
          [
           0.125,
           "rgb(222,235,247)"
          ],
          [
           0.25,
           "rgb(198,219,239)"
          ],
          [
           0.375,
           "rgb(158,202,225)"
          ],
          [
           0.5,
           "rgb(107,174,214)"
          ],
          [
           0.625,
           "rgb(66,146,198)"
          ],
          [
           0.75,
           "rgb(33,113,181)"
          ],
          [
           0.875,
           "rgb(8,81,156)"
          ],
          [
           1,
           "rgb(8,48,107)"
          ]
         ],
         "connectgaps": true,
         "contours": {
          "coloring": "heatmap"
         },
         "hoverinfo": "none",
         "line": {
          "smoothing": 1.3
         },
         "reversescale": true,
         "showscale": false,
         "type": "contour",
         "x": [
          1.8,
          2,
          3,
          4,
          5,
          6,
          6.2
         ],
         "xaxis": "x7",
         "y": [
          1.85,
          2,
          3,
          4,
          5,
          5.15
         ],
         "yaxis": "y7",
         "z": [
          [
           null,
           null,
           null,
           null,
           null,
           null,
           null
          ],
          [
           null,
           261.9050004329837,
           254.2067556983261,
           null,
           253.94933449613956,
           null,
           null
          ],
          [
           null,
           247.2375875864471,
           273.3385569829784,
           249.87032887039055,
           null,
           263.58683002207346,
           null
          ],
          [
           null,
           247.75148491873432,
           248.4373731238953,
           251.5786182227714,
           256.4385937739645,
           253.23378459993393,
           null
          ],
          [
           null,
           245.19688485466912,
           249.23712254613352,
           250.26752799985792,
           null,
           null,
           null
          ],
          [
           null,
           null,
           null,
           null,
           null,
           null,
           null
          ]
         ]
        },
        {
         "marker": {
          "color": "black",
          "line": {
           "color": "Grey",
           "width": 2
          }
         },
         "mode": "markers",
         "showlegend": false,
         "type": "scatter",
         "x": [
          3,
          6,
          6,
          3,
          2,
          4,
          5,
          2,
          3,
          4,
          2,
          2,
          2,
          2,
          3,
          2,
          5,
          3,
          4,
          2,
          5,
          2,
          2,
          3,
          2,
          3,
          2,
          3,
          2,
          3,
          2,
          2,
          2,
          2,
          3,
          6,
          2,
          2,
          3,
          4,
          2,
          2,
          2,
          2,
          2,
          3,
          2,
          2,
          3,
          2,
          6,
          2,
          2,
          2,
          2,
          2,
          3,
          2,
          2,
          3,
          4,
          2,
          2,
          2,
          2,
          2,
          2,
          2,
          2,
          5,
          3,
          2,
          2,
          2,
          2,
          2,
          2,
          2,
          3,
          2,
          2,
          2,
          2,
          2,
          2,
          2,
          2,
          2,
          2,
          2,
          3,
          2,
          2,
          2,
          2,
          2,
          2,
          2,
          2,
          2
         ],
         "xaxis": "x7",
         "y": [
          5,
          3,
          3,
          3,
          4,
          4,
          2,
          2,
          4,
          3,
          5,
          5,
          5,
          4,
          5,
          4,
          4,
          4,
          4,
          3,
          4,
          5,
          5,
          4,
          5,
          5,
          5,
          5,
          5,
          5,
          5,
          5,
          5,
          5,
          5,
          4,
          5,
          3,
          2,
          4,
          3,
          5,
          5,
          5,
          5,
          5,
          4,
          5,
          4,
          5,
          4,
          5,
          5,
          5,
          5,
          5,
          5,
          4,
          5,
          5,
          5,
          5,
          5,
          5,
          5,
          5,
          3,
          5,
          5,
          4,
          5,
          5,
          5,
          5,
          5,
          5,
          5,
          5,
          2,
          5,
          5,
          5,
          5,
          5,
          5,
          5,
          5,
          4,
          5,
          3,
          5,
          5,
          5,
          5,
          5,
          5,
          5,
          5,
          5,
          5
         ],
         "yaxis": "y7"
        },
        {
         "type": "scatter",
         "xaxis": "x11",
         "yaxis": "y11"
        },
        {
         "colorbar": {
          "title": {
           "text": "Objective Value"
          }
         },
         "colorscale": [
          [
           0,
           "rgb(247,251,255)"
          ],
          [
           0.125,
           "rgb(222,235,247)"
          ],
          [
           0.25,
           "rgb(198,219,239)"
          ],
          [
           0.375,
           "rgb(158,202,225)"
          ],
          [
           0.5,
           "rgb(107,174,214)"
          ],
          [
           0.625,
           "rgb(66,146,198)"
          ],
          [
           0.75,
           "rgb(33,113,181)"
          ],
          [
           0.875,
           "rgb(8,81,156)"
          ],
          [
           1,
           "rgb(8,48,107)"
          ]
         ],
         "connectgaps": true,
         "contours": {
          "coloring": "heatmap"
         },
         "hoverinfo": "none",
         "line": {
          "smoothing": 1.3
         },
         "reversescale": true,
         "showscale": false,
         "type": "contour",
         "x": [
          1.8,
          2,
          3,
          4,
          5,
          6,
          6.2
         ],
         "xaxis": "x15",
         "y": [
          11,
          20,
          40,
          60,
          80,
          100,
          120,
          140,
          160,
          180,
          200,
          209
         ],
         "yaxis": "y15",
         "z": [
          [
           null,
           null,
           null,
           null,
           null,
           null,
           null
          ],
          [
           null,
           246.14835026968603,
           null,
           255.45331478624016,
           null,
           null,
           null
          ],
          [
           null,
           249.642870483687,
           253.83300952942514,
           null,
           256.4385937739645,
           263.58683002207346,
           null
          ],
          [
           null,
           247.7360848360025,
           254.2067556983261,
           250.26752799985792,
           null,
           254.95791382934948,
           null
          ],
          [
           null,
           245.7175078097372,
           250.02377576912377,
           null,
           252.74577931405412,
           253.23378459993393,
           null
          ],
          [
           null,
           245.86400675602135,
           249.47287414203046,
           null,
           252.82954564789048,
           null,
           null
          ],
          [
           null,
           245.19688485466912,
           249.23712254613352,
           249.87032887039055,
           null,
           null,
           null
          ],
          [
           null,
           249.15493282986844,
           null,
           null,
           null,
           null,
           null
          ],
          [
           null,
           246.28225101800234,
           null,
           269.26180410183855,
           null,
           null,
           null
          ],
          [
           null,
           246.62353107421603,
           249.81267940698345,
           251.5786182227714,
           253.94933449613956,
           null,
           null
          ],
          [
           null,
           245.53285694772458,
           250.6619462134638,
           null,
           null,
           252.6310800006685,
           null
          ],
          [
           null,
           null,
           null,
           null,
           null,
           null,
           null
          ]
         ]
        },
        {
         "marker": {
          "color": "black",
          "line": {
           "color": "Grey",
           "width": 2
          }
         },
         "mode": "markers",
         "showlegend": false,
         "type": "scatter",
         "x": [
          3,
          6,
          6,
          3,
          2,
          4,
          5,
          2,
          3,
          4,
          2,
          2,
          2,
          2,
          3,
          2,
          5,
          3,
          4,
          2,
          5,
          2,
          2,
          3,
          2,
          3,
          2,
          3,
          2,
          3,
          2,
          2,
          2,
          2,
          3,
          6,
          2,
          2,
          3,
          4,
          2,
          2,
          2,
          2,
          2,
          3,
          2,
          2,
          3,
          2,
          6,
          2,
          2,
          2,
          2,
          2,
          3,
          2,
          2,
          3,
          4,
          2,
          2,
          2,
          2,
          2,
          2,
          2,
          2,
          5,
          3,
          2,
          2,
          2,
          2,
          2,
          2,
          2,
          3,
          2,
          2,
          2,
          2,
          2,
          2,
          2,
          2,
          2,
          2,
          2,
          3,
          2,
          2,
          2,
          2,
          2,
          2,
          2,
          2,
          2
         ],
         "xaxis": "x15",
         "y": [
          40,
          200,
          40,
          40,
          140,
          160,
          180,
          160,
          80,
          120,
          120,
          120,
          100,
          140,
          80,
          80,
          80,
          60,
          20,
          140,
          100,
          140,
          120,
          100,
          160,
          180,
          200,
          200,
          180,
          60,
          80,
          180,
          200,
          200,
          200,
          60,
          20,
          200,
          40,
          180,
          200,
          160,
          180,
          160,
          180,
          200,
          180,
          160,
          120,
          200,
          80,
          200,
          200,
          200,
          200,
          60,
          60,
          40,
          100,
          80,
          60,
          200,
          40,
          40,
          40,
          20,
          20,
          40,
          60,
          40,
          60,
          40,
          40,
          40,
          40,
          20,
          40,
          60,
          60,
          60,
          60,
          80,
          80,
          120,
          120,
          120,
          120,
          120,
          100,
          140,
          120,
          140,
          120,
          120,
          120,
          100,
          140,
          120,
          100,
          120
         ],
         "yaxis": "y15"
        },
        {
         "colorbar": {
          "title": {
           "text": "Objective Value"
          }
         },
         "colorscale": [
          [
           0,
           "rgb(247,251,255)"
          ],
          [
           0.125,
           "rgb(222,235,247)"
          ],
          [
           0.25,
           "rgb(198,219,239)"
          ],
          [
           0.375,
           "rgb(158,202,225)"
          ],
          [
           0.5,
           "rgb(107,174,214)"
          ],
          [
           0.625,
           "rgb(66,146,198)"
          ],
          [
           0.75,
           "rgb(33,113,181)"
          ],
          [
           0.875,
           "rgb(8,81,156)"
          ],
          [
           1,
           "rgb(8,48,107)"
          ]
         ],
         "connectgaps": true,
         "contours": {
          "coloring": "heatmap"
         },
         "hoverinfo": "none",
         "line": {
          "smoothing": 1.3
         },
         "reversescale": true,
         "showscale": false,
         "type": "contour",
         "x": [
          11,
          20,
          40,
          60,
          80,
          100,
          120,
          140,
          160,
          180,
          200,
          209
         ],
         "xaxis": "x4",
         "y": [
          1.6,
          2,
          3,
          4,
          5,
          6,
          7,
          8,
          9,
          10,
          10.4
         ],
         "yaxis": "y4",
         "z": [
          [
           null,
           null,
           null,
           null,
           null,
           null,
           null,
           null,
           null,
           null,
           null,
           null
          ],
          [
           null,
           null,
           273.3385569829784,
           null,
           null,
           267.74585601361355,
           null,
           null,
           269.26180410183855,
           null,
           null,
           null
          ],
          [
           null,
           null,
           null,
           null,
           null,
           null,
           null,
           null,
           null,
           null,
           261.3713852940558,
           null
          ],
          [
           null,
           null,
           263.58683002207346,
           null,
           null,
           null,
           null,
           null,
           261.9050004329837,
           null,
           null,
           null
          ],
          [
           null,
           null,
           null,
           250.56828648898278,
           250.0753015011009,
           null,
           null,
           null,
           null,
           null,
           null,
           null
          ],
          [
           null,
           null,
           null,
           null,
           251.67049089776447,
           249.6295607323471,
           247.75148491873432,
           249.15493282986844,
           null,
           null,
           null,
           null
          ],
          [
           null,
           null,
           250.7517667466885,
           248.71355137644247,
           250.02377576912377,
           246.94498112275542,
           245.4627310950646,
           248.6299967193746,
           null,
           null,
           246.02180560899,
           null
          ],
          [
           null,
           247.44756768752032,
           245.65062198778068,
           254.2067556983261,
           253.23378459993393,
           245.86400675602135,
           245.19688485466912,
           245.729644252279,
           246.28225101800234,
           245.95214481776497,
           249.4416191498214,
           null
          ],
          [
           null,
           246.14835026968603,
           245.52661365742546,
           244.0175423453939,
           245.7175078097372,
           252.82954564789048,
           245.43280882758182,
           null,
           246.17590737036062,
           246.62353107421603,
           245.53285694772458,
           null
          ],
          [
           null,
           254.1475102692629,
           249.642870483687,
           247.7360848360025,
           null,
           248.38551370080899,
           248.4373731238953,
           247.77295664603193,
           null,
           247.13459385318023,
           247.0242450658996,
           null
          ],
          [
           null,
           null,
           null,
           null,
           null,
           null,
           null,
           null,
           null,
           null,
           null,
           null
          ]
         ]
        },
        {
         "marker": {
          "color": "black",
          "line": {
           "color": "Grey",
           "width": 2
          }
         },
         "mode": "markers",
         "showlegend": false,
         "type": "scatter",
         "x": [
          40,
          200,
          40,
          40,
          140,
          160,
          180,
          160,
          80,
          120,
          120,
          120,
          100,
          140,
          80,
          80,
          80,
          60,
          20,
          140,
          100,
          140,
          120,
          100,
          160,
          180,
          200,
          200,
          180,
          60,
          80,
          180,
          200,
          200,
          200,
          60,
          20,
          200,
          40,
          180,
          200,
          160,
          180,
          160,
          180,
          200,
          180,
          160,
          120,
          200,
          80,
          200,
          200,
          200,
          200,
          60,
          60,
          40,
          100,
          80,
          60,
          200,
          40,
          40,
          40,
          20,
          20,
          40,
          60,
          40,
          60,
          40,
          40,
          40,
          40,
          20,
          40,
          60,
          60,
          60,
          60,
          80,
          80,
          120,
          120,
          120,
          120,
          120,
          100,
          140,
          120,
          140,
          120,
          120,
          120,
          100,
          140,
          120,
          100,
          120
         ],
         "xaxis": "x4",
         "y": [
          7,
          9,
          4,
          2,
          8,
          2,
          8,
          4,
          8,
          9,
          10,
          10,
          10,
          6,
          6,
          8,
          7,
          5,
          8,
          7,
          9,
          10,
          9,
          8,
          9,
          9,
          9,
          7,
          9,
          7,
          5,
          9,
          9,
          10,
          8,
          9,
          8,
          10,
          9,
          8,
          3,
          9,
          10,
          9,
          8,
          10,
          9,
          8,
          10,
          9,
          8,
          9,
          9,
          10,
          7,
          9,
          8,
          9,
          6,
          7,
          10,
          9,
          9,
          8,
          9,
          9,
          10,
          8,
          5,
          9,
          10,
          9,
          9,
          9,
          8,
          9,
          10,
          9,
          8,
          9,
          10,
          9,
          9,
          9,
          8,
          8,
          7,
          6,
          7,
          8,
          7,
          8,
          7,
          7,
          7,
          2,
          6,
          8,
          8,
          8
         ],
         "yaxis": "y4"
        },
        {
         "colorbar": {
          "title": {
           "text": "Objective Value"
          }
         },
         "colorscale": [
          [
           0,
           "rgb(247,251,255)"
          ],
          [
           0.125,
           "rgb(222,235,247)"
          ],
          [
           0.25,
           "rgb(198,219,239)"
          ],
          [
           0.375,
           "rgb(158,202,225)"
          ],
          [
           0.5,
           "rgb(107,174,214)"
          ],
          [
           0.625,
           "rgb(66,146,198)"
          ],
          [
           0.75,
           "rgb(33,113,181)"
          ],
          [
           0.875,
           "rgb(8,81,156)"
          ],
          [
           1,
           "rgb(8,48,107)"
          ]
         ],
         "connectgaps": true,
         "contours": {
          "coloring": "heatmap"
         },
         "hoverinfo": "none",
         "line": {
          "smoothing": 1.3
         },
         "reversescale": true,
         "showscale": false,
         "type": "contour",
         "x": [
          11,
          20,
          40,
          60,
          80,
          100,
          120,
          140,
          160,
          180,
          200,
          209
         ],
         "xaxis": "x8",
         "y": [
          1.85,
          2,
          3,
          4,
          5,
          5.15
         ],
         "yaxis": "y8",
         "z": [
          [
           null,
           null,
           null,
           null,
           null,
           null,
           null,
           null,
           null,
           null,
           null,
           null
          ],
          [
           null,
           null,
           253.83300952942514,
           254.2067556983261,
           null,
           null,
           null,
           null,
           261.9050004329837,
           253.94933449613956,
           null,
           null
          ],
          [
           null,
           254.1475102692629,
           273.3385569829784,
           null,
           null,
           null,
           249.87032887039055,
           247.2375875864471,
           null,
           null,
           261.3713852940558,
           null
          ],
          [
           null,
           255.45331478624016,
           256.4385937739645,
           254.95791382934948,
           253.23378459993393,
           249.47287414203046,
           247.75148491873432,
           248.58072586571853,
           269.26180410183855,
           246.62353107421603,
           null,
           null
          ],
          [
           null,
           246.14835026968603,
           249.642870483687,
           247.7360848360025,
           245.7175078097372,
           245.86400675602135,
           245.19688485466912,
           249.15493282986844,
           246.28225101800234,
           245.95214481776497,
           245.53285694772458,
           null
          ],
          [
           null,
           null,
           null,
           null,
           null,
           null,
           null,
           null,
           null,
           null,
           null,
           null
          ]
         ]
        },
        {
         "marker": {
          "color": "black",
          "line": {
           "color": "Grey",
           "width": 2
          }
         },
         "mode": "markers",
         "showlegend": false,
         "type": "scatter",
         "x": [
          40,
          200,
          40,
          40,
          140,
          160,
          180,
          160,
          80,
          120,
          120,
          120,
          100,
          140,
          80,
          80,
          80,
          60,
          20,
          140,
          100,
          140,
          120,
          100,
          160,
          180,
          200,
          200,
          180,
          60,
          80,
          180,
          200,
          200,
          200,
          60,
          20,
          200,
          40,
          180,
          200,
          160,
          180,
          160,
          180,
          200,
          180,
          160,
          120,
          200,
          80,
          200,
          200,
          200,
          200,
          60,
          60,
          40,
          100,
          80,
          60,
          200,
          40,
          40,
          40,
          20,
          20,
          40,
          60,
          40,
          60,
          40,
          40,
          40,
          40,
          20,
          40,
          60,
          60,
          60,
          60,
          80,
          80,
          120,
          120,
          120,
          120,
          120,
          100,
          140,
          120,
          140,
          120,
          120,
          120,
          100,
          140,
          120,
          100,
          120
         ],
         "xaxis": "x8",
         "y": [
          5,
          3,
          3,
          3,
          4,
          4,
          2,
          2,
          4,
          3,
          5,
          5,
          5,
          4,
          5,
          4,
          4,
          4,
          4,
          3,
          4,
          5,
          5,
          4,
          5,
          5,
          5,
          5,
          5,
          5,
          5,
          5,
          5,
          5,
          5,
          4,
          5,
          3,
          2,
          4,
          3,
          5,
          5,
          5,
          5,
          5,
          4,
          5,
          4,
          5,
          4,
          5,
          5,
          5,
          5,
          5,
          5,
          4,
          5,
          5,
          5,
          5,
          5,
          5,
          5,
          5,
          3,
          5,
          5,
          4,
          5,
          5,
          5,
          5,
          5,
          5,
          5,
          5,
          2,
          5,
          5,
          5,
          5,
          5,
          5,
          5,
          5,
          4,
          5,
          3,
          5,
          5,
          5,
          5,
          5,
          5,
          5,
          5,
          5,
          5
         ],
         "yaxis": "y8"
        },
        {
         "colorbar": {
          "title": {
           "text": "Objective Value"
          }
         },
         "colorscale": [
          [
           0,
           "rgb(247,251,255)"
          ],
          [
           0.125,
           "rgb(222,235,247)"
          ],
          [
           0.25,
           "rgb(198,219,239)"
          ],
          [
           0.375,
           "rgb(158,202,225)"
          ],
          [
           0.5,
           "rgb(107,174,214)"
          ],
          [
           0.625,
           "rgb(66,146,198)"
          ],
          [
           0.75,
           "rgb(33,113,181)"
          ],
          [
           0.875,
           "rgb(8,81,156)"
          ],
          [
           1,
           "rgb(8,48,107)"
          ]
         ],
         "connectgaps": true,
         "contours": {
          "coloring": "heatmap"
         },
         "hoverinfo": "none",
         "line": {
          "smoothing": 1.3
         },
         "reversescale": true,
         "showscale": false,
         "type": "contour",
         "x": [
          11,
          20,
          40,
          60,
          80,
          100,
          120,
          140,
          160,
          180,
          200,
          209
         ],
         "xaxis": "x12",
         "y": [
          1.8,
          2,
          3,
          4,
          5,
          6,
          6.2
         ],
         "yaxis": "y12",
         "z": [
          [
           null,
           null,
           null,
           null,
           null,
           null,
           null,
           null,
           null,
           null,
           null,
           null
          ],
          [
           null,
           246.14835026968603,
           249.642870483687,
           247.7360848360025,
           245.7175078097372,
           245.86400675602135,
           245.19688485466912,
           249.15493282986844,
           246.28225101800234,
           246.62353107421603,
           245.53285694772458,
           null
          ],
          [
           null,
           null,
           253.83300952942514,
           254.2067556983261,
           250.02377576912377,
           249.47287414203046,
           249.23712254613352,
           null,
           null,
           249.81267940698345,
           250.6619462134638,
           null
          ],
          [
           null,
           255.45331478624016,
           null,
           250.26752799985792,
           null,
           null,
           249.87032887039055,
           null,
           269.26180410183855,
           251.5786182227714,
           null,
           null
          ],
          [
           null,
           null,
           256.4385937739645,
           null,
           252.74577931405412,
           252.82954564789048,
           null,
           null,
           null,
           253.94933449613956,
           null,
           null
          ],
          [
           null,
           null,
           263.58683002207346,
           254.95791382934948,
           253.23378459993393,
           null,
           null,
           null,
           null,
           null,
           252.6310800006685,
           null
          ],
          [
           null,
           null,
           null,
           null,
           null,
           null,
           null,
           null,
           null,
           null,
           null,
           null
          ]
         ]
        },
        {
         "marker": {
          "color": "black",
          "line": {
           "color": "Grey",
           "width": 2
          }
         },
         "mode": "markers",
         "showlegend": false,
         "type": "scatter",
         "x": [
          40,
          200,
          40,
          40,
          140,
          160,
          180,
          160,
          80,
          120,
          120,
          120,
          100,
          140,
          80,
          80,
          80,
          60,
          20,
          140,
          100,
          140,
          120,
          100,
          160,
          180,
          200,
          200,
          180,
          60,
          80,
          180,
          200,
          200,
          200,
          60,
          20,
          200,
          40,
          180,
          200,
          160,
          180,
          160,
          180,
          200,
          180,
          160,
          120,
          200,
          80,
          200,
          200,
          200,
          200,
          60,
          60,
          40,
          100,
          80,
          60,
          200,
          40,
          40,
          40,
          20,
          20,
          40,
          60,
          40,
          60,
          40,
          40,
          40,
          40,
          20,
          40,
          60,
          60,
          60,
          60,
          80,
          80,
          120,
          120,
          120,
          120,
          120,
          100,
          140,
          120,
          140,
          120,
          120,
          120,
          100,
          140,
          120,
          100,
          120
         ],
         "xaxis": "x12",
         "y": [
          3,
          6,
          6,
          3,
          2,
          4,
          5,
          2,
          3,
          4,
          2,
          2,
          2,
          2,
          3,
          2,
          5,
          3,
          4,
          2,
          5,
          2,
          2,
          3,
          2,
          3,
          2,
          3,
          2,
          3,
          2,
          2,
          2,
          2,
          3,
          6,
          2,
          2,
          3,
          4,
          2,
          2,
          2,
          2,
          2,
          3,
          2,
          2,
          3,
          2,
          6,
          2,
          2,
          2,
          2,
          2,
          3,
          2,
          2,
          3,
          4,
          2,
          2,
          2,
          2,
          2,
          2,
          2,
          2,
          5,
          3,
          2,
          2,
          2,
          2,
          2,
          2,
          2,
          3,
          2,
          2,
          2,
          2,
          2,
          2,
          2,
          2,
          2,
          2,
          2,
          3,
          2,
          2,
          2,
          2,
          2,
          2,
          2,
          2,
          2
         ],
         "yaxis": "y12"
        },
        {
         "type": "scatter",
         "xaxis": "x16",
         "yaxis": "y16"
        }
       ],
       "layout": {
        "template": {
         "data": {
          "bar": [
           {
            "error_x": {
             "color": "#2a3f5f"
            },
            "error_y": {
             "color": "#2a3f5f"
            },
            "marker": {
             "line": {
              "color": "#E5ECF6",
              "width": 0.5
             },
             "pattern": {
              "fillmode": "overlay",
              "size": 10,
              "solidity": 0.2
             }
            },
            "type": "bar"
           }
          ],
          "barpolar": [
           {
            "marker": {
             "line": {
              "color": "#E5ECF6",
              "width": 0.5
             },
             "pattern": {
              "fillmode": "overlay",
              "size": 10,
              "solidity": 0.2
             }
            },
            "type": "barpolar"
           }
          ],
          "carpet": [
           {
            "aaxis": {
             "endlinecolor": "#2a3f5f",
             "gridcolor": "white",
             "linecolor": "white",
             "minorgridcolor": "white",
             "startlinecolor": "#2a3f5f"
            },
            "baxis": {
             "endlinecolor": "#2a3f5f",
             "gridcolor": "white",
             "linecolor": "white",
             "minorgridcolor": "white",
             "startlinecolor": "#2a3f5f"
            },
            "type": "carpet"
           }
          ],
          "choropleth": [
           {
            "colorbar": {
             "outlinewidth": 0,
             "ticks": ""
            },
            "type": "choropleth"
           }
          ],
          "contour": [
           {
            "colorbar": {
             "outlinewidth": 0,
             "ticks": ""
            },
            "colorscale": [
             [
              0,
              "#0d0887"
             ],
             [
              0.1111111111111111,
              "#46039f"
             ],
             [
              0.2222222222222222,
              "#7201a8"
             ],
             [
              0.3333333333333333,
              "#9c179e"
             ],
             [
              0.4444444444444444,
              "#bd3786"
             ],
             [
              0.5555555555555556,
              "#d8576b"
             ],
             [
              0.6666666666666666,
              "#ed7953"
             ],
             [
              0.7777777777777778,
              "#fb9f3a"
             ],
             [
              0.8888888888888888,
              "#fdca26"
             ],
             [
              1,
              "#f0f921"
             ]
            ],
            "type": "contour"
           }
          ],
          "contourcarpet": [
           {
            "colorbar": {
             "outlinewidth": 0,
             "ticks": ""
            },
            "type": "contourcarpet"
           }
          ],
          "heatmap": [
           {
            "colorbar": {
             "outlinewidth": 0,
             "ticks": ""
            },
            "colorscale": [
             [
              0,
              "#0d0887"
             ],
             [
              0.1111111111111111,
              "#46039f"
             ],
             [
              0.2222222222222222,
              "#7201a8"
             ],
             [
              0.3333333333333333,
              "#9c179e"
             ],
             [
              0.4444444444444444,
              "#bd3786"
             ],
             [
              0.5555555555555556,
              "#d8576b"
             ],
             [
              0.6666666666666666,
              "#ed7953"
             ],
             [
              0.7777777777777778,
              "#fb9f3a"
             ],
             [
              0.8888888888888888,
              "#fdca26"
             ],
             [
              1,
              "#f0f921"
             ]
            ],
            "type": "heatmap"
           }
          ],
          "heatmapgl": [
           {
            "colorbar": {
             "outlinewidth": 0,
             "ticks": ""
            },
            "colorscale": [
             [
              0,
              "#0d0887"
             ],
             [
              0.1111111111111111,
              "#46039f"
             ],
             [
              0.2222222222222222,
              "#7201a8"
             ],
             [
              0.3333333333333333,
              "#9c179e"
             ],
             [
              0.4444444444444444,
              "#bd3786"
             ],
             [
              0.5555555555555556,
              "#d8576b"
             ],
             [
              0.6666666666666666,
              "#ed7953"
             ],
             [
              0.7777777777777778,
              "#fb9f3a"
             ],
             [
              0.8888888888888888,
              "#fdca26"
             ],
             [
              1,
              "#f0f921"
             ]
            ],
            "type": "heatmapgl"
           }
          ],
          "histogram": [
           {
            "marker": {
             "pattern": {
              "fillmode": "overlay",
              "size": 10,
              "solidity": 0.2
             }
            },
            "type": "histogram"
           }
          ],
          "histogram2d": [
           {
            "colorbar": {
             "outlinewidth": 0,
             "ticks": ""
            },
            "colorscale": [
             [
              0,
              "#0d0887"
             ],
             [
              0.1111111111111111,
              "#46039f"
             ],
             [
              0.2222222222222222,
              "#7201a8"
             ],
             [
              0.3333333333333333,
              "#9c179e"
             ],
             [
              0.4444444444444444,
              "#bd3786"
             ],
             [
              0.5555555555555556,
              "#d8576b"
             ],
             [
              0.6666666666666666,
              "#ed7953"
             ],
             [
              0.7777777777777778,
              "#fb9f3a"
             ],
             [
              0.8888888888888888,
              "#fdca26"
             ],
             [
              1,
              "#f0f921"
             ]
            ],
            "type": "histogram2d"
           }
          ],
          "histogram2dcontour": [
           {
            "colorbar": {
             "outlinewidth": 0,
             "ticks": ""
            },
            "colorscale": [
             [
              0,
              "#0d0887"
             ],
             [
              0.1111111111111111,
              "#46039f"
             ],
             [
              0.2222222222222222,
              "#7201a8"
             ],
             [
              0.3333333333333333,
              "#9c179e"
             ],
             [
              0.4444444444444444,
              "#bd3786"
             ],
             [
              0.5555555555555556,
              "#d8576b"
             ],
             [
              0.6666666666666666,
              "#ed7953"
             ],
             [
              0.7777777777777778,
              "#fb9f3a"
             ],
             [
              0.8888888888888888,
              "#fdca26"
             ],
             [
              1,
              "#f0f921"
             ]
            ],
            "type": "histogram2dcontour"
           }
          ],
          "mesh3d": [
           {
            "colorbar": {
             "outlinewidth": 0,
             "ticks": ""
            },
            "type": "mesh3d"
           }
          ],
          "parcoords": [
           {
            "line": {
             "colorbar": {
              "outlinewidth": 0,
              "ticks": ""
             }
            },
            "type": "parcoords"
           }
          ],
          "pie": [
           {
            "automargin": true,
            "type": "pie"
           }
          ],
          "scatter": [
           {
            "fillpattern": {
             "fillmode": "overlay",
             "size": 10,
             "solidity": 0.2
            },
            "type": "scatter"
           }
          ],
          "scatter3d": [
           {
            "line": {
             "colorbar": {
              "outlinewidth": 0,
              "ticks": ""
             }
            },
            "marker": {
             "colorbar": {
              "outlinewidth": 0,
              "ticks": ""
             }
            },
            "type": "scatter3d"
           }
          ],
          "scattercarpet": [
           {
            "marker": {
             "colorbar": {
              "outlinewidth": 0,
              "ticks": ""
             }
            },
            "type": "scattercarpet"
           }
          ],
          "scattergeo": [
           {
            "marker": {
             "colorbar": {
              "outlinewidth": 0,
              "ticks": ""
             }
            },
            "type": "scattergeo"
           }
          ],
          "scattergl": [
           {
            "marker": {
             "colorbar": {
              "outlinewidth": 0,
              "ticks": ""
             }
            },
            "type": "scattergl"
           }
          ],
          "scattermapbox": [
           {
            "marker": {
             "colorbar": {
              "outlinewidth": 0,
              "ticks": ""
             }
            },
            "type": "scattermapbox"
           }
          ],
          "scatterpolar": [
           {
            "marker": {
             "colorbar": {
              "outlinewidth": 0,
              "ticks": ""
             }
            },
            "type": "scatterpolar"
           }
          ],
          "scatterpolargl": [
           {
            "marker": {
             "colorbar": {
              "outlinewidth": 0,
              "ticks": ""
             }
            },
            "type": "scatterpolargl"
           }
          ],
          "scatterternary": [
           {
            "marker": {
             "colorbar": {
              "outlinewidth": 0,
              "ticks": ""
             }
            },
            "type": "scatterternary"
           }
          ],
          "surface": [
           {
            "colorbar": {
             "outlinewidth": 0,
             "ticks": ""
            },
            "colorscale": [
             [
              0,
              "#0d0887"
             ],
             [
              0.1111111111111111,
              "#46039f"
             ],
             [
              0.2222222222222222,
              "#7201a8"
             ],
             [
              0.3333333333333333,
              "#9c179e"
             ],
             [
              0.4444444444444444,
              "#bd3786"
             ],
             [
              0.5555555555555556,
              "#d8576b"
             ],
             [
              0.6666666666666666,
              "#ed7953"
             ],
             [
              0.7777777777777778,
              "#fb9f3a"
             ],
             [
              0.8888888888888888,
              "#fdca26"
             ],
             [
              1,
              "#f0f921"
             ]
            ],
            "type": "surface"
           }
          ],
          "table": [
           {
            "cells": {
             "fill": {
              "color": "#EBF0F8"
             },
             "line": {
              "color": "white"
             }
            },
            "header": {
             "fill": {
              "color": "#C8D4E3"
             },
             "line": {
              "color": "white"
             }
            },
            "type": "table"
           }
          ]
         },
         "layout": {
          "annotationdefaults": {
           "arrowcolor": "#2a3f5f",
           "arrowhead": 0,
           "arrowwidth": 1
          },
          "autotypenumbers": "strict",
          "coloraxis": {
           "colorbar": {
            "outlinewidth": 0,
            "ticks": ""
           }
          },
          "colorscale": {
           "diverging": [
            [
             0,
             "#8e0152"
            ],
            [
             0.1,
             "#c51b7d"
            ],
            [
             0.2,
             "#de77ae"
            ],
            [
             0.3,
             "#f1b6da"
            ],
            [
             0.4,
             "#fde0ef"
            ],
            [
             0.5,
             "#f7f7f7"
            ],
            [
             0.6,
             "#e6f5d0"
            ],
            [
             0.7,
             "#b8e186"
            ],
            [
             0.8,
             "#7fbc41"
            ],
            [
             0.9,
             "#4d9221"
            ],
            [
             1,
             "#276419"
            ]
           ],
           "sequential": [
            [
             0,
             "#0d0887"
            ],
            [
             0.1111111111111111,
             "#46039f"
            ],
            [
             0.2222222222222222,
             "#7201a8"
            ],
            [
             0.3333333333333333,
             "#9c179e"
            ],
            [
             0.4444444444444444,
             "#bd3786"
            ],
            [
             0.5555555555555556,
             "#d8576b"
            ],
            [
             0.6666666666666666,
             "#ed7953"
            ],
            [
             0.7777777777777778,
             "#fb9f3a"
            ],
            [
             0.8888888888888888,
             "#fdca26"
            ],
            [
             1,
             "#f0f921"
            ]
           ],
           "sequentialminus": [
            [
             0,
             "#0d0887"
            ],
            [
             0.1111111111111111,
             "#46039f"
            ],
            [
             0.2222222222222222,
             "#7201a8"
            ],
            [
             0.3333333333333333,
             "#9c179e"
            ],
            [
             0.4444444444444444,
             "#bd3786"
            ],
            [
             0.5555555555555556,
             "#d8576b"
            ],
            [
             0.6666666666666666,
             "#ed7953"
            ],
            [
             0.7777777777777778,
             "#fb9f3a"
            ],
            [
             0.8888888888888888,
             "#fdca26"
            ],
            [
             1,
             "#f0f921"
            ]
           ]
          },
          "colorway": [
           "#636efa",
           "#EF553B",
           "#00cc96",
           "#ab63fa",
           "#FFA15A",
           "#19d3f3",
           "#FF6692",
           "#B6E880",
           "#FF97FF",
           "#FECB52"
          ],
          "font": {
           "color": "#2a3f5f"
          },
          "geo": {
           "bgcolor": "white",
           "lakecolor": "white",
           "landcolor": "#E5ECF6",
           "showlakes": true,
           "showland": true,
           "subunitcolor": "white"
          },
          "hoverlabel": {
           "align": "left"
          },
          "hovermode": "closest",
          "mapbox": {
           "style": "light"
          },
          "paper_bgcolor": "white",
          "plot_bgcolor": "#E5ECF6",
          "polar": {
           "angularaxis": {
            "gridcolor": "white",
            "linecolor": "white",
            "ticks": ""
           },
           "bgcolor": "#E5ECF6",
           "radialaxis": {
            "gridcolor": "white",
            "linecolor": "white",
            "ticks": ""
           }
          },
          "scene": {
           "xaxis": {
            "backgroundcolor": "#E5ECF6",
            "gridcolor": "white",
            "gridwidth": 2,
            "linecolor": "white",
            "showbackground": true,
            "ticks": "",
            "zerolinecolor": "white"
           },
           "yaxis": {
            "backgroundcolor": "#E5ECF6",
            "gridcolor": "white",
            "gridwidth": 2,
            "linecolor": "white",
            "showbackground": true,
            "ticks": "",
            "zerolinecolor": "white"
           },
           "zaxis": {
            "backgroundcolor": "#E5ECF6",
            "gridcolor": "white",
            "gridwidth": 2,
            "linecolor": "white",
            "showbackground": true,
            "ticks": "",
            "zerolinecolor": "white"
           }
          },
          "shapedefaults": {
           "line": {
            "color": "#2a3f5f"
           }
          },
          "ternary": {
           "aaxis": {
            "gridcolor": "white",
            "linecolor": "white",
            "ticks": ""
           },
           "baxis": {
            "gridcolor": "white",
            "linecolor": "white",
            "ticks": ""
           },
           "bgcolor": "#E5ECF6",
           "caxis": {
            "gridcolor": "white",
            "linecolor": "white",
            "ticks": ""
           }
          },
          "title": {
           "x": 0.05
          },
          "xaxis": {
           "automargin": true,
           "gridcolor": "white",
           "linecolor": "white",
           "ticks": "",
           "title": {
            "standoff": 15
           },
           "zerolinecolor": "white",
           "zerolinewidth": 2
          },
          "yaxis": {
           "automargin": true,
           "gridcolor": "white",
           "linecolor": "white",
           "ticks": "",
           "title": {
            "standoff": 15
           },
           "zerolinecolor": "white",
           "zerolinewidth": 2
          }
         }
        },
        "title": {
         "text": "Contour Plot"
        },
        "xaxis": {
         "anchor": "y",
         "domain": [
          0,
          0.2125
         ],
         "matches": "x13",
         "range": [
          1.6,
          10.4
         ],
         "showticklabels": false
        },
        "xaxis10": {
         "anchor": "y10",
         "domain": [
          0.2625,
          0.475
         ],
         "matches": "x14",
         "range": [
          1.85,
          5.15
         ],
         "showticklabels": false
        },
        "xaxis11": {
         "anchor": "y11",
         "domain": [
          0.525,
          0.7375
         ],
         "matches": "x15",
         "range": [
          1.8,
          6.2
         ],
         "showticklabels": false
        },
        "xaxis12": {
         "anchor": "y12",
         "domain": [
          0.7875,
          1
         ],
         "matches": "x16",
         "range": [
          11,
          209
         ],
         "showticklabels": false
        },
        "xaxis13": {
         "anchor": "y13",
         "domain": [
          0,
          0.2125
         ],
         "range": [
          1.6,
          10.4
         ],
         "title": {
          "text": "max_depth"
         }
        },
        "xaxis14": {
         "anchor": "y14",
         "domain": [
          0.2625,
          0.475
         ],
         "range": [
          1.85,
          5.15
         ],
         "title": {
          "text": "max_features"
         }
        },
        "xaxis15": {
         "anchor": "y15",
         "domain": [
          0.525,
          0.7375
         ],
         "range": [
          1.8,
          6.2
         ],
         "title": {
          "text": "min_samples_split"
         }
        },
        "xaxis16": {
         "anchor": "y16",
         "domain": [
          0.7875,
          1
         ],
         "range": [
          11,
          209
         ],
         "title": {
          "text": "n_estimators"
         }
        },
        "xaxis2": {
         "anchor": "y2",
         "domain": [
          0.2625,
          0.475
         ],
         "matches": "x14",
         "range": [
          1.85,
          5.15
         ],
         "showticklabels": false
        },
        "xaxis3": {
         "anchor": "y3",
         "domain": [
          0.525,
          0.7375
         ],
         "matches": "x15",
         "range": [
          1.8,
          6.2
         ],
         "showticklabels": false
        },
        "xaxis4": {
         "anchor": "y4",
         "domain": [
          0.7875,
          1
         ],
         "matches": "x16",
         "range": [
          11,
          209
         ],
         "showticklabels": false
        },
        "xaxis5": {
         "anchor": "y5",
         "domain": [
          0,
          0.2125
         ],
         "matches": "x13",
         "range": [
          1.6,
          10.4
         ],
         "showticklabels": false
        },
        "xaxis6": {
         "anchor": "y6",
         "domain": [
          0.2625,
          0.475
         ],
         "matches": "x14",
         "range": [
          1.85,
          5.15
         ],
         "showticklabels": false
        },
        "xaxis7": {
         "anchor": "y7",
         "domain": [
          0.525,
          0.7375
         ],
         "matches": "x15",
         "range": [
          1.8,
          6.2
         ],
         "showticklabels": false
        },
        "xaxis8": {
         "anchor": "y8",
         "domain": [
          0.7875,
          1
         ],
         "matches": "x16",
         "range": [
          11,
          209
         ],
         "showticklabels": false
        },
        "xaxis9": {
         "anchor": "y9",
         "domain": [
          0,
          0.2125
         ],
         "matches": "x13",
         "range": [
          1.6,
          10.4
         ],
         "showticklabels": false
        },
        "yaxis": {
         "anchor": "x",
         "domain": [
          0.80625,
          1
         ],
         "range": [
          1.6,
          10.4
         ],
         "title": {
          "text": "max_depth"
         }
        },
        "yaxis10": {
         "anchor": "x10",
         "domain": [
          0.26875,
          0.4625
         ],
         "matches": "y9",
         "range": [
          1.8,
          6.2
         ],
         "showticklabels": false
        },
        "yaxis11": {
         "anchor": "x11",
         "domain": [
          0.26875,
          0.4625
         ],
         "matches": "y9",
         "range": [
          1.8,
          6.2
         ],
         "showticklabels": false
        },
        "yaxis12": {
         "anchor": "x12",
         "domain": [
          0.26875,
          0.4625
         ],
         "matches": "y9",
         "range": [
          1.8,
          6.2
         ],
         "showticklabels": false
        },
        "yaxis13": {
         "anchor": "x13",
         "domain": [
          0,
          0.19375
         ],
         "range": [
          11,
          209
         ],
         "title": {
          "text": "n_estimators"
         }
        },
        "yaxis14": {
         "anchor": "x14",
         "domain": [
          0,
          0.19375
         ],
         "matches": "y13",
         "range": [
          11,
          209
         ],
         "showticklabels": false
        },
        "yaxis15": {
         "anchor": "x15",
         "domain": [
          0,
          0.19375
         ],
         "matches": "y13",
         "range": [
          11,
          209
         ],
         "showticklabels": false
        },
        "yaxis16": {
         "anchor": "x16",
         "domain": [
          0,
          0.19375
         ],
         "matches": "y13",
         "range": [
          11,
          209
         ],
         "showticklabels": false
        },
        "yaxis2": {
         "anchor": "x2",
         "domain": [
          0.80625,
          1
         ],
         "matches": "y",
         "range": [
          1.6,
          10.4
         ],
         "showticklabels": false
        },
        "yaxis3": {
         "anchor": "x3",
         "domain": [
          0.80625,
          1
         ],
         "matches": "y",
         "range": [
          1.6,
          10.4
         ],
         "showticklabels": false
        },
        "yaxis4": {
         "anchor": "x4",
         "domain": [
          0.80625,
          1
         ],
         "matches": "y",
         "range": [
          1.6,
          10.4
         ],
         "showticklabels": false
        },
        "yaxis5": {
         "anchor": "x5",
         "domain": [
          0.5375,
          0.73125
         ],
         "range": [
          1.85,
          5.15
         ],
         "title": {
          "text": "max_features"
         }
        },
        "yaxis6": {
         "anchor": "x6",
         "domain": [
          0.5375,
          0.73125
         ],
         "matches": "y5",
         "range": [
          1.85,
          5.15
         ],
         "showticklabels": false
        },
        "yaxis7": {
         "anchor": "x7",
         "domain": [
          0.5375,
          0.73125
         ],
         "matches": "y5",
         "range": [
          1.85,
          5.15
         ],
         "showticklabels": false
        },
        "yaxis8": {
         "anchor": "x8",
         "domain": [
          0.5375,
          0.73125
         ],
         "matches": "y5",
         "range": [
          1.85,
          5.15
         ],
         "showticklabels": false
        },
        "yaxis9": {
         "anchor": "x9",
         "domain": [
          0.26875,
          0.4625
         ],
         "range": [
          1.8,
          6.2
         ],
         "title": {
          "text": "min_samples_split"
         }
        }
       }
      }
     },
     "metadata": {},
     "output_type": "display_data"
    },
    {
     "name": "stdout",
     "output_type": "stream",
     "text": [
      "\n",
      "The best hyperparameters for RF Regressor: {'n_estimators': 60, 'max_depth': 9, 'min_samples_split': 2, 'max_features': 5}\n",
      "\n",
      "MAE of the best Random Forest Regressor: Training data 131.053\n",
      "MAE of the best Random Forest Regressor: Test data 187.431\n"
     ]
    },
    {
     "data": {
      "image/png": "[encoded data removed]",
      "text/plain": [
       "<Figure size 432x288 with 1 Axes>"
      ]
     },
     "metadata": {
      "needs_background": "light"
     },
     "output_type": "display_data"
    }
   ],
   "source": [
    "\"\"\" \n",
    "A smaller value of n_trials can be used to run the code faster\n",
    "\n",
    "best_model: the untrained RF model with best hyperparameters\n",
    "final_trained_model_train_data: the best RF model trained on a \"training\" dataset (85% of the sample)\n",
    "final_trained_model_full_data: the best RF model trained on the full sample!\n",
    "\"\"\"\n",
    "best_model, final_trained_model_train_data, final_trained_model_full_data = RF_training_with_display(X,y, test_size = 0.15, n_trials = 100, display = True)"
   ]
  },
  {
   "cell_type": "markdown",
   "metadata": {},
   "source": [
    "### While the training process involves cross-validation, in the figures below, I show how the process is done on a single example.\n",
    "\n",
    "- Splitting sample into training and testing sets\n",
    "- Training the model using the \"best\" hyperparameters taken from the output of the previous function.\n",
    "- Showing the original M-R and the predicted M-R diagrams"
   ]
  },
  {
   "cell_type": "code",
   "execution_count": 22,
   "metadata": {},
   "outputs": [
    {
     "name": "stdout",
     "output_type": "stream",
     "text": [
      "Sizes of the samples:\n",
      "Train = 663, Test = 118\n"
     ]
    },
    {
     "data": {
      "text/plain": [
       "Text(0.5, 1.0, 'Training and Test data sets')"
      ]
     },
     "execution_count": 22,
     "metadata": {},
     "output_type": "execute_result"
    },
    {
     "data": {
      "image/png": "[encoded data removed]",
      "text/plain": [
       "<Figure size 720x504 with 1 Axes>"
      ]
     },
     "metadata": {
      "needs_background": "light"
     },
     "output_type": "display_data"
    }
   ],
   "source": [
    "X_train, X_test, y_train, y_test = train_test_split(X, y, test_size=0.15)\n",
    "\n",
    "print (f'Sizes of the samples:\\nTrain = {len(X_train)}, Test = {len(X_test)}')\n",
    "\n",
    "fig = plt.figure(figsize = (10,7))\n",
    "ax = plt.subplot(1,1,1)\n",
    "best_model.fit(X_train, y_train)\n",
    "MR_plot(ax, y_train, X_train.pl_rade, color = 'gray', label = 'Train', xscale = 'log', yscale = 'log')\n",
    "MR_plot(ax, y_test, X_test.pl_rade, color = 'black', label = 'Test', xscale = 'log', yscale = 'log')\n",
    "plt.legend(loc = 'best')\n",
    "plt.title('Training and Test data sets', fontsize = 15)"
   ]
  },
  {
   "cell_type": "code",
   "execution_count": 23,
   "metadata": {},
   "outputs": [
    {
     "data": {
      "text/plain": [
       "Text(0.5, 1.0, 'M-R diagram for the original and predicted  TEST data set')"
      ]
     },
     "execution_count": 23,
     "metadata": {},
     "output_type": "execute_result"
    },
    {
     "data": {
      "image/png": "[encoded data removed]",
      "text/plain": [
       "<Figure size 720x504 with 1 Axes>"
      ]
     },
     "metadata": {
      "needs_background": "light"
     },
     "output_type": "display_data"
    }
   ],
   "source": [
    "fig = plt.figure(figsize = (10,7))\n",
    "ax = plt.subplot(1,1,1)\n",
    "best_model.fit(X_train, y_train)\n",
    "M_predict_test = best_model.predict(X_test)\n",
    "MR_plot(ax, y_test, X_test.pl_rade, color = 'gray', label = 'Observed', xscale = 'log', yscale = 'log')\n",
    "MR_plot(ax, M_predict_test, X_test.pl_rade, color = 'black', label = 'predicted', xscale = 'log', yscale = 'log')\n",
    "plt.legend(loc = 'best')\n",
    "\n",
    "plt.title('M-R diagram for the original and predicted  TEST data set', fontsize = 15)\n"
   ]
  },
  {
   "cell_type": "markdown",
   "metadata": {},
   "source": [
    "### After training the model, it is time to predict Masses of planets without mass estimated"
   ]
  },
  {
   "cell_type": "code",
   "execution_count": 24,
   "metadata": {},
   "outputs": [
    {
     "name": "stderr",
     "output_type": "stream",
     "text": [
      "/home/vadibekyan/my_github/ExoPLots/mr_utils.py:314: SettingWithCopyWarning:\n",
      "\n",
      "\n",
      "A value is trying to be set on a copy of a slice from a DataFrame.\n",
      "Try using .loc[row_indexer,col_indexer] = value instead\n",
      "\n",
      "See the caveats in the documentation: https://pandas.pydata.org/pandas-docs/stable/user_guide/indexing.html#returning-a-view-versus-a-copy\n",
      "\n"
     ]
    }
   ],
   "source": [
    "# Selects planets without masses, but with relatively high precision (relative precision better than 50%) in R\n",
    "nea_R_final_table = creating_R_ML_table(nea_full_table)"
   ]
  },
  {
   "cell_type": "markdown",
   "metadata": {},
   "source": [
    "### Predicting M from R and other relevant parameters. Displaying the M-R diagram"
   ]
  },
  {
   "cell_type": "code",
   "execution_count": 25,
   "metadata": {},
   "outputs": [
    {
     "data": {
      "text/plain": [
       "<matplotlib.legend.Legend at 0x7f95ae4fdc10>"
      ]
     },
     "execution_count": 25,
     "metadata": {},
     "output_type": "execute_result"
    },
    {
     "data": {
      "image/png": "[encoded data removed]",
      "text/plain": [
       "<Figure size 720x504 with 1 Axes>"
      ]
     },
     "metadata": {
      "needs_background": "light"
     },
     "output_type": "display_data"
    }
   ],
   "source": [
    "M_pred = final_trained_model_full_data.predict(nea_R_final_table)\n",
    "\n",
    "fig = plt.figure(figsize = (10,7))\n",
    "ax = plt.subplot(1,1, 1)\n",
    "MR_plot(ax, nea_MR_final_table.pl_bmasse, nea_MR_final_table.pl_rade, color = 'gray', label = 'Observed')\n",
    "MR_plot(ax, M_pred, nea_R_final_table.pl_rade, color = 'black', label ='Predicted', xscale = 'log', yscale = 'log')\n",
    "plt.legend(loc = 'best')\n"
   ]
  },
  {
   "cell_type": "code",
   "execution_count": 26,
   "metadata": {},
   "outputs": [
    {
     "data": {
      "text/plain": [
       "162.0933"
      ]
     },
     "execution_count": 26,
     "metadata": {},
     "output_type": "execute_result"
    }
   ],
   "source": [
    "nea_MR_final_table['pl_bmasse'].median()"
   ]
  },
  {
   "cell_type": "markdown",
   "metadata": {},
   "source": [
    "# Training on logarithmic Mass\n",
    "\n",
    "The masses of planets range from 0.07 to 6388 Mearth, with a mean and median values of ~340 and 160 MEarth. The skewed and bimodal distribution of the masses seems to lead to overestimation of the prediced masses and some 'strange' patterns (this might be also due to overfitting?). Better to train the model on log Masses."
   ]
  },
  {
   "cell_type": "code",
   "execution_count": 27,
   "metadata": {},
   "outputs": [],
   "source": [
    "nea_logMR_final_table = nea_MR_final_table.copy()\n",
    "\n",
    "nea_logMR_final_table['pl_bmasse_log'] = np.log10(nea_logMR_final_table['pl_bmasse'])\n",
    "\n",
    "y_log = nea_logMR_final_table['pl_bmasse_log']\n",
    "X_log = nea_logMR_final_table.drop(columns = ['pl_bmasse', 'pl_bmasse_log'])"
   ]
  },
  {
   "cell_type": "code",
   "execution_count": 28,
   "metadata": {},
   "outputs": [
    {
     "name": "stderr",
     "output_type": "stream",
     "text": [
      "\u001b[32m[I 2023-07-14 11:12:33,449]\u001b[0m A new study created in memory with name: no-name-f8178c2d-27a5-4aa6-ad11-f27a96de3dd4\u001b[0m\n"
     ]
    },
    {
     "name": "stdout",
     "output_type": "stream",
     "text": [
      "The base MAE score from the training set is 0\n"
     ]
    },
    {
     "name": "stderr",
     "output_type": "stream",
     "text": [
      "\u001b[32m[I 2023-07-14 11:12:35,619]\u001b[0m Trial 0 finished with value: 0.22884660154731273 and parameters: {'n_estimators': 180, 'max_depth': 7, 'min_samples_split': 2, 'max_features': 4}. Best is trial 0 with value: 0.22884660154731273.\u001b[0m\n",
      "\u001b[32m[I 2023-07-14 11:12:37,432]\u001b[0m Trial 1 finished with value: 0.2460710757561359 and parameters: {'n_estimators': 200, 'max_depth': 4, 'min_samples_split': 3, 'max_features': 3}. Best is trial 0 with value: 0.22884660154731273.\u001b[0m\n",
      "\u001b[32m[I 2023-07-14 11:12:38,495]\u001b[0m Trial 2 finished with value: 0.26707948818221683 and parameters: {'n_estimators': 100, 'max_depth': 4, 'min_samples_split': 6, 'max_features': 2}. Best is trial 0 with value: 0.22884660154731273.\u001b[0m\n",
      "\u001b[32m[I 2023-07-14 11:12:40,265]\u001b[0m Trial 3 finished with value: 0.24711175969170615 and parameters: {'n_estimators': 180, 'max_depth': 3, 'min_samples_split': 6, 'max_features': 5}. Best is trial 0 with value: 0.22884660154731273.\u001b[0m\n",
      "\u001b[32m[I 2023-07-14 11:12:40,847]\u001b[0m Trial 4 finished with value: 0.2566129065642541 and parameters: {'n_estimators': 60, 'max_depth': 5, 'min_samples_split': 4, 'max_features': 2}. Best is trial 0 with value: 0.22884660154731273.\u001b[0m\n",
      "\u001b[32m[I 2023-07-14 11:12:41,051]\u001b[0m Trial 5 finished with value: 0.2727877033714165 and parameters: {'n_estimators': 20, 'max_depth': 2, 'min_samples_split': 6, 'max_features': 4}. Best is trial 0 with value: 0.22884660154731273.\u001b[0m\n",
      "\u001b[32m[I 2023-07-14 11:12:42,945]\u001b[0m Trial 6 finished with value: 0.2493913767697829 and parameters: {'n_estimators': 180, 'max_depth': 3, 'min_samples_split': 6, 'max_features': 4}. Best is trial 0 with value: 0.22884660154731273.\u001b[0m\n",
      "\u001b[32m[I 2023-07-14 11:12:43,277]\u001b[0m Trial 7 finished with value: 0.2341679122800698 and parameters: {'n_estimators': 20, 'max_depth': 6, 'min_samples_split': 4, 'max_features': 5}. Best is trial 0 with value: 0.22884660154731273.\u001b[0m\n",
      "\u001b[32m[I 2023-07-14 11:12:44,590]\u001b[0m Trial 8 finished with value: 0.23643453364768924 and parameters: {'n_estimators': 120, 'max_depth': 9, 'min_samples_split': 3, 'max_features': 2}. Best is trial 0 with value: 0.22884660154731273.\u001b[0m\n",
      "\u001b[32m[I 2023-07-14 11:12:45,484]\u001b[0m Trial 9 finished with value: 0.2508688294870265 and parameters: {'n_estimators': 100, 'max_depth': 3, 'min_samples_split': 3, 'max_features': 4}. Best is trial 0 with value: 0.22884660154731273.\u001b[0m\n",
      "\u001b[32m[I 2023-07-14 11:12:47,247]\u001b[0m Trial 10 finished with value: 0.22680291433360628 and parameters: {'n_estimators': 140, 'max_depth': 9, 'min_samples_split': 2, 'max_features': 3}. Best is trial 10 with value: 0.22680291433360628.\u001b[0m\n",
      "\u001b[32m[I 2023-07-14 11:12:49,000]\u001b[0m Trial 11 finished with value: 0.22680291433360628 and parameters: {'n_estimators': 140, 'max_depth': 9, 'min_samples_split': 2, 'max_features': 3}. Best is trial 10 with value: 0.22680291433360628.\u001b[0m\n",
      "\u001b[32m[I 2023-07-14 11:12:50,821]\u001b[0m Trial 12 finished with value: 0.22825238489789798 and parameters: {'n_estimators': 140, 'max_depth': 10, 'min_samples_split': 2, 'max_features': 3}. Best is trial 10 with value: 0.22680291433360628.\u001b[0m\n",
      "\u001b[32m[I 2023-07-14 11:12:52,491]\u001b[0m Trial 13 finished with value: 0.22740990098538888 and parameters: {'n_estimators': 140, 'max_depth': 8, 'min_samples_split': 2, 'max_features': 3}. Best is trial 10 with value: 0.22680291433360628.\u001b[0m\n",
      "\u001b[32m[I 2023-07-14 11:12:54,306]\u001b[0m Trial 14 finished with value: 0.22825238489789798 and parameters: {'n_estimators': 140, 'max_depth': 10, 'min_samples_split': 2, 'max_features': 3}. Best is trial 10 with value: 0.22680291433360628.\u001b[0m\n",
      "\u001b[32m[I 2023-07-14 11:12:55,209]\u001b[0m Trial 15 finished with value: 0.22831818296964546 and parameters: {'n_estimators': 80, 'max_depth': 8, 'min_samples_split': 5, 'max_features': 3}. Best is trial 10 with value: 0.22680291433360628.\u001b[0m\n",
      "\u001b[32m[I 2023-07-14 11:12:57,441]\u001b[0m Trial 16 finished with value: 0.23685833060155687 and parameters: {'n_estimators': 160, 'max_depth': 8, 'min_samples_split': 3, 'max_features': 2}. Best is trial 10 with value: 0.22680291433360628.\u001b[0m\n",
      "\u001b[32m[I 2023-07-14 11:12:58,203]\u001b[0m Trial 17 finished with value: 0.2292089243692042 and parameters: {'n_estimators': 60, 'max_depth': 9, 'min_samples_split': 2, 'max_features': 3}. Best is trial 10 with value: 0.22680291433360628.\u001b[0m\n",
      "\u001b[32m[I 2023-07-14 11:12:59,771]\u001b[0m Trial 18 finished with value: 0.22893712446532052 and parameters: {'n_estimators': 120, 'max_depth': 7, 'min_samples_split': 5, 'max_features': 4}. Best is trial 10 with value: 0.22680291433360628.\u001b[0m\n",
      "\u001b[32m[I 2023-07-14 11:13:01,467]\u001b[0m Trial 19 finished with value: 0.23455124852635129 and parameters: {'n_estimators': 160, 'max_depth': 9, 'min_samples_split': 3, 'max_features': 2}. Best is trial 10 with value: 0.22680291433360628.\u001b[0m\n",
      "\u001b[32m[I 2023-07-14 11:13:03,561]\u001b[0m Trial 20 finished with value: 0.2335207207352279 and parameters: {'n_estimators': 200, 'max_depth': 6, 'min_samples_split': 4, 'max_features': 3}. Best is trial 10 with value: 0.22680291433360628.\u001b[0m\n",
      "\u001b[32m[I 2023-07-14 11:13:05,520]\u001b[0m Trial 21 finished with value: 0.22740990098538888 and parameters: {'n_estimators': 140, 'max_depth': 8, 'min_samples_split': 2, 'max_features': 3}. Best is trial 10 with value: 0.22680291433360628.\u001b[0m\n",
      "\u001b[32m[I 2023-07-14 11:13:07,649]\u001b[0m Trial 22 finished with value: 0.2277015857541183 and parameters: {'n_estimators': 160, 'max_depth': 10, 'min_samples_split': 2, 'max_features': 3}. Best is trial 10 with value: 0.22680291433360628.\u001b[0m\n",
      "\u001b[32m[I 2023-07-14 11:13:09,133]\u001b[0m Trial 23 finished with value: 0.2303767007451647 and parameters: {'n_estimators': 120, 'max_depth': 7, 'min_samples_split': 2, 'max_features': 3}. Best is trial 10 with value: 0.22680291433360628.\u001b[0m\n",
      "\u001b[32m[I 2023-07-14 11:13:11,011]\u001b[0m Trial 24 finished with value: 0.2267476541639478 and parameters: {'n_estimators': 140, 'max_depth': 9, 'min_samples_split': 3, 'max_features': 4}. Best is trial 24 with value: 0.2267476541639478.\u001b[0m\n",
      "\u001b[32m[I 2023-07-14 11:13:12,522]\u001b[0m Trial 25 finished with value: 0.22947154606820805 and parameters: {'n_estimators': 100, 'max_depth': 9, 'min_samples_split': 3, 'max_features': 5}. Best is trial 24 with value: 0.2267476541639478.\u001b[0m\n",
      "\u001b[32m[I 2023-07-14 11:13:14,878]\u001b[0m Trial 26 finished with value: 0.22597709984786532 and parameters: {'n_estimators': 160, 'max_depth': 10, 'min_samples_split': 3, 'max_features': 4}. Best is trial 26 with value: 0.22597709984786532.\u001b[0m\n",
      "\u001b[32m[I 2023-07-14 11:13:16,956]\u001b[0m Trial 27 finished with value: 0.22597709984786532 and parameters: {'n_estimators': 160, 'max_depth': 10, 'min_samples_split': 3, 'max_features': 4}. Best is trial 26 with value: 0.22597709984786532.\u001b[0m\n",
      "\u001b[32m[I 2023-07-14 11:13:19,054]\u001b[0m Trial 28 finished with value: 0.22600749485672425 and parameters: {'n_estimators': 160, 'max_depth': 10, 'min_samples_split': 4, 'max_features': 4}. Best is trial 26 with value: 0.22597709984786532.\u001b[0m\n",
      "\u001b[32m[I 2023-07-14 11:13:21,487]\u001b[0m Trial 29 finished with value: 0.22786548481764318 and parameters: {'n_estimators': 180, 'max_depth': 10, 'min_samples_split': 4, 'max_features': 5}. Best is trial 26 with value: 0.22597709984786532.\u001b[0m\n",
      "\u001b[32m[I 2023-07-14 11:13:23,947]\u001b[0m Trial 30 finished with value: 0.2257031446353898 and parameters: {'n_estimators': 200, 'max_depth': 10, 'min_samples_split': 5, 'max_features': 4}. Best is trial 30 with value: 0.2257031446353898.\u001b[0m\n",
      "\u001b[32m[I 2023-07-14 11:13:26,674]\u001b[0m Trial 31 finished with value: 0.2257031446353898 and parameters: {'n_estimators': 200, 'max_depth': 10, 'min_samples_split': 5, 'max_features': 4}. Best is trial 30 with value: 0.2257031446353898.\u001b[0m\n",
      "\u001b[32m[I 2023-07-14 11:13:29,140]\u001b[0m Trial 32 finished with value: 0.2257031446353898 and parameters: {'n_estimators': 200, 'max_depth': 10, 'min_samples_split': 5, 'max_features': 4}. Best is trial 30 with value: 0.2257031446353898.\u001b[0m\n",
      "\u001b[32m[I 2023-07-14 11:13:31,613]\u001b[0m Trial 33 finished with value: 0.2257031446353898 and parameters: {'n_estimators': 200, 'max_depth': 10, 'min_samples_split': 5, 'max_features': 4}. Best is trial 30 with value: 0.2257031446353898.\u001b[0m\n",
      "\u001b[32m[I 2023-07-14 11:13:34,263]\u001b[0m Trial 34 finished with value: 0.2282246498986698 and parameters: {'n_estimators': 200, 'max_depth': 10, 'min_samples_split': 5, 'max_features': 5}. Best is trial 30 with value: 0.2257031446353898.\u001b[0m\n",
      "\u001b[32m[I 2023-07-14 11:13:36,493]\u001b[0m Trial 35 finished with value: 0.2273083177966578 and parameters: {'n_estimators': 200, 'max_depth': 8, 'min_samples_split': 5, 'max_features': 4}. Best is trial 30 with value: 0.2257031446353898.\u001b[0m\n",
      "\u001b[32m[I 2023-07-14 11:13:39,200]\u001b[0m Trial 36 finished with value: 0.2263049139362879 and parameters: {'n_estimators': 200, 'max_depth': 9, 'min_samples_split': 5, 'max_features': 4}. Best is trial 30 with value: 0.2257031446353898.\u001b[0m\n",
      "\u001b[32m[I 2023-07-14 11:13:41,831]\u001b[0m Trial 37 finished with value: 0.22828030714469788 and parameters: {'n_estimators': 180, 'max_depth': 10, 'min_samples_split': 5, 'max_features': 5}. Best is trial 30 with value: 0.2257031446353898.\u001b[0m\n",
      "\u001b[32m[I 2023-07-14 11:13:44,157]\u001b[0m Trial 38 finished with value: 0.23352052344291177 and parameters: {'n_estimators': 200, 'max_depth': 5, 'min_samples_split': 6, 'max_features': 4}. Best is trial 30 with value: 0.2257031446353898.\u001b[0m\n",
      "\u001b[32m[I 2023-07-14 11:13:46,413]\u001b[0m Trial 39 finished with value: 0.22815235704989073 and parameters: {'n_estimators': 180, 'max_depth': 7, 'min_samples_split': 6, 'max_features': 4}. Best is trial 30 with value: 0.2257031446353898.\u001b[0m\n",
      "\u001b[32m[I 2023-07-14 11:13:48,685]\u001b[0m Trial 40 finished with value: 0.2336206245516371 and parameters: {'n_estimators': 200, 'max_depth': 5, 'min_samples_split': 5, 'max_features': 4}. Best is trial 30 with value: 0.2257031446353898.\u001b[0m\n",
      "\u001b[32m[I 2023-07-14 11:13:51,369]\u001b[0m Trial 41 finished with value: 0.22592866096455885 and parameters: {'n_estimators': 180, 'max_depth': 10, 'min_samples_split': 4, 'max_features': 4}. Best is trial 30 with value: 0.2257031446353898.\u001b[0m\n",
      "\u001b[32m[I 2023-07-14 11:13:53,890]\u001b[0m Trial 42 finished with value: 0.22592866096455885 and parameters: {'n_estimators': 180, 'max_depth': 10, 'min_samples_split': 4, 'max_features': 4}. Best is trial 30 with value: 0.2257031446353898.\u001b[0m\n",
      "\u001b[32m[I 2023-07-14 11:13:57,129]\u001b[0m Trial 43 finished with value: 0.2263049139362879 and parameters: {'n_estimators': 200, 'max_depth': 9, 'min_samples_split': 5, 'max_features': 4}. Best is trial 30 with value: 0.2257031446353898.\u001b[0m\n",
      "\u001b[32m[I 2023-07-14 11:14:00,461]\u001b[0m Trial 44 finished with value: 0.22786548481764318 and parameters: {'n_estimators': 180, 'max_depth': 10, 'min_samples_split': 4, 'max_features': 5}. Best is trial 30 with value: 0.2257031446353898.\u001b[0m\n",
      "\u001b[32m[I 2023-07-14 11:14:03,084]\u001b[0m Trial 45 finished with value: 0.22686860205552312 and parameters: {'n_estimators': 180, 'max_depth': 9, 'min_samples_split': 5, 'max_features': 4}. Best is trial 30 with value: 0.2257031446353898.\u001b[0m\n",
      "\u001b[32m[I 2023-07-14 11:14:04,971]\u001b[0m Trial 46 finished with value: 0.2402118809590556 and parameters: {'n_estimators': 200, 'max_depth': 4, 'min_samples_split': 6, 'max_features': 4}. Best is trial 30 with value: 0.2257031446353898.\u001b[0m\n",
      "\u001b[32m[I 2023-07-14 11:14:07,342]\u001b[0m Trial 47 finished with value: 0.2257031446353898 and parameters: {'n_estimators': 200, 'max_depth': 10, 'min_samples_split': 5, 'max_features': 4}. Best is trial 30 with value: 0.2257031446353898.\u001b[0m\n",
      "\u001b[32m[I 2023-07-14 11:14:10,072]\u001b[0m Trial 48 finished with value: 0.22861560660643426 and parameters: {'n_estimators': 200, 'max_depth': 9, 'min_samples_split': 5, 'max_features': 5}. Best is trial 30 with value: 0.2257031446353898.\u001b[0m\n",
      "\u001b[32m[I 2023-07-14 11:14:10,535]\u001b[0m Trial 49 finished with value: 0.23028064594179706 and parameters: {'n_estimators': 40, 'max_depth': 8, 'min_samples_split': 5, 'max_features': 4}. Best is trial 30 with value: 0.2257031446353898.\u001b[0m\n",
      "\u001b[32m[I 2023-07-14 11:14:13,144]\u001b[0m Trial 50 finished with value: 0.22576105148439357 and parameters: {'n_estimators': 200, 'max_depth': 10, 'min_samples_split': 6, 'max_features': 4}. Best is trial 30 with value: 0.2257031446353898.\u001b[0m\n",
      "\u001b[32m[I 2023-07-14 11:14:15,251]\u001b[0m Trial 51 finished with value: 0.27118330457173945 and parameters: {'n_estimators': 200, 'max_depth': 2, 'min_samples_split': 6, 'max_features': 4}. Best is trial 30 with value: 0.2257031446353898.\u001b[0m\n",
      "\u001b[32m[I 2023-07-14 11:14:18,302]\u001b[0m Trial 52 finished with value: 0.22576105148439357 and parameters: {'n_estimators': 200, 'max_depth': 10, 'min_samples_split': 6, 'max_features': 4}. Best is trial 30 with value: 0.2257031446353898.\u001b[0m\n",
      "\u001b[32m[I 2023-07-14 11:14:20,659]\u001b[0m Trial 53 finished with value: 0.22618019686772084 and parameters: {'n_estimators': 180, 'max_depth': 9, 'min_samples_split': 6, 'max_features': 4}. Best is trial 30 with value: 0.2257031446353898.\u001b[0m\n",
      "\u001b[32m[I 2023-07-14 11:14:23,281]\u001b[0m Trial 54 finished with value: 0.2257031446353898 and parameters: {'n_estimators': 200, 'max_depth': 10, 'min_samples_split': 5, 'max_features': 4}. Best is trial 30 with value: 0.2257031446353898.\u001b[0m\n",
      "\u001b[32m[I 2023-07-14 11:14:25,707]\u001b[0m Trial 55 finished with value: 0.22563079727058272 and parameters: {'n_estimators': 180, 'max_depth': 10, 'min_samples_split': 5, 'max_features': 4}. Best is trial 55 with value: 0.22563079727058272.\u001b[0m\n",
      "\u001b[32m[I 2023-07-14 11:14:28,113]\u001b[0m Trial 56 finished with value: 0.22686860205552312 and parameters: {'n_estimators': 180, 'max_depth': 9, 'min_samples_split': 5, 'max_features': 4}. Best is trial 55 with value: 0.22563079727058272.\u001b[0m\n",
      "\u001b[32m[I 2023-07-14 11:14:30,310]\u001b[0m Trial 57 finished with value: 0.22563079727058272 and parameters: {'n_estimators': 180, 'max_depth': 10, 'min_samples_split': 5, 'max_features': 4}. Best is trial 55 with value: 0.22563079727058272.\u001b[0m\n",
      "\u001b[32m[I 2023-07-14 11:14:32,167]\u001b[0m Trial 58 finished with value: 0.22685193229978898 and parameters: {'n_estimators': 160, 'max_depth': 8, 'min_samples_split': 5, 'max_features': 4}. Best is trial 55 with value: 0.22563079727058272.\u001b[0m\n",
      "\u001b[32m[I 2023-07-14 11:14:33,011]\u001b[0m Trial 59 finished with value: 0.2264439555426156 and parameters: {'n_estimators': 80, 'max_depth': 9, 'min_samples_split': 5, 'max_features': 3}. Best is trial 55 with value: 0.22563079727058272.\u001b[0m\n",
      "\u001b[32m[I 2023-07-14 11:14:35,076]\u001b[0m Trial 60 finished with value: 0.22563079727058272 and parameters: {'n_estimators': 180, 'max_depth': 10, 'min_samples_split': 5, 'max_features': 4}. Best is trial 55 with value: 0.22563079727058272.\u001b[0m\n",
      "\u001b[32m[I 2023-07-14 11:14:37,228]\u001b[0m Trial 61 finished with value: 0.22563079727058272 and parameters: {'n_estimators': 180, 'max_depth': 10, 'min_samples_split': 5, 'max_features': 4}. Best is trial 55 with value: 0.22563079727058272.\u001b[0m\n",
      "\u001b[32m[I 2023-07-14 11:14:39,398]\u001b[0m Trial 62 finished with value: 0.22563079727058272 and parameters: {'n_estimators': 180, 'max_depth': 10, 'min_samples_split': 5, 'max_features': 4}. Best is trial 55 with value: 0.22563079727058272.\u001b[0m\n",
      "\u001b[32m[I 2023-07-14 11:14:41,195]\u001b[0m Trial 63 finished with value: 0.22648888969075615 and parameters: {'n_estimators': 160, 'max_depth': 9, 'min_samples_split': 5, 'max_features': 4}. Best is trial 55 with value: 0.22563079727058272.\u001b[0m\n",
      "\u001b[32m[I 2023-07-14 11:14:43,083]\u001b[0m Trial 64 finished with value: 0.22528315805627686 and parameters: {'n_estimators': 160, 'max_depth': 10, 'min_samples_split': 5, 'max_features': 4}. Best is trial 64 with value: 0.22528315805627686.\u001b[0m\n",
      "\u001b[32m[I 2023-07-14 11:14:44,974]\u001b[0m Trial 65 finished with value: 0.22600749485672425 and parameters: {'n_estimators': 160, 'max_depth': 10, 'min_samples_split': 4, 'max_features': 4}. Best is trial 64 with value: 0.22528315805627686.\u001b[0m\n",
      "\u001b[32m[I 2023-07-14 11:14:46,923]\u001b[0m Trial 66 finished with value: 0.22686860205552312 and parameters: {'n_estimators': 180, 'max_depth': 9, 'min_samples_split': 5, 'max_features': 4}. Best is trial 64 with value: 0.22528315805627686.\u001b[0m\n",
      "\u001b[32m[I 2023-07-14 11:14:49,256]\u001b[0m Trial 67 finished with value: 0.22828030714469788 and parameters: {'n_estimators': 180, 'max_depth': 10, 'min_samples_split': 5, 'max_features': 5}. Best is trial 64 with value: 0.22528315805627686.\u001b[0m\n",
      "\u001b[32m[I 2023-07-14 11:14:51,053]\u001b[0m Trial 68 finished with value: 0.22557956815863217 and parameters: {'n_estimators': 160, 'max_depth': 9, 'min_samples_split': 4, 'max_features': 4}. Best is trial 64 with value: 0.22528315805627686.\u001b[0m\n",
      "\u001b[32m[I 2023-07-14 11:14:52,881]\u001b[0m Trial 69 finished with value: 0.22557956815863217 and parameters: {'n_estimators': 160, 'max_depth': 9, 'min_samples_split': 4, 'max_features': 4}. Best is trial 64 with value: 0.22528315805627686.\u001b[0m\n",
      "\u001b[32m[I 2023-07-14 11:14:54,287]\u001b[0m Trial 70 finished with value: 0.22750641235661093 and parameters: {'n_estimators': 140, 'max_depth': 9, 'min_samples_split': 4, 'max_features': 3}. Best is trial 64 with value: 0.22528315805627686.\u001b[0m\n",
      "\u001b[32m[I 2023-07-14 11:14:56,281]\u001b[0m Trial 71 finished with value: 0.22557956815863217 and parameters: {'n_estimators': 160, 'max_depth': 9, 'min_samples_split': 4, 'max_features': 4}. Best is trial 64 with value: 0.22528315805627686.\u001b[0m\n",
      "\u001b[32m[I 2023-07-14 11:14:58,345]\u001b[0m Trial 72 finished with value: 0.22669163780128673 and parameters: {'n_estimators': 160, 'max_depth': 8, 'min_samples_split': 4, 'max_features': 4}. Best is trial 64 with value: 0.22528315805627686.\u001b[0m\n",
      "\u001b[32m[I 2023-07-14 11:15:00,257]\u001b[0m Trial 73 finished with value: 0.2259071042880607 and parameters: {'n_estimators': 140, 'max_depth': 9, 'min_samples_split': 4, 'max_features': 4}. Best is trial 64 with value: 0.22528315805627686.\u001b[0m\n",
      "\u001b[32m[I 2023-07-14 11:15:01,726]\u001b[0m Trial 74 finished with value: 0.2266274206167982 and parameters: {'n_estimators': 120, 'max_depth': 9, 'min_samples_split': 4, 'max_features': 4}. Best is trial 64 with value: 0.22528315805627686.\u001b[0m\n",
      "\u001b[32m[I 2023-07-14 11:15:03,540]\u001b[0m Trial 75 finished with value: 0.22815415972093533 and parameters: {'n_estimators': 160, 'max_depth': 7, 'min_samples_split': 4, 'max_features': 4}. Best is trial 64 with value: 0.22528315805627686.\u001b[0m\n",
      "\u001b[32m[I 2023-07-14 11:15:05,400]\u001b[0m Trial 76 finished with value: 0.22669163780128673 and parameters: {'n_estimators': 160, 'max_depth': 8, 'min_samples_split': 4, 'max_features': 4}. Best is trial 64 with value: 0.22528315805627686.\u001b[0m\n",
      "\u001b[32m[I 2023-07-14 11:15:07,138]\u001b[0m Trial 77 finished with value: 0.22639280591254032 and parameters: {'n_estimators': 140, 'max_depth': 10, 'min_samples_split': 4, 'max_features': 4}. Best is trial 64 with value: 0.22528315805627686.\u001b[0m\n",
      "\u001b[32m[I 2023-07-14 11:15:08,988]\u001b[0m Trial 78 finished with value: 0.22557956815863217 and parameters: {'n_estimators': 160, 'max_depth': 9, 'min_samples_split': 4, 'max_features': 4}. Best is trial 64 with value: 0.22528315805627686.\u001b[0m\n",
      "\u001b[32m[I 2023-07-14 11:15:10,582]\u001b[0m Trial 79 finished with value: 0.23162066938141668 and parameters: {'n_estimators': 160, 'max_depth': 6, 'min_samples_split': 4, 'max_features': 4}. Best is trial 64 with value: 0.22528315805627686.\u001b[0m\n",
      "\u001b[32m[I 2023-07-14 11:15:12,002]\u001b[0m Trial 80 finished with value: 0.2290540144308398 and parameters: {'n_estimators': 140, 'max_depth': 8, 'min_samples_split': 4, 'max_features': 3}. Best is trial 64 with value: 0.22528315805627686.\u001b[0m\n",
      "\u001b[32m[I 2023-07-14 11:15:13,763]\u001b[0m Trial 81 finished with value: 0.22557956815863217 and parameters: {'n_estimators': 160, 'max_depth': 9, 'min_samples_split': 4, 'max_features': 4}. Best is trial 64 with value: 0.22528315805627686.\u001b[0m\n",
      "\u001b[32m[I 2023-07-14 11:15:15,530]\u001b[0m Trial 82 finished with value: 0.22557956815863217 and parameters: {'n_estimators': 160, 'max_depth': 9, 'min_samples_split': 4, 'max_features': 4}. Best is trial 64 with value: 0.22528315805627686.\u001b[0m\n",
      "\u001b[32m[I 2023-07-14 11:15:17,392]\u001b[0m Trial 83 finished with value: 0.22557956815863217 and parameters: {'n_estimators': 160, 'max_depth': 9, 'min_samples_split': 4, 'max_features': 4}. Best is trial 64 with value: 0.22528315805627686.\u001b[0m\n",
      "\u001b[32m[I 2023-07-14 11:15:19,116]\u001b[0m Trial 84 finished with value: 0.22669163780128673 and parameters: {'n_estimators': 160, 'max_depth': 8, 'min_samples_split': 4, 'max_features': 4}. Best is trial 64 with value: 0.22528315805627686.\u001b[0m\n",
      "\u001b[32m[I 2023-07-14 11:15:20,689]\u001b[0m Trial 85 finished with value: 0.2259071042880607 and parameters: {'n_estimators': 140, 'max_depth': 9, 'min_samples_split': 4, 'max_features': 4}. Best is trial 64 with value: 0.22528315805627686.\u001b[0m\n",
      "\u001b[32m[I 2023-07-14 11:15:22,671]\u001b[0m Trial 86 finished with value: 0.22669163780128673 and parameters: {'n_estimators': 160, 'max_depth': 8, 'min_samples_split': 4, 'max_features': 4}. Best is trial 64 with value: 0.22528315805627686.\u001b[0m\n",
      "\u001b[32m[I 2023-07-14 11:15:24,595]\u001b[0m Trial 87 finished with value: 0.22557956815863217 and parameters: {'n_estimators': 160, 'max_depth': 9, 'min_samples_split': 4, 'max_features': 4}. Best is trial 64 with value: 0.22528315805627686.\u001b[0m\n",
      "\u001b[32m[I 2023-07-14 11:15:26,733]\u001b[0m Trial 88 finished with value: 0.2267476541639478 and parameters: {'n_estimators': 140, 'max_depth': 9, 'min_samples_split': 3, 'max_features': 4}. Best is trial 64 with value: 0.22528315805627686.\u001b[0m\n",
      "\u001b[32m[I 2023-07-14 11:15:29,484]\u001b[0m Trial 89 finished with value: 0.22669163780128673 and parameters: {'n_estimators': 160, 'max_depth': 8, 'min_samples_split': 4, 'max_features': 4}. Best is trial 64 with value: 0.22528315805627686.\u001b[0m\n",
      "\u001b[32m[I 2023-07-14 11:15:32,623]\u001b[0m Trial 90 finished with value: 0.2276525384465103 and parameters: {'n_estimators': 160, 'max_depth': 9, 'min_samples_split': 4, 'max_features': 5}. Best is trial 64 with value: 0.22528315805627686.\u001b[0m\n",
      "\u001b[32m[I 2023-07-14 11:15:35,635]\u001b[0m Trial 91 finished with value: 0.22557956815863217 and parameters: {'n_estimators': 160, 'max_depth': 9, 'min_samples_split': 4, 'max_features': 4}. Best is trial 64 with value: 0.22528315805627686.\u001b[0m\n",
      "\u001b[32m[I 2023-07-14 11:15:38,470]\u001b[0m Trial 92 finished with value: 0.22557956815863217 and parameters: {'n_estimators': 160, 'max_depth': 9, 'min_samples_split': 4, 'max_features': 4}. Best is trial 64 with value: 0.22528315805627686.\u001b[0m\n",
      "\u001b[32m[I 2023-07-14 11:15:40,700]\u001b[0m Trial 93 finished with value: 0.22557956815863217 and parameters: {'n_estimators': 160, 'max_depth': 9, 'min_samples_split': 4, 'max_features': 4}. Best is trial 64 with value: 0.22528315805627686.\u001b[0m\n",
      "\u001b[32m[I 2023-07-14 11:15:42,396]\u001b[0m Trial 94 finished with value: 0.2266274206167982 and parameters: {'n_estimators': 120, 'max_depth': 9, 'min_samples_split': 4, 'max_features': 4}. Best is trial 64 with value: 0.22528315805627686.\u001b[0m\n",
      "\u001b[32m[I 2023-07-14 11:15:44,006]\u001b[0m Trial 95 finished with value: 0.2259071042880607 and parameters: {'n_estimators': 140, 'max_depth': 9, 'min_samples_split': 4, 'max_features': 4}. Best is trial 64 with value: 0.22528315805627686.\u001b[0m\n",
      "\u001b[32m[I 2023-07-14 11:15:45,484]\u001b[0m Trial 96 finished with value: 0.22668952001863824 and parameters: {'n_estimators': 140, 'max_depth': 8, 'min_samples_split': 4, 'max_features': 4}. Best is trial 64 with value: 0.22528315805627686.\u001b[0m\n",
      "\u001b[32m[I 2023-07-14 11:15:47,408]\u001b[0m Trial 97 finished with value: 0.22614198452335085 and parameters: {'n_estimators': 160, 'max_depth': 9, 'min_samples_split': 3, 'max_features': 4}. Best is trial 64 with value: 0.22528315805627686.\u001b[0m\n",
      "\u001b[32m[I 2023-07-14 11:15:49,465]\u001b[0m Trial 98 finished with value: 0.22557956815863217 and parameters: {'n_estimators': 160, 'max_depth': 9, 'min_samples_split': 4, 'max_features': 4}. Best is trial 64 with value: 0.22528315805627686.\u001b[0m\n",
      "\u001b[32m[I 2023-07-14 11:15:50,924]\u001b[0m Trial 99 finished with value: 0.22668952001863824 and parameters: {'n_estimators': 140, 'max_depth': 8, 'min_samples_split': 4, 'max_features': 4}. Best is trial 64 with value: 0.22528315805627686.\u001b[0m\n"
     ]
    },
    {
     "name": "stdout",
     "output_type": "stream",
     "text": [
      "\n",
      "The best hyperparameters for RF Regressor: {'n_estimators': 160, 'max_depth': 10, 'min_samples_split': 5, 'max_features': 4}\n",
      "\n",
      "MAE of the best Random Forest Regressor: Training data 0.124\n",
      "MAE of the best Random Forest Regressor: Test data 0.244\n"
     ]
    },
    {
     "data": {
      "image/png": "[encoded data removed]",
      "text/plain": [
       "<Figure size 432x288 with 1 Axes>"
      ]
     },
     "metadata": {
      "needs_background": "light"
     },
     "output_type": "display_data"
    }
   ],
   "source": [
    "# A smaller value of n_trials can be used to run the code faster\n",
    "best_model_log, final_model_train_data_log, final_model_full_data_log = RF_training_with_display(X_log,y_log, test_size = 0.15, n_trials = 100)"
   ]
  },
  {
   "cell_type": "markdown",
   "metadata": {},
   "source": [
    "### Displaying predicted masses based on the model that was trained on log(M)"
   ]
  },
  {
   "cell_type": "code",
   "execution_count": 31,
   "metadata": {},
   "outputs": [
    {
     "data": {
      "text/plain": [
       "<matplotlib.legend.Legend at 0x7f95a91ca5e0>"
      ]
     },
     "execution_count": 31,
     "metadata": {},
     "output_type": "execute_result"
    },
    {
     "data": {
      "image/png": "[encoded data removed]",
      "text/plain": [
       "<Figure size 720x504 with 1 Axes>"
      ]
     },
     "metadata": {
      "needs_background": "light"
     },
     "output_type": "display_data"
    }
   ],
   "source": [
    "M_predict = np.power(10,final_model_train_data_log.predict(nea_R_final_table))\n",
    "\n",
    "fig = plt.figure(figsize = (10,7))\n",
    "ax = plt.subplot(1,1, 1)\n",
    "MR_plot(ax, nea_MR_final_table.pl_bmasse, nea_MR_final_table.pl_rade, color = 'gray', label = 'Observed')\n",
    "MR_plot(ax, M_predict, nea_R_final_table.pl_rade, color = 'black', xscale = 'log', yscale = 'log', label = 'Predicted')\n",
    "plt.legend(loc = 'best')\n"
   ]
  },
  {
   "cell_type": "markdown",
   "metadata": {},
   "source": [
    "### Overall, the distributions seem to be comparable"
   ]
  },
  {
   "cell_type": "markdown",
   "metadata": {},
   "source": [
    "# The final code \"mr_pl.py\"\n",
    "\n",
    "This is the code that one can run to predict masses from R"
   ]
  },
  {
   "cell_type": "code",
   "execution_count": 30,
   "metadata": {},
   "outputs": [
    {
     "data": {
      "text/plain": [
       "<matplotlib.legend.Legend at 0x7f95a9336940>"
      ]
     },
     "execution_count": 30,
     "metadata": {},
     "output_type": "execute_result"
    },
    {
     "data": {
      "image/png": "[encoded data removed]",
      "text/plain": [
       "<Figure size 720x504 with 1 Axes>"
      ]
     },
     "metadata": {
      "needs_background": "light"
     },
     "output_type": "display_data"
    }
   ],
   "source": [
    "M_pred = mass_from_radius(nea_R_final_table, training = False)\n",
    "fig = plt.figure(figsize = (10,7))\n",
    "ax = plt.subplot(1,1, 1)\n",
    "MR_plot(ax, nea_MR_final_table.pl_bmasse, nea_MR_final_table.pl_rade, color = 'gray', label = 'Observed')\n",
    "MR_plot(ax, M_pred, nea_R_final_table.pl_rade, color = 'black', xscale = 'log', yscale = 'log', label = 'Predicted')\n",
    "plt.legend(loc = 'best')"
   ]
  }
 ],
 "metadata": {
  "kernelspec": {
   "display_name": "Python 3",
   "language": "python",
   "name": "python3"
  },
  "language_info": {
   "codemirror_mode": {
    "name": "ipython",
    "version": 3
   },
   "file_extension": ".py",
   "mimetype": "text/x-python",
   "name": "python",
   "nbconvert_exporter": "python",
   "pygments_lexer": "ipython3",
   "version": "3.8.10"
  },
  "orig_nbformat": 4
 },
 "nbformat": 4,
 "nbformat_minor": 2
}
