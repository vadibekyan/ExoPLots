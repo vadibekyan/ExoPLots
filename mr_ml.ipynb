{
 "cells": [
  {
   "attachments": {},
   "cell_type": "markdown",
   "metadata": {},
   "source": [
    "## Importing the libraries and seting the paths"
   ]
  },
  {
   "cell_type": "code",
   "execution_count": 1,
   "metadata": {},
   "outputs": [
    {
     "name": "stderr",
     "output_type": "stream",
     "text": [
      "c:\\Users\\adbva\\OneDrive\\codes_for_presentations\\exoplanet_visualization\\ExoPLots\\utils.py:52: DtypeWarning: Columns (65) have mixed types. Specify dtype option on import or set low_memory=False.\n",
      "  nea_full_table = pd.read_csv(table_directory)\n",
      "c:\\Users\\adbva\\OneDrive\\codes_for_presentations\\exoplanet_visualization\\ExoPLots\\utils.py:52: DtypeWarning: Columns (65) have mixed types. Specify dtype option on import or set low_memory=False.\n",
      "  nea_full_table = pd.read_csv(table_directory)\n",
      "c:\\Users\\adbva\\OneDrive\\codes_for_presentations\\exoplanet_visualization\\ExoPLots\\mr_utils.py:261: SettingWithCopyWarning: \n",
      "A value is trying to be set on a copy of a slice from a DataFrame.\n",
      "Try using .loc[row_indexer,col_indexer] = value instead\n",
      "\n",
      "See the caveats in the documentation: https://pandas.pydata.org/pandas-docs/stable/user_guide/indexing.html#returning-a-view-versus-a-copy\n",
      "  nea_with_M_and_R_cleaned['Teq'] = 0\n",
      "c:\\Users\\adbva\\OneDrive\\codes_for_presentations\\exoplanet_visualization\\ExoPLots\\mr_utils.py:314: SettingWithCopyWarning: \n",
      "A value is trying to be set on a copy of a slice from a DataFrame.\n",
      "Try using .loc[row_indexer,col_indexer] = value instead\n",
      "\n",
      "See the caveats in the documentation: https://pandas.pydata.org/pandas-docs/stable/user_guide/indexing.html#returning-a-view-versus-a-copy\n",
      "  nea_with_R_cleaned['Teq'] = 0\n"
     ]
    }
   ],
   "source": [
    "from utils import open_nea_table, download_nea_table\n",
    "from mass_year import mass_vs_year_plot, planet_discovery_stat\n",
    "import pandas as pd\n",
    "import numpy as np\n",
    "import os\n",
    "import sys\n",
    "from datetime import date\n",
    "import math\n",
    "\n",
    "from mr_utils import a_from_P, Teq_from_teff_v_plx_a, Teq_from_teff_v_plx_P, teq_hellper_function, a_from_P, MR_plot, creating_R_ML_table\n",
    "\n",
    "from mr_ml_utils import score_dataset, optuna_RF_Reg, modified_learning_curve, RF_training_with_display\n",
    "from m_from_r import mass_from_radius"
   ]
  },
  {
   "attachments": {},
   "cell_type": "markdown",
   "metadata": {},
   "source": [
    "If needed to update the NEA table then first run  \"download_nea_table\""
   ]
  },
  {
   "cell_type": "code",
   "execution_count": 2,
   "metadata": {},
   "outputs": [],
   "source": [
    "#download_nea_table()"
   ]
  },
  {
   "cell_type": "code",
   "execution_count": 3,
   "metadata": {},
   "outputs": [
    {
     "name": "stderr",
     "output_type": "stream",
     "text": [
      "c:\\Users\\adbva\\OneDrive\\codes_for_presentations\\exoplanet_visualization\\ExoPLots\\utils.py:52: DtypeWarning: Columns (65) have mixed types. Specify dtype option on import or set low_memory=False.\n",
      "  nea_full_table = pd.read_csv(table_directory)\n"
     ]
    },
    {
     "data": {
      "text/html": [
       "<div>\n",
       "<style scoped>\n",
       "    .dataframe tbody tr th:only-of-type {\n",
       "        vertical-align: middle;\n",
       "    }\n",
       "\n",
       "    .dataframe tbody tr th {\n",
       "        vertical-align: top;\n",
       "    }\n",
       "\n",
       "    .dataframe thead th {\n",
       "        text-align: right;\n",
       "    }\n",
       "</style>\n",
       "<table border=\"1\" class=\"dataframe\">\n",
       "  <thead>\n",
       "    <tr style=\"text-align: right;\">\n",
       "      <th></th>\n",
       "      <th>pl_name</th>\n",
       "      <th>pl_letter</th>\n",
       "      <th>hostname</th>\n",
       "      <th>hd_name</th>\n",
       "      <th>hip_name</th>\n",
       "      <th>tic_id</th>\n",
       "      <th>gaia_id</th>\n",
       "      <th>default_flag</th>\n",
       "      <th>pl_refname</th>\n",
       "      <th>sy_refname</th>\n",
       "      <th>...</th>\n",
       "      <th>sy_jmagerr1</th>\n",
       "      <th>sy_jmagerr2</th>\n",
       "      <th>sy_jmagstr</th>\n",
       "      <th>sy_hmag</th>\n",
       "      <th>sy_hmagerr1</th>\n",
       "      <th>sy_hmagerr2</th>\n",
       "      <th>sy_hmagstr</th>\n",
       "      <th>sy_kmag</th>\n",
       "      <th>sy_kmagerr1</th>\n",
       "      <th>sy_kmagerr2</th>\n",
       "    </tr>\n",
       "  </thead>\n",
       "  <tbody>\n",
       "    <tr>\n",
       "      <th>0</th>\n",
       "      <td>OGLE-TR-10 b</td>\n",
       "      <td>b</td>\n",
       "      <td>OGLE-TR-10</td>\n",
       "      <td>NaN</td>\n",
       "      <td>NaN</td>\n",
       "      <td>TIC 130150682</td>\n",
       "      <td>Gaia DR2 4056443366649948160</td>\n",
       "      <td>1</td>\n",
       "      <td>&lt;a refstr=TORRES_ET_AL__2008 href=https://ui.a...</td>\n",
       "      <td>&lt;a refstr=STASSUN_ET_AL__2019 href=https://ui....</td>\n",
       "      <td>...</td>\n",
       "      <td>NaN</td>\n",
       "      <td>NaN</td>\n",
       "      <td>13.692</td>\n",
       "      <td>13.314</td>\n",
       "      <td>0.121</td>\n",
       "      <td>-0.121</td>\n",
       "      <td>13.314&amp;plusmn;0.121</td>\n",
       "      <td>12.856</td>\n",
       "      <td>NaN</td>\n",
       "      <td>NaN</td>\n",
       "    </tr>\n",
       "    <tr>\n",
       "      <th>1</th>\n",
       "      <td>BD-08 2823 c</td>\n",
       "      <td>c</td>\n",
       "      <td>BD-08 2823</td>\n",
       "      <td>NaN</td>\n",
       "      <td>HIP 49067</td>\n",
       "      <td>TIC 33355302</td>\n",
       "      <td>Gaia DR2 3770419611540574080</td>\n",
       "      <td>1</td>\n",
       "      <td>&lt;a refstr=HEBRARD_ET_AL__2010 href=https://ui....</td>\n",
       "      <td>&lt;a refstr=STASSUN_ET_AL__2019 href=https://ui....</td>\n",
       "      <td>...</td>\n",
       "      <td>0.020</td>\n",
       "      <td>-0.020</td>\n",
       "      <td>7.96&amp;plusmn;0.02</td>\n",
       "      <td>7.498</td>\n",
       "      <td>0.047</td>\n",
       "      <td>-0.047</td>\n",
       "      <td>7.498&amp;plusmn;0.047</td>\n",
       "      <td>7.323</td>\n",
       "      <td>0.021</td>\n",
       "      <td>-0.021</td>\n",
       "    </tr>\n",
       "    <tr>\n",
       "      <th>2</th>\n",
       "      <td>HR 8799 c</td>\n",
       "      <td>c</td>\n",
       "      <td>HR 8799</td>\n",
       "      <td>HD 218396</td>\n",
       "      <td>HIP 114189</td>\n",
       "      <td>TIC 245368902</td>\n",
       "      <td>Gaia DR2 2832463659640297472</td>\n",
       "      <td>1</td>\n",
       "      <td>&lt;a refstr=MAROIS_ET_AL__2008 href=https://ui.a...</td>\n",
       "      <td>&lt;a refstr=STASSUN_ET_AL__2019 href=https://ui....</td>\n",
       "      <td>...</td>\n",
       "      <td>0.027</td>\n",
       "      <td>-0.027</td>\n",
       "      <td>5.383&amp;plusmn;0.027</td>\n",
       "      <td>5.280</td>\n",
       "      <td>0.018</td>\n",
       "      <td>-0.018</td>\n",
       "      <td>5.280&amp;plusmn;0.018</td>\n",
       "      <td>5.240</td>\n",
       "      <td>0.018</td>\n",
       "      <td>-0.018</td>\n",
       "    </tr>\n",
       "  </tbody>\n",
       "</table>\n",
       "<p>3 rows × 353 columns</p>\n",
       "</div>"
      ],
      "text/plain": [
       "        pl_name pl_letter    hostname    hd_name    hip_name         tic_id  \\\n",
       "0  OGLE-TR-10 b         b  OGLE-TR-10        NaN         NaN  TIC 130150682   \n",
       "1  BD-08 2823 c         c  BD-08 2823        NaN   HIP 49067   TIC 33355302   \n",
       "2     HR 8799 c         c     HR 8799  HD 218396  HIP 114189  TIC 245368902   \n",
       "\n",
       "                        gaia_id  default_flag  \\\n",
       "0  Gaia DR2 4056443366649948160             1   \n",
       "1  Gaia DR2 3770419611540574080             1   \n",
       "2  Gaia DR2 2832463659640297472             1   \n",
       "\n",
       "                                          pl_refname  \\\n",
       "0  <a refstr=TORRES_ET_AL__2008 href=https://ui.a...   \n",
       "1  <a refstr=HEBRARD_ET_AL__2010 href=https://ui....   \n",
       "2  <a refstr=MAROIS_ET_AL__2008 href=https://ui.a...   \n",
       "\n",
       "                                          sy_refname  ... sy_jmagerr1  \\\n",
       "0  <a refstr=STASSUN_ET_AL__2019 href=https://ui....  ...         NaN   \n",
       "1  <a refstr=STASSUN_ET_AL__2019 href=https://ui....  ...       0.020   \n",
       "2  <a refstr=STASSUN_ET_AL__2019 href=https://ui....  ...       0.027   \n",
       "\n",
       "   sy_jmagerr2          sy_jmagstr sy_hmag sy_hmagerr1 sy_hmagerr2  \\\n",
       "0          NaN              13.692  13.314       0.121      -0.121   \n",
       "1       -0.020    7.96&plusmn;0.02   7.498       0.047      -0.047   \n",
       "2       -0.027  5.383&plusmn;0.027   5.280       0.018      -0.018   \n",
       "\n",
       "            sy_hmagstr sy_kmag  sy_kmagerr1 sy_kmagerr2  \n",
       "0  13.314&plusmn;0.121  12.856          NaN         NaN  \n",
       "1   7.498&plusmn;0.047   7.323        0.021      -0.021  \n",
       "2   5.280&plusmn;0.018   5.240        0.018      -0.018  \n",
       "\n",
       "[3 rows x 353 columns]"
      ]
     },
     "execution_count": 3,
     "metadata": {},
     "output_type": "execute_result"
    }
   ],
   "source": [
    "nea_full_table = open_nea_table()\n",
    "nea_full_table.head(3)"
   ]
  },
  {
   "attachments": {},
   "cell_type": "markdown",
   "metadata": {},
   "source": [
    "## Selecting columns that are relevant for the ML analysis. \n",
    "\n",
    "Equilibrium temperature is important for the radius of hot planets. This parameter will be estimated from the luminosity of the star and the distance of the planet from the star. Luminosity will also be determined here."
   ]
  },
  {
   "cell_type": "code",
   "execution_count": 4,
   "metadata": {},
   "outputs": [],
   "source": [
    "relevant_columns = ['pl_rade', 'pl_radeerr1', 'pl_radeerr2', 'pl_orbsmax', 'pl_bmasse', 'pl_masseerr1', 'pl_masseerr2', 'pl_orbper',  'sy_vmag', 'sy_plx', 'st_teff', 'st_mass', 'st_met']\n",
    "nea_relevant = nea_full_table[relevant_columns]\n"
   ]
  },
  {
   "attachments": {},
   "cell_type": "markdown",
   "metadata": {},
   "source": [
    "Selecting planets with Mass and Radius measurements for ML"
   ]
  },
  {
   "cell_type": "code",
   "execution_count": 5,
   "metadata": {},
   "outputs": [
    {
     "name": "stdout",
     "output_type": "stream",
     "text": [
      "There are 1121 planets with mass and radius measurements\n"
     ]
    },
    {
     "data": {
      "text/html": [
       "<div>\n",
       "<style scoped>\n",
       "    .dataframe tbody tr th:only-of-type {\n",
       "        vertical-align: middle;\n",
       "    }\n",
       "\n",
       "    .dataframe tbody tr th {\n",
       "        vertical-align: top;\n",
       "    }\n",
       "\n",
       "    .dataframe thead th {\n",
       "        text-align: right;\n",
       "    }\n",
       "</style>\n",
       "<table border=\"1\" class=\"dataframe\">\n",
       "  <thead>\n",
       "    <tr style=\"text-align: right;\">\n",
       "      <th></th>\n",
       "      <th>pl_rade</th>\n",
       "      <th>pl_radeerr1</th>\n",
       "      <th>pl_radeerr2</th>\n",
       "      <th>pl_orbsmax</th>\n",
       "      <th>pl_bmasse</th>\n",
       "      <th>pl_masseerr1</th>\n",
       "      <th>pl_masseerr2</th>\n",
       "      <th>pl_orbper</th>\n",
       "      <th>sy_vmag</th>\n",
       "      <th>sy_plx</th>\n",
       "      <th>st_teff</th>\n",
       "      <th>st_mass</th>\n",
       "      <th>st_met</th>\n",
       "    </tr>\n",
       "  </thead>\n",
       "  <tbody>\n",
       "    <tr>\n",
       "      <th>count</th>\n",
       "      <td>1121.000000</td>\n",
       "      <td>1097.000000</td>\n",
       "      <td>1097.000000</td>\n",
       "      <td>878.000000</td>\n",
       "      <td>1121.000000</td>\n",
       "      <td>997.000000</td>\n",
       "      <td>997.000000</td>\n",
       "      <td>1.106000e+03</td>\n",
       "      <td>1118.000000</td>\n",
       "      <td>1093.000000</td>\n",
       "      <td>1029.000000</td>\n",
       "      <td>1099.000000</td>\n",
       "      <td>946.000000</td>\n",
       "    </tr>\n",
       "    <tr>\n",
       "      <th>mean</th>\n",
       "      <td>8.920726</td>\n",
       "      <td>0.658813</td>\n",
       "      <td>-0.571374</td>\n",
       "      <td>17.160517</td>\n",
       "      <td>420.030847</td>\n",
       "      <td>62.531148</td>\n",
       "      <td>-58.983919</td>\n",
       "      <td>3.763113e+05</td>\n",
       "      <td>12.263198</td>\n",
       "      <td>9.316416</td>\n",
       "      <td>5500.237318</td>\n",
       "      <td>1.007607</td>\n",
       "      <td>0.050680</td>\n",
       "    </tr>\n",
       "    <tr>\n",
       "      <th>std</th>\n",
       "      <td>6.087014</td>\n",
       "      <td>1.020060</td>\n",
       "      <td>0.797187</td>\n",
       "      <td>272.583333</td>\n",
       "      <td>960.867372</td>\n",
       "      <td>243.031013</td>\n",
       "      <td>228.914651</td>\n",
       "      <td>1.209112e+07</td>\n",
       "      <td>2.177996</td>\n",
       "      <td>17.915702</td>\n",
       "      <td>1353.519686</td>\n",
       "      <td>0.342385</td>\n",
       "      <td>0.196025</td>\n",
       "    </tr>\n",
       "    <tr>\n",
       "      <th>min</th>\n",
       "      <td>0.310000</td>\n",
       "      <td>0.006000</td>\n",
       "      <td>-6.730000</td>\n",
       "      <td>0.006000</td>\n",
       "      <td>0.070000</td>\n",
       "      <td>0.012000</td>\n",
       "      <td>-4767.450000</td>\n",
       "      <td>2.401040e-01</td>\n",
       "      <td>5.569110</td>\n",
       "      <td>-0.149186</td>\n",
       "      <td>575.000000</td>\n",
       "      <td>0.010000</td>\n",
       "      <td>-0.580000</td>\n",
       "    </tr>\n",
       "    <tr>\n",
       "      <th>25%</th>\n",
       "      <td>2.607000</td>\n",
       "      <td>0.112000</td>\n",
       "      <td>-0.684000</td>\n",
       "      <td>0.038155</td>\n",
       "      <td>10.100000</td>\n",
       "      <td>2.100000</td>\n",
       "      <td>-41.317900</td>\n",
       "      <td>3.003277e+00</td>\n",
       "      <td>11.000250</td>\n",
       "      <td>1.948610</td>\n",
       "      <td>5052.000000</td>\n",
       "      <td>0.830000</td>\n",
       "      <td>-0.070000</td>\n",
       "    </tr>\n",
       "    <tr>\n",
       "      <th>50%</th>\n",
       "      <td>10.368000</td>\n",
       "      <td>0.336000</td>\n",
       "      <td>-0.325000</td>\n",
       "      <td>0.054010</td>\n",
       "      <td>123.953700</td>\n",
       "      <td>14.937000</td>\n",
       "      <td>-14.302000</td>\n",
       "      <td>4.603155e+00</td>\n",
       "      <td>12.246000</td>\n",
       "      <td>3.535580</td>\n",
       "      <td>5625.000000</td>\n",
       "      <td>1.000000</td>\n",
       "      <td>0.060000</td>\n",
       "    </tr>\n",
       "    <tr>\n",
       "      <th>75%</th>\n",
       "      <td>13.787000</td>\n",
       "      <td>0.785000</td>\n",
       "      <td>-0.110000</td>\n",
       "      <td>0.101175</td>\n",
       "      <td>379.000000</td>\n",
       "      <td>43.223000</td>\n",
       "      <td>-2.000000</td>\n",
       "      <td>1.189179e+01</td>\n",
       "      <td>13.688000</td>\n",
       "      <td>8.107340</td>\n",
       "      <td>6011.000000</td>\n",
       "      <td>1.180000</td>\n",
       "      <td>0.190000</td>\n",
       "    </tr>\n",
       "    <tr>\n",
       "      <th>max</th>\n",
       "      <td>33.600000</td>\n",
       "      <td>10.536000</td>\n",
       "      <td>0.000000</td>\n",
       "      <td>7506.000000</td>\n",
       "      <td>9534.900000</td>\n",
       "      <td>4767.450000</td>\n",
       "      <td>-0.012000</td>\n",
       "      <td>4.020000e+08</td>\n",
       "      <td>20.154400</td>\n",
       "      <td>153.081000</td>\n",
       "      <td>27730.000000</td>\n",
       "      <td>2.780000</td>\n",
       "      <td>0.522000</td>\n",
       "    </tr>\n",
       "  </tbody>\n",
       "</table>\n",
       "</div>"
      ],
      "text/plain": [
       "           pl_rade  pl_radeerr1  pl_radeerr2   pl_orbsmax    pl_bmasse  \\\n",
       "count  1121.000000  1097.000000  1097.000000   878.000000  1121.000000   \n",
       "mean      8.920726     0.658813    -0.571374    17.160517   420.030847   \n",
       "std       6.087014     1.020060     0.797187   272.583333   960.867372   \n",
       "min       0.310000     0.006000    -6.730000     0.006000     0.070000   \n",
       "25%       2.607000     0.112000    -0.684000     0.038155    10.100000   \n",
       "50%      10.368000     0.336000    -0.325000     0.054010   123.953700   \n",
       "75%      13.787000     0.785000    -0.110000     0.101175   379.000000   \n",
       "max      33.600000    10.536000     0.000000  7506.000000  9534.900000   \n",
       "\n",
       "       pl_masseerr1  pl_masseerr2     pl_orbper      sy_vmag       sy_plx  \\\n",
       "count    997.000000    997.000000  1.106000e+03  1118.000000  1093.000000   \n",
       "mean      62.531148    -58.983919  3.763113e+05    12.263198     9.316416   \n",
       "std      243.031013    228.914651  1.209112e+07     2.177996    17.915702   \n",
       "min        0.012000  -4767.450000  2.401040e-01     5.569110    -0.149186   \n",
       "25%        2.100000    -41.317900  3.003277e+00    11.000250     1.948610   \n",
       "50%       14.937000    -14.302000  4.603155e+00    12.246000     3.535580   \n",
       "75%       43.223000     -2.000000  1.189179e+01    13.688000     8.107340   \n",
       "max     4767.450000     -0.012000  4.020000e+08    20.154400   153.081000   \n",
       "\n",
       "            st_teff      st_mass      st_met  \n",
       "count   1029.000000  1099.000000  946.000000  \n",
       "mean    5500.237318     1.007607    0.050680  \n",
       "std     1353.519686     0.342385    0.196025  \n",
       "min      575.000000     0.010000   -0.580000  \n",
       "25%     5052.000000     0.830000   -0.070000  \n",
       "50%     5625.000000     1.000000    0.060000  \n",
       "75%     6011.000000     1.180000    0.190000  \n",
       "max    27730.000000     2.780000    0.522000  "
      ]
     },
     "execution_count": 5,
     "metadata": {},
     "output_type": "execute_result"
    }
   ],
   "source": [
    "nea_with_M_and_R = nea_relevant[(nea_relevant.pl_bmasse > 0) & (nea_relevant.pl_rade > 0) ].reset_index(drop=True) # reset index, drop old ones\n",
    "\n",
    "print (f'There are {len(nea_with_M_and_R)} planets with mass and radius measurements')\n",
    "\n",
    "nea_with_M_and_R.describe()"
   ]
  },
  {
   "attachments": {},
   "cell_type": "markdown",
   "metadata": {},
   "source": [
    "There seem to be star(s) with negative parallaxes. They must be removed fromthe sample"
   ]
  },
  {
   "cell_type": "code",
   "execution_count": 6,
   "metadata": {},
   "outputs": [],
   "source": [
    "nea_with_M_and_R = nea_with_M_and_R[nea_with_M_and_R.sy_plx > 0]"
   ]
  },
  {
   "attachments": {},
   "cell_type": "markdown",
   "metadata": {},
   "source": [
    "To calculate Teq, one needs Luminosity (us such, Teff, Vmag, and Plx) and semimajor axis (or orbital period ond Mstar)"
   ]
  },
  {
   "cell_type": "code",
   "execution_count": 7,
   "metadata": {},
   "outputs": [
    {
     "data": {
      "text/plain": [
       "pl_rade           0\n",
       "pl_radeerr1      22\n",
       "pl_radeerr2      22\n",
       "pl_orbsmax      242\n",
       "pl_bmasse         0\n",
       "pl_masseerr1    122\n",
       "pl_masseerr2    122\n",
       "pl_orbper        13\n",
       "sy_vmag           0\n",
       "sy_plx            0\n",
       "st_teff          89\n",
       "st_mass          20\n",
       "st_met          160\n",
       "dtype: int64"
      ]
     },
     "execution_count": 7,
     "metadata": {},
     "output_type": "execute_result"
    }
   ],
   "source": [
    "#check how many nan values have in each column\n",
    "nea_with_M_and_R.isna().sum()"
   ]
  },
  {
   "attachments": {},
   "cell_type": "markdown",
   "metadata": {},
   "source": [
    "There are 235 missing entries for semimajor axis. This parameter can be estimated from the stellar mass and orbital period.\n",
    "\n",
    "Next, all the rows containing nan values will be removed, except if the nan is in the \"pl_orbsmax\" column"
   ]
  },
  {
   "cell_type": "code",
   "execution_count": 8,
   "metadata": {},
   "outputs": [
    {
     "data": {
      "text/plain": [
       "pl_rade           0\n",
       "pl_radeerr1       0\n",
       "pl_radeerr2       0\n",
       "pl_orbsmax      159\n",
       "pl_bmasse         0\n",
       "pl_masseerr1      0\n",
       "pl_masseerr2      0\n",
       "pl_orbper         0\n",
       "sy_vmag           0\n",
       "sy_plx            0\n",
       "st_teff           0\n",
       "st_mass           0\n",
       "st_met            0\n",
       "dtype: int64"
      ]
     },
     "execution_count": 8,
     "metadata": {},
     "output_type": "execute_result"
    }
   ],
   "source": [
    "nea_with_M_and_R_cleaned = nea_with_M_and_R.dropna(subset=nea_with_M_and_R.columns.drop(['pl_orbsmax']))\n",
    "# Check results\n",
    "nea_with_M_and_R_cleaned.isna().sum()\n"
   ]
  },
  {
   "cell_type": "code",
   "execution_count": 9,
   "metadata": {},
   "outputs": [
    {
     "name": "stdout",
     "output_type": "stream",
     "text": [
      "There are 822 planets for the ML analysis\n"
     ]
    },
    {
     "data": {
      "text/html": [
       "<div>\n",
       "<style scoped>\n",
       "    .dataframe tbody tr th:only-of-type {\n",
       "        vertical-align: middle;\n",
       "    }\n",
       "\n",
       "    .dataframe tbody tr th {\n",
       "        vertical-align: top;\n",
       "    }\n",
       "\n",
       "    .dataframe thead th {\n",
       "        text-align: right;\n",
       "    }\n",
       "</style>\n",
       "<table border=\"1\" class=\"dataframe\">\n",
       "  <thead>\n",
       "    <tr style=\"text-align: right;\">\n",
       "      <th></th>\n",
       "      <th>pl_rade</th>\n",
       "      <th>pl_radeerr1</th>\n",
       "      <th>pl_radeerr2</th>\n",
       "      <th>pl_orbsmax</th>\n",
       "      <th>pl_bmasse</th>\n",
       "      <th>pl_masseerr1</th>\n",
       "      <th>pl_masseerr2</th>\n",
       "      <th>pl_orbper</th>\n",
       "      <th>sy_vmag</th>\n",
       "      <th>sy_plx</th>\n",
       "      <th>st_teff</th>\n",
       "      <th>st_mass</th>\n",
       "      <th>st_met</th>\n",
       "    </tr>\n",
       "  </thead>\n",
       "  <tbody>\n",
       "    <tr>\n",
       "      <th>4</th>\n",
       "      <td>16.870</td>\n",
       "      <td>0.560</td>\n",
       "      <td>-0.504</td>\n",
       "      <td>0.0535</td>\n",
       "      <td>271.74465</td>\n",
       "      <td>22.88376</td>\n",
       "      <td>-21.93027</td>\n",
       "      <td>3.899052</td>\n",
       "      <td>12.006</td>\n",
       "      <td>1.73126</td>\n",
       "      <td>5941.0</td>\n",
       "      <td>1.34</td>\n",
       "      <td>0.164</td>\n",
       "    </tr>\n",
       "    <tr>\n",
       "      <th>5</th>\n",
       "      <td>21.633</td>\n",
       "      <td>5.044</td>\n",
       "      <td>-5.044</td>\n",
       "      <td>NaN</td>\n",
       "      <td>352.79130</td>\n",
       "      <td>171.62820</td>\n",
       "      <td>-171.62820</td>\n",
       "      <td>2.175180</td>\n",
       "      <td>11.965</td>\n",
       "      <td>1.29679</td>\n",
       "      <td>6100.0</td>\n",
       "      <td>1.87</td>\n",
       "      <td>-0.350</td>\n",
       "    </tr>\n",
       "    <tr>\n",
       "      <th>6</th>\n",
       "      <td>12.722</td>\n",
       "      <td>0.538</td>\n",
       "      <td>-0.538</td>\n",
       "      <td>0.0466</td>\n",
       "      <td>180.84527</td>\n",
       "      <td>7.31009</td>\n",
       "      <td>-6.99226</td>\n",
       "      <td>3.652815</td>\n",
       "      <td>13.146</td>\n",
       "      <td>3.30091</td>\n",
       "      <td>5519.0</td>\n",
       "      <td>1.01</td>\n",
       "      <td>0.294</td>\n",
       "    </tr>\n",
       "  </tbody>\n",
       "</table>\n",
       "</div>"
      ],
      "text/plain": [
       "   pl_rade  pl_radeerr1  pl_radeerr2  pl_orbsmax  pl_bmasse  pl_masseerr1  \\\n",
       "4   16.870        0.560       -0.504      0.0535  271.74465      22.88376   \n",
       "5   21.633        5.044       -5.044         NaN  352.79130     171.62820   \n",
       "6   12.722        0.538       -0.538      0.0466  180.84527       7.31009   \n",
       "\n",
       "   pl_masseerr2  pl_orbper  sy_vmag   sy_plx  st_teff  st_mass  st_met  \n",
       "4     -21.93027   3.899052   12.006  1.73126   5941.0     1.34   0.164  \n",
       "5    -171.62820   2.175180   11.965  1.29679   6100.0     1.87  -0.350  \n",
       "6      -6.99226   3.652815   13.146  3.30091   5519.0     1.01   0.294  "
      ]
     },
     "execution_count": 9,
     "metadata": {},
     "output_type": "execute_result"
    }
   ],
   "source": [
    "print (f'There are {len(nea_with_M_and_R_cleaned)} planets for the ML analysis')\n",
    "nea_with_M_and_R_cleaned.head(3)"
   ]
  },
  {
   "attachments": {},
   "cell_type": "markdown",
   "metadata": {},
   "source": [
    "Calculating semimajor axis from Period and stellar mass, for the missing \"a\" entries"
   ]
  },
  {
   "cell_type": "code",
   "execution_count": 10,
   "metadata": {},
   "outputs": [],
   "source": [
    "for i in range(len(nea_with_M_and_R_cleaned)):\n",
    "    if np.isnan(nea_with_M_and_R_cleaned.iloc[i]['pl_orbsmax']):\n",
    "        nea_with_M_and_R_cleaned.iloc[i]['pl_orbsmax'] = a_from_P(nea_with_M_and_R_cleaned.iloc[i]['st_mass'], nea_with_M_and_R_cleaned.iloc[i]['pl_orbper'])\n"
   ]
  },
  {
   "attachments": {},
   "cell_type": "markdown",
   "metadata": {},
   "source": [
    "Calculating Teq from \"a\" or \"P\" "
   ]
  },
  {
   "attachments": {},
   "cell_type": "markdown",
   "metadata": {},
   "source": [
    "Use teq_hellper_function function to determine Teq from \"a\" or \"P\" depending on their availability. Priority is given to \"a\""
   ]
  },
  {
   "cell_type": "code",
   "execution_count": 11,
   "metadata": {},
   "outputs": [
    {
     "name": "stderr",
     "output_type": "stream",
     "text": [
      "C:\\Users\\adbva\\AppData\\Local\\Temp\\ipykernel_21924\\293283582.py:2: SettingWithCopyWarning: \n",
      "A value is trying to be set on a copy of a slice from a DataFrame.\n",
      "Try using .loc[row_indexer,col_indexer] = value instead\n",
      "\n",
      "See the caveats in the documentation: https://pandas.pydata.org/pandas-docs/stable/user_guide/indexing.html#returning-a-view-versus-a-copy\n",
      "  nea_with_M_and_R_cleaned['Teq'] = 0\n"
     ]
    }
   ],
   "source": [
    "# Add new columns: Teq\n",
    "nea_with_M_and_R_cleaned['Teq'] = 0\n",
    "\n",
    "nea_with_M_and_R_cleaned = nea_with_M_and_R_cleaned.apply(lambda x: teq_hellper_function(x, 'pl_orbsmax', 'pl_orbper', 'st_teff', 'sy_vmag', 'sy_plx', 'st_mass', 'Teq'), axis = 1)"
   ]
  },
  {
   "cell_type": "code",
   "execution_count": 12,
   "metadata": {},
   "outputs": [
    {
     "data": {
      "text/html": [
       "<div>\n",
       "<style scoped>\n",
       "    .dataframe tbody tr th:only-of-type {\n",
       "        vertical-align: middle;\n",
       "    }\n",
       "\n",
       "    .dataframe tbody tr th {\n",
       "        vertical-align: top;\n",
       "    }\n",
       "\n",
       "    .dataframe thead th {\n",
       "        text-align: right;\n",
       "    }\n",
       "</style>\n",
       "<table border=\"1\" class=\"dataframe\">\n",
       "  <thead>\n",
       "    <tr style=\"text-align: right;\">\n",
       "      <th></th>\n",
       "      <th>pl_rade</th>\n",
       "      <th>pl_radeerr1</th>\n",
       "      <th>pl_radeerr2</th>\n",
       "      <th>pl_orbsmax</th>\n",
       "      <th>pl_bmasse</th>\n",
       "      <th>pl_masseerr1</th>\n",
       "      <th>pl_masseerr2</th>\n",
       "      <th>pl_orbper</th>\n",
       "      <th>sy_vmag</th>\n",
       "      <th>sy_plx</th>\n",
       "      <th>st_teff</th>\n",
       "      <th>st_mass</th>\n",
       "      <th>st_met</th>\n",
       "      <th>Teq</th>\n",
       "    </tr>\n",
       "  </thead>\n",
       "  <tbody>\n",
       "    <tr>\n",
       "      <th>555</th>\n",
       "      <td>21.196</td>\n",
       "      <td>0.684</td>\n",
       "      <td>-0.594</td>\n",
       "      <td>0.03462</td>\n",
       "      <td>915.35040</td>\n",
       "      <td>266.97720</td>\n",
       "      <td>-266.97720</td>\n",
       "      <td>1.481124e+00</td>\n",
       "      <td>7.55000</td>\n",
       "      <td>4.86254</td>\n",
       "      <td>10170.0</td>\n",
       "      <td>2.52</td>\n",
       "      <td>-0.03</td>\n",
       "      <td>0.0</td>\n",
       "    </tr>\n",
       "    <tr>\n",
       "      <th>711</th>\n",
       "      <td>20.288</td>\n",
       "      <td>1.009</td>\n",
       "      <td>-1.009</td>\n",
       "      <td>0.05580</td>\n",
       "      <td>527.59780</td>\n",
       "      <td>38.13960</td>\n",
       "      <td>-38.13960</td>\n",
       "      <td>3.344829e+00</td>\n",
       "      <td>9.94600</td>\n",
       "      <td>2.31187</td>\n",
       "      <td>9360.0</td>\n",
       "      <td>2.07</td>\n",
       "      <td>0.21</td>\n",
       "      <td>0.0</td>\n",
       "    </tr>\n",
       "    <tr>\n",
       "      <th>717</th>\n",
       "      <td>18.147</td>\n",
       "      <td>0.235</td>\n",
       "      <td>-0.235</td>\n",
       "      <td>0.05053</td>\n",
       "      <td>632.47853</td>\n",
       "      <td>50.85255</td>\n",
       "      <td>-44.49598</td>\n",
       "      <td>2.724033e+00</td>\n",
       "      <td>6.59776</td>\n",
       "      <td>9.99903</td>\n",
       "      <td>8000.0</td>\n",
       "      <td>2.03</td>\n",
       "      <td>0.29</td>\n",
       "      <td>0.0</td>\n",
       "    </tr>\n",
       "    <tr>\n",
       "      <th>1069</th>\n",
       "      <td>12.442</td>\n",
       "      <td>0.336</td>\n",
       "      <td>-0.336</td>\n",
       "      <td>7506.00000</td>\n",
       "      <td>2002.31896</td>\n",
       "      <td>476.74261</td>\n",
       "      <td>-603.87397</td>\n",
       "      <td>4.020000e+08</td>\n",
       "      <td>11.29800</td>\n",
       "      <td>91.82910</td>\n",
       "      <td>3406.0</td>\n",
       "      <td>0.37</td>\n",
       "      <td>0.00</td>\n",
       "      <td>1.0</td>\n",
       "    </tr>\n",
       "  </tbody>\n",
       "</table>\n",
       "</div>"
      ],
      "text/plain": [
       "      pl_rade  pl_radeerr1  pl_radeerr2  pl_orbsmax   pl_bmasse  pl_masseerr1  \\\n",
       "555    21.196        0.684       -0.594     0.03462   915.35040     266.97720   \n",
       "711    20.288        1.009       -1.009     0.05580   527.59780      38.13960   \n",
       "717    18.147        0.235       -0.235     0.05053   632.47853      50.85255   \n",
       "1069   12.442        0.336       -0.336  7506.00000  2002.31896     476.74261   \n",
       "\n",
       "      pl_masseerr2     pl_orbper   sy_vmag    sy_plx  st_teff  st_mass  \\\n",
       "555     -266.97720  1.481124e+00   7.55000   4.86254  10170.0     2.52   \n",
       "711      -38.13960  3.344829e+00   9.94600   2.31187   9360.0     2.07   \n",
       "717      -44.49598  2.724033e+00   6.59776   9.99903   8000.0     2.03   \n",
       "1069    -603.87397  4.020000e+08  11.29800  91.82910   3406.0     0.37   \n",
       "\n",
       "      st_met  Teq  \n",
       "555    -0.03  0.0  \n",
       "711     0.21  0.0  \n",
       "717     0.29  0.0  \n",
       "1069    0.00  1.0  "
      ]
     },
     "metadata": {},
     "output_type": "display_data"
    },
    {
     "name": "stdout",
     "output_type": "stream",
     "text": [
      "None\n"
     ]
    }
   ],
   "source": [
    "# very 'cool' planets\n",
    "print (display(nea_with_M_and_R_cleaned[nea_with_M_and_R_cleaned.Teq < 100]))\n",
    "\n",
    "#Some of the parameters used to calculate the Teq must be wrong. These objects should be removed\n",
    "\n",
    "nea_with_M_and_R_cleaned = nea_with_M_and_R_cleaned[nea_with_M_and_R_cleaned.Teq > 10]"
   ]
  },
  {
   "attachments": {},
   "cell_type": "markdown",
   "metadata": {},
   "source": [
    "### Selecting plaents with relatively high precision in Mass and Radius"
   ]
  },
  {
   "cell_type": "code",
   "execution_count": 13,
   "metadata": {},
   "outputs": [],
   "source": [
    "# calculating the mean errors of M and R\n",
    "nea_with_M_and_R_cleaned['pl_rade_err'] = (nea_with_M_and_R_cleaned['pl_radeerr1'] - nea_with_M_and_R_cleaned['pl_radeerr2'])/2\n",
    "nea_with_M_and_R_cleaned['pl_bmasse_err'] = (nea_with_M_and_R_cleaned['pl_masseerr1'] - nea_with_M_and_R_cleaned['pl_masseerr2'])/2"
   ]
  },
  {
   "cell_type": "code",
   "execution_count": 14,
   "metadata": {},
   "outputs": [
    {
     "name": "stdout",
     "output_type": "stream",
     "text": [
      "There are 781 precisely characterized planets in terms of Mass and Radius\n"
     ]
    }
   ],
   "source": [
    "M_threshold = 0.5\n",
    "R_threshold = 0.5\n",
    "precise_criteria = (nea_with_M_and_R_cleaned['pl_rade_err']/nea_with_M_and_R_cleaned['pl_rade'] < R_threshold) & (nea_with_M_and_R_cleaned['pl_bmasse_err']/nea_with_M_and_R_cleaned['pl_bmasse'] < M_threshold)\n",
    "nea_with_M_and_R_cleaned_accurate = nea_with_M_and_R_cleaned[precise_criteria]\n",
    "\n",
    "print (f'There are {len(nea_with_M_and_R_cleaned_accurate)} precisely characterized planets in terms of Mass and Radius')"
   ]
  },
  {
   "cell_type": "code",
   "execution_count": 15,
   "metadata": {},
   "outputs": [
    {
     "data": {
      "text/html": [
       "<div>\n",
       "<style scoped>\n",
       "    .dataframe tbody tr th:only-of-type {\n",
       "        vertical-align: middle;\n",
       "    }\n",
       "\n",
       "    .dataframe tbody tr th {\n",
       "        vertical-align: top;\n",
       "    }\n",
       "\n",
       "    .dataframe thead th {\n",
       "        text-align: right;\n",
       "    }\n",
       "</style>\n",
       "<table border=\"1\" class=\"dataframe\">\n",
       "  <thead>\n",
       "    <tr style=\"text-align: right;\">\n",
       "      <th></th>\n",
       "      <th>pl_rade</th>\n",
       "      <th>pl_bmasse</th>\n",
       "      <th>Teq</th>\n",
       "      <th>st_teff</th>\n",
       "      <th>pl_orbsmax</th>\n",
       "      <th>st_met</th>\n",
       "    </tr>\n",
       "  </thead>\n",
       "  <tbody>\n",
       "    <tr>\n",
       "      <th>4</th>\n",
       "      <td>16.870</td>\n",
       "      <td>271.74465</td>\n",
       "      <td>1744.0</td>\n",
       "      <td>5941.0</td>\n",
       "      <td>0.053500</td>\n",
       "      <td>0.164</td>\n",
       "    </tr>\n",
       "    <tr>\n",
       "      <th>5</th>\n",
       "      <td>21.633</td>\n",
       "      <td>352.79130</td>\n",
       "      <td>5466.0</td>\n",
       "      <td>6100.0</td>\n",
       "      <td>0.007337</td>\n",
       "      <td>-0.350</td>\n",
       "    </tr>\n",
       "  </tbody>\n",
       "</table>\n",
       "</div>"
      ],
      "text/plain": [
       "   pl_rade  pl_bmasse     Teq  st_teff  pl_orbsmax  st_met\n",
       "4   16.870  271.74465  1744.0   5941.0    0.053500   0.164\n",
       "5   21.633  352.79130  5466.0   6100.0    0.007337  -0.350"
      ]
     },
     "execution_count": 15,
     "metadata": {},
     "output_type": "execute_result"
    }
   ],
   "source": [
    "# Final table with Mass, Radius, and Teq\n",
    "nea_MR_final_table = nea_with_M_and_R_cleaned_accurate[['pl_rade', 'pl_bmasse', 'Teq', 'st_teff', 'pl_orbsmax', 'st_met']]\n",
    "nea_MR_final_table.head(2)"
   ]
  },
  {
   "attachments": {},
   "cell_type": "markdown",
   "metadata": {},
   "source": [
    "# Starting the Machine Learning part"
   ]
  },
  {
   "attachments": {},
   "cell_type": "markdown",
   "metadata": {},
   "source": [
    "Since the accuracy of Mass estimation is not critical, I'll make things simple (but still keeping the state-of-the-art): \n",
    "\n",
    "Use Random Forest regressor and tune HyperParameters with \"optuna\" (sometimes better than grid_search see e.g. [this](https://medium.com/mlearning-ai/hyper-parameter-tuning-through-grid-search-and-optuna-2bd89a2ece06)"
   ]
  },
  {
   "cell_type": "code",
   "execution_count": 16,
   "metadata": {},
   "outputs": [],
   "source": [
    "import matplotlib.pyplot as plt\n",
    "import seaborn as sns\n",
    "%matplotlib inline"
   ]
  },
  {
   "attachments": {},
   "cell_type": "markdown",
   "metadata": {},
   "source": [
    "### Displaying the data"
   ]
  },
  {
   "cell_type": "code",
   "execution_count": 17,
   "metadata": {},
   "outputs": [
    {
     "data": {
      "image/png": "[encoded data removed]",
      "text/plain": [
       "<Figure size 800x600 with 1 Axes>"
      ]
     },
     "metadata": {},
     "output_type": "display_data"
    }
   ],
   "source": [
    "fig = plt.figure(1, figsize = (8,6))\n",
    "ax = plt.subplot(1,1,1)\n",
    "MR_plot(ax, nea_MR_final_table.pl_bmasse, nea_MR_final_table.pl_rade, color = nea_MR_final_table['Teq'], label = 'MR data')"
   ]
  },
  {
   "cell_type": "code",
   "execution_count": 18,
   "metadata": {},
   "outputs": [
    {
     "name": "stderr",
     "output_type": "stream",
     "text": [
      "C:\\Users\\adbva\\AppData\\Local\\Temp\\ipykernel_21924\\2611939965.py:5: MatplotlibDeprecationWarning: Auto-removal of overlapping axes is deprecated since 3.6 and will be removed two minor releases later; explicitly call ax.remove() as needed.\n",
      "  ax = plt.subplot(1, 6, i+1)\n"
     ]
    },
    {
     "data": {
      "image/png": "[encoded data removed]",
      "text/plain": [
       "<Figure size 2000x600 with 6 Axes>"
      ]
     },
     "metadata": {},
     "output_type": "display_data"
    }
   ],
   "source": [
    "fig = plt.figure(2, figsize = (20,6))\n",
    "ax = plt.gca()\n",
    "\n",
    "for i, col  in enumerate(nea_MR_final_table.columns):\n",
    "    ax = plt.subplot(1, 6, i+1)\n",
    "    if nea_MR_final_table[col].max() / nea_MR_final_table[col].min() > 1e3:\n",
    "        ax.hist(np.log10(nea_MR_final_table[col]))\n",
    "        ax.set_xlabel(f'log10({col})', fontsize = 15)\n",
    "    else:\n",
    "        ax.hist((nea_MR_final_table[col]))\n",
    "        ax.set_xlabel(col, fontsize = 15)"
   ]
  },
  {
   "cell_type": "markdown",
   "metadata": {},
   "source": [
    "Some of the parameters, including planetary Masses, have very wide distribution. Several parameters do not show symmetric distribution"
   ]
  },
  {
   "cell_type": "code",
   "execution_count": 19,
   "metadata": {},
   "outputs": [],
   "source": [
    "from sklearn.model_selection import train_test_split, cross_val_score, learning_curve, GridSearchCV\n",
    "from sklearn.metrics import mean_squared_error, mean_absolute_error\n",
    "\n",
    "from sklearn.ensemble import RandomForestRegressor"
   ]
  },
  {
   "cell_type": "markdown",
   "metadata": {},
   "source": [
    "Selecting our target variable ( y = planetary mass) and the input features (X =[Teff, metallicity, radius, orbital semi-major axis, Teq])"
   ]
  },
  {
   "cell_type": "code",
   "execution_count": 20,
   "metadata": {},
   "outputs": [],
   "source": [
    "y = nea_MR_final_table['pl_bmasse']\n",
    "X = nea_MR_final_table.drop(columns = ['pl_bmasse'])"
   ]
  },
  {
   "cell_type": "markdown",
   "metadata": {},
   "source": [
    "### Looking for Multicollinearity among input features"
   ]
  },
  {
   "cell_type": "code",
   "execution_count": 21,
   "metadata": {},
   "outputs": [
    {
     "data": {
      "image/png": "[encoded data removed]",
      "text/plain": [
       "<Figure size 640x480 with 1 Axes>"
      ]
     },
     "metadata": {},
     "output_type": "display_data"
    }
   ],
   "source": [
    "sns.heatmap(X.corr(),annot=True,fmt=\"0.1f\",cbar=False,mask=np.triu(X.corr()));"
   ]
  },
  {
   "cell_type": "markdown",
   "metadata": {},
   "source": [
    "There is no strong correlation between the features. The strongest one is between Teq and Teff which is expected as Teq is derived from Teff... This might not nessesarly be a problem - [see here](https://corporatefinanceinstitute.com/resources/data-science/variance-inflation-factor-vif/#:~:text=Generally%2C%20a%20VIF%20above%204,that%20needs%20to%20be%20corrected)."
   ]
  },
  {
   "cell_type": "code",
   "execution_count": 22,
   "metadata": {},
   "outputs": [
    {
     "name": "stdout",
     "output_type": "stream",
     "text": [
      "pl_rade: 5.5\n",
      "Teq: 4.8\n",
      "st_teff: 8.0\n",
      "pl_orbsmax: 1.5\n",
      "st_met: 1.2\n"
     ]
    }
   ],
   "source": [
    "from statsmodels.stats.outliers_influence import variance_inflation_factor\n",
    "\n",
    "X_vif  = X.copy()\n",
    "vif =  [variance_inflation_factor(X_vif.values, i) for i in range(X_vif.shape[1])]\n",
    "for i, col in enumerate(X_vif.columns):\n",
    "    print (f'{col}: {vif[i]:.1f}')"
   ]
  },
  {
   "cell_type": "markdown",
   "metadata": {},
   "source": [
    "### Tuning the hyperparameters using Optuna and fitting the data"
   ]
  },
  {
   "cell_type": "code",
   "execution_count": 23,
   "metadata": {},
   "outputs": [
    {
     "name": "stdout",
     "output_type": "stream",
     "text": [
      "The base MAE score from the training set is 242\n"
     ]
    },
    {
     "name": "stderr",
     "output_type": "stream",
     "text": [
      "[I 2023-07-24 21:53:31,693] A new study created in memory with name: no-name-c1002247-efeb-431e-a96b-2b97bbe7b274\n",
      "[I 2023-07-24 21:53:32,775] Trial 0 finished with value: 242.85308370321846 and parameters: {'n_estimators': 20, 'max_depth': 41, 'min_samples_split': 11, 'max_features': 4}. Best is trial 0 with value: 242.85308370321846.\n",
      "[I 2023-07-24 21:53:41,802] Trial 1 finished with value: 241.7107942607011 and parameters: {'n_estimators': 160, 'max_depth': 19, 'min_samples_split': 2, 'max_features': 4}. Best is trial 1 with value: 241.7107942607011.\n",
      "[I 2023-07-24 21:53:43,643] Trial 2 finished with value: 243.17117956414012 and parameters: {'n_estimators': 60, 'max_depth': 37, 'min_samples_split': 4, 'max_features': 2}. Best is trial 1 with value: 241.7107942607011.\n",
      "[I 2023-07-24 21:53:45,631] Trial 3 finished with value: 246.19082089309504 and parameters: {'n_estimators': 100, 'max_depth': 46, 'min_samples_split': 41, 'max_features': 2}. Best is trial 1 with value: 241.7107942607011.\n",
      "[I 2023-07-24 21:53:46,834] Trial 4 finished with value: 239.76976843248832 and parameters: {'n_estimators': 60, 'max_depth': 16, 'min_samples_split': 28, 'max_features': 4}. Best is trial 4 with value: 239.76976843248832.\n",
      "[I 2023-07-24 21:53:47,806] Trial 5 finished with value: 243.7697998704169 and parameters: {'n_estimators': 60, 'max_depth': 13, 'min_samples_split': 50, 'max_features': 3}. Best is trial 4 with value: 239.76976843248832.\n",
      "[I 2023-07-24 21:53:48,952] Trial 6 finished with value: 240.11531193282218 and parameters: {'n_estimators': 80, 'max_depth': 32, 'min_samples_split': 46, 'max_features': 4}. Best is trial 4 with value: 239.76976843248832.\n",
      "[I 2023-07-24 21:53:50,404] Trial 7 finished with value: 239.96673131627176 and parameters: {'n_estimators': 60, 'max_depth': 35, 'min_samples_split': 12, 'max_features': 4}. Best is trial 4 with value: 239.76976843248832.\n",
      "[I 2023-07-24 21:53:50,990] Trial 8 finished with value: 247.42074981914078 and parameters: {'n_estimators': 40, 'max_depth': 40, 'min_samples_split': 45, 'max_features': 2}. Best is trial 4 with value: 239.76976843248832.\n",
      "[I 2023-07-24 21:53:57,002] Trial 9 finished with value: 243.16076357631468 and parameters: {'n_estimators': 160, 'max_depth': 36, 'min_samples_split': 10, 'max_features': 5}. Best is trial 4 with value: 239.76976843248832.\n",
      "[I 2023-07-24 21:53:59,462] Trial 10 finished with value: 248.15880770058757 and parameters: {'n_estimators': 120, 'max_depth': 3, 'min_samples_split': 28, 'max_features': 5}. Best is trial 4 with value: 239.76976843248832.\n",
      "[I 2023-07-24 21:54:00,026] Trial 11 finished with value: 245.96753844657377 and parameters: {'n_estimators': 20, 'max_depth': 24, 'min_samples_split': 24, 'max_features': 3}. Best is trial 4 with value: 239.76976843248832.\n",
      "[I 2023-07-24 21:54:02,121] Trial 12 finished with value: 239.74465350608315 and parameters: {'n_estimators': 80, 'max_depth': 12, 'min_samples_split': 24, 'max_features': 4}. Best is trial 12 with value: 239.74465350608315.\n",
      "[I 2023-07-24 21:54:05,088] Trial 13 finished with value: 240.4736594434865 and parameters: {'n_estimators': 100, 'max_depth': 11, 'min_samples_split': 28, 'max_features': 5}. Best is trial 12 with value: 239.74465350608315.\n",
      "[I 2023-07-24 21:54:06,108] Trial 14 finished with value: 259.4649733653295 and parameters: {'n_estimators': 80, 'max_depth': 2, 'min_samples_split': 22, 'max_features': 3}. Best is trial 12 with value: 239.74465350608315.\n",
      "[I 2023-07-24 21:54:08,771] Trial 15 finished with value: 238.83324019415105 and parameters: {'n_estimators': 120, 'max_depth': 14, 'min_samples_split': 35, 'max_features': 4}. Best is trial 15 with value: 238.83324019415105.\n",
      "[I 2023-07-24 21:54:11,189] Trial 16 finished with value: 242.7117156322725 and parameters: {'n_estimators': 120, 'max_depth': 9, 'min_samples_split': 35, 'max_features': 3}. Best is trial 15 with value: 238.83324019415105.\n",
      "[I 2023-07-24 21:54:15,025] Trial 17 finished with value: 239.2818735242251 and parameters: {'n_estimators': 140, 'max_depth': 25, 'min_samples_split': 37, 'max_features': 5}. Best is trial 15 with value: 238.83324019415105.\n",
      "[I 2023-07-24 21:54:20,976] Trial 18 finished with value: 239.2818735242251 and parameters: {'n_estimators': 140, 'max_depth': 27, 'min_samples_split': 37, 'max_features': 5}. Best is trial 15 with value: 238.83324019415105.\n",
      "[I 2023-07-24 21:54:27,210] Trial 19 finished with value: 239.53202600333034 and parameters: {'n_estimators': 140, 'max_depth': 22, 'min_samples_split': 34, 'max_features': 5}. Best is trial 15 with value: 238.83324019415105.\n",
      "[I 2023-07-24 21:54:34,366] Trial 20 finished with value: 239.90858132230636 and parameters: {'n_estimators': 140, 'max_depth': 50, 'min_samples_split': 18, 'max_features': 5}. Best is trial 15 with value: 238.83324019415105.\n",
      "[I 2023-07-24 21:54:40,848] Trial 21 finished with value: 239.29171267433549 and parameters: {'n_estimators': 140, 'max_depth': 30, 'min_samples_split': 35, 'max_features': 5}. Best is trial 15 with value: 238.83324019415105.\n",
      "[I 2023-07-24 21:54:46,664] Trial 22 finished with value: 239.21099483487177 and parameters: {'n_estimators': 120, 'max_depth': 28, 'min_samples_split': 40, 'max_features': 5}. Best is trial 15 with value: 238.83324019415105.\n",
      "[I 2023-07-24 21:54:51,238] Trial 23 finished with value: 239.19216435827175 and parameters: {'n_estimators': 120, 'max_depth': 20, 'min_samples_split': 41, 'max_features': 5}. Best is trial 15 with value: 238.83324019415105.\n",
      "[I 2023-07-24 21:54:55,694] Trial 24 finished with value: 239.78542266521976 and parameters: {'n_estimators': 120, 'max_depth': 20, 'min_samples_split': 42, 'max_features': 4}. Best is trial 15 with value: 238.83324019415105.\n",
      "[I 2023-07-24 21:55:00,520] Trial 25 finished with value: 239.74115830482614 and parameters: {'n_estimators': 100, 'max_depth': 18, 'min_samples_split': 31, 'max_features': 5}. Best is trial 15 with value: 238.83324019415105.\n",
      "[I 2023-07-24 21:55:04,435] Trial 26 finished with value: 241.2506124862478 and parameters: {'n_estimators': 120, 'max_depth': 7, 'min_samples_split': 42, 'max_features': 4}. Best is trial 15 with value: 238.83324019415105.\n",
      "[I 2023-07-24 21:55:08,153] Trial 27 finished with value: 240.73823265500536 and parameters: {'n_estimators': 120, 'max_depth': 28, 'min_samples_split': 49, 'max_features': 5}. Best is trial 15 with value: 238.83324019415105.\n",
      "[I 2023-07-24 21:55:11,553] Trial 28 finished with value: 238.8298997667684 and parameters: {'n_estimators': 100, 'max_depth': 15, 'min_samples_split': 40, 'max_features': 5}. Best is trial 28 with value: 238.8298997667684.\n",
      "[I 2023-07-24 21:55:14,328] Trial 29 finished with value: 239.05025264272467 and parameters: {'n_estimators': 100, 'max_depth': 16, 'min_samples_split': 32, 'max_features': 4}. Best is trial 28 with value: 238.8298997667684.\n",
      "[I 2023-07-24 21:55:17,077] Trial 30 finished with value: 239.4071464686725 and parameters: {'n_estimators': 100, 'max_depth': 16, 'min_samples_split': 33, 'max_features': 4}. Best is trial 28 with value: 238.8298997667684.\n",
      "[I 2023-07-24 21:55:19,849] Trial 31 finished with value: 238.6802284814912 and parameters: {'n_estimators': 100, 'max_depth': 14, 'min_samples_split': 39, 'max_features': 4}. Best is trial 31 with value: 238.6802284814912.\n",
      "[I 2023-07-24 21:55:22,089] Trial 32 finished with value: 241.64340534264497 and parameters: {'n_estimators': 100, 'max_depth': 7, 'min_samples_split': 31, 'max_features': 4}. Best is trial 31 with value: 238.6802284814912.\n",
      "[I 2023-07-24 21:55:24,115] Trial 33 finished with value: 239.28252004235668 and parameters: {'n_estimators': 80, 'max_depth': 15, 'min_samples_split': 38, 'max_features': 4}. Best is trial 31 with value: 238.6802284814912.\n",
      "[I 2023-07-24 21:55:25,808] Trial 34 finished with value: 245.85730150823292 and parameters: {'n_estimators': 100, 'max_depth': 5, 'min_samples_split': 45, 'max_features': 3}. Best is trial 31 with value: 238.6802284814912.\n",
      "[I 2023-07-24 21:55:29,050] Trial 35 finished with value: 239.03109145822776 and parameters: {'n_estimators': 80, 'max_depth': 10, 'min_samples_split': 31, 'max_features': 4}. Best is trial 31 with value: 238.6802284814912.\n",
      "[I 2023-07-24 21:55:31,042] Trial 36 finished with value: 238.90576937158465 and parameters: {'n_estimators': 80, 'max_depth': 11, 'min_samples_split': 39, 'max_features': 4}. Best is trial 31 with value: 238.6802284814912.\n",
      "[I 2023-07-24 21:55:32,064] Trial 37 finished with value: 240.39264682250936 and parameters: {'n_estimators': 40, 'max_depth': 14, 'min_samples_split': 39, 'max_features': 3}. Best is trial 31 with value: 238.6802284814912.\n",
      "[I 2023-07-24 21:55:34,001] Trial 38 finished with value: 240.5651580914876 and parameters: {'n_estimators': 80, 'max_depth': 18, 'min_samples_split': 44, 'max_features': 4}. Best is trial 31 with value: 238.6802284814912.\n",
      "[I 2023-07-24 21:55:35,272] Trial 39 finished with value: 240.93728847989306 and parameters: {'n_estimators': 60, 'max_depth': 8, 'min_samples_split': 47, 'max_features': 4}. Best is trial 31 with value: 238.6802284814912.\n",
      "[I 2023-07-24 21:55:36,460] Trial 40 finished with value: 238.30504707454787 and parameters: {'n_estimators': 60, 'max_depth': 12, 'min_samples_split': 36, 'max_features': 3}. Best is trial 40 with value: 238.30504707454787.\n",
      "[I 2023-07-24 21:55:37,968] Trial 41 finished with value: 238.43581862061288 and parameters: {'n_estimators': 60, 'max_depth': 13, 'min_samples_split': 36, 'max_features': 3}. Best is trial 40 with value: 238.30504707454787.\n",
      "[I 2023-07-24 21:55:39,205] Trial 42 finished with value: 238.47677056505228 and parameters: {'n_estimators': 40, 'max_depth': 13, 'min_samples_split': 36, 'max_features': 3}. Best is trial 40 with value: 238.30504707454787.\n",
      "[I 2023-07-24 21:55:40,391] Trial 43 finished with value: 253.12266194703415 and parameters: {'n_estimators': 40, 'max_depth': 5, 'min_samples_split': 43, 'max_features': 2}. Best is trial 40 with value: 238.30504707454787.\n",
      "[I 2023-07-24 21:55:41,147] Trial 44 finished with value: 239.04400741813365 and parameters: {'n_estimators': 20, 'max_depth': 22, 'min_samples_split': 37, 'max_features': 3}. Best is trial 40 with value: 238.30504707454787.\n",
      "[I 2023-07-24 21:55:43,335] Trial 45 finished with value: 246.6334057562361 and parameters: {'n_estimators': 60, 'max_depth': 13, 'min_samples_split': 29, 'max_features': 2}. Best is trial 40 with value: 238.30504707454787.\n",
      "[I 2023-07-24 21:55:44,978] Trial 46 finished with value: 243.86863054665181 and parameters: {'n_estimators': 40, 'max_depth': 17, 'min_samples_split': 19, 'max_features': 3}. Best is trial 40 with value: 238.30504707454787.\n",
      "[I 2023-07-24 21:55:46,100] Trial 47 finished with value: 245.0251783723058 and parameters: {'n_estimators': 40, 'max_depth': 12, 'min_samples_split': 48, 'max_features': 3}. Best is trial 40 with value: 238.30504707454787.\n",
      "[I 2023-07-24 21:55:47,450] Trial 48 finished with value: 244.3587078248685 and parameters: {'n_estimators': 60, 'max_depth': 4, 'min_samples_split': 5, 'max_features': 3}. Best is trial 40 with value: 238.30504707454787.\n",
      "[I 2023-07-24 21:55:48,378] Trial 49 finished with value: 243.28672880531212 and parameters: {'n_estimators': 20, 'max_depth': 23, 'min_samples_split': 26, 'max_features': 3}. Best is trial 40 with value: 238.30504707454787.\n"
     ]
    },
    {
     "data": {
      "application/vnd.plotly.v1+json": {
       "config": {
        "plotlyServerURL": "https://plot.ly"
       },
       "data": [
        {
         "cliponaxis": false,
         "hovertemplate": [
          "n_estimators (IntDistribution): 0.045174452226254894<extra></extra>",
          "min_samples_split (IntDistribution): 0.11152008940165556<extra></extra>",
          "max_features (IntDistribution): 0.298698111356826<extra></extra>",
          "max_depth (IntDistribution): 0.5446073470152636<extra></extra>"
         ],
         "marker": {
          "color": "rgb(66,146,198)"
         },
         "orientation": "h",
         "text": [
          "0.05",
          "0.11",
          "0.30",
          "0.54"
         ],
         "textposition": "outside",
         "type": "bar",
         "x": [
          0.045174452226254894,
          0.11152008940165556,
          0.298698111356826,
          0.5446073470152636
         ],
         "y": [
          "n_estimators",
          "min_samples_split",
          "max_features",
          "max_depth"
         ]
        }
       ],
       "layout": {
        "showlegend": false,
        "template": {
         "data": {
          "bar": [
           {
            "error_x": {
             "color": "#2a3f5f"
            },
            "error_y": {
             "color": "#2a3f5f"
            },
            "marker": {
             "line": {
              "color": "#E5ECF6",
              "width": 0.5
             },
             "pattern": {
              "fillmode": "overlay",
              "size": 10,
              "solidity": 0.2
             }
            },
            "type": "bar"
           }
          ],
          "barpolar": [
           {
            "marker": {
             "line": {
              "color": "#E5ECF6",
              "width": 0.5
             },
             "pattern": {
              "fillmode": "overlay",
              "size": 10,
              "solidity": 0.2
             }
            },
            "type": "barpolar"
           }
          ],
          "carpet": [
           {
            "aaxis": {
             "endlinecolor": "#2a3f5f",
             "gridcolor": "white",
             "linecolor": "white",
             "minorgridcolor": "white",
             "startlinecolor": "#2a3f5f"
            },
            "baxis": {
             "endlinecolor": "#2a3f5f",
             "gridcolor": "white",
             "linecolor": "white",
             "minorgridcolor": "white",
             "startlinecolor": "#2a3f5f"
            },
            "type": "carpet"
           }
          ],
          "choropleth": [
           {
            "colorbar": {
             "outlinewidth": 0,
             "ticks": ""
            },
            "type": "choropleth"
           }
          ],
          "contour": [
           {
            "colorbar": {
             "outlinewidth": 0,
             "ticks": ""
            },
            "colorscale": [
             [
              0,
              "#0d0887"
             ],
             [
              0.1111111111111111,
              "#46039f"
             ],
             [
              0.2222222222222222,
              "#7201a8"
             ],
             [
              0.3333333333333333,
              "#9c179e"
             ],
             [
              0.4444444444444444,
              "#bd3786"
             ],
             [
              0.5555555555555556,
              "#d8576b"
             ],
             [
              0.6666666666666666,
              "#ed7953"
             ],
             [
              0.7777777777777778,
              "#fb9f3a"
             ],
             [
              0.8888888888888888,
              "#fdca26"
             ],
             [
              1,
              "#f0f921"
             ]
            ],
            "type": "contour"
           }
          ],
          "contourcarpet": [
           {
            "colorbar": {
             "outlinewidth": 0,
             "ticks": ""
            },
            "type": "contourcarpet"
           }
          ],
          "heatmap": [
           {
            "colorbar": {
             "outlinewidth": 0,
             "ticks": ""
            },
            "colorscale": [
             [
              0,
              "#0d0887"
             ],
             [
              0.1111111111111111,
              "#46039f"
             ],
             [
              0.2222222222222222,
              "#7201a8"
             ],
             [
              0.3333333333333333,
              "#9c179e"
             ],
             [
              0.4444444444444444,
              "#bd3786"
             ],
             [
              0.5555555555555556,
              "#d8576b"
             ],
             [
              0.6666666666666666,
              "#ed7953"
             ],
             [
              0.7777777777777778,
              "#fb9f3a"
             ],
             [
              0.8888888888888888,
              "#fdca26"
             ],
             [
              1,
              "#f0f921"
             ]
            ],
            "type": "heatmap"
           }
          ],
          "heatmapgl": [
           {
            "colorbar": {
             "outlinewidth": 0,
             "ticks": ""
            },
            "colorscale": [
             [
              0,
              "#0d0887"
             ],
             [
              0.1111111111111111,
              "#46039f"
             ],
             [
              0.2222222222222222,
              "#7201a8"
             ],
             [
              0.3333333333333333,
              "#9c179e"
             ],
             [
              0.4444444444444444,
              "#bd3786"
             ],
             [
              0.5555555555555556,
              "#d8576b"
             ],
             [
              0.6666666666666666,
              "#ed7953"
             ],
             [
              0.7777777777777778,
              "#fb9f3a"
             ],
             [
              0.8888888888888888,
              "#fdca26"
             ],
             [
              1,
              "#f0f921"
             ]
            ],
            "type": "heatmapgl"
           }
          ],
          "histogram": [
           {
            "marker": {
             "pattern": {
              "fillmode": "overlay",
              "size": 10,
              "solidity": 0.2
             }
            },
            "type": "histogram"
           }
          ],
          "histogram2d": [
           {
            "colorbar": {
             "outlinewidth": 0,
             "ticks": ""
            },
            "colorscale": [
             [
              0,
              "#0d0887"
             ],
             [
              0.1111111111111111,
              "#46039f"
             ],
             [
              0.2222222222222222,
              "#7201a8"
             ],
             [
              0.3333333333333333,
              "#9c179e"
             ],
             [
              0.4444444444444444,
              "#bd3786"
             ],
             [
              0.5555555555555556,
              "#d8576b"
             ],
             [
              0.6666666666666666,
              "#ed7953"
             ],
             [
              0.7777777777777778,
              "#fb9f3a"
             ],
             [
              0.8888888888888888,
              "#fdca26"
             ],
             [
              1,
              "#f0f921"
             ]
            ],
            "type": "histogram2d"
           }
          ],
          "histogram2dcontour": [
           {
            "colorbar": {
             "outlinewidth": 0,
             "ticks": ""
            },
            "colorscale": [
             [
              0,
              "#0d0887"
             ],
             [
              0.1111111111111111,
              "#46039f"
             ],
             [
              0.2222222222222222,
              "#7201a8"
             ],
             [
              0.3333333333333333,
              "#9c179e"
             ],
             [
              0.4444444444444444,
              "#bd3786"
             ],
             [
              0.5555555555555556,
              "#d8576b"
             ],
             [
              0.6666666666666666,
              "#ed7953"
             ],
             [
              0.7777777777777778,
              "#fb9f3a"
             ],
             [
              0.8888888888888888,
              "#fdca26"
             ],
             [
              1,
              "#f0f921"
             ]
            ],
            "type": "histogram2dcontour"
           }
          ],
          "mesh3d": [
           {
            "colorbar": {
             "outlinewidth": 0,
             "ticks": ""
            },
            "type": "mesh3d"
           }
          ],
          "parcoords": [
           {
            "line": {
             "colorbar": {
              "outlinewidth": 0,
              "ticks": ""
             }
            },
            "type": "parcoords"
           }
          ],
          "pie": [
           {
            "automargin": true,
            "type": "pie"
           }
          ],
          "scatter": [
           {
            "fillpattern": {
             "fillmode": "overlay",
             "size": 10,
             "solidity": 0.2
            },
            "type": "scatter"
           }
          ],
          "scatter3d": [
           {
            "line": {
             "colorbar": {
              "outlinewidth": 0,
              "ticks": ""
             }
            },
            "marker": {
             "colorbar": {
              "outlinewidth": 0,
              "ticks": ""
             }
            },
            "type": "scatter3d"
           }
          ],
          "scattercarpet": [
           {
            "marker": {
             "colorbar": {
              "outlinewidth": 0,
              "ticks": ""
             }
            },
            "type": "scattercarpet"
           }
          ],
          "scattergeo": [
           {
            "marker": {
             "colorbar": {
              "outlinewidth": 0,
              "ticks": ""
             }
            },
            "type": "scattergeo"
           }
          ],
          "scattergl": [
           {
            "marker": {
             "colorbar": {
              "outlinewidth": 0,
              "ticks": ""
             }
            },
            "type": "scattergl"
           }
          ],
          "scattermapbox": [
           {
            "marker": {
             "colorbar": {
              "outlinewidth": 0,
              "ticks": ""
             }
            },
            "type": "scattermapbox"
           }
          ],
          "scatterpolar": [
           {
            "marker": {
             "colorbar": {
              "outlinewidth": 0,
              "ticks": ""
             }
            },
            "type": "scatterpolar"
           }
          ],
          "scatterpolargl": [
           {
            "marker": {
             "colorbar": {
              "outlinewidth": 0,
              "ticks": ""
             }
            },
            "type": "scatterpolargl"
           }
          ],
          "scatterternary": [
           {
            "marker": {
             "colorbar": {
              "outlinewidth": 0,
              "ticks": ""
             }
            },
            "type": "scatterternary"
           }
          ],
          "surface": [
           {
            "colorbar": {
             "outlinewidth": 0,
             "ticks": ""
            },
            "colorscale": [
             [
              0,
              "#0d0887"
             ],
             [
              0.1111111111111111,
              "#46039f"
             ],
             [
              0.2222222222222222,
              "#7201a8"
             ],
             [
              0.3333333333333333,
              "#9c179e"
             ],
             [
              0.4444444444444444,
              "#bd3786"
             ],
             [
              0.5555555555555556,
              "#d8576b"
             ],
             [
              0.6666666666666666,
              "#ed7953"
             ],
             [
              0.7777777777777778,
              "#fb9f3a"
             ],
             [
              0.8888888888888888,
              "#fdca26"
             ],
             [
              1,
              "#f0f921"
             ]
            ],
            "type": "surface"
           }
          ],
          "table": [
           {
            "cells": {
             "fill": {
              "color": "#EBF0F8"
             },
             "line": {
              "color": "white"
             }
            },
            "header": {
             "fill": {
              "color": "#C8D4E3"
             },
             "line": {
              "color": "white"
             }
            },
            "type": "table"
           }
          ]
         },
         "layout": {
          "annotationdefaults": {
           "arrowcolor": "#2a3f5f",
           "arrowhead": 0,
           "arrowwidth": 1
          },
          "autotypenumbers": "strict",
          "coloraxis": {
           "colorbar": {
            "outlinewidth": 0,
            "ticks": ""
           }
          },
          "colorscale": {
           "diverging": [
            [
             0,
             "#8e0152"
            ],
            [
             0.1,
             "#c51b7d"
            ],
            [
             0.2,
             "#de77ae"
            ],
            [
             0.3,
             "#f1b6da"
            ],
            [
             0.4,
             "#fde0ef"
            ],
            [
             0.5,
             "#f7f7f7"
            ],
            [
             0.6,
             "#e6f5d0"
            ],
            [
             0.7,
             "#b8e186"
            ],
            [
             0.8,
             "#7fbc41"
            ],
            [
             0.9,
             "#4d9221"
            ],
            [
             1,
             "#276419"
            ]
           ],
           "sequential": [
            [
             0,
             "#0d0887"
            ],
            [
             0.1111111111111111,
             "#46039f"
            ],
            [
             0.2222222222222222,
             "#7201a8"
            ],
            [
             0.3333333333333333,
             "#9c179e"
            ],
            [
             0.4444444444444444,
             "#bd3786"
            ],
            [
             0.5555555555555556,
             "#d8576b"
            ],
            [
             0.6666666666666666,
             "#ed7953"
            ],
            [
             0.7777777777777778,
             "#fb9f3a"
            ],
            [
             0.8888888888888888,
             "#fdca26"
            ],
            [
             1,
             "#f0f921"
            ]
           ],
           "sequentialminus": [
            [
             0,
             "#0d0887"
            ],
            [
             0.1111111111111111,
             "#46039f"
            ],
            [
             0.2222222222222222,
             "#7201a8"
            ],
            [
             0.3333333333333333,
             "#9c179e"
            ],
            [
             0.4444444444444444,
             "#bd3786"
            ],
            [
             0.5555555555555556,
             "#d8576b"
            ],
            [
             0.6666666666666666,
             "#ed7953"
            ],
            [
             0.7777777777777778,
             "#fb9f3a"
            ],
            [
             0.8888888888888888,
             "#fdca26"
            ],
            [
             1,
             "#f0f921"
            ]
           ]
          },
          "colorway": [
           "#636efa",
           "#EF553B",
           "#00cc96",
           "#ab63fa",
           "#FFA15A",
           "#19d3f3",
           "#FF6692",
           "#B6E880",
           "#FF97FF",
           "#FECB52"
          ],
          "font": {
           "color": "#2a3f5f"
          },
          "geo": {
           "bgcolor": "white",
           "lakecolor": "white",
           "landcolor": "#E5ECF6",
           "showlakes": true,
           "showland": true,
           "subunitcolor": "white"
          },
          "hoverlabel": {
           "align": "left"
          },
          "hovermode": "closest",
          "mapbox": {
           "style": "light"
          },
          "paper_bgcolor": "white",
          "plot_bgcolor": "#E5ECF6",
          "polar": {
           "angularaxis": {
            "gridcolor": "white",
            "linecolor": "white",
            "ticks": ""
           },
           "bgcolor": "#E5ECF6",
           "radialaxis": {
            "gridcolor": "white",
            "linecolor": "white",
            "ticks": ""
           }
          },
          "scene": {
           "xaxis": {
            "backgroundcolor": "#E5ECF6",
            "gridcolor": "white",
            "gridwidth": 2,
            "linecolor": "white",
            "showbackground": true,
            "ticks": "",
            "zerolinecolor": "white"
           },
           "yaxis": {
            "backgroundcolor": "#E5ECF6",
            "gridcolor": "white",
            "gridwidth": 2,
            "linecolor": "white",
            "showbackground": true,
            "ticks": "",
            "zerolinecolor": "white"
           },
           "zaxis": {
            "backgroundcolor": "#E5ECF6",
            "gridcolor": "white",
            "gridwidth": 2,
            "linecolor": "white",
            "showbackground": true,
            "ticks": "",
            "zerolinecolor": "white"
           }
          },
          "shapedefaults": {
           "line": {
            "color": "#2a3f5f"
           }
          },
          "ternary": {
           "aaxis": {
            "gridcolor": "white",
            "linecolor": "white",
            "ticks": ""
           },
           "baxis": {
            "gridcolor": "white",
            "linecolor": "white",
            "ticks": ""
           },
           "bgcolor": "#E5ECF6",
           "caxis": {
            "gridcolor": "white",
            "linecolor": "white",
            "ticks": ""
           }
          },
          "title": {
           "x": 0.05
          },
          "xaxis": {
           "automargin": true,
           "gridcolor": "white",
           "linecolor": "white",
           "ticks": "",
           "title": {
            "standoff": 15
           },
           "zerolinecolor": "white",
           "zerolinewidth": 2
          },
          "yaxis": {
           "automargin": true,
           "gridcolor": "white",
           "linecolor": "white",
           "ticks": "",
           "title": {
            "standoff": 15
           },
           "zerolinecolor": "white",
           "zerolinewidth": 2
          }
         }
        },
        "title": {
         "text": "Hyperparameter Importances"
        },
        "xaxis": {
         "title": {
          "text": "Importance for Objective Value"
         }
        },
        "yaxis": {
         "title": {
          "text": "Hyperparameter"
         }
        }
       }
      }
     },
     "metadata": {},
     "output_type": "display_data"
    },
    {
     "data": {
      "application/vnd.plotly.v1+json": {
       "config": {
        "plotlyServerURL": "https://plot.ly"
       },
       "data": [
        {
         "type": "scatter",
         "xaxis": "x",
         "yaxis": "y"
        },
        {
         "colorbar": {
          "title": {
           "text": "Objective Value"
          }
         },
         "colorscale": [
          [
           0,
           "rgb(247,251,255)"
          ],
          [
           0.125,
           "rgb(222,235,247)"
          ],
          [
           0.25,
           "rgb(198,219,239)"
          ],
          [
           0.375,
           "rgb(158,202,225)"
          ],
          [
           0.5,
           "rgb(107,174,214)"
          ],
          [
           0.625,
           "rgb(66,146,198)"
          ],
          [
           0.75,
           "rgb(33,113,181)"
          ],
          [
           0.875,
           "rgb(8,81,156)"
          ],
          [
           1,
           "rgb(8,48,107)"
          ]
         ],
         "connectgaps": true,
         "contours": {
          "coloring": "heatmap"
         },
         "hoverinfo": "none",
         "line": {
          "smoothing": 1.3
         },
         "reversescale": true,
         "showscale": true,
         "type": "contour",
         "x": [
          -0.40000000000000036,
          2,
          3,
          4,
          5,
          7,
          8,
          9,
          10,
          11,
          12,
          13,
          14,
          15,
          16,
          17,
          18,
          19,
          20,
          22,
          23,
          24,
          25,
          27,
          28,
          30,
          32,
          35,
          36,
          37,
          40,
          41,
          46,
          50,
          52.4
         ],
         "xaxis": "x5",
         "y": [
          1.85,
          2,
          3,
          4,
          5,
          5.15
         ],
         "yaxis": "y5",
         "z": [
          [
           null,
           null,
           null,
           null,
           null,
           null,
           null,
           null,
           null,
           null,
           null,
           null,
           null,
           null,
           null,
           null,
           null,
           null,
           null,
           null,
           null,
           null,
           null,
           null,
           null,
           null,
           null,
           null,
           null,
           null,
           null,
           null,
           null,
           null,
           null
          ],
          [
           null,
           null,
           null,
           null,
           253.12266194703415,
           null,
           null,
           null,
           null,
           null,
           null,
           246.6334057562361,
           null,
           null,
           null,
           null,
           null,
           null,
           null,
           null,
           null,
           null,
           null,
           null,
           null,
           null,
           null,
           null,
           null,
           243.17117956414012,
           247.42074981914078,
           null,
           246.19082089309504,
           null,
           null
          ],
          [
           null,
           259.4649733653295,
           null,
           244.3587078248685,
           245.85730150823292,
           null,
           null,
           242.7117156322725,
           null,
           null,
           245.0251783723058,
           238.47677056505228,
           240.39264682250936,
           null,
           null,
           243.86863054665181,
           null,
           null,
           null,
           239.04400741813365,
           243.28672880531212,
           245.96753844657377,
           null,
           null,
           null,
           null,
           null,
           null,
           null,
           null,
           null,
           null,
           null,
           null,
           null
          ],
          [
           null,
           null,
           null,
           null,
           null,
           241.64340534264497,
           240.93728847989306,
           null,
           239.03109145822776,
           238.90576937158465,
           239.74465350608315,
           null,
           238.6802284814912,
           239.28252004235668,
           239.4071464686725,
           null,
           240.5651580914876,
           241.7107942607011,
           239.78542266521976,
           null,
           null,
           null,
           null,
           null,
           null,
           null,
           240.11531193282218,
           239.96673131627176,
           null,
           null,
           null,
           242.85308370321846,
           null,
           null,
           null
          ],
          [
           null,
           null,
           248.15880770058757,
           null,
           null,
           null,
           null,
           null,
           null,
           240.4736594434865,
           null,
           null,
           null,
           238.8298997667684,
           null,
           null,
           239.74115830482614,
           null,
           239.19216435827175,
           239.53202600333034,
           null,
           null,
           239.2818735242251,
           239.2818735242251,
           240.73823265500536,
           239.29171267433549,
           null,
           null,
           243.16076357631468,
           null,
           null,
           null,
           null,
           239.90858132230636,
           null
          ],
          [
           null,
           null,
           null,
           null,
           null,
           null,
           null,
           null,
           null,
           null,
           null,
           null,
           null,
           null,
           null,
           null,
           null,
           null,
           null,
           null,
           null,
           null,
           null,
           null,
           null,
           null,
           null,
           null,
           null,
           null,
           null,
           null,
           null,
           null,
           null
          ]
         ]
        },
        {
         "marker": {
          "color": "black",
          "line": {
           "color": "Grey",
           "width": 2
          }
         },
         "mode": "markers",
         "showlegend": false,
         "type": "scatter",
         "x": [
          41,
          19,
          37,
          46,
          16,
          13,
          32,
          35,
          40,
          36,
          3,
          24,
          12,
          11,
          2,
          14,
          9,
          25,
          27,
          22,
          50,
          30,
          28,
          20,
          20,
          18,
          7,
          28,
          15,
          16,
          16,
          14,
          7,
          15,
          5,
          10,
          11,
          14,
          18,
          8,
          12,
          13,
          13,
          5,
          22,
          13,
          17,
          12,
          4,
          23
         ],
         "xaxis": "x5",
         "y": [
          4,
          4,
          2,
          2,
          4,
          3,
          4,
          4,
          2,
          5,
          5,
          3,
          4,
          5,
          3,
          4,
          3,
          5,
          5,
          5,
          5,
          5,
          5,
          5,
          4,
          5,
          4,
          5,
          5,
          4,
          4,
          4,
          4,
          4,
          3,
          4,
          4,
          3,
          4,
          4,
          3,
          3,
          3,
          2,
          3,
          2,
          3,
          3,
          3,
          3
         ],
         "yaxis": "y5"
        },
        {
         "colorbar": {
          "title": {
           "text": "Objective Value"
          }
         },
         "colorscale": [
          [
           0,
           "rgb(247,251,255)"
          ],
          [
           0.125,
           "rgb(222,235,247)"
          ],
          [
           0.25,
           "rgb(198,219,239)"
          ],
          [
           0.375,
           "rgb(158,202,225)"
          ],
          [
           0.5,
           "rgb(107,174,214)"
          ],
          [
           0.625,
           "rgb(66,146,198)"
          ],
          [
           0.75,
           "rgb(33,113,181)"
          ],
          [
           0.875,
           "rgb(8,81,156)"
          ],
          [
           1,
           "rgb(8,48,107)"
          ]
         ],
         "connectgaps": true,
         "contours": {
          "coloring": "heatmap"
         },
         "hoverinfo": "none",
         "line": {
          "smoothing": 1.3
         },
         "reversescale": true,
         "showscale": false,
         "type": "contour",
         "x": [
          -0.40000000000000036,
          2,
          3,
          4,
          5,
          7,
          8,
          9,
          10,
          11,
          12,
          13,
          14,
          15,
          16,
          17,
          18,
          19,
          20,
          22,
          23,
          24,
          25,
          27,
          28,
          30,
          32,
          35,
          36,
          37,
          40,
          41,
          46,
          50,
          52.4
         ],
         "xaxis": "x9",
         "y": [
          -0.40000000000000036,
          2,
          4,
          5,
          10,
          11,
          12,
          18,
          19,
          22,
          24,
          26,
          28,
          29,
          31,
          32,
          33,
          34,
          35,
          36,
          37,
          38,
          39,
          40,
          41,
          42,
          43,
          44,
          45,
          46,
          47,
          48,
          49,
          50,
          52.4
         ],
         "yaxis": "y9",
         "z": [
          [
           null,
           null,
           null,
           null,
           null,
           null,
           null,
           null,
           null,
           null,
           null,
           null,
           null,
           null,
           null,
           null,
           null,
           null,
           null,
           null,
           null,
           null,
           null,
           null,
           null,
           null,
           null,
           null,
           null,
           null,
           null,
           null,
           null,
           null,
           null
          ],
          [
           null,
           null,
           null,
           null,
           null,
           null,
           null,
           null,
           null,
           null,
           null,
           null,
           null,
           null,
           null,
           null,
           null,
           241.7107942607011,
           null,
           null,
           null,
           null,
           null,
           null,
           null,
           null,
           null,
           null,
           null,
           null,
           null,
           null,
           null,
           null,
           null
          ],
          [
           null,
           null,
           null,
           null,
           null,
           null,
           null,
           null,
           null,
           null,
           null,
           null,
           null,
           null,
           null,
           null,
           null,
           null,
           null,
           null,
           null,
           null,
           null,
           null,
           null,
           null,
           null,
           null,
           null,
           243.17117956414012,
           null,
           null,
           null,
           null,
           null
          ],
          [
           null,
           null,
           null,
           244.3587078248685,
           null,
           null,
           null,
           null,
           null,
           null,
           null,
           null,
           null,
           null,
           null,
           null,
           null,
           null,
           null,
           null,
           null,
           null,
           null,
           null,
           null,
           null,
           null,
           null,
           null,
           null,
           null,
           null,
           null,
           null,
           null
          ],
          [
           null,
           null,
           null,
           null,
           null,
           null,
           null,
           null,
           null,
           null,
           null,
           null,
           null,
           null,
           null,
           null,
           null,
           null,
           null,
           null,
           null,
           null,
           null,
           null,
           null,
           null,
           null,
           null,
           243.16076357631468,
           null,
           null,
           null,
           null,
           null,
           null
          ],
          [
           null,
           null,
           null,
           null,
           null,
           null,
           null,
           null,
           null,
           null,
           null,
           null,
           null,
           null,
           null,
           null,
           null,
           null,
           null,
           null,
           null,
           null,
           null,
           null,
           null,
           null,
           null,
           null,
           null,
           null,
           null,
           242.85308370321846,
           null,
           null,
           null
          ],
          [
           null,
           null,
           null,
           null,
           null,
           null,
           null,
           null,
           null,
           null,
           null,
           null,
           null,
           null,
           null,
           null,
           null,
           null,
           null,
           null,
           null,
           null,
           null,
           null,
           null,
           null,
           null,
           239.96673131627176,
           null,
           null,
           null,
           null,
           null,
           null,
           null
          ],
          [
           null,
           null,
           null,
           null,
           null,
           null,
           null,
           null,
           null,
           null,
           null,
           null,
           null,
           null,
           null,
           null,
           null,
           null,
           null,
           null,
           null,
           null,
           null,
           null,
           null,
           null,
           null,
           null,
           null,
           null,
           null,
           null,
           null,
           239.90858132230636,
           null
          ],
          [
           null,
           null,
           null,
           null,
           null,
           null,
           null,
           null,
           null,
           null,
           null,
           null,
           null,
           null,
           null,
           243.86863054665181,
           null,
           null,
           null,
           null,
           null,
           null,
           null,
           null,
           null,
           null,
           null,
           null,
           null,
           null,
           null,
           null,
           null,
           null,
           null
          ],
          [
           null,
           259.4649733653295,
           null,
           null,
           null,
           null,
           null,
           null,
           null,
           null,
           null,
           null,
           null,
           null,
           null,
           null,
           null,
           null,
           null,
           null,
           null,
           null,
           null,
           null,
           null,
           null,
           null,
           null,
           null,
           null,
           null,
           null,
           null,
           null,
           null
          ],
          [
           null,
           null,
           null,
           null,
           null,
           null,
           null,
           null,
           null,
           null,
           239.74465350608315,
           null,
           null,
           null,
           null,
           null,
           null,
           null,
           null,
           null,
           null,
           245.96753844657377,
           null,
           null,
           null,
           null,
           null,
           null,
           null,
           null,
           null,
           null,
           null,
           null,
           null
          ],
          [
           null,
           null,
           null,
           null,
           null,
           null,
           null,
           null,
           null,
           null,
           null,
           null,
           null,
           null,
           null,
           null,
           null,
           null,
           null,
           null,
           243.28672880531212,
           null,
           null,
           null,
           null,
           null,
           null,
           null,
           null,
           null,
           null,
           null,
           null,
           null,
           null
          ],
          [
           null,
           null,
           248.15880770058757,
           null,
           null,
           null,
           null,
           null,
           null,
           240.4736594434865,
           null,
           null,
           null,
           null,
           239.76976843248832,
           null,
           null,
           null,
           null,
           null,
           null,
           null,
           null,
           null,
           null,
           null,
           null,
           null,
           null,
           null,
           null,
           null,
           null,
           null,
           null
          ],
          [
           null,
           null,
           null,
           null,
           null,
           null,
           null,
           null,
           null,
           null,
           null,
           246.6334057562361,
           null,
           null,
           null,
           null,
           null,
           null,
           null,
           null,
           null,
           null,
           null,
           null,
           null,
           null,
           null,
           null,
           null,
           null,
           null,
           null,
           null,
           null,
           null
          ],
          [
           null,
           null,
           null,
           null,
           null,
           241.64340534264497,
           null,
           null,
           239.03109145822776,
           null,
           null,
           null,
           null,
           null,
           null,
           null,
           239.74115830482614,
           null,
           null,
           null,
           null,
           null,
           null,
           null,
           null,
           null,
           null,
           null,
           null,
           null,
           null,
           null,
           null,
           null,
           null
          ],
          [
           null,
           null,
           null,
           null,
           null,
           null,
           null,
           null,
           null,
           null,
           null,
           null,
           null,
           null,
           239.05025264272467,
           null,
           null,
           null,
           null,
           null,
           null,
           null,
           null,
           null,
           null,
           null,
           null,
           null,
           null,
           null,
           null,
           null,
           null,
           null,
           null
          ],
          [
           null,
           null,
           null,
           null,
           null,
           null,
           null,
           null,
           null,
           null,
           null,
           null,
           null,
           null,
           239.4071464686725,
           null,
           null,
           null,
           null,
           null,
           null,
           null,
           null,
           null,
           null,
           null,
           null,
           null,
           null,
           null,
           null,
           null,
           null,
           null,
           null
          ],
          [
           null,
           null,
           null,
           null,
           null,
           null,
           null,
           null,
           null,
           null,
           null,
           null,
           null,
           null,
           null,
           null,
           null,
           null,
           null,
           239.53202600333034,
           null,
           null,
           null,
           null,
           null,
           null,
           null,
           null,
           null,
           null,
           null,
           null,
           null,
           null,
           null
          ],
          [
           null,
           null,
           null,
           null,
           null,
           null,
           null,
           242.7117156322725,
           null,
           null,
           null,
           null,
           238.83324019415105,
           null,
           null,
           null,
           null,
           null,
           null,
           null,
           null,
           null,
           null,
           null,
           null,
           239.29171267433549,
           null,
           null,
           null,
           null,
           null,
           null,
           null,
           null,
           null
          ],
          [
           null,
           null,
           null,
           null,
           null,
           null,
           null,
           null,
           null,
           null,
           238.30504707454787,
           238.47677056505228,
           null,
           null,
           null,
           null,
           null,
           null,
           null,
           null,
           null,
           null,
           null,
           null,
           null,
           null,
           null,
           null,
           null,
           null,
           null,
           null,
           null,
           null,
           null
          ],
          [
           null,
           null,
           null,
           null,
           null,
           null,
           null,
           null,
           null,
           null,
           null,
           null,
           null,
           null,
           null,
           null,
           null,
           null,
           null,
           239.04400741813365,
           null,
           null,
           239.2818735242251,
           239.2818735242251,
           null,
           null,
           null,
           null,
           null,
           null,
           null,
           null,
           null,
           null,
           null
          ],
          [
           null,
           null,
           null,
           null,
           null,
           null,
           null,
           null,
           null,
           null,
           null,
           null,
           null,
           239.28252004235668,
           null,
           null,
           null,
           null,
           null,
           null,
           null,
           null,
           null,
           null,
           null,
           null,
           null,
           null,
           null,
           null,
           null,
           null,
           null,
           null,
           null
          ],
          [
           null,
           null,
           null,
           null,
           null,
           null,
           null,
           null,
           null,
           238.90576937158465,
           null,
           null,
           240.39264682250936,
           null,
           null,
           null,
           null,
           null,
           null,
           null,
           null,
           null,
           null,
           null,
           null,
           null,
           null,
           null,
           null,
           null,
           null,
           null,
           null,
           null,
           null
          ],
          [
           null,
           null,
           null,
           null,
           null,
           null,
           null,
           null,
           null,
           null,
           null,
           null,
           null,
           238.8298997667684,
           null,
           null,
           null,
           null,
           null,
           null,
           null,
           null,
           null,
           null,
           239.21099483487177,
           null,
           null,
           null,
           null,
           null,
           null,
           null,
           null,
           null,
           null
          ],
          [
           null,
           null,
           null,
           null,
           null,
           null,
           null,
           null,
           null,
           null,
           null,
           null,
           null,
           null,
           null,
           null,
           null,
           null,
           239.19216435827175,
           null,
           null,
           null,
           null,
           null,
           null,
           null,
           null,
           null,
           null,
           null,
           null,
           null,
           246.19082089309504,
           null,
           null
          ],
          [
           null,
           null,
           null,
           null,
           null,
           241.2506124862478,
           null,
           null,
           null,
           null,
           null,
           null,
           null,
           null,
           null,
           null,
           null,
           null,
           239.78542266521976,
           null,
           null,
           null,
           null,
           null,
           null,
           null,
           null,
           null,
           null,
           null,
           null,
           null,
           null,
           null,
           null
          ],
          [
           null,
           null,
           null,
           null,
           253.12266194703415,
           null,
           null,
           null,
           null,
           null,
           null,
           null,
           null,
           null,
           null,
           null,
           null,
           null,
           null,
           null,
           null,
           null,
           null,
           null,
           null,
           null,
           null,
           null,
           null,
           null,
           null,
           null,
           null,
           null,
           null
          ],
          [
           null,
           null,
           null,
           null,
           null,
           null,
           null,
           null,
           null,
           null,
           null,
           null,
           null,
           null,
           null,
           null,
           240.5651580914876,
           null,
           null,
           null,
           null,
           null,
           null,
           null,
           null,
           null,
           null,
           null,
           null,
           null,
           null,
           null,
           null,
           null,
           null
          ],
          [
           null,
           null,
           null,
           null,
           245.85730150823292,
           null,
           null,
           null,
           null,
           null,
           null,
           null,
           null,
           null,
           null,
           null,
           null,
           null,
           null,
           null,
           null,
           null,
           null,
           null,
           null,
           null,
           null,
           null,
           null,
           null,
           247.42074981914078,
           null,
           null,
           null,
           null
          ],
          [
           null,
           null,
           null,
           null,
           null,
           null,
           null,
           null,
           null,
           null,
           null,
           null,
           null,
           null,
           null,
           null,
           null,
           null,
           null,
           null,
           null,
           null,
           null,
           null,
           null,
           null,
           240.11531193282218,
           null,
           null,
           null,
           null,
           null,
           null,
           null,
           null
          ],
          [
           null,
           null,
           null,
           null,
           null,
           null,
           240.93728847989306,
           null,
           null,
           null,
           null,
           null,
           null,
           null,
           null,
           null,
           null,
           null,
           null,
           null,
           null,
           null,
           null,
           null,
           null,
           null,
           null,
           null,
           null,
           null,
           null,
           null,
           null,
           null,
           null
          ],
          [
           null,
           null,
           null,
           null,
           null,
           null,
           null,
           null,
           null,
           null,
           245.0251783723058,
           null,
           null,
           null,
           null,
           null,
           null,
           null,
           null,
           null,
           null,
           null,
           null,
           null,
           null,
           null,
           null,
           null,
           null,
           null,
           null,
           null,
           null,
           null,
           null
          ],
          [
           null,
           null,
           null,
           null,
           null,
           null,
           null,
           null,
           null,
           null,
           null,
           null,
           null,
           null,
           null,
           null,
           null,
           null,
           null,
           null,
           null,
           null,
           null,
           null,
           240.73823265500536,
           null,
           null,
           null,
           null,
           null,
           null,
           null,
           null,
           null,
           null
          ],
          [
           null,
           null,
           null,
           null,
           null,
           null,
           null,
           null,
           null,
           null,
           null,
           243.7697998704169,
           null,
           null,
           null,
           null,
           null,
           null,
           null,
           null,
           null,
           null,
           null,
           null,
           null,
           null,
           null,
           null,
           null,
           null,
           null,
           null,
           null,
           null,
           null
          ],
          [
           null,
           null,
           null,
           null,
           null,
           null,
           null,
           null,
           null,
           null,
           null,
           null,
           null,
           null,
           null,
           null,
           null,
           null,
           null,
           null,
           null,
           null,
           null,
           null,
           null,
           null,
           null,
           null,
           null,
           null,
           null,
           null,
           null,
           null,
           null
          ]
         ]
        },
        {
         "marker": {
          "color": "black",
          "line": {
           "color": "Grey",
           "width": 2
          }
         },
         "mode": "markers",
         "showlegend": false,
         "type": "scatter",
         "x": [
          41,
          19,
          37,
          46,
          16,
          13,
          32,
          35,
          40,
          36,
          3,
          24,
          12,
          11,
          2,
          14,
          9,
          25,
          27,
          22,
          50,
          30,
          28,
          20,
          20,
          18,
          7,
          28,
          15,
          16,
          16,
          14,
          7,
          15,
          5,
          10,
          11,
          14,
          18,
          8,
          12,
          13,
          13,
          5,
          22,
          13,
          17,
          12,
          4,
          23
         ],
         "xaxis": "x9",
         "y": [
          11,
          2,
          4,
          41,
          28,
          50,
          46,
          12,
          45,
          10,
          28,
          24,
          24,
          28,
          22,
          35,
          35,
          37,
          37,
          34,
          18,
          35,
          40,
          41,
          42,
          31,
          42,
          49,
          40,
          32,
          33,
          39,
          31,
          38,
          45,
          31,
          39,
          39,
          44,
          47,
          36,
          36,
          36,
          43,
          37,
          29,
          19,
          48,
          5,
          26
         ],
         "yaxis": "y9"
        },
        {
         "colorbar": {
          "title": {
           "text": "Objective Value"
          }
         },
         "colorscale": [
          [
           0,
           "rgb(247,251,255)"
          ],
          [
           0.125,
           "rgb(222,235,247)"
          ],
          [
           0.25,
           "rgb(198,219,239)"
          ],
          [
           0.375,
           "rgb(158,202,225)"
          ],
          [
           0.5,
           "rgb(107,174,214)"
          ],
          [
           0.625,
           "rgb(66,146,198)"
          ],
          [
           0.75,
           "rgb(33,113,181)"
          ],
          [
           0.875,
           "rgb(8,81,156)"
          ],
          [
           1,
           "rgb(8,48,107)"
          ]
         ],
         "connectgaps": true,
         "contours": {
          "coloring": "heatmap"
         },
         "hoverinfo": "none",
         "line": {
          "smoothing": 1.3
         },
         "reversescale": true,
         "showscale": false,
         "type": "contour",
         "x": [
          -0.40000000000000036,
          2,
          3,
          4,
          5,
          7,
          8,
          9,
          10,
          11,
          12,
          13,
          14,
          15,
          16,
          17,
          18,
          19,
          20,
          22,
          23,
          24,
          25,
          27,
          28,
          30,
          32,
          35,
          36,
          37,
          40,
          41,
          46,
          50,
          52.4
         ],
         "xaxis": "x13",
         "y": [
          13,
          20,
          40,
          60,
          80,
          100,
          120,
          140,
          160,
          167
         ],
         "yaxis": "y13",
         "z": [
          [
           null,
           null,
           null,
           null,
           null,
           null,
           null,
           null,
           null,
           null,
           null,
           null,
           null,
           null,
           null,
           null,
           null,
           null,
           null,
           null,
           null,
           null,
           null,
           null,
           null,
           null,
           null,
           null,
           null,
           null,
           null,
           null,
           null,
           null,
           null
          ],
          [
           null,
           null,
           null,
           null,
           null,
           null,
           null,
           null,
           null,
           null,
           null,
           null,
           null,
           null,
           null,
           null,
           null,
           null,
           null,
           239.04400741813365,
           243.28672880531212,
           245.96753844657377,
           null,
           null,
           null,
           null,
           null,
           null,
           null,
           null,
           null,
           242.85308370321846,
           null,
           null,
           null
          ],
          [
           null,
           null,
           null,
           null,
           253.12266194703415,
           null,
           null,
           null,
           null,
           null,
           245.0251783723058,
           238.47677056505228,
           240.39264682250936,
           null,
           null,
           243.86863054665181,
           null,
           null,
           null,
           null,
           null,
           null,
           null,
           null,
           null,
           null,
           null,
           null,
           null,
           null,
           247.42074981914078,
           null,
           null,
           null,
           null
          ],
          [
           null,
           null,
           null,
           244.3587078248685,
           null,
           null,
           240.93728847989306,
           null,
           null,
           null,
           238.30504707454787,
           246.6334057562361,
           null,
           null,
           239.76976843248832,
           null,
           null,
           null,
           null,
           null,
           null,
           null,
           null,
           null,
           null,
           null,
           null,
           239.96673131627176,
           null,
           243.17117956414012,
           null,
           null,
           null,
           null,
           null
          ],
          [
           null,
           259.4649733653295,
           null,
           null,
           null,
           null,
           null,
           null,
           239.03109145822776,
           238.90576937158465,
           239.74465350608315,
           null,
           null,
           239.28252004235668,
           null,
           null,
           240.5651580914876,
           null,
           null,
           null,
           null,
           null,
           null,
           null,
           null,
           null,
           240.11531193282218,
           null,
           null,
           null,
           null,
           null,
           null,
           null,
           null
          ],
          [
           null,
           null,
           null,
           null,
           245.85730150823292,
           241.64340534264497,
           null,
           null,
           null,
           240.4736594434865,
           null,
           null,
           238.6802284814912,
           238.8298997667684,
           239.4071464686725,
           null,
           239.74115830482614,
           null,
           null,
           null,
           null,
           null,
           null,
           null,
           null,
           null,
           null,
           null,
           null,
           null,
           null,
           null,
           246.19082089309504,
           null,
           null
          ],
          [
           null,
           null,
           248.15880770058757,
           null,
           null,
           241.2506124862478,
           null,
           242.7117156322725,
           null,
           null,
           null,
           null,
           238.83324019415105,
           null,
           null,
           null,
           null,
           null,
           239.78542266521976,
           null,
           null,
           null,
           null,
           null,
           240.73823265500536,
           null,
           null,
           null,
           null,
           null,
           null,
           null,
           null,
           null,
           null
          ],
          [
           null,
           null,
           null,
           null,
           null,
           null,
           null,
           null,
           null,
           null,
           null,
           null,
           null,
           null,
           null,
           null,
           null,
           null,
           null,
           239.53202600333034,
           null,
           null,
           239.2818735242251,
           239.2818735242251,
           null,
           239.29171267433549,
           null,
           null,
           null,
           null,
           null,
           null,
           null,
           239.90858132230636,
           null
          ],
          [
           null,
           null,
           null,
           null,
           null,
           null,
           null,
           null,
           null,
           null,
           null,
           null,
           null,
           null,
           null,
           null,
           null,
           241.7107942607011,
           null,
           null,
           null,
           null,
           null,
           null,
           null,
           null,
           null,
           null,
           243.16076357631468,
           null,
           null,
           null,
           null,
           null,
           null
          ],
          [
           null,
           null,
           null,
           null,
           null,
           null,
           null,
           null,
           null,
           null,
           null,
           null,
           null,
           null,
           null,
           null,
           null,
           null,
           null,
           null,
           null,
           null,
           null,
           null,
           null,
           null,
           null,
           null,
           null,
           null,
           null,
           null,
           null,
           null,
           null
          ]
         ]
        },
        {
         "marker": {
          "color": "black",
          "line": {
           "color": "Grey",
           "width": 2
          }
         },
         "mode": "markers",
         "showlegend": false,
         "type": "scatter",
         "x": [
          41,
          19,
          37,
          46,
          16,
          13,
          32,
          35,
          40,
          36,
          3,
          24,
          12,
          11,
          2,
          14,
          9,
          25,
          27,
          22,
          50,
          30,
          28,
          20,
          20,
          18,
          7,
          28,
          15,
          16,
          16,
          14,
          7,
          15,
          5,
          10,
          11,
          14,
          18,
          8,
          12,
          13,
          13,
          5,
          22,
          13,
          17,
          12,
          4,
          23
         ],
         "xaxis": "x13",
         "y": [
          20,
          160,
          60,
          100,
          60,
          60,
          80,
          60,
          40,
          160,
          120,
          20,
          80,
          100,
          80,
          120,
          120,
          140,
          140,
          140,
          140,
          140,
          120,
          120,
          120,
          100,
          120,
          120,
          100,
          100,
          100,
          100,
          100,
          80,
          100,
          80,
          80,
          40,
          80,
          60,
          60,
          60,
          40,
          40,
          20,
          60,
          40,
          40,
          60,
          20
         ],
         "yaxis": "y13"
        },
        {
         "colorbar": {
          "title": {
           "text": "Objective Value"
          }
         },
         "colorscale": [
          [
           0,
           "rgb(247,251,255)"
          ],
          [
           0.125,
           "rgb(222,235,247)"
          ],
          [
           0.25,
           "rgb(198,219,239)"
          ],
          [
           0.375,
           "rgb(158,202,225)"
          ],
          [
           0.5,
           "rgb(107,174,214)"
          ],
          [
           0.625,
           "rgb(66,146,198)"
          ],
          [
           0.75,
           "rgb(33,113,181)"
          ],
          [
           0.875,
           "rgb(8,81,156)"
          ],
          [
           1,
           "rgb(8,48,107)"
          ]
         ],
         "connectgaps": true,
         "contours": {
          "coloring": "heatmap"
         },
         "hoverinfo": "none",
         "line": {
          "smoothing": 1.3
         },
         "reversescale": true,
         "showscale": false,
         "type": "contour",
         "x": [
          1.85,
          2,
          3,
          4,
          5,
          5.15
         ],
         "xaxis": "x2",
         "y": [
          -0.40000000000000036,
          2,
          3,
          4,
          5,
          7,
          8,
          9,
          10,
          11,
          12,
          13,
          14,
          15,
          16,
          17,
          18,
          19,
          20,
          22,
          23,
          24,
          25,
          27,
          28,
          30,
          32,
          35,
          36,
          37,
          40,
          41,
          46,
          50,
          52.4
         ],
         "yaxis": "y2",
         "z": [
          [
           null,
           null,
           null,
           null,
           null,
           null
          ],
          [
           null,
           null,
           259.4649733653295,
           null,
           null,
           null
          ],
          [
           null,
           null,
           null,
           null,
           248.15880770058757,
           null
          ],
          [
           null,
           null,
           244.3587078248685,
           null,
           null,
           null
          ],
          [
           null,
           253.12266194703415,
           245.85730150823292,
           null,
           null,
           null
          ],
          [
           null,
           null,
           null,
           241.64340534264497,
           null,
           null
          ],
          [
           null,
           null,
           null,
           240.93728847989306,
           null,
           null
          ],
          [
           null,
           null,
           242.7117156322725,
           null,
           null,
           null
          ],
          [
           null,
           null,
           null,
           239.03109145822776,
           null,
           null
          ],
          [
           null,
           null,
           null,
           238.90576937158465,
           240.4736594434865,
           null
          ],
          [
           null,
           null,
           245.0251783723058,
           239.74465350608315,
           null,
           null
          ],
          [
           null,
           246.6334057562361,
           238.47677056505228,
           null,
           null,
           null
          ],
          [
           null,
           null,
           240.39264682250936,
           238.6802284814912,
           null,
           null
          ],
          [
           null,
           null,
           null,
           239.28252004235668,
           238.8298997667684,
           null
          ],
          [
           null,
           null,
           null,
           239.4071464686725,
           null,
           null
          ],
          [
           null,
           null,
           243.86863054665181,
           null,
           null,
           null
          ],
          [
           null,
           null,
           null,
           240.5651580914876,
           239.74115830482614,
           null
          ],
          [
           null,
           null,
           null,
           241.7107942607011,
           null,
           null
          ],
          [
           null,
           null,
           null,
           239.78542266521976,
           239.19216435827175,
           null
          ],
          [
           null,
           null,
           239.04400741813365,
           null,
           239.53202600333034,
           null
          ],
          [
           null,
           null,
           243.28672880531212,
           null,
           null,
           null
          ],
          [
           null,
           null,
           245.96753844657377,
           null,
           null,
           null
          ],
          [
           null,
           null,
           null,
           null,
           239.2818735242251,
           null
          ],
          [
           null,
           null,
           null,
           null,
           239.2818735242251,
           null
          ],
          [
           null,
           null,
           null,
           null,
           240.73823265500536,
           null
          ],
          [
           null,
           null,
           null,
           null,
           239.29171267433549,
           null
          ],
          [
           null,
           null,
           null,
           240.11531193282218,
           null,
           null
          ],
          [
           null,
           null,
           null,
           239.96673131627176,
           null,
           null
          ],
          [
           null,
           null,
           null,
           null,
           243.16076357631468,
           null
          ],
          [
           null,
           243.17117956414012,
           null,
           null,
           null,
           null
          ],
          [
           null,
           247.42074981914078,
           null,
           null,
           null,
           null
          ],
          [
           null,
           null,
           null,
           242.85308370321846,
           null,
           null
          ],
          [
           null,
           246.19082089309504,
           null,
           null,
           null,
           null
          ],
          [
           null,
           null,
           null,
           null,
           239.90858132230636,
           null
          ],
          [
           null,
           null,
           null,
           null,
           null,
           null
          ]
         ]
        },
        {
         "marker": {
          "color": "black",
          "line": {
           "color": "Grey",
           "width": 2
          }
         },
         "mode": "markers",
         "showlegend": false,
         "type": "scatter",
         "x": [
          4,
          4,
          2,
          2,
          4,
          3,
          4,
          4,
          2,
          5,
          5,
          3,
          4,
          5,
          3,
          4,
          3,
          5,
          5,
          5,
          5,
          5,
          5,
          5,
          4,
          5,
          4,
          5,
          5,
          4,
          4,
          4,
          4,
          4,
          3,
          4,
          4,
          3,
          4,
          4,
          3,
          3,
          3,
          2,
          3,
          2,
          3,
          3,
          3,
          3
         ],
         "xaxis": "x2",
         "y": [
          41,
          19,
          37,
          46,
          16,
          13,
          32,
          35,
          40,
          36,
          3,
          24,
          12,
          11,
          2,
          14,
          9,
          25,
          27,
          22,
          50,
          30,
          28,
          20,
          20,
          18,
          7,
          28,
          15,
          16,
          16,
          14,
          7,
          15,
          5,
          10,
          11,
          14,
          18,
          8,
          12,
          13,
          13,
          5,
          22,
          13,
          17,
          12,
          4,
          23
         ],
         "yaxis": "y2"
        },
        {
         "type": "scatter",
         "xaxis": "x6",
         "yaxis": "y6"
        },
        {
         "colorbar": {
          "title": {
           "text": "Objective Value"
          }
         },
         "colorscale": [
          [
           0,
           "rgb(247,251,255)"
          ],
          [
           0.125,
           "rgb(222,235,247)"
          ],
          [
           0.25,
           "rgb(198,219,239)"
          ],
          [
           0.375,
           "rgb(158,202,225)"
          ],
          [
           0.5,
           "rgb(107,174,214)"
          ],
          [
           0.625,
           "rgb(66,146,198)"
          ],
          [
           0.75,
           "rgb(33,113,181)"
          ],
          [
           0.875,
           "rgb(8,81,156)"
          ],
          [
           1,
           "rgb(8,48,107)"
          ]
         ],
         "connectgaps": true,
         "contours": {
          "coloring": "heatmap"
         },
         "hoverinfo": "none",
         "line": {
          "smoothing": 1.3
         },
         "reversescale": true,
         "showscale": false,
         "type": "contour",
         "x": [
          1.85,
          2,
          3,
          4,
          5,
          5.15
         ],
         "xaxis": "x10",
         "y": [
          -0.40000000000000036,
          2,
          4,
          5,
          10,
          11,
          12,
          18,
          19,
          22,
          24,
          26,
          28,
          29,
          31,
          32,
          33,
          34,
          35,
          36,
          37,
          38,
          39,
          40,
          41,
          42,
          43,
          44,
          45,
          46,
          47,
          48,
          49,
          50,
          52.4
         ],
         "yaxis": "y10",
         "z": [
          [
           null,
           null,
           null,
           null,
           null,
           null
          ],
          [
           null,
           null,
           null,
           241.7107942607011,
           null,
           null
          ],
          [
           null,
           243.17117956414012,
           null,
           null,
           null,
           null
          ],
          [
           null,
           null,
           244.3587078248685,
           null,
           null,
           null
          ],
          [
           null,
           null,
           null,
           null,
           243.16076357631468,
           null
          ],
          [
           null,
           null,
           null,
           242.85308370321846,
           null,
           null
          ],
          [
           null,
           null,
           null,
           239.96673131627176,
           null,
           null
          ],
          [
           null,
           null,
           null,
           null,
           239.90858132230636,
           null
          ],
          [
           null,
           null,
           243.86863054665181,
           null,
           null,
           null
          ],
          [
           null,
           null,
           259.4649733653295,
           null,
           null,
           null
          ],
          [
           null,
           null,
           245.96753844657377,
           239.74465350608315,
           null,
           null
          ],
          [
           null,
           null,
           243.28672880531212,
           null,
           null,
           null
          ],
          [
           null,
           null,
           null,
           239.76976843248832,
           240.4736594434865,
           null
          ],
          [
           null,
           246.6334057562361,
           null,
           null,
           null,
           null
          ],
          [
           null,
           null,
           null,
           239.03109145822776,
           239.74115830482614,
           null
          ],
          [
           null,
           null,
           null,
           239.05025264272467,
           null,
           null
          ],
          [
           null,
           null,
           null,
           239.4071464686725,
           null,
           null
          ],
          [
           null,
           null,
           null,
           null,
           239.53202600333034,
           null
          ],
          [
           null,
           null,
           242.7117156322725,
           238.83324019415105,
           239.29171267433549,
           null
          ],
          [
           null,
           null,
           238.47677056505228,
           null,
           null,
           null
          ],
          [
           null,
           null,
           239.04400741813365,
           null,
           239.2818735242251,
           null
          ],
          [
           null,
           null,
           null,
           239.28252004235668,
           null,
           null
          ],
          [
           null,
           null,
           240.39264682250936,
           238.90576937158465,
           null,
           null
          ],
          [
           null,
           null,
           null,
           null,
           238.8298997667684,
           null
          ],
          [
           null,
           246.19082089309504,
           null,
           null,
           239.19216435827175,
           null
          ],
          [
           null,
           null,
           null,
           241.2506124862478,
           null,
           null
          ],
          [
           null,
           253.12266194703415,
           null,
           null,
           null,
           null
          ],
          [
           null,
           null,
           null,
           240.5651580914876,
           null,
           null
          ],
          [
           null,
           247.42074981914078,
           245.85730150823292,
           null,
           null,
           null
          ],
          [
           null,
           null,
           null,
           240.11531193282218,
           null,
           null
          ],
          [
           null,
           null,
           null,
           240.93728847989306,
           null,
           null
          ],
          [
           null,
           null,
           245.0251783723058,
           null,
           null,
           null
          ],
          [
           null,
           null,
           null,
           null,
           240.73823265500536,
           null
          ],
          [
           null,
           null,
           243.7697998704169,
           null,
           null,
           null
          ],
          [
           null,
           null,
           null,
           null,
           null,
           null
          ]
         ]
        },
        {
         "marker": {
          "color": "black",
          "line": {
           "color": "Grey",
           "width": 2
          }
         },
         "mode": "markers",
         "showlegend": false,
         "type": "scatter",
         "x": [
          4,
          4,
          2,
          2,
          4,
          3,
          4,
          4,
          2,
          5,
          5,
          3,
          4,
          5,
          3,
          4,
          3,
          5,
          5,
          5,
          5,
          5,
          5,
          5,
          4,
          5,
          4,
          5,
          5,
          4,
          4,
          4,
          4,
          4,
          3,
          4,
          4,
          3,
          4,
          4,
          3,
          3,
          3,
          2,
          3,
          2,
          3,
          3,
          3,
          3
         ],
         "xaxis": "x10",
         "y": [
          11,
          2,
          4,
          41,
          28,
          50,
          46,
          12,
          45,
          10,
          28,
          24,
          24,
          28,
          22,
          35,
          35,
          37,
          37,
          34,
          18,
          35,
          40,
          41,
          42,
          31,
          42,
          49,
          40,
          32,
          33,
          39,
          31,
          38,
          45,
          31,
          39,
          39,
          44,
          47,
          36,
          36,
          36,
          43,
          37,
          29,
          19,
          48,
          5,
          26
         ],
         "yaxis": "y10"
        },
        {
         "colorbar": {
          "title": {
           "text": "Objective Value"
          }
         },
         "colorscale": [
          [
           0,
           "rgb(247,251,255)"
          ],
          [
           0.125,
           "rgb(222,235,247)"
          ],
          [
           0.25,
           "rgb(198,219,239)"
          ],
          [
           0.375,
           "rgb(158,202,225)"
          ],
          [
           0.5,
           "rgb(107,174,214)"
          ],
          [
           0.625,
           "rgb(66,146,198)"
          ],
          [
           0.75,
           "rgb(33,113,181)"
          ],
          [
           0.875,
           "rgb(8,81,156)"
          ],
          [
           1,
           "rgb(8,48,107)"
          ]
         ],
         "connectgaps": true,
         "contours": {
          "coloring": "heatmap"
         },
         "hoverinfo": "none",
         "line": {
          "smoothing": 1.3
         },
         "reversescale": true,
         "showscale": false,
         "type": "contour",
         "x": [
          1.85,
          2,
          3,
          4,
          5,
          5.15
         ],
         "xaxis": "x14",
         "y": [
          13,
          20,
          40,
          60,
          80,
          100,
          120,
          140,
          160,
          167
         ],
         "yaxis": "y14",
         "z": [
          [
           null,
           null,
           null,
           null,
           null,
           null
          ],
          [
           null,
           null,
           243.28672880531212,
           242.85308370321846,
           null,
           null
          ],
          [
           null,
           253.12266194703415,
           245.0251783723058,
           null,
           null,
           null
          ],
          [
           null,
           246.6334057562361,
           244.3587078248685,
           240.93728847989306,
           null,
           null
          ],
          [
           null,
           null,
           259.4649733653295,
           240.5651580914876,
           null,
           null
          ],
          [
           null,
           246.19082089309504,
           245.85730150823292,
           241.64340534264497,
           238.8298997667684,
           null
          ],
          [
           null,
           null,
           242.7117156322725,
           241.2506124862478,
           240.73823265500536,
           null
          ],
          [
           null,
           null,
           null,
           null,
           239.29171267433549,
           null
          ],
          [
           null,
           null,
           null,
           241.7107942607011,
           243.16076357631468,
           null
          ],
          [
           null,
           null,
           null,
           null,
           null,
           null
          ]
         ]
        },
        {
         "marker": {
          "color": "black",
          "line": {
           "color": "Grey",
           "width": 2
          }
         },
         "mode": "markers",
         "showlegend": false,
         "type": "scatter",
         "x": [
          4,
          4,
          2,
          2,
          4,
          3,
          4,
          4,
          2,
          5,
          5,
          3,
          4,
          5,
          3,
          4,
          3,
          5,
          5,
          5,
          5,
          5,
          5,
          5,
          4,
          5,
          4,
          5,
          5,
          4,
          4,
          4,
          4,
          4,
          3,
          4,
          4,
          3,
          4,
          4,
          3,
          3,
          3,
          2,
          3,
          2,
          3,
          3,
          3,
          3
         ],
         "xaxis": "x14",
         "y": [
          20,
          160,
          60,
          100,
          60,
          60,
          80,
          60,
          40,
          160,
          120,
          20,
          80,
          100,
          80,
          120,
          120,
          140,
          140,
          140,
          140,
          140,
          120,
          120,
          120,
          100,
          120,
          120,
          100,
          100,
          100,
          100,
          100,
          80,
          100,
          80,
          80,
          40,
          80,
          60,
          60,
          60,
          40,
          40,
          20,
          60,
          40,
          40,
          60,
          20
         ],
         "yaxis": "y14"
        },
        {
         "colorbar": {
          "title": {
           "text": "Objective Value"
          }
         },
         "colorscale": [
          [
           0,
           "rgb(247,251,255)"
          ],
          [
           0.125,
           "rgb(222,235,247)"
          ],
          [
           0.25,
           "rgb(198,219,239)"
          ],
          [
           0.375,
           "rgb(158,202,225)"
          ],
          [
           0.5,
           "rgb(107,174,214)"
          ],
          [
           0.625,
           "rgb(66,146,198)"
          ],
          [
           0.75,
           "rgb(33,113,181)"
          ],
          [
           0.875,
           "rgb(8,81,156)"
          ],
          [
           1,
           "rgb(8,48,107)"
          ]
         ],
         "connectgaps": true,
         "contours": {
          "coloring": "heatmap"
         },
         "hoverinfo": "none",
         "line": {
          "smoothing": 1.3
         },
         "reversescale": true,
         "showscale": false,
         "type": "contour",
         "x": [
          -0.40000000000000036,
          2,
          4,
          5,
          10,
          11,
          12,
          18,
          19,
          22,
          24,
          26,
          28,
          29,
          31,
          32,
          33,
          34,
          35,
          36,
          37,
          38,
          39,
          40,
          41,
          42,
          43,
          44,
          45,
          46,
          47,
          48,
          49,
          50,
          52.4
         ],
         "xaxis": "x3",
         "y": [
          -0.40000000000000036,
          2,
          3,
          4,
          5,
          7,
          8,
          9,
          10,
          11,
          12,
          13,
          14,
          15,
          16,
          17,
          18,
          19,
          20,
          22,
          23,
          24,
          25,
          27,
          28,
          30,
          32,
          35,
          36,
          37,
          40,
          41,
          46,
          50,
          52.4
         ],
         "yaxis": "y3",
         "z": [
          [
           null,
           null,
           null,
           null,
           null,
           null,
           null,
           null,
           null,
           null,
           null,
           null,
           null,
           null,
           null,
           null,
           null,
           null,
           null,
           null,
           null,
           null,
           null,
           null,
           null,
           null,
           null,
           null,
           null,
           null,
           null,
           null,
           null,
           null,
           null
          ],
          [
           null,
           null,
           null,
           null,
           null,
           null,
           null,
           null,
           null,
           259.4649733653295,
           null,
           null,
           null,
           null,
           null,
           null,
           null,
           null,
           null,
           null,
           null,
           null,
           null,
           null,
           null,
           null,
           null,
           null,
           null,
           null,
           null,
           null,
           null,
           null,
           null
          ],
          [
           null,
           null,
           null,
           null,
           null,
           null,
           null,
           null,
           null,
           null,
           null,
           null,
           248.15880770058757,
           null,
           null,
           null,
           null,
           null,
           null,
           null,
           null,
           null,
           null,
           null,
           null,
           null,
           null,
           null,
           null,
           null,
           null,
           null,
           null,
           null,
           null
          ],
          [
           null,
           null,
           null,
           244.3587078248685,
           null,
           null,
           null,
           null,
           null,
           null,
           null,
           null,
           null,
           null,
           null,
           null,
           null,
           null,
           null,
           null,
           null,
           null,
           null,
           null,
           null,
           null,
           null,
           null,
           null,
           null,
           null,
           null,
           null,
           null,
           null
          ],
          [
           null,
           null,
           null,
           null,
           null,
           null,
           null,
           null,
           null,
           null,
           null,
           null,
           null,
           null,
           null,
           null,
           null,
           null,
           null,
           null,
           null,
           null,
           null,
           null,
           null,
           null,
           253.12266194703415,
           null,
           245.85730150823292,
           null,
           null,
           null,
           null,
           null,
           null
          ],
          [
           null,
           null,
           null,
           null,
           null,
           null,
           null,
           null,
           null,
           null,
           null,
           null,
           null,
           null,
           241.64340534264497,
           null,
           null,
           null,
           null,
           null,
           null,
           null,
           null,
           null,
           null,
           241.2506124862478,
           null,
           null,
           null,
           null,
           null,
           null,
           null,
           null,
           null
          ],
          [
           null,
           null,
           null,
           null,
           null,
           null,
           null,
           null,
           null,
           null,
           null,
           null,
           null,
           null,
           null,
           null,
           null,
           null,
           null,
           null,
           null,
           null,
           null,
           null,
           null,
           null,
           null,
           null,
           null,
           null,
           240.93728847989306,
           null,
           null,
           null,
           null
          ],
          [
           null,
           null,
           null,
           null,
           null,
           null,
           null,
           null,
           null,
           null,
           null,
           null,
           null,
           null,
           null,
           null,
           null,
           null,
           242.7117156322725,
           null,
           null,
           null,
           null,
           null,
           null,
           null,
           null,
           null,
           null,
           null,
           null,
           null,
           null,
           null,
           null
          ],
          [
           null,
           null,
           null,
           null,
           null,
           null,
           null,
           null,
           null,
           null,
           null,
           null,
           null,
           null,
           239.03109145822776,
           null,
           null,
           null,
           null,
           null,
           null,
           null,
           null,
           null,
           null,
           null,
           null,
           null,
           null,
           null,
           null,
           null,
           null,
           null,
           null
          ],
          [
           null,
           null,
           null,
           null,
           null,
           null,
           null,
           null,
           null,
           null,
           null,
           null,
           240.4736594434865,
           null,
           null,
           null,
           null,
           null,
           null,
           null,
           null,
           null,
           238.90576937158465,
           null,
           null,
           null,
           null,
           null,
           null,
           null,
           null,
           null,
           null,
           null,
           null
          ],
          [
           null,
           null,
           null,
           null,
           null,
           null,
           null,
           null,
           null,
           null,
           239.74465350608315,
           null,
           null,
           null,
           null,
           null,
           null,
           null,
           null,
           238.30504707454787,
           null,
           null,
           null,
           null,
           null,
           null,
           null,
           null,
           null,
           null,
           null,
           245.0251783723058,
           null,
           null,
           null
          ],
          [
           null,
           null,
           null,
           null,
           null,
           null,
           null,
           null,
           null,
           null,
           null,
           null,
           null,
           246.6334057562361,
           null,
           null,
           null,
           null,
           null,
           238.47677056505228,
           null,
           null,
           null,
           null,
           null,
           null,
           null,
           null,
           null,
           null,
           null,
           null,
           null,
           243.7697998704169,
           null
          ],
          [
           null,
           null,
           null,
           null,
           null,
           null,
           null,
           null,
           null,
           null,
           null,
           null,
           null,
           null,
           null,
           null,
           null,
           null,
           238.83324019415105,
           null,
           null,
           null,
           240.39264682250936,
           null,
           null,
           null,
           null,
           null,
           null,
           null,
           null,
           null,
           null,
           null,
           null
          ],
          [
           null,
           null,
           null,
           null,
           null,
           null,
           null,
           null,
           null,
           null,
           null,
           null,
           null,
           null,
           null,
           null,
           null,
           null,
           null,
           null,
           null,
           239.28252004235668,
           null,
           238.8298997667684,
           null,
           null,
           null,
           null,
           null,
           null,
           null,
           null,
           null,
           null,
           null
          ],
          [
           null,
           null,
           null,
           null,
           null,
           null,
           null,
           null,
           null,
           null,
           null,
           null,
           239.76976843248832,
           null,
           null,
           239.05025264272467,
           239.4071464686725,
           null,
           null,
           null,
           null,
           null,
           null,
           null,
           null,
           null,
           null,
           null,
           null,
           null,
           null,
           null,
           null,
           null,
           null
          ],
          [
           null,
           null,
           null,
           null,
           null,
           null,
           null,
           null,
           243.86863054665181,
           null,
           null,
           null,
           null,
           null,
           null,
           null,
           null,
           null,
           null,
           null,
           null,
           null,
           null,
           null,
           null,
           null,
           null,
           null,
           null,
           null,
           null,
           null,
           null,
           null,
           null
          ],
          [
           null,
           null,
           null,
           null,
           null,
           null,
           null,
           null,
           null,
           null,
           null,
           null,
           null,
           null,
           239.74115830482614,
           null,
           null,
           null,
           null,
           null,
           null,
           null,
           null,
           null,
           null,
           null,
           null,
           240.5651580914876,
           null,
           null,
           null,
           null,
           null,
           null,
           null
          ],
          [
           null,
           241.7107942607011,
           null,
           null,
           null,
           null,
           null,
           null,
           null,
           null,
           null,
           null,
           null,
           null,
           null,
           null,
           null,
           null,
           null,
           null,
           null,
           null,
           null,
           null,
           null,
           null,
           null,
           null,
           null,
           null,
           null,
           null,
           null,
           null,
           null
          ],
          [
           null,
           null,
           null,
           null,
           null,
           null,
           null,
           null,
           null,
           null,
           null,
           null,
           null,
           null,
           null,
           null,
           null,
           null,
           null,
           null,
           null,
           null,
           null,
           null,
           239.19216435827175,
           239.78542266521976,
           null,
           null,
           null,
           null,
           null,
           null,
           null,
           null,
           null
          ],
          [
           null,
           null,
           null,
           null,
           null,
           null,
           null,
           null,
           null,
           null,
           null,
           null,
           null,
           null,
           null,
           null,
           null,
           239.53202600333034,
           null,
           null,
           239.04400741813365,
           null,
           null,
           null,
           null,
           null,
           null,
           null,
           null,
           null,
           null,
           null,
           null,
           null,
           null
          ],
          [
           null,
           null,
           null,
           null,
           null,
           null,
           null,
           null,
           null,
           null,
           null,
           243.28672880531212,
           null,
           null,
           null,
           null,
           null,
           null,
           null,
           null,
           null,
           null,
           null,
           null,
           null,
           null,
           null,
           null,
           null,
           null,
           null,
           null,
           null,
           null,
           null
          ],
          [
           null,
           null,
           null,
           null,
           null,
           null,
           null,
           null,
           null,
           null,
           245.96753844657377,
           null,
           null,
           null,
           null,
           null,
           null,
           null,
           null,
           null,
           null,
           null,
           null,
           null,
           null,
           null,
           null,
           null,
           null,
           null,
           null,
           null,
           null,
           null,
           null
          ],
          [
           null,
           null,
           null,
           null,
           null,
           null,
           null,
           null,
           null,
           null,
           null,
           null,
           null,
           null,
           null,
           null,
           null,
           null,
           null,
           null,
           239.2818735242251,
           null,
           null,
           null,
           null,
           null,
           null,
           null,
           null,
           null,
           null,
           null,
           null,
           null,
           null
          ],
          [
           null,
           null,
           null,
           null,
           null,
           null,
           null,
           null,
           null,
           null,
           null,
           null,
           null,
           null,
           null,
           null,
           null,
           null,
           null,
           null,
           239.2818735242251,
           null,
           null,
           null,
           null,
           null,
           null,
           null,
           null,
           null,
           null,
           null,
           null,
           null,
           null
          ],
          [
           null,
           null,
           null,
           null,
           null,
           null,
           null,
           null,
           null,
           null,
           null,
           null,
           null,
           null,
           null,
           null,
           null,
           null,
           null,
           null,
           null,
           null,
           null,
           239.21099483487177,
           null,
           null,
           null,
           null,
           null,
           null,
           null,
           null,
           240.73823265500536,
           null,
           null
          ],
          [
           null,
           null,
           null,
           null,
           null,
           null,
           null,
           null,
           null,
           null,
           null,
           null,
           null,
           null,
           null,
           null,
           null,
           null,
           239.29171267433549,
           null,
           null,
           null,
           null,
           null,
           null,
           null,
           null,
           null,
           null,
           null,
           null,
           null,
           null,
           null,
           null
          ],
          [
           null,
           null,
           null,
           null,
           null,
           null,
           null,
           null,
           null,
           null,
           null,
           null,
           null,
           null,
           null,
           null,
           null,
           null,
           null,
           null,
           null,
           null,
           null,
           null,
           null,
           null,
           null,
           null,
           null,
           240.11531193282218,
           null,
           null,
           null,
           null,
           null
          ],
          [
           null,
           null,
           null,
           null,
           null,
           null,
           239.96673131627176,
           null,
           null,
           null,
           null,
           null,
           null,
           null,
           null,
           null,
           null,
           null,
           null,
           null,
           null,
           null,
           null,
           null,
           null,
           null,
           null,
           null,
           null,
           null,
           null,
           null,
           null,
           null,
           null
          ],
          [
           null,
           null,
           null,
           null,
           243.16076357631468,
           null,
           null,
           null,
           null,
           null,
           null,
           null,
           null,
           null,
           null,
           null,
           null,
           null,
           null,
           null,
           null,
           null,
           null,
           null,
           null,
           null,
           null,
           null,
           null,
           null,
           null,
           null,
           null,
           null,
           null
          ],
          [
           null,
           null,
           243.17117956414012,
           null,
           null,
           null,
           null,
           null,
           null,
           null,
           null,
           null,
           null,
           null,
           null,
           null,
           null,
           null,
           null,
           null,
           null,
           null,
           null,
           null,
           null,
           null,
           null,
           null,
           null,
           null,
           null,
           null,
           null,
           null,
           null
          ],
          [
           null,
           null,
           null,
           null,
           null,
           null,
           null,
           null,
           null,
           null,
           null,
           null,
           null,
           null,
           null,
           null,
           null,
           null,
           null,
           null,
           null,
           null,
           null,
           null,
           null,
           null,
           null,
           null,
           247.42074981914078,
           null,
           null,
           null,
           null,
           null,
           null
          ],
          [
           null,
           null,
           null,
           null,
           null,
           242.85308370321846,
           null,
           null,
           null,
           null,
           null,
           null,
           null,
           null,
           null,
           null,
           null,
           null,
           null,
           null,
           null,
           null,
           null,
           null,
           null,
           null,
           null,
           null,
           null,
           null,
           null,
           null,
           null,
           null,
           null
          ],
          [
           null,
           null,
           null,
           null,
           null,
           null,
           null,
           null,
           null,
           null,
           null,
           null,
           null,
           null,
           null,
           null,
           null,
           null,
           null,
           null,
           null,
           null,
           null,
           null,
           246.19082089309504,
           null,
           null,
           null,
           null,
           null,
           null,
           null,
           null,
           null,
           null
          ],
          [
           null,
           null,
           null,
           null,
           null,
           null,
           null,
           239.90858132230636,
           null,
           null,
           null,
           null,
           null,
           null,
           null,
           null,
           null,
           null,
           null,
           null,
           null,
           null,
           null,
           null,
           null,
           null,
           null,
           null,
           null,
           null,
           null,
           null,
           null,
           null,
           null
          ],
          [
           null,
           null,
           null,
           null,
           null,
           null,
           null,
           null,
           null,
           null,
           null,
           null,
           null,
           null,
           null,
           null,
           null,
           null,
           null,
           null,
           null,
           null,
           null,
           null,
           null,
           null,
           null,
           null,
           null,
           null,
           null,
           null,
           null,
           null,
           null
          ]
         ]
        },
        {
         "marker": {
          "color": "black",
          "line": {
           "color": "Grey",
           "width": 2
          }
         },
         "mode": "markers",
         "showlegend": false,
         "type": "scatter",
         "x": [
          11,
          2,
          4,
          41,
          28,
          50,
          46,
          12,
          45,
          10,
          28,
          24,
          24,
          28,
          22,
          35,
          35,
          37,
          37,
          34,
          18,
          35,
          40,
          41,
          42,
          31,
          42,
          49,
          40,
          32,
          33,
          39,
          31,
          38,
          45,
          31,
          39,
          39,
          44,
          47,
          36,
          36,
          36,
          43,
          37,
          29,
          19,
          48,
          5,
          26
         ],
         "xaxis": "x3",
         "y": [
          41,
          19,
          37,
          46,
          16,
          13,
          32,
          35,
          40,
          36,
          3,
          24,
          12,
          11,
          2,
          14,
          9,
          25,
          27,
          22,
          50,
          30,
          28,
          20,
          20,
          18,
          7,
          28,
          15,
          16,
          16,
          14,
          7,
          15,
          5,
          10,
          11,
          14,
          18,
          8,
          12,
          13,
          13,
          5,
          22,
          13,
          17,
          12,
          4,
          23
         ],
         "yaxis": "y3"
        },
        {
         "colorbar": {
          "title": {
           "text": "Objective Value"
          }
         },
         "colorscale": [
          [
           0,
           "rgb(247,251,255)"
          ],
          [
           0.125,
           "rgb(222,235,247)"
          ],
          [
           0.25,
           "rgb(198,219,239)"
          ],
          [
           0.375,
           "rgb(158,202,225)"
          ],
          [
           0.5,
           "rgb(107,174,214)"
          ],
          [
           0.625,
           "rgb(66,146,198)"
          ],
          [
           0.75,
           "rgb(33,113,181)"
          ],
          [
           0.875,
           "rgb(8,81,156)"
          ],
          [
           1,
           "rgb(8,48,107)"
          ]
         ],
         "connectgaps": true,
         "contours": {
          "coloring": "heatmap"
         },
         "hoverinfo": "none",
         "line": {
          "smoothing": 1.3
         },
         "reversescale": true,
         "showscale": false,
         "type": "contour",
         "x": [
          -0.40000000000000036,
          2,
          4,
          5,
          10,
          11,
          12,
          18,
          19,
          22,
          24,
          26,
          28,
          29,
          31,
          32,
          33,
          34,
          35,
          36,
          37,
          38,
          39,
          40,
          41,
          42,
          43,
          44,
          45,
          46,
          47,
          48,
          49,
          50,
          52.4
         ],
         "xaxis": "x7",
         "y": [
          1.85,
          2,
          3,
          4,
          5,
          5.15
         ],
         "yaxis": "y7",
         "z": [
          [
           null,
           null,
           null,
           null,
           null,
           null,
           null,
           null,
           null,
           null,
           null,
           null,
           null,
           null,
           null,
           null,
           null,
           null,
           null,
           null,
           null,
           null,
           null,
           null,
           null,
           null,
           null,
           null,
           null,
           null,
           null,
           null,
           null,
           null,
           null
          ],
          [
           null,
           null,
           243.17117956414012,
           null,
           null,
           null,
           null,
           null,
           null,
           null,
           null,
           null,
           null,
           246.6334057562361,
           null,
           null,
           null,
           null,
           null,
           null,
           null,
           null,
           null,
           null,
           246.19082089309504,
           null,
           253.12266194703415,
           null,
           247.42074981914078,
           null,
           null,
           null,
           null,
           null,
           null
          ],
          [
           null,
           null,
           null,
           244.3587078248685,
           null,
           null,
           null,
           null,
           243.86863054665181,
           259.4649733653295,
           245.96753844657377,
           243.28672880531212,
           null,
           null,
           null,
           null,
           null,
           null,
           242.7117156322725,
           238.47677056505228,
           239.04400741813365,
           null,
           240.39264682250936,
           null,
           null,
           null,
           null,
           null,
           245.85730150823292,
           null,
           null,
           245.0251783723058,
           null,
           243.7697998704169,
           null
          ],
          [
           null,
           241.7107942607011,
           null,
           null,
           null,
           242.85308370321846,
           239.96673131627176,
           null,
           null,
           null,
           239.74465350608315,
           null,
           239.76976843248832,
           null,
           239.03109145822776,
           239.05025264272467,
           239.4071464686725,
           null,
           238.83324019415105,
           null,
           null,
           239.28252004235668,
           238.90576937158465,
           null,
           null,
           241.2506124862478,
           null,
           240.5651580914876,
           null,
           240.11531193282218,
           240.93728847989306,
           null,
           null,
           null,
           null
          ],
          [
           null,
           null,
           null,
           null,
           243.16076357631468,
           null,
           null,
           239.90858132230636,
           null,
           null,
           null,
           null,
           240.4736594434865,
           null,
           239.74115830482614,
           null,
           null,
           239.53202600333034,
           239.29171267433549,
           null,
           239.2818735242251,
           null,
           null,
           238.8298997667684,
           239.19216435827175,
           null,
           null,
           null,
           null,
           null,
           null,
           null,
           240.73823265500536,
           null,
           null
          ],
          [
           null,
           null,
           null,
           null,
           null,
           null,
           null,
           null,
           null,
           null,
           null,
           null,
           null,
           null,
           null,
           null,
           null,
           null,
           null,
           null,
           null,
           null,
           null,
           null,
           null,
           null,
           null,
           null,
           null,
           null,
           null,
           null,
           null,
           null,
           null
          ]
         ]
        },
        {
         "marker": {
          "color": "black",
          "line": {
           "color": "Grey",
           "width": 2
          }
         },
         "mode": "markers",
         "showlegend": false,
         "type": "scatter",
         "x": [
          11,
          2,
          4,
          41,
          28,
          50,
          46,
          12,
          45,
          10,
          28,
          24,
          24,
          28,
          22,
          35,
          35,
          37,
          37,
          34,
          18,
          35,
          40,
          41,
          42,
          31,
          42,
          49,
          40,
          32,
          33,
          39,
          31,
          38,
          45,
          31,
          39,
          39,
          44,
          47,
          36,
          36,
          36,
          43,
          37,
          29,
          19,
          48,
          5,
          26
         ],
         "xaxis": "x7",
         "y": [
          4,
          4,
          2,
          2,
          4,
          3,
          4,
          4,
          2,
          5,
          5,
          3,
          4,
          5,
          3,
          4,
          3,
          5,
          5,
          5,
          5,
          5,
          5,
          5,
          4,
          5,
          4,
          5,
          5,
          4,
          4,
          4,
          4,
          4,
          3,
          4,
          4,
          3,
          4,
          4,
          3,
          3,
          3,
          2,
          3,
          2,
          3,
          3,
          3,
          3
         ],
         "yaxis": "y7"
        },
        {
         "type": "scatter",
         "xaxis": "x11",
         "yaxis": "y11"
        },
        {
         "colorbar": {
          "title": {
           "text": "Objective Value"
          }
         },
         "colorscale": [
          [
           0,
           "rgb(247,251,255)"
          ],
          [
           0.125,
           "rgb(222,235,247)"
          ],
          [
           0.25,
           "rgb(198,219,239)"
          ],
          [
           0.375,
           "rgb(158,202,225)"
          ],
          [
           0.5,
           "rgb(107,174,214)"
          ],
          [
           0.625,
           "rgb(66,146,198)"
          ],
          [
           0.75,
           "rgb(33,113,181)"
          ],
          [
           0.875,
           "rgb(8,81,156)"
          ],
          [
           1,
           "rgb(8,48,107)"
          ]
         ],
         "connectgaps": true,
         "contours": {
          "coloring": "heatmap"
         },
         "hoverinfo": "none",
         "line": {
          "smoothing": 1.3
         },
         "reversescale": true,
         "showscale": false,
         "type": "contour",
         "x": [
          -0.40000000000000036,
          2,
          4,
          5,
          10,
          11,
          12,
          18,
          19,
          22,
          24,
          26,
          28,
          29,
          31,
          32,
          33,
          34,
          35,
          36,
          37,
          38,
          39,
          40,
          41,
          42,
          43,
          44,
          45,
          46,
          47,
          48,
          49,
          50,
          52.4
         ],
         "xaxis": "x15",
         "y": [
          13,
          20,
          40,
          60,
          80,
          100,
          120,
          140,
          160,
          167
         ],
         "yaxis": "y15",
         "z": [
          [
           null,
           null,
           null,
           null,
           null,
           null,
           null,
           null,
           null,
           null,
           null,
           null,
           null,
           null,
           null,
           null,
           null,
           null,
           null,
           null,
           null,
           null,
           null,
           null,
           null,
           null,
           null,
           null,
           null,
           null,
           null,
           null,
           null,
           null,
           null
          ],
          [
           null,
           null,
           null,
           null,
           null,
           242.85308370321846,
           null,
           null,
           null,
           null,
           245.96753844657377,
           243.28672880531212,
           null,
           null,
           null,
           null,
           null,
           null,
           null,
           null,
           239.04400741813365,
           null,
           null,
           null,
           null,
           null,
           null,
           null,
           null,
           null,
           null,
           null,
           null,
           null,
           null
          ],
          [
           null,
           null,
           null,
           null,
           null,
           null,
           null,
           null,
           243.86863054665181,
           null,
           null,
           null,
           null,
           null,
           null,
           null,
           null,
           null,
           null,
           238.47677056505228,
           null,
           null,
           240.39264682250936,
           null,
           null,
           null,
           253.12266194703415,
           null,
           247.42074981914078,
           null,
           null,
           245.0251783723058,
           null,
           null,
           null
          ],
          [
           null,
           null,
           243.17117956414012,
           244.3587078248685,
           null,
           null,
           239.96673131627176,
           null,
           null,
           null,
           null,
           null,
           239.76976843248832,
           246.6334057562361,
           null,
           null,
           null,
           null,
           null,
           238.43581862061288,
           null,
           null,
           null,
           null,
           null,
           null,
           null,
           null,
           null,
           null,
           240.93728847989306,
           null,
           null,
           243.7697998704169,
           null
          ],
          [
           null,
           null,
           null,
           null,
           null,
           null,
           null,
           null,
           null,
           259.4649733653295,
           239.74465350608315,
           null,
           null,
           null,
           239.03109145822776,
           null,
           null,
           null,
           null,
           null,
           null,
           239.28252004235668,
           238.90576937158465,
           null,
           null,
           null,
           null,
           240.5651580914876,
           null,
           240.11531193282218,
           null,
           null,
           null,
           null,
           null
          ],
          [
           null,
           null,
           null,
           null,
           null,
           null,
           null,
           null,
           null,
           null,
           null,
           null,
           240.4736594434865,
           null,
           241.64340534264497,
           239.05025264272467,
           239.4071464686725,
           null,
           null,
           null,
           null,
           null,
           238.6802284814912,
           238.8298997667684,
           246.19082089309504,
           null,
           null,
           null,
           245.85730150823292,
           null,
           null,
           null,
           null,
           null,
           null
          ],
          [
           null,
           null,
           null,
           null,
           null,
           null,
           null,
           null,
           null,
           null,
           null,
           null,
           248.15880770058757,
           null,
           null,
           null,
           null,
           null,
           242.7117156322725,
           null,
           null,
           null,
           null,
           239.21099483487177,
           239.19216435827175,
           241.2506124862478,
           null,
           null,
           null,
           null,
           null,
           null,
           240.73823265500536,
           null,
           null
          ],
          [
           null,
           null,
           null,
           null,
           null,
           null,
           null,
           239.90858132230636,
           null,
           null,
           null,
           null,
           null,
           null,
           null,
           null,
           null,
           239.53202600333034,
           239.29171267433549,
           null,
           239.2818735242251,
           null,
           null,
           null,
           null,
           null,
           null,
           null,
           null,
           null,
           null,
           null,
           null,
           null,
           null
          ],
          [
           null,
           241.7107942607011,
           null,
           null,
           243.16076357631468,
           null,
           null,
           null,
           null,
           null,
           null,
           null,
           null,
           null,
           null,
           null,
           null,
           null,
           null,
           null,
           null,
           null,
           null,
           null,
           null,
           null,
           null,
           null,
           null,
           null,
           null,
           null,
           null,
           null,
           null
          ],
          [
           null,
           null,
           null,
           null,
           null,
           null,
           null,
           null,
           null,
           null,
           null,
           null,
           null,
           null,
           null,
           null,
           null,
           null,
           null,
           null,
           null,
           null,
           null,
           null,
           null,
           null,
           null,
           null,
           null,
           null,
           null,
           null,
           null,
           null,
           null
          ]
         ]
        },
        {
         "marker": {
          "color": "black",
          "line": {
           "color": "Grey",
           "width": 2
          }
         },
         "mode": "markers",
         "showlegend": false,
         "type": "scatter",
         "x": [
          11,
          2,
          4,
          41,
          28,
          50,
          46,
          12,
          45,
          10,
          28,
          24,
          24,
          28,
          22,
          35,
          35,
          37,
          37,
          34,
          18,
          35,
          40,
          41,
          42,
          31,
          42,
          49,
          40,
          32,
          33,
          39,
          31,
          38,
          45,
          31,
          39,
          39,
          44,
          47,
          36,
          36,
          36,
          43,
          37,
          29,
          19,
          48,
          5,
          26
         ],
         "xaxis": "x15",
         "y": [
          20,
          160,
          60,
          100,
          60,
          60,
          80,
          60,
          40,
          160,
          120,
          20,
          80,
          100,
          80,
          120,
          120,
          140,
          140,
          140,
          140,
          140,
          120,
          120,
          120,
          100,
          120,
          120,
          100,
          100,
          100,
          100,
          100,
          80,
          100,
          80,
          80,
          40,
          80,
          60,
          60,
          60,
          40,
          40,
          20,
          60,
          40,
          40,
          60,
          20
         ],
         "yaxis": "y15"
        },
        {
         "colorbar": {
          "title": {
           "text": "Objective Value"
          }
         },
         "colorscale": [
          [
           0,
           "rgb(247,251,255)"
          ],
          [
           0.125,
           "rgb(222,235,247)"
          ],
          [
           0.25,
           "rgb(198,219,239)"
          ],
          [
           0.375,
           "rgb(158,202,225)"
          ],
          [
           0.5,
           "rgb(107,174,214)"
          ],
          [
           0.625,
           "rgb(66,146,198)"
          ],
          [
           0.75,
           "rgb(33,113,181)"
          ],
          [
           0.875,
           "rgb(8,81,156)"
          ],
          [
           1,
           "rgb(8,48,107)"
          ]
         ],
         "connectgaps": true,
         "contours": {
          "coloring": "heatmap"
         },
         "hoverinfo": "none",
         "line": {
          "smoothing": 1.3
         },
         "reversescale": true,
         "showscale": false,
         "type": "contour",
         "x": [
          13,
          20,
          40,
          60,
          80,
          100,
          120,
          140,
          160,
          167
         ],
         "xaxis": "x4",
         "y": [
          -0.40000000000000036,
          2,
          3,
          4,
          5,
          7,
          8,
          9,
          10,
          11,
          12,
          13,
          14,
          15,
          16,
          17,
          18,
          19,
          20,
          22,
          23,
          24,
          25,
          27,
          28,
          30,
          32,
          35,
          36,
          37,
          40,
          41,
          46,
          50,
          52.4
         ],
         "yaxis": "y4",
         "z": [
          [
           null,
           null,
           null,
           null,
           null,
           null,
           null,
           null,
           null,
           null
          ],
          [
           null,
           null,
           null,
           null,
           259.4649733653295,
           null,
           null,
           null,
           null,
           null
          ],
          [
           null,
           null,
           null,
           null,
           null,
           null,
           248.15880770058757,
           null,
           null,
           null
          ],
          [
           null,
           null,
           null,
           244.3587078248685,
           null,
           null,
           null,
           null,
           null,
           null
          ],
          [
           null,
           null,
           253.12266194703415,
           null,
           null,
           245.85730150823292,
           null,
           null,
           null,
           null
          ],
          [
           null,
           null,
           null,
           null,
           null,
           241.64340534264497,
           241.2506124862478,
           null,
           null,
           null
          ],
          [
           null,
           null,
           null,
           240.93728847989306,
           null,
           null,
           null,
           null,
           null,
           null
          ],
          [
           null,
           null,
           null,
           null,
           null,
           null,
           242.7117156322725,
           null,
           null,
           null
          ],
          [
           null,
           null,
           null,
           null,
           239.03109145822776,
           null,
           null,
           null,
           null,
           null
          ],
          [
           null,
           null,
           null,
           null,
           238.90576937158465,
           240.4736594434865,
           null,
           null,
           null,
           null
          ],
          [
           null,
           null,
           245.0251783723058,
           238.30504707454787,
           239.74465350608315,
           null,
           null,
           null,
           null,
           null
          ],
          [
           null,
           null,
           238.47677056505228,
           246.6334057562361,
           null,
           null,
           null,
           null,
           null,
           null
          ],
          [
           null,
           null,
           240.39264682250936,
           null,
           null,
           238.6802284814912,
           238.83324019415105,
           null,
           null,
           null
          ],
          [
           null,
           null,
           null,
           null,
           239.28252004235668,
           238.8298997667684,
           null,
           null,
           null,
           null
          ],
          [
           null,
           null,
           null,
           239.76976843248832,
           null,
           239.4071464686725,
           null,
           null,
           null,
           null
          ],
          [
           null,
           null,
           243.86863054665181,
           null,
           null,
           null,
           null,
           null,
           null,
           null
          ],
          [
           null,
           null,
           null,
           null,
           240.5651580914876,
           239.74115830482614,
           null,
           null,
           null,
           null
          ],
          [
           null,
           null,
           null,
           null,
           null,
           null,
           null,
           null,
           241.7107942607011,
           null
          ],
          [
           null,
           null,
           null,
           null,
           null,
           null,
           239.78542266521976,
           null,
           null,
           null
          ],
          [
           null,
           239.04400741813365,
           null,
           null,
           null,
           null,
           null,
           239.53202600333034,
           null,
           null
          ],
          [
           null,
           243.28672880531212,
           null,
           null,
           null,
           null,
           null,
           null,
           null,
           null
          ],
          [
           null,
           245.96753844657377,
           null,
           null,
           null,
           null,
           null,
           null,
           null,
           null
          ],
          [
           null,
           null,
           null,
           null,
           null,
           null,
           null,
           239.2818735242251,
           null,
           null
          ],
          [
           null,
           null,
           null,
           null,
           null,
           null,
           null,
           239.2818735242251,
           null,
           null
          ],
          [
           null,
           null,
           null,
           null,
           null,
           null,
           240.73823265500536,
           null,
           null,
           null
          ],
          [
           null,
           null,
           null,
           null,
           null,
           null,
           null,
           239.29171267433549,
           null,
           null
          ],
          [
           null,
           null,
           null,
           null,
           240.11531193282218,
           null,
           null,
           null,
           null,
           null
          ],
          [
           null,
           null,
           null,
           239.96673131627176,
           null,
           null,
           null,
           null,
           null,
           null
          ],
          [
           null,
           null,
           null,
           null,
           null,
           null,
           null,
           null,
           243.16076357631468,
           null
          ],
          [
           null,
           null,
           null,
           243.17117956414012,
           null,
           null,
           null,
           null,
           null,
           null
          ],
          [
           null,
           null,
           247.42074981914078,
           null,
           null,
           null,
           null,
           null,
           null,
           null
          ],
          [
           null,
           242.85308370321846,
           null,
           null,
           null,
           null,
           null,
           null,
           null,
           null
          ],
          [
           null,
           null,
           null,
           null,
           null,
           246.19082089309504,
           null,
           null,
           null,
           null
          ],
          [
           null,
           null,
           null,
           null,
           null,
           null,
           null,
           239.90858132230636,
           null,
           null
          ],
          [
           null,
           null,
           null,
           null,
           null,
           null,
           null,
           null,
           null,
           null
          ]
         ]
        },
        {
         "marker": {
          "color": "black",
          "line": {
           "color": "Grey",
           "width": 2
          }
         },
         "mode": "markers",
         "showlegend": false,
         "type": "scatter",
         "x": [
          20,
          160,
          60,
          100,
          60,
          60,
          80,
          60,
          40,
          160,
          120,
          20,
          80,
          100,
          80,
          120,
          120,
          140,
          140,
          140,
          140,
          140,
          120,
          120,
          120,
          100,
          120,
          120,
          100,
          100,
          100,
          100,
          100,
          80,
          100,
          80,
          80,
          40,
          80,
          60,
          60,
          60,
          40,
          40,
          20,
          60,
          40,
          40,
          60,
          20
         ],
         "xaxis": "x4",
         "y": [
          41,
          19,
          37,
          46,
          16,
          13,
          32,
          35,
          40,
          36,
          3,
          24,
          12,
          11,
          2,
          14,
          9,
          25,
          27,
          22,
          50,
          30,
          28,
          20,
          20,
          18,
          7,
          28,
          15,
          16,
          16,
          14,
          7,
          15,
          5,
          10,
          11,
          14,
          18,
          8,
          12,
          13,
          13,
          5,
          22,
          13,
          17,
          12,
          4,
          23
         ],
         "yaxis": "y4"
        },
        {
         "colorbar": {
          "title": {
           "text": "Objective Value"
          }
         },
         "colorscale": [
          [
           0,
           "rgb(247,251,255)"
          ],
          [
           0.125,
           "rgb(222,235,247)"
          ],
          [
           0.25,
           "rgb(198,219,239)"
          ],
          [
           0.375,
           "rgb(158,202,225)"
          ],
          [
           0.5,
           "rgb(107,174,214)"
          ],
          [
           0.625,
           "rgb(66,146,198)"
          ],
          [
           0.75,
           "rgb(33,113,181)"
          ],
          [
           0.875,
           "rgb(8,81,156)"
          ],
          [
           1,
           "rgb(8,48,107)"
          ]
         ],
         "connectgaps": true,
         "contours": {
          "coloring": "heatmap"
         },
         "hoverinfo": "none",
         "line": {
          "smoothing": 1.3
         },
         "reversescale": true,
         "showscale": false,
         "type": "contour",
         "x": [
          13,
          20,
          40,
          60,
          80,
          100,
          120,
          140,
          160,
          167
         ],
         "xaxis": "x8",
         "y": [
          1.85,
          2,
          3,
          4,
          5,
          5.15
         ],
         "yaxis": "y8",
         "z": [
          [
           null,
           null,
           null,
           null,
           null,
           null,
           null,
           null,
           null,
           null
          ],
          [
           null,
           null,
           253.12266194703415,
           246.6334057562361,
           null,
           246.19082089309504,
           null,
           null,
           null,
           null
          ],
          [
           null,
           243.28672880531212,
           245.0251783723058,
           244.3587078248685,
           259.4649733653295,
           245.85730150823292,
           242.7117156322725,
           null,
           null,
           null
          ],
          [
           null,
           242.85308370321846,
           null,
           240.93728847989306,
           240.5651580914876,
           241.64340534264497,
           241.2506124862478,
           null,
           241.7107942607011,
           null
          ],
          [
           null,
           null,
           null,
           null,
           null,
           238.8298997667684,
           240.73823265500536,
           239.29171267433549,
           243.16076357631468,
           null
          ],
          [
           null,
           null,
           null,
           null,
           null,
           null,
           null,
           null,
           null,
           null
          ]
         ]
        },
        {
         "marker": {
          "color": "black",
          "line": {
           "color": "Grey",
           "width": 2
          }
         },
         "mode": "markers",
         "showlegend": false,
         "type": "scatter",
         "x": [
          20,
          160,
          60,
          100,
          60,
          60,
          80,
          60,
          40,
          160,
          120,
          20,
          80,
          100,
          80,
          120,
          120,
          140,
          140,
          140,
          140,
          140,
          120,
          120,
          120,
          100,
          120,
          120,
          100,
          100,
          100,
          100,
          100,
          80,
          100,
          80,
          80,
          40,
          80,
          60,
          60,
          60,
          40,
          40,
          20,
          60,
          40,
          40,
          60,
          20
         ],
         "xaxis": "x8",
         "y": [
          4,
          4,
          2,
          2,
          4,
          3,
          4,
          4,
          2,
          5,
          5,
          3,
          4,
          5,
          3,
          4,
          3,
          5,
          5,
          5,
          5,
          5,
          5,
          5,
          4,
          5,
          4,
          5,
          5,
          4,
          4,
          4,
          4,
          4,
          3,
          4,
          4,
          3,
          4,
          4,
          3,
          3,
          3,
          2,
          3,
          2,
          3,
          3,
          3,
          3
         ],
         "yaxis": "y8"
        },
        {
         "colorbar": {
          "title": {
           "text": "Objective Value"
          }
         },
         "colorscale": [
          [
           0,
           "rgb(247,251,255)"
          ],
          [
           0.125,
           "rgb(222,235,247)"
          ],
          [
           0.25,
           "rgb(198,219,239)"
          ],
          [
           0.375,
           "rgb(158,202,225)"
          ],
          [
           0.5,
           "rgb(107,174,214)"
          ],
          [
           0.625,
           "rgb(66,146,198)"
          ],
          [
           0.75,
           "rgb(33,113,181)"
          ],
          [
           0.875,
           "rgb(8,81,156)"
          ],
          [
           1,
           "rgb(8,48,107)"
          ]
         ],
         "connectgaps": true,
         "contours": {
          "coloring": "heatmap"
         },
         "hoverinfo": "none",
         "line": {
          "smoothing": 1.3
         },
         "reversescale": true,
         "showscale": false,
         "type": "contour",
         "x": [
          13,
          20,
          40,
          60,
          80,
          100,
          120,
          140,
          160,
          167
         ],
         "xaxis": "x12",
         "y": [
          -0.40000000000000036,
          2,
          4,
          5,
          10,
          11,
          12,
          18,
          19,
          22,
          24,
          26,
          28,
          29,
          31,
          32,
          33,
          34,
          35,
          36,
          37,
          38,
          39,
          40,
          41,
          42,
          43,
          44,
          45,
          46,
          47,
          48,
          49,
          50,
          52.4
         ],
         "yaxis": "y12",
         "z": [
          [
           null,
           null,
           null,
           null,
           null,
           null,
           null,
           null,
           null,
           null
          ],
          [
           null,
           null,
           null,
           null,
           null,
           null,
           null,
           null,
           241.7107942607011,
           null
          ],
          [
           null,
           null,
           null,
           243.17117956414012,
           null,
           null,
           null,
           null,
           null,
           null
          ],
          [
           null,
           null,
           null,
           244.3587078248685,
           null,
           null,
           null,
           null,
           null,
           null
          ],
          [
           null,
           null,
           null,
           null,
           null,
           null,
           null,
           null,
           243.16076357631468,
           null
          ],
          [
           null,
           242.85308370321846,
           null,
           null,
           null,
           null,
           null,
           null,
           null,
           null
          ],
          [
           null,
           null,
           null,
           239.96673131627176,
           null,
           null,
           null,
           null,
           null,
           null
          ],
          [
           null,
           null,
           null,
           null,
           null,
           null,
           null,
           239.90858132230636,
           null,
           null
          ],
          [
           null,
           null,
           243.86863054665181,
           null,
           null,
           null,
           null,
           null,
           null,
           null
          ],
          [
           null,
           null,
           null,
           null,
           259.4649733653295,
           null,
           null,
           null,
           null,
           null
          ],
          [
           null,
           245.96753844657377,
           null,
           null,
           239.74465350608315,
           null,
           null,
           null,
           null,
           null
          ],
          [
           null,
           243.28672880531212,
           null,
           null,
           null,
           null,
           null,
           null,
           null,
           null
          ],
          [
           null,
           null,
           null,
           239.76976843248832,
           null,
           240.4736594434865,
           248.15880770058757,
           null,
           null,
           null
          ],
          [
           null,
           null,
           null,
           246.6334057562361,
           null,
           null,
           null,
           null,
           null,
           null
          ],
          [
           null,
           null,
           null,
           null,
           239.03109145822776,
           241.64340534264497,
           null,
           null,
           null,
           null
          ],
          [
           null,
           null,
           null,
           null,
           null,
           239.05025264272467,
           null,
           null,
           null,
           null
          ],
          [
           null,
           null,
           null,
           null,
           null,
           239.4071464686725,
           null,
           null,
           null,
           null
          ],
          [
           null,
           null,
           null,
           null,
           null,
           null,
           null,
           239.53202600333034,
           null,
           null
          ],
          [
           null,
           null,
           null,
           null,
           null,
           null,
           242.7117156322725,
           239.29171267433549,
           null,
           null
          ],
          [
           null,
           null,
           238.47677056505228,
           238.43581862061288,
           null,
           null,
           null,
           null,
           null,
           null
          ],
          [
           null,
           239.04400741813365,
           null,
           null,
           null,
           null,
           null,
           239.2818735242251,
           null,
           null
          ],
          [
           null,
           null,
           null,
           null,
           239.28252004235668,
           null,
           null,
           null,
           null,
           null
          ],
          [
           null,
           null,
           240.39264682250936,
           null,
           238.90576937158465,
           238.6802284814912,
           null,
           null,
           null,
           null
          ],
          [
           null,
           null,
           null,
           null,
           null,
           238.8298997667684,
           239.21099483487177,
           null,
           null,
           null
          ],
          [
           null,
           null,
           null,
           null,
           null,
           246.19082089309504,
           239.19216435827175,
           null,
           null,
           null
          ],
          [
           null,
           null,
           null,
           null,
           null,
           null,
           241.2506124862478,
           null,
           null,
           null
          ],
          [
           null,
           null,
           253.12266194703415,
           null,
           null,
           null,
           null,
           null,
           null,
           null
          ],
          [
           null,
           null,
           null,
           null,
           240.5651580914876,
           null,
           null,
           null,
           null,
           null
          ],
          [
           null,
           null,
           247.42074981914078,
           null,
           null,
           245.85730150823292,
           null,
           null,
           null,
           null
          ],
          [
           null,
           null,
           null,
           null,
           240.11531193282218,
           null,
           null,
           null,
           null,
           null
          ],
          [
           null,
           null,
           null,
           240.93728847989306,
           null,
           null,
           null,
           null,
           null,
           null
          ],
          [
           null,
           null,
           245.0251783723058,
           null,
           null,
           null,
           null,
           null,
           null,
           null
          ],
          [
           null,
           null,
           null,
           null,
           null,
           null,
           240.73823265500536,
           null,
           null,
           null
          ],
          [
           null,
           null,
           null,
           243.7697998704169,
           null,
           null,
           null,
           null,
           null,
           null
          ],
          [
           null,
           null,
           null,
           null,
           null,
           null,
           null,
           null,
           null,
           null
          ]
         ]
        },
        {
         "marker": {
          "color": "black",
          "line": {
           "color": "Grey",
           "width": 2
          }
         },
         "mode": "markers",
         "showlegend": false,
         "type": "scatter",
         "x": [
          20,
          160,
          60,
          100,
          60,
          60,
          80,
          60,
          40,
          160,
          120,
          20,
          80,
          100,
          80,
          120,
          120,
          140,
          140,
          140,
          140,
          140,
          120,
          120,
          120,
          100,
          120,
          120,
          100,
          100,
          100,
          100,
          100,
          80,
          100,
          80,
          80,
          40,
          80,
          60,
          60,
          60,
          40,
          40,
          20,
          60,
          40,
          40,
          60,
          20
         ],
         "xaxis": "x12",
         "y": [
          11,
          2,
          4,
          41,
          28,
          50,
          46,
          12,
          45,
          10,
          28,
          24,
          24,
          28,
          22,
          35,
          35,
          37,
          37,
          34,
          18,
          35,
          40,
          41,
          42,
          31,
          42,
          49,
          40,
          32,
          33,
          39,
          31,
          38,
          45,
          31,
          39,
          39,
          44,
          47,
          36,
          36,
          36,
          43,
          37,
          29,
          19,
          48,
          5,
          26
         ],
         "yaxis": "y12"
        },
        {
         "type": "scatter",
         "xaxis": "x16",
         "yaxis": "y16"
        }
       ],
       "layout": {
        "template": {
         "data": {
          "bar": [
           {
            "error_x": {
             "color": "#2a3f5f"
            },
            "error_y": {
             "color": "#2a3f5f"
            },
            "marker": {
             "line": {
              "color": "#E5ECF6",
              "width": 0.5
             },
             "pattern": {
              "fillmode": "overlay",
              "size": 10,
              "solidity": 0.2
             }
            },
            "type": "bar"
           }
          ],
          "barpolar": [
           {
            "marker": {
             "line": {
              "color": "#E5ECF6",
              "width": 0.5
             },
             "pattern": {
              "fillmode": "overlay",
              "size": 10,
              "solidity": 0.2
             }
            },
            "type": "barpolar"
           }
          ],
          "carpet": [
           {
            "aaxis": {
             "endlinecolor": "#2a3f5f",
             "gridcolor": "white",
             "linecolor": "white",
             "minorgridcolor": "white",
             "startlinecolor": "#2a3f5f"
            },
            "baxis": {
             "endlinecolor": "#2a3f5f",
             "gridcolor": "white",
             "linecolor": "white",
             "minorgridcolor": "white",
             "startlinecolor": "#2a3f5f"
            },
            "type": "carpet"
           }
          ],
          "choropleth": [
           {
            "colorbar": {
             "outlinewidth": 0,
             "ticks": ""
            },
            "type": "choropleth"
           }
          ],
          "contour": [
           {
            "colorbar": {
             "outlinewidth": 0,
             "ticks": ""
            },
            "colorscale": [
             [
              0,
              "#0d0887"
             ],
             [
              0.1111111111111111,
              "#46039f"
             ],
             [
              0.2222222222222222,
              "#7201a8"
             ],
             [
              0.3333333333333333,
              "#9c179e"
             ],
             [
              0.4444444444444444,
              "#bd3786"
             ],
             [
              0.5555555555555556,
              "#d8576b"
             ],
             [
              0.6666666666666666,
              "#ed7953"
             ],
             [
              0.7777777777777778,
              "#fb9f3a"
             ],
             [
              0.8888888888888888,
              "#fdca26"
             ],
             [
              1,
              "#f0f921"
             ]
            ],
            "type": "contour"
           }
          ],
          "contourcarpet": [
           {
            "colorbar": {
             "outlinewidth": 0,
             "ticks": ""
            },
            "type": "contourcarpet"
           }
          ],
          "heatmap": [
           {
            "colorbar": {
             "outlinewidth": 0,
             "ticks": ""
            },
            "colorscale": [
             [
              0,
              "#0d0887"
             ],
             [
              0.1111111111111111,
              "#46039f"
             ],
             [
              0.2222222222222222,
              "#7201a8"
             ],
             [
              0.3333333333333333,
              "#9c179e"
             ],
             [
              0.4444444444444444,
              "#bd3786"
             ],
             [
              0.5555555555555556,
              "#d8576b"
             ],
             [
              0.6666666666666666,
              "#ed7953"
             ],
             [
              0.7777777777777778,
              "#fb9f3a"
             ],
             [
              0.8888888888888888,
              "#fdca26"
             ],
             [
              1,
              "#f0f921"
             ]
            ],
            "type": "heatmap"
           }
          ],
          "heatmapgl": [
           {
            "colorbar": {
             "outlinewidth": 0,
             "ticks": ""
            },
            "colorscale": [
             [
              0,
              "#0d0887"
             ],
             [
              0.1111111111111111,
              "#46039f"
             ],
             [
              0.2222222222222222,
              "#7201a8"
             ],
             [
              0.3333333333333333,
              "#9c179e"
             ],
             [
              0.4444444444444444,
              "#bd3786"
             ],
             [
              0.5555555555555556,
              "#d8576b"
             ],
             [
              0.6666666666666666,
              "#ed7953"
             ],
             [
              0.7777777777777778,
              "#fb9f3a"
             ],
             [
              0.8888888888888888,
              "#fdca26"
             ],
             [
              1,
              "#f0f921"
             ]
            ],
            "type": "heatmapgl"
           }
          ],
          "histogram": [
           {
            "marker": {
             "pattern": {
              "fillmode": "overlay",
              "size": 10,
              "solidity": 0.2
             }
            },
            "type": "histogram"
           }
          ],
          "histogram2d": [
           {
            "colorbar": {
             "outlinewidth": 0,
             "ticks": ""
            },
            "colorscale": [
             [
              0,
              "#0d0887"
             ],
             [
              0.1111111111111111,
              "#46039f"
             ],
             [
              0.2222222222222222,
              "#7201a8"
             ],
             [
              0.3333333333333333,
              "#9c179e"
             ],
             [
              0.4444444444444444,
              "#bd3786"
             ],
             [
              0.5555555555555556,
              "#d8576b"
             ],
             [
              0.6666666666666666,
              "#ed7953"
             ],
             [
              0.7777777777777778,
              "#fb9f3a"
             ],
             [
              0.8888888888888888,
              "#fdca26"
             ],
             [
              1,
              "#f0f921"
             ]
            ],
            "type": "histogram2d"
           }
          ],
          "histogram2dcontour": [
           {
            "colorbar": {
             "outlinewidth": 0,
             "ticks": ""
            },
            "colorscale": [
             [
              0,
              "#0d0887"
             ],
             [
              0.1111111111111111,
              "#46039f"
             ],
             [
              0.2222222222222222,
              "#7201a8"
             ],
             [
              0.3333333333333333,
              "#9c179e"
             ],
             [
              0.4444444444444444,
              "#bd3786"
             ],
             [
              0.5555555555555556,
              "#d8576b"
             ],
             [
              0.6666666666666666,
              "#ed7953"
             ],
             [
              0.7777777777777778,
              "#fb9f3a"
             ],
             [
              0.8888888888888888,
              "#fdca26"
             ],
             [
              1,
              "#f0f921"
             ]
            ],
            "type": "histogram2dcontour"
           }
          ],
          "mesh3d": [
           {
            "colorbar": {
             "outlinewidth": 0,
             "ticks": ""
            },
            "type": "mesh3d"
           }
          ],
          "parcoords": [
           {
            "line": {
             "colorbar": {
              "outlinewidth": 0,
              "ticks": ""
             }
            },
            "type": "parcoords"
           }
          ],
          "pie": [
           {
            "automargin": true,
            "type": "pie"
           }
          ],
          "scatter": [
           {
            "fillpattern": {
             "fillmode": "overlay",
             "size": 10,
             "solidity": 0.2
            },
            "type": "scatter"
           }
          ],
          "scatter3d": [
           {
            "line": {
             "colorbar": {
              "outlinewidth": 0,
              "ticks": ""
             }
            },
            "marker": {
             "colorbar": {
              "outlinewidth": 0,
              "ticks": ""
             }
            },
            "type": "scatter3d"
           }
          ],
          "scattercarpet": [
           {
            "marker": {
             "colorbar": {
              "outlinewidth": 0,
              "ticks": ""
             }
            },
            "type": "scattercarpet"
           }
          ],
          "scattergeo": [
           {
            "marker": {
             "colorbar": {
              "outlinewidth": 0,
              "ticks": ""
             }
            },
            "type": "scattergeo"
           }
          ],
          "scattergl": [
           {
            "marker": {
             "colorbar": {
              "outlinewidth": 0,
              "ticks": ""
             }
            },
            "type": "scattergl"
           }
          ],
          "scattermapbox": [
           {
            "marker": {
             "colorbar": {
              "outlinewidth": 0,
              "ticks": ""
             }
            },
            "type": "scattermapbox"
           }
          ],
          "scatterpolar": [
           {
            "marker": {
             "colorbar": {
              "outlinewidth": 0,
              "ticks": ""
             }
            },
            "type": "scatterpolar"
           }
          ],
          "scatterpolargl": [
           {
            "marker": {
             "colorbar": {
              "outlinewidth": 0,
              "ticks": ""
             }
            },
            "type": "scatterpolargl"
           }
          ],
          "scatterternary": [
           {
            "marker": {
             "colorbar": {
              "outlinewidth": 0,
              "ticks": ""
             }
            },
            "type": "scatterternary"
           }
          ],
          "surface": [
           {
            "colorbar": {
             "outlinewidth": 0,
             "ticks": ""
            },
            "colorscale": [
             [
              0,
              "#0d0887"
             ],
             [
              0.1111111111111111,
              "#46039f"
             ],
             [
              0.2222222222222222,
              "#7201a8"
             ],
             [
              0.3333333333333333,
              "#9c179e"
             ],
             [
              0.4444444444444444,
              "#bd3786"
             ],
             [
              0.5555555555555556,
              "#d8576b"
             ],
             [
              0.6666666666666666,
              "#ed7953"
             ],
             [
              0.7777777777777778,
              "#fb9f3a"
             ],
             [
              0.8888888888888888,
              "#fdca26"
             ],
             [
              1,
              "#f0f921"
             ]
            ],
            "type": "surface"
           }
          ],
          "table": [
           {
            "cells": {
             "fill": {
              "color": "#EBF0F8"
             },
             "line": {
              "color": "white"
             }
            },
            "header": {
             "fill": {
              "color": "#C8D4E3"
             },
             "line": {
              "color": "white"
             }
            },
            "type": "table"
           }
          ]
         },
         "layout": {
          "annotationdefaults": {
           "arrowcolor": "#2a3f5f",
           "arrowhead": 0,
           "arrowwidth": 1
          },
          "autotypenumbers": "strict",
          "coloraxis": {
           "colorbar": {
            "outlinewidth": 0,
            "ticks": ""
           }
          },
          "colorscale": {
           "diverging": [
            [
             0,
             "#8e0152"
            ],
            [
             0.1,
             "#c51b7d"
            ],
            [
             0.2,
             "#de77ae"
            ],
            [
             0.3,
             "#f1b6da"
            ],
            [
             0.4,
             "#fde0ef"
            ],
            [
             0.5,
             "#f7f7f7"
            ],
            [
             0.6,
             "#e6f5d0"
            ],
            [
             0.7,
             "#b8e186"
            ],
            [
             0.8,
             "#7fbc41"
            ],
            [
             0.9,
             "#4d9221"
            ],
            [
             1,
             "#276419"
            ]
           ],
           "sequential": [
            [
             0,
             "#0d0887"
            ],
            [
             0.1111111111111111,
             "#46039f"
            ],
            [
             0.2222222222222222,
             "#7201a8"
            ],
            [
             0.3333333333333333,
             "#9c179e"
            ],
            [
             0.4444444444444444,
             "#bd3786"
            ],
            [
             0.5555555555555556,
             "#d8576b"
            ],
            [
             0.6666666666666666,
             "#ed7953"
            ],
            [
             0.7777777777777778,
             "#fb9f3a"
            ],
            [
             0.8888888888888888,
             "#fdca26"
            ],
            [
             1,
             "#f0f921"
            ]
           ],
           "sequentialminus": [
            [
             0,
             "#0d0887"
            ],
            [
             0.1111111111111111,
             "#46039f"
            ],
            [
             0.2222222222222222,
             "#7201a8"
            ],
            [
             0.3333333333333333,
             "#9c179e"
            ],
            [
             0.4444444444444444,
             "#bd3786"
            ],
            [
             0.5555555555555556,
             "#d8576b"
            ],
            [
             0.6666666666666666,
             "#ed7953"
            ],
            [
             0.7777777777777778,
             "#fb9f3a"
            ],
            [
             0.8888888888888888,
             "#fdca26"
            ],
            [
             1,
             "#f0f921"
            ]
           ]
          },
          "colorway": [
           "#636efa",
           "#EF553B",
           "#00cc96",
           "#ab63fa",
           "#FFA15A",
           "#19d3f3",
           "#FF6692",
           "#B6E880",
           "#FF97FF",
           "#FECB52"
          ],
          "font": {
           "color": "#2a3f5f"
          },
          "geo": {
           "bgcolor": "white",
           "lakecolor": "white",
           "landcolor": "#E5ECF6",
           "showlakes": true,
           "showland": true,
           "subunitcolor": "white"
          },
          "hoverlabel": {
           "align": "left"
          },
          "hovermode": "closest",
          "mapbox": {
           "style": "light"
          },
          "paper_bgcolor": "white",
          "plot_bgcolor": "#E5ECF6",
          "polar": {
           "angularaxis": {
            "gridcolor": "white",
            "linecolor": "white",
            "ticks": ""
           },
           "bgcolor": "#E5ECF6",
           "radialaxis": {
            "gridcolor": "white",
            "linecolor": "white",
            "ticks": ""
           }
          },
          "scene": {
           "xaxis": {
            "backgroundcolor": "#E5ECF6",
            "gridcolor": "white",
            "gridwidth": 2,
            "linecolor": "white",
            "showbackground": true,
            "ticks": "",
            "zerolinecolor": "white"
           },
           "yaxis": {
            "backgroundcolor": "#E5ECF6",
            "gridcolor": "white",
            "gridwidth": 2,
            "linecolor": "white",
            "showbackground": true,
            "ticks": "",
            "zerolinecolor": "white"
           },
           "zaxis": {
            "backgroundcolor": "#E5ECF6",
            "gridcolor": "white",
            "gridwidth": 2,
            "linecolor": "white",
            "showbackground": true,
            "ticks": "",
            "zerolinecolor": "white"
           }
          },
          "shapedefaults": {
           "line": {
            "color": "#2a3f5f"
           }
          },
          "ternary": {
           "aaxis": {
            "gridcolor": "white",
            "linecolor": "white",
            "ticks": ""
           },
           "baxis": {
            "gridcolor": "white",
            "linecolor": "white",
            "ticks": ""
           },
           "bgcolor": "#E5ECF6",
           "caxis": {
            "gridcolor": "white",
            "linecolor": "white",
            "ticks": ""
           }
          },
          "title": {
           "x": 0.05
          },
          "xaxis": {
           "automargin": true,
           "gridcolor": "white",
           "linecolor": "white",
           "ticks": "",
           "title": {
            "standoff": 15
           },
           "zerolinecolor": "white",
           "zerolinewidth": 2
          },
          "yaxis": {
           "automargin": true,
           "gridcolor": "white",
           "linecolor": "white",
           "ticks": "",
           "title": {
            "standoff": 15
           },
           "zerolinecolor": "white",
           "zerolinewidth": 2
          }
         }
        },
        "title": {
         "text": "Contour Plot"
        },
        "xaxis": {
         "anchor": "y",
         "domain": [
          0,
          0.2125
         ],
         "matches": "x13",
         "range": [
          -0.40000000000000036,
          52.4
         ],
         "showticklabels": false
        },
        "xaxis10": {
         "anchor": "y10",
         "domain": [
          0.2625,
          0.475
         ],
         "matches": "x14",
         "range": [
          1.85,
          5.15
         ],
         "showticklabels": false
        },
        "xaxis11": {
         "anchor": "y11",
         "domain": [
          0.525,
          0.7375
         ],
         "matches": "x15",
         "range": [
          -0.40000000000000036,
          52.4
         ],
         "showticklabels": false
        },
        "xaxis12": {
         "anchor": "y12",
         "domain": [
          0.7875,
          1
         ],
         "matches": "x16",
         "range": [
          13,
          167
         ],
         "showticklabels": false
        },
        "xaxis13": {
         "anchor": "y13",
         "domain": [
          0,
          0.2125
         ],
         "range": [
          -0.40000000000000036,
          52.4
         ],
         "title": {
          "text": "max_depth"
         }
        },
        "xaxis14": {
         "anchor": "y14",
         "domain": [
          0.2625,
          0.475
         ],
         "range": [
          1.85,
          5.15
         ],
         "title": {
          "text": "max_features"
         }
        },
        "xaxis15": {
         "anchor": "y15",
         "domain": [
          0.525,
          0.7375
         ],
         "range": [
          -0.40000000000000036,
          52.4
         ],
         "title": {
          "text": "min_samples_split"
         }
        },
        "xaxis16": {
         "anchor": "y16",
         "domain": [
          0.7875,
          1
         ],
         "range": [
          13,
          167
         ],
         "title": {
          "text": "n_estimators"
         }
        },
        "xaxis2": {
         "anchor": "y2",
         "domain": [
          0.2625,
          0.475
         ],
         "matches": "x14",
         "range": [
          1.85,
          5.15
         ],
         "showticklabels": false
        },
        "xaxis3": {
         "anchor": "y3",
         "domain": [
          0.525,
          0.7375
         ],
         "matches": "x15",
         "range": [
          -0.40000000000000036,
          52.4
         ],
         "showticklabels": false
        },
        "xaxis4": {
         "anchor": "y4",
         "domain": [
          0.7875,
          1
         ],
         "matches": "x16",
         "range": [
          13,
          167
         ],
         "showticklabels": false
        },
        "xaxis5": {
         "anchor": "y5",
         "domain": [
          0,
          0.2125
         ],
         "matches": "x13",
         "range": [
          -0.40000000000000036,
          52.4
         ],
         "showticklabels": false
        },
        "xaxis6": {
         "anchor": "y6",
         "domain": [
          0.2625,
          0.475
         ],
         "matches": "x14",
         "range": [
          1.85,
          5.15
         ],
         "showticklabels": false
        },
        "xaxis7": {
         "anchor": "y7",
         "domain": [
          0.525,
          0.7375
         ],
         "matches": "x15",
         "range": [
          -0.40000000000000036,
          52.4
         ],
         "showticklabels": false
        },
        "xaxis8": {
         "anchor": "y8",
         "domain": [
          0.7875,
          1
         ],
         "matches": "x16",
         "range": [
          13,
          167
         ],
         "showticklabels": false
        },
        "xaxis9": {
         "anchor": "y9",
         "domain": [
          0,
          0.2125
         ],
         "matches": "x13",
         "range": [
          -0.40000000000000036,
          52.4
         ],
         "showticklabels": false
        },
        "yaxis": {
         "anchor": "x",
         "domain": [
          0.80625,
          1
         ],
         "range": [
          -0.40000000000000036,
          52.4
         ],
         "title": {
          "text": "max_depth"
         }
        },
        "yaxis10": {
         "anchor": "x10",
         "domain": [
          0.26875,
          0.4625
         ],
         "matches": "y9",
         "range": [
          -0.40000000000000036,
          52.4
         ],
         "showticklabels": false
        },
        "yaxis11": {
         "anchor": "x11",
         "domain": [
          0.26875,
          0.4625
         ],
         "matches": "y9",
         "range": [
          -0.40000000000000036,
          52.4
         ],
         "showticklabels": false
        },
        "yaxis12": {
         "anchor": "x12",
         "domain": [
          0.26875,
          0.4625
         ],
         "matches": "y9",
         "range": [
          -0.40000000000000036,
          52.4
         ],
         "showticklabels": false
        },
        "yaxis13": {
         "anchor": "x13",
         "domain": [
          0,
          0.19375
         ],
         "range": [
          13,
          167
         ],
         "title": {
          "text": "n_estimators"
         }
        },
        "yaxis14": {
         "anchor": "x14",
         "domain": [
          0,
          0.19375
         ],
         "matches": "y13",
         "range": [
          13,
          167
         ],
         "showticklabels": false
        },
        "yaxis15": {
         "anchor": "x15",
         "domain": [
          0,
          0.19375
         ],
         "matches": "y13",
         "range": [
          13,
          167
         ],
         "showticklabels": false
        },
        "yaxis16": {
         "anchor": "x16",
         "domain": [
          0,
          0.19375
         ],
         "matches": "y13",
         "range": [
          13,
          167
         ],
         "showticklabels": false
        },
        "yaxis2": {
         "anchor": "x2",
         "domain": [
          0.80625,
          1
         ],
         "matches": "y",
         "range": [
          -0.40000000000000036,
          52.4
         ],
         "showticklabels": false
        },
        "yaxis3": {
         "anchor": "x3",
         "domain": [
          0.80625,
          1
         ],
         "matches": "y",
         "range": [
          -0.40000000000000036,
          52.4
         ],
         "showticklabels": false
        },
        "yaxis4": {
         "anchor": "x4",
         "domain": [
          0.80625,
          1
         ],
         "matches": "y",
         "range": [
          -0.40000000000000036,
          52.4
         ],
         "showticklabels": false
        },
        "yaxis5": {
         "anchor": "x5",
         "domain": [
          0.5375,
          0.73125
         ],
         "range": [
          1.85,
          5.15
         ],
         "title": {
          "text": "max_features"
         }
        },
        "yaxis6": {
         "anchor": "x6",
         "domain": [
          0.5375,
          0.73125
         ],
         "matches": "y5",
         "range": [
          1.85,
          5.15
         ],
         "showticklabels": false
        },
        "yaxis7": {
         "anchor": "x7",
         "domain": [
          0.5375,
          0.73125
         ],
         "matches": "y5",
         "range": [
          1.85,
          5.15
         ],
         "showticklabels": false
        },
        "yaxis8": {
         "anchor": "x8",
         "domain": [
          0.5375,
          0.73125
         ],
         "matches": "y5",
         "range": [
          1.85,
          5.15
         ],
         "showticklabels": false
        },
        "yaxis9": {
         "anchor": "x9",
         "domain": [
          0.26875,
          0.4625
         ],
         "range": [
          -0.40000000000000036,
          52.4
         ],
         "title": {
          "text": "min_samples_split"
         }
        }
       }
      }
     },
     "metadata": {},
     "output_type": "display_data"
    },
    {
     "name": "stdout",
     "output_type": "stream",
     "text": [
      "\n",
      "The best hyperparameters for RF Regressor: {'n_estimators': 60, 'max_depth': 12, 'min_samples_split': 36, 'max_features': 3}\n",
      "\n",
      "MAE of the best Random Forest Regressor: Training data 195.694\n",
      "MAE of the best Random Forest Regressor: Test data 267.367\n"
     ]
    },
    {
     "data": {
      "image/png": "[encoded data removed]",
      "text/plain": [
       "<Figure size 640x480 with 1 Axes>"
      ]
     },
     "metadata": {},
     "output_type": "display_data"
    }
   ],
   "source": [
    "\"\"\" \n",
    "A smaller value of n_trials can be used to run the code faster\n",
    "\n",
    "best_model: the untrained RF model with best hyperparameters\n",
    "final_trained_model_train_data: the best RF model trained on a \"training\" dataset (85% of the sample)\n",
    "final_trained_model_full_data: the best RF model trained on the full sample!\n",
    "\"\"\"\n",
    "best_model, final_trained_model_train_data, final_trained_model_full_data = RF_training_with_display(X,y, test_size = 0.15, n_trials = 50, display = True)"
   ]
  },
  {
   "cell_type": "code",
   "execution_count": null,
   "metadata": {},
   "outputs": [],
   "source": [
    "results = modified_learning_curve(X_train, y_train, X_test, y_test, model, N, CV=5, display=False, figure=True)"
   ]
  },
  {
   "cell_type": "markdown",
   "metadata": {},
   "source": [
    "### While the training process involves cross-validation, in the figures below, I show how the process is done on a single example.\n",
    "\n",
    "- Splitting sample into training and testing sets\n",
    "- Training the model using the \"best\" hyperparameters taken from the output of the previous function.\n",
    "- Showing the original M-R and the predicted M-R diagrams"
   ]
  },
  {
   "cell_type": "code",
   "execution_count": 24,
   "metadata": {},
   "outputs": [
    {
     "name": "stdout",
     "output_type": "stream",
     "text": [
      "Sizes of the samples:\n",
      "Train = 663, Test = 118\n"
     ]
    },
    {
     "data": {
      "text/plain": [
       "Text(0.5, 1.0, 'Training and Test data sets')"
      ]
     },
     "execution_count": 24,
     "metadata": {},
     "output_type": "execute_result"
    },
    {
     "data": {
      "image/png": "[encoded data removed]",
      "text/plain": [
       "<Figure size 1000x700 with 1 Axes>"
      ]
     },
     "metadata": {},
     "output_type": "display_data"
    }
   ],
   "source": [
    "X_train, X_test, y_train, y_test = train_test_split(X, y, test_size=0.15)\n",
    "\n",
    "print (f'Sizes of the samples:\\nTrain = {len(X_train)}, Test = {len(X_test)}')\n",
    "\n",
    "fig = plt.figure(figsize = (10,7))\n",
    "ax = plt.subplot(1,1,1)\n",
    "best_model.fit(X_train, y_train)\n",
    "MR_plot(ax, y_train, X_train.pl_rade, color = 'gray', label = 'Train', xscale = 'log', yscale = 'log')\n",
    "MR_plot(ax, y_test, X_test.pl_rade, color = 'black', label = 'Test', xscale = 'log', yscale = 'log')\n",
    "plt.legend(loc = 'best')\n",
    "plt.title('Training and Test data sets', fontsize = 15)"
   ]
  },
  {
   "cell_type": "code",
   "execution_count": 25,
   "metadata": {},
   "outputs": [
    {
     "data": {
      "text/plain": [
       "Text(0.5, 1.0, 'M-R diagram for the original and predicted  TEST data set')"
      ]
     },
     "execution_count": 25,
     "metadata": {},
     "output_type": "execute_result"
    },
    {
     "data": {
      "image/png": "[encoded data removed]",
      "text/plain": [
       "<Figure size 1000x700 with 1 Axes>"
      ]
     },
     "metadata": {},
     "output_type": "display_data"
    }
   ],
   "source": [
    "fig = plt.figure(figsize = (10,7))\n",
    "ax = plt.subplot(1,1,1)\n",
    "best_model.fit(X_train, y_train)\n",
    "M_predict_test = best_model.predict(X_test)\n",
    "MR_plot(ax, y_test, X_test.pl_rade, color = 'gray', label = 'Observed', xscale = 'log', yscale = 'log')\n",
    "MR_plot(ax, M_predict_test, X_test.pl_rade, color = 'black', label = 'predicted', xscale = 'log', yscale = 'log')\n",
    "plt.legend(loc = 'best')\n",
    "\n",
    "plt.title('M-R diagram for the original and predicted  TEST data set', fontsize = 15)\n"
   ]
  },
  {
   "cell_type": "markdown",
   "metadata": {},
   "source": [
    "### After training the model, it is time to predict Masses of planets without mass estimated"
   ]
  },
  {
   "cell_type": "code",
   "execution_count": 26,
   "metadata": {},
   "outputs": [
    {
     "name": "stderr",
     "output_type": "stream",
     "text": [
      "c:\\Users\\adbva\\OneDrive\\codes_for_presentations\\exoplanet_visualization\\ExoPLots\\mr_utils.py:314: SettingWithCopyWarning:\n",
      "\n",
      "\n",
      "A value is trying to be set on a copy of a slice from a DataFrame.\n",
      "Try using .loc[row_indexer,col_indexer] = value instead\n",
      "\n",
      "See the caveats in the documentation: https://pandas.pydata.org/pandas-docs/stable/user_guide/indexing.html#returning-a-view-versus-a-copy\n",
      "\n"
     ]
    }
   ],
   "source": [
    "# Selects planets without masses, but with relatively high precision (relative precision better than 50%) in R\n",
    "nea_R_final_table = creating_R_ML_table(nea_full_table)"
   ]
  },
  {
   "cell_type": "markdown",
   "metadata": {},
   "source": [
    "### Predicting M from R and other relevant parameters. Displaying the M-R diagram"
   ]
  },
  {
   "cell_type": "code",
   "execution_count": 27,
   "metadata": {},
   "outputs": [
    {
     "data": {
      "text/plain": [
       "<matplotlib.legend.Legend at 0x1ec39a21d50>"
      ]
     },
     "execution_count": 27,
     "metadata": {},
     "output_type": "execute_result"
    },
    {
     "data": {
      "image/png": "[encoded data removed]",
      "text/plain": [
       "<Figure size 1000x700 with 1 Axes>"
      ]
     },
     "metadata": {},
     "output_type": "display_data"
    }
   ],
   "source": [
    "M_pred = final_trained_model_full_data.predict(nea_R_final_table)\n",
    "\n",
    "fig = plt.figure(figsize = (10,7))\n",
    "ax = plt.subplot(1,1, 1)\n",
    "MR_plot(ax, nea_MR_final_table.pl_bmasse, nea_MR_final_table.pl_rade, color = 'gray', label = 'Observed')\n",
    "MR_plot(ax, M_pred, nea_R_final_table.pl_rade, color = 'black', label ='Predicted', xscale = 'log', yscale = 'log')\n",
    "plt.legend(loc = 'best')\n"
   ]
  },
  {
   "cell_type": "code",
   "execution_count": 28,
   "metadata": {},
   "outputs": [
    {
     "data": {
      "text/plain": [
       "162.0933"
      ]
     },
     "execution_count": 28,
     "metadata": {},
     "output_type": "execute_result"
    }
   ],
   "source": [
    "nea_MR_final_table['pl_bmasse'].median()"
   ]
  },
  {
   "cell_type": "markdown",
   "metadata": {},
   "source": [
    "# Training on logarithmic Mass\n",
    "\n",
    "The masses of planets range from 0.07 to 6388 Mearth, with a mean and median values of ~340 and 160 MEarth. The skewed and bimodal distribution of the masses seems to lead to overestimation of the prediced masses and some 'strange' patterns (this might be also due to overfitting?). Better to train the model on log Masses."
   ]
  },
  {
   "cell_type": "code",
   "execution_count": 29,
   "metadata": {},
   "outputs": [],
   "source": [
    "nea_logMR_final_table = nea_MR_final_table.copy()\n",
    "\n",
    "nea_logMR_final_table['pl_bmasse_log'] = np.log10(nea_logMR_final_table['pl_bmasse'])\n",
    "\n",
    "y_log = nea_logMR_final_table['pl_bmasse_log']\n",
    "X_log = nea_logMR_final_table.drop(columns = ['pl_bmasse', 'pl_bmasse_log'])"
   ]
  },
  {
   "cell_type": "code",
   "execution_count": 30,
   "metadata": {},
   "outputs": [
    {
     "name": "stderr",
     "output_type": "stream",
     "text": [
      "[I 2023-07-24 21:56:07,480] A new study created in memory with name: no-name-6da5fa4b-3631-40d3-899e-adb02afa80f6\n"
     ]
    },
    {
     "name": "stdout",
     "output_type": "stream",
     "text": [
      "The base MAE score from the training set is 0\n"
     ]
    },
    {
     "name": "stderr",
     "output_type": "stream",
     "text": [
      "[I 2023-07-24 21:56:10,004] Trial 0 finished with value: 0.2318682726090632 and parameters: {'n_estimators': 120, 'max_depth': 37, 'min_samples_split': 43, 'max_features': 4}. Best is trial 0 with value: 0.2318682726090632.\n",
      "[I 2023-07-24 21:56:12,778] Trial 1 finished with value: 0.22945964500120883 and parameters: {'n_estimators': 120, 'max_depth': 5, 'min_samples_split': 16, 'max_features': 4}. Best is trial 1 with value: 0.22945964500120883.\n",
      "[I 2023-07-24 21:56:13,934] Trial 2 finished with value: 0.2220137103291079 and parameters: {'n_estimators': 20, 'max_depth': 39, 'min_samples_split': 2, 'max_features': 4}. Best is trial 2 with value: 0.2220137103291079.\n",
      "[I 2023-07-24 21:56:16,954] Trial 3 finished with value: 0.22598261982671414 and parameters: {'n_estimators': 100, 'max_depth': 41, 'min_samples_split': 31, 'max_features': 4}. Best is trial 2 with value: 0.2220137103291079.\n",
      "[I 2023-07-24 21:56:18,541] Trial 4 finished with value: 0.24392939209605227 and parameters: {'n_estimators': 80, 'max_depth': 8, 'min_samples_split': 21, 'max_features': 2}. Best is trial 2 with value: 0.2220137103291079.\n",
      "[I 2023-07-24 21:56:23,114] Trial 5 finished with value: 0.22706177620896667 and parameters: {'n_estimators': 160, 'max_depth': 8, 'min_samples_split': 40, 'max_features': 5}. Best is trial 2 with value: 0.2220137103291079.\n",
      "[I 2023-07-24 21:56:25,061] Trial 6 finished with value: 0.33230895889572487 and parameters: {'n_estimators': 120, 'max_depth': 2, 'min_samples_split': 10, 'max_features': 2}. Best is trial 2 with value: 0.2220137103291079.\n",
      "[I 2023-07-24 21:56:26,019] Trial 7 finished with value: 0.2457297430049877 and parameters: {'n_estimators': 60, 'max_depth': 48, 'min_samples_split': 48, 'max_features': 3}. Best is trial 2 with value: 0.2220137103291079.\n",
      "[I 2023-07-24 21:56:28,868] Trial 8 finished with value: 0.22818823675871572 and parameters: {'n_estimators': 120, 'max_depth': 32, 'min_samples_split': 12, 'max_features': 2}. Best is trial 2 with value: 0.2220137103291079.\n",
      "[I 2023-07-24 21:56:30,986] Trial 9 finished with value: 0.25736523253706695 and parameters: {'n_estimators': 120, 'max_depth': 23, 'min_samples_split': 43, 'max_features': 2}. Best is trial 2 with value: 0.2220137103291079.\n",
      "[I 2023-07-24 21:56:31,850] Trial 10 finished with value: 0.23028551525002233 and parameters: {'n_estimators': 20, 'max_depth': 22, 'min_samples_split': 4, 'max_features': 5}. Best is trial 2 with value: 0.2220137103291079.\n",
      "[I 2023-07-24 21:56:32,542] Trial 11 finished with value: 0.22510753426615732 and parameters: {'n_estimators': 20, 'max_depth': 47, 'min_samples_split': 33, 'max_features': 4}. Best is trial 2 with value: 0.2220137103291079.\n",
      "[I 2023-07-24 21:56:32,840] Trial 12 finished with value: 0.23166944834104014 and parameters: {'n_estimators': 20, 'max_depth': 50, 'min_samples_split': 30, 'max_features': 3}. Best is trial 2 with value: 0.2220137103291079.\n",
      "[I 2023-07-24 21:56:33,923] Trial 13 finished with value: 0.2242581627712638 and parameters: {'n_estimators': 40, 'max_depth': 42, 'min_samples_split': 24, 'max_features': 4}. Best is trial 2 with value: 0.2220137103291079.\n",
      "[I 2023-07-24 21:56:36,309] Trial 14 finished with value: 0.22270889715692901 and parameters: {'n_estimators': 60, 'max_depth': 31, 'min_samples_split': 2, 'max_features': 5}. Best is trial 2 with value: 0.2220137103291079.\n",
      "[I 2023-07-24 21:56:39,419] Trial 15 finished with value: 0.22270889715692901 and parameters: {'n_estimators': 60, 'max_depth': 29, 'min_samples_split': 2, 'max_features': 5}. Best is trial 2 with value: 0.2220137103291079.\n",
      "[I 2023-07-24 21:56:44,243] Trial 16 finished with value: 0.22263914964240214 and parameters: {'n_estimators': 60, 'max_depth': 16, 'min_samples_split': 8, 'max_features': 5}. Best is trial 2 with value: 0.2220137103291079.\n",
      "[I 2023-07-24 21:56:47,622] Trial 17 finished with value: 0.21783740576375504 and parameters: {'n_estimators': 40, 'max_depth': 17, 'min_samples_split': 9, 'max_features': 3}. Best is trial 17 with value: 0.21783740576375504.\n",
      "[I 2023-07-24 21:56:49,901] Trial 18 finished with value: 0.22442338704708611 and parameters: {'n_estimators': 40, 'max_depth': 16, 'min_samples_split': 17, 'max_features': 3}. Best is trial 17 with value: 0.21783740576375504.\n",
      "[I 2023-07-24 21:56:52,713] Trial 19 finished with value: 0.21634133006328696 and parameters: {'n_estimators': 40, 'max_depth': 16, 'min_samples_split': 7, 'max_features': 3}. Best is trial 19 with value: 0.21634133006328696.\n",
      "[I 2023-07-24 21:56:55,638] Trial 20 finished with value: 0.22442338704708611 and parameters: {'n_estimators': 40, 'max_depth': 16, 'min_samples_split': 17, 'max_features': 3}. Best is trial 19 with value: 0.21634133006328696.\n",
      "[I 2023-07-24 21:56:57,885] Trial 21 finished with value: 0.21602675555227532 and parameters: {'n_estimators': 40, 'max_depth': 20, 'min_samples_split': 7, 'max_features': 3}. Best is trial 21 with value: 0.21602675555227532.\n",
      "[I 2023-07-24 21:57:00,380] Trial 22 finished with value: 0.2175361492150852 and parameters: {'n_estimators': 80, 'max_depth': 12, 'min_samples_split': 8, 'max_features': 3}. Best is trial 21 with value: 0.21602675555227532.\n",
      "[I 2023-07-24 21:57:02,475] Trial 23 finished with value: 0.21957910219692894 and parameters: {'n_estimators': 80, 'max_depth': 11, 'min_samples_split': 13, 'max_features': 3}. Best is trial 21 with value: 0.21602675555227532.\n",
      "[I 2023-07-24 21:57:04,448] Trial 24 finished with value: 0.21665011312431673 and parameters: {'n_estimators': 80, 'max_depth': 22, 'min_samples_split': 7, 'max_features': 3}. Best is trial 21 with value: 0.21602675555227532.\n",
      "[I 2023-07-24 21:57:07,316] Trial 25 finished with value: 0.21774057871623892 and parameters: {'n_estimators': 100, 'max_depth': 22, 'min_samples_split': 6, 'max_features': 3}. Best is trial 21 with value: 0.21602675555227532.\n",
      "[I 2023-07-24 21:57:08,358] Trial 26 finished with value: 0.2406713566510806 and parameters: {'n_estimators': 40, 'max_depth': 20, 'min_samples_split': 22, 'max_features': 2}. Best is trial 21 with value: 0.21602675555227532.\n",
      "[I 2023-07-24 21:57:10,158] Trial 27 finished with value: 0.22042876614175796 and parameters: {'n_estimators': 60, 'max_depth': 25, 'min_samples_split': 14, 'max_features': 3}. Best is trial 21 with value: 0.21602675555227532.\n",
      "[I 2023-07-24 21:57:14,138] Trial 28 finished with value: 0.21660158791386924 and parameters: {'n_estimators': 140, 'max_depth': 27, 'min_samples_split': 6, 'max_features': 3}. Best is trial 21 with value: 0.21602675555227532.\n",
      "[I 2023-07-24 21:57:17,609] Trial 29 finished with value: 0.2421228815418485 and parameters: {'n_estimators': 160, 'max_depth': 35, 'min_samples_split': 27, 'max_features': 2}. Best is trial 21 with value: 0.21602675555227532.\n"
     ]
    },
    {
     "name": "stdout",
     "output_type": "stream",
     "text": [
      "\n",
      "The best hyperparameters for RF Regressor: {'n_estimators': 40, 'max_depth': 20, 'min_samples_split': 7, 'max_features': 3}\n",
      "\n",
      "MAE of the best Random Forest Regressor: Training data 0.118\n",
      "MAE of the best Random Forest Regressor: Test data 0.253\n"
     ]
    },
    {
     "data": {
      "image/png": "[encoded data removed]",
      "text/plain": [
       "<Figure size 640x480 with 1 Axes>"
      ]
     },
     "metadata": {},
     "output_type": "display_data"
    }
   ],
   "source": [
    "# A smaller value of n_trials can be used to run the code faster\n",
    "best_model_log, final_model_train_data_log, final_model_full_data_log = RF_training_with_display(X_log,y_log, test_size = 0.15, n_trials = 30)"
   ]
  },
  {
   "cell_type": "markdown",
   "metadata": {},
   "source": [
    "### Displaying predicted masses based on the model that was trained on log(M)"
   ]
  },
  {
   "cell_type": "code",
   "execution_count": 31,
   "metadata": {},
   "outputs": [
    {
     "data": {
      "text/plain": [
       "<matplotlib.legend.Legend at 0x1ec3ad4ac50>"
      ]
     },
     "execution_count": 31,
     "metadata": {},
     "output_type": "execute_result"
    },
    {
     "data": {
      "image/png": "[encoded data removed]",
      "text/plain": [
       "<Figure size 1000x700 with 1 Axes>"
      ]
     },
     "metadata": {},
     "output_type": "display_data"
    }
   ],
   "source": [
    "M_predict = np.power(10,final_model_train_data_log.predict(nea_R_final_table))\n",
    "\n",
    "fig = plt.figure(figsize = (10,7))\n",
    "ax = plt.subplot(1,1, 1)\n",
    "MR_plot(ax, nea_MR_final_table.pl_bmasse, nea_MR_final_table.pl_rade, color = 'gray', label = 'Observed')\n",
    "MR_plot(ax, M_predict, nea_R_final_table.pl_rade, color = 'black', xscale = 'log', yscale = 'log', label = 'Predicted')\n",
    "plt.legend(loc = 'best')\n"
   ]
  },
  {
   "cell_type": "markdown",
   "metadata": {},
   "source": [
    "### Overall, the distributions seem to be comparable"
   ]
  },
  {
   "cell_type": "markdown",
   "metadata": {},
   "source": [
    "# The final code \"mr_pl.py\"\n",
    "\n",
    "This is the code that one can run to predict masses from R"
   ]
  },
  {
   "cell_type": "code",
   "execution_count": 32,
   "metadata": {},
   "outputs": [
    {
     "name": "stderr",
     "output_type": "stream",
     "text": [
      "C:\\Users\\adbva\\AppData\\Local\\Packages\\PythonSoftwareFoundation.Python.3.10_qbz5n2kfra8p0\\LocalCache\\local-packages\\Python310\\site-packages\\sklearn\\base.py:318: UserWarning:\n",
      "\n",
      "Trying to unpickle estimator DecisionTreeRegressor from version 1.1.1 when using version 1.2.2. This might lead to breaking code or invalid results. Use at your own risk. For more info please refer to:\n",
      "https://scikit-learn.org/stable/model_persistence.html#security-maintainability-limitations\n",
      "\n",
      "C:\\Users\\adbva\\AppData\\Local\\Packages\\PythonSoftwareFoundation.Python.3.10_qbz5n2kfra8p0\\LocalCache\\local-packages\\Python310\\site-packages\\sklearn\\base.py:318: UserWarning:\n",
      "\n",
      "Trying to unpickle estimator RandomForestRegressor from version 1.1.1 when using version 1.2.2. This might lead to breaking code or invalid results. Use at your own risk. For more info please refer to:\n",
      "https://scikit-learn.org/stable/model_persistence.html#security-maintainability-limitations\n",
      "\n"
     ]
    },
    {
     "data": {
      "text/plain": [
       "<matplotlib.legend.Legend at 0x1ec3ae909a0>"
      ]
     },
     "execution_count": 32,
     "metadata": {},
     "output_type": "execute_result"
    },
    {
     "data": {
      "image/png": "[encoded data removed]",
      "text/plain": [
       "<Figure size 1000x700 with 1 Axes>"
      ]
     },
     "metadata": {},
     "output_type": "display_data"
    }
   ],
   "source": [
    "M_pred = mass_from_radius(nea_R_final_table, training = False)\n",
    "fig = plt.figure(figsize = (10,7))\n",
    "ax = plt.subplot(1,1, 1)\n",
    "MR_plot(ax, nea_MR_final_table.pl_bmasse, nea_MR_final_table.pl_rade, color = 'gray', label = 'Observed')\n",
    "MR_plot(ax, M_pred, nea_R_final_table.pl_rade, color = 'black', xscale = 'log', yscale = 'log', label = 'Predicted')\n",
    "plt.legend(loc = 'best')"
   ]
  }
 ],
 "metadata": {
  "kernelspec": {
   "display_name": "Python 3",
   "language": "python",
   "name": "python3"
  },
  "language_info": {
   "codemirror_mode": {
    "name": "ipython",
    "version": 3
   },
   "file_extension": ".py",
   "mimetype": "text/x-python",
   "name": "python",
   "nbconvert_exporter": "python",
   "pygments_lexer": "ipython3",
   "version": "3.10.11"
  },
  "orig_nbformat": 4
 },
 "nbformat": 4,
 "nbformat_minor": 2
}
